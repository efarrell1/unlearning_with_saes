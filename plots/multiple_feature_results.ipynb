{
 "cells": [
  {
   "cell_type": "code",
   "execution_count": 1,
   "metadata": {},
   "outputs": [],
   "source": [
    "%load_ext autoreload\n",
    "%autoreload 2\n",
    "\n",
    "import sys\n",
    "sys.path.append(\"../\")\n",
    "\n",
    "import torch\n",
    "import random\n",
    "\n",
    "from sae.sparse_autoencoder import load_saved_sae\n",
    "from sae.metrics import model_store_from_sae\n",
    "from unlearning.metrics import convert_wmdp_data_to_prompt, convert_list_of_dicts_to_dict_of_lists\n",
    "from unlearning.tool import UnlearningConfig, SAEUnlearningTool, MCQ_ActivationStoreAnalysis, ActivationStoreAnalysis\n",
    "from unlearning.metrics import modify_and_calculate_metrics, calculate_metrics_list, create_df_from_metrics\n",
    "from unlearning.feature_attribution import calculate_cache\n",
    "\n",
    "from huggingface_hub import hf_hub_download\n",
    "from datasets import load_dataset\n",
    "import numpy as np\n",
    "import pandas as pd\n",
    "import itertools\n",
    "from transformer_lens import utils\n",
    "\n",
    "from jaxtyping import Float\n",
    "from torch import Tensor\n",
    "\n",
    "import einops\n",
    "\n",
    "from pathlib import Path\n",
    "\n",
    "import plotly.express as px\n",
    "from unlearning.var import REPO_ID, SAE_MAPPING\n",
    "import pickle\n",
    "\n",
    "from unlearning.metrics import all_permutations\n",
    "\n",
    "from unlearning.metrics import calculate_metrics_side_effects\n",
    "from unlearning.feature_attribution import find_topk_features_given_prompt, test_topk_features\n"
   ]
  },
  {
   "cell_type": "code",
   "execution_count": 2,
   "metadata": {},
   "outputs": [
    {
     "name": "stderr",
     "output_type": "stream",
     "text": [
      "/usr/local/lib/python3.11/dist-packages/huggingface_hub/file_download.py:1132: FutureWarning: `resume_download` is deprecated and will be removed in version 1.0.0. Downloads always resume when possible. If you want to force a new download, use `force_download=True`.\n",
      "  warnings.warn(\n",
      "Gemma's activation function should be approximate GeLU and not exact GeLU.\n",
      "Changing the activation function to `gelu_pytorch_tanh`.if you want to use the legacy `gelu`, edit the `model.config` to set `hidden_activation=gelu`   instead of `hidden_act`. See https://github.com/huggingface/transformers/pull/29402 for more details.\n"
     ]
    },
    {
     "data": {
      "application/vnd.jupyter.widget-view+json": {
       "model_id": "6cd51e9e20314e0dacbea9acd90b3eff",
       "version_major": 2,
       "version_minor": 0
      },
      "text/plain": [
       "Loading checkpoint shards:   0%|          | 0/2 [00:00<?, ?it/s]"
      ]
     },
     "metadata": {},
     "output_type": "display_data"
    },
    {
     "name": "stderr",
     "output_type": "stream",
     "text": [
      "WARNING:root:You are not using LayerNorm, so the writing weights can't be centered! Skipping\n"
     ]
    },
    {
     "name": "stdout",
     "output_type": "stream",
     "text": [
      "Loaded pretrained model gemma-2b-it into HookedTransformer\n",
      "Moving model to device:  cuda\n"
     ]
    }
   ],
   "source": [
    "# Load main SAE for gemma-2b-it\n",
    "filename = hf_hub_download(repo_id=REPO_ID, filename=SAE_MAPPING['gemma_2b_it_resid_pre_9'])\n",
    "sae = load_saved_sae(filename)\n",
    "model = model_store_from_sae(sae)"
   ]
  },
  {
   "cell_type": "code",
   "execution_count": 3,
   "metadata": {},
   "outputs": [],
   "source": [
    "# pass in the dataset as an argument so no need to load in everytime\n",
    "dataset = load_dataset(\"cais/wmdp\", \"wmdp-bio\", split='test')\n",
    "\n",
    "answers = [x['answer'] for x in dataset]\n",
    "questions = [x['question'] for x in dataset]\n",
    "choices_list = [x['choices'] for x in dataset]\n",
    "\n",
    "prompts = [convert_wmdp_data_to_prompt(question, choices, prompt_format=None)\n",
    "           for question, choices in zip(questions, choices_list)]\n"
   ]
  },
  {
   "cell_type": "code",
   "execution_count": 4,
   "metadata": {},
   "outputs": [],
   "source": [
    "# Hyper parameters for automation process\n",
    "question_ids_correct = np.genfromtxt(\"../data/question_ids/gemma-2b-it/all/wmdp-bio_correct.csv\", dtype=int)\n",
    "questions_ids_correct_train = np.genfromtxt(\"../data/question_ids/gemma-2b-it/train/wmdp-bio_correct.csv\", dtype=int)\n",
    "topk_per_prompt = 20\n",
    "\n",
    "unlearning_dataset = ['wmdp-bio']\n",
    "side_effect_dataset_names =  ['high_school_us_history', 'college_computer_science', 'high_school_geography', 'human_aging', 'college_biology']\n",
    "all_dataset_names = ['loss_added', 'wmdp-bio', 'high_school_us_history', 'college_computer_science', 'high_school_geography', 'human_aging', 'college_biology']\n"
   ]
  },
  {
   "cell_type": "code",
   "execution_count": null,
   "metadata": {},
   "outputs": [],
   "source": []
  },
  {
   "cell_type": "code",
   "execution_count": 5,
   "metadata": {},
   "outputs": [],
   "source": [
    "feature_ids_zero_side_effect_sorted = np.genfromtxt(\"../eoin_notebooks/feature_ids_zero_side_effect_sorted_gemma1_2b_all.csv\")"
   ]
  },
  {
   "cell_type": "code",
   "execution_count": null,
   "metadata": {},
   "outputs": [],
   "source": []
  },
  {
   "cell_type": "code",
   "execution_count": 7,
   "metadata": {},
   "outputs": [],
   "source": [
    "import matplotlib as mpl\n",
    "from cycler import cycler\n",
    "\n",
    "mpl.rcParams['lines.linewidth'] = 1\n",
    "mpl.rcParams['lines.markersize'] = 1.4\n",
    "\n",
    "mpl.rcParams['xtick.top'] = True\n",
    "mpl.rcParams['xtick.direction'] = 'in'\n",
    "mpl.rcParams['xtick.minor.visible'] = True\n",
    "mpl.rcParams['xtick.major.width'] = 0.4\n",
    "mpl.rcParams['xtick.minor.width'] = 0.4\n",
    "mpl.rcParams['xtick.major.size'] = 4\n",
    "mpl.rcParams['xtick.minor.size'] = 2\n",
    "\n",
    "mpl.rcParams['ytick.right'] = True\n",
    "mpl.rcParams['ytick.direction'] = 'in'\n",
    "mpl.rcParams['ytick.minor.visible'] = True\n",
    "mpl.rcParams['ytick.major.width'] = 0.4\n",
    "mpl.rcParams['ytick.minor.width'] = 0.4\n",
    "mpl.rcParams['ytick.major.size'] = 4\n",
    "mpl.rcParams['ytick.minor.size'] = 2\n",
    "\n",
    "mpl.rcParams['xtick.labelsize'] = 10\n",
    "mpl.rcParams['ytick.labelsize'] = 10\n",
    "\n",
    "mpl.rcParams['axes.titlesize'] = 10\n",
    "mpl.rcParams['axes.labelsize'] = 10\n",
    "\n",
    "\n",
    "mpl.rcParams['legend.frameon'] = False\n",
    "mpl.rcParams['legend.fontsize'] = 9\n",
    "\n",
    "mpl.rcParams['figure.figsize'] = 6, 4\n",
    "\n",
    "mpl.rcParams['axes.prop_cycle'] = cycler(\"color\", ['#1f77b4', '#ff7f0e', '#2ca02c', '#d62728', '#9467bd', '#8c564b', '#e377c2', '#7f7f7f', '#bcbd22', '#17becf'])\n",
    "colors = ['#1f77b4', '#ff7f0e', '#2ca02c', '#d62728', '#9467bd', '#8c564b', '#e377c2', '#7f7f7f', '#bcbd22', '#17becf']\n",
    "\n",
    "# Plotting\n",
    "fig_dir = \"../figs\"\n",
    "\n",
    "def create_lineplot_histogram(distribution, bins=20):\n",
    "    vals, bin_edges = np.histogram(distribution, bins=bins)\n",
    "\n",
    "    xvals = np.repeat(bin_edges, 2)\n",
    "    yvals = np.repeat(vals, 2)\n",
    "    yvals = np.concatenate(([0], yvals, [0]))\n",
    "\n",
    "    return xvals, yvals"
   ]
  },
  {
   "cell_type": "code",
   "execution_count": 8,
   "metadata": {},
   "outputs": [
    {
     "data": {
      "text/plain": [
       "(array([13431.,  7983.,  4342.,  6308., 15642., 11358.,  8660.,  9473.,\n",
       "         9163.,  8596., 10051., 12044., 12273., 13443.,  5205.,  4654.,\n",
       "         1557.,    32., 15755.,  7076.,  5525.,  4071.,  4687., 11147.,\n",
       "         3599.,  5861.]),\n",
       " 26)"
      ]
     },
     "execution_count": 8,
     "metadata": {},
     "output_type": "execute_result"
    }
   ],
   "source": [
    "feature_ids_zero_side_effect_sorted, len(feature_ids_zero_side_effect_sorted)"
   ]
  },
  {
   "cell_type": "code",
   "execution_count": 9,
   "metadata": {},
   "outputs": [
    {
     "name": "stdout",
     "output_type": "stream",
     "text": [
      "buffer\n",
      "dataloader\n"
     ]
    }
   ],
   "source": [
    "activation_store = ActivationStoreAnalysis(sae.cfg, model)"
   ]
  },
  {
   "cell_type": "code",
   "execution_count": null,
   "metadata": {},
   "outputs": [],
   "source": [
    "all_dataset_names = ['loss_added', 'wmdp-bio', 'high_school_us_history', 'college_computer_science', 'high_school_geography', 'human_aging', 'college_biology']\n"
   ]
  },
  {
   "cell_type": "code",
   "execution_count": 34,
   "metadata": {},
   "outputs": [
    {
     "name": "stderr",
     "output_type": "stream",
     "text": [
      "100%|██████████| 3/3 [00:35<00:00, 11.81s/it]\n"
     ]
    }
   ],
   "source": [
    "# Calculate metrics\n",
    "\n",
    "main_ablate_params = {\n",
    "                      'multiplier': 30,\n",
    "                      'intervention_method': 'clamp_feature_activation',\n",
    "                     }\n",
    "\n",
    "\n",
    "sweep = {\n",
    "         'features_to_ablate': [feature_ids_zero_side_effect_sorted[:i+1] for i in range(0, 25, 1)],\n",
    "         'multiplier': [20],\n",
    "        }\n",
    "\n",
    "metric_params = {'wmdp-bio': \n",
    "                 {\n",
    "                       'target_metric': 'correct',\n",
    "                       'permutations': None,\n",
    "                       'verbose': False,\n",
    "                   },\n",
    "                 # 'high_school_us_history':\n",
    "                 # {\n",
    "                 #     'target_metrics': 'correct',\n",
    "                 #     'verbose': False,\n",
    "                 # },\n",
    "                 }\n",
    "\n",
    "dataset_names = all_dataset_names[:]\n",
    "\n",
    "n_batch_loss_added = 50\n",
    "\n",
    "metrics = calculate_metrics_list(model,\n",
    "                                      sae,\n",
    "                                      main_ablate_params,\n",
    "                                      sweep,\n",
    "                                      dataset_names=dataset_names,\n",
    "                                      metric_params=metric_params,\n",
    "                                      include_baseline_metrics=False,\n",
    "                                      n_batch_loss_added=n_batch_loss_added,\n",
    "                                      activation_store=activation_store,\n",
    "                                      split='all')\n"
   ]
  },
  {
   "cell_type": "markdown",
   "metadata": {},
   "source": [
    "## Template for Pareto Frontiers"
   ]
  },
  {
   "cell_type": "code",
   "execution_count": 22,
   "metadata": {},
   "outputs": [
    {
     "name": "stdout",
     "output_type": "stream",
     "text": [
      "wmdp-bio: 0.9941860437393188\n",
      "high_school_us_history: 1.0\n",
      "high_school_geography: 1.0\n",
      "college_computer_science: 1.0\n",
      "human_aging: 1.0\n",
      "college_biology: 1.0\n"
     ]
    }
   ],
   "source": [
    "from unlearning.var import gemma_2b_it_rmu_model_names\n",
    "\n",
    "# load results\n",
    "model_name = gemma_2b_it_rmu_model_names[0].split('/')[-1]\n",
    "with open(f'../data/unlearn_results/gemma-2b-it/rmu/correct/{model_name}.pkl', 'rb') as f:\n",
    "    results = pickle.load(f)\n",
    "\n",
    "for dataset in results:\n",
    "    print(f'{dataset}: {results[dataset][\"mean_correct\"]}')"
   ]
  },
  {
   "cell_type": "code",
   "execution_count": null,
   "metadata": {},
   "outputs": [],
   "source": [
    "data/unlearn_results/gemma-2b-it/rmu/correct/gemma_2b_it_rmu_10.pkl "
   ]
  },
  {
   "cell_type": "code",
   "execution_count": 14,
   "metadata": {},
   "outputs": [
    {
     "data": {
      "text/plain": [
       "0.6511628031730652"
      ]
     },
     "execution_count": 14,
     "metadata": {},
     "output_type": "execute_result"
    }
   ],
   "source": [
    "metrics_list_best_sorted[0]['wmdp-bio']['mean_correct']"
   ]
  },
  {
   "cell_type": "code",
   "execution_count": 18,
   "metadata": {},
   "outputs": [
    {
     "data": {
      "text/plain": [
       "[0.6511628031730652,\n",
       " 0.6511628031730652,\n",
       " 0.6569767594337463,\n",
       " 0.6569767594337463,\n",
       " 0.6569767594337463,\n",
       " 0.6569767594337463,\n",
       " 0.6511628031730652,\n",
       " 0.6511628031730652,\n",
       " 0.6511628031730652,\n",
       " 0.6511628031730652]"
      ]
     },
     "execution_count": 18,
     "metadata": {},
     "output_type": "execute_result"
    }
   ],
   "source": [
    "wmdp_bio_scores"
   ]
  },
  {
   "cell_type": "code",
   "execution_count": 19,
   "metadata": {},
   "outputs": [
    {
     "data": {
      "text/plain": [
       "[0.0002640390396118164,\n",
       " 0.0005431413650512695,\n",
       " 0.001460103988647461,\n",
       " 0.0028223037719726563,\n",
       " 0.003921799659729004,\n",
       " 0.004552454948425293,\n",
       " 0.005081319808959961,\n",
       " 0.0075522947311401365,\n",
       " 0.010283064842224122,\n",
       " -0.0008891105651855468]"
      ]
     },
     "execution_count": 19,
     "metadata": {},
     "output_type": "execute_result"
    }
   ],
   "source": [
    "loss_added_scores"
   ]
  },
  {
   "cell_type": "code",
   "execution_count": 16,
   "metadata": {},
   "outputs": [],
   "source": [
    "import matplotlib.pyplot as plt"
   ]
  },
  {
   "cell_type": "code",
   "execution_count": 28,
   "metadata": {},
   "outputs": [
    {
     "data": {
      "text/plain": [
       "[0.4264706075191498,\n",
       " 0.4264706075191498,\n",
       " 0.4264706075191498,\n",
       " 0.4264706075191498,\n",
       " 0.4264706075191498,\n",
       " 0.4264706075191498,\n",
       " 0.4264706075191498,\n",
       " 0.4264706075191498,\n",
       " 0.4264706075191498,\n",
       " 0.4215686321258545]"
      ]
     },
     "execution_count": 28,
     "metadata": {},
     "output_type": "execute_result"
    }
   ],
   "source": [
    "loss_added_scores"
   ]
  },
  {
   "cell_type": "code",
   "execution_count": 42,
   "metadata": {},
   "outputs": [
    {
     "name": "stderr",
     "output_type": "stream",
     "text": [
      "WARNING:matplotlib.legend:No artists with labels found to put in legend.  Note that artists whose label start with an underscore are ignored when legend() is called with no argument.\n"
     ]
    },
    {
     "data": {
      "image/png": "[encoded data removed]",
      "text/plain": [
       "<Figure size 600x400 with 1 Axes>"
      ]
     },
     "metadata": {},
     "output_type": "display_data"
    }
   ],
   "source": [
    "fig, ax = plt.subplots(figsize=(6, 4))\n",
    "\n",
    "wmdp_bio_scores = [x['wmdp-bio']['mean_correct'] for x in metrics]\n",
    "side_effect = [x['high_school_us_history']['mean_correct'] for x in metrics]\n",
    "\n",
    "\n",
    "ax.plot(wmdp_bio_scores, side_effect)\n",
    "ax.scatter(wmdp_bio_scores, side_effect, marker='o', s=10)\n",
    "\n",
    "\n",
    "# Plot RMU results\n",
    "\n",
    "rmu_wmdp_bio_results = []\n",
    "rmu_side_effect_results = []\n",
    "\n",
    "for model_name in gemma_2b_it_rmu_model_names:\n",
    "    model_name = model_name.split('/')[-1]\n",
    "    with open(f'../data/unlearn_results/gemma-2b-it/rmu/correct/{model_name}.pkl', 'rb') as f:\n",
    "        results = pickle.load(f)\n",
    "    rmu_wmdp_bio_results.append(results['wmdp-bio']['mean_correct'])\n",
    "    rmu_side_effect_results.append(results['high_school_us_history']['mean_correct'])\n",
    "    \n",
    "ax.plot(rmu_wmdp_bio_results, rmu_side_effect_results, color='grey')\n",
    "ax.scatter(rmu_wmdp_bio_results, rmu_side_effect_results, s=10, marker='o', color='grey')\n",
    "\n",
    "\n",
    "\n",
    "ax.legend()\n",
    "\n",
    "\n",
    "# yticks = [-6, -5, -4, -3, -2, -1, 0]\n",
    "# yticklabels = [r\"10$^{-6}$\", r\"10$^{-5}$\", r\"10$^{-4}$\", r\"10$^{-3}$\", 0.01, 0.1, 1]\n",
    "# yminor_ticks = np.log10(np.concatenate((np.arange(1e-6, 1e-5, 1e-6),\n",
    "#                                         np.arange(1e-5, 1e-4, 1e-5),\n",
    "#                                         np.arange(1e-4, 1e-3, 1e-4),\n",
    "#                                         np.arange(1e-3, 1e-2, 1e-3),\n",
    "#                                         np.arange(1e-2, 1e-1, 1e-2),\n",
    "#                                         np.arange(1e-1, 1, 1e-1))))\n",
    "\n",
    "# ax.set_yticks(yticks)\n",
    "# ax.set_yticklabels(yticklabels)\n",
    "# ax.set_yticks(yminor_ticks, minor=True)\n",
    "\n",
    "\n",
    "# xticks = [1, 2, 5, 10, 20, 50, 100]\n",
    "# xticklabels = xticks\n",
    "# xminor_ticks = np.log10(np.concatenate((np.arange(1, 10, 1), np.arange(10, 100, 10), np.arange(100, 1000, 100), np.arange(1000, 1e4, 1e3))))\n",
    "\n",
    "# ax.set_xticks(np.log10(xticks))\n",
    "# ax.set_xticklabels(xticklabels)\n",
    "# ax.set_xticks(xminor_ticks, minor=True)\n",
    "                       \n",
    "\n",
    "# ax.set_xlim(0, np.log10(250))\n",
    "# ax.set_ylim(-6, )\n",
    "\n",
    "ax.set_xlabel(\"WMDP-bio score\")\n",
    "ax.set_ylabel(\"Loss added\")\n",
    "\n",
    "\n",
    "fig.subplots_adjust(right=0.98, top=0.98)\n",
    "fig.savefig(fig_dir + \"/multiple_features/prob_vs_multiplier.png\", dpi=400)\n",
    "# plt.show()\n",
    "\n",
    "\n"
   ]
  },
  {
   "cell_type": "code",
   "execution_count": 41,
   "metadata": {},
   "outputs": [
    {
     "name": "stdout",
     "output_type": "stream",
     "text": [
      "[0.9941860437393188, 1.0, 1.0, 1.0, 1.0, 1.0]\n",
      "[0.9941860437393188, 1.0, 1.0, 1.0, 1.0, 1.0]\n",
      "[0.9941860437393188, 1.0, 1.0, 1.0, 1.0, 1.0]\n",
      "[0.6162790656089783, 1.0, 1.0, 1.0, 1.0, 0.9333333969116211]\n",
      "[0.3779069781303406, 1.0, 1.0, 1.0, 1.0, 0.9333333969116211]\n",
      "[0.3488371968269348, 1.0, 1.0, 1.0, 1.0, 0.9333333969116211]\n"
     ]
    }
   ],
   "source": [
    "for model_name in gemma_2b_it_rmu_model_names:\n",
    "    model_name = model_name.split('/')[-1]\n",
    "    with open(f'../data/unlearn_results/gemma-2b-it/rmu/correct/{model_name}.pkl', 'rb') as f:\n",
    "        results = pickle.load(f)\n",
    "    print([results[dataset]['mean_correct'] for dataset in results])"
   ]
  },
  {
   "cell_type": "code",
   "execution_count": 37,
   "metadata": {},
   "outputs": [
    {
     "data": {
      "text/plain": [
       "['eoinf/gemma_2b_it_rmu_6',\n",
       " 'eoinf/gemma_2b_it_rmu_6',\n",
       " 'eoinf/gemma_2b_it_rmu_10',\n",
       " 'eoinf/gemma_2b_it_rmu_30',\n",
       " 'eoinf/gemma_2b_it_rmu_60',\n",
       " 'eoinf/gemma_2b_it_rmu_100']"
      ]
     },
     "execution_count": 37,
     "metadata": {},
     "output_type": "execute_result"
    }
   ],
   "source": [
    "gemma_2b_it_rmu_model_names"
   ]
  },
  {
   "cell_type": "code",
   "execution_count": null,
   "metadata": {},
   "outputs": [],
   "source": []
  },
  {
   "cell_type": "code",
   "execution_count": null,
   "metadata": {},
   "outputs": [],
   "source": []
  },
  {
   "cell_type": "code",
   "execution_count": null,
   "metadata": {},
   "outputs": [],
   "source": []
  }
 ],
 "metadata": {
  "kernelspec": {
   "display_name": "Python 3 (ipykernel)",
   "language": "python",
   "name": "python3"
  },
  "language_info": {
   "codemirror_mode": {
    "name": "ipython",
    "version": 3
   },
   "file_extension": ".py",
   "mimetype": "text/x-python",
   "name": "python",
   "nbconvert_exporter": "python",
   "pygments_lexer": "ipython3",
   "version": "3.11.6"
  }
 },
 "nbformat": 4,
 "nbformat_minor": 4
}
