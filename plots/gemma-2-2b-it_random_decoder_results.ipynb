{
 "cells": [
  {
   "cell_type": "code",
   "execution_count": 1,
   "metadata": {},
   "outputs": [],
   "source": [
    "%load_ext autoreload\n",
    "%autoreload 2\n",
    "import torch\n",
    "import numpy as np\n",
    "from transformer_lens import HookedTransformer\n",
    "\n",
    "from unlearning.tool import get_hf_model\n",
    "from unlearning.feature_activation import get_forget_retain_data, tokenize_dataset, get_feature_activation_sparsity, get_top_features\n",
    "from unlearning.jump_relu import load_gemma2_2b_sae\n",
    "from unlearning.intervention import scaling_intervention\n",
    "from unlearning.metrics import calculate_MCQ_metrics, get_loss_added_hf, create_df_from_metrics, generate_ablate_params_list\n",
    "\n",
    "import matplotlib.pyplot as plt\n",
    "import numpy as np\n",
    "import pandas as pd\n",
    "import os\n",
    "import pickle"
   ]
  },
  {
   "cell_type": "code",
   "execution_count": 2,
   "metadata": {},
   "outputs": [
    {
     "name": "stdout",
     "output_type": "stream",
     "text": [
      "Found SAE with l0=59 at path google/gemma-scope-2b-pt-res/layer_3/width_16k/average_l0_59/params.npz\n"
     ]
    },
    {
     "name": "stderr",
     "output_type": "stream",
     "text": [
      "WARNING:root:You tried to specify center_unembed=True for a model using logit softcap, but this can't be done! Softcapping is not invariant upon adding a constantSetting center_unembed=False instead.\n"
     ]
    },
    {
     "data": {
      "application/vnd.jupyter.widget-view+json": {
       "model_id": "6f7bb8456b684b918ee3c69512a9afba",
       "version_major": 2,
       "version_minor": 0
      },
      "text/plain": [
       "Loading checkpoint shards:   0%|          | 0/2 [00:00<?, ?it/s]"
      ]
     },
     "metadata": {},
     "output_type": "display_data"
    },
    {
     "name": "stderr",
     "output_type": "stream",
     "text": [
      "WARNING:root:You are not using LayerNorm, so the writing weights can't be centered! Skipping\n"
     ]
    },
    {
     "name": "stdout",
     "output_type": "stream",
     "text": [
      "Loaded pretrained model google/gemma-2-2b-it into HookedTransformer\n"
     ]
    }
   ],
   "source": [
    "layer = 3\n",
    "sae = load_gemma2_2b_sae(layer=layer)\n",
    "\n",
    "\n",
    "model = HookedTransformer.from_pretrained('google/gemma-2-2b-it')"
   ]
  },
  {
   "cell_type": "code",
   "execution_count": 3,
   "metadata": {},
   "outputs": [],
   "source": [
    "from sae.activation_store import ActivationsStore\n",
    "\n",
    "sae.cfg.dataset = \"Skylion007/openwebtext\"\n",
    "sae.cfg.n_batches_in_store_buffer = 8\n",
    "\n",
    "activation_store = ActivationsStore(sae.cfg, model, create_dataloader=False)"
   ]
  },
  {
   "cell_type": "code",
   "execution_count": 4,
   "metadata": {},
   "outputs": [
    {
     "data": {
      "text/plain": [
       "array([ 8786,  3025, 11913, ...,  2203, 13035, 12031])"
      ]
     },
     "execution_count": 4,
     "metadata": {},
     "output_type": "execute_result"
    }
   ],
   "source": [
    "top_features = np.loadtxt(f'../data/top_features/gemma-2-2b-it-sparsity/layer3.txt', dtype=int)\n",
    "top_features"
   ]
  },
  {
   "cell_type": "code",
   "execution_count": 5,
   "metadata": {},
   "outputs": [
    {
     "data": {
      "text/plain": [
       "array([0.003672, 0.00634 , 0.031799, ..., 0.00067 , 0.000165, 0.006161])"
      ]
     },
     "execution_count": 5,
     "metadata": {},
     "output_type": "execute_result"
    }
   ],
   "source": [
    "forget_sparsity = np.loadtxt(f'../data/top_features/gemma-2-2b-it-sparsity/layer3_mean_feature_activation_forget.txt', dtype=float)\n",
    "retain_sparsity = np.loadtxt(f'../data/top_features/gemma-2-2b-it-sparsity/layer3_mean_feature_activation_retain.txt', dtype=float)\n",
    "\n",
    "forget_sparsity"
   ]
  },
  {
   "cell_type": "code",
   "execution_count": 6,
   "metadata": {},
   "outputs": [
    {
     "name": "stdout",
     "output_type": "stream",
     "text": [
      "[ 8786  3025 11913 14227   679  1082 10793  6691  8803  8934  9839 16064\n",
      "   616 10238 16169  8396 13219 11380  3061  2659]\n"
     ]
    }
   ],
   "source": [
    "from unlearning.feature_activation import get_top_features\n",
    "top_features_custom = get_top_features(forget_sparsity, retain_sparsity, retain_threshold=0.01)"
   ]
  },
  {
   "cell_type": "code",
   "execution_count": 7,
   "metadata": {},
   "outputs": [
    {
     "data": {
      "text/plain": [
       "array([ 8786,  3025, 11913, 14227,   679,  1082, 10793,  6691,  8803,\n",
       "        8934])"
      ]
     },
     "execution_count": 7,
     "metadata": {},
     "output_type": "execute_result"
    }
   ],
   "source": [
    "top_features_custom[:10]"
   ]
  },
  {
   "cell_type": "code",
   "execution_count": 8,
   "metadata": {},
   "outputs": [],
   "source": [
    "multipliers = [1, 5, 10, 50, 100, 200, 300]"
   ]
  },
  {
   "cell_type": "code",
   "execution_count": 9,
   "metadata": {},
   "outputs": [
    {
     "name": "stderr",
     "output_type": "stream",
     "text": [
      "  0%|          | 0/7 [00:00<?, ?it/s]"
     ]
    },
    {
     "name": "stderr",
     "output_type": "stream",
     "text": [
      "100%|██████████| 87/87 [00:26<00:00,  3.31it/s]\n",
      "100%|██████████| 87/87 [00:28<00:00,  3.09it/s]\n",
      "100%|██████████| 87/87 [00:28<00:00,  3.08it/s]\n",
      "100%|██████████| 87/87 [00:28<00:00,  3.03it/s]\n",
      "100%|██████████| 87/87 [00:29<00:00,  2.96it/s]\n",
      "100%|██████████| 87/87 [00:29<00:00,  2.98it/s]\n",
      "100%|██████████| 87/87 [00:29<00:00,  2.90it/s]\n",
      "100%|██████████| 7/7 [06:39<00:00, 57.08s/it]\n"
     ]
    }
   ],
   "source": [
    "# Calculate metrics\n",
    "from unlearning.metrics import calculate_metrics_list\n",
    "\n",
    "main_ablate_params = {\n",
    "    'intervention_method': 'clamp_feature_activation_random',\n",
    "    'features_to_ablate': list(top_features_custom[:10]),\n",
    "}\n",
    "\n",
    "\n",
    "sweep = {\n",
    "         'multiplier': multipliers,\n",
    "        }\n",
    "\n",
    "\n",
    "# dataset_names = all_dataset_names[:2]\n",
    "dataset_names = ['loss_added', 'wmdp-bio']\n",
    "\n",
    "n_batch_loss_added = 10\n",
    "\n",
    "metrics_random = calculate_metrics_list(\n",
    "    model,\n",
    "    sae,\n",
    "    main_ablate_params,\n",
    "    sweep,\n",
    "    dataset_names=dataset_names,\n",
    "    include_baseline_metrics=False,\n",
    "    split='all',\n",
    "    verbose=False,\n",
    "    activation_store=activation_store,\n",
    "    target_metric='correct',\n",
    "    n_batch_loss_added=n_batch_loss_added\n",
    ")\n"
   ]
  },
  {
   "cell_type": "code",
   "execution_count": 10,
   "metadata": {},
   "outputs": [
    {
     "name": "stderr",
     "output_type": "stream",
     "text": [
      "  0%|          | 0/7 [00:00<?, ?it/s]"
     ]
    },
    {
     "name": "stderr",
     "output_type": "stream",
     "text": [
      "100%|██████████| 87/87 [00:29<00:00,  2.95it/s]\n",
      "100%|██████████| 87/87 [00:29<00:00,  2.95it/s]\n",
      "100%|██████████| 87/87 [00:29<00:00,  2.95it/s]\n",
      "100%|██████████| 87/87 [00:29<00:00,  2.97it/s]\n",
      "100%|██████████| 87/87 [00:29<00:00,  2.92it/s]\n",
      "100%|██████████| 87/87 [00:29<00:00,  2.96it/s]\n",
      "100%|██████████| 87/87 [00:29<00:00,  2.96it/s]\n",
      "100%|██████████| 7/7 [06:55<00:00, 59.34s/it]\n"
     ]
    }
   ],
   "source": [
    "# Calculate metrics\n",
    "from unlearning.metrics import calculate_metrics_list\n",
    "\n",
    "main_ablate_params = {\n",
    "    'intervention_method': 'clamp_feature_activation',\n",
    "    'features_to_ablate': list(top_features_custom[:10]),\n",
    "}\n",
    "\n",
    "\n",
    "sweep = {\n",
    "         'multiplier': multipliers,\n",
    "        }\n",
    "\n",
    "\n",
    "# dataset_names = all_dataset_names[:2]\n",
    "dataset_names = ['loss_added', 'wmdp-bio']\n",
    "\n",
    "n_batch_loss_added = 10\n",
    "\n",
    "metrics = calculate_metrics_list(\n",
    "    model,\n",
    "    sae,\n",
    "    main_ablate_params,\n",
    "    sweep,\n",
    "    dataset_names=dataset_names,\n",
    "    include_baseline_metrics=False,\n",
    "    split='all',\n",
    "    verbose=False,\n",
    "    activation_store=activation_store,\n",
    "    target_metric='correct',\n",
    "    n_batch_loss_added=n_batch_loss_added\n",
    ")\n"
   ]
  },
  {
   "cell_type": "code",
   "execution_count": 11,
   "metadata": {},
   "outputs": [
    {
     "name": "stdout",
     "output_type": "stream",
     "text": [
      "0.9961685538291931\n",
      "0.9770114421844482\n",
      "0.9463601112365723\n",
      "0.5842911601066589\n",
      "0.3927203118801117\n",
      "0.31992337107658386\n",
      "0.28735631704330444\n"
     ]
    }
   ],
   "source": [
    "for m in metrics:\n",
    "    print(m['wmdp-bio']['mean_correct'])"
   ]
  },
  {
   "cell_type": "code",
   "execution_count": 12,
   "metadata": {},
   "outputs": [
    {
     "name": "stdout",
     "output_type": "stream",
     "text": [
      "1.0\n",
      "1.0\n",
      "0.9980842471122742\n",
      "0.8697317838668823\n",
      "0.561302661895752\n",
      "0.3735632002353668\n",
      "0.3256704807281494\n"
     ]
    }
   ],
   "source": [
    "for m in metrics_random:\n",
    "    print(m['wmdp-bio']['mean_correct'])"
   ]
  },
  {
   "cell_type": "code",
   "execution_count": 13,
   "metadata": {},
   "outputs": [
    {
     "data": {
      "text/html": [
       "<div>\n",
       "<style scoped>\n",
       "    .dataframe tbody tr th:only-of-type {\n",
       "        vertical-align: middle;\n",
       "    }\n",
       "\n",
       "    .dataframe tbody tr th {\n",
       "        vertical-align: top;\n",
       "    }\n",
       "\n",
       "    .dataframe thead th {\n",
       "        text-align: right;\n",
       "    }\n",
       "</style>\n",
       "<table border=\"1\" class=\"dataframe\">\n",
       "  <thead>\n",
       "    <tr style=\"text-align: right;\">\n",
       "      <th></th>\n",
       "      <th>loss_added</th>\n",
       "      <th>wmdp-bio</th>\n",
       "      <th>random</th>\n",
       "      <th>multiplier</th>\n",
       "    </tr>\n",
       "  </thead>\n",
       "  <tbody>\n",
       "    <tr>\n",
       "      <th>0</th>\n",
       "      <td>-0.002937</td>\n",
       "      <td>0.996169</td>\n",
       "      <td>False</td>\n",
       "      <td>1</td>\n",
       "    </tr>\n",
       "    <tr>\n",
       "      <th>1</th>\n",
       "      <td>-0.003856</td>\n",
       "      <td>0.977011</td>\n",
       "      <td>False</td>\n",
       "      <td>5</td>\n",
       "    </tr>\n",
       "    <tr>\n",
       "      <th>2</th>\n",
       "      <td>-0.004859</td>\n",
       "      <td>0.946360</td>\n",
       "      <td>False</td>\n",
       "      <td>10</td>\n",
       "    </tr>\n",
       "    <tr>\n",
       "      <th>3</th>\n",
       "      <td>-0.003834</td>\n",
       "      <td>0.584291</td>\n",
       "      <td>False</td>\n",
       "      <td>50</td>\n",
       "    </tr>\n",
       "    <tr>\n",
       "      <th>4</th>\n",
       "      <td>0.037140</td>\n",
       "      <td>0.392720</td>\n",
       "      <td>False</td>\n",
       "      <td>100</td>\n",
       "    </tr>\n",
       "    <tr>\n",
       "      <th>5</th>\n",
       "      <td>0.335909</td>\n",
       "      <td>0.319923</td>\n",
       "      <td>False</td>\n",
       "      <td>200</td>\n",
       "    </tr>\n",
       "    <tr>\n",
       "      <th>6</th>\n",
       "      <td>0.737150</td>\n",
       "      <td>0.287356</td>\n",
       "      <td>False</td>\n",
       "      <td>300</td>\n",
       "    </tr>\n",
       "    <tr>\n",
       "      <th>7</th>\n",
       "      <td>0.000209</td>\n",
       "      <td>1.000000</td>\n",
       "      <td>True</td>\n",
       "      <td>1</td>\n",
       "    </tr>\n",
       "    <tr>\n",
       "      <th>8</th>\n",
       "      <td>0.001128</td>\n",
       "      <td>1.000000</td>\n",
       "      <td>True</td>\n",
       "      <td>5</td>\n",
       "    </tr>\n",
       "    <tr>\n",
       "      <th>9</th>\n",
       "      <td>0.002455</td>\n",
       "      <td>0.998084</td>\n",
       "      <td>True</td>\n",
       "      <td>10</td>\n",
       "    </tr>\n",
       "    <tr>\n",
       "      <th>10</th>\n",
       "      <td>0.020417</td>\n",
       "      <td>0.869732</td>\n",
       "      <td>True</td>\n",
       "      <td>50</td>\n",
       "    </tr>\n",
       "    <tr>\n",
       "      <th>11</th>\n",
       "      <td>0.075816</td>\n",
       "      <td>0.561303</td>\n",
       "      <td>True</td>\n",
       "      <td>100</td>\n",
       "    </tr>\n",
       "    <tr>\n",
       "      <th>12</th>\n",
       "      <td>0.337885</td>\n",
       "      <td>0.373563</td>\n",
       "      <td>True</td>\n",
       "      <td>200</td>\n",
       "    </tr>\n",
       "    <tr>\n",
       "      <th>13</th>\n",
       "      <td>0.756560</td>\n",
       "      <td>0.325670</td>\n",
       "      <td>True</td>\n",
       "      <td>300</td>\n",
       "    </tr>\n",
       "  </tbody>\n",
       "</table>\n",
       "</div>"
      ],
      "text/plain": [
       "    loss_added  wmdp-bio  random  multiplier\n",
       "0    -0.002937  0.996169   False           1\n",
       "1    -0.003856  0.977011   False           5\n",
       "2    -0.004859  0.946360   False          10\n",
       "3    -0.003834  0.584291   False          50\n",
       "4     0.037140  0.392720   False         100\n",
       "5     0.335909  0.319923   False         200\n",
       "6     0.737150  0.287356   False         300\n",
       "7     0.000209  1.000000    True           1\n",
       "8     0.001128  1.000000    True           5\n",
       "9     0.002455  0.998084    True          10\n",
       "10    0.020417  0.869732    True          50\n",
       "11    0.075816  0.561303    True         100\n",
       "12    0.337885  0.373563    True         200\n",
       "13    0.756560  0.325670    True         300"
      ]
     },
     "execution_count": 13,
     "metadata": {},
     "output_type": "execute_result"
    }
   ],
   "source": [
    "df = []\n",
    "\n",
    "for multiplier, metric in zip(multipliers, metrics):\n",
    "    row = {}\n",
    "    for k, v in metric.items():\n",
    "        if k == 'loss_added':\n",
    "            row['loss_added'] = v.item()\n",
    "        else:\n",
    "            row[k] = v['mean_correct']\n",
    "    row['random'] = False\n",
    "    row['multiplier'] = multiplier\n",
    "    df.append(row)\n",
    "    \n",
    "for multiplier, metric in zip(multipliers, metrics_random):\n",
    "    row = {}\n",
    "    for k, v in metric.items():\n",
    "        if k == 'loss_added':\n",
    "            row['loss_added'] = v.item()\n",
    "        else:\n",
    "            row[k] = v['mean_correct']\n",
    "    row['random'] = True\n",
    "    row['multiplier'] = multiplier\n",
    "    df.append(row)\n",
    "    \n",
    "df = pd.DataFrame(df)\n",
    "df"
   ]
  },
  {
   "cell_type": "code",
   "execution_count": 2,
   "metadata": {},
   "outputs": [
    {
     "data": {
      "text/html": [
       "<div>\n",
       "<style scoped>\n",
       "    .dataframe tbody tr th:only-of-type {\n",
       "        vertical-align: middle;\n",
       "    }\n",
       "\n",
       "    .dataframe tbody tr th {\n",
       "        vertical-align: top;\n",
       "    }\n",
       "\n",
       "    .dataframe thead th {\n",
       "        text-align: right;\n",
       "    }\n",
       "</style>\n",
       "<table border=\"1\" class=\"dataframe\">\n",
       "  <thead>\n",
       "    <tr style=\"text-align: right;\">\n",
       "      <th></th>\n",
       "      <th>loss_added</th>\n",
       "      <th>wmdp-bio</th>\n",
       "      <th>random</th>\n",
       "      <th>multiplier</th>\n",
       "    </tr>\n",
       "  </thead>\n",
       "  <tbody>\n",
       "    <tr>\n",
       "      <th>0</th>\n",
       "      <td>-0.002937</td>\n",
       "      <td>0.996169</td>\n",
       "      <td>False</td>\n",
       "      <td>1</td>\n",
       "    </tr>\n",
       "    <tr>\n",
       "      <th>1</th>\n",
       "      <td>-0.003856</td>\n",
       "      <td>0.977011</td>\n",
       "      <td>False</td>\n",
       "      <td>5</td>\n",
       "    </tr>\n",
       "    <tr>\n",
       "      <th>2</th>\n",
       "      <td>-0.004859</td>\n",
       "      <td>0.946360</td>\n",
       "      <td>False</td>\n",
       "      <td>10</td>\n",
       "    </tr>\n",
       "    <tr>\n",
       "      <th>3</th>\n",
       "      <td>-0.003834</td>\n",
       "      <td>0.584291</td>\n",
       "      <td>False</td>\n",
       "      <td>50</td>\n",
       "    </tr>\n",
       "    <tr>\n",
       "      <th>4</th>\n",
       "      <td>0.037140</td>\n",
       "      <td>0.392720</td>\n",
       "      <td>False</td>\n",
       "      <td>100</td>\n",
       "    </tr>\n",
       "    <tr>\n",
       "      <th>5</th>\n",
       "      <td>0.335909</td>\n",
       "      <td>0.319923</td>\n",
       "      <td>False</td>\n",
       "      <td>200</td>\n",
       "    </tr>\n",
       "    <tr>\n",
       "      <th>6</th>\n",
       "      <td>0.737150</td>\n",
       "      <td>0.287356</td>\n",
       "      <td>False</td>\n",
       "      <td>300</td>\n",
       "    </tr>\n",
       "    <tr>\n",
       "      <th>7</th>\n",
       "      <td>0.000209</td>\n",
       "      <td>1.000000</td>\n",
       "      <td>True</td>\n",
       "      <td>1</td>\n",
       "    </tr>\n",
       "    <tr>\n",
       "      <th>8</th>\n",
       "      <td>0.001128</td>\n",
       "      <td>1.000000</td>\n",
       "      <td>True</td>\n",
       "      <td>5</td>\n",
       "    </tr>\n",
       "    <tr>\n",
       "      <th>9</th>\n",
       "      <td>0.002455</td>\n",
       "      <td>0.998084</td>\n",
       "      <td>True</td>\n",
       "      <td>10</td>\n",
       "    </tr>\n",
       "    <tr>\n",
       "      <th>10</th>\n",
       "      <td>0.020417</td>\n",
       "      <td>0.869732</td>\n",
       "      <td>True</td>\n",
       "      <td>50</td>\n",
       "    </tr>\n",
       "    <tr>\n",
       "      <th>11</th>\n",
       "      <td>0.075816</td>\n",
       "      <td>0.561303</td>\n",
       "      <td>True</td>\n",
       "      <td>100</td>\n",
       "    </tr>\n",
       "    <tr>\n",
       "      <th>12</th>\n",
       "      <td>0.337885</td>\n",
       "      <td>0.373563</td>\n",
       "      <td>True</td>\n",
       "      <td>200</td>\n",
       "    </tr>\n",
       "    <tr>\n",
       "      <th>13</th>\n",
       "      <td>0.756560</td>\n",
       "      <td>0.325670</td>\n",
       "      <td>True</td>\n",
       "      <td>300</td>\n",
       "    </tr>\n",
       "  </tbody>\n",
       "</table>\n",
       "</div>"
      ],
      "text/plain": [
       "    loss_added  wmdp-bio  random  multiplier\n",
       "0    -0.002937  0.996169   False           1\n",
       "1    -0.003856  0.977011   False           5\n",
       "2    -0.004859  0.946360   False          10\n",
       "3    -0.003834  0.584291   False          50\n",
       "4     0.037140  0.392720   False         100\n",
       "5     0.335909  0.319923   False         200\n",
       "6     0.737150  0.287356   False         300\n",
       "7     0.000209  1.000000    True           1\n",
       "8     0.001128  1.000000    True           5\n",
       "9     0.002455  0.998084    True          10\n",
       "10    0.020417  0.869732    True          50\n",
       "11    0.075816  0.561303    True         100\n",
       "12    0.337885  0.373563    True         200\n",
       "13    0.756560  0.325670    True         300"
      ]
     },
     "execution_count": 2,
     "metadata": {},
     "output_type": "execute_result"
    }
   ],
   "source": [
    "df = pd.read_csv('../data/random_decoder/gemma-2-2b-it_random_decoder_resutls.csv')\n",
    "df"
   ]
  },
  {
   "cell_type": "code",
   "execution_count": 3,
   "metadata": {},
   "outputs": [],
   "source": [
    "import matplotlib as mpl\n",
    "from cycler import cycler\n",
    "\n",
    "mpl.rcParams['lines.linewidth'] = 1\n",
    "mpl.rcParams['lines.markersize'] = 1.4\n",
    "\n",
    "mpl.rcParams['xtick.top'] = True\n",
    "mpl.rcParams['xtick.direction'] = 'in'\n",
    "mpl.rcParams['xtick.minor.visible'] = True\n",
    "mpl.rcParams['xtick.major.width'] = 0.4\n",
    "mpl.rcParams['xtick.minor.width'] = 0.4\n",
    "mpl.rcParams['xtick.major.size'] = 4\n",
    "mpl.rcParams['xtick.minor.size'] = 2\n",
    "\n",
    "mpl.rcParams['ytick.right'] = True\n",
    "mpl.rcParams['ytick.direction'] = 'in'\n",
    "mpl.rcParams['ytick.minor.visible'] = True\n",
    "mpl.rcParams['ytick.major.width'] = 0.4\n",
    "mpl.rcParams['ytick.minor.width'] = 0.4\n",
    "mpl.rcParams['ytick.major.size'] = 4\n",
    "mpl.rcParams['ytick.minor.size'] = 2\n",
    "\n",
    "mpl.rcParams['xtick.labelsize'] = 10\n",
    "mpl.rcParams['ytick.labelsize'] = 10\n",
    "\n",
    "mpl.rcParams['axes.titlesize'] = 10\n",
    "mpl.rcParams['axes.labelsize'] = 10\n",
    "\n",
    "\n",
    "mpl.rcParams['legend.frameon'] = False\n",
    "mpl.rcParams['legend.fontsize'] = 9\n",
    "\n",
    "mpl.rcParams['figure.figsize'] = 6, 4\n",
    "\n",
    "mpl.rcParams['axes.prop_cycle'] = cycler(\"color\", ['#1f77b4', '#ff7f0e', '#2ca02c', '#d62728', '#9467bd', '#8c564b', '#e377c2', '#7f7f7f', '#bcbd22', '#17becf'])\n",
    "colors = ['#1f77b4', '#2ca02c', '#d62728', '#9467bd', '#8c564b', '#e377c2', '#7f7f7f', '#bcbd22', '#17becf', '#ff7f0e']\n",
    "\n",
    "# Plotting\n",
    "fig_dir = \"../figs\"\n",
    "\n",
    "def create_lineplot_histogram(distribution, bins=20):\n",
    "    vals, bin_edges = np.histogram(distribution, bins=bins)\n",
    "\n",
    "    xvals = np.repeat(bin_edges, 2)\n",
    "    yvals = np.repeat(vals, 2)\n",
    "    yvals = np.concatenate(([0], yvals, [0]))\n",
    "\n",
    "    return xvals, yvals"
   ]
  },
  {
   "cell_type": "code",
   "execution_count": 4,
   "metadata": {},
   "outputs": [],
   "source": [
    "model_name = 'gemma-2-2b-it'"
   ]
  },
  {
   "cell_type": "code",
   "execution_count": 8,
   "metadata": {},
   "outputs": [
    {
     "data": {
      "image/png": "[encoded data removed]",
      "text/plain": [
       "<Figure size 600x400 with 1 Axes>"
      ]
     },
     "metadata": {},
     "output_type": "display_data"
    }
   ],
   "source": [
    "def plot_metrics(df, x_col, y_col, color_col, fig_name):\n",
    "    fig, ax = plt.subplots(figsize=(6, 4))\n",
    "\n",
    "    if y_col == 'loss_added':\n",
    "        # y_min = df[y_col].min()\n",
    "        # offset = abs(y_min) + 1e-4 if y_min <= 0 else 0\n",
    "        # print(offset)\n",
    "        offset = 5e-3\n",
    "        \n",
    "    # Get unique values\n",
    "    unique_values = df[color_col].unique()\n",
    "    labels = {True: 'Random decoder vector', False: 'Actual decoder vector'}\n",
    "    \n",
    "    # Create a scatter plot and line for each unique value\n",
    "    for i, value in enumerate(unique_values):\n",
    "        subset = df[df[color_col] == value].sort_values(by=x_col)\n",
    "        color = colors[i % len(colors)]\n",
    "        \n",
    "        if y_col == 'loss_added':\n",
    "            y_values = np.log10(subset[y_col] + offset)\n",
    "        else:\n",
    "            y_values = subset[y_col]\n",
    "        # Plot line\n",
    "        ax.plot(subset[x_col], y_values, color=color, alpha=0.5)\n",
    "        \n",
    "        # Plot scatter points\n",
    "        ax.scatter(subset[x_col], y_values, \n",
    "                    c=[color], label=labels[value], s=50)\n",
    "        \n",
    "        # Add multiplier labels\n",
    "        for x, y, mult in zip(subset[x_col], y_values, subset['multiplier']):\n",
    "            ax.annotate(f\"{mult}x\", (x, y), xytext=(5, 5), \n",
    "                        textcoords='offset points', fontsize=12, \n",
    "                        alpha=0.7, color=color)\n",
    "    \n",
    "\n",
    "    yticks = [-4, -3, -2, -1]\n",
    "    yticklabels = [r\"10$^{-4}$\", r\"10$^{-3}$\", 0.01, 0.1]\n",
    "    yminor_ticks = np.log10(np.concatenate((np.arange(1e-4, 1e-3, 1e-4),\n",
    "                                            np.arange(1e-3, 1e-2, 1e-3),\n",
    "                                            np.arange(1e-2, 1e-1, 1e-2),\n",
    "                                            np.arange(1e-1, 1, 1e-1))))\n",
    "\n",
    "    ax.set_yticks(yticks)\n",
    "    ax.set_yticklabels(yticklabels)\n",
    "    ax.set_yticks(yminor_ticks, minor=True)\n",
    "\n",
    "\n",
    "    ax.legend(loc='lower left', fontsize=12)\n",
    "\n",
    "    ax.set_xlabel('WMDP-Bio Accuracy', fontsize=14)\n",
    "    ax.set_ylabel(f'Loss Added + 5 x 10$^{{-3}}$', fontsize=14)\n",
    "    ax.tick_params(axis='both', which='major', labelsize=12)\n",
    "    \n",
    "\n",
    "    fig.subplots_adjust(right=0.98, top=0.98)\n",
    "    fig.savefig(fig_dir + f\"/multiple_features/{model_name}_{fig_name}.pdf\", dpi=400)\n",
    "    # plt.show()\n",
    "\n",
    "\n",
    "plot_metrics(\n",
    "    df, \n",
    "    x_col='wmdp-bio', \n",
    "    y_col='loss_added', \n",
    "    color_col='random', \n",
    "    fig_name='random_decoder_vector',\n",
    ")\n"
   ]
  },
  {
   "cell_type": "code",
   "execution_count": null,
   "metadata": {},
   "outputs": [],
   "source": []
  },
  {
   "cell_type": "code",
   "execution_count": null,
   "metadata": {},
   "outputs": [],
   "source": []
  }
 ],
 "metadata": {
  "kernelspec": {
   "display_name": ".venv",
   "language": "python",
   "name": "python3"
  },
  "language_info": {
   "codemirror_mode": {
    "name": "ipython",
    "version": 3
   },
   "file_extension": ".py",
   "mimetype": "text/x-python",
   "name": "python",
   "nbconvert_exporter": "python",
   "pygments_lexer": "ipython3",
   "version": "3.10.13"
  }
 },
 "nbformat": 4,
 "nbformat_minor": 2
}
