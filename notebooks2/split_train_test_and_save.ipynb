{
 "cells": [
  {
   "cell_type": "code",
   "execution_count": 21,
   "metadata": {},
   "outputs": [],
   "source": [
    "import numpy as np\n",
    "from datasets import load_dataset\n",
    "import os\n",
    "\n",
    "from unlearning.data_utils import save_train_test_all"
   ]
  },
  {
   "cell_type": "code",
   "execution_count": 3,
   "metadata": {},
   "outputs": [],
   "source": [
    "\n",
    "# def _split_train_test(questions_ids, train_ratio=0.5):\n",
    "#     \"\"\"shuffle then split the questions ids into train and test\"\"\"\n",
    "#     questions_ids = np.random.permutation(questions_ids)\n",
    "#     split = int(len(questions_ids) * train_ratio)\n",
    "#     return questions_ids[:split], questions_ids[split:]\n"
   ]
  },
  {
   "cell_type": "code",
   "execution_count": 6,
   "metadata": {},
   "outputs": [],
   "source": [
    "# def load_dataset_from_name(dataset_name: str):\n",
    "#     if dataset_name == 'wmdp-bio':\n",
    "#         dataset = load_dataset(\"cais/wmdp\", \"wmdp-bio\", split='test')\n",
    "#     else:\n",
    "#         dataset = load_dataset(\"cais/mmlu\", dataset_name, split='test')\n",
    "#     return dataset"
   ]
  },
  {
   "cell_type": "code",
   "execution_count": 17,
   "metadata": {},
   "outputs": [],
   "source": [
    "# def save_train_test_all(dataset_name: str, model_name: str = 'gemma-2b-it', train_ratio: float = 0.5):\n",
    "#     dataset = load_dataset_from_name(dataset_name)\n",
    "\n",
    "#     q_ids = np.arange(len(dataset))\n",
    "\n",
    "#     train, test = _split_train_test(q_ids, train_ratio=train_ratio)  \n",
    "#     splits = {'train': train, 'test': test, 'all': q_ids}\n",
    "\n",
    "#     output_dir = '../data/question_ids/'\n",
    "#     full_dataset_name = f'mmlu-{dataset_name.replace(\"_\", \"-\")}' if dataset_name != 'wmdp-bio' else dataset_name\n",
    "#     q_type = 'all'\n",
    "\n",
    "#     for split, ids in splits.items():\n",
    "#         file_name = os.path.join(output_dir, f'{model_name}/{split}/{full_dataset_name}_{q_type}.csv')\n",
    "#         os.makedirs(os.path.dirname(file_name), exist_ok=True)\n",
    "#         np.savetxt(file_name, ids, fmt='%d')\n",
    "#         print(f'{file_name} saved, with {len(ids)} questions')"
   ]
  },
  {
   "cell_type": "code",
   "execution_count": 20,
   "metadata": {},
   "outputs": [
    {
     "name": "stdout",
     "output_type": "stream",
     "text": [
      "../data/question_ids/gemma-2-9b-it/train/mmlu-high-school-us-history_all.csv saved, with 102 questions\n",
      "../data/question_ids/gemma-2-9b-it/test/mmlu-high-school-us-history_all.csv saved, with 102 questions\n",
      "../data/question_ids/gemma-2-9b-it/all/mmlu-high-school-us-history_all.csv saved, with 204 questions\n",
      "../data/question_ids/gemma-2-9b-it/train/mmlu-college-computer-science_all.csv saved, with 50 questions\n",
      "../data/question_ids/gemma-2-9b-it/test/mmlu-college-computer-science_all.csv saved, with 50 questions\n",
      "../data/question_ids/gemma-2-9b-it/all/mmlu-college-computer-science_all.csv saved, with 100 questions\n",
      "../data/question_ids/gemma-2-9b-it/train/mmlu-high-school-geography_all.csv saved, with 99 questions\n",
      "../data/question_ids/gemma-2-9b-it/test/mmlu-high-school-geography_all.csv saved, with 99 questions\n",
      "../data/question_ids/gemma-2-9b-it/all/mmlu-high-school-geography_all.csv saved, with 198 questions\n",
      "../data/question_ids/gemma-2-9b-it/train/mmlu-human-aging_all.csv saved, with 111 questions\n",
      "../data/question_ids/gemma-2-9b-it/test/mmlu-human-aging_all.csv saved, with 112 questions\n",
      "../data/question_ids/gemma-2-9b-it/all/mmlu-human-aging_all.csv saved, with 223 questions\n",
      "../data/question_ids/gemma-2-9b-it/train/mmlu-college-biology_all.csv saved, with 72 questions\n",
      "../data/question_ids/gemma-2-9b-it/test/mmlu-college-biology_all.csv saved, with 72 questions\n",
      "../data/question_ids/gemma-2-9b-it/all/mmlu-college-biology_all.csv saved, with 144 questions\n",
      "../data/question_ids/gemma-2-9b-it/train/wmdp-bio_all.csv saved, with 636 questions\n",
      "../data/question_ids/gemma-2-9b-it/test/wmdp-bio_all.csv saved, with 637 questions\n",
      "../data/question_ids/gemma-2-9b-it/all/wmdp-bio_all.csv saved, with 1273 questions\n"
     ]
    }
   ],
   "source": [
    "for dataset_name in ['high_school_us_history', 'college_computer_science', 'high_school_geography', 'human_aging', 'college_biology', 'wmdp-bio']:\n",
    "    save_train_test_all(dataset_name, model_name='gemma-2-9b-it')"
   ]
  },
  {
   "cell_type": "code",
   "execution_count": null,
   "metadata": {},
   "outputs": [],
   "source": []
  }
 ],
 "metadata": {
  "kernelspec": {
   "display_name": ".venv",
   "language": "python",
   "name": "python3"
  },
  "language_info": {
   "codemirror_mode": {
    "name": "ipython",
    "version": 3
   },
   "file_extension": ".py",
   "mimetype": "text/x-python",
   "name": "python",
   "nbconvert_exporter": "python",
   "pygments_lexer": "ipython3",
   "version": "3.10.13"
  }
 },
 "nbformat": 4,
 "nbformat_minor": 2
}
