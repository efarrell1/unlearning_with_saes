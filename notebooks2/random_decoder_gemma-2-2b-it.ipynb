{
 "cells": [
  {
   "cell_type": "code",
   "execution_count": 5,
   "metadata": {},
   "outputs": [
    {
     "name": "stdout",
     "output_type": "stream",
     "text": [
      "The autoreload extension is already loaded. To reload it, use:\n",
      "  %reload_ext autoreload\n"
     ]
    }
   ],
   "source": [
    "%load_ext autoreload\n",
    "%autoreload 2\n",
    "import torch\n",
    "import numpy as np\n",
    "from transformer_lens import HookedTransformer\n",
    "\n",
    "from unlearning.tool import get_hf_model\n",
    "from unlearning.feature_activation import get_forget_retain_data, tokenize_dataset, get_feature_activation_sparsity, get_top_features\n",
    "from unlearning.jump_relu import load_gemma2_2b_sae\n",
    "from unlearning.intervention import scaling_intervention\n",
    "from unlearning.metrics import calculate_metrics_list\n",
    "\n",
    "import matplotlib.pyplot as plt\n",
    "import numpy as np\n",
    "import pandas as pd\n",
    "import os\n",
    "import pickle"
   ]
  },
  {
   "cell_type": "code",
   "execution_count": 21,
   "metadata": {},
   "outputs": [
    {
     "name": "stdout",
     "output_type": "stream",
     "text": [
      "Found SAE with l0=69 at path google/gemma-scope-2b-pt-res/layer_7/width_16k/average_l0_69/params.npz\n"
     ]
    },
    {
     "data": {
      "application/vnd.jupyter.widget-view+json": {
       "model_id": "bf1f7ed28e214e628b0f898ec9dc86c7",
       "version_major": 2,
       "version_minor": 0
      },
      "text/plain": [
       "params.npz:   0%|          | 0.00/302M [00:00<?, ?B/s]"
      ]
     },
     "metadata": {},
     "output_type": "display_data"
    }
   ],
   "source": [
    "layer = 7\n",
    "sae = load_gemma2_2b_sae(layer=layer)"
   ]
  },
  {
   "cell_type": "code",
   "execution_count": 2,
   "metadata": {},
   "outputs": [
    {
     "name": "stdout",
     "output_type": "stream",
     "text": [
      "Found SAE with l0=59 at path google/gemma-scope-2b-pt-res/layer_3/width_16k/average_l0_59/params.npz\n"
     ]
    },
    {
     "name": "stderr",
     "output_type": "stream",
     "text": [
      "WARNING:root:You tried to specify center_unembed=True for a model using logit softcap, but this can't be done! Softcapping is not invariant upon adding a constantSetting center_unembed=False instead.\n"
     ]
    },
    {
     "data": {
      "application/vnd.jupyter.widget-view+json": {
       "model_id": "1db733d673b440aca5d014c8634641d0",
       "version_major": 2,
       "version_minor": 0
      },
      "text/plain": [
       "Loading checkpoint shards:   0%|          | 0/2 [00:00<?, ?it/s]"
      ]
     },
     "metadata": {},
     "output_type": "display_data"
    },
    {
     "name": "stderr",
     "output_type": "stream",
     "text": [
      "WARNING:root:You are not using LayerNorm, so the writing weights can't be centered! Skipping\n"
     ]
    },
    {
     "name": "stdout",
     "output_type": "stream",
     "text": [
      "Loaded pretrained model google/gemma-2-2b-it into HookedTransformer\n"
     ]
    }
   ],
   "source": [
    "model = HookedTransformer.from_pretrained('google/gemma-2-2b-it')"
   ]
  },
  {
   "cell_type": "code",
   "execution_count": 3,
   "metadata": {},
   "outputs": [
    {
     "data": {
      "text/plain": [
       "array([ 8786,  3025, 11913, 14227,   679,  1082, 10793,  6691,  8803,\n",
       "        8934])"
      ]
     },
     "execution_count": 3,
     "metadata": {},
     "output_type": "execute_result"
    }
   ],
   "source": [
    "top_features = np.loadtxt(f'../data/top_features/gemma-2-2b-it-sparsity/layer3.txt', dtype=int)\n",
    "top_ten_features = top_features[:10]\n",
    "top_ten_features"
   ]
  },
  {
   "cell_type": "code",
   "execution_count": 22,
   "metadata": {},
   "outputs": [],
   "source": [
    "# Calculate metrics\n",
    "\n",
    "def get_result_metrics(feature_idx, multipliers=[1, 5, 10, 50, 100], random=False):\n",
    "    intervention_method = 'clamp_feature_activation' if not random else 'clamp_feature_activation_random'\n",
    "    main_ablate_params = {\n",
    "        'intervention_method': intervention_method,\n",
    "        'features_to_ablate': feature_idx\n",
    "    }\n",
    "\n",
    "\n",
    "    sweep = {\n",
    "        'multiplier': multipliers,\n",
    "    }\n",
    "\n",
    "    dataset_names = ['wmdp-bio']\n",
    "\n",
    "    metrics = calculate_metrics_list(\n",
    "        model,\n",
    "        sae,\n",
    "        main_ablate_params,\n",
    "        sweep,\n",
    "        dataset_names=dataset_names,\n",
    "        include_baseline_metrics=False,\n",
    "        split='all',\n",
    "        verbose=False,\n",
    "    )\n",
    "    \n",
    "    return metrics\n"
   ]
  },
  {
   "cell_type": "code",
   "execution_count": 11,
   "metadata": {},
   "outputs": [],
   "source": [
    "def get_unleared_questions(metrics):\n",
    "    base_unlearned = []\n",
    "    for metric in metrics:\n",
    "        n_correct = metric['wmdp-bio']['total_correct']\n",
    "        n_questions = len(metric['wmdp-bio']['is_correct'])\n",
    "        \n",
    "        n_unlearned = n_questions - n_correct\n",
    "        base_unlearned.append(n_unlearned)\n",
    "        \n",
    "    print(base_unlearned)"
   ]
  },
  {
   "cell_type": "code",
   "execution_count": 12,
   "metadata": {},
   "outputs": [
    {
     "name": "stderr",
     "output_type": "stream",
     "text": [
      "100%|██████████| 87/87 [00:26<00:00,  3.24it/s]\n",
      "100%|██████████| 87/87 [00:27<00:00,  3.21it/s]\n",
      "100%|██████████| 87/87 [00:27<00:00,  3.16it/s]\n",
      "100%|██████████| 87/87 [00:27<00:00,  3.14it/s]\n",
      "100%|██████████| 87/87 [00:27<00:00,  3.13it/s]\n",
      "100%|██████████| 5/5 [02:20<00:00, 28.15s/it]\n"
     ]
    },
    {
     "name": "stdout",
     "output_type": "stream",
     "text": [
      "8786\n",
      "[0, 0, 0, 0, 3]\n"
     ]
    },
    {
     "name": "stderr",
     "output_type": "stream",
     "text": [
      "100%|██████████| 87/87 [00:27<00:00,  3.12it/s]\n",
      "100%|██████████| 87/87 [00:27<00:00,  3.11it/s]\n",
      "100%|██████████| 87/87 [00:27<00:00,  3.12it/s]\n",
      "100%|██████████| 87/87 [00:27<00:00,  3.12it/s]\n",
      "100%|██████████| 87/87 [00:27<00:00,  3.12it/s]\n",
      "100%|██████████| 5/5 [02:23<00:00, 28.64s/it]\n"
     ]
    },
    {
     "name": "stdout",
     "output_type": "stream",
     "text": [
      "3025\n",
      "[0, 0, 0, 34, 121]\n"
     ]
    },
    {
     "name": "stderr",
     "output_type": "stream",
     "text": [
      "100%|██████████| 87/87 [00:28<00:00,  3.11it/s]\n",
      "100%|██████████| 87/87 [00:27<00:00,  3.13it/s]\n",
      "100%|██████████| 87/87 [00:27<00:00,  3.12it/s]\n",
      "100%|██████████| 87/87 [00:27<00:00,  3.12it/s]\n",
      "100%|██████████| 87/87 [00:27<00:00,  3.12it/s]\n",
      "100%|██████████| 5/5 [02:23<00:00, 28.62s/it]\n"
     ]
    },
    {
     "name": "stdout",
     "output_type": "stream",
     "text": [
      "11913\n",
      "[1, 3, 9, 81, 174]\n"
     ]
    },
    {
     "name": "stderr",
     "output_type": "stream",
     "text": [
      "100%|██████████| 87/87 [00:27<00:00,  3.12it/s]\n",
      "100%|██████████| 87/87 [00:27<00:00,  3.13it/s]\n",
      "100%|██████████| 87/87 [00:27<00:00,  3.13it/s]\n",
      "100%|██████████| 87/87 [00:27<00:00,  3.12it/s]\n",
      "100%|██████████| 87/87 [00:27<00:00,  3.12it/s]\n",
      "100%|██████████| 5/5 [02:23<00:00, 28.63s/it]\n"
     ]
    },
    {
     "name": "stdout",
     "output_type": "stream",
     "text": [
      "14227\n",
      "[0, 4, 5, 82, 161]\n"
     ]
    },
    {
     "name": "stderr",
     "output_type": "stream",
     "text": [
      "100%|██████████| 87/87 [00:27<00:00,  3.12it/s]\n",
      "100%|██████████| 87/87 [00:27<00:00,  3.11it/s]\n",
      "100%|██████████| 87/87 [00:27<00:00,  3.12it/s]\n",
      "100%|██████████| 87/87 [00:27<00:00,  3.12it/s]\n",
      "100%|██████████| 87/87 [00:27<00:00,  3.12it/s]\n",
      "100%|██████████| 5/5 [02:23<00:00, 28.62s/it]\n"
     ]
    },
    {
     "name": "stdout",
     "output_type": "stream",
     "text": [
      "679\n",
      "[1, 1, 1, 10, 37]\n"
     ]
    },
    {
     "name": "stderr",
     "output_type": "stream",
     "text": [
      "100%|██████████| 87/87 [00:27<00:00,  3.12it/s]\n",
      "100%|██████████| 87/87 [00:27<00:00,  3.13it/s]\n",
      "100%|██████████| 87/87 [00:27<00:00,  3.12it/s]\n",
      "100%|██████████| 87/87 [00:27<00:00,  3.12it/s]\n",
      "100%|██████████| 87/87 [00:27<00:00,  3.12it/s]\n",
      "100%|██████████| 5/5 [02:23<00:00, 28.74s/it]\n"
     ]
    },
    {
     "name": "stdout",
     "output_type": "stream",
     "text": [
      "1082\n",
      "[0, 0, 1, 2, 13]\n"
     ]
    },
    {
     "name": "stderr",
     "output_type": "stream",
     "text": [
      "100%|██████████| 87/87 [00:27<00:00,  3.12it/s]\n",
      "100%|██████████| 87/87 [00:27<00:00,  3.12it/s]\n",
      "100%|██████████| 87/87 [00:27<00:00,  3.13it/s]\n",
      "100%|██████████| 87/87 [00:27<00:00,  3.13it/s]\n",
      "100%|██████████| 87/87 [00:27<00:00,  3.12it/s]\n",
      "100%|██████████| 5/5 [02:22<00:00, 28.55s/it]\n"
     ]
    },
    {
     "name": "stdout",
     "output_type": "stream",
     "text": [
      "10793\n",
      "[0, 0, 0, 7, 45]\n"
     ]
    },
    {
     "name": "stderr",
     "output_type": "stream",
     "text": [
      "100%|██████████| 87/87 [00:27<00:00,  3.13it/s]\n",
      "100%|██████████| 87/87 [00:27<00:00,  3.13it/s]\n",
      "100%|██████████| 87/87 [00:27<00:00,  3.13it/s]\n",
      "100%|██████████| 87/87 [00:28<00:00,  3.10it/s]\n",
      "100%|██████████| 87/87 [00:27<00:00,  3.13it/s]\n",
      "100%|██████████| 5/5 [02:23<00:00, 28.66s/it]\n"
     ]
    },
    {
     "name": "stdout",
     "output_type": "stream",
     "text": [
      "6691\n",
      "[0, 0, 0, 10, 10]\n"
     ]
    },
    {
     "name": "stderr",
     "output_type": "stream",
     "text": [
      "100%|██████████| 87/87 [00:27<00:00,  3.13it/s]\n",
      "100%|██████████| 87/87 [00:27<00:00,  3.12it/s]\n",
      "100%|██████████| 87/87 [00:27<00:00,  3.13it/s]\n",
      "100%|██████████| 87/87 [00:27<00:00,  3.12it/s]\n",
      "100%|██████████| 87/87 [00:27<00:00,  3.12it/s]\n",
      "100%|██████████| 5/5 [02:22<00:00, 28.54s/it]\n"
     ]
    },
    {
     "name": "stdout",
     "output_type": "stream",
     "text": [
      "8803\n",
      "[0, 0, 0, 1, 6]\n"
     ]
    },
    {
     "name": "stderr",
     "output_type": "stream",
     "text": [
      "100%|██████████| 87/87 [00:27<00:00,  3.12it/s]\n",
      "100%|██████████| 87/87 [00:27<00:00,  3.13it/s]\n",
      "100%|██████████| 87/87 [00:27<00:00,  3.13it/s]\n",
      "100%|██████████| 87/87 [00:27<00:00,  3.13it/s]\n",
      "100%|██████████| 87/87 [00:27<00:00,  3.13it/s]\n",
      "100%|██████████| 5/5 [02:24<00:00, 28.81s/it]"
     ]
    },
    {
     "name": "stdout",
     "output_type": "stream",
     "text": [
      "8934\n",
      "[0, 0, 0, 0, 4]\n"
     ]
    },
    {
     "name": "stderr",
     "output_type": "stream",
     "text": [
      "\n"
     ]
    }
   ],
   "source": [
    "all_metrics = []\n",
    "\n",
    "for feature in top_ten_features:\n",
    "    metrics = get_result_metrics([feature])\n",
    "    all_metrics.append(metrics)\n",
    "    print(feature)\n",
    "    get_unleared_questions(metrics)"
   ]
  },
  {
   "cell_type": "code",
   "execution_count": 13,
   "metadata": {},
   "outputs": [
    {
     "name": "stderr",
     "output_type": "stream",
     "text": [
      "100%|██████████| 87/87 [00:27<00:00,  3.20it/s]\n",
      "100%|██████████| 87/87 [00:28<00:00,  3.10it/s]\n",
      "100%|██████████| 87/87 [00:28<00:00,  3.09it/s]\n",
      "100%|██████████| 87/87 [00:28<00:00,  3.10it/s]\n",
      "100%|██████████| 87/87 [00:27<00:00,  3.11it/s]\n",
      "100%|██████████| 5/5 [02:22<00:00, 28.59s/it]\n"
     ]
    },
    {
     "name": "stdout",
     "output_type": "stream",
     "text": [
      "8786\n",
      "[0, 0, 0, 0, 5]\n"
     ]
    },
    {
     "name": "stderr",
     "output_type": "stream",
     "text": [
      "100%|██████████| 87/87 [00:27<00:00,  3.12it/s]\n",
      "100%|██████████| 87/87 [00:27<00:00,  3.11it/s]\n",
      "100%|██████████| 87/87 [00:27<00:00,  3.12it/s]\n",
      "100%|██████████| 87/87 [00:27<00:00,  3.13it/s]\n",
      "100%|██████████| 87/87 [00:27<00:00,  3.13it/s]\n",
      "100%|██████████| 5/5 [02:22<00:00, 28.57s/it]\n"
     ]
    },
    {
     "name": "stdout",
     "output_type": "stream",
     "text": [
      "3025\n",
      "[0, 0, 0, 1, 38]\n"
     ]
    },
    {
     "name": "stderr",
     "output_type": "stream",
     "text": [
      "100%|██████████| 87/87 [00:27<00:00,  3.12it/s]\n",
      "100%|██████████| 87/87 [00:27<00:00,  3.12it/s]\n",
      "100%|██████████| 87/87 [00:27<00:00,  3.12it/s]\n",
      "100%|██████████| 87/87 [00:27<00:00,  3.12it/s]\n",
      "100%|██████████| 87/87 [00:27<00:00,  3.13it/s]\n",
      "100%|██████████| 5/5 [02:22<00:00, 28.60s/it]\n"
     ]
    },
    {
     "name": "stdout",
     "output_type": "stream",
     "text": [
      "11913\n",
      "[0, 0, 0, 21, 98]\n"
     ]
    },
    {
     "name": "stderr",
     "output_type": "stream",
     "text": [
      "100%|██████████| 87/87 [00:27<00:00,  3.12it/s]\n",
      "100%|██████████| 87/87 [00:27<00:00,  3.12it/s]\n",
      "100%|██████████| 87/87 [00:27<00:00,  3.14it/s]\n",
      "100%|██████████| 87/87 [00:27<00:00,  3.13it/s]\n",
      "100%|██████████| 87/87 [00:27<00:00,  3.11it/s]\n",
      "100%|██████████| 5/5 [02:22<00:00, 28.57s/it]\n"
     ]
    },
    {
     "name": "stdout",
     "output_type": "stream",
     "text": [
      "14227\n",
      "[0, 0, 0, 22, 97]\n"
     ]
    },
    {
     "name": "stderr",
     "output_type": "stream",
     "text": [
      "100%|██████████| 87/87 [00:28<00:00,  3.05it/s]\n",
      "100%|██████████| 87/87 [00:27<00:00,  3.12it/s]\n",
      "100%|██████████| 87/87 [00:27<00:00,  3.12it/s]\n",
      "100%|██████████| 87/87 [00:27<00:00,  3.12it/s]\n",
      "100%|██████████| 87/87 [00:27<00:00,  3.12it/s]\n",
      "100%|██████████| 5/5 [02:23<00:00, 28.78s/it]\n"
     ]
    },
    {
     "name": "stdout",
     "output_type": "stream",
     "text": [
      "679\n",
      "[0, 0, 0, 0, 7]\n"
     ]
    },
    {
     "name": "stderr",
     "output_type": "stream",
     "text": [
      "100%|██████████| 87/87 [00:27<00:00,  3.12it/s]\n",
      "100%|██████████| 87/87 [00:27<00:00,  3.12it/s]\n",
      "100%|██████████| 87/87 [00:27<00:00,  3.12it/s]\n",
      "100%|██████████| 87/87 [00:27<00:00,  3.12it/s]\n",
      "100%|██████████| 87/87 [00:27<00:00,  3.12it/s]\n",
      "100%|██████████| 5/5 [02:23<00:00, 28.63s/it]\n"
     ]
    },
    {
     "name": "stdout",
     "output_type": "stream",
     "text": [
      "1082\n",
      "[0, 0, 0, 1, 5]\n"
     ]
    },
    {
     "name": "stderr",
     "output_type": "stream",
     "text": [
      "100%|██████████| 87/87 [00:28<00:00,  3.03it/s]\n",
      "100%|██████████| 87/87 [00:27<00:00,  3.12it/s]\n",
      "100%|██████████| 87/87 [00:27<00:00,  3.12it/s]\n",
      "100%|██████████| 87/87 [00:27<00:00,  3.12it/s]\n",
      "100%|██████████| 87/87 [00:27<00:00,  3.12it/s]\n",
      "100%|██████████| 5/5 [02:23<00:00, 28.74s/it]\n"
     ]
    },
    {
     "name": "stdout",
     "output_type": "stream",
     "text": [
      "10793\n",
      "[0, 0, 0, 1, 12]\n"
     ]
    },
    {
     "name": "stderr",
     "output_type": "stream",
     "text": [
      "100%|██████████| 87/87 [00:27<00:00,  3.13it/s]\n",
      "100%|██████████| 87/87 [00:27<00:00,  3.12it/s]\n",
      "100%|██████████| 87/87 [00:28<00:00,  3.06it/s]\n",
      "100%|██████████| 87/87 [00:28<00:00,  3.11it/s]\n",
      "100%|██████████| 87/87 [00:27<00:00,  3.12it/s]\n",
      "100%|██████████| 5/5 [02:23<00:00, 28.69s/it]\n"
     ]
    },
    {
     "name": "stdout",
     "output_type": "stream",
     "text": [
      "6691\n",
      "[0, 0, 0, 2, 14]\n"
     ]
    },
    {
     "name": "stderr",
     "output_type": "stream",
     "text": [
      "100%|██████████| 87/87 [00:27<00:00,  3.13it/s]\n",
      "100%|██████████| 87/87 [00:27<00:00,  3.13it/s]\n",
      "100%|██████████| 87/87 [00:27<00:00,  3.13it/s]\n",
      "100%|██████████| 87/87 [00:27<00:00,  3.12it/s]\n",
      "100%|██████████| 87/87 [00:27<00:00,  3.13it/s]\n",
      "100%|██████████| 5/5 [02:22<00:00, 28.54s/it]\n"
     ]
    },
    {
     "name": "stdout",
     "output_type": "stream",
     "text": [
      "8803\n",
      "[0, 0, 0, 1, 5]\n"
     ]
    },
    {
     "name": "stderr",
     "output_type": "stream",
     "text": [
      "100%|██████████| 87/87 [00:27<00:00,  3.12it/s]\n",
      "100%|██████████| 87/87 [00:27<00:00,  3.11it/s]\n",
      "100%|██████████| 87/87 [00:27<00:00,  3.12it/s]\n",
      "100%|██████████| 87/87 [00:27<00:00,  3.12it/s]\n",
      "100%|██████████| 87/87 [00:27<00:00,  3.12it/s]\n",
      "100%|██████████| 5/5 [02:23<00:00, 28.67s/it]"
     ]
    },
    {
     "name": "stdout",
     "output_type": "stream",
     "text": [
      "8934\n",
      "[0, 0, 0, 1, 2]\n"
     ]
    },
    {
     "name": "stderr",
     "output_type": "stream",
     "text": [
      "\n"
     ]
    }
   ],
   "source": [
    "all_metrics_random = []\n",
    "\n",
    "for feature in top_ten_features:\n",
    "    metrics = get_result_metrics([feature], random=True)\n",
    "    all_metrics_random.append(metrics)\n",
    "    print(feature)\n",
    "    get_unleared_questions(metrics)"
   ]
  },
  {
   "cell_type": "code",
   "execution_count": 14,
   "metadata": {},
   "outputs": [
    {
     "name": "stdout",
     "output_type": "stream",
     "text": [
      "522\n"
     ]
    }
   ],
   "source": [
    "print(len(metrics[0]['wmdp-bio']['is_correct']))"
   ]
  },
  {
   "cell_type": "code",
   "execution_count": 19,
   "metadata": {},
   "outputs": [
    {
     "name": "stdout",
     "output_type": "stream",
     "text": [
      "[12799  5453 15661  1354  4216  1017  3828 15939 15901  8122  4945  1967\n",
      "  9723 13741 14822 15879  2512  5905 10566  7458]\n"
     ]
    }
   ],
   "source": [
    "from unlearning.feature_activation import get_top_features\n",
    "\n",
    "layer = 7\n",
    "forget_sparsity = np.loadtxt(f'../data/top_features/gemma-2-2b-it-sparsity/layer{layer}_mean_feature_activation_forget.txt', dtype=float)\n",
    "retain_sparsity = np.loadtxt(f'../data/top_features/gemma-2-2b-it-sparsity/layer{layer}_mean_feature_activation_retain.txt', dtype=float)\n",
    "\n",
    "top_features = get_top_features(forget_sparsity, retain_sparsity, retain_threshold=0.01)\n",
    "layer_7_top_ten_features = top_features[:10]"
   ]
  },
  {
   "cell_type": "code",
   "execution_count": 23,
   "metadata": {},
   "outputs": [
    {
     "name": "stderr",
     "output_type": "stream",
     "text": [
      "100%|██████████| 87/87 [00:26<00:00,  3.29it/s]\n",
      "100%|██████████| 87/87 [00:26<00:00,  3.24it/s]\n",
      "100%|██████████| 2/2 [00:54<00:00, 27.37s/it]\n",
      "100%|██████████| 87/87 [00:27<00:00,  3.19it/s]\n",
      "100%|██████████| 87/87 [00:27<00:00,  3.16it/s]\n",
      "100%|██████████| 2/2 [00:56<00:00, 28.24s/it]\n"
     ]
    }
   ],
   "source": [
    "base_layer7_metrics = get_result_metrics(layer_7_top_ten_features, multipliers=[50, 100], random=False)\n",
    "random_layer7_metrics = get_result_metrics(layer_7_top_ten_features, multipliers=[50, 100], random=True)"
   ]
  },
  {
   "cell_type": "code",
   "execution_count": 24,
   "metadata": {},
   "outputs": [
    {
     "name": "stdout",
     "output_type": "stream",
     "text": [
      "[115, 214]\n",
      "[42, 148]\n"
     ]
    }
   ],
   "source": [
    "get_unleared_questions(base_layer7_metrics)\n",
    "get_unleared_questions(random_layer7_metrics)"
   ]
  },
  {
   "cell_type": "code",
   "execution_count": 25,
   "metadata": {},
   "outputs": [
    {
     "data": {
      "text/plain": [
       "0.4099616858237548"
      ]
     },
     "execution_count": 25,
     "metadata": {},
     "output_type": "execute_result"
    }
   ],
   "source": [
    "214/522"
   ]
  },
  {
   "cell_type": "code",
   "execution_count": null,
   "metadata": {},
   "outputs": [],
   "source": []
  }
 ],
 "metadata": {
  "kernelspec": {
   "display_name": ".venv",
   "language": "python",
   "name": "python3"
  },
  "language_info": {
   "codemirror_mode": {
    "name": "ipython",
    "version": 3
   },
   "file_extension": ".py",
   "mimetype": "text/x-python",
   "name": "python",
   "nbconvert_exporter": "python",
   "pygments_lexer": "ipython3",
   "version": "3.10.13"
  }
 },
 "nbformat": 4,
 "nbformat_minor": 2
}
