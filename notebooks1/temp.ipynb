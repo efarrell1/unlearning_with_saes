{
 "cells": [
  {
   "cell_type": "code",
   "execution_count": 1,
   "metadata": {},
   "outputs": [
    {
     "name": "stdout",
     "output_type": "stream",
     "text": [
      "/root/miniconda3/envs/arena-env/bin/python3: Error while finding module specification for 'rmu.unlearn' (ModuleNotFoundError: No module named 'rmu')\n"
     ]
    }
   ],
   "source": [
    "# best\n",
    "import os\n",
    "os.environ[\"CUDA_VISIBLE_DEVICES\"]=\"0,1\"\n",
    "\n",
    "!python3 -m rmu.unlearn --max_num_batches 300 --batch_size=3 --retain_corpora wikitext,wikitext --forget_corpora bio-forget-corpus --steering_coeffs 6.5,6.5 --alpha 1200,1200 --lr 5e-5 --seed 42 --output_dir models/zephyr_rmu_6 --verbose\n"
   ]
  },
  {
   "cell_type": "code",
   "execution_count": null,
   "metadata": {},
   "outputs": [],
   "source": [
    "!lm-eval --model hf \\\n",
    "    --model_args pretrained=models/zephyr_rmu_4 \\\n",
    "    --tasks wmdp_bio \\\n",
    "    --batch_size=8 \\\n",
    "    --predict_only \\\n",
    "    --output_path=/workspace/wmdp/temp_outputs \\\n",
    "    --write_out"
   ]
  }
 ],
 "metadata": {
  "kernelspec": {
   "display_name": "arena-env",
   "language": "python",
   "name": "python3"
  },
  "language_info": {
   "codemirror_mode": {
    "name": "ipython",
    "version": 3
   },
   "file_extension": ".py",
   "mimetype": "text/x-python",
   "name": "python",
   "nbconvert_exporter": "python",
   "pygments_lexer": "ipython3",
   "version": "3.11.9"
  }
 },
 "nbformat": 4,
 "nbformat_minor": 2
}
