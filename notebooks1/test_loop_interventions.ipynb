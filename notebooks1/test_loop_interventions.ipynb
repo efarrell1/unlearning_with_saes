{
 "cells": [
  {
   "cell_type": "code",
   "execution_count": 1,
   "id": "f2a29a5c-917e-46f2-8fbf-d258d3ba23e3",
   "metadata": {},
   "outputs": [],
   "source": [
    "%load_ext autoreload\n",
    "%autoreload 2\n",
    "\n",
    "import sys\n",
    "sys.path.append(\"../\")\n",
    "\n",
    "import torch\n",
    "import random\n",
    "\n",
    "from sae.sparse_autoencoder import load_saved_sae\n",
    "from sae.metrics import model_store_from_sae\n",
    "from unlearning.metrics import convert_wmdp_data_to_prompt\n",
    "from unlearning.tool import UnlearningConfig, SAEUnlearningTool, MCQ_ActivationStoreAnalysis, ActivationStoreAnalysis\n",
    "from unlearning.metrics import modify_and_calculate_metrics, calculate_metrics_list\n",
    "\n",
    "from huggingface_hub import hf_hub_download\n",
    "from datasets import load_dataset\n",
    "import numpy as np\n",
    "import pandas as pd\n",
    "import itertools\n",
    "from transformer_lens import utils\n",
    "\n",
    "from jaxtyping import Float\n",
    "from torch import Tensor\n",
    "\n",
    "from pathlib import Path\n",
    "\n",
    "import plotly.express as px\n",
    "from unlearning.var import REPO_ID, SAE_MAPPING\n",
    "import pickle\n",
    "\n",
    "from unlearning.metrics import all_permutations"
   ]
  },
  {
   "cell_type": "code",
   "execution_count": 3,
   "id": "7d31c5d9-2a84-4856-8cc1-a2ecbb80d556",
   "metadata": {},
   "outputs": [
    {
     "data": {
      "application/vnd.jupyter.widget-view+json": {
       "model_id": "c65b9cc1b3a94439aa7cac1dcfcafa17",
       "version_major": 2,
       "version_minor": 0
      },
      "text/plain": [
       "config.json:   0%|          | 0.00/627 [00:00<?, ?B/s]"
      ]
     },
     "metadata": {},
     "output_type": "display_data"
    },
    {
     "data": {
      "application/vnd.jupyter.widget-view+json": {
       "model_id": "722fc44d169c4ad8b03e375f4229dc0c",
       "version_major": 2,
       "version_minor": 0
      },
      "text/plain": [
       "model.safetensors.index.json:   0%|          | 0.00/13.5k [00:00<?, ?B/s]"
      ]
     },
     "metadata": {},
     "output_type": "display_data"
    },
    {
     "data": {
      "application/vnd.jupyter.widget-view+json": {
       "model_id": "bf79540abb044d579643a59da09c80fe",
       "version_major": 2,
       "version_minor": 0
      },
      "text/plain": [
       "Downloading shards:   0%|          | 0/2 [00:00<?, ?it/s]"
      ]
     },
     "metadata": {},
     "output_type": "display_data"
    },
    {
     "data": {
      "application/vnd.jupyter.widget-view+json": {
       "model_id": "8d10dfcd51e2447894a72104c881f678",
       "version_major": 2,
       "version_minor": 0
      },
      "text/plain": [
       "model-00001-of-00002.safetensors:   0%|          | 0.00/4.95G [00:00<?, ?B/s]"
      ]
     },
     "metadata": {},
     "output_type": "display_data"
    },
    {
     "data": {
      "application/vnd.jupyter.widget-view+json": {
       "model_id": "c26b5a8019574f83a55dd4a55a8c862f",
       "version_major": 2,
       "version_minor": 0
      },
      "text/plain": [
       "model-00002-of-00002.safetensors:   0%|          | 0.00/67.1M [00:00<?, ?B/s]"
      ]
     },
     "metadata": {},
     "output_type": "display_data"
    },
    {
     "name": "stderr",
     "output_type": "stream",
     "text": [
      "Gemma's activation function should be approximate GeLU and not exact GeLU.\n",
      "Changing the activation function to `gelu_pytorch_tanh`.if you want to use the legacy `gelu`, edit the `model.config` to set `hidden_activation=gelu`   instead of `hidden_act`. See https://github.com/huggingface/transformers/pull/29402 for more details.\n"
     ]
    },
    {
     "data": {
      "application/vnd.jupyter.widget-view+json": {
       "model_id": "af0c74075b04427292e0d79cd20e9630",
       "version_major": 2,
       "version_minor": 0
      },
      "text/plain": [
       "Loading checkpoint shards:   0%|          | 0/2 [00:00<?, ?it/s]"
      ]
     },
     "metadata": {},
     "output_type": "display_data"
    },
    {
     "data": {
      "application/vnd.jupyter.widget-view+json": {
       "model_id": "1fafe667e7a84cb1a5aef9842f4e145e",
       "version_major": 2,
       "version_minor": 0
      },
      "text/plain": [
       "generation_config.json:   0%|          | 0.00/137 [00:00<?, ?B/s]"
      ]
     },
     "metadata": {},
     "output_type": "display_data"
    },
    {
     "data": {
      "application/vnd.jupyter.widget-view+json": {
       "model_id": "7c2c2b10d90e4bdb865c83337a4cd2dc",
       "version_major": 2,
       "version_minor": 0
      },
      "text/plain": [
       "tokenizer_config.json:   0%|          | 0.00/34.2k [00:00<?, ?B/s]"
      ]
     },
     "metadata": {},
     "output_type": "display_data"
    },
    {
     "data": {
      "application/vnd.jupyter.widget-view+json": {
       "model_id": "b5ee95528e134fa994f47fb071dfe02e",
       "version_major": 2,
       "version_minor": 0
      },
      "text/plain": [
       "tokenizer.model:   0%|          | 0.00/4.24M [00:00<?, ?B/s]"
      ]
     },
     "metadata": {},
     "output_type": "display_data"
    },
    {
     "data": {
      "application/vnd.jupyter.widget-view+json": {
       "model_id": "3b2d42ef861b47ed9b1d3562b1304a66",
       "version_major": 2,
       "version_minor": 0
      },
      "text/plain": [
       "tokenizer.json:   0%|          | 0.00/17.5M [00:00<?, ?B/s]"
      ]
     },
     "metadata": {},
     "output_type": "display_data"
    },
    {
     "data": {
      "application/vnd.jupyter.widget-view+json": {
       "model_id": "b0cfffac9a36437da388565640f6c448",
       "version_major": 2,
       "version_minor": 0
      },
      "text/plain": [
       "special_tokens_map.json:   0%|          | 0.00/636 [00:00<?, ?B/s]"
      ]
     },
     "metadata": {},
     "output_type": "display_data"
    },
    {
     "name": "stderr",
     "output_type": "stream",
     "text": [
      "WARNING:root:You are not using LayerNorm, so the writing weights can't be centered! Skipping\n"
     ]
    },
    {
     "name": "stdout",
     "output_type": "stream",
     "text": [
      "Loaded pretrained model gemma-2b-it into HookedTransformer\n",
      "Moving model to device:  cuda\n"
     ]
    }
   ],
   "source": [
    "# Load main SAE for gemma-2b-it\n",
    "filename = hf_hub_download(repo_id=REPO_ID, filename=SAE_MAPPING['gemma_2b_it_resid_pre_9'])\n",
    "sae = load_saved_sae(filename)\n",
    "model = model_store_from_sae(sae)"
   ]
  },
  {
   "cell_type": "code",
   "execution_count": 4,
   "id": "70742e4a-9c28-4354-9a3a-5935369df00e",
   "metadata": {},
   "outputs": [
    {
     "data": {
      "application/vnd.jupyter.widget-view+json": {
       "model_id": "8553b7c5d1794e9c894e7bad5af3cec3",
       "version_major": 2,
       "version_minor": 0
      },
      "text/plain": [
       "Downloading builder script:   0%|          | 0.00/2.73k [00:00<?, ?B/s]"
      ]
     },
     "metadata": {},
     "output_type": "display_data"
    },
    {
     "data": {
      "application/vnd.jupyter.widget-view+json": {
       "model_id": "f02ae5f21bfb48a586cfc9bd1bf9b8b1",
       "version_major": 2,
       "version_minor": 0
      },
      "text/plain": [
       "Downloading readme:   0%|          | 0.00/7.35k [00:00<?, ?B/s]"
      ]
     },
     "metadata": {},
     "output_type": "display_data"
    },
    {
     "name": "stdout",
     "output_type": "stream",
     "text": [
      "buffer\n",
      "dataloader\n"
     ]
    }
   ],
   "source": [
    "activation_store = ActivationStoreAnalysis(sae.cfg, model)"
   ]
  },
  {
   "cell_type": "code",
   "execution_count": 5,
   "id": "5a3bfcbd-7730-47fb-872a-ff653d1f3a25",
   "metadata": {},
   "outputs": [],
   "source": [
    "# load good feature list\n",
    "\n",
    "with open('../yeutong_notebooks/unlearning_output/good_features_list_v1.pkl', 'rb') as f:\n",
    "    good_features_list = pickle.load(f)\n",
    "\n",
    "\n",
    "features_to_test = list(set([item for sublist in good_features_list.values() for item in sublist]))\n",
    "filtered_good_features = [12663, 4342, 5749, 10355, 1523, 15858, 12273, 14315, 4451, 1611, 10051, 16186, 7983, 6958, 1307, 11019, 6531, 12289]\n",
    "filtered_features_sorted_by_loss = [7983, 16186, 12273, 14315,  4342, 10051, 15858,  6958, 12663, 1611,  6531,  1523, 10355,  5749,  1307, 12289,  4451, 11019]\n",
    "filtered_features_sorted_by_loss2 = np.concatenate((filtered_features_sorted_by_loss[:8], filtered_features_sorted_by_loss[10:11], filtered_features_sorted_by_loss[12:]))\n",
    "\n",
    "unlearning_dataset = ['wmdp-bio']\n",
    "side_effect_dataset_names =  ['high_school_us_history', 'college_computer_science', 'high_school_geography', 'human_aging', 'college_biology']\n"
   ]
  },
  {
   "cell_type": "code",
   "execution_count": 6,
   "id": "6674c043-7c45-498f-a495-d8d2797e5704",
   "metadata": {},
   "outputs": [
    {
     "name": "stdout",
     "output_type": "stream",
     "text": [
      "The following are multiple choice questions (with answers) about biology.\n",
      "\n"
     ]
    },
    {
     "data": {
      "application/vnd.jupyter.widget-view+json": {
       "model_id": "8edfb1a7bb8f4bdf90ce94256a142d34",
       "version_major": 2,
       "version_minor": 0
      },
      "text/plain": [
       "Downloading readme:   0%|          | 0.00/4.64k [00:00<?, ?B/s]"
      ]
     },
     "metadata": {},
     "output_type": "display_data"
    },
    {
     "data": {
      "application/vnd.jupyter.widget-view+json": {
       "model_id": "aa6e5b6a31064a9b81cd0f85c255f55a",
       "version_major": 2,
       "version_minor": 0
      },
      "text/plain": [
       "Downloading data:   0%|          | 0.00/258k [00:00<?, ?B/s]"
      ]
     },
     "metadata": {},
     "output_type": "display_data"
    },
    {
     "data": {
      "application/vnd.jupyter.widget-view+json": {
       "model_id": "958026ffd6704dd599a8f630c700c6db",
       "version_major": 2,
       "version_minor": 0
      },
      "text/plain": [
       "Generating test split:   0%|          | 0/1273 [00:00<?, ? examples/s]"
      ]
     },
     "metadata": {},
     "output_type": "display_data"
    },
    {
     "name": "stderr",
     "output_type": "stream",
     "text": [
      "100%|██████████| 29/29 [00:06<00:00,  4.36it/s]\n"
     ]
    },
    {
     "data": {
      "application/vnd.jupyter.widget-view+json": {
       "model_id": "bed61b2aba3748df8d80a9df1d6ff335",
       "version_major": 2,
       "version_minor": 0
      },
      "text/plain": [
       "Downloading readme:   0%|          | 0.00/53.2k [00:00<?, ?B/s]"
      ]
     },
     "metadata": {},
     "output_type": "display_data"
    },
    {
     "data": {
      "application/vnd.jupyter.widget-view+json": {
       "model_id": "748c1c174dc9465a81c712ee98103e8b",
       "version_major": 2,
       "version_minor": 0
      },
      "text/plain": [
       "Downloading metadata:   0%|          | 0.00/138k [00:00<?, ?B/s]"
      ]
     },
     "metadata": {},
     "output_type": "display_data"
    },
    {
     "data": {
      "application/vnd.jupyter.widget-view+json": {
       "model_id": "947fa3a5d1284eb495c7cd00284c0110",
       "version_major": 2,
       "version_minor": 0
      },
      "text/plain": [
       "Downloading data:   0%|          | 0.00/155k [00:00<?, ?B/s]"
      ]
     },
     "metadata": {},
     "output_type": "display_data"
    },
    {
     "data": {
      "application/vnd.jupyter.widget-view+json": {
       "model_id": "955e0290fd5545838a1f98b5bd997f55",
       "version_major": 2,
       "version_minor": 0
      },
      "text/plain": [
       "Downloading data:   0%|          | 0.00/27.3k [00:00<?, ?B/s]"
      ]
     },
     "metadata": {},
     "output_type": "display_data"
    },
    {
     "data": {
      "application/vnd.jupyter.widget-view+json": {
       "model_id": "203fbd1b8800496bac7402ac7674224e",
       "version_major": 2,
       "version_minor": 0
      },
      "text/plain": [
       "Downloading data:   0%|          | 0.00/17.8k [00:00<?, ?B/s]"
      ]
     },
     "metadata": {},
     "output_type": "display_data"
    },
    {
     "data": {
      "application/vnd.jupyter.widget-view+json": {
       "model_id": "7de06dbd57814695a7f43065df65269d",
       "version_major": 2,
       "version_minor": 0
      },
      "text/plain": [
       "Generating test split:   0%|          | 0/204 [00:00<?, ? examples/s]"
      ]
     },
     "metadata": {},
     "output_type": "display_data"
    },
    {
     "data": {
      "application/vnd.jupyter.widget-view+json": {
       "model_id": "afeb8c006ba24d63a7b49b30977c29af",
       "version_major": 2,
       "version_minor": 0
      },
      "text/plain": [
       "Generating validation split:   0%|          | 0/22 [00:00<?, ? examples/s]"
      ]
     },
     "metadata": {},
     "output_type": "display_data"
    },
    {
     "data": {
      "application/vnd.jupyter.widget-view+json": {
       "model_id": "6a2ce317dfb44776becfa1ff6d7faa72",
       "version_major": 2,
       "version_minor": 0
      },
      "text/plain": [
       "Generating dev split:   0%|          | 0/5 [00:00<?, ? examples/s]"
      ]
     },
     "metadata": {},
     "output_type": "display_data"
    },
    {
     "name": "stderr",
     "output_type": "stream",
     "text": [
      "100%|██████████| 6/6 [00:03<00:00,  1.62it/s]\n"
     ]
    },
    {
     "data": {
      "application/vnd.jupyter.widget-view+json": {
       "model_id": "57b7e5baadf549ee8c805c30c6e0f5b7",
       "version_major": 2,
       "version_minor": 0
      },
      "text/plain": [
       "Downloading data:   0%|          | 0.00/28.1k [00:00<?, ?B/s]"
      ]
     },
     "metadata": {},
     "output_type": "display_data"
    },
    {
     "data": {
      "application/vnd.jupyter.widget-view+json": {
       "model_id": "8c867941cbfc420c88d55dbe40f1847f",
       "version_major": 2,
       "version_minor": 0
      },
      "text/plain": [
       "Downloading data:   0%|          | 0.00/6.25k [00:00<?, ?B/s]"
      ]
     },
     "metadata": {},
     "output_type": "display_data"
    },
    {
     "data": {
      "application/vnd.jupyter.widget-view+json": {
       "model_id": "e3f28ae5b85741a3a011fd8544ee5ce5",
       "version_major": 2,
       "version_minor": 0
      },
      "text/plain": [
       "Downloading data:   0%|          | 0.00/6.81k [00:00<?, ?B/s]"
      ]
     },
     "metadata": {},
     "output_type": "display_data"
    },
    {
     "data": {
      "application/vnd.jupyter.widget-view+json": {
       "model_id": "623f1a3d74154dac9155c38c819f4659",
       "version_major": 2,
       "version_minor": 0
      },
      "text/plain": [
       "Generating test split:   0%|          | 0/100 [00:00<?, ? examples/s]"
      ]
     },
     "metadata": {},
     "output_type": "display_data"
    },
    {
     "data": {
      "application/vnd.jupyter.widget-view+json": {
       "model_id": "c3e14ae409724310a12a735959abe2e0",
       "version_major": 2,
       "version_minor": 0
      },
      "text/plain": [
       "Generating validation split:   0%|          | 0/11 [00:00<?, ? examples/s]"
      ]
     },
     "metadata": {},
     "output_type": "display_data"
    },
    {
     "data": {
      "application/vnd.jupyter.widget-view+json": {
       "model_id": "f3624578ae634ecd97be2fd17839e88a",
       "version_major": 2,
       "version_minor": 0
      },
      "text/plain": [
       "Generating dev split:   0%|          | 0/5 [00:00<?, ? examples/s]"
      ]
     },
     "metadata": {},
     "output_type": "display_data"
    },
    {
     "name": "stderr",
     "output_type": "stream",
     "text": [
      "100%|██████████| 2/2 [00:00<00:00,  3.68it/s]\n"
     ]
    },
    {
     "data": {
      "application/vnd.jupyter.widget-view+json": {
       "model_id": "616e3f582f344daea3ed6673c7f5fef9",
       "version_major": 2,
       "version_minor": 0
      },
      "text/plain": [
       "Downloading data:   0%|          | 0.00/28.2k [00:00<?, ?B/s]"
      ]
     },
     "metadata": {},
     "output_type": "display_data"
    },
    {
     "data": {
      "application/vnd.jupyter.widget-view+json": {
       "model_id": "f08e88367ce447d1a7180f26bb3d226f",
       "version_major": 2,
       "version_minor": 0
      },
      "text/plain": [
       "Downloading data:   0%|          | 0.00/6.16k [00:00<?, ?B/s]"
      ]
     },
     "metadata": {},
     "output_type": "display_data"
    },
    {
     "data": {
      "application/vnd.jupyter.widget-view+json": {
       "model_id": "36e382aafeff4b60a9779235c424c280",
       "version_major": 2,
       "version_minor": 0
      },
      "text/plain": [
       "Downloading data:   0%|          | 0.00/3.93k [00:00<?, ?B/s]"
      ]
     },
     "metadata": {},
     "output_type": "display_data"
    },
    {
     "data": {
      "application/vnd.jupyter.widget-view+json": {
       "model_id": "dddd0c0c97f14c0b9e645c035d1148ee",
       "version_major": 2,
       "version_minor": 0
      },
      "text/plain": [
       "Generating test split:   0%|          | 0/198 [00:00<?, ? examples/s]"
      ]
     },
     "metadata": {},
     "output_type": "display_data"
    },
    {
     "data": {
      "application/vnd.jupyter.widget-view+json": {
       "model_id": "aaa7b93781bf4ce0818674f08409fc06",
       "version_major": 2,
       "version_minor": 0
      },
      "text/plain": [
       "Generating validation split:   0%|          | 0/22 [00:00<?, ? examples/s]"
      ]
     },
     "metadata": {},
     "output_type": "display_data"
    },
    {
     "data": {
      "application/vnd.jupyter.widget-view+json": {
       "model_id": "5b49273ff8b04c839ff2727de231d853",
       "version_major": 2,
       "version_minor": 0
      },
      "text/plain": [
       "Generating dev split:   0%|          | 0/5 [00:00<?, ? examples/s]"
      ]
     },
     "metadata": {},
     "output_type": "display_data"
    },
    {
     "name": "stderr",
     "output_type": "stream",
     "text": [
      "100%|██████████| 5/5 [00:00<00:00,  6.15it/s]\n"
     ]
    },
    {
     "data": {
      "application/vnd.jupyter.widget-view+json": {
       "model_id": "76f0648c36394b96978c747a07671a50",
       "version_major": 2,
       "version_minor": 0
      },
      "text/plain": [
       "Downloading data:   0%|          | 0.00/31.2k [00:00<?, ?B/s]"
      ]
     },
     "metadata": {},
     "output_type": "display_data"
    },
    {
     "data": {
      "application/vnd.jupyter.widget-view+json": {
       "model_id": "69b93e863b7340358f063fa0ccdc4d51",
       "version_major": 2,
       "version_minor": 0
      },
      "text/plain": [
       "Downloading data:   0%|          | 0.00/6.28k [00:00<?, ?B/s]"
      ]
     },
     "metadata": {},
     "output_type": "display_data"
    },
    {
     "data": {
      "application/vnd.jupyter.widget-view+json": {
       "model_id": "3d566b4c204d4b93af884fbe3ac3122b",
       "version_major": 2,
       "version_minor": 0
      },
      "text/plain": [
       "Downloading data:   0%|          | 0.00/3.67k [00:00<?, ?B/s]"
      ]
     },
     "metadata": {},
     "output_type": "display_data"
    },
    {
     "data": {
      "application/vnd.jupyter.widget-view+json": {
       "model_id": "a88610f4270449bd87654adf6964584b",
       "version_major": 2,
       "version_minor": 0
      },
      "text/plain": [
       "Generating test split:   0%|          | 0/223 [00:00<?, ? examples/s]"
      ]
     },
     "metadata": {},
     "output_type": "display_data"
    },
    {
     "data": {
      "application/vnd.jupyter.widget-view+json": {
       "model_id": "3cc08dc9991d430dae1903fc3e6ed05f",
       "version_major": 2,
       "version_minor": 0
      },
      "text/plain": [
       "Generating validation split:   0%|          | 0/23 [00:00<?, ? examples/s]"
      ]
     },
     "metadata": {},
     "output_type": "display_data"
    },
    {
     "data": {
      "application/vnd.jupyter.widget-view+json": {
       "model_id": "9035ce641a314c779daecfd10bd83f45",
       "version_major": 2,
       "version_minor": 0
      },
      "text/plain": [
       "Generating dev split:   0%|          | 0/5 [00:00<?, ? examples/s]"
      ]
     },
     "metadata": {},
     "output_type": "display_data"
    },
    {
     "name": "stderr",
     "output_type": "stream",
     "text": [
      "100%|██████████| 6/6 [00:00<00:00,  6.40it/s]\n"
     ]
    },
    {
     "data": {
      "application/vnd.jupyter.widget-view+json": {
       "model_id": "8e2bcce7e20c48f792cefd3c3d5771f0",
       "version_major": 2,
       "version_minor": 0
      },
      "text/plain": [
       "Downloading data:   0%|          | 0.00/31.8k [00:00<?, ?B/s]"
      ]
     },
     "metadata": {},
     "output_type": "display_data"
    },
    {
     "data": {
      "application/vnd.jupyter.widget-view+json": {
       "model_id": "adc1a3e464194fda8501f8f083a54ed4",
       "version_major": 2,
       "version_minor": 0
      },
      "text/plain": [
       "Downloading data:   0%|          | 0.00/6.90k [00:00<?, ?B/s]"
      ]
     },
     "metadata": {},
     "output_type": "display_data"
    },
    {
     "data": {
      "application/vnd.jupyter.widget-view+json": {
       "model_id": "6626d8e4789d44b39cf85df797eef973",
       "version_major": 2,
       "version_minor": 0
      },
      "text/plain": [
       "Downloading data:   0%|          | 0.00/4.27k [00:00<?, ?B/s]"
      ]
     },
     "metadata": {},
     "output_type": "display_data"
    },
    {
     "data": {
      "application/vnd.jupyter.widget-view+json": {
       "model_id": "0644d0ddafdb41358dc7a9138302af22",
       "version_major": 2,
       "version_minor": 0
      },
      "text/plain": [
       "Generating test split:   0%|          | 0/144 [00:00<?, ? examples/s]"
      ]
     },
     "metadata": {},
     "output_type": "display_data"
    },
    {
     "data": {
      "application/vnd.jupyter.widget-view+json": {
       "model_id": "91a062053bd84f6fa6d400eb02cd5e20",
       "version_major": 2,
       "version_minor": 0
      },
      "text/plain": [
       "Generating validation split:   0%|          | 0/16 [00:00<?, ? examples/s]"
      ]
     },
     "metadata": {},
     "output_type": "display_data"
    },
    {
     "data": {
      "application/vnd.jupyter.widget-view+json": {
       "model_id": "fb00947ba332460b916ffa34ef758c18",
       "version_major": 2,
       "version_minor": 0
      },
      "text/plain": [
       "Generating dev split:   0%|          | 0/5 [00:00<?, ? examples/s]"
      ]
     },
     "metadata": {},
     "output_type": "display_data"
    },
    {
     "name": "stderr",
     "output_type": "stream",
     "text": [
      "100%|██████████| 3/3 [00:00<00:00,  5.92it/s]\n",
      "100%|██████████| 50/50 [01:02<00:00,  1.25s/it]"
     ]
    },
    {
     "name": "stdout",
     "output_type": "stream",
     "text": [
      "\n"
     ]
    },
    {
     "name": "stderr",
     "output_type": "stream",
     "text": [
      "\n"
     ]
    }
   ],
   "source": [
    "main_ablate_params = {\n",
    "    'features_to_ablate': [],\n",
    "    'multiplier': 15,\n",
    "    'intervention_method': 'clamp_feature_activation',\n",
    "}\n",
    "\n",
    "sweep = {\n",
    "    'features_to_ablate': [filtered_features_sorted_by_loss2],\n",
    "}\n",
    "\n",
    "\n",
    "question_subset = [ 15,  20,  24,  28,  34,  45,  49,  61,  63,  68,  69,  70,  72, 86,  95,  97,  99, 111, 112, 122, 123, 132, 145, 151, 173, 174, 175, 177, 182, 185, 193]\n",
    "\n",
    "metric_params = { 'high_school_us_history': \n",
    "                 {\n",
    "                    'target_metric': None,\n",
    "                    'question_subset': question_subset,\n",
    "                 }\n",
    "                }\n",
    "\n",
    "\n",
    "# Which metrics to get\n",
    "dataset_names = ['wmdp-bio', 'high_school_us_history'] \n",
    "dataset_names = unlearning_dataset + side_effect_dataset_names\n",
    "# dataset_names = []\n",
    "compute_loss = True\n",
    "\n",
    "\n",
    "metrics_list = calculate_metrics_list(model,\n",
    "                                      sae,\n",
    "                                      main_ablate_params,\n",
    "                                      sweep,\n",
    "                                      metric_params=metric_params,\n",
    "                                      dataset_names=dataset_names,\n",
    "                                      compute_loss=compute_loss,\n",
    "                                      n_batch_loss_added=50,\n",
    "                                     activation_store=activation_store)\n",
    "\n",
    "# metrics_dict = convert_list_of_dicts_to_dict_of_lists(metrics_list)\n",
    "\n"
   ]
  },
  {
   "cell_type": "code",
   "execution_count": 7,
   "id": "53b9c5a4-5a2b-46e2-9280-edddcf9a9acf",
   "metadata": {},
   "outputs": [
    {
     "data": {
      "text/plain": [
       "[0.45348837971687317,\n",
       " 1.0,\n",
       " 1.0,\n",
       " 0.9333333969116211,\n",
       " 0.78125,\n",
       " 0.6000000238418579]"
      ]
     },
     "execution_count": 7,
     "metadata": {},
     "output_type": "execute_result"
    }
   ],
   "source": [
    "[metrics_list[0][x]['mean_correct'] for x in dataset_names]"
   ]
  },
  {
   "cell_type": "code",
   "execution_count": 8,
   "id": "fdd04170-6e8b-4cda-9715-5095aca6bab4",
   "metadata": {},
   "outputs": [
    {
     "data": {
      "text/plain": [
       "['wmdp-bio',\n",
       " 'high_school_us_history',\n",
       " 'college_computer_science',\n",
       " 'high_school_geography',\n",
       " 'human_aging',\n",
       " 'college_biology']"
      ]
     },
     "execution_count": 8,
     "metadata": {},
     "output_type": "execute_result"
    }
   ],
   "source": [
    "dataset_names"
   ]
  },
  {
   "cell_type": "code",
   "execution_count": null,
   "id": "0e238d37-dd61-402a-8a78-7a5a9c31b462",
   "metadata": {},
   "outputs": [],
   "source": []
  },
  {
   "cell_type": "code",
   "execution_count": 23,
   "id": "afd728ab-3041-4c54-80d3-05e322cc88dc",
   "metadata": {},
   "outputs": [
    {
     "data": {
      "text/plain": [
       "(1.0, 0.3604651093482971, 0.0251005220413208)"
      ]
     },
     "execution_count": 23,
     "metadata": {},
     "output_type": "execute_result"
    }
   ],
   "source": [
    "metrics_list[0]['high_school_us_history']['mean_correct'], metrics_list[0]['wmdp-bio']['mean_correct'], metrics_list[0]['loss_added']"
   ]
  },
  {
   "cell_type": "code",
   "execution_count": 20,
   "id": "baf9913c-b933-41c2-a08b-9d1ce13a2afc",
   "metadata": {},
   "outputs": [
    {
     "data": {
      "text/plain": [
       "(1.0, 0.45348837971687317, 0.008123407363891602)"
      ]
     },
     "execution_count": 20,
     "metadata": {},
     "output_type": "execute_result"
    }
   ],
   "source": [
    "metrics_list[0]['high_school_us_history']['mean_correct'], metrics_list[0]['wmdp-bio']['mean_correct'], metrics_list[0]['loss_added']"
   ]
  },
  {
   "cell_type": "code",
   "execution_count": 22,
   "id": "553c361f-a58e-4e4d-aff5-334d02bc79da",
   "metadata": {},
   "outputs": [
    {
     "data": {
      "text/plain": [
       "(1.0, 0.3604651093482971, 0.0251005220413208)"
      ]
     },
     "execution_count": 22,
     "metadata": {},
     "output_type": "execute_result"
    }
   ],
   "source": [
    "metrics_list[0]['high_school_us_history']['mean_correct'], metrics_list[0]['wmdp-bio']['mean_correct'], metrics_list[0]['loss_added']"
   ]
  },
  {
   "cell_type": "code",
   "execution_count": null,
   "id": "e4670844-c484-404d-943e-622e6e998712",
   "metadata": {},
   "outputs": [],
   "source": []
  },
  {
   "cell_type": "code",
   "execution_count": 15,
   "id": "99bc413b-6370-4119-9f60-7e7fe49afbac",
   "metadata": {},
   "outputs": [
    {
     "data": {
      "text/plain": [
       "0.03617446660995483"
      ]
     },
     "execution_count": 15,
     "metadata": {},
     "output_type": "execute_result"
    }
   ],
   "source": [
    "metrics_list[0]['loss_added']"
   ]
  },
  {
   "cell_type": "code",
   "execution_count": null,
   "id": "4af141e6-bbe9-4e23-864a-f4a569506d0c",
   "metadata": {},
   "outputs": [],
   "source": []
  },
  {
   "cell_type": "code",
   "execution_count": null,
   "id": "aeb74c27-7ec8-4a82-9fdd-c6435930788e",
   "metadata": {},
   "outputs": [],
   "source": []
  },
  {
   "cell_type": "code",
   "execution_count": null,
   "id": "68ce7333-237d-4cac-a05e-40e26dc0f8a3",
   "metadata": {},
   "outputs": [],
   "source": []
  },
  {
   "cell_type": "code",
   "execution_count": 142,
   "id": "0c9e57cd-bf17-4fbf-9683-0755ffed8874",
   "metadata": {},
   "outputs": [
    {
     "name": "stdout",
     "output_type": "stream",
     "text": [
      "The following are multiple choice questions (with answers) about biology.\n",
      "\n"
     ]
    },
    {
     "name": "stderr",
     "output_type": "stream",
     "text": [
      "100%|██████████| 29/29 [00:06<00:00,  4.26it/s]"
     ]
    },
    {
     "name": "stdout",
     "output_type": "stream",
     "text": [
      "\n"
     ]
    },
    {
     "name": "stderr",
     "output_type": "stream",
     "text": [
      "\n"
     ]
    }
   ],
   "source": [
    "main_ablate_params = {\n",
    "    'features_to_ablate': [],\n",
    "    'multiplier': 20,\n",
    "    'intervention_method': 'clamp_feature_activation',\n",
    "}\n",
    "\n",
    "sweep = {\n",
    "    'features_to_ablate': [filtered_features_sorted_by_loss2[:i+1] for i in range(1)],\n",
    "}\n",
    "\n",
    "\n",
    "question_subset = [ 15,  20,  24,  28,  34,  45,  49,  61,  63,  68,  69,  70,  72, 86,  95,  97,  99, 111, 112, 122, 123, 132, 145, 151, 173, 174, 175, 177, 182, 185, 193]\n",
    "\n",
    "metric_params = { 'high_school_us_history': \n",
    "                 {\n",
    "                    'target_metric': None,\n",
    "                     'without_question': False,\n",
    "                     'question_subset': question_subset,\n",
    "                     'permutations': None,\n",
    "                 }\n",
    "                }\n",
    "\n",
    "\n",
    "# Which metrics to get\n",
    "dataset_names = ['wmdp-bio', 'high_school_us_history'][:1]\n",
    "compute_loss = False\n",
    "\n",
    "\n",
    "\n",
    "\n",
    "metrics_list = calculate_metrics_list(model,\n",
    "                                      sae,\n",
    "                                      main_ablate_params,\n",
    "                                      sweep,\n",
    "                                      metric_params=metric_params,\n",
    "                                      dataset_names=dataset_names,\n",
    "                                      compute_loss=compute_loss,\n",
    "                                      n_batch_loss_added=10,\n",
    "                                     activation_store=activation_store)\n",
    "\n",
    "# metrics_dict = convert_list_of_dicts_to_dict_of_lists(metrics_list)\n",
    "\n"
   ]
  },
  {
   "cell_type": "code",
   "execution_count": 143,
   "id": "b0d2837d-90e6-4019-83aa-698d83803b16",
   "metadata": {},
   "outputs": [
    {
     "data": {
      "text/plain": [
       "([0.9767441749572754], [168])"
      ]
     },
     "execution_count": 143,
     "metadata": {},
     "output_type": "execute_result"
    }
   ],
   "source": [
    "[x['wmdp-bio']['mean_correct'] for x in metrics_list], [x['wmdp-bio']['total_correct'] for x in metrics_list]"
   ]
  },
  {
   "cell_type": "code",
   "execution_count": 141,
   "id": "73998102-fe12-47f1-b5ce-086d64a27d8f",
   "metadata": {},
   "outputs": [
    {
     "data": {
      "text/plain": [
       "0.9883720930232558"
      ]
     },
     "execution_count": 141,
     "metadata": {},
     "output_type": "execute_result"
    }
   ],
   "source": [
    "170/172"
   ]
  },
  {
   "cell_type": "code",
   "execution_count": 131,
   "id": "d71561a7-742c-49b9-a952-f8f68edc58f6",
   "metadata": {},
   "outputs": [],
   "source": [
    "metrics_dict = convert_list_of_dicts_to_dict_of_lists(metrics_list)\n"
   ]
  },
  {
   "cell_type": "code",
   "execution_count": 132,
   "id": "d301a771-318c-4e73-b83e-d94ff7a2ace5",
   "metadata": {},
   "outputs": [
    {
     "data": {
      "text/plain": [
       "[-0.0010888338088989257, -0.001949143409729004, -0.001949143409729004]"
      ]
     },
     "execution_count": 132,
     "metadata": {},
     "output_type": "execute_result"
    }
   ],
   "source": [
    "metrics_dict['loss_added']"
   ]
  },
  {
   "cell_type": "code",
   "execution_count": 133,
   "id": "e4be4263-63e0-4898-886c-2f6dd06c40c7",
   "metadata": {},
   "outputs": [
    {
     "data": {
      "text/plain": [
       "[0.9767441749572754, 0.9709302186965942, 0.8604651093482971]"
      ]
     },
     "execution_count": 133,
     "metadata": {},
     "output_type": "execute_result"
    }
   ],
   "source": []
  },
  {
   "cell_type": "code",
   "execution_count": null,
   "id": "7a561ff9-9d36-4dd1-9026-d65180a01e44",
   "metadata": {},
   "outputs": [],
   "source": []
  },
  {
   "cell_type": "code",
   "execution_count": null,
   "id": "0c609271-6892-41b9-a2bb-6a0a79aeb3d7",
   "metadata": {},
   "outputs": [],
   "source": []
  },
  {
   "cell_type": "code",
   "execution_count": null,
   "id": "6551a554-d8df-44fd-b090-c836f1759283",
   "metadata": {},
   "outputs": [],
   "source": []
  },
  {
   "cell_type": "code",
   "execution_count": null,
   "id": "414d8174-0192-4821-b6b8-e169d3ff4cb9",
   "metadata": {},
   "outputs": [],
   "source": []
  },
  {
   "cell_type": "code",
   "execution_count": 110,
   "id": "4af95440-4b4d-4d2e-b1a9-051f5834b4b8",
   "metadata": {},
   "outputs": [
    {
     "data": {
      "text/plain": [
       "array([24., 24., 24., 24., 24., 24., 24., 24., 24., 24., 24., 24., 24.,\n",
       "       24., 24., 24., 24., 24., 24., 24., 24., 24., 24., 24., 24., 24.,\n",
       "       24.], dtype=float32)"
      ]
     },
     "execution_count": 110,
     "metadata": {},
     "output_type": "execute_result"
    }
   ],
   "source": [
    "metrics_list[0]['high_school_us_history']['is_correct'].reshape(-1, 24).sum(axis=1)"
   ]
  },
  {
   "cell_type": "code",
   "execution_count": 117,
   "id": "dca5b63a-476f-4509-8d66-90a426c860c0",
   "metadata": {},
   "outputs": [
    {
     "data": {
      "text/plain": [
       "31"
      ]
     },
     "execution_count": 117,
     "metadata": {},
     "output_type": "execute_result"
    }
   ],
   "source": [
    "a = metrics_list[0]['high_school_us_history']['is_correct'].reshape(-1, 24).sum(axis=1)\n",
    "len(a)"
   ]
  },
  {
   "cell_type": "code",
   "execution_count": 93,
   "id": "8a39b3b9-e391-4168-8125-8dab65fde0da",
   "metadata": {},
   "outputs": [
    {
     "name": "stderr",
     "output_type": "stream",
     "text": [
      "100%|██████████| 6/6 [00:03<00:00,  1.68it/s]"
     ]
    },
    {
     "name": "stdout",
     "output_type": "stream",
     "text": [
      "\n"
     ]
    },
    {
     "name": "stderr",
     "output_type": "stream",
     "text": [
      "\n"
     ]
    }
   ],
   "source": []
  },
  {
   "cell_type": "code",
   "execution_count": 101,
   "id": "5d29c9f6-7f2d-4ff1-8337-e54a81f83f98",
   "metadata": {},
   "outputs": [
    {
     "data": {
      "text/plain": [
       "[1.0]"
      ]
     },
     "execution_count": 101,
     "metadata": {},
     "output_type": "execute_result"
    }
   ],
   "source": [
    "[x['mean_correct'] for x in metrics_list['high_school_us_history']]"
   ]
  },
  {
   "cell_type": "code",
   "execution_count": 89,
   "id": "68770a5e-02ad-41cf-a120-2721d349de39",
   "metadata": {},
   "outputs": [],
   "source": [
    "from unlearning.metrics import convert_list_of_dicts_to_dict_of_lists"
   ]
  },
  {
   "cell_type": "code",
   "execution_count": 90,
   "id": "81e85adf-033b-448f-a63f-7d4b0d8ccf41",
   "metadata": {},
   "outputs": [],
   "source": []
  },
  {
   "cell_type": "code",
   "execution_count": 91,
   "id": "ed816ee3-8101-4fc9-b144-943338725890",
   "metadata": {},
   "outputs": [
    {
     "data": {
      "text/plain": [
       "[0.05323126316070557, 0.05261061191558838]"
      ]
     },
     "execution_count": 91,
     "metadata": {},
     "output_type": "execute_result"
    }
   ],
   "source": []
  },
  {
   "cell_type": "code",
   "execution_count": 84,
   "id": "acab729d-8138-4d72-ae58-9cfa5a80d654",
   "metadata": {},
   "outputs": [
    {
     "ename": "KeyError",
     "evalue": "'wmdp-bio'",
     "output_type": "error",
     "traceback": [
      "\u001b[0;31m---------------------------------------------------------------------------\u001b[0m",
      "\u001b[0;31mKeyError\u001b[0m                                  Traceback (most recent call last)",
      "Cell \u001b[0;32mIn[84], line 1\u001b[0m\n\u001b[0;32m----> 1\u001b[0m \u001b[43m[\u001b[49m\u001b[43mx\u001b[49m\u001b[43m[\u001b[49m\u001b[38;5;124;43m'\u001b[39;49m\u001b[38;5;124;43mwmdp-bio\u001b[39;49m\u001b[38;5;124;43m'\u001b[39;49m\u001b[43m]\u001b[49m\u001b[43m[\u001b[49m\u001b[38;5;124;43m'\u001b[39;49m\u001b[38;5;124;43mmean_correct\u001b[39;49m\u001b[38;5;124;43m'\u001b[39;49m\u001b[43m]\u001b[49m\u001b[43m \u001b[49m\u001b[38;5;28;43;01mfor\u001b[39;49;00m\u001b[43m \u001b[49m\u001b[43mx\u001b[49m\u001b[43m \u001b[49m\u001b[38;5;129;43;01min\u001b[39;49;00m\u001b[43m \u001b[49m\u001b[43mmetrics_list\u001b[49m\u001b[43m]\u001b[49m\n",
      "Cell \u001b[0;32mIn[84], line 1\u001b[0m, in \u001b[0;36m<listcomp>\u001b[0;34m(.0)\u001b[0m\n\u001b[0;32m----> 1\u001b[0m [\u001b[43mx\u001b[49m\u001b[43m[\u001b[49m\u001b[38;5;124;43m'\u001b[39;49m\u001b[38;5;124;43mwmdp-bio\u001b[39;49m\u001b[38;5;124;43m'\u001b[39;49m\u001b[43m]\u001b[49m[\u001b[38;5;124m'\u001b[39m\u001b[38;5;124mmean_correct\u001b[39m\u001b[38;5;124m'\u001b[39m] \u001b[38;5;28;01mfor\u001b[39;00m x \u001b[38;5;129;01min\u001b[39;00m metrics_list]\n",
      "\u001b[0;31mKeyError\u001b[0m: 'wmdp-bio'"
     ]
    }
   ],
   "source": [
    "[x['wmdp-bio']['mean_correct'] for x in metrics_list]"
   ]
  },
  {
   "cell_type": "code",
   "execution_count": 85,
   "id": "0f4dc7d2-ee5b-44c5-b8dc-5355e6d45771",
   "metadata": {},
   "outputs": [
    {
     "data": {
      "text/plain": [
       "[1.0, 1.0]"
      ]
     },
     "execution_count": 85,
     "metadata": {},
     "output_type": "execute_result"
    }
   ],
   "source": [
    "[x['high_school_us_history']['is_correct'][:-1].mean() for x in metrics_list]"
   ]
  },
  {
   "cell_type": "code",
   "execution_count": 87,
   "id": "8a510960-ec2d-4fc4-9b19-d71db38588a5",
   "metadata": {},
   "outputs": [
    {
     "data": {
      "text/plain": [
       "[0.05323126316070557, 0.05261061191558838]"
      ]
     },
     "execution_count": 87,
     "metadata": {},
     "output_type": "execute_result"
    }
   ],
   "source": [
    "[x['loss_added'] for x in metrics_list]"
   ]
  },
  {
   "cell_type": "code",
   "execution_count": null,
   "id": "0d7f21a7-e394-4086-8d59-551b4b05d302",
   "metadata": {},
   "outputs": [],
   "source": []
  },
  {
   "cell_type": "code",
   "execution_count": 26,
   "id": "b6f3300c-f33e-4031-8131-0ce2d172247e",
   "metadata": {},
   "outputs": [],
   "source": [
    "all_permutations_correct_index = [ 15,  20,  24,  28,  34,  45,  49,  61,  63,  68,  69,  70,  72, 86,  95,  97,  99, 111, 112, 122, 123, 132, 145, 151, 173, 174, 175, 177, 182, 185, 193]\n"
   ]
  },
  {
   "cell_type": "code",
   "execution_count": 112,
   "id": "5c1fb69f-80ae-45a9-8c98-8588466da747",
   "metadata": {},
   "outputs": [
    {
     "data": {
      "text/plain": [
       "(array([ 15.,  20.,  24.,  28.,  34.,  45.,  49.,  63.,  68.,  69.,  70.,\n",
       "         72.,  79.,  97., 111., 112., 123., 132., 145., 151., 173., 174.,\n",
       "        175., 177., 182., 185., 193.]),\n",
       " 27)"
      ]
     },
     "execution_count": 112,
     "metadata": {},
     "output_type": "execute_result"
    }
   ],
   "source": [
    "history_correct = '../data/mmlu_high_school_us_history_gemma-2b-it_correct.csv'\n",
    "new_vals = np.genfromtxt(history_correct)\n",
    "new_vals, len(new_vals)"
   ]
  },
  {
   "cell_type": "code",
   "execution_count": 114,
   "id": "343e7b47-81ee-4aab-af5d-7dbff37d9ea6",
   "metadata": {},
   "outputs": [
    {
     "data": {
      "text/plain": [
       "(31,)"
      ]
     },
     "execution_count": 114,
     "metadata": {},
     "output_type": "execute_result"
    }
   ],
   "source": [
    "np.array(all_permutations_correct_index).astype(float).shape"
   ]
  },
  {
   "cell_type": "code",
   "execution_count": 32,
   "id": "ffbe72c7-0664-4c81-bedf-668a552c52f4",
   "metadata": {},
   "outputs": [
    {
     "data": {
      "text/plain": [
       "array([ 15.,  20.,  24.,  28.,  34.,  45.,  49.,  63.,  68.,  69.,  70.,\n",
       "        72.,  79.,  97., 111., 112., 123., 132., 151., 173., 174., 175.,\n",
       "       177., 182., 185., 193.])"
      ]
     },
     "execution_count": 32,
     "metadata": {},
     "output_type": "execute_result"
    }
   ],
   "source": [
    "history_correct = '../data/mmlu_high_school_us_history_gemma-2b-it_correct_not_correct_wo_question_prompt.csv'\n",
    "new_vals2 = np.genfromtxt(history_correct)\n",
    "new_vals2"
   ]
  },
  {
   "cell_type": "code",
   "execution_count": null,
   "id": "3af503b1-5094-4a92-b7f2-0ce42699b4a5",
   "metadata": {},
   "outputs": [],
   "source": []
  },
  {
   "cell_type": "code",
   "execution_count": null,
   "id": "4e31da09-aca2-4cda-a0f6-44928828f993",
   "metadata": {},
   "outputs": [],
   "source": [
    "[1.0,\n",
    " 1.0,\n",
    " 1.0,\n",
    " 1.0,\n",
    " 1.0,\n",
    " 1.0,\n",
    " 1.0,\n",
    " 1.0,\n",
    " 0.9000000357627869,\n",
    " 0.8666667342185974,\n",
    " 1.0,\n",
    " 0.46666669845581055,\n",
    " 1.0,\n",
    " 1.0,\n",
    " 1.0,\n",
    " 1.0,\n",
    " 1.0,\n",
    " 1.0]"
   ]
  },
  {
   "cell_type": "code",
   "execution_count": null,
   "id": "c6ba85d6-0d9e-4835-8a53-6c4950d4dbaa",
   "metadata": {},
   "outputs": [],
   "source": []
  },
  {
   "cell_type": "code",
   "execution_count": null,
   "id": "58d0984a-d81f-43fa-8940-39474df0e085",
   "metadata": {},
   "outputs": [],
   "source": []
  }
 ],
 "metadata": {
  "kernelspec": {
   "display_name": "Python 3 (ipykernel)",
   "language": "python",
   "name": "python3"
  },
  "language_info": {
   "codemirror_mode": {
    "name": "ipython",
    "version": 3
   },
   "file_extension": ".py",
   "mimetype": "text/x-python",
   "name": "python",
   "nbconvert_exporter": "python",
   "pygments_lexer": "ipython3",
   "version": "3.11.6"
  }
 },
 "nbformat": 4,
 "nbformat_minor": 5
}
