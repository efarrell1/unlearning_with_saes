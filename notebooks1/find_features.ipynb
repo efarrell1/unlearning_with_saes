{
 "cells": [
  {
   "cell_type": "code",
   "execution_count": 1,
   "metadata": {},
   "outputs": [],
   "source": [
    "%load_ext autoreload\n",
    "%autoreload 2\n",
    "\n",
    "import sys\n",
    "sys.path.append(\"../\")\n",
    "\n",
    "import torch\n",
    "import random\n",
    "\n",
    "from sae.sparse_autoencoder import load_saved_sae\n",
    "from sae.metrics import model_store_from_sae\n",
    "from unlearning.metrics import convert_wmdp_data_to_prompt\n",
    "from unlearning.tool import UnlearningConfig, SAEUnlearningTool, MCQ_ActivationStoreAnalysis\n",
    "\n",
    "from huggingface_hub import hf_hub_download\n",
    "from datasets import load_dataset\n",
    "import numpy as np\n",
    "import pandas as pd\n",
    "import itertools\n",
    "from transformer_lens import utils\n",
    "\n",
    "from jaxtyping import Float\n",
    "from torch import Tensor\n",
    "\n",
    "from pathlib import Path\n",
    "\n",
    "import plotly.express as px\n"
   ]
  },
  {
   "cell_type": "code",
   "execution_count": 11,
   "metadata": {},
   "outputs": [
    {
     "data": {
      "application/vnd.jupyter.widget-view+json": {
       "model_id": "43b640ee929b41e9858a99c044a60baf",
       "version_major": 2,
       "version_minor": 0
      },
      "text/plain": [
       "config.json:   0%|          | 0.00/627 [00:00<?, ?B/s]"
      ]
     },
     "metadata": {},
     "output_type": "display_data"
    },
    {
     "data": {
      "application/vnd.jupyter.widget-view+json": {
       "model_id": "6dbb5fdc242e450c971f21d097701420",
       "version_major": 2,
       "version_minor": 0
      },
      "text/plain": [
       "model.safetensors.index.json:   0%|          | 0.00/13.5k [00:00<?, ?B/s]"
      ]
     },
     "metadata": {},
     "output_type": "display_data"
    },
    {
     "data": {
      "application/vnd.jupyter.widget-view+json": {
       "model_id": "e47cadd1b9114450a3a8fd932147cc3e",
       "version_major": 2,
       "version_minor": 0
      },
      "text/plain": [
       "Downloading shards:   0%|          | 0/2 [00:00<?, ?it/s]"
      ]
     },
     "metadata": {},
     "output_type": "display_data"
    },
    {
     "data": {
      "application/vnd.jupyter.widget-view+json": {
       "model_id": "e1bda4cedf07412da2ac600a085d9fd3",
       "version_major": 2,
       "version_minor": 0
      },
      "text/plain": [
       "model-00001-of-00002.safetensors:   0%|          | 0.00/4.95G [00:00<?, ?B/s]"
      ]
     },
     "metadata": {},
     "output_type": "display_data"
    },
    {
     "data": {
      "application/vnd.jupyter.widget-view+json": {
       "model_id": "7512c7ce63ac472c9a8e4287badff293",
       "version_major": 2,
       "version_minor": 0
      },
      "text/plain": [
       "model-00002-of-00002.safetensors:   0%|          | 0.00/67.1M [00:00<?, ?B/s]"
      ]
     },
     "metadata": {},
     "output_type": "display_data"
    },
    {
     "name": "stderr",
     "output_type": "stream",
     "text": [
      "`config.hidden_act` is ignored, you should use `config.hidden_activation` instead.\n",
      "Gemma's activation function will be set to `gelu_pytorch_tanh`. Please, use\n",
      "`config.hidden_activation` if you want to override this behaviour.\n",
      "See https://github.com/huggingface/transformers/pull/29402 for more details.\n"
     ]
    },
    {
     "data": {
      "application/vnd.jupyter.widget-view+json": {
       "model_id": "453af2f9e5b1485192257d3baf1a3ec4",
       "version_major": 2,
       "version_minor": 0
      },
      "text/plain": [
       "Loading checkpoint shards:   0%|          | 0/2 [00:00<?, ?it/s]"
      ]
     },
     "metadata": {},
     "output_type": "display_data"
    },
    {
     "data": {
      "application/vnd.jupyter.widget-view+json": {
       "model_id": "80a65a26ad384f7a849f5c3f00579fcf",
       "version_major": 2,
       "version_minor": 0
      },
      "text/plain": [
       "generation_config.json:   0%|          | 0.00/137 [00:00<?, ?B/s]"
      ]
     },
     "metadata": {},
     "output_type": "display_data"
    },
    {
     "data": {
      "application/vnd.jupyter.widget-view+json": {
       "model_id": "d6a27788ef4342ce97fad6dd66fdf9b7",
       "version_major": 2,
       "version_minor": 0
      },
      "text/plain": [
       "tokenizer_config.json:   0%|          | 0.00/34.2k [00:00<?, ?B/s]"
      ]
     },
     "metadata": {},
     "output_type": "display_data"
    },
    {
     "data": {
      "application/vnd.jupyter.widget-view+json": {
       "model_id": "ca88ad224de843faa4e0147ee916017d",
       "version_major": 2,
       "version_minor": 0
      },
      "text/plain": [
       "tokenizer.model:   0%|          | 0.00/4.24M [00:00<?, ?B/s]"
      ]
     },
     "metadata": {},
     "output_type": "display_data"
    },
    {
     "data": {
      "application/vnd.jupyter.widget-view+json": {
       "model_id": "0bbc12c70e61485f801b9d25a93e302c",
       "version_major": 2,
       "version_minor": 0
      },
      "text/plain": [
       "tokenizer.json:   0%|          | 0.00/17.5M [00:00<?, ?B/s]"
      ]
     },
     "metadata": {},
     "output_type": "display_data"
    },
    {
     "data": {
      "application/vnd.jupyter.widget-view+json": {
       "model_id": "673dcae9a8fc41c0b219e9915f0bd9e0",
       "version_major": 2,
       "version_minor": 0
      },
      "text/plain": [
       "special_tokens_map.json:   0%|          | 0.00/636 [00:00<?, ?B/s]"
      ]
     },
     "metadata": {},
     "output_type": "display_data"
    },
    {
     "name": "stderr",
     "output_type": "stream",
     "text": [
      "WARNING:root:You are not using LayerNorm, so the writing weights can't be centered! Skipping\n"
     ]
    },
    {
     "name": "stdout",
     "output_type": "stream",
     "text": [
      "Loaded pretrained model gemma-2b-it into HookedTransformer\n",
      "Moving model to device:  cuda\n"
     ]
    }
   ],
   "source": [
    "# resid pre 9\n",
    "REPO_ID = \"eoinf/unlearning_saes\"\n",
    "FILENAME = \"jolly-dream-40/sparse_autoencoder_gemma-2b-it_blocks.9.hook_resid_pre_s16384_127995904.pt\"\n",
    "\n",
    "filename = hf_hub_download(repo_id=REPO_ID, filename=FILENAME)\n",
    "sae = load_saved_sae(filename)\n",
    "\n",
    "model = model_store_from_sae(sae)"
   ]
  },
  {
   "cell_type": "code",
   "execution_count": 12,
   "metadata": {},
   "outputs": [
    {
     "data": {
      "application/vnd.jupyter.widget-view+json": {
       "model_id": "2f7b6b35289040e5bbf5a770b1451a79",
       "version_major": 2,
       "version_minor": 0
      },
      "text/plain": [
       "Downloading builder script:   0%|          | 0.00/2.73k [00:00<?, ?B/s]"
      ]
     },
     "metadata": {},
     "output_type": "display_data"
    },
    {
     "data": {
      "application/vnd.jupyter.widget-view+json": {
       "model_id": "d434ec8936944eefbd8fc2f036e51b97",
       "version_major": 2,
       "version_minor": 0
      },
      "text/plain": [
       "Downloading readme:   0%|          | 0.00/7.35k [00:00<?, ?B/s]"
      ]
     },
     "metadata": {},
     "output_type": "display_data"
    },
    {
     "data": {
      "application/vnd.jupyter.widget-view+json": {
       "model_id": "e20405f5289e42f7bd277e0813d6ad0e",
       "version_major": 2,
       "version_minor": 0
      },
      "text/plain": [
       "Downloading readme:   0%|          | 0.00/4.64k [00:00<?, ?B/s]"
      ]
     },
     "metadata": {},
     "output_type": "display_data"
    },
    {
     "data": {
      "application/vnd.jupyter.widget-view+json": {
       "model_id": "f0151b22448d434899043d0198844a3f",
       "version_major": 2,
       "version_minor": 0
      },
      "text/plain": [
       "Downloading data:   0%|          | 0.00/258k [00:00<?, ?B/s]"
      ]
     },
     "metadata": {},
     "output_type": "display_data"
    },
    {
     "data": {
      "application/vnd.jupyter.widget-view+json": {
       "model_id": "a1203009e7ba43be936484b7e2a3ac46",
       "version_major": 2,
       "version_minor": 0
      },
      "text/plain": [
       "Generating test split:   0%|          | 0/1273 [00:00<?, ? examples/s]"
      ]
     },
     "metadata": {},
     "output_type": "display_data"
    },
    {
     "name": "stdout",
     "output_type": "stream",
     "text": [
      "dataloader\n"
     ]
    },
    {
     "data": {
      "application/vnd.jupyter.widget-view+json": {
       "model_id": "3d2146be45cf47b78f7cb56405678e23",
       "version_major": 2,
       "version_minor": 0
      },
      "text/plain": [
       "Downloading builder script:   0%|          | 0.00/2.73k [00:00<?, ?B/s]"
      ]
     },
     "metadata": {},
     "output_type": "display_data"
    },
    {
     "data": {
      "application/vnd.jupyter.widget-view+json": {
       "model_id": "374b5de3554e496fb414613caf79b153",
       "version_major": 2,
       "version_minor": 0
      },
      "text/plain": [
       "Downloading readme:   0%|          | 0.00/7.35k [00:00<?, ?B/s]"
      ]
     },
     "metadata": {},
     "output_type": "display_data"
    },
    {
     "name": "stdout",
     "output_type": "stream",
     "text": [
      "buffer\n",
      "dataloader\n"
     ]
    },
    {
     "name": "stderr",
     "output_type": "stream",
     "text": [
      "100%|██████████| 43/43 [00:23<00:00,  1.82it/s]\n"
     ]
    },
    {
     "name": "stdout",
     "output_type": "stream",
     "text": [
      "tokens torch.Size([172, 1024]) 1024\n",
      "tokens torch.Size([172, 1024])\n",
      "Concatenating learned activations\n",
      "Done\n"
     ]
    },
    {
     "name": "stderr",
     "output_type": "stream",
     "text": [
      "100%|██████████| 43/43 [00:03<00:00, 11.04it/s]\n"
     ]
    },
    {
     "name": "stdout",
     "output_type": "stream",
     "text": [
      "tokens torch.Size([172, 1024]) 1024\n",
      "tokens torch.Size([172, 1024])\n",
      "Concatenating learned activations\n",
      "Done\n"
     ]
    }
   ],
   "source": [
    "filename = \"../data/wmdp-bio_gemma_2b_it_correct.csv\"\n",
    "correct_question_ids = np.genfromtxt(filename)\n",
    "\n",
    "dataset_args = {\n",
    "    'question_subset': correct_question_ids,\n",
    "}\n",
    "\n",
    "sae.cfg.n_batches_in_store_buffer = 86\n",
    "\n",
    "act_store = MCQ_ActivationStoreAnalysis(sae.cfg, model, dataset_args=dataset_args)\n",
    "unlearning_metric = 'wmdp-bio_gemma_2b_it_correct'\n",
    "\n",
    "unlearn_cfg = UnlearningConfig(unlearn_activation_store=act_store, unlearning_metric=unlearning_metric)\n",
    "ul_tool2 = SAEUnlearningTool(unlearn_cfg)\n",
    "ul_tool2.setup(model=model)\n",
    "ul_tool2.get_metrics_with_text()"
   ]
  },
  {
   "cell_type": "code",
   "execution_count": 13,
   "metadata": {},
   "outputs": [],
   "source": [
    "# setup unlearning tool, need about 3 minutes to run this cell\n",
    "\n",
    "filename = \"../data/wmdp-bio_gemma_2b_it_correct.csv\"\n",
    "correct_question_ids = np.genfromtxt(filename)\n",
    "\n",
    "dataset_args = {\n",
    "    'question_subset': correct_question_ids,\n",
    "}\n",
    "\n",
    "sae.cfg.n_batches_in_store_buffer = 86\n",
    "# unlearn_activation_store = MCQ_ActivationStoreAnalysis(sae.cfg, model, dataset_args=dataset_args)\n",
    "unlearning_metric = 'wmdp-bio_gemma_2b_it_correct'\n",
    "\n",
    "\n",
    "unlearn_cfg = UnlearningConfig(unlearn_activation_store=None, unlearning_metric=unlearning_metric)\n",
    "ul_tool = SAEUnlearningTool(unlearn_cfg)\n",
    "ul_tool.setup(create_base_act_store=False, create_unlearn_act_store=False, model=model)\n",
    "# ul_tool.get_metrics_with_text()"
   ]
  },
  {
   "cell_type": "code",
   "execution_count": 14,
   "metadata": {},
   "outputs": [],
   "source": [
    "# read 172 questions that the model can answer correctly in any permutation\n",
    "filename = '../data/wmdp-bio_gemma_2b_it_correct.csv'\n",
    "correct_question_ids = np.genfromtxt(filename)\n",
    "\n",
    "\n",
    "# read 133 questions that the model can answer correctly in any permutation but will get it wrong if\n",
    "# without the instruction prompt and the question prompt\n",
    "filename = '../data/wmdp-bio_gemma_2b_it_correct_not_correct_wo_question_prompt.csv'\n",
    "correct_question_id_not_correct_wo_question_prompt = np.genfromtxt(filename).astype(int)\n"
   ]
  },
  {
   "cell_type": "code",
   "execution_count": 15,
   "metadata": {},
   "outputs": [
    {
     "data": {
      "text/plain": [
       "172"
      ]
     },
     "execution_count": 15,
     "metadata": {},
     "output_type": "execute_result"
    }
   ],
   "source": [
    "# question_ids = np.genfromtxt(filename).astype(int)\n",
    "len(correct_question_ids)"
   ]
  },
  {
   "cell_type": "code",
   "execution_count": 16,
   "metadata": {},
   "outputs": [],
   "source": [
    "# pass in the dataset as an argument so no need to load in everytime\n",
    "dataset = load_dataset(\"cais/wmdp\", \"wmdp-bio\")\n",
    "\n",
    "answers = [x['answer'] for x in dataset['test']]\n",
    "questions = [x['question'] for x in dataset['test']]\n",
    "choices_list = [x['choices'] for x in dataset['test']]\n",
    "\n",
    "prompts = [convert_wmdp_data_to_prompt(question, choices, prompt_format=None) for question, choices in zip(questions, choices_list)]\n"
   ]
  },
  {
   "cell_type": "code",
   "execution_count": 17,
   "metadata": {},
   "outputs": [
    {
     "data": {
      "text/plain": [
       "{70: [4802],\n",
       " 89: [2993],\n",
       " 158: [11019, 4802],\n",
       " 172: [2993, 12273, 4802],\n",
       " 190: [2993, 6958],\n",
       " 192: [4342, 6325, 2993],\n",
       " 200: [9280],\n",
       " 203: [2993, 4802, 1307],\n",
       " 216: [3652, 4802],\n",
       " 217: [1523, 2993],\n",
       " 218: [],\n",
       " 243: [2993, 4802],\n",
       " 265: [2993],\n",
       " 267: [4802],\n",
       " 314: [4802, 6273],\n",
       " 324: [7983],\n",
       " 345: [2993, 4802, 15848],\n",
       " 348: [14315],\n",
       " 353: [2993, 4802, 6958, 3652],\n",
       " 354: [2993, 4802],\n",
       " 357: [4802, 2993],\n",
       " 359: [4802],\n",
       " 360: [4802, 2993],\n",
       " 362: [2993, 4802],\n",
       " 367: [],\n",
       " 373: [2993, 12663, 4802],\n",
       " 375: [2993, 6531, 4802],\n",
       " 376: [4802],\n",
       " 377: [4802],\n",
       " 378: [4291],\n",
       " 384: [2993],\n",
       " 405: [4291, 4802, 5691],\n",
       " 447: [3652],\n",
       " 452: [4802, 2993],\n",
       " 474: [15858],\n",
       " 479: [2993],\n",
       " 482: [],\n",
       " 494: [10355, 2993, 9391],\n",
       " 513: [1746, 4802],\n",
       " 534: [6273, 4802],\n",
       " 542: [2993, 12289, 12663],\n",
       " 584: [2993],\n",
       " 600: [15858, 12289],\n",
       " 612: [2993, 4802],\n",
       " 617: [2993, 4802],\n",
       " 626: [2993],\n",
       " 630: [3652],\n",
       " 636: [2993],\n",
       " 645: [2993, 1611, 10051, 12289],\n",
       " 649: [2993, 4802],\n",
       " 650: [5749, 16186, 4802, 4451, 5861],\n",
       " 652: [2993, 14388, 12273],\n",
       " 658: [1523, 12273, 2993, 4802],\n",
       " 663: [],\n",
       " 667: [15858],\n",
       " 681: [],\n",
       " 682: [2993, 12273, 4802],\n",
       " 683: [4802],\n",
       " 689: [2993, 8946, 4802, 12273],\n",
       " 696: [2993, 4291],\n",
       " 722: [4802],\n",
       " 730: [2993, 4802, 12663],\n",
       " 735: [12273, 4802, 1523],\n",
       " 737: [2993, 4802],\n",
       " 739: [12663, 4802],\n",
       " 740: [4802],\n",
       " 744: [4291],\n",
       " 745: [4802],\n",
       " 751: [4802],\n",
       " 753: [4802],\n",
       " 764: [4802],\n",
       " 770: [2993, 4802],\n",
       " 774: [2993],\n",
       " 776: [4291, 2993],\n",
       " 777: [3652, 4802],\n",
       " 780: [2993, 4802],\n",
       " 800: [4802, 2993],\n",
       " 812: [2993, 4802],\n",
       " 825: [2993, 4802],\n",
       " 826: [],\n",
       " 837: [2993, 4802],\n",
       " 838: [4802, 12287],\n",
       " 839: [4802, 11019, 2993],\n",
       " 841: [4802],\n",
       " 842: [2993, 9280],\n",
       " 843: [1523, 4802],\n",
       " 864: [4802],\n",
       " 869: [2993, 4802],\n",
       " 876: [4802, 15848],\n",
       " 882: [2993, 15858, 4802],\n",
       " 884: [2993, 4802, 12663, 15858],\n",
       " 898: [15858],\n",
       " 899: [7122, 14388, 9280, 2222],\n",
       " 902: [2993],\n",
       " 907: [2993, 4802],\n",
       " 925: [2993, 3652],\n",
       " 929: [2993, 4802],\n",
       " 933: [],\n",
       " 949: [],\n",
       " 958: [2993, 4802, 9280],\n",
       " 963: [4802, 15858],\n",
       " 965: [2993, 14388, 10355],\n",
       " 971: [4802],\n",
       " 975: [4802],\n",
       " 993: [2993, 1523, 4802, 12273],\n",
       " 1008: [2993],\n",
       " 1015: [4802, 2993, 4654, 3728, 3652],\n",
       " 1027: [2993, 4802],\n",
       " 1031: [2993, 4802],\n",
       " 1036: [2993],\n",
       " 1049: [],\n",
       " 1070: [4802],\n",
       " 1077: [],\n",
       " 1082: [4802],\n",
       " 1110: [4802, 3728],\n",
       " 1116: [2993, 4802],\n",
       " 1129: [2993, 8412, 4802, 9391],\n",
       " 1130: [2993, 12663],\n",
       " 1147: [12289, 2993, 4802, 12273],\n",
       " 1151: [],\n",
       " 1159: [2993, 12273],\n",
       " 1161: [4802, 3728],\n",
       " 1165: [4802, 3728, 14819],\n",
       " 1168: [2993, 4802],\n",
       " 1206: [3652],\n",
       " 1207: [2993, 4802, 3652],\n",
       " 1218: [4802],\n",
       " 1232: [],\n",
       " 1236: [2993, 4802],\n",
       " 1242: [],\n",
       " 1253: [5001, 15755, 1523, 3652],\n",
       " 1255: [],\n",
       " 1271: []}"
      ]
     },
     "execution_count": 17,
     "metadata": {},
     "output_type": "execute_result"
    }
   ],
   "source": [
    "# load good feature list\n",
    "import pickle\n",
    "with open('../yeutong_notebooks/unlearning_output/good_features_list_v1.pkl', 'rb') as f:\n",
    "    good_features_list = pickle.load(f)\n",
    "\n",
    "good_features_list"
   ]
  },
  {
   "cell_type": "code",
   "execution_count": 4,
   "metadata": {},
   "outputs": [],
   "source": [
    "features_to_test = list(set([item for sublist in good_features_list.values() for item in sublist]))\n"
   ]
  },
  {
   "cell_type": "code",
   "execution_count": 5,
   "metadata": {},
   "outputs": [
    {
     "data": {
      "text/plain": [
       "41"
      ]
     },
     "execution_count": 5,
     "metadata": {},
     "output_type": "execute_result"
    }
   ],
   "source": [
    "len(features_to_test)"
   ]
  },
  {
   "cell_type": "code",
   "execution_count": 6,
   "metadata": {},
   "outputs": [],
   "source": [
    "loss_intervention_results2 = []\n",
    "metrics_intervention_results2 = []"
   ]
  },
  {
   "cell_type": "code",
   "execution_count": 7,
   "metadata": {},
   "outputs": [
    {
     "data": {
      "text/plain": [
       "18"
      ]
     },
     "execution_count": 7,
     "metadata": {},
     "output_type": "execute_result"
    }
   ],
   "source": [
    "filtered_good_features = [12663, 4342, 5749, 10355, 1523, 15858, 12273, 14315, 4451, 1611, 10051, 16186, 7983, 6958, 1307, 11019, 6531, 12289]\n",
    "\n",
    "a = [x for x in filtered_good_features if x in features_to_test]\n",
    "len(a)"
   ]
  },
  {
   "cell_type": "code",
   "execution_count": 18,
   "metadata": {},
   "outputs": [
    {
     "name": "stderr",
     "output_type": "stream",
     "text": [
      "  0%|          | 0/29 [00:00<?, ?it/s]"
     ]
    },
    {
     "name": "stderr",
     "output_type": "stream",
     "text": [
      "100%|██████████| 29/29 [00:07<00:00,  4.04it/s]\n",
      "100%|██████████| 20/20 [00:27<00:00,  1.38s/it]\n",
      "100%|██████████| 29/29 [00:07<00:00,  4.00it/s]\n",
      "100%|██████████| 20/20 [00:27<00:00,  1.37s/it]\n",
      "100%|██████████| 29/29 [00:07<00:00,  4.05it/s]\n",
      "100%|██████████| 20/20 [00:27<00:00,  1.37s/it]\n",
      "100%|██████████| 29/29 [00:07<00:00,  4.02it/s]\n",
      "100%|██████████| 20/20 [00:27<00:00,  1.37s/it]\n",
      "100%|██████████| 29/29 [00:07<00:00,  3.97it/s]\n",
      "100%|██████████| 20/20 [00:27<00:00,  1.37s/it]\n",
      "100%|██████████| 29/29 [00:07<00:00,  3.96it/s]\n",
      "100%|██████████| 20/20 [00:27<00:00,  1.38s/it]\n",
      "100%|██████████| 29/29 [00:07<00:00,  4.01it/s]\n",
      "100%|██████████| 20/20 [00:27<00:00,  1.38s/it]\n",
      "100%|██████████| 29/29 [00:07<00:00,  3.95it/s]\n",
      "100%|██████████| 20/20 [00:27<00:00,  1.37s/it]\n",
      "100%|██████████| 29/29 [00:07<00:00,  3.96it/s]\n",
      "100%|██████████| 20/20 [00:27<00:00,  1.38s/it]\n",
      "100%|██████████| 29/29 [00:07<00:00,  3.94it/s]\n",
      "100%|██████████| 20/20 [00:27<00:00,  1.38s/it]\n",
      "100%|██████████| 29/29 [00:07<00:00,  3.97it/s]\n",
      "100%|██████████| 20/20 [00:27<00:00,  1.38s/it]\n",
      "100%|██████████| 29/29 [00:07<00:00,  4.00it/s]\n",
      "100%|██████████| 20/20 [00:27<00:00,  1.37s/it]\n",
      "100%|██████████| 29/29 [00:07<00:00,  3.94it/s]\n",
      "100%|██████████| 20/20 [00:27<00:00,  1.37s/it]\n",
      "100%|██████████| 29/29 [00:07<00:00,  4.01it/s]\n",
      "100%|██████████| 20/20 [00:27<00:00,  1.38s/it]\n",
      "100%|██████████| 29/29 [00:07<00:00,  4.01it/s]\n",
      "100%|██████████| 20/20 [00:27<00:00,  1.38s/it]\n",
      "100%|██████████| 29/29 [00:07<00:00,  3.94it/s]\n",
      "100%|██████████| 20/20 [00:27<00:00,  1.38s/it]\n",
      "100%|██████████| 29/29 [00:07<00:00,  4.01it/s]\n",
      "100%|██████████| 20/20 [00:27<00:00,  1.37s/it]\n",
      "100%|██████████| 29/29 [00:07<00:00,  3.95it/s]\n",
      "100%|██████████| 20/20 [00:27<00:00,  1.37s/it]\n"
     ]
    }
   ],
   "source": [
    "loss_intervention_results = []\n",
    "metrics_intervention_results = []\n",
    "\n",
    "filtered_good_features = [12663, 4342, 5749, 10355, 1523, 15858, 12273, 14315, 4451, 1611, 10051, 16186, 7983, 6958, 1307, 11019, 6531, 12289]\n",
    "# filtered_good_features = [12663, 4342, 5749, 10355, 1523, 15858, 12273, 14315, 4451, 1611, 10051, 16186, 7983, 6958, 1307, 11019, 6531, 12289]\n",
    "\n",
    "all_permutations = list(itertools.permutations([0, 1, 2, 3]))\n",
    "\n",
    "\n",
    "for feature in filtered_good_features:\n",
    "    ul_tool2.base_activation_store.iterable_dataset = iter(ul_tool2.base_activation_store.dataset)\n",
    "    ablate_params = {\n",
    "        'features_to_ablate': [feature],\n",
    "        'multiplier': 20,\n",
    "        'intervention_method': 'scale_feature_activation',\n",
    "        'permutations': None,\n",
    "    }\n",
    "    \n",
    "    metrics = ul_tool2.calculate_metrics(**ablate_params)\n",
    "    metrics_intervention_results.append(metrics)\n",
    "    loss_added = ul_tool2.compute_loss_added(n_batch=20, **ablate_params)\n",
    "    loss_intervention_results.append(loss_added)\n"
   ]
  },
  {
   "cell_type": "code",
   "execution_count": null,
   "metadata": {},
   "outputs": [],
   "source": []
  },
  {
   "cell_type": "code",
   "execution_count": 19,
   "metadata": {},
   "outputs": [],
   "source": [
    "# Calculate max activations\n",
    "mean_activations = ul_tool2.unlearn_metrics_with_text['learned_activations'].mean(dim=0)\n",
    "max_activations = ul_tool2.unlearn_metrics_with_text['learned_activations'].max(dim=0)[0]"
   ]
  },
  {
   "cell_type": "code",
   "execution_count": 31,
   "metadata": {},
   "outputs": [
    {
     "data": {
      "text/plain": [
       "[0.002839469909667969,\n",
       " -6.710290908813476e-05,\n",
       " 0.009702324867248535,\n",
       " 0.005494749546051026,\n",
       " 0.004311501979827881,\n",
       " -4.76837158203125e-07,\n",
       " -0.00011782646179199218,\n",
       " -0.00010492801666259766,\n",
       " 0.02195502519607544,\n",
       " 0.002906322479248047,\n",
       " -3.6597251892089844e-05,\n",
       " -0.000269472599029541,\n",
       " -0.00027120113372802734,\n",
       " 1.938343048095703e-05,\n",
       " 0.011131656169891358,\n",
       " 0.033754920959472655,\n",
       " 0.003141331672668457,\n",
       " 0.02086029052734375]"
      ]
     },
     "execution_count": 31,
     "metadata": {},
     "output_type": "execute_result"
    }
   ],
   "source": [
    "loss_intervention_results"
   ]
  },
  {
   "cell_type": "code",
   "execution_count": 35,
   "metadata": {},
   "outputs": [
    {
     "data": {
      "text/plain": [
       "array([ 7983, 16186, 12273, 14315,  4342, 10051, 15858,  6958, 12663,\n",
       "        1611,  6531,  1523, 10355,  5749,  1307, 12289,  4451, 11019])"
      ]
     },
     "execution_count": 35,
     "metadata": {},
     "output_type": "execute_result"
    }
   ],
   "source": [
    "i_sorted_by_loss = np.argsort(loss_intervention_results)\n",
    "filtered_good_features_sorted_by_loss = np.array(filtered_good_features)[i_sorted_by_loss]\n",
    "filtered_good_features_sorted_by_loss"
   ]
  },
  {
   "cell_type": "code",
   "execution_count": 36,
   "metadata": {},
   "outputs": [
    {
     "data": {
      "text/plain": [
       "array([-2.71201134e-04, -2.69472599e-04, -1.17826462e-04, -1.04928017e-04,\n",
       "       -6.71029091e-05, -3.65972519e-05, -4.76837158e-07,  1.93834305e-05,\n",
       "        2.83946991e-03,  2.90632248e-03,  3.14133167e-03,  4.31150198e-03,\n",
       "        5.49474955e-03,  9.70232487e-03,  1.11316562e-02,  2.08602905e-02,\n",
       "        2.19550252e-02,  3.37549210e-02])"
      ]
     },
     "execution_count": 36,
     "metadata": {},
     "output_type": "execute_result"
    }
   ],
   "source": [
    "np.array(loss_intervention_results)[i_sorted_by_loss]"
   ]
  },
  {
   "cell_type": "code",
   "execution_count": 39,
   "metadata": {},
   "outputs": [
    {
     "name": "stderr",
     "output_type": "stream",
     "text": [
      "  0%|          | 0/29 [00:00<?, ?it/s]"
     ]
    },
    {
     "name": "stderr",
     "output_type": "stream",
     "text": [
      "100%|██████████| 29/29 [00:06<00:00,  4.24it/s]\n",
      "100%|██████████| 10/10 [00:13<00:00,  1.35s/it]\n",
      "100%|██████████| 29/29 [00:06<00:00,  4.17it/s]\n",
      "100%|██████████| 10/10 [00:13<00:00,  1.37s/it]\n",
      "100%|██████████| 29/29 [00:07<00:00,  4.08it/s]\n",
      "100%|██████████| 10/10 [00:13<00:00,  1.37s/it]\n",
      "100%|██████████| 29/29 [00:07<00:00,  4.06it/s]\n",
      "100%|██████████| 10/10 [00:13<00:00,  1.36s/it]\n"
     ]
    }
   ],
   "source": [
    "# Do cumulative pass over features\n",
    "\n",
    "# control_metrics_results2 = []\n",
    "loss_intervention_results2 = []\n",
    "metrics_intervention_results2 = []\n",
    "\n",
    "# filtered_good_features = [12663, 4342, 5749, 10355, 1523, 15858, 12273, 14315, 4451, 1611, 10051, 16186, 7983, 6958, 1307, 11019, 6531, 12289]\n",
    "# filtered_good_features = [12663, 4342, 5749, 10355, 1523, 15858, 12273, 14315, 4451, 1611, 10051, 16186, 7983, 6958, 1307, 11019, 6531, 12289]\n",
    "# good_features_sorted_by_loss = np.array(filtered_good_features)[i_sorted_by_loss]\n",
    "\n",
    "all_permutations = list(itertools.permutations([0, 1, 2, 3]))\n",
    "\n",
    "\n",
    "for i in range(4):\n",
    "    ul_tool2.base_activation_store.iterable_dataset = iter(ul_tool2.base_activation_store.dataset)\n",
    "    ablate_params = {\n",
    "        'features_to_ablate': filtered_good_features_sorted_by_loss[:i+1],\n",
    "        'multiplier': 20,\n",
    "        'intervention_method': 'scale_feature_activation',\n",
    "        'permutations': None,\n",
    "    }\n",
    "    \n",
    "    metrics = ul_tool2.calculate_metrics(**ablate_params)\n",
    "    metrics_intervention_results2.append(metrics)\n",
    "    loss_added = ul_tool2.compute_loss_added(n_batch=10, **ablate_params)\n",
    "    loss_intervention_results2.append(loss_added)\n",
    "    \n",
    "    # control_metrics = ul_tool.calculate_control_metrics(random_select_one=False, **ablate_params)\n",
    "    # control_metrics_results2.append(control_metrics)\n"
   ]
  },
  {
   "cell_type": "code",
   "execution_count": 40,
   "metadata": {},
   "outputs": [
    {
     "data": {
      "text/plain": [
       "[(-0.0005425691604614257, 0.9883720874786377),\n",
       " (-0.0012538909912109375, 0.9825581312179565),\n",
       " (-0.0012538909912109375, 0.8604651093482971),\n",
       " (-0.0016951799392700196, 0.8488371968269348)]"
      ]
     },
     "execution_count": 40,
     "metadata": {},
     "output_type": "execute_result"
    }
   ],
   "source": [
    "loss_intervention_results2\n",
    "unlearned_frac = [x['modified_metrics']['mean_correct'] for x in metrics_intervention_results2]\n",
    "\n",
    "list(zip(loss_intervention_results2, unlearned_frac))"
   ]
  },
  {
   "cell_type": "code",
   "execution_count": 41,
   "metadata": {},
   "outputs": [
    {
     "data": {
      "text/plain": [
       "[(-0.0005425691604614257, 0.9883720874786377),\n",
       " (-0.0012538909912109375, 0.9825581312179565),\n",
       " (-0.0012538909912109375, 0.8604651093482971),\n",
       " (-0.0016951799392700196, 0.8488371968269348)]"
      ]
     },
     "execution_count": 41,
     "metadata": {},
     "output_type": "execute_result"
    }
   ],
   "source": [
    "loss_intervention_results2\n",
    "unlearned_frac = [x['modified_metrics']['mean_correct'] for x in metrics_intervention_results2]\n",
    "\n",
    "list(zip(loss_intervention_results2, unlearned_frac))"
   ]
  },
  {
   "cell_type": "code",
   "execution_count": 88,
   "metadata": {},
   "outputs": [
    {
     "data": {
      "text/plain": [
       "[1.0,\n",
       " 1.0,\n",
       " 1.0,\n",
       " 1.0,\n",
       " 1.0,\n",
       " 1.0,\n",
       " 1.0,\n",
       " 1.0,\n",
       " 0.9333333969116211,\n",
       " 0.9333333969116211,\n",
       " 0.9333333969116211,\n",
       " 0.9000000357627869,\n",
       " 0.9333333969116211,\n",
       " 0.9333333969116211,\n",
       " 0.9000000357627869,\n",
       " 0.9000000357627869,\n",
       " 0.8666667342185974,\n",
       " 0.8666667342185974]"
      ]
     },
     "execution_count": 88,
     "metadata": {},
     "output_type": "execute_result"
    }
   ],
   "source": [
    "temp = [x['mean_correct'] for x in control_metrics_results2]\n",
    "temp\n"
   ]
  },
  {
   "cell_type": "code",
   "execution_count": null,
   "metadata": {},
   "outputs": [],
   "source": [
    "# Do cumulative pass over features\n",
    "\n",
    "# control_metrics_results2 = []\n",
    "loss_intervention_results4 = []\n",
    "metrics_intervention_results4 = []\n",
    "\n",
    "filtered_good_features = [12663, 4342, 5749, 10355, 1523, 15858, 12273, 14315, 4451, 1611, 10051, 16186, 7983, 6958, 1307, 11019, 6531, 12289]\n",
    "# filtered_good_features = [12663, 4342, 5749, 10355, 1523, 15858, 12273, 14315, 4451, 1611, 10051, 16186, 7983, 6958, 1307, 11019, 6531, 12289]\n",
    "# good_features_sorted_by_loss = np.array(filtered_good_features)[i_sorted_by_loss]\n",
    "\n",
    "features_to_test_sorted_by_loss = np.array(features_to_test)[i_sorted_by_loss]\n",
    "\n",
    "all_permutations = list(itertools.permutations([0, 1, 2, 3]))\n",
    "\n",
    "\n",
    "for i in range(len(2)):\n",
    "    ul_tool2.base_activation_store.iterable_dataset = iter(ul_tool2.base_activation_store.dataset)\n",
    "    ablate_params = {\n",
    "        'features_to_ablate': features_to_test_sorted_by_loss[:i+1],\n",
    "        'multiplier': 20,\n",
    "        'intervention_method': 'scale_feature_activation',\n",
    "        'permutations': None,\n",
    "    }\n",
    "    \n",
    "    metrics = ul_tool2.calculate_metrics(**ablate_params)\n",
    "    metrics_intervention_results4.append(metrics)\n",
    "    loss_added = ul_tool2.compute_loss_added(n_batch=10, **ablate_params)\n",
    "    loss_intervention_results4.append(loss_added)\n",
    "    \n",
    "    # control_metrics = ul_tool.calculate_control_metrics(random_select_one=False, **ablate_params)\n",
    "    # control_metrics_results2.append(control_metrics)\n"
   ]
  },
  {
   "cell_type": "code",
   "execution_count": null,
   "metadata": {},
   "outputs": [],
   "source": []
  },
  {
   "cell_type": "code",
   "execution_count": null,
   "metadata": {},
   "outputs": [],
   "source": [
    "# Do cumulative pass over features\n",
    "\n",
    "# control_metrics_results2 = []\n",
    "loss_intervention_results2 = []\n",
    "metrics_intervention_results2 = []\n",
    "\n",
    "filtered_good_features = [12663, 4342, 5749, 10355, 1523, 15858, 12273, 14315, 4451, 1611, 10051, 16186, 7983, 6958, 1307, 11019, 6531, 12289]\n",
    "# filtered_good_features = [12663, 4342, 5749, 10355, 1523, 15858, 12273, 14315, 4451, 1611, 10051, 16186, 7983, 6958, 1307, 11019, 6531, 12289]\n",
    "# good_features_sorted_by_loss = np.array(filtered_good_features)[i_sorted_by_loss]\n",
    "\n",
    "features_to_test_sorted_by_loss = np.array(features_to_test)[i_sorted_by_loss]\n",
    "\n",
    "all_permutations = list(itertools.permutations([0, 1, 2, 3]))\n",
    "\n",
    "\n",
    "for i in range(len(features_to_test_sorted_by_loss)):\n",
    "    ul_tool2.base_activation_store.iterable_dataset = iter(ul_tool2.base_activation_store.dataset)\n",
    "    ablate_params = {\n",
    "        'features_to_ablate': features_to_test_sorted_by_loss[:i+1],\n",
    "        'multiplier': 20,\n",
    "        'intervention_method': 'scale_feature_activation',\n",
    "        'permutations': None,\n",
    "    }\n",
    "    \n",
    "    metrics = ul_tool2.calculate_metrics(**ablate_params)\n",
    "    metrics_intervention_results2.append(metrics)\n",
    "    loss_added = ul_tool2.compute_loss_added(n_batch=10, **ablate_params)\n",
    "    loss_intervention_results2.append(loss_added)\n",
    "    \n",
    "    # control_metrics = ul_tool.calculate_control_metrics(random_select_one=False, **ablate_params)\n",
    "    # control_metrics_results2.append(control_metrics)\n"
   ]
  },
  {
   "cell_type": "code",
   "execution_count": null,
   "metadata": {},
   "outputs": [],
   "source": [
    "# loss_intervention_results3 = []\n",
    "# metrics_intervention_results3 = []"
   ]
  },
  {
   "cell_type": "code",
   "execution_count": 84,
   "metadata": {},
   "outputs": [],
   "source": [
    "control_metrics_results3 = []"
   ]
  },
  {
   "cell_type": "code",
   "execution_count": 85,
   "metadata": {},
   "outputs": [
    {
     "name": "stderr",
     "output_type": "stream",
     "text": [
      "100%|██████████| 5/5 [00:03<00:00,  1.34it/s]\n",
      "100%|██████████| 5/5 [00:03<00:00,  1.35it/s]\n",
      "100%|██████████| 5/5 [00:03<00:00,  1.35it/s]\n",
      "100%|██████████| 5/5 [00:03<00:00,  1.34it/s]\n",
      "100%|██████████| 5/5 [00:03<00:00,  1.34it/s]\n",
      "100%|██████████| 5/5 [00:03<00:00,  1.34it/s]\n",
      "100%|██████████| 5/5 [00:03<00:00,  1.27it/s]\n",
      "100%|██████████| 5/5 [00:03<00:00,  1.29it/s]\n",
      "100%|██████████| 5/5 [00:03<00:00,  1.32it/s]\n",
      "100%|██████████| 5/5 [00:03<00:00,  1.32it/s]\n"
     ]
    }
   ],
   "source": [
    "filtered_good_features = [12663, 4342, 5749, 10355, 1523, 15858, 12273, 14315, 4451, 1611, 10051, 16186, 7983, 6958, 1307, 11019, 6531, 12289]\n",
    "# filtered_good_features = [12663, 4342, 5749, 10355, 1523, 15858, 12273, 14315, 4451, 1611, 10051, 16186, 7983, 6958, 1307, 11019, 6531, 12289]\n",
    "\n",
    "all_permutations = list(itertools.permutations([0, 1, 2, 3]))\n",
    "\n",
    "\n",
    "for feature in good_features_sorted_by_loss[:10]:\n",
    "    ul_tool2.base_activation_store.iterable_dataset = iter(ul_tool2.base_activation_store.dataset)\n",
    "    ablate_params = {\n",
    "        'features_to_ablate': [feature],\n",
    "        'multiplier': 30.0,\n",
    "        'intervention_method': 'clamp_feature_activation', #'scale_feature_activation',\n",
    "        'permutations': None,\n",
    "    }\n",
    "    \n",
    "    # metrics = ul_tool2.calculate_metrics(**ablate_params)\n",
    "    # metrics_intervention_results3.append(metrics)\n",
    "    # loss_added = ul_tool2.compute_loss_added(n_batch=20, **ablate_params)\n",
    "    # loss_intervention_results3.append(loss_added)\n",
    "    control_metrics = ul_tool.calculate_control_metrics(random_select_one=False, **ablate_params)\n",
    "    control_metrics_results3.append(control_metrics)\n"
   ]
  },
  {
   "cell_type": "code",
   "execution_count": 86,
   "metadata": {},
   "outputs": [
    {
     "data": {
      "text/plain": [
       "[1.0,\n",
       " 1.0,\n",
       " 1.0,\n",
       " 1.0,\n",
       " 1.0,\n",
       " 1.0,\n",
       " 1.0,\n",
       " 1.0,\n",
       " 0.9000000357627869,\n",
       " 0.8666667342185974]"
      ]
     },
     "execution_count": 86,
     "metadata": {},
     "output_type": "execute_result"
    }
   ],
   "source": [
    "temp = [x['mean_correct'] for x in control_metrics_results3]\n",
    "temp\n"
   ]
  },
  {
   "cell_type": "code",
   "execution_count": 77,
   "metadata": {},
   "outputs": [
    {
     "data": {
      "text/plain": [
       "[(-0.0009666204452514649, 0.9825581312179565),\n",
       " (-0.00020639896392822267, 0.9941860437393188),\n",
       " (-0.00020133256912231446, 0.7965116500854492),\n",
       " (-3.372430801391601e-05, 0.9883720874786377),\n",
       " (-0.0006420373916625977, 0.9941860437393188),\n",
       " (0.0003710150718688965, 0.9593023061752319),\n",
       " (-2.4116039276123048e-05, 0.7267441749572754),\n",
       " (0.00010329484939575195, 0.854651153087616),\n",
       " (-0.0015086770057678224, 0.6220930218696594),\n",
       " (0.002650284767150879, 0.8662790656089783)]"
      ]
     },
     "execution_count": 77,
     "metadata": {},
     "output_type": "execute_result"
    }
   ],
   "source": [
    "\n",
    "unlearned_frac3 = [x['modified_metrics']['mean_correct'] for x in metrics_intervention_results3]\n",
    "\n",
    "list(zip(loss_intervention_results3, unlearned_frac3))\n",
    "# unlearned_frac3"
   ]
  },
  {
   "cell_type": "code",
   "execution_count": 78,
   "metadata": {},
   "outputs": [],
   "source": [
    "unlearned_frac3 = [x['modified_metrics']['mean_predicted_prob_of_correct_answers'] for x in metrics_intervention_results3]\n"
   ]
  },
  {
   "cell_type": "code",
   "execution_count": 81,
   "metadata": {},
   "outputs": [
    {
     "data": {
      "text/plain": [
       "0.6058086156845093"
      ]
     },
     "execution_count": 81,
     "metadata": {},
     "output_type": "execute_result"
    }
   ],
   "source": [
    "metrics_intervention_results3[-2]['modified_metrics']['mean_predicted_prob_of_correct_answers']"
   ]
  },
  {
   "cell_type": "code",
   "execution_count": 80,
   "metadata": {},
   "outputs": [
    {
     "data": {
      "text/plain": [
       "0.9954435229301453"
      ]
     },
     "execution_count": 80,
     "metadata": {},
     "output_type": "execute_result"
    }
   ],
   "source": [
    "metrics_intervention_results3[0]['baseline_metrics']['mean_predicted_prob_of_correct_answers']"
   ]
  },
  {
   "cell_type": "code",
   "execution_count": 65,
   "metadata": {},
   "outputs": [
    {
     "data": {
      "text/plain": [
       "[1.0,\n",
       " 0.9825581312179565,\n",
       " 0.9476743936538696,\n",
       " 0.8430232405662537,\n",
       " 0.680232584476471,\n",
       " 0.5581395626068115,\n",
       " 0.41860464215278625,\n",
       " 0.35465115308761597,\n",
       " 0.31976744532585144,\n",
       " 0.2616279125213623,\n",
       " 0.22674418985843658]"
      ]
     },
     "execution_count": 65,
     "metadata": {},
     "output_type": "execute_result"
    }
   ],
   "source": [
    "# metrics_intervention_results2[0]['modified_metrics']\n",
    "[x['modified_metrics']['mean_correct'] for x in metrics_intervention_results2]"
   ]
  },
  {
   "cell_type": "code",
   "execution_count": 66,
   "metadata": {},
   "outputs": [
    {
     "data": {
      "text/plain": [
       "[0.0,\n",
       " -4.4178962707519534e-05,\n",
       " -0.00017495155334472655,\n",
       " -0.001829838752746582,\n",
       " 0.0012744903564453126,\n",
       " 0.006757378578186035,\n",
       " 0.014585351943969727,\n",
       " 0.023165035247802734,\n",
       " 0.03226187229156494,\n",
       " 0.042382335662841795,\n",
       " 0.05386528968811035]"
      ]
     },
     "execution_count": 66,
     "metadata": {},
     "output_type": "execute_result"
    }
   ],
   "source": [
    "[x for x in loss_intervention_results2]"
   ]
  },
  {
   "cell_type": "code",
   "execution_count": 73,
   "metadata": {},
   "outputs": [],
   "source": [
    "import matplotlib as mpl\n",
    "from cycler import cycler\n",
    "\n",
    "mpl.rcParams['lines.linewidth'] = 1\n",
    "mpl.rcParams['lines.markersize'] = 1.4\n",
    "\n",
    "mpl.rcParams['xtick.top'] = True\n",
    "mpl.rcParams['xtick.direction'] = 'in'\n",
    "mpl.rcParams['xtick.minor.visible'] = True\n",
    "mpl.rcParams['xtick.major.width'] = 0.4\n",
    "mpl.rcParams['xtick.minor.width'] = 0.4\n",
    "mpl.rcParams['xtick.major.size'] = 4\n",
    "mpl.rcParams['xtick.minor.size'] = 2\n",
    "\n",
    "mpl.rcParams['ytick.right'] = True\n",
    "mpl.rcParams['ytick.direction'] = 'in'\n",
    "mpl.rcParams['ytick.minor.visible'] = True\n",
    "mpl.rcParams['ytick.major.width'] = 0.4\n",
    "mpl.rcParams['ytick.minor.width'] = 0.4\n",
    "mpl.rcParams['ytick.major.size'] = 4\n",
    "mpl.rcParams['ytick.minor.size'] = 2\n",
    "\n",
    "mpl.rcParams['xtick.labelsize'] = 10\n",
    "mpl.rcParams['ytick.labelsize'] = 10\n",
    "\n",
    "mpl.rcParams['axes.titlesize'] = 10\n",
    "mpl.rcParams['axes.labelsize'] = 10\n",
    "\n",
    "\n",
    "mpl.rcParams['legend.frameon'] = False\n",
    "mpl.rcParams['legend.fontsize'] = 9\n",
    "\n",
    "mpl.rcParams['figure.figsize'] = 6, 4\n",
    "\n",
    "mpl.rcParams['axes.prop_cycle'] = cycler(\"color\", ['#1f77b4', '#ff7f0e', '#2ca02c', '#d62728', '#9467bd', '#8c564b', '#e377c2', '#7f7f7f', '#bcbd22', '#17becf'])\n",
    "\n",
    "\n",
    "# Plotting\n",
    "figdir = \"../figs\""
   ]
  },
  {
   "cell_type": "code",
   "execution_count": 70,
   "metadata": {},
   "outputs": [
    {
     "data": {
      "text/plain": [
       "[1.0,\n",
       " 0.9825581312179565,\n",
       " 0.9476743936538696,\n",
       " 0.8430232405662537,\n",
       " 0.680232584476471,\n",
       " 0.5581395626068115,\n",
       " 0.41860464215278625,\n",
       " 0.35465115308761597,\n",
       " 0.31976744532585144,\n",
       " 0.2616279125213623,\n",
       " 0.22674418985843658,\n",
       " 0.21511627733707428,\n",
       " 0.21511627733707428,\n",
       " 0.20348836481571198,\n",
       " 0.20930232107639313]"
      ]
     },
     "execution_count": 70,
     "metadata": {},
     "output_type": "execute_result"
    }
   ],
   "source": [
    "unlearned_frac"
   ]
  },
  {
   "cell_type": "code",
   "execution_count": 99,
   "metadata": {},
   "outputs": [
    {
     "data": {
      "image/png": "[encoded data removed]",
      "text/plain": [
       "<Figure size 600x400 with 1 Axes>"
      ]
     },
     "metadata": {},
     "output_type": "display_data"
    }
   ],
   "source": [
    "fig, ax = plt.subplots(figsize=(6, 4))\n",
    "\n",
    "unlearned_frac = [x['modified_metrics']['mean_correct'] for x in metrics_intervention_results2]\n",
    "loss_added = np.array([x for x in loss_intervention_results2])\n",
    "loss_added = np.maximum(loss_added, 0.001)\n",
    "\n",
    "# ax.plot(np.log10(unlearned_frac), np.log10(loss_added))\n",
    "\n",
    "ax.plot(np.log10(unlearned_frac), np.log10(loss_added), '-o', markersize=4, label=\"18 SAE features\")\n",
    "\n",
    "\n",
    "rmu_loss_added = [-0.005, -0.005, -0.001, 0.015, 0.0661]\n",
    "rmu_loss_added = np.maximum(rmu_loss_added, 0.001)\n",
    "rmu_scores = np.array([0.994, 0.994, 0.6105, 0.3953, 0.366])\n",
    "\n",
    "ax.plot(np.log10(rmu_scores), np.log10(rmu_loss_added), '-o', markersize=4, label=\"RMU\")\n",
    "\n",
    "\n",
    "ax.set_xlabel(\"WMDP-bio % in 172 questions\")\n",
    "ax.set_ylabel(\"Loss Added\")\n",
    "\n",
    "\n",
    "\n",
    "major_loss_ticks = [0.01, 0.1]\n",
    "minor_loss_ticks = np.concatenate((np.arange(0.001, 0.01, 0.001),\n",
    "                                np.arange(0.01, 0.1, 0.01),\n",
    "                                np.arange(0.1, 1, 0.1)))\n",
    "\n",
    "\n",
    "ax.set_yticks(np.log10(major_loss_ticks))\n",
    "ax.set_yticklabels(major_loss_ticks)\n",
    "ax.set_yticks(np.log10(minor_loss_ticks), minor=True)\n",
    "\n",
    "major_prob_ticks = [0.2, 0.4, 0.6, 0.8, 1]\n",
    "minor_prob_ticks = np.arange(0.1, 1, 0.05)\n",
    "\n",
    "ax.set_xticks(np.log10(major_prob_ticks))\n",
    "ax.set_xticklabels(major_prob_ticks)\n",
    "ax.set_xticks(np.log10(minor_prob_ticks), minor=True)\n",
    "\n",
    "ax.set_xlim(np.log10(0.17), 0.02)\n",
    "ax.set_ylim(np.log10(0.001), np.log10(0.2))\n",
    "\n",
    "ax.grid()\n",
    "\n",
    "# ax.set_xlim(-1, 0)\n",
    "# ax.set_ylim(0, 0.1)\n",
    "\n",
    "# ax.invert_xaxis()\n",
    "\n",
    "ax.legend()\n",
    "\n",
    "fig.subplots_adjust(right=0.98, top=0.98)\n",
    "fig_subdir = \"pareto_frontiers\"\n",
    "Path(figdir + '/' + fig_subdir).mkdir(parents=True, exist_ok=True)\n",
    "plt.savefig(figdir + '/' + fig_subdir + '/loss_added_vs_score_v1.png', dpi=600)\n",
    "\n",
    "# plt.close(fig)\n",
    "plt.show()\n",
    "\n"
   ]
  },
  {
   "cell_type": "code",
   "execution_count": 68,
   "metadata": {},
   "outputs": [],
   "source": [
    "import matplotlib.pyplot as plt\n",
    "\n"
   ]
  },
  {
   "cell_type": "code",
   "execution_count": null,
   "metadata": {},
   "outputs": [],
   "source": []
  },
  {
   "cell_type": "code",
   "execution_count": 49,
   "metadata": {},
   "outputs": [
    {
     "name": "stdout",
     "output_type": "stream",
     "text": [
      "12663\n"
     ]
    },
    {
     "name": "stderr",
     "output_type": "stream",
     "text": [
      "100%|██████████| 20/20 [00:26<00:00,  1.32s/it]\n"
     ]
    },
    {
     "name": "stdout",
     "output_type": "stream",
     "text": [
      "4342\n"
     ]
    },
    {
     "name": "stderr",
     "output_type": "stream",
     "text": [
      "100%|██████████| 20/20 [00:26<00:00,  1.34s/it]\n"
     ]
    },
    {
     "name": "stdout",
     "output_type": "stream",
     "text": [
      "5749\n"
     ]
    },
    {
     "name": "stderr",
     "output_type": "stream",
     "text": [
      "100%|██████████| 20/20 [00:26<00:00,  1.34s/it]\n"
     ]
    },
    {
     "name": "stdout",
     "output_type": "stream",
     "text": [
      "10355\n"
     ]
    },
    {
     "name": "stderr",
     "output_type": "stream",
     "text": [
      "100%|██████████| 20/20 [00:26<00:00,  1.33s/it]\n"
     ]
    },
    {
     "name": "stdout",
     "output_type": "stream",
     "text": [
      "1523\n"
     ]
    },
    {
     "name": "stderr",
     "output_type": "stream",
     "text": [
      "100%|██████████| 20/20 [00:26<00:00,  1.35s/it]\n"
     ]
    },
    {
     "name": "stdout",
     "output_type": "stream",
     "text": [
      "15858\n"
     ]
    },
    {
     "name": "stderr",
     "output_type": "stream",
     "text": [
      "100%|██████████| 20/20 [00:26<00:00,  1.35s/it]\n"
     ]
    },
    {
     "name": "stdout",
     "output_type": "stream",
     "text": [
      "12273\n"
     ]
    },
    {
     "name": "stderr",
     "output_type": "stream",
     "text": [
      "100%|██████████| 20/20 [00:27<00:00,  1.36s/it]\n"
     ]
    },
    {
     "name": "stdout",
     "output_type": "stream",
     "text": [
      "14315\n"
     ]
    },
    {
     "name": "stderr",
     "output_type": "stream",
     "text": [
      "100%|██████████| 20/20 [00:27<00:00,  1.35s/it]\n"
     ]
    },
    {
     "name": "stdout",
     "output_type": "stream",
     "text": [
      "4451\n"
     ]
    },
    {
     "name": "stderr",
     "output_type": "stream",
     "text": [
      "100%|██████████| 20/20 [00:27<00:00,  1.36s/it]\n"
     ]
    },
    {
     "name": "stdout",
     "output_type": "stream",
     "text": [
      "1611\n"
     ]
    },
    {
     "name": "stderr",
     "output_type": "stream",
     "text": [
      "100%|██████████| 20/20 [00:27<00:00,  1.35s/it]\n"
     ]
    },
    {
     "name": "stdout",
     "output_type": "stream",
     "text": [
      "10051\n"
     ]
    },
    {
     "name": "stderr",
     "output_type": "stream",
     "text": [
      "100%|██████████| 20/20 [00:27<00:00,  1.35s/it]\n"
     ]
    },
    {
     "name": "stdout",
     "output_type": "stream",
     "text": [
      "16186\n"
     ]
    },
    {
     "name": "stderr",
     "output_type": "stream",
     "text": [
      "100%|██████████| 20/20 [00:27<00:00,  1.35s/it]\n"
     ]
    },
    {
     "name": "stdout",
     "output_type": "stream",
     "text": [
      "7983\n"
     ]
    },
    {
     "name": "stderr",
     "output_type": "stream",
     "text": [
      "100%|██████████| 20/20 [00:27<00:00,  1.36s/it]\n"
     ]
    },
    {
     "name": "stdout",
     "output_type": "stream",
     "text": [
      "6958\n"
     ]
    },
    {
     "name": "stderr",
     "output_type": "stream",
     "text": [
      "100%|██████████| 20/20 [00:27<00:00,  1.36s/it]\n"
     ]
    },
    {
     "name": "stdout",
     "output_type": "stream",
     "text": [
      "1307\n"
     ]
    },
    {
     "name": "stderr",
     "output_type": "stream",
     "text": [
      "100%|██████████| 20/20 [00:27<00:00,  1.36s/it]\n"
     ]
    },
    {
     "name": "stdout",
     "output_type": "stream",
     "text": [
      "11019\n"
     ]
    },
    {
     "name": "stderr",
     "output_type": "stream",
     "text": [
      "100%|██████████| 20/20 [00:27<00:00,  1.36s/it]\n"
     ]
    },
    {
     "name": "stdout",
     "output_type": "stream",
     "text": [
      "6531\n"
     ]
    },
    {
     "name": "stderr",
     "output_type": "stream",
     "text": [
      "100%|██████████| 20/20 [00:27<00:00,  1.36s/it]\n"
     ]
    },
    {
     "name": "stdout",
     "output_type": "stream",
     "text": [
      "12289\n"
     ]
    },
    {
     "name": "stderr",
     "output_type": "stream",
     "text": [
      "100%|██████████| 20/20 [00:27<00:00,  1.35s/it]\n"
     ]
    }
   ],
   "source": [
    "# loss_intervention_results2 = []\n",
    "metrics_intervention_results2 = []\n",
    "\n",
    "filtered_good_features = [12663, 4342, 5749, 10355, 1523, 15858, 12273, 14315, 4451, 1611, 10051, 16186, 7983, 6958, 1307, 11019, 6531, 12289]\n",
    "# filtered_good_features = [12663, 4342, 5749, 10355, 1523, 15858, 12273, 14315, 4451, 1611, 10051, 16186, 7983, 6958, 1307, 11019, 6531, 12289]\n",
    "\n",
    "multiplier = 20.0\n",
    "\n",
    "all_permutations = list(itertools.permutations([0, 1, 2, 3]))\n",
    "\n",
    "\n",
    "for feature in filtered_good_features:\n",
    "    ul_tool2.base_activation_store.iterable_dataset = iter(ul_tool2.base_activation_store.dataset)\n",
    "    ablate_params = {\n",
    "        'features_to_ablate': [feature],\n",
    "        'multiplier': 10,\n",
    "        'intervention_method': 'scale_feature_activation',\n",
    "        'permutations': None,\n",
    "        'permutations': None,\n",
    "    }\n",
    "    \n",
    "    # metrics = ul_tool2.calculate_metrics(**ablate_params)\n",
    "    # metrics_intervention_results2.append(metrics)\n",
    "    print(feature)\n",
    "    loss_added = ul_tool2.compute_loss_added(n_batch=20, **ablate_params)\n",
    "    loss_intervention_results2.append(loss_added)\n"
   ]
  },
  {
   "cell_type": "code",
   "execution_count": 50,
   "metadata": {},
   "outputs": [
    {
     "data": {
      "text/plain": [
       "[]"
      ]
     },
     "execution_count": 50,
     "metadata": {},
     "output_type": "execute_result"
    }
   ],
   "source": [
    "[x['modified_metrics']['mean_correct'] for x in metrics_intervention_results2]"
   ]
  },
  {
   "cell_type": "code",
   "execution_count": 54,
   "metadata": {},
   "outputs": [
    {
     "data": {
      "text/plain": [
       "[-0.005739045143127441,\n",
       " -5.055665969848633e-05,\n",
       " 0.002261507511138916,\n",
       " -0.0028084516525268555,\n",
       " 0.0018524765968322755,\n",
       " -1.9073486328125e-07,\n",
       " -3.2341480255126954e-05,\n",
       " -0.00047284364700317383,\n",
       " 0.008104395866394044,\n",
       " 0.0017570137977600097,\n",
       " -0.0001727461814880371,\n",
       " -0.00038210153579711916,\n",
       " -0.00025604963302612306,\n",
       " 1.666545867919922e-05,\n",
       " 0.002155411243438721,\n",
       " 0.006975841522216797,\n",
       " -0.00047327280044555663,\n",
       " 0.003248286247253418]"
      ]
     },
     "execution_count": 54,
     "metadata": {},
     "output_type": "execute_result"
    }
   ],
   "source": [
    "losses = np.array([x for x in loss_intervention_results2[-18:]])"
   ]
  },
  {
   "cell_type": "code",
   "execution_count": 53,
   "metadata": {},
   "outputs": [
    {
     "data": {
      "text/plain": [
       "18"
      ]
     },
     "execution_count": 53,
     "metadata": {},
     "output_type": "execute_result"
    }
   ],
   "source": [
    "# loss_intervention_results2 = []\n",
    "# metrics_intervention_results2 = []\n",
    "filtered_good_features = [12663, 4342, 5749, 10355, 1523, 15858, 12273, 14315, 4451, 1611, 10051, 16186, 7983, 6958, 1307, 11019, 6531, 12289]\n",
    "\n",
    "# filtered_good_features = [12663, 4342, 5749, 10355, 1523, 15858, 12273, 14315, 4451, 1611, 10051, 16186, 7983, 6958, 1307, 11019, 6531, 12289]\n",
    "\n",
    "multiplier = 20.0\n",
    "\n",
    "all_permutations = list(itertools.permutations([0, 1, 2, 3]))\n",
    "\n",
    "ul_tool2.base_activation_store.iterable_dataset = iter(ul_tool2.base_activation_store.dataset)\n",
    "ablate_params = {\n",
    "    'features_to_ablate': filtered_good_features,\n",
    "    'multiplier': 10,\n",
    "    'intervention_method': 'scale_feature_activation',\n",
    "    'permutations': all_permutations,\n",
    "}\n",
    "\n",
    "metrics = ul_tool2.calculate_metrics(**ablate_params)\n",
    "# metrics_intervention_results2.append(metrics)\n",
    "print(feature)\n",
    "loss_added = ul_tool2.compute_loss_added(n_batch=20, **ablate_params)\n",
    "# loss_intervention_results2.append(loss_added)\n"
   ]
  }
 ],
 "metadata": {
  "kernelspec": {
   "display_name": "Python 3 (ipykernel)",
   "language": "python",
   "name": "python3"
  },
  "language_info": {
   "codemirror_mode": {
    "name": "ipython",
    "version": 3
   },
   "file_extension": ".py",
   "mimetype": "text/x-python",
   "name": "python",
   "nbconvert_exporter": "python",
   "pygments_lexer": "ipython3",
   "version": "3.11.6"
  }
 },
 "nbformat": 4,
 "nbformat_minor": 4
}
