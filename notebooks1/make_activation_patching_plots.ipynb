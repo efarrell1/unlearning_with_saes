{
 "cells": [
  {
   "cell_type": "code",
   "execution_count": 1,
   "metadata": {},
   "outputs": [],
   "source": [
    "import pathlib\n",
    "\n",
    "import pandas as pd\n",
    "\n",
    "%matplotlib inline\n",
    "import matplotlib.pyplot as plt\n",
    "import numpy as np\n",
    "from tqdm.notebook import tqdm\n",
    "\n",
    "import ipywidgets as widgets"
   ]
  },
  {
   "cell_type": "code",
   "execution_count": 2,
   "metadata": {},
   "outputs": [],
   "source": [
    "tmp_fig_dir = pathlib.Path('./figs/')\n",
    "tmp_fig_dir.mkdir(exist_ok=True)\n",
    "paper_fig_dir = pathlib.Path('../figs/')"
   ]
  },
  {
   "cell_type": "code",
   "execution_count": 3,
   "metadata": {},
   "outputs": [
    {
     "data": {
      "text/html": [
       "<div>\n",
       "<style scoped>\n",
       "    .dataframe tbody tr th:only-of-type {\n",
       "        vertical-align: middle;\n",
       "    }\n",
       "\n",
       "    .dataframe tbody tr th {\n",
       "        vertical-align: top;\n",
       "    }\n",
       "\n",
       "    .dataframe thead th {\n",
       "        text-align: right;\n",
       "    }\n",
       "</style>\n",
       "<table border=\"1\" class=\"dataframe\">\n",
       "  <thead>\n",
       "    <tr style=\"text-align: right;\">\n",
       "      <th></th>\n",
       "      <th>prompt</th>\n",
       "      <th>answer</th>\n",
       "      <th>objects</th>\n",
       "      <th>prompt_tokens</th>\n",
       "      <th>prompt_str_tokens</th>\n",
       "      <th>clean_prob</th>\n",
       "      <th>corrupted_prob</th>\n",
       "      <th>act_patch</th>\n",
       "      <th>reverse_act_patch</th>\n",
       "    </tr>\n",
       "  </thead>\n",
       "  <tbody>\n",
       "    <tr>\n",
       "      <th>0</th>\n",
       "      <td>Voldemort's actual name was Tom Marvolo</td>\n",
       "      <td>R</td>\n",
       "      <td>[Voldemort's,  Tom Marvolo]</td>\n",
       "      <td>[[0, 55, 744, 358, 430, 434, 4588, 1416, 369, ...</td>\n",
       "      <td>[&lt;|endoftext|&gt;, V, old, em, ort, 's,  actual, ...</td>\n",
       "      <td>0.961298</td>\n",
       "      <td>0.000352</td>\n",
       "      <td>[[-0.00025124205, 0.0013499489, -0.0001343167,...</td>\n",
       "      <td>[[0.9999999, 0.9943583, 0.9829641, 0.9931691, ...</td>\n",
       "    </tr>\n",
       "    <tr>\n",
       "      <th>1</th>\n",
       "      <td>When Harry Potter went back to class, he saw t...</td>\n",
       "      <td>We</td>\n",
       "      <td>[ Harry Potter,  Hermione Granger]</td>\n",
       "      <td>[[0, 3039, 11643, 28753, 2427, 896, 281, 966, ...</td>\n",
       "      <td>[&lt;|endoftext|&gt;, When,  Harry,  Potter,  went, ...</td>\n",
       "      <td>0.976687</td>\n",
       "      <td>0.001637</td>\n",
       "      <td>[[0.0024199204, 0.0014548677, 0.016717227, 0.0...</td>\n",
       "      <td>[[1.0000023, 1.0000023, 0.951611, 0.96038353, ...</td>\n",
       "    </tr>\n",
       "    <tr>\n",
       "      <th>2</th>\n",
       "      <td>J.K. Rowling is the author of the book series \"</td>\n",
       "      <td>Harry</td>\n",
       "      <td>[J.K. Rowling]</td>\n",
       "      <td>[[0, 43, 15, 44, 15, 15784, 1981, 310, 253, 24...</td>\n",
       "      <td>[&lt;|endoftext|&gt;, J, ., K, .,  Row, ling,  is,  ...</td>\n",
       "      <td>0.953377</td>\n",
       "      <td>0.000780</td>\n",
       "      <td>[[-0.0005425212, -0.00025214395, -0.0005322025...</td>\n",
       "      <td>[[1.0000006, 0.9462252, 0.9415986, 0.9583951, ...</td>\n",
       "    </tr>\n",
       "    <tr>\n",
       "      <th>3</th>\n",
       "      <td>Harry Potter studies at the wizarding school n...</td>\n",
       "      <td>Hog</td>\n",
       "      <td>[Harry Potter]</td>\n",
       "      <td>[[0, 33244, 28753, 2175, 387, 253, 259, 478, 1...</td>\n",
       "      <td>[&lt;|endoftext|&gt;, Harry,  Potter,  studies,  at,...</td>\n",
       "      <td>0.350461</td>\n",
       "      <td>0.027536</td>\n",
       "      <td>[[0.08487414, 0.5551957, 0.16567747, 0.3670400...</td>\n",
       "      <td>[[0.99999815, 0.35405305, 0.66945136, 0.999998...</td>\n",
       "    </tr>\n",
       "    <tr>\n",
       "      <th>4</th>\n",
       "      <td>Some of the most popular novels about wizards ...</td>\n",
       "      <td>Harry</td>\n",
       "      <td>[ wizards]</td>\n",
       "      <td>[[0, 6080, 273, 253, 954, 4633, 19204, 670, 25...</td>\n",
       "      <td>[&lt;|endoftext|&gt;, Some,  of,  the,  most,  popul...</td>\n",
       "      <td>0.422437</td>\n",
       "      <td>0.005146</td>\n",
       "      <td>[[-0.0060291, -0.0011453568, 0.001441625, 0.00...</td>\n",
       "      <td>[[0.99999464, 0.99999464, 0.99999464, 0.999994...</td>\n",
       "    </tr>\n",
       "  </tbody>\n",
       "</table>\n",
       "</div>"
      ],
      "text/plain": [
       "                                              prompt answer  \\\n",
       "0            Voldemort's actual name was Tom Marvolo      R   \n",
       "1  When Harry Potter went back to class, he saw t...     We   \n",
       "2    J.K. Rowling is the author of the book series \"  Harry   \n",
       "3  Harry Potter studies at the wizarding school n...    Hog   \n",
       "4  Some of the most popular novels about wizards ...  Harry   \n",
       "\n",
       "                              objects  \\\n",
       "0         [Voldemort's,  Tom Marvolo]   \n",
       "1  [ Harry Potter,  Hermione Granger]   \n",
       "2                      [J.K. Rowling]   \n",
       "3                      [Harry Potter]   \n",
       "4                          [ wizards]   \n",
       "\n",
       "                                       prompt_tokens  \\\n",
       "0  [[0, 55, 744, 358, 430, 434, 4588, 1416, 369, ...   \n",
       "1  [[0, 3039, 11643, 28753, 2427, 896, 281, 966, ...   \n",
       "2  [[0, 43, 15, 44, 15, 15784, 1981, 310, 253, 24...   \n",
       "3  [[0, 33244, 28753, 2175, 387, 253, 259, 478, 1...   \n",
       "4  [[0, 6080, 273, 253, 954, 4633, 19204, 670, 25...   \n",
       "\n",
       "                                   prompt_str_tokens  clean_prob  \\\n",
       "0  [<|endoftext|>, V, old, em, ort, 's,  actual, ...    0.961298   \n",
       "1  [<|endoftext|>, When,  Harry,  Potter,  went, ...    0.976687   \n",
       "2  [<|endoftext|>, J, ., K, .,  Row, ling,  is,  ...    0.953377   \n",
       "3  [<|endoftext|>, Harry,  Potter,  studies,  at,...    0.350461   \n",
       "4  [<|endoftext|>, Some,  of,  the,  most,  popul...    0.422437   \n",
       "\n",
       "   corrupted_prob                                          act_patch  \\\n",
       "0        0.000352  [[-0.00025124205, 0.0013499489, -0.0001343167,...   \n",
       "1        0.001637  [[0.0024199204, 0.0014548677, 0.016717227, 0.0...   \n",
       "2        0.000780  [[-0.0005425212, -0.00025214395, -0.0005322025...   \n",
       "3        0.027536  [[0.08487414, 0.5551957, 0.16567747, 0.3670400...   \n",
       "4        0.005146  [[-0.0060291, -0.0011453568, 0.001441625, 0.00...   \n",
       "\n",
       "                                   reverse_act_patch  \n",
       "0  [[0.9999999, 0.9943583, 0.9829641, 0.9931691, ...  \n",
       "1  [[1.0000023, 1.0000023, 0.951611, 0.96038353, ...  \n",
       "2  [[1.0000006, 0.9462252, 0.9415986, 0.9583951, ...  \n",
       "3  [[0.99999815, 0.35405305, 0.66945136, 0.999998...  \n",
       "4  [[0.99999464, 0.99999464, 0.99999464, 0.999994...  "
      ]
     },
     "execution_count": 3,
     "metadata": {},
     "output_type": "execute_result"
    }
   ],
   "source": [
    "df = pd.read_pickle('patching_data.pkl')\n",
    "df.head()"
   ]
  },
  {
   "cell_type": "code",
   "execution_count": null,
   "metadata": {},
   "outputs": [],
   "source": [
    "def generate_patching_plot(row_num: int):\n",
    "    row = df.iloc[row_num]\n",
    "    fig = plt.figure(figsize=(10, 4))\n",
    "    ax1 = fig.add_subplot(121)\n",
    "    ax2 = fig.add_subplot(122)\n",
    "\n",
    "    tokens = row['prompt_tokens']\n",
    "    layers = np.arange(row['act_patch'].shape[0])\n",
    "    tok_pos = np.arange(tokens.ravel().shape[0])\n",
    "    yy, xx = np.meshgrid(layers, tok_pos)\n",
    "\n",
    "    plot = ax1.pcolormesh(xx, yy, row['act_patch'].T, vmin=0, vmax=1, cmap='Blues', snap=True, rasterized=True)\n",
    "    cb1 = plt.colorbar(plot, orientation='horizontal', location='top')\n",
    "\n",
    "\n",
    "    plot = ax2.pcolormesh(xx, yy, row['reverse_act_patch'].T, vmin=0, vmax=1, cmap='Reds_r', snap=True, rasterized=True)\n",
    "    cb2 = plt.colorbar(plot, orientation='horizontal', location='top')\n",
    "\n",
    "    for ax in [ax1, ax2]:\n",
    "        ax.set_ylim(layers.size-0.5, -0.5)\n",
    "        ax.set_ylabel('layer')\n",
    "        ax.set_yticks(layers[::5] - 0.5)\n",
    "        ax.set_yticklabels(layers[::5])\n",
    "        ax.set_xticks(tok_pos)\n",
    "        ax.set_xticklabels([f\"({i}) {row['prompt_str_tokens'][i]}\" for i in tok_pos], rotation=90)\n",
    "        ax.grid(axis='y')\n",
    "        for i in tok_pos[1:]:\n",
    "            ax.axvline(i-0.5, color='grey', linewidth=0.5)\n",
    "\n",
    "    for cb in [cb1, cb2]:\n",
    "        cb.ax.text(0.5, -0.15, 'Fraction of probability recovered', ha='center', va='top', transform=cb.ax.transAxes)\n",
    "    plt.suptitle(f'prompt index {row_num}; Interfered tokens: {row[\"objects\"]}')\n",
    "    fig.savefig(tmp_fig_dir/f'patching_{row_num}.png', bbox_inches='tight', dpi=200)\n",
    "\n",
    "for i in tqdm(range(df.shape[0])):\n",
    "    generate_patching_plot(i)"
   ]
  },
  {
   "cell_type": "code",
   "execution_count": 5,
   "metadata": {},
   "outputs": [],
   "source": [
    "nice_examples = [2, 4, 6, 8, 11, 22, 28, 32, 35, 37, 42, 46, 51, 58, 64, 65, 69, 70, 71, 72, ] #20 picked-by-hand examples\n",
    "\n",
    "harder_good_examples = [5, 9, 10, 12, 14, 15, 17, 21, 23, 25, 26, 27, 34, 39, 40, 44, 49, 50, 52, 53, 56, 61, 63, 67, 73, 75]\n",
    "\n",
    "complex_good_examples = [13, 38, 45, 48, 68]"
   ]
  },
  {
   "cell_type": "markdown",
   "metadata": {},
   "source": [
    "### Token positions of interest on the good examples"
   ]
  },
  {
   "cell_type": "code",
   "execution_count": 6,
   "metadata": {},
   "outputs": [],
   "source": [
    "last_obj_position = [6, 9, 3, 8, 17, 9, 9, 6, 6, 13, 9, 16, 10, 5, 7, 14, 4, 5, 3, 14]\n",
    "\n",
    "# generate_patching_plot(nice_examples[len(last_obj_position)]) #was great for adding one at a time!"
   ]
  },
  {
   "cell_type": "markdown",
   "metadata": {},
   "source": [
    "### Plots of the good examples"
   ]
  },
  {
   "cell_type": "code",
   "execution_count": null,
   "metadata": {},
   "outputs": [],
   "source": [
    "for i in tqdm(range(len(nice_examples))):\n",
    "    # print('example ', nice_examples[i])\n",
    "    generate_patching_plot(nice_examples[i])"
   ]
  },
  {
   "cell_type": "markdown",
   "metadata": {},
   "source": [
    "### Mean over the good examples on last_obj and on last_token"
   ]
  },
  {
   "cell_type": "code",
   "execution_count": 11,
   "metadata": {},
   "outputs": [],
   "source": [
    "# TODO\n",
    "\n",
    "act_patches = []\n",
    "act_patches_r = []\n",
    "for i, idx in enumerate(nice_examples):\n",
    "    row = df.iloc[idx]\n",
    "    #index out last object position and last position\n",
    "    act_patches.append(row['act_patch'][:,[last_obj_position[i], -1]])\n",
    "    act_patches_r.append(row['reverse_act_patch'][:,[last_obj_position[i], -1]])\n",
    "act_patches = np.array(act_patches).mean(axis=0)\n",
    "act_patches_r = np.array(act_patches_r).mean(axis=0)"
   ]
  },
  {
   "cell_type": "code",
   "execution_count": 32,
   "metadata": {},
   "outputs": [
    {
     "name": "stdout",
     "output_type": "stream",
     "text": [
      "0 [False False] [ True False]\n",
      "1 [False False] [ True False]\n",
      "2 [False False] [ True False]\n",
      "3 [False False] [ True False]\n",
      "4 [ True False] [ True False]\n",
      "5 [ True False] [ True False]\n",
      "6 [ True False] [ True False]\n",
      "7 [ True False] [ True False]\n",
      "8 [ True False] [ True False]\n",
      "9 [ True False] [ True False]\n",
      "10 [ True False] [ True False]\n",
      "11 [ True False] [ True False]\n",
      "12 [ True False] [ True False]\n",
      "13 [ True False] [ True False]\n",
      "14 [ True False] [ True False]\n",
      "15 [False False] [False False]\n",
      "16 [False False] [False False]\n",
      "17 [False False] [False False]\n",
      "18 [False False] [False  True]\n",
      "19 [False  True] [False  True]\n",
      "20 [False  True] [False  True]\n",
      "21 [False  True] [False  True]\n",
      "22 [False  True] [False  True]\n",
      "23 [False  True] [False  True]\n",
      "24 [False  True] [False  True]\n",
      "25 [False  True] [False  True]\n",
      "26 [False  True] [False  True]\n",
      "27 [False  True] [False  True]\n",
      "28 [False  True] [False  True]\n",
      "29 [False  True] [False  True]\n",
      "30 [False  True] [False  True]\n",
      "31 [False  True] [False  True]\n"
     ]
    }
   ],
   "source": [
    "for i in range(act_patches.shape[0]):\n",
    "    print(i, act_patches[i] > 2/3, act_patches_r[i] < 1/3)"
   ]
  },
  {
   "cell_type": "code",
   "execution_count": 20,
   "metadata": {},
   "outputs": [
    {
     "data": {
      "image/png": "[encoded data removed]",
      "text/plain": [
       "<Figure size 800x600 with 4 Axes>"
      ]
     },
     "metadata": {},
     "output_type": "display_data"
    }
   ],
   "source": [
    "def generate_mean_plot():\n",
    "    fig = plt.figure(figsize=(8, 6))\n",
    "    ax1 = fig.add_subplot(121)\n",
    "    ax2 = fig.add_subplot(122)\n",
    "\n",
    "    tokens = ['subject', 'last token']\n",
    "    layers = np.arange(row['act_patch'].shape[0])\n",
    "    tok_pos = np.arange(2)\n",
    "    yy, xx = np.meshgrid(layers, tok_pos)\n",
    "\n",
    "    plot = ax1.pcolormesh(xx, yy, act_patches.T, vmin=0, vmax=1, cmap='Blues', snap=True, rasterized=True)\n",
    "    cb1 = plt.colorbar(plot, orientation='horizontal', location='top')\n",
    "\n",
    "\n",
    "    plot = ax2.pcolormesh(xx, yy, act_patches_r.T, vmin=0, vmax=1, cmap='Reds_r', snap=True, rasterized=True)\n",
    "    cb2 = plt.colorbar(plot, orientation='horizontal', location='top')\n",
    "\n",
    "    for ax in [ax1, ax2]:\n",
    "        ax.set_ylim(layers.size-0.5, -0.5)\n",
    "        ax.set_ylabel('layer')\n",
    "        ax.set_yticks(layers[::5] - 0.5)\n",
    "        ax.set_yticklabels(layers[::5])\n",
    "        ax.set_xticks(tok_pos)\n",
    "        ax.set_xticklabels([f\"({i}) {tokens[i]}\" for i in tok_pos], rotation=90)\n",
    "        ax.grid(axis='y')\n",
    "        for i in tok_pos[1:]:\n",
    "            ax.axvline(i-0.5, color='grey', linewidth=0.5)\n",
    "\n",
    "    for cb in [cb1, cb2]:\n",
    "        cb.ax.text(0.5, -0.15, 'Fraction of probability recovered', ha='center', va='top', transform=cb.ax.transAxes)\n",
    "    fig.savefig(tmp_fig_dir/f'mean_patching.png', bbox_inches='tight', dpi=200)\n",
    "generate_mean_plot()"
   ]
  },
  {
   "cell_type": "code",
   "execution_count": null,
   "metadata": {},
   "outputs": [],
   "source": []
  }
 ],
 "metadata": {
  "kernelspec": {
   "display_name": "Python 3 (ipykernel)",
   "language": "python",
   "name": "python3"
  },
  "language_info": {
   "codemirror_mode": {
    "name": "ipython",
    "version": 3
   },
   "file_extension": ".py",
   "mimetype": "text/x-python",
   "name": "python",
   "nbconvert_exporter": "python",
   "pygments_lexer": "ipython3",
   "version": "3.11.6"
  }
 },
 "nbformat": 4,
 "nbformat_minor": 4
}
