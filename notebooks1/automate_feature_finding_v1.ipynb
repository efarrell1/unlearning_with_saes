{
 "cells": [
  {
   "cell_type": "code",
   "execution_count": 173,
   "id": "32732ee2-1620-4a24-84fe-4eebaa6b5988",
   "metadata": {},
   "outputs": [
    {
     "name": "stdout",
     "output_type": "stream",
     "text": [
      "The autoreload extension is already loaded. To reload it, use:\n",
      "  %reload_ext autoreload\n"
     ]
    }
   ],
   "source": [
    "%load_ext autoreload\n",
    "%autoreload 2\n",
    "\n",
    "import sys\n",
    "sys.path.append(\"../\")\n",
    "\n",
    "import torch\n",
    "import random\n",
    "\n",
    "from sae.sparse_autoencoder import load_saved_sae\n",
    "from sae.metrics import model_store_from_sae\n",
    "from unlearning.metrics import convert_wmdp_data_to_prompt, convert_list_of_dicts_to_dict_of_lists\n",
    "from unlearning.tool import UnlearningConfig, SAEUnlearningTool, MCQ_ActivationStoreAnalysis, ActivationStoreAnalysis\n",
    "from unlearning.metrics import modify_and_calculate_metrics, calculate_metrics_list, create_df_from_metrics\n",
    "\n",
    "from huggingface_hub import hf_hub_download\n",
    "from datasets import load_dataset\n",
    "import numpy as np\n",
    "import pandas as pd\n",
    "import itertools\n",
    "from transformer_lens import utils\n",
    "\n",
    "from jaxtyping import Float\n",
    "from torch import Tensor\n",
    "\n",
    "from pathlib import Path\n",
    "\n",
    "import plotly.express as px\n",
    "from unlearning.var import REPO_ID, SAE_MAPPING\n",
    "import pickle\n",
    "\n",
    "from unlearning.metrics import all_permutations"
   ]
  },
  {
   "cell_type": "code",
   "execution_count": 2,
   "id": "aded5dfb-9332-4545-8de5-05fbd2b45e82",
   "metadata": {},
   "outputs": [
    {
     "name": "stderr",
     "output_type": "stream",
     "text": [
      "/usr/local/lib/python3.11/dist-packages/huggingface_hub/file_download.py:1132: FutureWarning: `resume_download` is deprecated and will be removed in version 1.0.0. Downloads always resume when possible. If you want to force a new download, use `force_download=True`.\n",
      "  warnings.warn(\n",
      "Gemma's activation function should be approximate GeLU and not exact GeLU.\n",
      "Changing the activation function to `gelu_pytorch_tanh`.if you want to use the legacy `gelu`, edit the `model.config` to set `hidden_activation=gelu`   instead of `hidden_act`. See https://github.com/huggingface/transformers/pull/29402 for more details.\n"
     ]
    },
    {
     "data": {
      "application/vnd.jupyter.widget-view+json": {
       "model_id": "e5d90e0524b04043be96d6cb4edeb70a",
       "version_major": 2,
       "version_minor": 0
      },
      "text/plain": [
       "Loading checkpoint shards:   0%|          | 0/2 [00:00<?, ?it/s]"
      ]
     },
     "metadata": {},
     "output_type": "display_data"
    },
    {
     "name": "stderr",
     "output_type": "stream",
     "text": [
      "WARNING:root:You are not using LayerNorm, so the writing weights can't be centered! Skipping\n"
     ]
    },
    {
     "name": "stdout",
     "output_type": "stream",
     "text": [
      "Loaded pretrained model gemma-2b-it into HookedTransformer\n",
      "Moving model to device:  cuda\n"
     ]
    }
   ],
   "source": [
    "# Load main SAE for gemma-2b-it\n",
    "filename = hf_hub_download(repo_id=REPO_ID, filename=SAE_MAPPING['gemma_2b_it_resid_pre_9'])\n",
    "sae = load_saved_sae(filename)\n",
    "model = model_store_from_sae(sae)"
   ]
  },
  {
   "cell_type": "code",
   "execution_count": 3,
   "id": "533dab72-a98a-4a5a-a783-8288b9e43b2b",
   "metadata": {},
   "outputs": [
    {
     "name": "stdout",
     "output_type": "stream",
     "text": [
      "buffer\n",
      "dataloader\n"
     ]
    }
   ],
   "source": [
    "activation_store = ActivationStoreAnalysis(sae.cfg, model)"
   ]
  },
  {
   "cell_type": "code",
   "execution_count": 208,
   "id": "f23dca1e-750c-4844-9490-7db799f7b3bc",
   "metadata": {},
   "outputs": [],
   "source": [
    "# load good feature list\n",
    "\n",
    "with open('../yeutong_notebooks/unlearning_output/good_features_list_v1.pkl', 'rb') as f:\n",
    "    good_features_list = pickle.load(f)\n",
    "\n",
    "\n",
    "features_to_test = list(set([item for sublist in good_features_list.values() for item in sublist]))\n",
    "\n",
    "filtered_good_features = [12663, 4342, 5749, 10355, 1523, 15858, 12273, 14315, 4451, 1611, 10051, 16186, 7983, 6958, 1307, 11019, 6531, 12289]\n",
    "filtered_features_sorted_by_loss = [7983, 16186, 12273, 14315,  4342, 10051, 15858,  6958, 12663, 1611,  6531,  1523, 10355,  5749,  1307, 12289,  4451, 11019]\n",
    "filtered_features_sorted_by_loss2 = np.concatenate((filtered_features_sorted_by_loss[:8], filtered_features_sorted_by_loss[10:11], filtered_features_sorted_by_loss[12:]))\n",
    "\n",
    "zero_side_effect_features = [7983, 16186, 14315,  4342, 10051,  6958,  5749,  4451,  5001, 15755,  2222,  4654,  9280,  1746,  8412,  5861, 15848,  8946]\n",
    "zero_side_effect_features_sorted_by_loss = [5861,  1746, 14315, 16186, 10051,  7983,  4342,  4654,  2222, 15755,  8412,  6958,  5749,  5001,  4451,  8946,  9280, 15848]\n",
    "\n",
    "zero_side_effect_21_features = [ 5001, 11019,  3728,  7983,  9391,  4654, 14388,  5691,  4802, 1611,  7122,  4451, 14819, 15848, 14315, 12273, 15858,  4342, 12663, 12287]\n",
    "zero_side_effect_21_features_sorted_by_loss = [ 9391, 12663,  7122, 11019,  3728,  7983, 14315,  4342,  4654, 15858, 12273, 14388,  1611,  5001,  4451,  5691, 14819, 15848, 12287,  4802]\n",
    "\n",
    "unlearning_dataset = ['wmdp-bio']\n",
    "side_effect_dataset_names =  ['high_school_us_history', 'college_computer_science', 'high_school_geography', 'human_aging', 'college_biology']\n",
    "all_dataset_names = ['loss_added', 'wmdp-bio', 'high_school_us_history', 'college_computer_science', 'high_school_geography', 'human_aging', 'college_biology']"
   ]
  },
  {
   "cell_type": "code",
   "execution_count": 214,
   "id": "a2170912-154f-4e4c-9fe2-2a151633fef2",
   "metadata": {},
   "outputs": [
    {
     "name": "stderr",
     "output_type": "stream",
     "text": [
      "100%|██████████| 10/10 [00:13<00:00,  1.34s/it]\n",
      "100%|██████████| 29/29 [00:06<00:00,  4.32it/s]\n",
      "100%|██████████| 5/5 [00:03<00:00,  1.58it/s]\n",
      "100%|██████████| 2/2 [00:00<00:00,  3.73it/s]\n",
      "100%|██████████| 5/5 [00:00<00:00,  5.95it/s]\n",
      "100%|██████████| 6/6 [00:00<00:00,  6.18it/s]\n",
      "100%|██████████| 3/3 [00:00<00:00,  5.86it/s]\n"
     ]
    },
    {
     "name": "stdout",
     "output_type": "stream",
     "text": [
      "\n"
     ]
    },
    {
     "name": "stderr",
     "output_type": "stream",
     "text": [
      "100%|██████████| 10/10 [00:13<00:00,  1.35s/it]\n",
      "100%|██████████| 29/29 [00:06<00:00,  4.27it/s]\n",
      "100%|██████████| 5/5 [00:03<00:00,  1.56it/s]\n",
      "100%|██████████| 2/2 [00:00<00:00,  3.72it/s]\n",
      "100%|██████████| 5/5 [00:00<00:00,  5.96it/s]\n",
      "100%|██████████| 6/6 [00:00<00:00,  6.18it/s]\n",
      "100%|██████████| 3/3 [00:00<00:00,  5.84it/s]\n"
     ]
    },
    {
     "name": "stdout",
     "output_type": "stream",
     "text": [
      "\n"
     ]
    },
    {
     "name": "stderr",
     "output_type": "stream",
     "text": [
      "100%|██████████| 10/10 [00:13<00:00,  1.36s/it]\n",
      "100%|██████████| 29/29 [00:06<00:00,  4.25it/s]\n",
      "100%|██████████| 5/5 [00:03<00:00,  1.56it/s]\n",
      "100%|██████████| 2/2 [00:00<00:00,  3.67it/s]\n",
      "100%|██████████| 5/5 [00:00<00:00,  5.91it/s]\n",
      "100%|██████████| 6/6 [00:00<00:00,  6.14it/s]\n",
      "100%|██████████| 3/3 [00:00<00:00,  5.83it/s]\n"
     ]
    },
    {
     "name": "stdout",
     "output_type": "stream",
     "text": [
      "\n"
     ]
    },
    {
     "name": "stderr",
     "output_type": "stream",
     "text": [
      "100%|██████████| 10/10 [00:13<00:00,  1.33s/it]\n",
      "100%|██████████| 29/29 [00:06<00:00,  4.23it/s]\n",
      "100%|██████████| 5/5 [00:03<00:00,  1.55it/s]\n",
      "100%|██████████| 2/2 [00:00<00:00,  3.67it/s]\n",
      "100%|██████████| 5/5 [00:00<00:00,  6.02it/s]\n",
      "100%|██████████| 6/6 [00:00<00:00,  6.11it/s]\n",
      "100%|██████████| 3/3 [00:00<00:00,  5.74it/s]\n"
     ]
    },
    {
     "name": "stdout",
     "output_type": "stream",
     "text": [
      "\n"
     ]
    },
    {
     "name": "stderr",
     "output_type": "stream",
     "text": [
      "100%|██████████| 10/10 [00:13<00:00,  1.35s/it]\n",
      "100%|██████████| 29/29 [00:06<00:00,  4.22it/s]\n",
      "100%|██████████| 5/5 [00:03<00:00,  1.55it/s]\n",
      "100%|██████████| 2/2 [00:00<00:00,  3.67it/s]\n",
      "100%|██████████| 5/5 [00:00<00:00,  5.93it/s]\n",
      "100%|██████████| 6/6 [00:00<00:00,  6.07it/s]\n",
      "100%|██████████| 3/3 [00:00<00:00,  5.74it/s]\n"
     ]
    },
    {
     "name": "stdout",
     "output_type": "stream",
     "text": [
      "\n"
     ]
    },
    {
     "name": "stderr",
     "output_type": "stream",
     "text": [
      "100%|██████████| 10/10 [00:13<00:00,  1.34s/it]\n",
      "100%|██████████| 29/29 [00:06<00:00,  4.22it/s]\n",
      "100%|██████████| 5/5 [00:03<00:00,  1.54it/s]\n",
      "100%|██████████| 2/2 [00:00<00:00,  3.70it/s]\n",
      "100%|██████████| 5/5 [00:00<00:00,  5.96it/s]\n",
      "100%|██████████| 6/6 [00:00<00:00,  6.13it/s]\n",
      "100%|██████████| 3/3 [00:00<00:00,  5.77it/s]\n"
     ]
    },
    {
     "name": "stdout",
     "output_type": "stream",
     "text": [
      "\n"
     ]
    },
    {
     "name": "stderr",
     "output_type": "stream",
     "text": [
      "100%|██████████| 10/10 [00:13<00:00,  1.34s/it]\n",
      "100%|██████████| 29/29 [00:06<00:00,  4.21it/s]\n",
      "100%|██████████| 5/5 [00:03<00:00,  1.54it/s]\n",
      "100%|██████████| 2/2 [00:00<00:00,  3.68it/s]\n",
      "100%|██████████| 5/5 [00:00<00:00,  5.94it/s]\n",
      "100%|██████████| 6/6 [00:00<00:00,  6.11it/s]\n",
      "100%|██████████| 3/3 [00:00<00:00,  5.74it/s]\n"
     ]
    },
    {
     "name": "stdout",
     "output_type": "stream",
     "text": [
      "\n"
     ]
    },
    {
     "name": "stderr",
     "output_type": "stream",
     "text": [
      "100%|██████████| 10/10 [00:13<00:00,  1.34s/it]\n",
      "100%|██████████| 29/29 [00:06<00:00,  4.23it/s]\n",
      "100%|██████████| 5/5 [00:03<00:00,  1.55it/s]\n",
      "100%|██████████| 2/2 [00:00<00:00,  3.68it/s]\n",
      "100%|██████████| 5/5 [00:00<00:00,  5.96it/s]\n",
      "100%|██████████| 6/6 [00:00<00:00,  6.00it/s]\n",
      "100%|██████████| 3/3 [00:00<00:00,  5.75it/s]\n"
     ]
    },
    {
     "name": "stdout",
     "output_type": "stream",
     "text": [
      "\n"
     ]
    },
    {
     "name": "stderr",
     "output_type": "stream",
     "text": [
      "100%|██████████| 10/10 [00:13<00:00,  1.35s/it]\n",
      "100%|██████████| 29/29 [00:06<00:00,  4.20it/s]\n",
      "100%|██████████| 5/5 [00:03<00:00,  1.55it/s]\n",
      "100%|██████████| 2/2 [00:00<00:00,  3.65it/s]\n",
      "100%|██████████| 5/5 [00:00<00:00,  5.91it/s]\n",
      "100%|██████████| 6/6 [00:00<00:00,  6.03it/s]\n",
      "100%|██████████| 3/3 [00:00<00:00,  5.78it/s]\n"
     ]
    },
    {
     "name": "stdout",
     "output_type": "stream",
     "text": [
      "\n"
     ]
    },
    {
     "name": "stderr",
     "output_type": "stream",
     "text": [
      "100%|██████████| 10/10 [00:13<00:00,  1.34s/it]\n",
      "100%|██████████| 29/29 [00:06<00:00,  4.23it/s]\n",
      "100%|██████████| 5/5 [00:03<00:00,  1.55it/s]\n",
      "100%|██████████| 2/2 [00:00<00:00,  3.63it/s]\n",
      "100%|██████████| 5/5 [00:00<00:00,  5.96it/s]\n",
      "100%|██████████| 6/6 [00:00<00:00,  6.09it/s]\n",
      "100%|██████████| 3/3 [00:00<00:00,  5.75it/s]\n"
     ]
    },
    {
     "name": "stdout",
     "output_type": "stream",
     "text": [
      "\n"
     ]
    },
    {
     "name": "stderr",
     "output_type": "stream",
     "text": [
      "100%|██████████| 10/10 [00:13<00:00,  1.33s/it]\n",
      "100%|██████████| 29/29 [00:06<00:00,  4.22it/s]\n",
      "100%|██████████| 5/5 [00:03<00:00,  1.55it/s]\n",
      "100%|██████████| 2/2 [00:00<00:00,  3.68it/s]\n",
      "100%|██████████| 5/5 [00:00<00:00,  5.92it/s]\n",
      "100%|██████████| 6/6 [00:00<00:00,  6.12it/s]\n",
      "100%|██████████| 3/3 [00:00<00:00,  5.77it/s]\n"
     ]
    },
    {
     "name": "stdout",
     "output_type": "stream",
     "text": [
      "\n"
     ]
    },
    {
     "name": "stderr",
     "output_type": "stream",
     "text": [
      "100%|██████████| 10/10 [00:13<00:00,  1.34s/it]\n",
      "100%|██████████| 29/29 [00:06<00:00,  4.22it/s]\n",
      "100%|██████████| 5/5 [00:03<00:00,  1.54it/s]\n",
      "100%|██████████| 2/2 [00:00<00:00,  3.66it/s]\n",
      "100%|██████████| 5/5 [00:00<00:00,  5.94it/s]\n",
      "100%|██████████| 6/6 [00:00<00:00,  6.13it/s]\n",
      "100%|██████████| 3/3 [00:00<00:00,  5.66it/s]\n"
     ]
    },
    {
     "name": "stdout",
     "output_type": "stream",
     "text": [
      "\n"
     ]
    },
    {
     "name": "stderr",
     "output_type": "stream",
     "text": [
      "100%|██████████| 10/10 [00:13<00:00,  1.32s/it]\n",
      "100%|██████████| 29/29 [00:06<00:00,  4.22it/s]\n",
      "100%|██████████| 5/5 [00:03<00:00,  1.55it/s]\n",
      "100%|██████████| 2/2 [00:00<00:00,  3.68it/s]\n",
      "100%|██████████| 5/5 [00:00<00:00,  5.83it/s]\n",
      "100%|██████████| 6/6 [00:00<00:00,  6.11it/s]\n",
      "100%|██████████| 3/3 [00:00<00:00,  5.82it/s]\n"
     ]
    },
    {
     "name": "stdout",
     "output_type": "stream",
     "text": [
      "\n"
     ]
    },
    {
     "name": "stderr",
     "output_type": "stream",
     "text": [
      "100%|██████████| 10/10 [00:13<00:00,  1.31s/it]\n",
      "100%|██████████| 29/29 [00:06<00:00,  4.21it/s]\n",
      "100%|██████████| 5/5 [00:03<00:00,  1.54it/s]\n",
      "100%|██████████| 2/2 [00:00<00:00,  3.65it/s]\n",
      "100%|██████████| 5/5 [00:00<00:00,  5.96it/s]\n",
      "100%|██████████| 6/6 [00:00<00:00,  6.12it/s]\n",
      "100%|██████████| 3/3 [00:00<00:00,  5.75it/s]\n"
     ]
    },
    {
     "name": "stdout",
     "output_type": "stream",
     "text": [
      "\n"
     ]
    },
    {
     "name": "stderr",
     "output_type": "stream",
     "text": [
      "100%|██████████| 10/10 [00:13<00:00,  1.32s/it]\n",
      "100%|██████████| 29/29 [00:06<00:00,  4.21it/s]\n",
      "100%|██████████| 5/5 [00:03<00:00,  1.54it/s]\n",
      "100%|██████████| 2/2 [00:00<00:00,  3.67it/s]\n",
      "100%|██████████| 5/5 [00:00<00:00,  5.92it/s]\n",
      "100%|██████████| 6/6 [00:00<00:00,  6.11it/s]\n",
      "100%|██████████| 3/3 [00:00<00:00,  5.75it/s]\n"
     ]
    },
    {
     "name": "stdout",
     "output_type": "stream",
     "text": [
      "\n"
     ]
    },
    {
     "name": "stderr",
     "output_type": "stream",
     "text": [
      "100%|██████████| 10/10 [00:13<00:00,  1.31s/it]\n",
      "100%|██████████| 29/29 [00:06<00:00,  4.22it/s]\n",
      "100%|██████████| 5/5 [00:03<00:00,  1.55it/s]\n",
      "100%|██████████| 2/2 [00:00<00:00,  3.72it/s]\n",
      "100%|██████████| 5/5 [00:00<00:00,  6.00it/s]\n",
      "100%|██████████| 6/6 [00:00<00:00,  6.12it/s]\n",
      "100%|██████████| 3/3 [00:00<00:00,  5.80it/s]\n"
     ]
    },
    {
     "name": "stdout",
     "output_type": "stream",
     "text": [
      "\n"
     ]
    },
    {
     "name": "stderr",
     "output_type": "stream",
     "text": [
      "100%|██████████| 10/10 [00:13<00:00,  1.36s/it]\n",
      "100%|██████████| 29/29 [00:06<00:00,  4.22it/s]\n",
      "100%|██████████| 5/5 [00:03<00:00,  1.55it/s]\n",
      "100%|██████████| 2/2 [00:00<00:00,  3.70it/s]\n",
      "100%|██████████| 5/5 [00:00<00:00,  5.95it/s]\n",
      "100%|██████████| 6/6 [00:00<00:00,  6.10it/s]\n",
      "100%|██████████| 3/3 [00:00<00:00,  5.80it/s]\n"
     ]
    },
    {
     "name": "stdout",
     "output_type": "stream",
     "text": [
      "\n"
     ]
    },
    {
     "name": "stderr",
     "output_type": "stream",
     "text": [
      "100%|██████████| 10/10 [00:13<00:00,  1.34s/it]\n",
      "100%|██████████| 29/29 [00:06<00:00,  4.21it/s]\n",
      "100%|██████████| 5/5 [00:03<00:00,  1.54it/s]\n",
      "100%|██████████| 2/2 [00:00<00:00,  3.69it/s]\n",
      "100%|██████████| 5/5 [00:00<00:00,  5.89it/s]\n",
      "100%|██████████| 6/6 [00:00<00:00,  6.11it/s]\n",
      "100%|██████████| 3/3 [00:00<00:00,  5.79it/s]\n"
     ]
    },
    {
     "name": "stdout",
     "output_type": "stream",
     "text": [
      "\n"
     ]
    },
    {
     "name": "stderr",
     "output_type": "stream",
     "text": [
      "100%|██████████| 10/10 [00:13<00:00,  1.33s/it]\n",
      "100%|██████████| 29/29 [00:06<00:00,  4.22it/s]\n",
      "100%|██████████| 5/5 [00:03<00:00,  1.54it/s]\n",
      "100%|██████████| 2/2 [00:00<00:00,  3.70it/s]\n",
      "100%|██████████| 5/5 [00:00<00:00,  5.90it/s]\n",
      "100%|██████████| 6/6 [00:00<00:00,  6.16it/s]\n",
      "100%|██████████| 3/3 [00:00<00:00,  5.77it/s]\n"
     ]
    },
    {
     "name": "stdout",
     "output_type": "stream",
     "text": [
      "\n"
     ]
    },
    {
     "name": "stderr",
     "output_type": "stream",
     "text": [
      "100%|██████████| 10/10 [00:13<00:00,  1.32s/it]\n",
      "100%|██████████| 29/29 [00:06<00:00,  4.22it/s]\n",
      "100%|██████████| 5/5 [00:03<00:00,  1.55it/s]\n",
      "100%|██████████| 2/2 [00:00<00:00,  3.69it/s]\n",
      "100%|██████████| 5/5 [00:00<00:00,  6.00it/s]\n",
      "100%|██████████| 6/6 [00:00<00:00,  6.05it/s]\n",
      "100%|██████████| 3/3 [00:00<00:00,  5.69it/s]\n"
     ]
    },
    {
     "name": "stdout",
     "output_type": "stream",
     "text": [
      "\n"
     ]
    },
    {
     "name": "stderr",
     "output_type": "stream",
     "text": [
      "100%|██████████| 10/10 [00:13<00:00,  1.36s/it]\n",
      "100%|██████████| 29/29 [00:06<00:00,  4.23it/s]\n",
      "100%|██████████| 5/5 [00:03<00:00,  1.55it/s]\n",
      "100%|██████████| 2/2 [00:00<00:00,  3.65it/s]\n",
      "100%|██████████| 5/5 [00:00<00:00,  5.95it/s]\n",
      "100%|██████████| 6/6 [00:00<00:00,  6.12it/s]\n",
      "100%|██████████| 3/3 [00:00<00:00,  5.71it/s]\n"
     ]
    },
    {
     "name": "stdout",
     "output_type": "stream",
     "text": [
      "\n"
     ]
    },
    {
     "name": "stderr",
     "output_type": "stream",
     "text": [
      "100%|██████████| 10/10 [00:13<00:00,  1.34s/it]\n",
      "100%|██████████| 29/29 [00:06<00:00,  4.21it/s]\n",
      "100%|██████████| 5/5 [00:03<00:00,  1.54it/s]\n",
      "100%|██████████| 2/2 [00:00<00:00,  3.71it/s]\n",
      "100%|██████████| 5/5 [00:00<00:00,  5.99it/s]\n",
      "100%|██████████| 6/6 [00:00<00:00,  6.04it/s]\n",
      "100%|██████████| 3/3 [00:00<00:00,  5.77it/s]\n"
     ]
    },
    {
     "name": "stdout",
     "output_type": "stream",
     "text": [
      "\n"
     ]
    },
    {
     "name": "stderr",
     "output_type": "stream",
     "text": [
      "100%|██████████| 10/10 [00:13<00:00,  1.37s/it]\n",
      "100%|██████████| 29/29 [00:06<00:00,  4.22it/s]\n",
      "100%|██████████| 5/5 [00:03<00:00,  1.55it/s]\n",
      "100%|██████████| 2/2 [00:00<00:00,  3.70it/s]\n",
      "100%|██████████| 5/5 [00:00<00:00,  5.82it/s]\n",
      "100%|██████████| 6/6 [00:00<00:00,  6.10it/s]\n",
      "100%|██████████| 3/3 [00:00<00:00,  5.76it/s]\n"
     ]
    },
    {
     "name": "stdout",
     "output_type": "stream",
     "text": [
      "\n"
     ]
    },
    {
     "name": "stderr",
     "output_type": "stream",
     "text": [
      "100%|██████████| 10/10 [00:13<00:00,  1.33s/it]\n",
      "100%|██████████| 29/29 [00:06<00:00,  4.21it/s]\n",
      "100%|██████████| 5/5 [00:03<00:00,  1.52it/s]\n",
      "100%|██████████| 2/2 [00:00<00:00,  3.68it/s]\n",
      "100%|██████████| 5/5 [00:00<00:00,  5.89it/s]\n",
      "100%|██████████| 6/6 [00:00<00:00,  6.07it/s]\n",
      "100%|██████████| 3/3 [00:00<00:00,  5.79it/s]\n"
     ]
    },
    {
     "name": "stdout",
     "output_type": "stream",
     "text": [
      "\n"
     ]
    },
    {
     "name": "stderr",
     "output_type": "stream",
     "text": [
      "100%|██████████| 10/10 [00:13<00:00,  1.32s/it]\n",
      "100%|██████████| 29/29 [00:06<00:00,  4.21it/s]\n",
      "100%|██████████| 5/5 [00:03<00:00,  1.55it/s]\n",
      "100%|██████████| 2/2 [00:00<00:00,  3.69it/s]\n",
      "100%|██████████| 5/5 [00:00<00:00,  5.85it/s]\n",
      "100%|██████████| 6/6 [00:00<00:00,  6.12it/s]\n",
      "100%|██████████| 3/3 [00:00<00:00,  5.79it/s]\n"
     ]
    },
    {
     "name": "stdout",
     "output_type": "stream",
     "text": [
      "\n"
     ]
    },
    {
     "name": "stderr",
     "output_type": "stream",
     "text": [
      "100%|██████████| 10/10 [00:13<00:00,  1.34s/it]\n",
      "100%|██████████| 29/29 [00:06<00:00,  4.20it/s]\n",
      "100%|██████████| 5/5 [00:03<00:00,  1.54it/s]\n",
      "100%|██████████| 2/2 [00:00<00:00,  3.69it/s]\n",
      "100%|██████████| 5/5 [00:00<00:00,  5.90it/s]\n",
      "100%|██████████| 6/6 [00:00<00:00,  6.07it/s]\n",
      "100%|██████████| 3/3 [00:00<00:00,  5.74it/s]\n"
     ]
    },
    {
     "name": "stdout",
     "output_type": "stream",
     "text": [
      "\n"
     ]
    },
    {
     "name": "stderr",
     "output_type": "stream",
     "text": [
      "100%|██████████| 10/10 [00:13<00:00,  1.31s/it]\n",
      "100%|██████████| 29/29 [00:06<00:00,  4.23it/s]\n",
      "100%|██████████| 5/5 [00:03<00:00,  1.54it/s]\n",
      "100%|██████████| 2/2 [00:00<00:00,  3.58it/s]\n",
      "100%|██████████| 5/5 [00:00<00:00,  5.86it/s]\n",
      "100%|██████████| 6/6 [00:00<00:00,  6.12it/s]\n",
      "100%|██████████| 3/3 [00:00<00:00,  5.71it/s]\n"
     ]
    },
    {
     "name": "stdout",
     "output_type": "stream",
     "text": [
      "\n"
     ]
    },
    {
     "name": "stderr",
     "output_type": "stream",
     "text": [
      "100%|██████████| 10/10 [00:13<00:00,  1.34s/it]\n",
      "100%|██████████| 29/29 [00:06<00:00,  4.22it/s]\n",
      "100%|██████████| 5/5 [00:03<00:00,  1.54it/s]\n",
      "100%|██████████| 2/2 [00:00<00:00,  3.62it/s]\n",
      "100%|██████████| 5/5 [00:00<00:00,  5.93it/s]\n",
      "100%|██████████| 6/6 [00:00<00:00,  6.11it/s]\n",
      "100%|██████████| 3/3 [00:00<00:00,  5.82it/s]\n"
     ]
    },
    {
     "name": "stdout",
     "output_type": "stream",
     "text": [
      "\n"
     ]
    },
    {
     "name": "stderr",
     "output_type": "stream",
     "text": [
      "100%|██████████| 10/10 [00:13<00:00,  1.34s/it]\n",
      "100%|██████████| 29/29 [00:06<00:00,  4.22it/s]\n",
      "100%|██████████| 5/5 [00:03<00:00,  1.55it/s]\n",
      "100%|██████████| 2/2 [00:00<00:00,  3.70it/s]\n",
      "100%|██████████| 5/5 [00:00<00:00,  5.98it/s]\n",
      "100%|██████████| 6/6 [00:00<00:00,  6.04it/s]\n",
      "100%|██████████| 3/3 [00:00<00:00,  5.65it/s]\n"
     ]
    },
    {
     "name": "stdout",
     "output_type": "stream",
     "text": [
      "\n"
     ]
    },
    {
     "name": "stderr",
     "output_type": "stream",
     "text": [
      "100%|██████████| 10/10 [00:13<00:00,  1.35s/it]\n",
      "100%|██████████| 29/29 [00:06<00:00,  4.24it/s]\n",
      "100%|██████████| 5/5 [00:03<00:00,  1.54it/s]\n",
      "100%|██████████| 2/2 [00:00<00:00,  3.61it/s]\n",
      "100%|██████████| 5/5 [00:00<00:00,  5.93it/s]\n",
      "100%|██████████| 6/6 [00:00<00:00,  6.09it/s]\n",
      "100%|██████████| 3/3 [00:00<00:00,  5.83it/s]\n"
     ]
    },
    {
     "name": "stdout",
     "output_type": "stream",
     "text": [
      "\n"
     ]
    },
    {
     "name": "stderr",
     "output_type": "stream",
     "text": [
      "100%|██████████| 10/10 [00:13<00:00,  1.34s/it]\n",
      "100%|██████████| 29/29 [00:06<00:00,  4.22it/s]\n",
      "100%|██████████| 5/5 [00:03<00:00,  1.55it/s]\n",
      "100%|██████████| 2/2 [00:00<00:00,  3.68it/s]\n",
      "100%|██████████| 5/5 [00:00<00:00,  5.90it/s]\n",
      "100%|██████████| 6/6 [00:00<00:00,  6.11it/s]\n",
      "100%|██████████| 3/3 [00:00<00:00,  5.63it/s]\n"
     ]
    },
    {
     "name": "stdout",
     "output_type": "stream",
     "text": [
      "\n"
     ]
    },
    {
     "name": "stderr",
     "output_type": "stream",
     "text": [
      "100%|██████████| 10/10 [00:13<00:00,  1.34s/it]\n",
      "100%|██████████| 29/29 [00:06<00:00,  4.18it/s]\n",
      "100%|██████████| 5/5 [00:03<00:00,  1.54it/s]\n",
      "100%|██████████| 2/2 [00:00<00:00,  3.70it/s]\n",
      "100%|██████████| 5/5 [00:00<00:00,  5.83it/s]\n",
      "100%|██████████| 6/6 [00:00<00:00,  6.02it/s]\n",
      "100%|██████████| 3/3 [00:00<00:00,  5.76it/s]\n"
     ]
    },
    {
     "name": "stdout",
     "output_type": "stream",
     "text": [
      "\n"
     ]
    },
    {
     "name": "stderr",
     "output_type": "stream",
     "text": [
      "100%|██████████| 10/10 [00:13<00:00,  1.36s/it]\n",
      "100%|██████████| 29/29 [00:06<00:00,  4.22it/s]\n",
      "100%|██████████| 5/5 [00:03<00:00,  1.54it/s]\n",
      "100%|██████████| 2/2 [00:00<00:00,  3.69it/s]\n",
      "100%|██████████| 5/5 [00:00<00:00,  5.78it/s]\n",
      "100%|██████████| 6/6 [00:00<00:00,  6.08it/s]\n",
      "100%|██████████| 3/3 [00:00<00:00,  5.74it/s]\n"
     ]
    },
    {
     "name": "stdout",
     "output_type": "stream",
     "text": [
      "\n"
     ]
    },
    {
     "name": "stderr",
     "output_type": "stream",
     "text": [
      "100%|██████████| 10/10 [00:13<00:00,  1.38s/it]\n",
      "100%|██████████| 29/29 [00:06<00:00,  4.23it/s]\n",
      "100%|██████████| 5/5 [00:03<00:00,  1.54it/s]\n",
      "100%|██████████| 2/2 [00:00<00:00,  3.69it/s]\n",
      "100%|██████████| 5/5 [00:00<00:00,  5.91it/s]\n",
      "100%|██████████| 6/6 [00:00<00:00,  6.11it/s]\n",
      "100%|██████████| 3/3 [00:00<00:00,  5.80it/s]\n"
     ]
    },
    {
     "name": "stdout",
     "output_type": "stream",
     "text": [
      "\n"
     ]
    },
    {
     "name": "stderr",
     "output_type": "stream",
     "text": [
      "100%|██████████| 10/10 [00:13<00:00,  1.34s/it]\n",
      "100%|██████████| 29/29 [00:06<00:00,  4.23it/s]\n",
      "100%|██████████| 5/5 [00:03<00:00,  1.54it/s]\n",
      "100%|██████████| 2/2 [00:00<00:00,  3.66it/s]\n",
      "100%|██████████| 5/5 [00:00<00:00,  5.90it/s]\n",
      "100%|██████████| 6/6 [00:00<00:00,  6.10it/s]\n",
      "100%|██████████| 3/3 [00:00<00:00,  5.79it/s]\n"
     ]
    },
    {
     "name": "stdout",
     "output_type": "stream",
     "text": [
      "\n"
     ]
    },
    {
     "name": "stderr",
     "output_type": "stream",
     "text": [
      "100%|██████████| 10/10 [00:13<00:00,  1.31s/it]\n",
      "100%|██████████| 29/29 [00:06<00:00,  4.20it/s]\n",
      "100%|██████████| 5/5 [00:03<00:00,  1.55it/s]\n",
      "100%|██████████| 2/2 [00:00<00:00,  3.70it/s]\n",
      "100%|██████████| 5/5 [00:00<00:00,  5.88it/s]\n",
      "100%|██████████| 6/6 [00:00<00:00,  6.14it/s]\n",
      "100%|██████████| 3/3 [00:00<00:00,  5.74it/s]\n"
     ]
    },
    {
     "name": "stdout",
     "output_type": "stream",
     "text": [
      "\n"
     ]
    },
    {
     "name": "stderr",
     "output_type": "stream",
     "text": [
      "100%|██████████| 10/10 [00:13<00:00,  1.32s/it]\n",
      "100%|██████████| 29/29 [00:06<00:00,  4.20it/s]\n",
      "100%|██████████| 5/5 [00:03<00:00,  1.54it/s]\n",
      "100%|██████████| 2/2 [00:00<00:00,  3.63it/s]\n",
      "100%|██████████| 5/5 [00:00<00:00,  5.99it/s]\n",
      "100%|██████████| 6/6 [00:00<00:00,  6.17it/s]\n",
      "100%|██████████| 3/3 [00:00<00:00,  5.76it/s]\n"
     ]
    },
    {
     "name": "stdout",
     "output_type": "stream",
     "text": [
      "\n"
     ]
    },
    {
     "name": "stderr",
     "output_type": "stream",
     "text": [
      "100%|██████████| 10/10 [00:13<00:00,  1.36s/it]\n",
      "100%|██████████| 29/29 [00:06<00:00,  4.22it/s]\n",
      "100%|██████████| 5/5 [00:03<00:00,  1.55it/s]\n",
      "100%|██████████| 2/2 [00:00<00:00,  3.70it/s]\n",
      "100%|██████████| 5/5 [00:00<00:00,  5.91it/s]\n",
      "100%|██████████| 6/6 [00:00<00:00,  6.12it/s]\n",
      "100%|██████████| 3/3 [00:00<00:00,  5.72it/s]\n"
     ]
    },
    {
     "name": "stdout",
     "output_type": "stream",
     "text": [
      "\n"
     ]
    },
    {
     "name": "stderr",
     "output_type": "stream",
     "text": [
      "100%|██████████| 10/10 [00:13<00:00,  1.33s/it]\n",
      "100%|██████████| 29/29 [00:06<00:00,  4.20it/s]\n",
      "100%|██████████| 5/5 [00:03<00:00,  1.54it/s]\n",
      "100%|██████████| 2/2 [00:00<00:00,  3.69it/s]\n",
      "100%|██████████| 5/5 [00:00<00:00,  5.88it/s]\n",
      "100%|██████████| 6/6 [00:00<00:00,  6.10it/s]\n",
      "100%|██████████| 3/3 [00:00<00:00,  5.65it/s]\n"
     ]
    },
    {
     "name": "stdout",
     "output_type": "stream",
     "text": [
      "\n"
     ]
    },
    {
     "name": "stderr",
     "output_type": "stream",
     "text": [
      "100%|██████████| 10/10 [00:13<00:00,  1.33s/it]\n",
      "100%|██████████| 29/29 [00:06<00:00,  4.22it/s]\n",
      "100%|██████████| 5/5 [00:03<00:00,  1.55it/s]\n",
      "100%|██████████| 2/2 [00:00<00:00,  3.69it/s]\n",
      "100%|██████████| 5/5 [00:00<00:00,  5.96it/s]\n",
      "100%|██████████| 6/6 [00:00<00:00,  6.07it/s]\n",
      "100%|██████████| 3/3 [00:00<00:00,  5.79it/s]\n"
     ]
    },
    {
     "name": "stdout",
     "output_type": "stream",
     "text": [
      "\n"
     ]
    },
    {
     "name": "stderr",
     "output_type": "stream",
     "text": [
      "100%|██████████| 10/10 [00:13<00:00,  1.33s/it]\n",
      "100%|██████████| 29/29 [00:06<00:00,  4.21it/s]\n",
      "100%|██████████| 5/5 [00:03<00:00,  1.55it/s]\n",
      "100%|██████████| 2/2 [00:00<00:00,  3.65it/s]\n",
      "100%|██████████| 5/5 [00:00<00:00,  5.93it/s]\n",
      "100%|██████████| 6/6 [00:00<00:00,  6.13it/s]\n",
      "100%|██████████| 3/3 [00:00<00:00,  5.74it/s]"
     ]
    },
    {
     "name": "stdout",
     "output_type": "stream",
     "text": [
      "\n"
     ]
    },
    {
     "name": "stderr",
     "output_type": "stream",
     "text": [
      "\n"
     ]
    }
   ],
   "source": [
    "# Calculate metrics\n",
    "\n",
    "main_ablate_params = {'multiplier': 25, 'intervention_method': 'clamp_feature_activation'}\n",
    "\n",
    "sweep = {'features_to_ablate': features_to_test}\n",
    "# sweep = {'features_to_ablate': [zero_side_effect_21_features_sorted_by_loss[:i+1] for i in range(len(zero_side_effect_21_features_sorted_by_loss))]}\n",
    "\n",
    "dataset_names = all_dataset_names\n",
    "# dataset_names = ['loss_added', 'human_aging']\n",
    "# dataset_names = ['human_aging']\n",
    "# dataset_names = ['loss_added']\n",
    "# dataset_names = ['wmdp-bio']\n",
    "\n",
    "n_batch_loss_added = 10\n",
    "\n",
    "metrics_list = calculate_metrics_list(model,\n",
    "                                      sae,\n",
    "                                      main_ablate_params,\n",
    "                                      sweep,\n",
    "                                      dataset_names=dataset_names,\n",
    "                                      include_baseline_metrics=False,\n",
    "                                      n_batch_loss_added=n_batch_loss_added,\n",
    "                                      activation_store=activation_store)\n"
   ]
  },
  {
   "cell_type": "code",
   "execution_count": 213,
   "id": "1905d2df-8ecd-42f0-8ffc-508f8a95a2c3",
   "metadata": {},
   "outputs": [
    {
     "data": {
      "text/html": [
       "<div>\n",
       "<style scoped>\n",
       "    .dataframe tbody tr th:only-of-type {\n",
       "        vertical-align: middle;\n",
       "    }\n",
       "\n",
       "    .dataframe tbody tr th {\n",
       "        vertical-align: top;\n",
       "    }\n",
       "\n",
       "    .dataframe thead th {\n",
       "        text-align: right;\n",
       "    }\n",
       "</style>\n",
       "<table border=\"1\" class=\"dataframe\">\n",
       "  <thead>\n",
       "    <tr style=\"text-align: right;\">\n",
       "      <th></th>\n",
       "      <th>loss_added</th>\n",
       "      <th>wmdp-bio</th>\n",
       "      <th>high_school_us_history</th>\n",
       "      <th>college_computer_science</th>\n",
       "      <th>high_school_geography</th>\n",
       "      <th>human_aging</th>\n",
       "      <th>college_biology</th>\n",
       "      <th>wmdp-bio_prob</th>\n",
       "      <th>high_school_us_history_prob</th>\n",
       "      <th>college_computer_science_prob</th>\n",
       "      <th>high_school_geography_prob</th>\n",
       "      <th>human_aging_prob</th>\n",
       "      <th>college_biology_prob</th>\n",
       "    </tr>\n",
       "  </thead>\n",
       "  <tbody>\n",
       "    <tr>\n",
       "      <th>0</th>\n",
       "      <td>0.000000</td>\n",
       "      <td>1.000000</td>\n",
       "      <td>1.0</td>\n",
       "      <td>1.0</td>\n",
       "      <td>1.000000</td>\n",
       "      <td>1.000</td>\n",
       "      <td>1.0</td>\n",
       "      <td>0.995535</td>\n",
       "      <td>0.991663</td>\n",
       "      <td>0.998721</td>\n",
       "      <td>0.997189</td>\n",
       "      <td>0.990612</td>\n",
       "      <td>0.996585</td>\n",
       "    </tr>\n",
       "    <tr>\n",
       "      <th>1</th>\n",
       "      <td>0.002897</td>\n",
       "      <td>0.988372</td>\n",
       "      <td>1.0</td>\n",
       "      <td>1.0</td>\n",
       "      <td>1.000000</td>\n",
       "      <td>1.000</td>\n",
       "      <td>1.0</td>\n",
       "      <td>0.988893</td>\n",
       "      <td>0.991663</td>\n",
       "      <td>0.998721</td>\n",
       "      <td>0.997189</td>\n",
       "      <td>0.990612</td>\n",
       "      <td>0.996374</td>\n",
       "    </tr>\n",
       "    <tr>\n",
       "      <th>2</th>\n",
       "      <td>-0.001240</td>\n",
       "      <td>0.860465</td>\n",
       "      <td>1.0</td>\n",
       "      <td>1.0</td>\n",
       "      <td>0.966667</td>\n",
       "      <td>0.875</td>\n",
       "      <td>1.0</td>\n",
       "      <td>0.972632</td>\n",
       "      <td>0.991663</td>\n",
       "      <td>0.998605</td>\n",
       "      <td>0.988468</td>\n",
       "      <td>0.985791</td>\n",
       "      <td>0.994973</td>\n",
       "    </tr>\n",
       "  </tbody>\n",
       "</table>\n",
       "</div>"
      ],
      "text/plain": [
       "   loss_added  wmdp-bio  high_school_us_history  college_computer_science  \\\n",
       "0    0.000000  1.000000                     1.0                       1.0   \n",
       "1    0.002897  0.988372                     1.0                       1.0   \n",
       "2   -0.001240  0.860465                     1.0                       1.0   \n",
       "\n",
       "   high_school_geography  human_aging  college_biology  wmdp-bio_prob  \\\n",
       "0               1.000000        1.000              1.0       0.995535   \n",
       "1               1.000000        1.000              1.0       0.988893   \n",
       "2               0.966667        0.875              1.0       0.972632   \n",
       "\n",
       "   high_school_us_history_prob  college_computer_science_prob  \\\n",
       "0                     0.991663                       0.998721   \n",
       "1                     0.991663                       0.998721   \n",
       "2                     0.991663                       0.998605   \n",
       "\n",
       "   high_school_geography_prob  human_aging_prob  college_biology_prob  \n",
       "0                    0.997189          0.990612              0.996585  \n",
       "1                    0.997189          0.990612              0.996374  \n",
       "2                    0.988468          0.985791              0.994973  "
      ]
     },
     "execution_count": 213,
     "metadata": {},
     "output_type": "execute_result"
    }
   ],
   "source": [
    "df = create_df_from_metrics(metrics_list)\n",
    "df"
   ]
  },
  {
   "cell_type": "code",
   "execution_count": null,
   "id": "0f138ccd-2bb9-4ef9-a38a-273e0b8f6bee",
   "metadata": {},
   "outputs": [],
   "source": []
  },
  {
   "cell_type": "code",
   "execution_count": 206,
   "id": "9a2e7214-0e30-432f-bb8e-803b22119d1e",
   "metadata": {},
   "outputs": [],
   "source": [
    "# metrics_dict = convert_list_of_dicts_to_dict_of_lists(metrics_list)\n",
    "df2 = create_df_from_metrics(metrics_list)\n",
    "isort = np.argsort(df2['loss_added'].values[1:])\n",
    "zero_side_effect_21_features_sorted_by_loss = np.array(zero_side_effect_21_features)[isort]"
   ]
  },
  {
   "cell_type": "code",
   "execution_count": 179,
   "id": "310e919d-9c8a-48bc-9a34-e01dbea6c2b1",
   "metadata": {},
   "outputs": [
    {
     "data": {
      "text/html": [
       "<div>\n",
       "<style scoped>\n",
       "    .dataframe tbody tr th:only-of-type {\n",
       "        vertical-align: middle;\n",
       "    }\n",
       "\n",
       "    .dataframe tbody tr th {\n",
       "        vertical-align: top;\n",
       "    }\n",
       "\n",
       "    .dataframe thead th {\n",
       "        text-align: right;\n",
       "    }\n",
       "</style>\n",
       "<table border=\"1\" class=\"dataframe\">\n",
       "  <thead>\n",
       "    <tr style=\"text-align: right;\">\n",
       "      <th></th>\n",
       "      <th>loss_added</th>\n",
       "      <th>wmdp-bio</th>\n",
       "      <th>high_school_us_history</th>\n",
       "      <th>college_computer_science</th>\n",
       "      <th>high_school_geography</th>\n",
       "      <th>human_aging</th>\n",
       "      <th>college_biology</th>\n",
       "      <th>wmdp-bio_prob</th>\n",
       "      <th>high_school_us_history_prob</th>\n",
       "      <th>college_computer_science_prob</th>\n",
       "      <th>high_school_geography_prob</th>\n",
       "      <th>human_aging_prob</th>\n",
       "      <th>college_biology_prob</th>\n",
       "    </tr>\n",
       "  </thead>\n",
       "  <tbody>\n",
       "    <tr>\n",
       "      <th>0</th>\n",
       "      <td>NaN</td>\n",
       "      <td>1.000000</td>\n",
       "      <td>1.000000</td>\n",
       "      <td>1.000</td>\n",
       "      <td>1.000000</td>\n",
       "      <td>1.00000</td>\n",
       "      <td>1.000000</td>\n",
       "      <td>0.995535</td>\n",
       "      <td>0.991663</td>\n",
       "      <td>0.998721</td>\n",
       "      <td>0.997189</td>\n",
       "      <td>0.990612</td>\n",
       "      <td>0.996585</td>\n",
       "    </tr>\n",
       "    <tr>\n",
       "      <th>1</th>\n",
       "      <td>NaN</td>\n",
       "      <td>0.843023</td>\n",
       "      <td>0.666667</td>\n",
       "      <td>1.000</td>\n",
       "      <td>0.733333</td>\n",
       "      <td>0.68750</td>\n",
       "      <td>0.800000</td>\n",
       "      <td>0.875735</td>\n",
       "      <td>0.734524</td>\n",
       "      <td>0.939203</td>\n",
       "      <td>0.859293</td>\n",
       "      <td>0.871113</td>\n",
       "      <td>0.901451</td>\n",
       "    </tr>\n",
       "    <tr>\n",
       "      <th>2</th>\n",
       "      <td>NaN</td>\n",
       "      <td>0.779070</td>\n",
       "      <td>1.000000</td>\n",
       "      <td>1.000</td>\n",
       "      <td>1.000000</td>\n",
       "      <td>0.90625</td>\n",
       "      <td>0.866667</td>\n",
       "      <td>0.969053</td>\n",
       "      <td>0.991663</td>\n",
       "      <td>0.998721</td>\n",
       "      <td>0.997189</td>\n",
       "      <td>0.976653</td>\n",
       "      <td>0.961884</td>\n",
       "    </tr>\n",
       "    <tr>\n",
       "      <th>3</th>\n",
       "      <td>NaN</td>\n",
       "      <td>0.930233</td>\n",
       "      <td>1.000000</td>\n",
       "      <td>1.000</td>\n",
       "      <td>1.000000</td>\n",
       "      <td>1.00000</td>\n",
       "      <td>0.933333</td>\n",
       "      <td>0.988745</td>\n",
       "      <td>0.984314</td>\n",
       "      <td>0.998709</td>\n",
       "      <td>0.997189</td>\n",
       "      <td>0.990526</td>\n",
       "      <td>0.995830</td>\n",
       "    </tr>\n",
       "    <tr>\n",
       "      <th>4</th>\n",
       "      <td>NaN</td>\n",
       "      <td>0.988372</td>\n",
       "      <td>1.000000</td>\n",
       "      <td>1.000</td>\n",
       "      <td>1.000000</td>\n",
       "      <td>1.00000</td>\n",
       "      <td>1.000000</td>\n",
       "      <td>0.988893</td>\n",
       "      <td>0.991663</td>\n",
       "      <td>0.998721</td>\n",
       "      <td>0.997189</td>\n",
       "      <td>0.990612</td>\n",
       "      <td>0.996374</td>\n",
       "    </tr>\n",
       "    <tr>\n",
       "      <th>5</th>\n",
       "      <td>NaN</td>\n",
       "      <td>0.860465</td>\n",
       "      <td>1.000000</td>\n",
       "      <td>1.000</td>\n",
       "      <td>0.966667</td>\n",
       "      <td>0.87500</td>\n",
       "      <td>1.000000</td>\n",
       "      <td>0.972632</td>\n",
       "      <td>0.991663</td>\n",
       "      <td>0.998605</td>\n",
       "      <td>0.988468</td>\n",
       "      <td>0.985791</td>\n",
       "      <td>0.994973</td>\n",
       "    </tr>\n",
       "    <tr>\n",
       "      <th>6</th>\n",
       "      <td>NaN</td>\n",
       "      <td>0.953488</td>\n",
       "      <td>1.000000</td>\n",
       "      <td>1.000</td>\n",
       "      <td>1.000000</td>\n",
       "      <td>1.00000</td>\n",
       "      <td>1.000000</td>\n",
       "      <td>0.987520</td>\n",
       "      <td>0.991663</td>\n",
       "      <td>0.998721</td>\n",
       "      <td>0.997189</td>\n",
       "      <td>0.990602</td>\n",
       "      <td>0.996505</td>\n",
       "    </tr>\n",
       "    <tr>\n",
       "      <th>7</th>\n",
       "      <td>NaN</td>\n",
       "      <td>0.761628</td>\n",
       "      <td>0.925926</td>\n",
       "      <td>1.000</td>\n",
       "      <td>0.933333</td>\n",
       "      <td>0.93750</td>\n",
       "      <td>0.933333</td>\n",
       "      <td>0.962058</td>\n",
       "      <td>0.956138</td>\n",
       "      <td>0.998820</td>\n",
       "      <td>0.985955</td>\n",
       "      <td>0.990514</td>\n",
       "      <td>0.996789</td>\n",
       "    </tr>\n",
       "    <tr>\n",
       "      <th>8</th>\n",
       "      <td>NaN</td>\n",
       "      <td>1.000000</td>\n",
       "      <td>0.962963</td>\n",
       "      <td>1.000</td>\n",
       "      <td>1.000000</td>\n",
       "      <td>1.00000</td>\n",
       "      <td>1.000000</td>\n",
       "      <td>0.994656</td>\n",
       "      <td>0.995874</td>\n",
       "      <td>0.998838</td>\n",
       "      <td>0.997195</td>\n",
       "      <td>0.990065</td>\n",
       "      <td>0.996646</td>\n",
       "    </tr>\n",
       "    <tr>\n",
       "      <th>9</th>\n",
       "      <td>NaN</td>\n",
       "      <td>0.877907</td>\n",
       "      <td>1.000000</td>\n",
       "      <td>1.000</td>\n",
       "      <td>1.000000</td>\n",
       "      <td>1.00000</td>\n",
       "      <td>0.866667</td>\n",
       "      <td>0.978115</td>\n",
       "      <td>0.991664</td>\n",
       "      <td>0.998721</td>\n",
       "      <td>0.997181</td>\n",
       "      <td>0.990416</td>\n",
       "      <td>0.990677</td>\n",
       "    </tr>\n",
       "    <tr>\n",
       "      <th>10</th>\n",
       "      <td>NaN</td>\n",
       "      <td>0.976744</td>\n",
       "      <td>1.000000</td>\n",
       "      <td>1.000</td>\n",
       "      <td>1.000000</td>\n",
       "      <td>1.00000</td>\n",
       "      <td>1.000000</td>\n",
       "      <td>0.991251</td>\n",
       "      <td>0.991663</td>\n",
       "      <td>0.998721</td>\n",
       "      <td>0.997189</td>\n",
       "      <td>0.990622</td>\n",
       "      <td>0.996559</td>\n",
       "    </tr>\n",
       "    <tr>\n",
       "      <th>11</th>\n",
       "      <td>NaN</td>\n",
       "      <td>0.994186</td>\n",
       "      <td>1.000000</td>\n",
       "      <td>1.000</td>\n",
       "      <td>1.000000</td>\n",
       "      <td>0.96875</td>\n",
       "      <td>1.000000</td>\n",
       "      <td>0.989383</td>\n",
       "      <td>0.987126</td>\n",
       "      <td>0.997552</td>\n",
       "      <td>0.994338</td>\n",
       "      <td>0.978649</td>\n",
       "      <td>0.992190</td>\n",
       "    </tr>\n",
       "    <tr>\n",
       "      <th>12</th>\n",
       "      <td>NaN</td>\n",
       "      <td>0.261628</td>\n",
       "      <td>0.222222</td>\n",
       "      <td>0.500</td>\n",
       "      <td>0.133333</td>\n",
       "      <td>0.31250</td>\n",
       "      <td>0.133333</td>\n",
       "      <td>0.178447</td>\n",
       "      <td>0.122043</td>\n",
       "      <td>0.232369</td>\n",
       "      <td>0.052263</td>\n",
       "      <td>0.125931</td>\n",
       "      <td>0.312040</td>\n",
       "    </tr>\n",
       "    <tr>\n",
       "      <th>13</th>\n",
       "      <td>NaN</td>\n",
       "      <td>1.000000</td>\n",
       "      <td>1.000000</td>\n",
       "      <td>1.000</td>\n",
       "      <td>1.000000</td>\n",
       "      <td>1.00000</td>\n",
       "      <td>1.000000</td>\n",
       "      <td>0.995387</td>\n",
       "      <td>0.991663</td>\n",
       "      <td>0.998718</td>\n",
       "      <td>0.997186</td>\n",
       "      <td>0.990612</td>\n",
       "      <td>0.996585</td>\n",
       "    </tr>\n",
       "    <tr>\n",
       "      <th>14</th>\n",
       "      <td>NaN</td>\n",
       "      <td>0.912791</td>\n",
       "      <td>1.000000</td>\n",
       "      <td>1.000</td>\n",
       "      <td>1.000000</td>\n",
       "      <td>1.00000</td>\n",
       "      <td>1.000000</td>\n",
       "      <td>0.970604</td>\n",
       "      <td>0.991663</td>\n",
       "      <td>0.998721</td>\n",
       "      <td>0.997189</td>\n",
       "      <td>0.990662</td>\n",
       "      <td>0.996568</td>\n",
       "    </tr>\n",
       "    <tr>\n",
       "      <th>15</th>\n",
       "      <td>NaN</td>\n",
       "      <td>0.988372</td>\n",
       "      <td>0.925926</td>\n",
       "      <td>1.000</td>\n",
       "      <td>1.000000</td>\n",
       "      <td>1.00000</td>\n",
       "      <td>1.000000</td>\n",
       "      <td>0.986416</td>\n",
       "      <td>0.968527</td>\n",
       "      <td>0.998414</td>\n",
       "      <td>0.993500</td>\n",
       "      <td>0.988213</td>\n",
       "      <td>0.995785</td>\n",
       "    </tr>\n",
       "    <tr>\n",
       "      <th>16</th>\n",
       "      <td>NaN</td>\n",
       "      <td>0.982558</td>\n",
       "      <td>1.000000</td>\n",
       "      <td>1.000</td>\n",
       "      <td>1.000000</td>\n",
       "      <td>0.96875</td>\n",
       "      <td>1.000000</td>\n",
       "      <td>0.993489</td>\n",
       "      <td>0.988925</td>\n",
       "      <td>0.998581</td>\n",
       "      <td>0.997026</td>\n",
       "      <td>0.984303</td>\n",
       "      <td>0.989432</td>\n",
       "    </tr>\n",
       "    <tr>\n",
       "      <th>17</th>\n",
       "      <td>NaN</td>\n",
       "      <td>0.994186</td>\n",
       "      <td>1.000000</td>\n",
       "      <td>1.000</td>\n",
       "      <td>1.000000</td>\n",
       "      <td>1.00000</td>\n",
       "      <td>1.000000</td>\n",
       "      <td>0.995361</td>\n",
       "      <td>0.991663</td>\n",
       "      <td>0.998668</td>\n",
       "      <td>0.997189</td>\n",
       "      <td>0.990601</td>\n",
       "      <td>0.996579</td>\n",
       "    </tr>\n",
       "    <tr>\n",
       "      <th>18</th>\n",
       "      <td>NaN</td>\n",
       "      <td>0.767442</td>\n",
       "      <td>0.592593</td>\n",
       "      <td>1.000</td>\n",
       "      <td>0.900000</td>\n",
       "      <td>0.84375</td>\n",
       "      <td>0.866667</td>\n",
       "      <td>0.972838</td>\n",
       "      <td>0.969781</td>\n",
       "      <td>0.998777</td>\n",
       "      <td>0.984276</td>\n",
       "      <td>0.976073</td>\n",
       "      <td>0.943945</td>\n",
       "    </tr>\n",
       "    <tr>\n",
       "      <th>19</th>\n",
       "      <td>NaN</td>\n",
       "      <td>0.988372</td>\n",
       "      <td>1.000000</td>\n",
       "      <td>1.000</td>\n",
       "      <td>1.000000</td>\n",
       "      <td>1.00000</td>\n",
       "      <td>1.000000</td>\n",
       "      <td>0.989333</td>\n",
       "      <td>0.987383</td>\n",
       "      <td>0.997762</td>\n",
       "      <td>0.996611</td>\n",
       "      <td>0.992864</td>\n",
       "      <td>0.994487</td>\n",
       "    </tr>\n",
       "    <tr>\n",
       "      <th>20</th>\n",
       "      <td>NaN</td>\n",
       "      <td>0.220930</td>\n",
       "      <td>0.925926</td>\n",
       "      <td>0.625</td>\n",
       "      <td>0.066667</td>\n",
       "      <td>0.28125</td>\n",
       "      <td>0.133333</td>\n",
       "      <td>0.510891</td>\n",
       "      <td>0.979632</td>\n",
       "      <td>0.674135</td>\n",
       "      <td>0.649866</td>\n",
       "      <td>0.496935</td>\n",
       "      <td>0.521659</td>\n",
       "    </tr>\n",
       "    <tr>\n",
       "      <th>21</th>\n",
       "      <td>NaN</td>\n",
       "      <td>0.796512</td>\n",
       "      <td>0.888889</td>\n",
       "      <td>1.000</td>\n",
       "      <td>0.966667</td>\n",
       "      <td>0.96875</td>\n",
       "      <td>1.000000</td>\n",
       "      <td>0.983612</td>\n",
       "      <td>0.966668</td>\n",
       "      <td>0.998582</td>\n",
       "      <td>0.970143</td>\n",
       "      <td>0.989943</td>\n",
       "      <td>0.996124</td>\n",
       "    </tr>\n",
       "    <tr>\n",
       "      <th>22</th>\n",
       "      <td>NaN</td>\n",
       "      <td>0.988372</td>\n",
       "      <td>1.000000</td>\n",
       "      <td>1.000</td>\n",
       "      <td>0.933333</td>\n",
       "      <td>1.00000</td>\n",
       "      <td>0.933333</td>\n",
       "      <td>0.925985</td>\n",
       "      <td>0.888287</td>\n",
       "      <td>0.986894</td>\n",
       "      <td>0.922069</td>\n",
       "      <td>0.935296</td>\n",
       "      <td>0.889933</td>\n",
       "    </tr>\n",
       "    <tr>\n",
       "      <th>23</th>\n",
       "      <td>NaN</td>\n",
       "      <td>0.982558</td>\n",
       "      <td>1.000000</td>\n",
       "      <td>1.000</td>\n",
       "      <td>1.000000</td>\n",
       "      <td>1.00000</td>\n",
       "      <td>1.000000</td>\n",
       "      <td>0.987947</td>\n",
       "      <td>0.991587</td>\n",
       "      <td>0.998711</td>\n",
       "      <td>0.997189</td>\n",
       "      <td>0.990386</td>\n",
       "      <td>0.996157</td>\n",
       "    </tr>\n",
       "    <tr>\n",
       "      <th>24</th>\n",
       "      <td>NaN</td>\n",
       "      <td>0.924419</td>\n",
       "      <td>1.000000</td>\n",
       "      <td>0.750</td>\n",
       "      <td>0.966667</td>\n",
       "      <td>0.93750</td>\n",
       "      <td>1.000000</td>\n",
       "      <td>0.752003</td>\n",
       "      <td>0.970098</td>\n",
       "      <td>0.538914</td>\n",
       "      <td>0.828177</td>\n",
       "      <td>0.736150</td>\n",
       "      <td>0.648006</td>\n",
       "    </tr>\n",
       "    <tr>\n",
       "      <th>25</th>\n",
       "      <td>NaN</td>\n",
       "      <td>0.988372</td>\n",
       "      <td>1.000000</td>\n",
       "      <td>1.000</td>\n",
       "      <td>1.000000</td>\n",
       "      <td>1.00000</td>\n",
       "      <td>1.000000</td>\n",
       "      <td>0.990799</td>\n",
       "      <td>0.991521</td>\n",
       "      <td>0.998633</td>\n",
       "      <td>0.998028</td>\n",
       "      <td>0.990634</td>\n",
       "      <td>0.996764</td>\n",
       "    </tr>\n",
       "    <tr>\n",
       "      <th>26</th>\n",
       "      <td>NaN</td>\n",
       "      <td>0.994186</td>\n",
       "      <td>1.000000</td>\n",
       "      <td>1.000</td>\n",
       "      <td>0.800000</td>\n",
       "      <td>0.93750</td>\n",
       "      <td>0.733333</td>\n",
       "      <td>0.992570</td>\n",
       "      <td>0.989119</td>\n",
       "      <td>0.998571</td>\n",
       "      <td>0.974553</td>\n",
       "      <td>0.981097</td>\n",
       "      <td>0.929985</td>\n",
       "    </tr>\n",
       "    <tr>\n",
       "      <th>27</th>\n",
       "      <td>NaN</td>\n",
       "      <td>1.000000</td>\n",
       "      <td>1.000000</td>\n",
       "      <td>1.000</td>\n",
       "      <td>1.000000</td>\n",
       "      <td>1.00000</td>\n",
       "      <td>1.000000</td>\n",
       "      <td>0.995482</td>\n",
       "      <td>0.991659</td>\n",
       "      <td>0.998721</td>\n",
       "      <td>0.997189</td>\n",
       "      <td>0.990597</td>\n",
       "      <td>0.996590</td>\n",
       "    </tr>\n",
       "    <tr>\n",
       "      <th>28</th>\n",
       "      <td>NaN</td>\n",
       "      <td>0.994186</td>\n",
       "      <td>1.000000</td>\n",
       "      <td>1.000</td>\n",
       "      <td>1.000000</td>\n",
       "      <td>1.00000</td>\n",
       "      <td>1.000000</td>\n",
       "      <td>0.991805</td>\n",
       "      <td>0.985740</td>\n",
       "      <td>0.998716</td>\n",
       "      <td>0.997629</td>\n",
       "      <td>0.990474</td>\n",
       "      <td>0.996449</td>\n",
       "    </tr>\n",
       "    <tr>\n",
       "      <th>29</th>\n",
       "      <td>NaN</td>\n",
       "      <td>1.000000</td>\n",
       "      <td>1.000000</td>\n",
       "      <td>1.000</td>\n",
       "      <td>1.000000</td>\n",
       "      <td>0.96875</td>\n",
       "      <td>1.000000</td>\n",
       "      <td>0.951652</td>\n",
       "      <td>0.980559</td>\n",
       "      <td>0.921260</td>\n",
       "      <td>0.981779</td>\n",
       "      <td>0.968254</td>\n",
       "      <td>0.983010</td>\n",
       "    </tr>\n",
       "    <tr>\n",
       "      <th>30</th>\n",
       "      <td>NaN</td>\n",
       "      <td>0.994186</td>\n",
       "      <td>1.000000</td>\n",
       "      <td>1.000</td>\n",
       "      <td>1.000000</td>\n",
       "      <td>1.00000</td>\n",
       "      <td>1.000000</td>\n",
       "      <td>0.994692</td>\n",
       "      <td>0.986813</td>\n",
       "      <td>0.998327</td>\n",
       "      <td>0.996928</td>\n",
       "      <td>0.990064</td>\n",
       "      <td>0.996585</td>\n",
       "    </tr>\n",
       "    <tr>\n",
       "      <th>31</th>\n",
       "      <td>NaN</td>\n",
       "      <td>1.000000</td>\n",
       "      <td>1.000000</td>\n",
       "      <td>1.000</td>\n",
       "      <td>1.000000</td>\n",
       "      <td>1.00000</td>\n",
       "      <td>1.000000</td>\n",
       "      <td>0.994768</td>\n",
       "      <td>0.987992</td>\n",
       "      <td>0.998698</td>\n",
       "      <td>0.997098</td>\n",
       "      <td>0.990601</td>\n",
       "      <td>0.996568</td>\n",
       "    </tr>\n",
       "    <tr>\n",
       "      <th>32</th>\n",
       "      <td>NaN</td>\n",
       "      <td>0.988372</td>\n",
       "      <td>1.000000</td>\n",
       "      <td>1.000</td>\n",
       "      <td>1.000000</td>\n",
       "      <td>1.00000</td>\n",
       "      <td>1.000000</td>\n",
       "      <td>0.995637</td>\n",
       "      <td>0.991663</td>\n",
       "      <td>0.998721</td>\n",
       "      <td>0.997189</td>\n",
       "      <td>0.990950</td>\n",
       "      <td>0.996528</td>\n",
       "    </tr>\n",
       "    <tr>\n",
       "      <th>33</th>\n",
       "      <td>NaN</td>\n",
       "      <td>0.872093</td>\n",
       "      <td>1.000000</td>\n",
       "      <td>1.000</td>\n",
       "      <td>1.000000</td>\n",
       "      <td>1.00000</td>\n",
       "      <td>0.866667</td>\n",
       "      <td>0.964947</td>\n",
       "      <td>0.991663</td>\n",
       "      <td>0.998721</td>\n",
       "      <td>0.997189</td>\n",
       "      <td>0.990577</td>\n",
       "      <td>0.977811</td>\n",
       "    </tr>\n",
       "    <tr>\n",
       "      <th>34</th>\n",
       "      <td>NaN</td>\n",
       "      <td>0.866279</td>\n",
       "      <td>1.000000</td>\n",
       "      <td>1.000</td>\n",
       "      <td>0.966667</td>\n",
       "      <td>1.00000</td>\n",
       "      <td>0.933333</td>\n",
       "      <td>0.960623</td>\n",
       "      <td>0.991663</td>\n",
       "      <td>0.998721</td>\n",
       "      <td>0.997208</td>\n",
       "      <td>0.994750</td>\n",
       "      <td>0.937165</td>\n",
       "    </tr>\n",
       "    <tr>\n",
       "      <th>35</th>\n",
       "      <td>NaN</td>\n",
       "      <td>0.639535</td>\n",
       "      <td>0.666667</td>\n",
       "      <td>0.500</td>\n",
       "      <td>0.366667</td>\n",
       "      <td>0.50000</td>\n",
       "      <td>0.600000</td>\n",
       "      <td>0.886684</td>\n",
       "      <td>0.947998</td>\n",
       "      <td>0.283181</td>\n",
       "      <td>0.875965</td>\n",
       "      <td>0.915927</td>\n",
       "      <td>0.904510</td>\n",
       "    </tr>\n",
       "    <tr>\n",
       "      <th>36</th>\n",
       "      <td>NaN</td>\n",
       "      <td>0.970930</td>\n",
       "      <td>0.962963</td>\n",
       "      <td>1.000</td>\n",
       "      <td>0.966667</td>\n",
       "      <td>1.00000</td>\n",
       "      <td>1.000000</td>\n",
       "      <td>0.993886</td>\n",
       "      <td>0.993766</td>\n",
       "      <td>0.998330</td>\n",
       "      <td>0.985305</td>\n",
       "      <td>0.978188</td>\n",
       "      <td>0.992408</td>\n",
       "    </tr>\n",
       "    <tr>\n",
       "      <th>37</th>\n",
       "      <td>NaN</td>\n",
       "      <td>0.994186</td>\n",
       "      <td>1.000000</td>\n",
       "      <td>1.000</td>\n",
       "      <td>1.000000</td>\n",
       "      <td>1.00000</td>\n",
       "      <td>1.000000</td>\n",
       "      <td>0.995148</td>\n",
       "      <td>0.991612</td>\n",
       "      <td>0.998699</td>\n",
       "      <td>0.997196</td>\n",
       "      <td>0.987304</td>\n",
       "      <td>0.996438</td>\n",
       "    </tr>\n",
       "    <tr>\n",
       "      <th>38</th>\n",
       "      <td>NaN</td>\n",
       "      <td>0.994186</td>\n",
       "      <td>1.000000</td>\n",
       "      <td>1.000</td>\n",
       "      <td>1.000000</td>\n",
       "      <td>1.00000</td>\n",
       "      <td>1.000000</td>\n",
       "      <td>0.995534</td>\n",
       "      <td>0.991663</td>\n",
       "      <td>0.998721</td>\n",
       "      <td>0.997189</td>\n",
       "      <td>0.990612</td>\n",
       "      <td>0.996585</td>\n",
       "    </tr>\n",
       "    <tr>\n",
       "      <th>39</th>\n",
       "      <td>NaN</td>\n",
       "      <td>0.761628</td>\n",
       "      <td>0.888889</td>\n",
       "      <td>1.000</td>\n",
       "      <td>0.933333</td>\n",
       "      <td>0.81250</td>\n",
       "      <td>0.800000</td>\n",
       "      <td>0.910094</td>\n",
       "      <td>0.966692</td>\n",
       "      <td>0.998405</td>\n",
       "      <td>0.962453</td>\n",
       "      <td>0.967911</td>\n",
       "      <td>0.936801</td>\n",
       "    </tr>\n",
       "    <tr>\n",
       "      <th>40</th>\n",
       "      <td>NaN</td>\n",
       "      <td>1.000000</td>\n",
       "      <td>1.000000</td>\n",
       "      <td>1.000</td>\n",
       "      <td>1.000000</td>\n",
       "      <td>1.00000</td>\n",
       "      <td>1.000000</td>\n",
       "      <td>0.995238</td>\n",
       "      <td>0.991518</td>\n",
       "      <td>0.998720</td>\n",
       "      <td>0.997189</td>\n",
       "      <td>0.990609</td>\n",
       "      <td>0.996585</td>\n",
       "    </tr>\n",
       "    <tr>\n",
       "      <th>41</th>\n",
       "      <td>NaN</td>\n",
       "      <td>0.982558</td>\n",
       "      <td>0.925926</td>\n",
       "      <td>1.000</td>\n",
       "      <td>1.000000</td>\n",
       "      <td>1.00000</td>\n",
       "      <td>1.000000</td>\n",
       "      <td>0.987982</td>\n",
       "      <td>0.984626</td>\n",
       "      <td>0.998284</td>\n",
       "      <td>0.996921</td>\n",
       "      <td>0.973577</td>\n",
       "      <td>0.993488</td>\n",
       "    </tr>\n",
       "  </tbody>\n",
       "</table>\n",
       "</div>"
      ],
      "text/plain": [
       "    loss_added  wmdp-bio  high_school_us_history  college_computer_science  \\\n",
       "0          NaN  1.000000                1.000000                     1.000   \n",
       "1          NaN  0.843023                0.666667                     1.000   \n",
       "2          NaN  0.779070                1.000000                     1.000   \n",
       "3          NaN  0.930233                1.000000                     1.000   \n",
       "4          NaN  0.988372                1.000000                     1.000   \n",
       "5          NaN  0.860465                1.000000                     1.000   \n",
       "6          NaN  0.953488                1.000000                     1.000   \n",
       "7          NaN  0.761628                0.925926                     1.000   \n",
       "8          NaN  1.000000                0.962963                     1.000   \n",
       "9          NaN  0.877907                1.000000                     1.000   \n",
       "10         NaN  0.976744                1.000000                     1.000   \n",
       "11         NaN  0.994186                1.000000                     1.000   \n",
       "12         NaN  0.261628                0.222222                     0.500   \n",
       "13         NaN  1.000000                1.000000                     1.000   \n",
       "14         NaN  0.912791                1.000000                     1.000   \n",
       "15         NaN  0.988372                0.925926                     1.000   \n",
       "16         NaN  0.982558                1.000000                     1.000   \n",
       "17         NaN  0.994186                1.000000                     1.000   \n",
       "18         NaN  0.767442                0.592593                     1.000   \n",
       "19         NaN  0.988372                1.000000                     1.000   \n",
       "20         NaN  0.220930                0.925926                     0.625   \n",
       "21         NaN  0.796512                0.888889                     1.000   \n",
       "22         NaN  0.988372                1.000000                     1.000   \n",
       "23         NaN  0.982558                1.000000                     1.000   \n",
       "24         NaN  0.924419                1.000000                     0.750   \n",
       "25         NaN  0.988372                1.000000                     1.000   \n",
       "26         NaN  0.994186                1.000000                     1.000   \n",
       "27         NaN  1.000000                1.000000                     1.000   \n",
       "28         NaN  0.994186                1.000000                     1.000   \n",
       "29         NaN  1.000000                1.000000                     1.000   \n",
       "30         NaN  0.994186                1.000000                     1.000   \n",
       "31         NaN  1.000000                1.000000                     1.000   \n",
       "32         NaN  0.988372                1.000000                     1.000   \n",
       "33         NaN  0.872093                1.000000                     1.000   \n",
       "34         NaN  0.866279                1.000000                     1.000   \n",
       "35         NaN  0.639535                0.666667                     0.500   \n",
       "36         NaN  0.970930                0.962963                     1.000   \n",
       "37         NaN  0.994186                1.000000                     1.000   \n",
       "38         NaN  0.994186                1.000000                     1.000   \n",
       "39         NaN  0.761628                0.888889                     1.000   \n",
       "40         NaN  1.000000                1.000000                     1.000   \n",
       "41         NaN  0.982558                0.925926                     1.000   \n",
       "\n",
       "    high_school_geography  human_aging  college_biology  wmdp-bio_prob  \\\n",
       "0                1.000000      1.00000         1.000000       0.995535   \n",
       "1                0.733333      0.68750         0.800000       0.875735   \n",
       "2                1.000000      0.90625         0.866667       0.969053   \n",
       "3                1.000000      1.00000         0.933333       0.988745   \n",
       "4                1.000000      1.00000         1.000000       0.988893   \n",
       "5                0.966667      0.87500         1.000000       0.972632   \n",
       "6                1.000000      1.00000         1.000000       0.987520   \n",
       "7                0.933333      0.93750         0.933333       0.962058   \n",
       "8                1.000000      1.00000         1.000000       0.994656   \n",
       "9                1.000000      1.00000         0.866667       0.978115   \n",
       "10               1.000000      1.00000         1.000000       0.991251   \n",
       "11               1.000000      0.96875         1.000000       0.989383   \n",
       "12               0.133333      0.31250         0.133333       0.178447   \n",
       "13               1.000000      1.00000         1.000000       0.995387   \n",
       "14               1.000000      1.00000         1.000000       0.970604   \n",
       "15               1.000000      1.00000         1.000000       0.986416   \n",
       "16               1.000000      0.96875         1.000000       0.993489   \n",
       "17               1.000000      1.00000         1.000000       0.995361   \n",
       "18               0.900000      0.84375         0.866667       0.972838   \n",
       "19               1.000000      1.00000         1.000000       0.989333   \n",
       "20               0.066667      0.28125         0.133333       0.510891   \n",
       "21               0.966667      0.96875         1.000000       0.983612   \n",
       "22               0.933333      1.00000         0.933333       0.925985   \n",
       "23               1.000000      1.00000         1.000000       0.987947   \n",
       "24               0.966667      0.93750         1.000000       0.752003   \n",
       "25               1.000000      1.00000         1.000000       0.990799   \n",
       "26               0.800000      0.93750         0.733333       0.992570   \n",
       "27               1.000000      1.00000         1.000000       0.995482   \n",
       "28               1.000000      1.00000         1.000000       0.991805   \n",
       "29               1.000000      0.96875         1.000000       0.951652   \n",
       "30               1.000000      1.00000         1.000000       0.994692   \n",
       "31               1.000000      1.00000         1.000000       0.994768   \n",
       "32               1.000000      1.00000         1.000000       0.995637   \n",
       "33               1.000000      1.00000         0.866667       0.964947   \n",
       "34               0.966667      1.00000         0.933333       0.960623   \n",
       "35               0.366667      0.50000         0.600000       0.886684   \n",
       "36               0.966667      1.00000         1.000000       0.993886   \n",
       "37               1.000000      1.00000         1.000000       0.995148   \n",
       "38               1.000000      1.00000         1.000000       0.995534   \n",
       "39               0.933333      0.81250         0.800000       0.910094   \n",
       "40               1.000000      1.00000         1.000000       0.995238   \n",
       "41               1.000000      1.00000         1.000000       0.987982   \n",
       "\n",
       "    high_school_us_history_prob  college_computer_science_prob  \\\n",
       "0                      0.991663                       0.998721   \n",
       "1                      0.734524                       0.939203   \n",
       "2                      0.991663                       0.998721   \n",
       "3                      0.984314                       0.998709   \n",
       "4                      0.991663                       0.998721   \n",
       "5                      0.991663                       0.998605   \n",
       "6                      0.991663                       0.998721   \n",
       "7                      0.956138                       0.998820   \n",
       "8                      0.995874                       0.998838   \n",
       "9                      0.991664                       0.998721   \n",
       "10                     0.991663                       0.998721   \n",
       "11                     0.987126                       0.997552   \n",
       "12                     0.122043                       0.232369   \n",
       "13                     0.991663                       0.998718   \n",
       "14                     0.991663                       0.998721   \n",
       "15                     0.968527                       0.998414   \n",
       "16                     0.988925                       0.998581   \n",
       "17                     0.991663                       0.998668   \n",
       "18                     0.969781                       0.998777   \n",
       "19                     0.987383                       0.997762   \n",
       "20                     0.979632                       0.674135   \n",
       "21                     0.966668                       0.998582   \n",
       "22                     0.888287                       0.986894   \n",
       "23                     0.991587                       0.998711   \n",
       "24                     0.970098                       0.538914   \n",
       "25                     0.991521                       0.998633   \n",
       "26                     0.989119                       0.998571   \n",
       "27                     0.991659                       0.998721   \n",
       "28                     0.985740                       0.998716   \n",
       "29                     0.980559                       0.921260   \n",
       "30                     0.986813                       0.998327   \n",
       "31                     0.987992                       0.998698   \n",
       "32                     0.991663                       0.998721   \n",
       "33                     0.991663                       0.998721   \n",
       "34                     0.991663                       0.998721   \n",
       "35                     0.947998                       0.283181   \n",
       "36                     0.993766                       0.998330   \n",
       "37                     0.991612                       0.998699   \n",
       "38                     0.991663                       0.998721   \n",
       "39                     0.966692                       0.998405   \n",
       "40                     0.991518                       0.998720   \n",
       "41                     0.984626                       0.998284   \n",
       "\n",
       "    high_school_geography_prob  human_aging_prob  college_biology_prob  \n",
       "0                     0.997189          0.990612              0.996585  \n",
       "1                     0.859293          0.871113              0.901451  \n",
       "2                     0.997189          0.976653              0.961884  \n",
       "3                     0.997189          0.990526              0.995830  \n",
       "4                     0.997189          0.990612              0.996374  \n",
       "5                     0.988468          0.985791              0.994973  \n",
       "6                     0.997189          0.990602              0.996505  \n",
       "7                     0.985955          0.990514              0.996789  \n",
       "8                     0.997195          0.990065              0.996646  \n",
       "9                     0.997181          0.990416              0.990677  \n",
       "10                    0.997189          0.990622              0.996559  \n",
       "11                    0.994338          0.978649              0.992190  \n",
       "12                    0.052263          0.125931              0.312040  \n",
       "13                    0.997186          0.990612              0.996585  \n",
       "14                    0.997189          0.990662              0.996568  \n",
       "15                    0.993500          0.988213              0.995785  \n",
       "16                    0.997026          0.984303              0.989432  \n",
       "17                    0.997189          0.990601              0.996579  \n",
       "18                    0.984276          0.976073              0.943945  \n",
       "19                    0.996611          0.992864              0.994487  \n",
       "20                    0.649866          0.496935              0.521659  \n",
       "21                    0.970143          0.989943              0.996124  \n",
       "22                    0.922069          0.935296              0.889933  \n",
       "23                    0.997189          0.990386              0.996157  \n",
       "24                    0.828177          0.736150              0.648006  \n",
       "25                    0.998028          0.990634              0.996764  \n",
       "26                    0.974553          0.981097              0.929985  \n",
       "27                    0.997189          0.990597              0.996590  \n",
       "28                    0.997629          0.990474              0.996449  \n",
       "29                    0.981779          0.968254              0.983010  \n",
       "30                    0.996928          0.990064              0.996585  \n",
       "31                    0.997098          0.990601              0.996568  \n",
       "32                    0.997189          0.990950              0.996528  \n",
       "33                    0.997189          0.990577              0.977811  \n",
       "34                    0.997208          0.994750              0.937165  \n",
       "35                    0.875965          0.915927              0.904510  \n",
       "36                    0.985305          0.978188              0.992408  \n",
       "37                    0.997196          0.987304              0.996438  \n",
       "38                    0.997189          0.990612              0.996585  \n",
       "39                    0.962453          0.967911              0.936801  \n",
       "40                    0.997189          0.990609              0.996585  \n",
       "41                    0.996921          0.973577              0.993488  "
      ]
     },
     "execution_count": 179,
     "metadata": {},
     "output_type": "execute_result"
    }
   ],
   "source": [
    "df = create_df_from_metrics(metrics_list)\n",
    "df"
   ]
  },
  {
   "cell_type": "code",
   "execution_count": 192,
   "id": "c3aeacd8-f68e-486f-a2ef-4c64edc1d360",
   "metadata": {},
   "outputs": [],
   "source": [
    "keep_inds = df.query((\"high_school_us_history == 1 & college_computer_science == 1 & high_school_geography == 1 & human_aging == 1\")).index.values[1:]\n",
    "keep_inds\n",
    "zero_side_effect_21_features = np.array(features_to_test)[keep_inds]"
   ]
  },
  {
   "cell_type": "code",
   "execution_count": 193,
   "id": "939fa3c3-8fcd-435e-a097-ca30428867ea",
   "metadata": {},
   "outputs": [
    {
     "data": {
      "text/plain": [
       "array([ 5001, 11019,  3728,  7983,  9391,  4654, 14388,  5691,  4802,\n",
       "        1611,  7122,  4451, 14819, 15848, 14315, 12273, 15858,  4342,\n",
       "       12663, 12287])"
      ]
     },
     "execution_count": 193,
     "metadata": {},
     "output_type": "execute_result"
    }
   ],
   "source": [
    "zero_side_effect_21_features"
   ]
  },
  {
   "cell_type": "code",
   "execution_count": 46,
   "id": "0d942f70-6cd5-4249-a4e6-96c030cc7d73",
   "metadata": {},
   "outputs": [
    {
     "data": {
      "text/html": [
       "<div>\n",
       "<style scoped>\n",
       "    .dataframe tbody tr th:only-of-type {\n",
       "        vertical-align: middle;\n",
       "    }\n",
       "\n",
       "    .dataframe tbody tr th {\n",
       "        vertical-align: top;\n",
       "    }\n",
       "\n",
       "    .dataframe thead th {\n",
       "        text-align: right;\n",
       "    }\n",
       "</style>\n",
       "<table border=\"1\" class=\"dataframe\">\n",
       "  <thead>\n",
       "    <tr style=\"text-align: right;\">\n",
       "      <th></th>\n",
       "      <th>wmdp-bio</th>\n",
       "      <th>high_school_us_history</th>\n",
       "      <th>college_computer_science</th>\n",
       "      <th>high_school_geography</th>\n",
       "      <th>human_aging</th>\n",
       "      <th>college_biology</th>\n",
       "    </tr>\n",
       "  </thead>\n",
       "  <tbody>\n",
       "    <tr>\n",
       "      <th>0</th>\n",
       "      <td>1.0</td>\n",
       "      <td>1.0</td>\n",
       "      <td>1.0</td>\n",
       "      <td>1.0</td>\n",
       "      <td>1.0</td>\n",
       "      <td>1.0</td>\n",
       "    </tr>\n",
       "  </tbody>\n",
       "</table>\n",
       "</div>"
      ],
      "text/plain": [
       "   wmdp-bio  high_school_us_history  college_computer_science  \\\n",
       "0       1.0                     1.0                       1.0   \n",
       "\n",
       "   high_school_geography  human_aging  college_biology  \n",
       "0                    1.0          1.0              1.0  "
      ]
     },
     "execution_count": 46,
     "metadata": {},
     "output_type": "execute_result"
    }
   ],
   "source": [
    "# metrics_list[0]\n",
    "metric_scores2 = np.array([[x[dataset_name]['mean_correct'] for dataset_name in dataset_names] for x in metrics_list])\n",
    "\n",
    "df2 = pd.DataFrame(metric_scores2, columns=dataset_names)\n",
    "df2 #df2.query((\"high_school_us_history == 1 & college_computer_science == 1 & high_school_geography == 1 & human_aging == 1 & college_biology == 1\"))"
   ]
  },
  {
   "cell_type": "code",
   "execution_count": 52,
   "id": "bebf3b40-ea7b-4bd4-81dc-764b37120007",
   "metadata": {},
   "outputs": [
    {
     "data": {
      "text/plain": [
       "0.9955348372459412"
      ]
     },
     "execution_count": 52,
     "metadata": {},
     "output_type": "execute_result"
    }
   ],
   "source": [
    "metrics_list[0]['wmdp-bio']['mean_predicted_probs']"
   ]
  },
  {
   "cell_type": "code",
   "execution_count": null,
   "id": "bce53280-cbcb-4694-a8a1-307c4bad9a5c",
   "metadata": {},
   "outputs": [],
   "source": []
  },
  {
   "cell_type": "code",
   "execution_count": null,
   "id": "5c253974-250d-4842-8a14-7aa305577e17",
   "metadata": {},
   "outputs": [],
   "source": []
  },
  {
   "cell_type": "code",
   "execution_count": null,
   "id": "4b7b0e65-595d-4dcd-8477-ead2737cb385",
   "metadata": {},
   "outputs": [],
   "source": []
  },
  {
   "cell_type": "code",
   "execution_count": null,
   "id": "a2c0515c-43f2-464d-81d1-0291bb388a3c",
   "metadata": {},
   "outputs": [],
   "source": []
  },
  {
   "cell_type": "code",
   "execution_count": null,
   "id": "6af46f0f-1a50-454b-aab9-35421305c81c",
   "metadata": {},
   "outputs": [],
   "source": []
  },
  {
   "cell_type": "code",
   "execution_count": null,
   "id": "71574e1a-16ef-47d3-b65a-2e8c3beb1c22",
   "metadata": {},
   "outputs": [],
   "source": []
  },
  {
   "cell_type": "code",
   "execution_count": 19,
   "id": "5ebe25cc-f315-450c-9e74-01b9e464e17b",
   "metadata": {},
   "outputs": [
    {
     "data": {
      "text/plain": [
       "array([[0.76162791, 1.        , 1.        , 1.        , 1.        ,\n",
       "        0.86666673]])"
      ]
     },
     "execution_count": 19,
     "metadata": {},
     "output_type": "execute_result"
    }
   ],
   "source": [
    "metric_scores2"
   ]
  },
  {
   "cell_type": "code",
   "execution_count": 13,
   "id": "5604c5a5-d23f-4b56-b80e-0bd3f7c2dc8f",
   "metadata": {},
   "outputs": [
    {
     "data": {
      "text/plain": [
       "array([ 5861,  1746, 14315, 16186, 10051,  7983,  4342,  4654,  2222,\n",
       "       15755,  8412,  6958,  5749,  5001,  4451,  8946,  9280, 15848])"
      ]
     },
     "execution_count": 13,
     "metadata": {},
     "output_type": "execute_result"
    }
   ],
   "source": [
    "isorted = np.argsort(([x['loss_added'] for x in metrics_list]))\n",
    "zero_side_effect_features_sorted_by_loss = np.array(zero_side_effect_features)[isorted]\n",
    "zero_side_effect_features_sorted_by_loss"
   ]
  },
  {
   "cell_type": "code",
   "execution_count": null,
   "id": "96edbaef-95d9-4a29-af8e-db35296795b5",
   "metadata": {},
   "outputs": [],
   "source": []
  },
  {
   "cell_type": "code",
   "execution_count": 7,
   "id": "f9fd9d41-0b4b-40db-8b50-d68d1770b8f2",
   "metadata": {},
   "outputs": [
    {
     "ename": "UndefinedVariableError",
     "evalue": "name 'high_school_us_history' is not defined",
     "output_type": "error",
     "traceback": [
      "\u001b[0;31m---------------------------------------------------------------------------\u001b[0m",
      "\u001b[0;31mKeyError\u001b[0m                                  Traceback (most recent call last)",
      "File \u001b[0;32m/usr/local/lib/python3.11/dist-packages/pandas/core/computation/scope.py:231\u001b[0m, in \u001b[0;36mScope.resolve\u001b[0;34m(self, key, is_local)\u001b[0m\n\u001b[1;32m    230\u001b[0m \u001b[38;5;28;01mif\u001b[39;00m \u001b[38;5;28mself\u001b[39m\u001b[38;5;241m.\u001b[39mhas_resolvers:\n\u001b[0;32m--> 231\u001b[0m     \u001b[38;5;28;01mreturn\u001b[39;00m \u001b[38;5;28;43mself\u001b[39;49m\u001b[38;5;241;43m.\u001b[39;49m\u001b[43mresolvers\u001b[49m\u001b[43m[\u001b[49m\u001b[43mkey\u001b[49m\u001b[43m]\u001b[49m\n\u001b[1;32m    233\u001b[0m \u001b[38;5;66;03m# if we're here that means that we have no locals and we also have\u001b[39;00m\n\u001b[1;32m    234\u001b[0m \u001b[38;5;66;03m# no resolvers\u001b[39;00m\n",
      "File \u001b[0;32m/usr/lib/python3.11/collections/__init__.py:1006\u001b[0m, in \u001b[0;36mChainMap.__getitem__\u001b[0;34m(self, key)\u001b[0m\n\u001b[1;32m   1005\u001b[0m         \u001b[38;5;28;01mpass\u001b[39;00m\n\u001b[0;32m-> 1006\u001b[0m \u001b[38;5;28;01mreturn\u001b[39;00m \u001b[38;5;28;43mself\u001b[39;49m\u001b[38;5;241;43m.\u001b[39;49m\u001b[38;5;21;43m__missing__\u001b[39;49m\u001b[43m(\u001b[49m\u001b[43mkey\u001b[49m\u001b[43m)\u001b[49m\n",
      "File \u001b[0;32m/usr/lib/python3.11/collections/__init__.py:998\u001b[0m, in \u001b[0;36mChainMap.__missing__\u001b[0;34m(self, key)\u001b[0m\n\u001b[1;32m    997\u001b[0m \u001b[38;5;28;01mdef\u001b[39;00m \u001b[38;5;21m__missing__\u001b[39m(\u001b[38;5;28mself\u001b[39m, key):\n\u001b[0;32m--> 998\u001b[0m     \u001b[38;5;28;01mraise\u001b[39;00m \u001b[38;5;167;01mKeyError\u001b[39;00m(key)\n",
      "\u001b[0;31mKeyError\u001b[0m: 'high_school_us_history'",
      "\nDuring handling of the above exception, another exception occurred:\n",
      "\u001b[0;31mKeyError\u001b[0m                                  Traceback (most recent call last)",
      "File \u001b[0;32m/usr/local/lib/python3.11/dist-packages/pandas/core/computation/scope.py:242\u001b[0m, in \u001b[0;36mScope.resolve\u001b[0;34m(self, key, is_local)\u001b[0m\n\u001b[1;32m    238\u001b[0m \u001b[38;5;28;01mtry\u001b[39;00m:\n\u001b[1;32m    239\u001b[0m     \u001b[38;5;66;03m# last ditch effort we look in temporaries\u001b[39;00m\n\u001b[1;32m    240\u001b[0m     \u001b[38;5;66;03m# these are created when parsing indexing expressions\u001b[39;00m\n\u001b[1;32m    241\u001b[0m     \u001b[38;5;66;03m# e.g., df[df > 0]\u001b[39;00m\n\u001b[0;32m--> 242\u001b[0m     \u001b[38;5;28;01mreturn\u001b[39;00m \u001b[38;5;28;43mself\u001b[39;49m\u001b[38;5;241;43m.\u001b[39;49m\u001b[43mtemps\u001b[49m\u001b[43m[\u001b[49m\u001b[43mkey\u001b[49m\u001b[43m]\u001b[49m\n\u001b[1;32m    243\u001b[0m \u001b[38;5;28;01mexcept\u001b[39;00m \u001b[38;5;167;01mKeyError\u001b[39;00m \u001b[38;5;28;01mas\u001b[39;00m err:\n",
      "\u001b[0;31mKeyError\u001b[0m: 'high_school_us_history'",
      "\nThe above exception was the direct cause of the following exception:\n",
      "\u001b[0;31mUndefinedVariableError\u001b[0m                    Traceback (most recent call last)",
      "Cell \u001b[0;32mIn[7], line 5\u001b[0m\n\u001b[1;32m      2\u001b[0m metric_scores2 \u001b[38;5;241m=\u001b[39m np\u001b[38;5;241m.\u001b[39marray([[x[dataset_name][\u001b[38;5;124m'\u001b[39m\u001b[38;5;124mmean_correct\u001b[39m\u001b[38;5;124m'\u001b[39m] \u001b[38;5;28;01mfor\u001b[39;00m dataset_name \u001b[38;5;129;01min\u001b[39;00m dataset_names] \u001b[38;5;28;01mfor\u001b[39;00m x \u001b[38;5;129;01min\u001b[39;00m metrics_list])\n\u001b[1;32m      4\u001b[0m df2 \u001b[38;5;241m=\u001b[39m pd\u001b[38;5;241m.\u001b[39mDataFrame(metric_scores2, columns\u001b[38;5;241m=\u001b[39mdataset_names)\n\u001b[0;32m----> 5\u001b[0m \u001b[43mdf2\u001b[49m\u001b[38;5;241;43m.\u001b[39;49m\u001b[43mquery\u001b[49m\u001b[43m(\u001b[49m\u001b[43m(\u001b[49m\u001b[38;5;124;43m\"\u001b[39;49m\u001b[38;5;124;43mhigh_school_us_history == 1 & college_computer_science == 1 & high_school_geography == 1 & human_aging == 1 & college_biology == 1\u001b[39;49m\u001b[38;5;124;43m\"\u001b[39;49m\u001b[43m)\u001b[49m\u001b[43m)\u001b[49m\n",
      "File \u001b[0;32m/usr/local/lib/python3.11/dist-packages/pandas/core/frame.py:4823\u001b[0m, in \u001b[0;36mDataFrame.query\u001b[0;34m(self, expr, inplace, **kwargs)\u001b[0m\n\u001b[1;32m   4821\u001b[0m kwargs[\u001b[38;5;124m\"\u001b[39m\u001b[38;5;124mlevel\u001b[39m\u001b[38;5;124m\"\u001b[39m] \u001b[38;5;241m=\u001b[39m kwargs\u001b[38;5;241m.\u001b[39mpop(\u001b[38;5;124m\"\u001b[39m\u001b[38;5;124mlevel\u001b[39m\u001b[38;5;124m\"\u001b[39m, \u001b[38;5;241m0\u001b[39m) \u001b[38;5;241m+\u001b[39m \u001b[38;5;241m1\u001b[39m\n\u001b[1;32m   4822\u001b[0m kwargs[\u001b[38;5;124m\"\u001b[39m\u001b[38;5;124mtarget\u001b[39m\u001b[38;5;124m\"\u001b[39m] \u001b[38;5;241m=\u001b[39m \u001b[38;5;28;01mNone\u001b[39;00m\n\u001b[0;32m-> 4823\u001b[0m res \u001b[38;5;241m=\u001b[39m \u001b[38;5;28;43mself\u001b[39;49m\u001b[38;5;241;43m.\u001b[39;49m\u001b[43meval\u001b[49m\u001b[43m(\u001b[49m\u001b[43mexpr\u001b[49m\u001b[43m,\u001b[49m\u001b[43m \u001b[49m\u001b[38;5;241;43m*\u001b[39;49m\u001b[38;5;241;43m*\u001b[39;49m\u001b[43mkwargs\u001b[49m\u001b[43m)\u001b[49m\n\u001b[1;32m   4825\u001b[0m \u001b[38;5;28;01mtry\u001b[39;00m:\n\u001b[1;32m   4826\u001b[0m     result \u001b[38;5;241m=\u001b[39m \u001b[38;5;28mself\u001b[39m\u001b[38;5;241m.\u001b[39mloc[res]\n",
      "File \u001b[0;32m/usr/local/lib/python3.11/dist-packages/pandas/core/frame.py:4949\u001b[0m, in \u001b[0;36mDataFrame.eval\u001b[0;34m(self, expr, inplace, **kwargs)\u001b[0m\n\u001b[1;32m   4946\u001b[0m     kwargs[\u001b[38;5;124m\"\u001b[39m\u001b[38;5;124mtarget\u001b[39m\u001b[38;5;124m\"\u001b[39m] \u001b[38;5;241m=\u001b[39m \u001b[38;5;28mself\u001b[39m\n\u001b[1;32m   4947\u001b[0m kwargs[\u001b[38;5;124m\"\u001b[39m\u001b[38;5;124mresolvers\u001b[39m\u001b[38;5;124m\"\u001b[39m] \u001b[38;5;241m=\u001b[39m \u001b[38;5;28mtuple\u001b[39m(kwargs\u001b[38;5;241m.\u001b[39mget(\u001b[38;5;124m\"\u001b[39m\u001b[38;5;124mresolvers\u001b[39m\u001b[38;5;124m\"\u001b[39m, ())) \u001b[38;5;241m+\u001b[39m resolvers\n\u001b[0;32m-> 4949\u001b[0m \u001b[38;5;28;01mreturn\u001b[39;00m \u001b[43m_eval\u001b[49m\u001b[43m(\u001b[49m\u001b[43mexpr\u001b[49m\u001b[43m,\u001b[49m\u001b[43m \u001b[49m\u001b[43minplace\u001b[49m\u001b[38;5;241;43m=\u001b[39;49m\u001b[43minplace\u001b[49m\u001b[43m,\u001b[49m\u001b[43m \u001b[49m\u001b[38;5;241;43m*\u001b[39;49m\u001b[38;5;241;43m*\u001b[39;49m\u001b[43mkwargs\u001b[49m\u001b[43m)\u001b[49m\n",
      "File \u001b[0;32m/usr/local/lib/python3.11/dist-packages/pandas/core/computation/eval.py:336\u001b[0m, in \u001b[0;36meval\u001b[0;34m(expr, parser, engine, local_dict, global_dict, resolvers, level, target, inplace)\u001b[0m\n\u001b[1;32m    327\u001b[0m \u001b[38;5;66;03m# get our (possibly passed-in) scope\u001b[39;00m\n\u001b[1;32m    328\u001b[0m env \u001b[38;5;241m=\u001b[39m ensure_scope(\n\u001b[1;32m    329\u001b[0m     level \u001b[38;5;241m+\u001b[39m \u001b[38;5;241m1\u001b[39m,\n\u001b[1;32m    330\u001b[0m     global_dict\u001b[38;5;241m=\u001b[39mglobal_dict,\n\u001b[0;32m   (...)\u001b[0m\n\u001b[1;32m    333\u001b[0m     target\u001b[38;5;241m=\u001b[39mtarget,\n\u001b[1;32m    334\u001b[0m )\n\u001b[0;32m--> 336\u001b[0m parsed_expr \u001b[38;5;241m=\u001b[39m \u001b[43mExpr\u001b[49m\u001b[43m(\u001b[49m\u001b[43mexpr\u001b[49m\u001b[43m,\u001b[49m\u001b[43m \u001b[49m\u001b[43mengine\u001b[49m\u001b[38;5;241;43m=\u001b[39;49m\u001b[43mengine\u001b[49m\u001b[43m,\u001b[49m\u001b[43m \u001b[49m\u001b[43mparser\u001b[49m\u001b[38;5;241;43m=\u001b[39;49m\u001b[43mparser\u001b[49m\u001b[43m,\u001b[49m\u001b[43m \u001b[49m\u001b[43menv\u001b[49m\u001b[38;5;241;43m=\u001b[39;49m\u001b[43menv\u001b[49m\u001b[43m)\u001b[49m\n\u001b[1;32m    338\u001b[0m \u001b[38;5;28;01mif\u001b[39;00m engine \u001b[38;5;241m==\u001b[39m \u001b[38;5;124m\"\u001b[39m\u001b[38;5;124mnumexpr\u001b[39m\u001b[38;5;124m\"\u001b[39m \u001b[38;5;129;01mand\u001b[39;00m (\n\u001b[1;32m    339\u001b[0m     is_extension_array_dtype(parsed_expr\u001b[38;5;241m.\u001b[39mterms\u001b[38;5;241m.\u001b[39mreturn_type)\n\u001b[1;32m    340\u001b[0m     \u001b[38;5;129;01mor\u001b[39;00m \u001b[38;5;28mgetattr\u001b[39m(parsed_expr\u001b[38;5;241m.\u001b[39mterms, \u001b[38;5;124m\"\u001b[39m\u001b[38;5;124moperand_types\u001b[39m\u001b[38;5;124m\"\u001b[39m, \u001b[38;5;28;01mNone\u001b[39;00m) \u001b[38;5;129;01mis\u001b[39;00m \u001b[38;5;129;01mnot\u001b[39;00m \u001b[38;5;28;01mNone\u001b[39;00m\n\u001b[0;32m   (...)\u001b[0m\n\u001b[1;32m    344\u001b[0m     )\n\u001b[1;32m    345\u001b[0m ):\n\u001b[1;32m    346\u001b[0m     warnings\u001b[38;5;241m.\u001b[39mwarn(\n\u001b[1;32m    347\u001b[0m         \u001b[38;5;124m\"\u001b[39m\u001b[38;5;124mEngine has switched to \u001b[39m\u001b[38;5;124m'\u001b[39m\u001b[38;5;124mpython\u001b[39m\u001b[38;5;124m'\u001b[39m\u001b[38;5;124m because numexpr does not support \u001b[39m\u001b[38;5;124m\"\u001b[39m\n\u001b[1;32m    348\u001b[0m         \u001b[38;5;124m\"\u001b[39m\u001b[38;5;124mextension array dtypes. Please set your engine to python manually.\u001b[39m\u001b[38;5;124m\"\u001b[39m,\n\u001b[1;32m    349\u001b[0m         \u001b[38;5;167;01mRuntimeWarning\u001b[39;00m,\n\u001b[1;32m    350\u001b[0m         stacklevel\u001b[38;5;241m=\u001b[39mfind_stack_level(),\n\u001b[1;32m    351\u001b[0m     )\n",
      "File \u001b[0;32m/usr/local/lib/python3.11/dist-packages/pandas/core/computation/expr.py:809\u001b[0m, in \u001b[0;36mExpr.__init__\u001b[0;34m(self, expr, engine, parser, env, level)\u001b[0m\n\u001b[1;32m    807\u001b[0m \u001b[38;5;28mself\u001b[39m\u001b[38;5;241m.\u001b[39mparser \u001b[38;5;241m=\u001b[39m parser\n\u001b[1;32m    808\u001b[0m \u001b[38;5;28mself\u001b[39m\u001b[38;5;241m.\u001b[39m_visitor \u001b[38;5;241m=\u001b[39m PARSERS[parser](\u001b[38;5;28mself\u001b[39m\u001b[38;5;241m.\u001b[39menv, \u001b[38;5;28mself\u001b[39m\u001b[38;5;241m.\u001b[39mengine, \u001b[38;5;28mself\u001b[39m\u001b[38;5;241m.\u001b[39mparser)\n\u001b[0;32m--> 809\u001b[0m \u001b[38;5;28mself\u001b[39m\u001b[38;5;241m.\u001b[39mterms \u001b[38;5;241m=\u001b[39m \u001b[38;5;28;43mself\u001b[39;49m\u001b[38;5;241;43m.\u001b[39;49m\u001b[43mparse\u001b[49m\u001b[43m(\u001b[49m\u001b[43m)\u001b[49m\n",
      "File \u001b[0;32m/usr/local/lib/python3.11/dist-packages/pandas/core/computation/expr.py:828\u001b[0m, in \u001b[0;36mExpr.parse\u001b[0;34m(self)\u001b[0m\n\u001b[1;32m    824\u001b[0m \u001b[38;5;28;01mdef\u001b[39;00m \u001b[38;5;21mparse\u001b[39m(\u001b[38;5;28mself\u001b[39m):\n\u001b[1;32m    825\u001b[0m \u001b[38;5;250m    \u001b[39m\u001b[38;5;124;03m\"\"\"\u001b[39;00m\n\u001b[1;32m    826\u001b[0m \u001b[38;5;124;03m    Parse an expression.\u001b[39;00m\n\u001b[1;32m    827\u001b[0m \u001b[38;5;124;03m    \"\"\"\u001b[39;00m\n\u001b[0;32m--> 828\u001b[0m     \u001b[38;5;28;01mreturn\u001b[39;00m \u001b[38;5;28;43mself\u001b[39;49m\u001b[38;5;241;43m.\u001b[39;49m\u001b[43m_visitor\u001b[49m\u001b[38;5;241;43m.\u001b[39;49m\u001b[43mvisit\u001b[49m\u001b[43m(\u001b[49m\u001b[38;5;28;43mself\u001b[39;49m\u001b[38;5;241;43m.\u001b[39;49m\u001b[43mexpr\u001b[49m\u001b[43m)\u001b[49m\n",
      "File \u001b[0;32m/usr/local/lib/python3.11/dist-packages/pandas/core/computation/expr.py:412\u001b[0m, in \u001b[0;36mBaseExprVisitor.visit\u001b[0;34m(self, node, **kwargs)\u001b[0m\n\u001b[1;32m    410\u001b[0m method \u001b[38;5;241m=\u001b[39m \u001b[38;5;124mf\u001b[39m\u001b[38;5;124m\"\u001b[39m\u001b[38;5;124mvisit_\u001b[39m\u001b[38;5;132;01m{\u001b[39;00m\u001b[38;5;28mtype\u001b[39m(node)\u001b[38;5;241m.\u001b[39m\u001b[38;5;18m__name__\u001b[39m\u001b[38;5;132;01m}\u001b[39;00m\u001b[38;5;124m\"\u001b[39m\n\u001b[1;32m    411\u001b[0m visitor \u001b[38;5;241m=\u001b[39m \u001b[38;5;28mgetattr\u001b[39m(\u001b[38;5;28mself\u001b[39m, method)\n\u001b[0;32m--> 412\u001b[0m \u001b[38;5;28;01mreturn\u001b[39;00m \u001b[43mvisitor\u001b[49m\u001b[43m(\u001b[49m\u001b[43mnode\u001b[49m\u001b[43m,\u001b[49m\u001b[43m \u001b[49m\u001b[38;5;241;43m*\u001b[39;49m\u001b[38;5;241;43m*\u001b[39;49m\u001b[43mkwargs\u001b[49m\u001b[43m)\u001b[49m\n",
      "File \u001b[0;32m/usr/local/lib/python3.11/dist-packages/pandas/core/computation/expr.py:418\u001b[0m, in \u001b[0;36mBaseExprVisitor.visit_Module\u001b[0;34m(self, node, **kwargs)\u001b[0m\n\u001b[1;32m    416\u001b[0m     \u001b[38;5;28;01mraise\u001b[39;00m \u001b[38;5;167;01mSyntaxError\u001b[39;00m(\u001b[38;5;124m\"\u001b[39m\u001b[38;5;124monly a single expression is allowed\u001b[39m\u001b[38;5;124m\"\u001b[39m)\n\u001b[1;32m    417\u001b[0m expr \u001b[38;5;241m=\u001b[39m node\u001b[38;5;241m.\u001b[39mbody[\u001b[38;5;241m0\u001b[39m]\n\u001b[0;32m--> 418\u001b[0m \u001b[38;5;28;01mreturn\u001b[39;00m \u001b[38;5;28;43mself\u001b[39;49m\u001b[38;5;241;43m.\u001b[39;49m\u001b[43mvisit\u001b[49m\u001b[43m(\u001b[49m\u001b[43mexpr\u001b[49m\u001b[43m,\u001b[49m\u001b[43m \u001b[49m\u001b[38;5;241;43m*\u001b[39;49m\u001b[38;5;241;43m*\u001b[39;49m\u001b[43mkwargs\u001b[49m\u001b[43m)\u001b[49m\n",
      "File \u001b[0;32m/usr/local/lib/python3.11/dist-packages/pandas/core/computation/expr.py:412\u001b[0m, in \u001b[0;36mBaseExprVisitor.visit\u001b[0;34m(self, node, **kwargs)\u001b[0m\n\u001b[1;32m    410\u001b[0m method \u001b[38;5;241m=\u001b[39m \u001b[38;5;124mf\u001b[39m\u001b[38;5;124m\"\u001b[39m\u001b[38;5;124mvisit_\u001b[39m\u001b[38;5;132;01m{\u001b[39;00m\u001b[38;5;28mtype\u001b[39m(node)\u001b[38;5;241m.\u001b[39m\u001b[38;5;18m__name__\u001b[39m\u001b[38;5;132;01m}\u001b[39;00m\u001b[38;5;124m\"\u001b[39m\n\u001b[1;32m    411\u001b[0m visitor \u001b[38;5;241m=\u001b[39m \u001b[38;5;28mgetattr\u001b[39m(\u001b[38;5;28mself\u001b[39m, method)\n\u001b[0;32m--> 412\u001b[0m \u001b[38;5;28;01mreturn\u001b[39;00m \u001b[43mvisitor\u001b[49m\u001b[43m(\u001b[49m\u001b[43mnode\u001b[49m\u001b[43m,\u001b[49m\u001b[43m \u001b[49m\u001b[38;5;241;43m*\u001b[39;49m\u001b[38;5;241;43m*\u001b[39;49m\u001b[43mkwargs\u001b[49m\u001b[43m)\u001b[49m\n",
      "File \u001b[0;32m/usr/local/lib/python3.11/dist-packages/pandas/core/computation/expr.py:421\u001b[0m, in \u001b[0;36mBaseExprVisitor.visit_Expr\u001b[0;34m(self, node, **kwargs)\u001b[0m\n\u001b[1;32m    420\u001b[0m \u001b[38;5;28;01mdef\u001b[39;00m \u001b[38;5;21mvisit_Expr\u001b[39m(\u001b[38;5;28mself\u001b[39m, node, \u001b[38;5;241m*\u001b[39m\u001b[38;5;241m*\u001b[39mkwargs):\n\u001b[0;32m--> 421\u001b[0m     \u001b[38;5;28;01mreturn\u001b[39;00m \u001b[38;5;28;43mself\u001b[39;49m\u001b[38;5;241;43m.\u001b[39;49m\u001b[43mvisit\u001b[49m\u001b[43m(\u001b[49m\u001b[43mnode\u001b[49m\u001b[38;5;241;43m.\u001b[39;49m\u001b[43mvalue\u001b[49m\u001b[43m,\u001b[49m\u001b[43m \u001b[49m\u001b[38;5;241;43m*\u001b[39;49m\u001b[38;5;241;43m*\u001b[39;49m\u001b[43mkwargs\u001b[49m\u001b[43m)\u001b[49m\n",
      "File \u001b[0;32m/usr/local/lib/python3.11/dist-packages/pandas/core/computation/expr.py:412\u001b[0m, in \u001b[0;36mBaseExprVisitor.visit\u001b[0;34m(self, node, **kwargs)\u001b[0m\n\u001b[1;32m    410\u001b[0m method \u001b[38;5;241m=\u001b[39m \u001b[38;5;124mf\u001b[39m\u001b[38;5;124m\"\u001b[39m\u001b[38;5;124mvisit_\u001b[39m\u001b[38;5;132;01m{\u001b[39;00m\u001b[38;5;28mtype\u001b[39m(node)\u001b[38;5;241m.\u001b[39m\u001b[38;5;18m__name__\u001b[39m\u001b[38;5;132;01m}\u001b[39;00m\u001b[38;5;124m\"\u001b[39m\n\u001b[1;32m    411\u001b[0m visitor \u001b[38;5;241m=\u001b[39m \u001b[38;5;28mgetattr\u001b[39m(\u001b[38;5;28mself\u001b[39m, method)\n\u001b[0;32m--> 412\u001b[0m \u001b[38;5;28;01mreturn\u001b[39;00m \u001b[43mvisitor\u001b[49m\u001b[43m(\u001b[49m\u001b[43mnode\u001b[49m\u001b[43m,\u001b[49m\u001b[43m \u001b[49m\u001b[38;5;241;43m*\u001b[39;49m\u001b[38;5;241;43m*\u001b[39;49m\u001b[43mkwargs\u001b[49m\u001b[43m)\u001b[49m\n",
      "File \u001b[0;32m/usr/local/lib/python3.11/dist-packages/pandas/core/computation/expr.py:746\u001b[0m, in \u001b[0;36mBaseExprVisitor.visit_BoolOp\u001b[0;34m(self, node, **kwargs)\u001b[0m\n\u001b[1;32m    743\u001b[0m     \u001b[38;5;28;01mreturn\u001b[39;00m \u001b[38;5;28mself\u001b[39m\u001b[38;5;241m.\u001b[39m_maybe_evaluate_binop(op, node\u001b[38;5;241m.\u001b[39mop, lhs, rhs)\n\u001b[1;32m    745\u001b[0m operands \u001b[38;5;241m=\u001b[39m node\u001b[38;5;241m.\u001b[39mvalues\n\u001b[0;32m--> 746\u001b[0m \u001b[38;5;28;01mreturn\u001b[39;00m \u001b[43mreduce\u001b[49m\u001b[43m(\u001b[49m\u001b[43mvisitor\u001b[49m\u001b[43m,\u001b[49m\u001b[43m \u001b[49m\u001b[43moperands\u001b[49m\u001b[43m)\u001b[49m\n",
      "File \u001b[0;32m/usr/local/lib/python3.11/dist-packages/pandas/core/computation/expr.py:739\u001b[0m, in \u001b[0;36mBaseExprVisitor.visit_BoolOp.<locals>.visitor\u001b[0;34m(x, y)\u001b[0m\n\u001b[1;32m    738\u001b[0m \u001b[38;5;28;01mdef\u001b[39;00m \u001b[38;5;21mvisitor\u001b[39m(x, y):\n\u001b[0;32m--> 739\u001b[0m     lhs \u001b[38;5;241m=\u001b[39m \u001b[38;5;28;43mself\u001b[39;49m\u001b[38;5;241;43m.\u001b[39;49m\u001b[43m_try_visit_binop\u001b[49m\u001b[43m(\u001b[49m\u001b[43mx\u001b[49m\u001b[43m)\u001b[49m\n\u001b[1;32m    740\u001b[0m     rhs \u001b[38;5;241m=\u001b[39m \u001b[38;5;28mself\u001b[39m\u001b[38;5;241m.\u001b[39m_try_visit_binop(y)\n\u001b[1;32m    742\u001b[0m     op, op_class, lhs, rhs \u001b[38;5;241m=\u001b[39m \u001b[38;5;28mself\u001b[39m\u001b[38;5;241m.\u001b[39m_maybe_transform_eq_ne(node, lhs, rhs)\n",
      "File \u001b[0;32m/usr/local/lib/python3.11/dist-packages/pandas/core/computation/expr.py:735\u001b[0m, in \u001b[0;36mBaseExprVisitor._try_visit_binop\u001b[0;34m(self, bop)\u001b[0m\n\u001b[1;32m    733\u001b[0m \u001b[38;5;28;01mif\u001b[39;00m \u001b[38;5;28misinstance\u001b[39m(bop, (Op, Term)):\n\u001b[1;32m    734\u001b[0m     \u001b[38;5;28;01mreturn\u001b[39;00m bop\n\u001b[0;32m--> 735\u001b[0m \u001b[38;5;28;01mreturn\u001b[39;00m \u001b[38;5;28;43mself\u001b[39;49m\u001b[38;5;241;43m.\u001b[39;49m\u001b[43mvisit\u001b[49m\u001b[43m(\u001b[49m\u001b[43mbop\u001b[49m\u001b[43m)\u001b[49m\n",
      "File \u001b[0;32m/usr/local/lib/python3.11/dist-packages/pandas/core/computation/expr.py:412\u001b[0m, in \u001b[0;36mBaseExprVisitor.visit\u001b[0;34m(self, node, **kwargs)\u001b[0m\n\u001b[1;32m    410\u001b[0m method \u001b[38;5;241m=\u001b[39m \u001b[38;5;124mf\u001b[39m\u001b[38;5;124m\"\u001b[39m\u001b[38;5;124mvisit_\u001b[39m\u001b[38;5;132;01m{\u001b[39;00m\u001b[38;5;28mtype\u001b[39m(node)\u001b[38;5;241m.\u001b[39m\u001b[38;5;18m__name__\u001b[39m\u001b[38;5;132;01m}\u001b[39;00m\u001b[38;5;124m\"\u001b[39m\n\u001b[1;32m    411\u001b[0m visitor \u001b[38;5;241m=\u001b[39m \u001b[38;5;28mgetattr\u001b[39m(\u001b[38;5;28mself\u001b[39m, method)\n\u001b[0;32m--> 412\u001b[0m \u001b[38;5;28;01mreturn\u001b[39;00m \u001b[43mvisitor\u001b[49m\u001b[43m(\u001b[49m\u001b[43mnode\u001b[49m\u001b[43m,\u001b[49m\u001b[43m \u001b[49m\u001b[38;5;241;43m*\u001b[39;49m\u001b[38;5;241;43m*\u001b[39;49m\u001b[43mkwargs\u001b[49m\u001b[43m)\u001b[49m\n",
      "File \u001b[0;32m/usr/local/lib/python3.11/dist-packages/pandas/core/computation/expr.py:719\u001b[0m, in \u001b[0;36mBaseExprVisitor.visit_Compare\u001b[0;34m(self, node, **kwargs)\u001b[0m\n\u001b[1;32m    717\u001b[0m     op \u001b[38;5;241m=\u001b[39m \u001b[38;5;28mself\u001b[39m\u001b[38;5;241m.\u001b[39mtranslate_In(ops[\u001b[38;5;241m0\u001b[39m])\n\u001b[1;32m    718\u001b[0m     binop \u001b[38;5;241m=\u001b[39m ast\u001b[38;5;241m.\u001b[39mBinOp(op\u001b[38;5;241m=\u001b[39mop, left\u001b[38;5;241m=\u001b[39mnode\u001b[38;5;241m.\u001b[39mleft, right\u001b[38;5;241m=\u001b[39mcomps[\u001b[38;5;241m0\u001b[39m])\n\u001b[0;32m--> 719\u001b[0m     \u001b[38;5;28;01mreturn\u001b[39;00m \u001b[38;5;28;43mself\u001b[39;49m\u001b[38;5;241;43m.\u001b[39;49m\u001b[43mvisit\u001b[49m\u001b[43m(\u001b[49m\u001b[43mbinop\u001b[49m\u001b[43m)\u001b[49m\n\u001b[1;32m    721\u001b[0m \u001b[38;5;66;03m# recursive case: we have a chained comparison, a CMP b CMP c, etc.\u001b[39;00m\n\u001b[1;32m    722\u001b[0m left \u001b[38;5;241m=\u001b[39m node\u001b[38;5;241m.\u001b[39mleft\n",
      "File \u001b[0;32m/usr/local/lib/python3.11/dist-packages/pandas/core/computation/expr.py:412\u001b[0m, in \u001b[0;36mBaseExprVisitor.visit\u001b[0;34m(self, node, **kwargs)\u001b[0m\n\u001b[1;32m    410\u001b[0m method \u001b[38;5;241m=\u001b[39m \u001b[38;5;124mf\u001b[39m\u001b[38;5;124m\"\u001b[39m\u001b[38;5;124mvisit_\u001b[39m\u001b[38;5;132;01m{\u001b[39;00m\u001b[38;5;28mtype\u001b[39m(node)\u001b[38;5;241m.\u001b[39m\u001b[38;5;18m__name__\u001b[39m\u001b[38;5;132;01m}\u001b[39;00m\u001b[38;5;124m\"\u001b[39m\n\u001b[1;32m    411\u001b[0m visitor \u001b[38;5;241m=\u001b[39m \u001b[38;5;28mgetattr\u001b[39m(\u001b[38;5;28mself\u001b[39m, method)\n\u001b[0;32m--> 412\u001b[0m \u001b[38;5;28;01mreturn\u001b[39;00m \u001b[43mvisitor\u001b[49m\u001b[43m(\u001b[49m\u001b[43mnode\u001b[49m\u001b[43m,\u001b[49m\u001b[43m \u001b[49m\u001b[38;5;241;43m*\u001b[39;49m\u001b[38;5;241;43m*\u001b[39;49m\u001b[43mkwargs\u001b[49m\u001b[43m)\u001b[49m\n",
      "File \u001b[0;32m/usr/local/lib/python3.11/dist-packages/pandas/core/computation/expr.py:532\u001b[0m, in \u001b[0;36mBaseExprVisitor.visit_BinOp\u001b[0;34m(self, node, **kwargs)\u001b[0m\n\u001b[1;32m    531\u001b[0m \u001b[38;5;28;01mdef\u001b[39;00m \u001b[38;5;21mvisit_BinOp\u001b[39m(\u001b[38;5;28mself\u001b[39m, node, \u001b[38;5;241m*\u001b[39m\u001b[38;5;241m*\u001b[39mkwargs):\n\u001b[0;32m--> 532\u001b[0m     op, op_class, left, right \u001b[38;5;241m=\u001b[39m \u001b[38;5;28;43mself\u001b[39;49m\u001b[38;5;241;43m.\u001b[39;49m\u001b[43m_maybe_transform_eq_ne\u001b[49m\u001b[43m(\u001b[49m\u001b[43mnode\u001b[49m\u001b[43m)\u001b[49m\n\u001b[1;32m    533\u001b[0m     left, right \u001b[38;5;241m=\u001b[39m \u001b[38;5;28mself\u001b[39m\u001b[38;5;241m.\u001b[39m_maybe_downcast_constants(left, right)\n\u001b[1;32m    534\u001b[0m     \u001b[38;5;28;01mreturn\u001b[39;00m \u001b[38;5;28mself\u001b[39m\u001b[38;5;241m.\u001b[39m_maybe_evaluate_binop(op, op_class, left, right)\n",
      "File \u001b[0;32m/usr/local/lib/python3.11/dist-packages/pandas/core/computation/expr.py:452\u001b[0m, in \u001b[0;36mBaseExprVisitor._maybe_transform_eq_ne\u001b[0;34m(self, node, left, right)\u001b[0m\n\u001b[1;32m    450\u001b[0m \u001b[38;5;28;01mdef\u001b[39;00m \u001b[38;5;21m_maybe_transform_eq_ne\u001b[39m(\u001b[38;5;28mself\u001b[39m, node, left\u001b[38;5;241m=\u001b[39m\u001b[38;5;28;01mNone\u001b[39;00m, right\u001b[38;5;241m=\u001b[39m\u001b[38;5;28;01mNone\u001b[39;00m):\n\u001b[1;32m    451\u001b[0m     \u001b[38;5;28;01mif\u001b[39;00m left \u001b[38;5;129;01mis\u001b[39;00m \u001b[38;5;28;01mNone\u001b[39;00m:\n\u001b[0;32m--> 452\u001b[0m         left \u001b[38;5;241m=\u001b[39m \u001b[38;5;28;43mself\u001b[39;49m\u001b[38;5;241;43m.\u001b[39;49m\u001b[43mvisit\u001b[49m\u001b[43m(\u001b[49m\u001b[43mnode\u001b[49m\u001b[38;5;241;43m.\u001b[39;49m\u001b[43mleft\u001b[49m\u001b[43m,\u001b[49m\u001b[43m \u001b[49m\u001b[43mside\u001b[49m\u001b[38;5;241;43m=\u001b[39;49m\u001b[38;5;124;43m\"\u001b[39;49m\u001b[38;5;124;43mleft\u001b[39;49m\u001b[38;5;124;43m\"\u001b[39;49m\u001b[43m)\u001b[49m\n\u001b[1;32m    453\u001b[0m     \u001b[38;5;28;01mif\u001b[39;00m right \u001b[38;5;129;01mis\u001b[39;00m \u001b[38;5;28;01mNone\u001b[39;00m:\n\u001b[1;32m    454\u001b[0m         right \u001b[38;5;241m=\u001b[39m \u001b[38;5;28mself\u001b[39m\u001b[38;5;241m.\u001b[39mvisit(node\u001b[38;5;241m.\u001b[39mright, side\u001b[38;5;241m=\u001b[39m\u001b[38;5;124m\"\u001b[39m\u001b[38;5;124mright\u001b[39m\u001b[38;5;124m\"\u001b[39m)\n",
      "File \u001b[0;32m/usr/local/lib/python3.11/dist-packages/pandas/core/computation/expr.py:412\u001b[0m, in \u001b[0;36mBaseExprVisitor.visit\u001b[0;34m(self, node, **kwargs)\u001b[0m\n\u001b[1;32m    410\u001b[0m method \u001b[38;5;241m=\u001b[39m \u001b[38;5;124mf\u001b[39m\u001b[38;5;124m\"\u001b[39m\u001b[38;5;124mvisit_\u001b[39m\u001b[38;5;132;01m{\u001b[39;00m\u001b[38;5;28mtype\u001b[39m(node)\u001b[38;5;241m.\u001b[39m\u001b[38;5;18m__name__\u001b[39m\u001b[38;5;132;01m}\u001b[39;00m\u001b[38;5;124m\"\u001b[39m\n\u001b[1;32m    411\u001b[0m visitor \u001b[38;5;241m=\u001b[39m \u001b[38;5;28mgetattr\u001b[39m(\u001b[38;5;28mself\u001b[39m, method)\n\u001b[0;32m--> 412\u001b[0m \u001b[38;5;28;01mreturn\u001b[39;00m \u001b[43mvisitor\u001b[49m\u001b[43m(\u001b[49m\u001b[43mnode\u001b[49m\u001b[43m,\u001b[49m\u001b[43m \u001b[49m\u001b[38;5;241;43m*\u001b[39;49m\u001b[38;5;241;43m*\u001b[39;49m\u001b[43mkwargs\u001b[49m\u001b[43m)\u001b[49m\n",
      "File \u001b[0;32m/usr/local/lib/python3.11/dist-packages/pandas/core/computation/expr.py:545\u001b[0m, in \u001b[0;36mBaseExprVisitor.visit_Name\u001b[0;34m(self, node, **kwargs)\u001b[0m\n\u001b[1;32m    544\u001b[0m \u001b[38;5;28;01mdef\u001b[39;00m \u001b[38;5;21mvisit_Name\u001b[39m(\u001b[38;5;28mself\u001b[39m, node, \u001b[38;5;241m*\u001b[39m\u001b[38;5;241m*\u001b[39mkwargs) \u001b[38;5;241m-\u001b[39m\u001b[38;5;241m>\u001b[39m Term:\n\u001b[0;32m--> 545\u001b[0m     \u001b[38;5;28;01mreturn\u001b[39;00m \u001b[38;5;28;43mself\u001b[39;49m\u001b[38;5;241;43m.\u001b[39;49m\u001b[43mterm_type\u001b[49m\u001b[43m(\u001b[49m\u001b[43mnode\u001b[49m\u001b[38;5;241;43m.\u001b[39;49m\u001b[43mid\u001b[49m\u001b[43m,\u001b[49m\u001b[43m \u001b[49m\u001b[38;5;28;43mself\u001b[39;49m\u001b[38;5;241;43m.\u001b[39;49m\u001b[43menv\u001b[49m\u001b[43m,\u001b[49m\u001b[43m \u001b[49m\u001b[38;5;241;43m*\u001b[39;49m\u001b[38;5;241;43m*\u001b[39;49m\u001b[43mkwargs\u001b[49m\u001b[43m)\u001b[49m\n",
      "File \u001b[0;32m/usr/local/lib/python3.11/dist-packages/pandas/core/computation/ops.py:91\u001b[0m, in \u001b[0;36mTerm.__init__\u001b[0;34m(self, name, env, side, encoding)\u001b[0m\n\u001b[1;32m     89\u001b[0m tname \u001b[38;5;241m=\u001b[39m \u001b[38;5;28mstr\u001b[39m(name)\n\u001b[1;32m     90\u001b[0m \u001b[38;5;28mself\u001b[39m\u001b[38;5;241m.\u001b[39mis_local \u001b[38;5;241m=\u001b[39m tname\u001b[38;5;241m.\u001b[39mstartswith(LOCAL_TAG) \u001b[38;5;129;01mor\u001b[39;00m tname \u001b[38;5;129;01min\u001b[39;00m DEFAULT_GLOBALS\n\u001b[0;32m---> 91\u001b[0m \u001b[38;5;28mself\u001b[39m\u001b[38;5;241m.\u001b[39m_value \u001b[38;5;241m=\u001b[39m \u001b[38;5;28;43mself\u001b[39;49m\u001b[38;5;241;43m.\u001b[39;49m\u001b[43m_resolve_name\u001b[49m\u001b[43m(\u001b[49m\u001b[43m)\u001b[49m\n\u001b[1;32m     92\u001b[0m \u001b[38;5;28mself\u001b[39m\u001b[38;5;241m.\u001b[39mencoding \u001b[38;5;241m=\u001b[39m encoding\n",
      "File \u001b[0;32m/usr/local/lib/python3.11/dist-packages/pandas/core/computation/ops.py:115\u001b[0m, in \u001b[0;36mTerm._resolve_name\u001b[0;34m(self)\u001b[0m\n\u001b[1;32m    110\u001b[0m \u001b[38;5;28;01mif\u001b[39;00m local_name \u001b[38;5;129;01min\u001b[39;00m \u001b[38;5;28mself\u001b[39m\u001b[38;5;241m.\u001b[39menv\u001b[38;5;241m.\u001b[39mscope \u001b[38;5;129;01mand\u001b[39;00m \u001b[38;5;28misinstance\u001b[39m(\n\u001b[1;32m    111\u001b[0m     \u001b[38;5;28mself\u001b[39m\u001b[38;5;241m.\u001b[39menv\u001b[38;5;241m.\u001b[39mscope[local_name], \u001b[38;5;28mtype\u001b[39m\n\u001b[1;32m    112\u001b[0m ):\n\u001b[1;32m    113\u001b[0m     is_local \u001b[38;5;241m=\u001b[39m \u001b[38;5;28;01mFalse\u001b[39;00m\n\u001b[0;32m--> 115\u001b[0m res \u001b[38;5;241m=\u001b[39m \u001b[38;5;28;43mself\u001b[39;49m\u001b[38;5;241;43m.\u001b[39;49m\u001b[43menv\u001b[49m\u001b[38;5;241;43m.\u001b[39;49m\u001b[43mresolve\u001b[49m\u001b[43m(\u001b[49m\u001b[43mlocal_name\u001b[49m\u001b[43m,\u001b[49m\u001b[43m \u001b[49m\u001b[43mis_local\u001b[49m\u001b[38;5;241;43m=\u001b[39;49m\u001b[43mis_local\u001b[49m\u001b[43m)\u001b[49m\n\u001b[1;32m    116\u001b[0m \u001b[38;5;28mself\u001b[39m\u001b[38;5;241m.\u001b[39mupdate(res)\n\u001b[1;32m    118\u001b[0m \u001b[38;5;28;01mif\u001b[39;00m \u001b[38;5;28mhasattr\u001b[39m(res, \u001b[38;5;124m\"\u001b[39m\u001b[38;5;124mndim\u001b[39m\u001b[38;5;124m\"\u001b[39m) \u001b[38;5;129;01mand\u001b[39;00m res\u001b[38;5;241m.\u001b[39mndim \u001b[38;5;241m>\u001b[39m \u001b[38;5;241m2\u001b[39m:\n",
      "File \u001b[0;32m/usr/local/lib/python3.11/dist-packages/pandas/core/computation/scope.py:244\u001b[0m, in \u001b[0;36mScope.resolve\u001b[0;34m(self, key, is_local)\u001b[0m\n\u001b[1;32m    242\u001b[0m     \u001b[38;5;28;01mreturn\u001b[39;00m \u001b[38;5;28mself\u001b[39m\u001b[38;5;241m.\u001b[39mtemps[key]\n\u001b[1;32m    243\u001b[0m \u001b[38;5;28;01mexcept\u001b[39;00m \u001b[38;5;167;01mKeyError\u001b[39;00m \u001b[38;5;28;01mas\u001b[39;00m err:\n\u001b[0;32m--> 244\u001b[0m     \u001b[38;5;28;01mraise\u001b[39;00m UndefinedVariableError(key, is_local) \u001b[38;5;28;01mfrom\u001b[39;00m \u001b[38;5;21;01merr\u001b[39;00m\n",
      "\u001b[0;31mUndefinedVariableError\u001b[0m: name 'high_school_us_history' is not defined"
     ]
    }
   ],
   "source": [
    "# # metrics_list[0]\n",
    "# metric_scores2 = np.array([[x[dataset_name]['mean_correct'] for dataset_name in dataset_names] for x in metrics_list])\n",
    "\n",
    "# df2 = pd.DataFrame(metric_scores2, columns=dataset_names)\n",
    "# df2.query((\"high_school_us_history == 1 & college_computer_science == 1 & high_school_geography == 1 & human_aging == 1 & college_biology == 1\"))"
   ]
  },
  {
   "cell_type": "code",
   "execution_count": 77,
   "id": "eba8671a-35f2-413e-9a88-ea5428840eaa",
   "metadata": {},
   "outputs": [
    {
     "data": {
      "text/html": [
       "<div>\n",
       "<style scoped>\n",
       "    .dataframe tbody tr th:only-of-type {\n",
       "        vertical-align: middle;\n",
       "    }\n",
       "\n",
       "    .dataframe tbody tr th {\n",
       "        vertical-align: top;\n",
       "    }\n",
       "\n",
       "    .dataframe thead th {\n",
       "        text-align: right;\n",
       "    }\n",
       "</style>\n",
       "<table border=\"1\" class=\"dataframe\">\n",
       "  <thead>\n",
       "    <tr style=\"text-align: right;\">\n",
       "      <th></th>\n",
       "      <th>wmdp-bio</th>\n",
       "      <th>high_school_us_history</th>\n",
       "      <th>college_computer_science</th>\n",
       "      <th>high_school_geography</th>\n",
       "      <th>human_aging</th>\n",
       "      <th>college_biology</th>\n",
       "    </tr>\n",
       "  </thead>\n",
       "  <tbody>\n",
       "    <tr>\n",
       "      <th>1</th>\n",
       "      <td>0.994186</td>\n",
       "      <td>1.0</td>\n",
       "      <td>1.0</td>\n",
       "      <td>1.0</td>\n",
       "      <td>1.0</td>\n",
       "      <td>1.0</td>\n",
       "    </tr>\n",
       "    <tr>\n",
       "      <th>2</th>\n",
       "      <td>0.976744</td>\n",
       "      <td>1.0</td>\n",
       "      <td>1.0</td>\n",
       "      <td>1.0</td>\n",
       "      <td>1.0</td>\n",
       "      <td>1.0</td>\n",
       "    </tr>\n",
       "    <tr>\n",
       "      <th>6</th>\n",
       "      <td>1.000000</td>\n",
       "      <td>1.0</td>\n",
       "      <td>1.0</td>\n",
       "      <td>1.0</td>\n",
       "      <td>1.0</td>\n",
       "      <td>1.0</td>\n",
       "    </tr>\n",
       "    <tr>\n",
       "      <th>7</th>\n",
       "      <td>0.930233</td>\n",
       "      <td>1.0</td>\n",
       "      <td>1.0</td>\n",
       "      <td>1.0</td>\n",
       "      <td>1.0</td>\n",
       "      <td>1.0</td>\n",
       "    </tr>\n",
       "    <tr>\n",
       "      <th>11</th>\n",
       "      <td>0.994186</td>\n",
       "      <td>1.0</td>\n",
       "      <td>1.0</td>\n",
       "      <td>1.0</td>\n",
       "      <td>1.0</td>\n",
       "      <td>1.0</td>\n",
       "    </tr>\n",
       "    <tr>\n",
       "      <th>15</th>\n",
       "      <td>0.994186</td>\n",
       "      <td>1.0</td>\n",
       "      <td>1.0</td>\n",
       "      <td>1.0</td>\n",
       "      <td>1.0</td>\n",
       "      <td>1.0</td>\n",
       "    </tr>\n",
       "    <tr>\n",
       "      <th>17</th>\n",
       "      <td>1.000000</td>\n",
       "      <td>1.0</td>\n",
       "      <td>1.0</td>\n",
       "      <td>1.0</td>\n",
       "      <td>1.0</td>\n",
       "      <td>1.0</td>\n",
       "    </tr>\n",
       "    <tr>\n",
       "      <th>19</th>\n",
       "      <td>0.994186</td>\n",
       "      <td>1.0</td>\n",
       "      <td>1.0</td>\n",
       "      <td>1.0</td>\n",
       "      <td>1.0</td>\n",
       "      <td>1.0</td>\n",
       "    </tr>\n",
       "    <tr>\n",
       "      <th>20</th>\n",
       "      <td>1.000000</td>\n",
       "      <td>1.0</td>\n",
       "      <td>1.0</td>\n",
       "      <td>1.0</td>\n",
       "      <td>1.0</td>\n",
       "      <td>1.0</td>\n",
       "    </tr>\n",
       "    <tr>\n",
       "      <th>21</th>\n",
       "      <td>1.000000</td>\n",
       "      <td>1.0</td>\n",
       "      <td>1.0</td>\n",
       "      <td>1.0</td>\n",
       "      <td>1.0</td>\n",
       "      <td>1.0</td>\n",
       "    </tr>\n",
       "  </tbody>\n",
       "</table>\n",
       "</div>"
      ],
      "text/plain": [
       "    wmdp-bio  high_school_us_history  college_computer_science  \\\n",
       "1   0.994186                     1.0                       1.0   \n",
       "2   0.976744                     1.0                       1.0   \n",
       "6   1.000000                     1.0                       1.0   \n",
       "7   0.930233                     1.0                       1.0   \n",
       "11  0.994186                     1.0                       1.0   \n",
       "15  0.994186                     1.0                       1.0   \n",
       "17  1.000000                     1.0                       1.0   \n",
       "19  0.994186                     1.0                       1.0   \n",
       "20  1.000000                     1.0                       1.0   \n",
       "21  1.000000                     1.0                       1.0   \n",
       "\n",
       "    high_school_geography  human_aging  college_biology  \n",
       "1                     1.0          1.0              1.0  \n",
       "2                     1.0          1.0              1.0  \n",
       "6                     1.0          1.0              1.0  \n",
       "7                     1.0          1.0              1.0  \n",
       "11                    1.0          1.0              1.0  \n",
       "15                    1.0          1.0              1.0  \n",
       "17                    1.0          1.0              1.0  \n",
       "19                    1.0          1.0              1.0  \n",
       "20                    1.0          1.0              1.0  \n",
       "21                    1.0          1.0              1.0  "
      ]
     },
     "execution_count": 77,
     "metadata": {},
     "output_type": "execute_result"
    }
   ],
   "source": [
    "# metrics_list[0]\n",
    "metric_scores2 = np.array([[x[dataset_name]['mean_correct'] for dataset_name in dataset_names] for x in metrics_list])\n",
    "\n",
    "df2 = pd.DataFrame(metric_scores2, columns=dataset_names)\n",
    "df2.query((\"high_school_us_history == 1 & college_computer_science == 1 & high_school_geography == 1 & human_aging == 1 & college_biology == 1\"))"
   ]
  },
  {
   "cell_type": "code",
   "execution_count": 78,
   "id": "9ccfa059-0be7-47d8-a26c-165cdb14b298",
   "metadata": {},
   "outputs": [
    {
     "data": {
      "text/plain": [
       "array([ 5001, 15755,  2222,  4654,  9280,  1746,  8412,  5861, 15848,\n",
       "        8946])"
      ]
     },
     "execution_count": 78,
     "metadata": {},
     "output_type": "execute_result"
    }
   ],
   "source": [
    "ikeep2 = [1, 2, 6, 7,11, 15, 17, 19, 20, 21]\n",
    "features2 = np.array(possibly_bad_features)[ikeep2]\n",
    "features2"
   ]
  },
  {
   "cell_type": "code",
   "execution_count": 66,
   "id": "007180a0-2583-4d18-877e-03c920084946",
   "metadata": {},
   "outputs": [
    {
     "data": {
      "text/plain": [
       "[0.9883720874786377, 0.9941860437393188, 0.9476743936538696]"
      ]
     },
     "execution_count": 66,
     "metadata": {},
     "output_type": "execute_result"
    }
   ],
   "source": [
    "[x['mean_correct'] for x in metrics_dict['wmdp-bio']]"
   ]
  },
  {
   "cell_type": "code",
   "execution_count": 67,
   "id": "3c0f11d7-7420-4e5c-a334-b57263f27394",
   "metadata": {},
   "outputs": [],
   "source": [
    "metrics_dict = convert_list_of_dicts_to_dict_of_lists(metrics_list)\n"
   ]
  },
  {
   "cell_type": "code",
   "execution_count": 68,
   "id": "375df4bc-aec6-403d-a9f0-92cbc8e71c60",
   "metadata": {},
   "outputs": [],
   "source": [
    "# metrics_list[0]\n",
    "metric_scores = np.array([[x[dataset_name]['mean_correct'] for dataset_name in dataset_names] for x in metrics_list])\n",
    "\n",
    "df = pd.DataFrame(metric_scores, columns=dataset_names)"
   ]
  },
  {
   "cell_type": "code",
   "execution_count": 72,
   "id": "df336e79-37b9-4295-b504-d697694ec709",
   "metadata": {},
   "outputs": [
    {
     "data": {
      "text/html": [
       "<div>\n",
       "<style scoped>\n",
       "    .dataframe tbody tr th:only-of-type {\n",
       "        vertical-align: middle;\n",
       "    }\n",
       "\n",
       "    .dataframe tbody tr th {\n",
       "        vertical-align: top;\n",
       "    }\n",
       "\n",
       "    .dataframe thead th {\n",
       "        text-align: right;\n",
       "    }\n",
       "</style>\n",
       "<table border=\"1\" class=\"dataframe\">\n",
       "  <thead>\n",
       "    <tr style=\"text-align: right;\">\n",
       "      <th></th>\n",
       "      <th>wmdp-bio</th>\n",
       "      <th>high_school_us_history</th>\n",
       "      <th>college_computer_science</th>\n",
       "      <th>high_school_geography</th>\n",
       "      <th>human_aging</th>\n",
       "      <th>college_biology</th>\n",
       "    </tr>\n",
       "  </thead>\n",
       "  <tbody>\n",
       "    <tr>\n",
       "      <th>0</th>\n",
       "      <td>0.988372</td>\n",
       "      <td>1.0</td>\n",
       "      <td>1.0</td>\n",
       "      <td>1.0</td>\n",
       "      <td>1.0</td>\n",
       "      <td>1.0</td>\n",
       "    </tr>\n",
       "    <tr>\n",
       "      <th>1</th>\n",
       "      <td>0.994186</td>\n",
       "      <td>1.0</td>\n",
       "      <td>1.0</td>\n",
       "      <td>1.0</td>\n",
       "      <td>1.0</td>\n",
       "      <td>1.0</td>\n",
       "    </tr>\n",
       "    <tr>\n",
       "      <th>3</th>\n",
       "      <td>0.988372</td>\n",
       "      <td>1.0</td>\n",
       "      <td>1.0</td>\n",
       "      <td>1.0</td>\n",
       "      <td>1.0</td>\n",
       "      <td>1.0</td>\n",
       "    </tr>\n",
       "    <tr>\n",
       "      <th>4</th>\n",
       "      <td>0.994186</td>\n",
       "      <td>1.0</td>\n",
       "      <td>1.0</td>\n",
       "      <td>1.0</td>\n",
       "      <td>1.0</td>\n",
       "      <td>1.0</td>\n",
       "    </tr>\n",
       "    <tr>\n",
       "      <th>5</th>\n",
       "      <td>0.994186</td>\n",
       "      <td>1.0</td>\n",
       "      <td>1.0</td>\n",
       "      <td>1.0</td>\n",
       "      <td>1.0</td>\n",
       "      <td>1.0</td>\n",
       "    </tr>\n",
       "    <tr>\n",
       "      <th>7</th>\n",
       "      <td>0.912791</td>\n",
       "      <td>1.0</td>\n",
       "      <td>1.0</td>\n",
       "      <td>1.0</td>\n",
       "      <td>1.0</td>\n",
       "      <td>1.0</td>\n",
       "    </tr>\n",
       "    <tr>\n",
       "      <th>13</th>\n",
       "      <td>0.994186</td>\n",
       "      <td>1.0</td>\n",
       "      <td>1.0</td>\n",
       "      <td>1.0</td>\n",
       "      <td>1.0</td>\n",
       "      <td>1.0</td>\n",
       "    </tr>\n",
       "    <tr>\n",
       "      <th>16</th>\n",
       "      <td>0.994186</td>\n",
       "      <td>1.0</td>\n",
       "      <td>1.0</td>\n",
       "      <td>1.0</td>\n",
       "      <td>1.0</td>\n",
       "      <td>1.0</td>\n",
       "    </tr>\n",
       "  </tbody>\n",
       "</table>\n",
       "</div>"
      ],
      "text/plain": [
       "    wmdp-bio  high_school_us_history  college_computer_science  \\\n",
       "0   0.988372                     1.0                       1.0   \n",
       "1   0.994186                     1.0                       1.0   \n",
       "3   0.988372                     1.0                       1.0   \n",
       "4   0.994186                     1.0                       1.0   \n",
       "5   0.994186                     1.0                       1.0   \n",
       "7   0.912791                     1.0                       1.0   \n",
       "13  0.994186                     1.0                       1.0   \n",
       "16  0.994186                     1.0                       1.0   \n",
       "\n",
       "    high_school_geography  human_aging  college_biology  \n",
       "0                     1.0          1.0              1.0  \n",
       "1                     1.0          1.0              1.0  \n",
       "3                     1.0          1.0              1.0  \n",
       "4                     1.0          1.0              1.0  \n",
       "5                     1.0          1.0              1.0  \n",
       "7                     1.0          1.0              1.0  \n",
       "13                    1.0          1.0              1.0  \n",
       "16                    1.0          1.0              1.0  "
      ]
     },
     "execution_count": 72,
     "metadata": {},
     "output_type": "execute_result"
    }
   ],
   "source": [
    "df.query((\"high_school_us_history == 1 & college_computer_science == 1 & high_school_geography == 1 & human_aging == 1 & college_biology == 1\"))"
   ]
  },
  {
   "cell_type": "code",
   "execution_count": 80,
   "id": "0921b49f-5196-4a8d-9c79-4c6bd15a0534",
   "metadata": {},
   "outputs": [],
   "source": [
    "ikeep = [0, 1, 3, 4, 5, 7, 13, 16]"
   ]
  },
  {
   "cell_type": "code",
   "execution_count": 81,
   "id": "4c2bb17a-a825-4dce-9475-516b11cad2aa",
   "metadata": {},
   "outputs": [],
   "source": [
    "features1 = np.array(filtered_features_sorted_by_loss)[ikeep]"
   ]
  },
  {
   "cell_type": "code",
   "execution_count": 82,
   "id": "e18e1c58-92bd-4542-958d-feebcad5c90d",
   "metadata": {},
   "outputs": [],
   "source": [
    "zero_side_effect_features = np.concatenate((features1, features2))"
   ]
  },
  {
   "cell_type": "code",
   "execution_count": 83,
   "id": "0124591a-03df-4751-ab06-0c815952c10e",
   "metadata": {},
   "outputs": [
    {
     "data": {
      "text/plain": [
       "array([ 7983, 16186, 14315,  4342, 10051,  6958,  5749,  4451,  5001,\n",
       "       15755,  2222,  4654,  9280,  1746,  8412,  5861, 15848,  8946])"
      ]
     },
     "execution_count": 83,
     "metadata": {},
     "output_type": "execute_result"
    }
   ],
   "source": [
    "zero_side_effect_features"
   ]
  },
  {
   "cell_type": "code",
   "execution_count": null,
   "id": "7ef07e85-ea60-408d-ab09-98514b51c27c",
   "metadata": {},
   "outputs": [],
   "source": []
  },
  {
   "cell_type": "code",
   "execution_count": 44,
   "id": "30243329-fbca-4fc7-bd6d-2f0a9116ecc9",
   "metadata": {},
   "outputs": [],
   "source": [
    "from unlearning.metrics import calculate_MCQ_metrics"
   ]
  },
  {
   "cell_type": "code",
   "execution_count": 49,
   "id": "486eb0ec-2454-4f8a-971a-97d2d42529b3",
   "metadata": {},
   "outputs": [
    {
     "name": "stderr",
     "output_type": "stream",
     "text": [
      "100%|██████████| 5/5 [00:00<00:00,  6.66it/s]\n"
     ]
    }
   ],
   "source": [
    "geography_metrics = calculate_MCQ_metrics(\n",
    "    model, \n",
    "    dataset_name='high_school_geography',\n",
    "    # target_metric='correct',\n",
    "    question_subset=None, \n",
    "    question_subset_file='../data/mmlu_high_school_geography_gemma-2b-it_correct_not_correct_wo_question_prompt.csv', \n",
    "    permutations=[[0, 1, 2, 3]], \n",
    "    verbose=True, \n",
    "    without_question=False,\n",
    ")"
   ]
  },
  {
   "cell_type": "code",
   "execution_count": 51,
   "id": "137acae8-5368-4a17-b346-0dfe9f790777",
   "metadata": {},
   "outputs": [],
   "source": [
    "from unlearning.metrics import save_target_question_ids"
   ]
  },
  {
   "cell_type": "code",
   "execution_count": 52,
   "id": "2f3291ef-720c-45d7-8b44-113562b8014c",
   "metadata": {},
   "outputs": [
    {
     "name": "stderr",
     "output_type": "stream",
     "text": [
      "100%|██████████| 792/792 [01:52<00:00,  7.05it/s]\n",
      "100%|██████████| 792/792 [01:19<00:00,  9.96it/s]"
     ]
    },
    {
     "name": "stdout",
     "output_type": "stream",
     "text": [
      "Found correct questions:  34\n",
      "Found correct questions but not correct without question prompt:  32\n"
     ]
    },
    {
     "name": "stderr",
     "output_type": "stream",
     "text": [
      "\n"
     ]
    }
   ],
   "source": [
    "save_target_question_ids(model, 'high_school_geography')"
   ]
  },
  {
   "cell_type": "code",
   "execution_count": 53,
   "id": "945ef12c-fcd6-4c6c-96e4-8057993b3d90",
   "metadata": {},
   "outputs": [
    {
     "data": {
      "text/plain": [
       "30"
      ]
     },
     "execution_count": 53,
     "metadata": {},
     "output_type": "execute_result"
    }
   ],
   "source": [
    "a = np.genfromtxt(\"../data/mmlu_high_school_geography_gemma-2b-it_correct.csv\")\n",
    "len(a)"
   ]
  },
  {
   "cell_type": "code",
   "execution_count": 54,
   "id": "62a3df03-4694-4307-8469-b4cad8fc42d5",
   "metadata": {},
   "outputs": [
    {
     "data": {
      "text/plain": [
       "29"
      ]
     },
     "execution_count": 54,
     "metadata": {},
     "output_type": "execute_result"
    }
   ],
   "source": [
    "a = np.genfromtxt(\"../data/mmlu_high_school_geography_gemma-2b-it_correct_not_correct_wo_question_prompt.csv\")\n",
    "len(a)"
   ]
  },
  {
   "cell_type": "code",
   "execution_count": null,
   "id": "42eaf607-03f0-4328-a2b5-d281a803cad9",
   "metadata": {},
   "outputs": [],
   "source": []
  },
  {
   "cell_type": "code",
   "execution_count": 50,
   "id": "af593b30-6f57-4532-8090-544b1ff1db2b",
   "metadata": {},
   "outputs": [
    {
     "data": {
      "text/plain": [
       "{'mean_correct': 0.9655172228813171,\n",
       " 'total_correct': 28,\n",
       " 'is_correct': array([1., 1., 1., 1., 1., 1., 1., 1., 1., 1., 1., 1., 1., 1., 0., 1., 1.,\n",
       "        1., 1., 1., 1., 1., 1., 1., 1., 1., 1., 1., 1.], dtype=float32),\n",
       " 'output_probs': array([[5.8606020e-06, 7.3286024e-08, 9.1389296e-08, 9.9019510e-01],\n",
       "        [4.6751740e-07, 9.9216992e-01, 3.7255277e-06, 3.1369137e-07],\n",
       "        [9.9833399e-01, 2.7094545e-08, 4.4471209e-09, 8.5933427e-10],\n",
       "        [9.9753451e-01, 6.7145137e-08, 6.2250187e-08, 3.9717882e-08],\n",
       "        [1.4488690e-03, 9.9394351e-01, 8.1123408e-06, 4.4798467e-06],\n",
       "        [1.3650622e-04, 1.1737231e-06, 4.5552977e-05, 9.9140912e-01],\n",
       "        [6.7609551e-05, 1.1535225e-03, 9.8921680e-01, 1.6691655e-06],\n",
       "        [7.2710588e-07, 2.2885798e-09, 5.9943202e-09, 9.9846172e-01],\n",
       "        [1.1759156e-03, 4.4876210e-06, 9.9412763e-01, 1.1222660e-06],\n",
       "        [1.1058750e-05, 3.4316156e-06, 9.9368393e-01, 3.2170198e-07],\n",
       "        [7.0274236e-06, 6.5973200e-07, 9.8619521e-01, 1.8650996e-06],\n",
       "        [1.8095520e-04, 9.9564821e-01, 2.1712470e-04, 1.9152592e-05],\n",
       "        [1.8885556e-06, 3.3391796e-08, 1.7597399e-06, 9.9847406e-01],\n",
       "        [2.8123527e-06, 9.9690264e-01, 7.0987483e-07, 1.0811391e-08],\n",
       "        [9.9021381e-01, 7.9096016e-03, 2.5575930e-06, 5.0241488e-07],\n",
       "        [9.0000009e-07, 9.7285424e-10, 9.6130597e-09, 9.9827230e-01],\n",
       "        [2.4336862e-06, 1.4116642e-06, 9.9127030e-01, 1.7051281e-07],\n",
       "        [8.4361172e-06, 9.9228305e-01, 5.2624782e-06, 2.5678307e-06],\n",
       "        [1.4753921e-05, 3.8204396e-07, 8.0176369e-06, 9.9795246e-01],\n",
       "        [5.8400474e-07, 4.1044807e-08, 1.0249285e-07, 9.5141757e-01],\n",
       "        [9.0923340e-06, 9.9234760e-01, 7.8263503e-07, 8.6300915e-08],\n",
       "        [9.8592000e-07, 2.6148243e-08, 1.2815282e-07, 9.8917782e-01],\n",
       "        [4.3047994e-06, 3.1209390e-07, 1.5860482e-05, 9.9719787e-01],\n",
       "        [1.4109292e-05, 4.9988039e-08, 2.0863739e-07, 9.8242873e-01],\n",
       "        [9.2425978e-07, 9.9807274e-01, 2.6748972e-07, 8.3080431e-09],\n",
       "        [4.1818083e-07, 9.8793435e-01, 2.5603825e-07, 2.3002599e-08],\n",
       "        [1.8025845e-06, 9.9488115e-01, 5.6315730e-07, 4.1998927e-08],\n",
       "        [3.6823383e-04, 1.4486758e-05, 9.9404329e-01, 2.8801662e-06],\n",
       "        [7.0419715e-05, 9.9550664e-01, 2.0554285e-06, 3.8839457e-07]],\n",
       "       dtype=float32),\n",
       " 'actual_answers': array([3, 1, 0, 0, 1, 3, 2, 3, 2, 2, 2, 1, 3, 1, 1, 3, 2, 1, 3, 3, 1, 3,\n",
       "        3, 3, 1, 1, 1, 2, 1]),\n",
       " 'predicted_answers': array([3, 1, 0, 0, 1, 3, 2, 3, 2, 2, 2, 1, 3, 1, 0, 3, 2, 1, 3, 3, 1, 3,\n",
       "        3, 3, 1, 1, 1, 2, 1]),\n",
       " 'predicted_probs': array([0.9901951 , 0.9921699 , 0.998334  , 0.9975345 , 0.9939435 ,\n",
       "        0.9914091 , 0.9892168 , 0.9984617 , 0.99412763, 0.99368393,\n",
       "        0.9861952 , 0.9956482 , 0.99847406, 0.99690264, 0.9902138 ,\n",
       "        0.9982723 , 0.9912703 , 0.99228305, 0.99795246, 0.95141757,\n",
       "        0.9923476 , 0.9891778 , 0.99719787, 0.9824287 , 0.99807274,\n",
       "        0.98793435, 0.99488115, 0.9940433 , 0.99550664], dtype=float32),\n",
       " 'predicted_probs_of_correct_answers': array([0.9901951 , 0.9921699 , 0.998334  , 0.9975345 , 0.9939435 ,\n",
       "        0.9914091 , 0.9892168 , 0.9984617 , 0.99412763, 0.99368393,\n",
       "        0.9861952 , 0.9956482 , 0.99847406, 0.99690264, 0.0079096 ,\n",
       "        0.9982723 , 0.9912703 , 0.99228305, 0.99795246, 0.95141757,\n",
       "        0.9923476 , 0.9891778 , 0.99719787, 0.9824287 , 0.99807274,\n",
       "        0.98793435, 0.99488115, 0.9940433 , 0.99550664], dtype=float32),\n",
       " 'mean_predicted_prob_of_correct_answers': 0.958172082901001,\n",
       " 'mean_predicted_probs': 0.9920446872711182,\n",
       " 'value_counts': {0: 3, 1: 10, 2: 6, 3: 10},\n",
       " 'sum_abcd': array([0.9902011 , 0.99217445, 0.998334  , 0.9975347 , 0.99540496,\n",
       "        0.99159235, 0.9904396 , 0.99846244, 0.9953092 , 0.9936987 ,\n",
       "        0.98620474, 0.99606544, 0.99847776, 0.99690616, 0.99812645,\n",
       "        0.9982732 , 0.99127436, 0.9922993 , 0.9979756 , 0.9514183 ,\n",
       "        0.99235755, 0.98917896, 0.9972184 , 0.9824431 , 0.99807394,\n",
       "        0.987935  , 0.99488354, 0.9944289 , 0.9955795 ], dtype=float32)}"
      ]
     },
     "execution_count": 50,
     "metadata": {},
     "output_type": "execute_result"
    }
   ],
   "source": [
    "geography_metrics"
   ]
  },
  {
   "cell_type": "code",
   "execution_count": null,
   "id": "6d33ac55-f202-4dfd-9cfe-8a4eadc7682f",
   "metadata": {},
   "outputs": [],
   "source": []
  },
  {
   "cell_type": "code",
   "execution_count": null,
   "id": "5c63f197-38b9-4c5e-b860-bc64bd53f249",
   "metadata": {},
   "outputs": [],
   "source": []
  },
  {
   "cell_type": "code",
   "execution_count": 16,
   "id": "658743cb-5f5d-429e-84ef-4b8b42d2fe5c",
   "metadata": {},
   "outputs": [
    {
     "data": {
      "text/plain": [
       "1"
      ]
     },
     "execution_count": 16,
     "metadata": {},
     "output_type": "execute_result"
    }
   ],
   "source": [
    "len(metrics_list)"
   ]
  },
  {
   "cell_type": "code",
   "execution_count": 15,
   "id": "3252ede0-0b92-449b-8b2c-9a69cbb3027c",
   "metadata": {},
   "outputs": [
    {
     "data": {
      "text/plain": [
       "['wmdp-bio',\n",
       " 'high_school_us_history',\n",
       " 'college_computer_science',\n",
       " 'high_school_geography',\n",
       " 'human_aging',\n",
       " 'college_biology']"
      ]
     },
     "execution_count": 15,
     "metadata": {},
     "output_type": "execute_result"
    }
   ],
   "source": [
    "dataset_names"
   ]
  },
  {
   "cell_type": "code",
   "execution_count": null,
   "id": "a0eccae0-8a4f-4b68-a9a6-7b9dc9f80471",
   "metadata": {},
   "outputs": [],
   "source": []
  },
  {
   "cell_type": "code",
   "execution_count": null,
   "id": "5c31d99c-6b38-4814-9ae5-31887beb8cfd",
   "metadata": {},
   "outputs": [],
   "source": []
  }
 ],
 "metadata": {
  "kernelspec": {
   "display_name": "Python 3 (ipykernel)",
   "language": "python",
   "name": "python3"
  },
  "language_info": {
   "codemirror_mode": {
    "name": "ipython",
    "version": 3
   },
   "file_extension": ".py",
   "mimetype": "text/x-python",
   "name": "python",
   "nbconvert_exporter": "python",
   "pygments_lexer": "ipython3",
   "version": "3.11.6"
  }
 },
 "nbformat": 4,
 "nbformat_minor": 5
}
