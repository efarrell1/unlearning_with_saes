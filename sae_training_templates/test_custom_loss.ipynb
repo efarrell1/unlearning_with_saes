{
 "cells": [
  {
   "cell_type": "markdown",
   "id": "a85b5fd9-82c4-41cd-8074-f52610ef2f53",
   "metadata": {},
   "source": [
    "### Runs Gelu-1L for Anthropic's implementation"
   ]
  },
  {
   "cell_type": "code",
   "execution_count": null,
   "id": "8b43f580-8459-4f18-9e4f-8a8748a74000",
   "metadata": {},
   "outputs": [],
   "source": [
    "%load_ext autoreload\n",
    "%autoreload 2\n",
    "\n",
    "import sys\n",
    "sys.path.append(\"../\")\n",
    "\n",
    "from sae.train import ModelTrainer\n",
    "from sae.config import Config"
   ]
  },
  {
   "cell_type": "code",
   "execution_count": 2,
   "id": "d7f2c49f-7f83-4cbe-8aeb-e01f7976fbf2",
   "metadata": {},
   "outputs": [],
   "source": [
    "config_inputs = {\n",
    "    # Model and Hook Point\n",
    "    'model_name': 'gelu-1l',\n",
    "    'hook_point': 'blocks.0.hook_mlp_out',\n",
    "    'hook_point_layer': 0,\n",
    "    'hook_point_head_index': None,\n",
    "    'd_in': 512,\n",
    "\n",
    "    # Dataset\n",
    "    'dataset_path': 'NeelNanda/c4-tokenized-2b',\n",
    "    'is_dataset_tokenized': True,\n",
    "    \n",
    "     # Activation Store Parameters\n",
    "    'n_batches_in_store_buffer': 128,\n",
    "    'store_batch_size': 8,\n",
    "    'train_batch_size': 4096,\n",
    "    'context_size': 1024,\n",
    "\n",
    "    # Outputs\n",
    "    'log_to_wandb': True,\n",
    "    'wandb_project': 'test_gelu_1l',\n",
    "    'wandb_log_frequency': 10,\n",
    "    'eval_frequency': 500,\n",
    "    'sparsity_log_frequency': 5000,\n",
    "    'n_checkpoints': 5,\n",
    "    'checkpoint_path': '../outputs/checkpoints',\n",
    "\n",
    "    # Sparse Autoencoder Parameters\n",
    "    'expansion_factor': 64,\n",
    "    'normalise_initial_decoder_weights': True,\n",
    "    'initial_decoder_norm': 0.1,\n",
    "    'initialise_encoder_to_decoder_transpose': True,\n",
    "\n",
    "    'normalise_w_dec': False,\n",
    "    'clip_grad_norm': True,\n",
    "    'scale_input_norm': False,\n",
    "\n",
    "    # General\n",
    "    'seed': 42,\n",
    "    'total_training_steps': 200000,\n",
    "\n",
    "    # Learning rate parameters\n",
    "    'lr': 5e-5,\n",
    "    'lr_scheduler_name': 'constant',\n",
    "\n",
    "    # Loss Function\n",
    "    'mse_loss_coefficient': 1,\n",
    "    'l1_coefficient': 10,\n",
    "    'weight_l1_by_decoder_norms': True,\n",
    "    'custom_loss': 'l0_anthropic',\n",
    "    'epsilon_l0_approx': 0.5,\n",
    "\n",
    "    'sparse_loss_coefficient': 1e-6,\n",
    "    'min_sparsity_target': 1e-5,\n",
    "    \n",
    "    # Warm up loss coefficients\n",
    "    'l1_warmup': True,\n",
    "    'l1_warmup_steps': 10000,\n",
    "}\n",
    "\n",
    "cfg = Config(**config_inputs)"
   ]
  },
  {
   "cell_type": "code",
   "execution_count": 3,
   "id": "c228b138-28c4-4355-99d1-2ff8ac3b9f6d",
   "metadata": {},
   "outputs": [
    {
     "name": "stdout",
     "output_type": "stream",
     "text": [
      "Loaded pretrained model gelu-1l into HookedTransformer\n",
      "Moving model to device:  cuda\n",
      "creating activation store\n"
     ]
    },
    {
     "data": {
      "application/vnd.jupyter.widget-view+json": {
       "model_id": "a80221fd450140c482fdcc80f08a19f9",
       "version_major": 2,
       "version_minor": 0
      },
      "text/plain": [
       "Resolving data files:   0%|          | 0/23 [00:00<?, ?it/s]"
      ]
     },
     "metadata": {},
     "output_type": "display_data"
    },
    {
     "name": "stdout",
     "output_type": "stream",
     "text": [
      "creating data loader\n",
      "buffer\n",
      "dataloader\n",
      "creating sae\n",
      "creating wanbd\n"
     ]
    },
    {
     "name": "stderr",
     "output_type": "stream",
     "text": [
      "\u001b[34m\u001b[1mwandb\u001b[0m: Currently logged in as: \u001b[33meoin\u001b[0m. Use \u001b[1m`wandb login --relogin`\u001b[0m to force relogin\n"
     ]
    },
    {
     "data": {
      "text/html": [
       "wandb version 0.17.0 is available!  To upgrade, please run:\n",
       " $ pip install wandb --upgrade"
      ],
      "text/plain": [
       "<IPython.core.display.HTML object>"
      ]
     },
     "metadata": {},
     "output_type": "display_data"
    },
    {
     "data": {
      "text/html": [
       "Tracking run with wandb version 0.16.0"
      ],
      "text/plain": [
       "<IPython.core.display.HTML object>"
      ]
     },
     "metadata": {},
     "output_type": "display_data"
    },
    {
     "data": {
      "text/html": [
       "Run data is saved locally in <code>/notebooks/sparse_autoencoder/notebook_templates/wandb/run-20240512_004422-of58mylq</code>"
      ],
      "text/plain": [
       "<IPython.core.display.HTML object>"
      ]
     },
     "metadata": {},
     "output_type": "display_data"
    },
    {
     "data": {
      "text/html": [
       "Syncing run <strong><a href='https://wandb.ai/eoin/test_gelu_1l/runs/of58mylq' target=\"_blank\">dandy-valley-59</a></strong> to <a href='https://wandb.ai/eoin/test_gelu_1l' target=\"_blank\">Weights & Biases</a> (<a href='https://wandb.me/run' target=\"_blank\">docs</a>)<br/>"
      ],
      "text/plain": [
       "<IPython.core.display.HTML object>"
      ]
     },
     "metadata": {},
     "output_type": "display_data"
    },
    {
     "data": {
      "text/html": [
       " View project at <a href='https://wandb.ai/eoin/test_gelu_1l' target=\"_blank\">https://wandb.ai/eoin/test_gelu_1l</a>"
      ],
      "text/plain": [
       "<IPython.core.display.HTML object>"
      ]
     },
     "metadata": {},
     "output_type": "display_data"
    },
    {
     "data": {
      "text/html": [
       " View run at <a href='https://wandb.ai/eoin/test_gelu_1l/runs/of58mylq' target=\"_blank\">https://wandb.ai/eoin/test_gelu_1l/runs/of58mylq</a>"
      ],
      "text/plain": [
       "<IPython.core.display.HTML object>"
      ]
     },
     "metadata": {},
     "output_type": "display_data"
    },
    {
     "data": {
      "application/vnd.jupyter.widget-view+json": {
       "model_id": "8dabcba28f23494480ce306047ff361f",
       "version_major": 2,
       "version_minor": 0
      },
      "text/plain": [
       "  0%|          | 0/200000 [00:00<?, ?it/s]"
      ]
     },
     "metadata": {},
     "output_type": "display_data"
    },
    {
     "name": "stderr",
     "output_type": "stream",
     "text": [
      "\n",
      "KeyboardInterrupt\n",
      "\n"
     ]
    }
   ],
   "source": [
    "mod = ModelTrainer(cfg)\n",
    "mod.setup()\n",
    "mod.train()"
   ]
  },
  {
   "cell_type": "code",
   "execution_count": null,
   "id": "17f05827-fc8a-40f7-88f6-b64f51b8ac04",
   "metadata": {},
   "outputs": [],
   "source": []
  },
  {
   "cell_type": "code",
   "execution_count": null,
   "id": "fa9d3641-d3dc-402f-a63f-611ea8a37e6e",
   "metadata": {},
   "outputs": [],
   "source": []
  }
 ],
 "metadata": {
  "kernelspec": {
   "display_name": "Python 3 (ipykernel)",
   "language": "python",
   "name": "python3"
  },
  "language_info": {
   "codemirror_mode": {
    "name": "ipython",
    "version": 3
   },
   "file_extension": ".py",
   "mimetype": "text/x-python",
   "name": "python",
   "nbconvert_exporter": "python",
   "pygments_lexer": "ipython3",
   "version": "3.11.6"
  }
 },
 "nbformat": 4,
 "nbformat_minor": 5
}
