{
 "cells": [
  {
   "cell_type": "code",
   "execution_count": 1,
   "metadata": {},
   "outputs": [],
   "source": [
    "%load_ext autoreload\n",
    "%autoreload 2\n",
    "\n",
    "import sys\n",
    "sys.path.append(\"../\")\n",
    "\n",
    "from sae.train import ModelTrainer\n",
    "from sae.config import Config\n",
    "from sae.activation_store import cache_activations\n",
    "from sae.config import CachedActivationsConfig\n",
    "from dataclasses import asdict\n",
    "import torch"
   ]
  },
  {
   "cell_type": "code",
   "execution_count": 3,
   "metadata": {},
   "outputs": [
    {
     "name": "stdout",
     "output_type": "stream",
     "text": [
      "Activation Store\n",
      "Total buffers: 7\n",
      "Tokens per batch: 2.0K\n",
      "Batches per buffer: 8\n",
      "Tokens per buffer: 16.4K\n",
      "\n",
      "Disk size per buffer: 167.8Mb\n",
      "Total disk size: 1.2Gb\n",
      "\n"
     ]
    }
   ],
   "source": [
    "cfg_inputs = {\n",
    "    # Model\n",
    "    'model_name': 'EleutherAI/pythia-2.8b-deduped',\n",
    "    'hook_point': 'blocks.24.hook_resid_pre',\n",
    "    'hook_point_layer': 24,\n",
    "    'hook_point_head_index': None,\n",
    "    'd_in': 2560,\n",
    " \n",
    "\n",
    "    # Dataset\n",
    "    'dataset_path': 'Skylion007/openwebtext',\n",
    "    'is_dataset_tokenized': False,\n",
    "    \n",
    "    'context_size': 256,\n",
    "    'cached_activations_path': '/workspace/cached_activations',\n",
    " \n",
    "    # Activation Store Parameters\n",
    "    'n_batches_in_store_buffer': 128,\n",
    "    'total_training_tokens': 1000000,\n",
    "    'store_batch_size': 8,\n",
    "\n",
    "    \n",
    "    # Cache activations\n",
    "    'shuffle_every_n_buffers': 10,\n",
    "    'n_shuffles_with_last_section': 10,\n",
    "    'n_shuffles_in_entire_dir': 10,\n",
    "    'n_shuffles_final': 2,\n",
    " \n",
    "    # Misc\n",
    "    'device': 'cuda',\n",
    "    'seed': 42,\n",
    "    'dtype': torch.float32,\n",
    "    'use_cached_activations': False,\n",
    " \n",
    "    'log_to_wandb': False\n",
    " }\n",
    "\n",
    "cfg = CachedActivationsConfig(**cfg_inputs)"
   ]
  },
  {
   "cell_type": "code",
   "execution_count": 4,
   "metadata": {},
   "outputs": [
    {
     "name": "stderr",
     "output_type": "stream",
     "text": [
      "/root/miniconda3/envs/arena-env/lib/python3.11/site-packages/huggingface_hub/file_download.py:1132: FutureWarning: `resume_download` is deprecated and will be removed in version 1.0.0. Downloads always resume when possible. If you want to force a new download, use `force_download=True`.\n",
      "  warnings.warn(\n"
     ]
    },
    {
     "data": {
      "application/vnd.jupyter.widget-view+json": {
       "model_id": "99685964711c48ae80440368063bb591",
       "version_major": 2,
       "version_minor": 0
      },
      "text/plain": [
       "model.safetensors:  26%|##5       | 1.46G/5.68G [00:00<?, ?B/s]"
      ]
     },
     "metadata": {},
     "output_type": "display_data"
    },
    {
     "data": {
      "application/vnd.jupyter.widget-view+json": {
       "model_id": "592caf1cd252434e92512e951f4ede0b",
       "version_major": 2,
       "version_minor": 0
      },
      "text/plain": [
       "tokenizer_config.json:   0%|          | 0.00/396 [00:00<?, ?B/s]"
      ]
     },
     "metadata": {},
     "output_type": "display_data"
    },
    {
     "data": {
      "application/vnd.jupyter.widget-view+json": {
       "model_id": "ba4e3978853d40a8ad2a3704cca22aca",
       "version_major": 2,
       "version_minor": 0
      },
      "text/plain": [
       "tokenizer.json:   0%|          | 0.00/2.11M [00:00<?, ?B/s]"
      ]
     },
     "metadata": {},
     "output_type": "display_data"
    },
    {
     "data": {
      "application/vnd.jupyter.widget-view+json": {
       "model_id": "48979e82229a409ca5c6dd261fe5e3c7",
       "version_major": 2,
       "version_minor": 0
      },
      "text/plain": [
       "special_tokens_map.json:   0%|          | 0.00/99.0 [00:00<?, ?B/s]"
      ]
     },
     "metadata": {},
     "output_type": "display_data"
    },
    {
     "name": "stderr",
     "output_type": "stream",
     "text": [
      "Special tokens have been added in the vocabulary, make sure the associated word embeddings are fine-tuned or trained.\n"
     ]
    },
    {
     "name": "stdout",
     "output_type": "stream",
     "text": [
      "Loaded pretrained model EleutherAI/pythia-2.8b-deduped into HookedTransformer\n",
      "Moving model to device:  cuda\n"
     ]
    },
    {
     "name": "stderr",
     "output_type": "stream",
     "text": [
      "/root/miniconda3/envs/arena-env/lib/python3.11/site-packages/datasets/load.py:1486: FutureWarning: The repository for Skylion007/openwebtext contains custom code which must be executed to correctly load the dataset. You can inspect the repository content at https://hf.co/datasets/Skylion007/openwebtext\n",
      "You can avoid this message in future by passing the argument `trust_remote_code=True`.\n",
      "Passing `trust_remote_code=True` will be mandatory to load this dataset from the next major release of `datasets`.\n",
      "  warnings.warn(\n"
     ]
    },
    {
     "data": {
      "application/vnd.jupyter.widget-view+json": {
       "model_id": "1c2c8659f8834229909429562c10caa1",
       "version_major": 2,
       "version_minor": 0
      },
      "text/plain": [
       "Downloading builder script:   0%|          | 0.00/2.73k [00:00<?, ?B/s]"
      ]
     },
     "metadata": {},
     "output_type": "display_data"
    },
    {
     "data": {
      "application/vnd.jupyter.widget-view+json": {
       "model_id": "3aea0da7b18d439aa1a537efcd1f0a73",
       "version_major": 2,
       "version_minor": 0
      },
      "text/plain": [
       "Downloading readme:   0%|          | 0.00/7.33k [00:00<?, ?B/s]"
      ]
     },
     "metadata": {},
     "output_type": "display_data"
    },
    {
     "name": "stdout",
     "output_type": "stream",
     "text": [
      "Started caching 100000 activations\n"
     ]
    },
    {
     "data": {
      "application/vnd.jupyter.widget-view+json": {
       "model_id": "81412c3da04d4459b1a4e51289400f25",
       "version_major": 2,
       "version_minor": 0
      },
      "text/plain": [
       "Caching activations:   0%|          | 0/7 [00:00<?, ?it/s]"
      ]
     },
     "metadata": {},
     "output_type": "display_data"
    },
    {
     "name": "stdout",
     "output_type": "stream",
     "text": [
      "buffer 0\n",
      "/workspace/cached_activations/a0.pt\n",
      "buffer 1\n",
      "/workspace/cached_activations/a1.pt\n",
      "buffer 2\n",
      "/workspace/cached_activations/a2.pt\n",
      "buffer 3\n",
      "/workspace/cached_activations/a3.pt\n",
      "buffer 4\n",
      "/workspace/cached_activations/a4.pt\n",
      "buffer 5\n",
      "/workspace/cached_activations/a5.pt\n",
      "buffer 6\n",
      "/workspace/cached_activations/a6.pt\n"
     ]
    },
    {
     "data": {
      "application/vnd.jupyter.widget-view+json": {
       "model_id": "9b4b9c10332f4c8c862c66aad3ca33c0",
       "version_major": 2,
       "version_minor": 0
      },
      "text/plain": [
       "Final shuffling:   0%|          | 0/2 [00:00<?, ?it/s]"
      ]
     },
     "metadata": {},
     "output_type": "display_data"
    }
   ],
   "source": [
    "cache_activations(cfg, overwrite=True)"
   ]
  },
  {
   "cell_type": "code",
   "execution_count": null,
   "metadata": {},
   "outputs": [],
   "source": []
  }
 ],
 "metadata": {
  "kernelspec": {
   "display_name": "arena-env",
   "language": "python",
   "name": "python3"
  },
  "language_info": {
   "codemirror_mode": {
    "name": "ipython",
    "version": 3
   },
   "file_extension": ".py",
   "mimetype": "text/x-python",
   "name": "python",
   "nbconvert_exporter": "python",
   "pygments_lexer": "ipython3",
   "version": "3.11.9"
  }
 },
 "nbformat": 4,
 "nbformat_minor": 5
}
