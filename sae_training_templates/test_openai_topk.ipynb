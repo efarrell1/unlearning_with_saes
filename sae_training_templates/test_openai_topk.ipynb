{
 "cells": [
  {
   "cell_type": "code",
   "execution_count": 1,
   "id": "070ec0d2-feca-4f98-a9bb-e3704d33b167",
   "metadata": {},
   "outputs": [],
   "source": [
    "%load_ext autoreload\n",
    "%autoreload 2\n",
    "\n",
    "import sys\n",
    "sys.path.append(\"../\")\n",
    "\n",
    "from sae.train import ModelTrainer\n",
    "from sae.config import Config "
   ]
  },
  {
   "cell_type": "code",
   "execution_count": 2,
   "id": "a8e07153-49cd-40e8-aaab-3fe387f21c58",
   "metadata": {},
   "outputs": [],
   "source": [
    "config_inputs = {\n",
    "    # Model and Hook Point\n",
    "    'model_name': 'gpt2-small',\n",
    "    'hook_point': 'blocks.1.hook_resid_pre',\n",
    "    'hook_point_layer': 1,\n",
    "    'hook_point_head_index': None,\n",
    "    'd_in': 768,\n",
    "\n",
    "    # Dataset\n",
    "    'dataset': 'Skylion007/openwebtext',\n",
    "    'is_dataset_tokenized': False,\n",
    "    \n",
    "     # Activation Store Parameters\n",
    "    'n_batches_in_store_buffer': 64,\n",
    "    'store_batch_size': 8,\n",
    "    'train_batch_size': 4096,\n",
    "    'context_size': 128,\n",
    "\n",
    "    # Outputs\n",
    "    'log_to_wandb': True,\n",
    "    'wandb_project': 'test_gpt2_small',\n",
    "    'wandb_log_frequency': 10,\n",
    "    'eval_frequency': 500,\n",
    "    'sparsity_log_frequency': 5000,\n",
    "    'n_checkpoints': 5,\n",
    "    'checkpoint_path': '../outputs/checkpoints',\n",
    "\n",
    "    # Sparse Autoencoder Parameters\n",
    "    'expansion_factor': 32,\n",
    "    'normalise_w_dec': True,\n",
    "    'clip_grad_norm': True,\n",
    "    'scale_input_norm': False,\n",
    "    'initialise_encoder_to_decoder_transpose': True,\n",
    "    'clip_grad_norm': True,\n",
    "\n",
    "    'activation_function': 'topk',\n",
    "\n",
    "    # General\n",
    "    'seed': 42,\n",
    "    'total_training_steps': 200000,\n",
    "\n",
    "    # Learning rate parameters\n",
    "    'lr': 0.00004,\n",
    "    'lr_scheduler_name': 'constant_with_warmup',\n",
    "    'lr_warm_up_steps': 2000,\n",
    "\n",
    "    # Loss Function\n",
    "    'mse_loss_coefficient': 1,\n",
    "    'mse_loss_type': 'centered',\n",
    "    'l0_coefficient': 0,\n",
    "    'epsilon_l0_approx': 0.2,\n",
    "    \n",
    "    'sparse_loss_coefficient': 1e-4,\n",
    "    'min_sparsity_target': 1e-5,\n",
    "\n",
    "}\n",
    "\n",
    "cfg = Config(**config_inputs)\n"
   ]
  },
  {
   "cell_type": "code",
   "execution_count": null,
   "id": "38015902-fee1-4bb6-a651-eeef34bb5b9d",
   "metadata": {},
   "outputs": [
    {
     "name": "stdout",
     "output_type": "stream",
     "text": [
      "Loaded pretrained model gpt2-small into HookedTransformer\n",
      "Moving model to device:  cuda\n",
      "creating activation store\n",
      "creating data loader\n",
      "buffer\n",
      "dataloader\n",
      "creating sae\n",
      "creating wanbd\n"
     ]
    },
    {
     "name": "stderr",
     "output_type": "stream",
     "text": [
      "\u001b[34m\u001b[1mwandb\u001b[0m: Currently logged in as: \u001b[33meoin\u001b[0m. Use \u001b[1m`wandb login --relogin`\u001b[0m to force relogin\n"
     ]
    },
    {
     "data": {
      "text/html": [
       "wandb version 0.17.1 is available!  To upgrade, please run:\n",
       " $ pip install wandb --upgrade"
      ],
      "text/plain": [
       "<IPython.core.display.HTML object>"
      ]
     },
     "metadata": {},
     "output_type": "display_data"
    },
    {
     "data": {
      "text/html": [
       "Tracking run with wandb version 0.16.0"
      ],
      "text/plain": [
       "<IPython.core.display.HTML object>"
      ]
     },
     "metadata": {},
     "output_type": "display_data"
    },
    {
     "data": {
      "text/html": [
       "Run data is saved locally in <code>/notebooks/unlearning/sae_training_templates/wandb/run-20240607_045816-ertohv82</code>"
      ],
      "text/plain": [
       "<IPython.core.display.HTML object>"
      ]
     },
     "metadata": {},
     "output_type": "display_data"
    },
    {
     "data": {
      "text/html": [
       "Syncing run <strong><a href='https://wandb.ai/eoin/test_gpt2_small/runs/ertohv82' target=\"_blank\">astral-planet-1229</a></strong> to <a href='https://wandb.ai/eoin/test_gpt2_small' target=\"_blank\">Weights & Biases</a> (<a href='https://wandb.me/run' target=\"_blank\">docs</a>)<br/>"
      ],
      "text/plain": [
       "<IPython.core.display.HTML object>"
      ]
     },
     "metadata": {},
     "output_type": "display_data"
    },
    {
     "data": {
      "text/html": [
       " View project at <a href='https://wandb.ai/eoin/test_gpt2_small' target=\"_blank\">https://wandb.ai/eoin/test_gpt2_small</a>"
      ],
      "text/plain": [
       "<IPython.core.display.HTML object>"
      ]
     },
     "metadata": {},
     "output_type": "display_data"
    },
    {
     "data": {
      "text/html": [
       " View run at <a href='https://wandb.ai/eoin/test_gpt2_small/runs/ertohv82' target=\"_blank\">https://wandb.ai/eoin/test_gpt2_small/runs/ertohv82</a>"
      ],
      "text/plain": [
       "<IPython.core.display.HTML object>"
      ]
     },
     "metadata": {},
     "output_type": "display_data"
    },
    {
     "data": {
      "application/vnd.jupyter.widget-view+json": {
       "model_id": "77c13342781e43d1a1d2d456ace99895",
       "version_major": 2,
       "version_minor": 0
      },
      "text/plain": [
       "  0%|          | 0/200000 [00:00<?, ?it/s]"
      ]
     },
     "metadata": {},
     "output_type": "display_data"
    }
   ],
   "source": [
    "mod = ModelTrainer(cfg)\n",
    "mod.setup()\n",
    "mod.train()"
   ]
  },
  {
   "cell_type": "code",
   "execution_count": null,
   "id": "a80d36de-e2ae-4aa0-ab47-5191a254458d",
   "metadata": {},
   "outputs": [],
   "source": []
  }
 ],
 "metadata": {
  "kernelspec": {
   "display_name": "Python 3 (ipykernel)",
   "language": "python",
   "name": "python3"
  },
  "language_info": {
   "codemirror_mode": {
    "name": "ipython",
    "version": 3
   },
   "file_extension": ".py",
   "mimetype": "text/x-python",
   "name": "python",
   "nbconvert_exporter": "python",
   "pygments_lexer": "ipython3",
   "version": "3.11.6"
  }
 },
 "nbformat": 4,
 "nbformat_minor": 5
}
