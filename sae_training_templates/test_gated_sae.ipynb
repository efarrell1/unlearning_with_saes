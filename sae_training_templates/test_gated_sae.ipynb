{
 "cells": [
  {
   "cell_type": "markdown",
   "id": "5e99a31b-7ab3-4f74-94bc-9fed977cab3a",
   "metadata": {},
   "source": [
    "### Runs Gelu-1L for Gated SAEs with resampling"
   ]
  },
  {
   "cell_type": "code",
   "execution_count": null,
   "id": "c5a8b12d-37f3-47ce-b547-8e8643d37a2d",
   "metadata": {},
   "outputs": [],
   "source": [
    "%load_ext autoreload\n",
    "%autoreload 2\n",
    "\n",
    "import sys\n",
    "sys.path.append(\"../\")\n",
    "\n",
    "from sae.train import ModelTrainer\n",
    "from sae.config import Config "
   ]
  },
  {
   "cell_type": "code",
   "execution_count": null,
   "id": "d6c6191c-7cd2-46f8-be91-980b5538543a",
   "metadata": {},
   "outputs": [],
   "source": [
    "config_inputs = {\n",
    "    # Model and Hook Point\n",
    "    'model_name': 'gelu-1l',\n",
    "    'hook_point': 'blocks.0.hook_mlp_out',\n",
    "    'hook_point_layer': 0,\n",
    "    'hook_point_head_index': None,\n",
    "    'd_in': 512,\n",
    "\n",
    "    # Dataset\n",
    "    'dataset_path': 'NeelNanda/c4-tokenized-2b',\n",
    "    'is_dataset_tokenized': True,\n",
    "    \n",
    "     # Activation Store Parameters\n",
    "    'n_batches_in_store_buffer': 128,\n",
    "    'store_batch_size': 4,\n",
    "    'train_batch_size': 4096,\n",
    "    'context_size': 1024,\n",
    "\n",
    "    # Outputs\n",
    "    'log_to_wandb': True,\n",
    "    'wandb_project': 'test_gelu_1l',\n",
    "    'wandb_log_frequency': 10,\n",
    "    'eval_frequency': 500,\n",
    "    'sparsity_log_frequency': 5000,\n",
    "    'n_checkpoints': 5,\n",
    "    'checkpoint_path': '../outputs/checkpoints',\n",
    "\n",
    "    # Sparse Autoencoder Parameters\n",
    "    'expansion_factor': 64,\n",
    "    'subtract_b_dec_from_inputs': True,\n",
    "    'use_gated_sparse_autoencoder': True,\n",
    "\n",
    "    'normalise_w_dec': True,\n",
    "    'clip_grad_norm': False,\n",
    "\n",
    "    # Resampling\n",
    "    'feature_resampling_method': 'anthropic',\n",
    "    'resample_frequency': 10000,\n",
    "    'max_resample_step': 40001,\n",
    "    'resample_batches': 128,\n",
    "    'feature_reinit_scale': 0.2,\n",
    "    'min_sparsity_for_resample': 1e-6,\n",
    "\n",
    "    # General\n",
    "    'seed': 42,\n",
    "    'total_training_steps': 200000,\n",
    "\n",
    "    # Learning rate parameters\n",
    "    'lr': 3e-4,\n",
    "    'lr_scheduler_name': 'constant',\n",
    "\n",
    "    # Loss Function\n",
    "    'mse_loss_coefficient': 1,\n",
    "    'l1_coefficient': 0.005,\n",
    "\n",
    "}\n",
    "\n",
    "cfg = Config(**config_inputs)"
   ]
  },
  {
   "cell_type": "code",
   "execution_count": null,
   "id": "ab7fa0dc-4132-44cf-8662-4651003666d8",
   "metadata": {},
   "outputs": [],
   "source": [
    "mod = ModelTrainer(cfg)\n",
    "mod.setup()\n",
    "mod.train()"
   ]
  },
  {
   "cell_type": "code",
   "execution_count": null,
   "id": "596daed5-1ccf-4a5e-9a2a-4ce5b40c278f",
   "metadata": {},
   "outputs": [],
   "source": []
  },
  {
   "cell_type": "code",
   "execution_count": null,
   "id": "ff3004aa-0777-49b4-a90d-930e6efaf682",
   "metadata": {},
   "outputs": [],
   "source": []
  }
 ],
 "metadata": {
  "kernelspec": {
   "display_name": "Python 3 (ipykernel)",
   "language": "python",
   "name": "python3"
  },
  "language_info": {
   "codemirror_mode": {
    "name": "ipython",
    "version": 3
   },
   "file_extension": ".py",
   "mimetype": "text/x-python",
   "name": "python",
   "nbconvert_exporter": "python",
   "pygments_lexer": "ipython3",
   "version": "3.11.6"
  }
 },
 "nbformat": 4,
 "nbformat_minor": 5
}
