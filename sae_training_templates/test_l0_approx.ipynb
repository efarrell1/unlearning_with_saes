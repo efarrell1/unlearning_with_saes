{
 "cells": [
  {
   "cell_type": "markdown",
   "id": "5e99a31b-7ab3-4f74-94bc-9fed977cab3a",
   "metadata": {},
   "source": [
    "### Runs GPT2-small residual stream with L0_approx"
   ]
  },
  {
   "cell_type": "code",
   "execution_count": 1,
   "id": "c5a8b12d-37f3-47ce-b547-8e8643d37a2d",
   "metadata": {},
   "outputs": [],
   "source": [
    "%load_ext autoreload\n",
    "%autoreload 2\n",
    "\n",
    "import sys\n",
    "sys.path.append(\"../\")\n",
    "\n",
    "from sae.train import ModelTrainer\n",
    "from sae.config import Config "
   ]
  },
  {
   "cell_type": "code",
   "execution_count": null,
   "id": "d6c6191c-7cd2-46f8-be91-980b5538543a",
   "metadata": {},
   "outputs": [],
   "source": [
    "config_inputs = {\n",
    "    # Model and Hook Point\n",
    "    'model_name': 'gpt2-small',\n",
    "    'hook_point': 'blocks.1.hook_resid_pre',\n",
    "    'hook_point_layer': 1,\n",
    "    'hook_point_head_index': None,\n",
    "    'd_in': 768,\n",
    "\n",
    "    # Dataset\n",
    "    'dataset_path': 'Skylion007/openwebtext',\n",
    "    'is_dataset_tokenized': False,\n",
    "    \n",
    "     # Activation Store Parameters\n",
    "    'n_batches_in_store_buffer': 64,\n",
    "    'store_batch_size': 8,\n",
    "    'train_batch_size': 4096,\n",
    "    'context_size': 128,\n",
    "\n",
    "    # Outputs\n",
    "    'log_to_wandb': True,\n",
    "    'wandb_project': 'test_gpt2_small',\n",
    "    'wandb_log_frequency': 10,\n",
    "    'eval_frequency': 500,\n",
    "    'sparsity_log_frequency': 5000,\n",
    "    'n_checkpoints': 5,\n",
    "    'checkpoint_path': '../outputs/checkpoints',\n",
    "\n",
    "    # Sparse Autoencoder Parameters\n",
    "    'expansion_factor': 32,\n",
    "    'normalise_w_dec': True,\n",
    "    'clip_grad_norm': False,\n",
    "    'scale_input_norm': False,\n",
    "\n",
    "    # General\n",
    "    'seed': 42,\n",
    "    'total_training_steps': 200000,\n",
    "\n",
    "    # Learning rate parameters\n",
    "    'lr': 0.0004,\n",
    "    'lr_scheduler_name': 'constant',\n",
    "\n",
    "    # Loss Function\n",
    "    'mse_loss_coefficient': 1,\n",
    "    'mse_loss_type': 'centered',\n",
    "    'l0_coefficient': 7e-5,\n",
    "    'epsilon_l0_approx': 0.2,\n",
    "    \n",
    "    'sparse_loss_coefficient': 1e-6,\n",
    "    'min_sparsity_target': 1e-5,\n",
    "\n",
    "}\n",
    "\n",
    "cfg = Config(**config_inputs)"
   ]
  },
  {
   "cell_type": "code",
   "execution_count": 4,
   "id": "ab7fa0dc-4132-44cf-8662-4651003666d8",
   "metadata": {},
   "outputs": [
    {
     "name": "stdout",
     "output_type": "stream",
     "text": [
      "Loaded pretrained model gpt2-small into HookedTransformer\n",
      "Moving model to device:  cuda\n",
      "creating activation store\n",
      "creating data loader\n",
      "buffer\n",
      "dataloader\n",
      "creating sae\n",
      "creating wanbd\n"
     ]
    },
    {
     "name": "stderr",
     "output_type": "stream",
     "text": [
      "\u001b[34m\u001b[1mwandb\u001b[0m: Currently logged in as: \u001b[33meoin\u001b[0m. Use \u001b[1m`wandb login --relogin`\u001b[0m to force relogin\n"
     ]
    },
    {
     "data": {
      "text/html": [
       "wandb version 0.17.0 is available!  To upgrade, please run:\n",
       " $ pip install wandb --upgrade"
      ],
      "text/plain": [
       "<IPython.core.display.HTML object>"
      ]
     },
     "metadata": {},
     "output_type": "display_data"
    },
    {
     "data": {
      "text/html": [
       "Tracking run with wandb version 0.16.0"
      ],
      "text/plain": [
       "<IPython.core.display.HTML object>"
      ]
     },
     "metadata": {},
     "output_type": "display_data"
    },
    {
     "data": {
      "text/html": [
       "Run data is saved locally in <code>/notebooks/sparse_autoencoder/notebook_templates/wandb/run-20240508_120246-ugexphup</code>"
      ],
      "text/plain": [
       "<IPython.core.display.HTML object>"
      ]
     },
     "metadata": {},
     "output_type": "display_data"
    },
    {
     "data": {
      "text/html": [
       "Syncing run <strong><a href='https://wandb.ai/eoin/test_gpt2_small/runs/ugexphup' target=\"_blank\">clear-blaze-1070</a></strong> to <a href='https://wandb.ai/eoin/test_gpt2_small' target=\"_blank\">Weights & Biases</a> (<a href='https://wandb.me/run' target=\"_blank\">docs</a>)<br/>"
      ],
      "text/plain": [
       "<IPython.core.display.HTML object>"
      ]
     },
     "metadata": {},
     "output_type": "display_data"
    },
    {
     "data": {
      "text/html": [
       " View project at <a href='https://wandb.ai/eoin/test_gpt2_small' target=\"_blank\">https://wandb.ai/eoin/test_gpt2_small</a>"
      ],
      "text/plain": [
       "<IPython.core.display.HTML object>"
      ]
     },
     "metadata": {},
     "output_type": "display_data"
    },
    {
     "data": {
      "text/html": [
       " View run at <a href='https://wandb.ai/eoin/test_gpt2_small/runs/ugexphup' target=\"_blank\">https://wandb.ai/eoin/test_gpt2_small/runs/ugexphup</a>"
      ],
      "text/plain": [
       "<IPython.core.display.HTML object>"
      ]
     },
     "metadata": {},
     "output_type": "display_data"
    },
    {
     "data": {
      "application/vnd.jupyter.widget-view+json": {
       "model_id": "7830ab50dbe547af8e4f105bf1a7481c",
       "version_major": 2,
       "version_minor": 0
      },
      "text/plain": [
       "  0%|          | 0/200000 [00:00<?, ?it/s]"
      ]
     },
     "metadata": {},
     "output_type": "display_data"
    },
    {
     "name": "stderr",
     "output_type": "stream",
     "text": [
      "\n",
      "KeyboardInterrupt\n",
      "\n"
     ]
    }
   ],
   "source": [
    "mod = ModelTrainer(cfg)\n",
    "mod.setup()\n",
    "mod.train()"
   ]
  },
  {
   "cell_type": "code",
   "execution_count": null,
   "id": "596daed5-1ccf-4a5e-9a2a-4ce5b40c278f",
   "metadata": {},
   "outputs": [],
   "source": []
  }
 ],
 "metadata": {
  "kernelspec": {
   "display_name": "Python 3 (ipykernel)",
   "language": "python",
   "name": "python3"
  },
  "language_info": {
   "codemirror_mode": {
    "name": "ipython",
    "version": 3
   },
   "file_extension": ".py",
   "mimetype": "text/x-python",
   "name": "python",
   "nbconvert_exporter": "python",
   "pygments_lexer": "ipython3",
   "version": "3.11.6"
  }
 },
 "nbformat": 4,
 "nbformat_minor": 5
}
