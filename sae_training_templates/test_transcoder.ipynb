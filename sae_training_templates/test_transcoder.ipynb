{
 "cells": [
  {
   "cell_type": "markdown",
   "id": "6da331b6-6f5b-4e76-86bb-edba1c0537c3",
   "metadata": {},
   "source": [
    "### Test Transcoder for Gelu-1L with Anthropic's implementation"
   ]
  },
  {
   "cell_type": "code",
   "execution_count": 1,
   "id": "368ef15a-c13d-41dc-b97b-356142a9146a",
   "metadata": {},
   "outputs": [],
   "source": [
    "%load_ext autoreload\n",
    "%autoreload 2\n",
    "\n",
    "import sys\n",
    "sys.path.append(\"../\")\n",
    "\n",
    "from sae.train import ModelTrainer\n",
    "from sae.config import Config \n",
    "from sae.activation_store import ActivationsStore, DoubleActivationStore\n"
   ]
  },
  {
   "cell_type": "code",
   "execution_count": 2,
   "id": "68027916-e343-4ade-a9eb-e7f616847a6a",
   "metadata": {},
   "outputs": [],
   "source": [
    "config_inputs = {\n",
    "    # Model and Hook Point\n",
    "    \"model_name\": \"gpt2-small\",\n",
    "    \"hook_point\": \"blocks.8.ln2.hook_normalized\",\n",
    "    \"hook_point_layer\": 8,\n",
    "    \"hook_point_head_index\": None,\n",
    "    \"d_in\": 768,\n",
    "\n",
    "    'different_output': True,\n",
    "    'hook_point_output': 'blocks.8.hook_mlp_out',\n",
    "    'hook_point_layer_output': 8,\n",
    "    'hook_point_head_index_output': None,\n",
    "    'd_out': 768,\n",
    "\n",
    "    # Dataset\n",
    "    'dataset_path': 'Skylion007/openwebtext',\n",
    "    'is_dataset_tokenized': False,\n",
    "    \n",
    "     # Activation Store Parameters\n",
    "    'n_batches_in_store_buffer': 128,\n",
    "    'store_batch_size': 16,\n",
    "    'train_batch_size': 4096,\n",
    "    'context_size': 128,\n",
    "\n",
    "    # Outputs\n",
    "    'log_to_wandb': True,\n",
    "    'wandb_project': 'gpt2-small-transcoders',\n",
    "    'wandb_log_frequency': 10,\n",
    "    'eval_frequency': 500,\n",
    "    'sparsity_log_frequency': 5000,\n",
    "    'n_checkpoints': 5,\n",
    "    'checkpoint_path': '../outputs/checkpoints',\n",
    "\n",
    "    # Sparse Autoencoder Parameters\n",
    "    'expansion_factor': 32,\n",
    "    'normalise_w_dec': True,\n",
    "    'subtract_b_dec_from_inputs': True,\n",
    "    'b_dec_init_method': 'mean',\n",
    "\n",
    "    # General\n",
    "    'seed': 42,\n",
    "    'total_training_steps': 200000,\n",
    "\n",
    "    # Learning rate parameters\n",
    "    'lr': 0.0004,\n",
    "    'lr_scheduler_name': 'constant_with_warmup',\n",
    "    'lr_warm_up_steps': 5000,\n",
    "    \n",
    "    # Loss Function\n",
    "    'mse_loss_coefficient': 1,\n",
    "    'mse_loss_type': 'standard',\n",
    "    'l1_coefficient': 5,\n",
    "    # 'l0_coefficient': 0, #7e-5,\n",
    "    # 'epsilon_l0_approx': 0.2,\n",
    "    \n",
    "    # 'sparse_loss_coefficient': 0, #1e-6,\n",
    "    # 'min_sparsity_target': 1e-5,\n",
    "\n",
    "}\n",
    "\n",
    "cfg = Config(**config_inputs)"
   ]
  },
  {
   "cell_type": "code",
   "execution_count": null,
   "id": "338a842a-2ab1-4062-873e-44375d18f806",
   "metadata": {},
   "outputs": [
    {
     "name": "stdout",
     "output_type": "stream",
     "text": [
      "Loaded pretrained model gpt2-small into HookedTransformer\n",
      "Moving model to device:  cuda\n",
      "creating activation store\n",
      "creating data loader\n",
      "buffer\n",
      "dataloader\n",
      "creating sae\n",
      "creating wanbd\n"
     ]
    },
    {
     "name": "stderr",
     "output_type": "stream",
     "text": [
      "\u001b[34m\u001b[1mwandb\u001b[0m: Currently logged in as: \u001b[33meoin\u001b[0m. Use \u001b[1m`wandb login --relogin`\u001b[0m to force relogin\n"
     ]
    },
    {
     "data": {
      "text/html": [
       "wandb version 0.17.0 is available!  To upgrade, please run:\n",
       " $ pip install wandb --upgrade"
      ],
      "text/plain": [
       "<IPython.core.display.HTML object>"
      ]
     },
     "metadata": {},
     "output_type": "display_data"
    },
    {
     "data": {
      "text/html": [
       "Tracking run with wandb version 0.16.0"
      ],
      "text/plain": [
       "<IPython.core.display.HTML object>"
      ]
     },
     "metadata": {},
     "output_type": "display_data"
    },
    {
     "data": {
      "text/html": [
       "Run data is saved locally in <code>/notebooks/sparse_autoencoder/notebook_templates/wandb/run-20240510_050706-ygcdmw0z</code>"
      ],
      "text/plain": [
       "<IPython.core.display.HTML object>"
      ]
     },
     "metadata": {},
     "output_type": "display_data"
    },
    {
     "data": {
      "text/html": [
       "Syncing run <strong><a href='https://wandb.ai/eoin/gpt2-small-transcoders/runs/ygcdmw0z' target=\"_blank\">valiant-meadow-14</a></strong> to <a href='https://wandb.ai/eoin/gpt2-small-transcoders' target=\"_blank\">Weights & Biases</a> (<a href='https://wandb.me/run' target=\"_blank\">docs</a>)<br/>"
      ],
      "text/plain": [
       "<IPython.core.display.HTML object>"
      ]
     },
     "metadata": {},
     "output_type": "display_data"
    },
    {
     "data": {
      "text/html": [
       " View project at <a href='https://wandb.ai/eoin/gpt2-small-transcoders' target=\"_blank\">https://wandb.ai/eoin/gpt2-small-transcoders</a>"
      ],
      "text/plain": [
       "<IPython.core.display.HTML object>"
      ]
     },
     "metadata": {},
     "output_type": "display_data"
    },
    {
     "data": {
      "text/html": [
       " View run at <a href='https://wandb.ai/eoin/gpt2-small-transcoders/runs/ygcdmw0z' target=\"_blank\">https://wandb.ai/eoin/gpt2-small-transcoders/runs/ygcdmw0z</a>"
      ],
      "text/plain": [
       "<IPython.core.display.HTML object>"
      ]
     },
     "metadata": {},
     "output_type": "display_data"
    },
    {
     "data": {
      "application/vnd.jupyter.widget-view+json": {
       "model_id": "aeae6688802246b78c684bdacac1271f",
       "version_major": 2,
       "version_minor": 0
      },
      "text/plain": [
       "  0%|          | 0/200000 [00:00<?, ?it/s]"
      ]
     },
     "metadata": {},
     "output_type": "display_data"
    },
    {
     "name": "stdout",
     "output_type": "stream",
     "text": [
      "main base loss tensor(3.6225, device='cuda:0')\n",
      "main base loss tensor(3.6225, device='cuda:0')\n",
      "main base loss tensor(3.5279, device='cuda:0')\n",
      "main base loss tensor(3.5279, device='cuda:0')\n",
      "main base loss tensor(3.6720, device='cuda:0')\n",
      "main base loss tensor(3.6720, device='cuda:0')\n",
      "main base loss tensor(3.5444, device='cuda:0')\n",
      "main base loss tensor(3.5444, device='cuda:0')\n",
      "main base loss tensor(3.5521, device='cuda:0')\n",
      "main base loss tensor(3.5521, device='cuda:0')\n",
      "main base loss tensor(3.4225, device='cuda:0')\n",
      "main base loss tensor(3.4225, device='cuda:0')\n",
      "main base loss tensor(3.3311, device='cuda:0')\n",
      "main base loss tensor(3.3311, device='cuda:0')\n",
      "main base loss tensor(3.4627, device='cuda:0')\n",
      "main base loss tensor(3.4627, device='cuda:0')\n",
      "main base loss tensor(3.6772, device='cuda:0')\n",
      "main base loss tensor(3.6772, device='cuda:0')\n",
      "main base loss tensor(3.3136, device='cuda:0')\n",
      "main base loss tensor(3.3136, device='cuda:0')\n",
      "main base loss tensor(3.7741, device='cuda:0')\n",
      "main base loss tensor(3.7741, device='cuda:0')\n",
      "main base loss tensor(3.4715, device='cuda:0')\n",
      "main base loss tensor(3.4715, device='cuda:0')\n",
      "main base loss tensor(3.9699, device='cuda:0')\n",
      "main base loss tensor(3.9699, device='cuda:0')\n",
      "main base loss tensor(3.6018, device='cuda:0')\n",
      "main base loss tensor(3.6018, device='cuda:0')\n"
     ]
    },
    {
     "name": "stderr",
     "output_type": "stream",
     "text": [
      "IOPub message rate exceeded.\n",
      "The Jupyter server will temporarily stop sending output\n",
      "to the client in order to avoid crashing it.\n",
      "To change this limit, set the config variable\n",
      "`--ServerApp.iopub_msg_rate_limit`.\n",
      "\n",
      "Current values:\n",
      "ServerApp.iopub_msg_rate_limit=1000.0 (msgs/sec)\n",
      "ServerApp.rate_limit_window=3.0 (secs)\n",
      "\n"
     ]
    },
    {
     "name": "stdout",
     "output_type": "stream",
     "text": [
      "main base loss tensor(3.6253, device='cuda:0')\n",
      "main base loss tensor(3.6253, device='cuda:0')\n",
      "main base loss tensor(3.4373, device='cuda:0')\n",
      "main base loss tensor(3.4373, device='cuda:0')\n",
      "main base loss tensor(3.3973, device='cuda:0')\n",
      "main base loss tensor(3.3973, device='cuda:0')\n",
      "main base loss tensor(3.7478, device='cuda:0')\n",
      "main base loss tensor(3.7478, device='cuda:0')\n",
      "main base loss tensor(3.4122, device='cuda:0')\n",
      "main base loss tensor(3.4122, device='cuda:0')\n",
      "main base loss tensor(3.6136, device='cuda:0')\n",
      "main base loss tensor(3.6136, device='cuda:0')\n",
      "main base loss tensor(3.2525, device='cuda:0')\n",
      "main base loss tensor(3.2525, device='cuda:0')\n",
      "main base loss tensor(3.3376, device='cuda:0')\n",
      "main base loss tensor(3.3376, device='cuda:0')\n",
      "main base loss tensor(3.1911, device='cuda:0')\n",
      "main base loss tensor(3.1911, device='cuda:0')\n",
      "main base loss tensor(3.1834, device='cuda:0')\n",
      "main base loss tensor(3.1834, device='cuda:0')\n",
      "main base loss tensor(3.4934, device='cuda:0')\n",
      "main base loss tensor(3.4934, device='cuda:0')\n",
      "main base loss tensor(3.3848, device='cuda:0')\n",
      "main base loss tensor(3.3848, device='cuda:0')\n",
      "main base loss tensor(3.5247, device='cuda:0')\n",
      "main base loss tensor(3.5247, device='cuda:0')\n",
      "main base loss tensor(3.7909, device='cuda:0')\n",
      "main base loss tensor(3.7909, device='cuda:0')\n",
      "main base loss tensor(3.4195, device='cuda:0')\n",
      "main base loss tensor(3.4195, device='cuda:0')\n",
      "main base loss tensor(3.5300, device='cuda:0')\n",
      "main base loss tensor(3.5300, device='cuda:0')\n",
      "main base loss tensor(3.8902, device='cuda:0')\n",
      "main base loss tensor(3.8902, device='cuda:0')\n",
      "main base loss tensor(3.5427, device='cuda:0')\n",
      "main base loss tensor(3.5427, device='cuda:0')\n",
      "main base loss tensor(3.6891, device='cuda:0')\n",
      "main base loss tensor(3.6891, device='cuda:0')\n",
      "main base loss tensor(3.5625, device='cuda:0')\n",
      "main base loss tensor(3.5625, device='cuda:0')\n",
      "main base loss tensor(3.6526, device='cuda:0')\n",
      "main base loss tensor(3.6526, device='cuda:0')\n",
      "main base loss tensor(3.5153, device='cuda:0')\n",
      "main base loss tensor(3.5153, device='cuda:0')\n",
      "main base loss tensor(3.5704, device='cuda:0')\n",
      "main base loss tensor(3.5704, device='cuda:0')\n",
      "main base loss tensor(3.4237, device='cuda:0')\n",
      "main base loss tensor(3.4237, device='cuda:0')\n",
      "main base loss tensor(3.3537, device='cuda:0')\n",
      "main base loss tensor(3.3537, device='cuda:0')\n",
      "main base loss tensor(3.4713, device='cuda:0')\n",
      "main base loss tensor(3.4713, device='cuda:0')\n",
      "main base loss tensor(3.3379, device='cuda:0')\n",
      "main base loss tensor(3.3379, device='cuda:0')\n",
      "main base loss tensor(2.9095, device='cuda:0')\n",
      "main base loss tensor(2.9095, device='cuda:0')\n",
      "main base loss tensor(3.3893, device='cuda:0')\n",
      "main base loss tensor(3.3893, device='cuda:0')\n",
      "main base loss tensor(3.7133, device='cuda:0')\n",
      "main base loss tensor(3.7133, device='cuda:0')\n",
      "main base loss tensor(3.7881, device='cuda:0')\n",
      "main base loss tensor(3.7881, device='cuda:0')\n",
      "main base loss tensor(3.6659, device='cuda:0')\n",
      "main base loss tensor(3.6659, device='cuda:0')\n",
      "main base loss tensor(3.4674, device='cuda:0')\n",
      "main base loss tensor(3.4674, device='cuda:0')\n",
      "main base loss tensor(3.3325, device='cuda:0')\n",
      "main base loss tensor(3.3325, device='cuda:0')\n",
      "main base loss tensor(3.3073, device='cuda:0')\n",
      "main base loss tensor(3.3073, device='cuda:0')\n",
      "main base loss tensor(3.3706, device='cuda:0')\n",
      "main base loss tensor(3.3706, device='cuda:0')\n",
      "main base loss tensor(3.4180, device='cuda:0')\n",
      "main base loss tensor(3.4180, device='cuda:0')\n",
      "main base loss tensor(3.6050, device='cuda:0')\n",
      "main base loss tensor(3.6050, device='cuda:0')\n",
      "main base loss tensor(3.7990, device='cuda:0')\n",
      "main base loss tensor(3.7990, device='cuda:0')\n",
      "main base loss tensor(3.5472, device='cuda:0')\n",
      "main base loss tensor(3.5472, device='cuda:0')\n",
      "main base loss tensor(3.4013, device='cuda:0')\n",
      "main base loss tensor(3.4013, device='cuda:0')\n",
      "main base loss tensor(3.3474, device='cuda:0')\n",
      "main base loss tensor(3.3474, device='cuda:0')\n",
      "main base loss tensor(3.8042, device='cuda:0')\n",
      "main base loss tensor(3.8042, device='cuda:0')\n",
      "main base loss tensor(3.4439, device='cuda:0')\n",
      "main base loss tensor(3.4439, device='cuda:0')\n",
      "main base loss tensor(3.5459, device='cuda:0')\n",
      "main base loss tensor(3.5459, device='cuda:0')\n",
      "main base loss tensor(3.3519, device='cuda:0')\n",
      "main base loss tensor(3.3519, device='cuda:0')\n",
      "main base loss tensor(3.4519, device='cuda:0')\n",
      "main base loss tensor(3.4519, device='cuda:0')\n",
      "main base loss tensor(3.1622, device='cuda:0')\n",
      "main base loss tensor(3.1622, device='cuda:0')\n"
     ]
    }
   ],
   "source": [
    "mod = ModelTrainer(cfg)\n",
    "mod.setup()\n",
    "mod.train()"
   ]
  },
  {
   "cell_type": "code",
   "execution_count": null,
   "id": "310c720b-3504-440d-88ac-464b85057b6b",
   "metadata": {},
   "outputs": [],
   "source": []
  },
  {
   "cell_type": "code",
   "execution_count": null,
   "id": "2a47d88f-ee66-4057-a866-2c014aa6d9e0",
   "metadata": {},
   "outputs": [],
   "source": []
  },
  {
   "cell_type": "code",
   "execution_count": null,
   "id": "d64c82ef-1f75-43de-8360-c6b06b3a5a03",
   "metadata": {},
   "outputs": [],
   "source": []
  },
  {
   "cell_type": "code",
   "execution_count": null,
   "id": "af8501cf-a447-43b1-a75e-55bef354cd9f",
   "metadata": {},
   "outputs": [],
   "source": [
    "# config_inputs = {\n",
    "#     # Model and Hook Point\n",
    "#     \"model_name\": \"gelu-1l\",\n",
    "#     \"hook_point\": \"blocks.0.ln2.hook_normalized\",\n",
    "#     \"hook_point_layer\": 0,\n",
    "#     \"hook_point_head_index\": None,\n",
    "#     \"d_in\": 512,\n",
    "\n",
    "#     'different_output': True,\n",
    "#     'hook_point_output': 'blocks.0.hook_mlp_out',\n",
    "#     'hook_point_layer_output': 0,\n",
    "#     'hook_point_head_index_output': None,\n",
    "#     'd_out': 512,\n",
    "\n",
    "#     # Dataset\n",
    "#     'dataset_path': 'NeelNanda/c4-tokenized-2b',\n",
    "#     'is_dataset_tokenized': True,\n",
    "    \n",
    "#      # Activation Store Parameters\n",
    "#     'n_batches_in_store_buffer': 128,\n",
    "#     'store_batch_size': 4,\n",
    "#     'train_batch_size': 4096,\n",
    "#     'context_size': 1024,\n",
    "\n",
    "#     # Outputs\n",
    "#     'log_to_wandb': True,\n",
    "#     'wandb_project': 'test_gelu_1l',\n",
    "#     'wandb_log_frequency': 10,\n",
    "#     'eval_frequency': 10,\n",
    "#     'sparsity_log_frequency': 5000,\n",
    "#     'n_checkpoints': 5,\n",
    "#     'checkpoint_path': '../outputs/checkpoints',\n",
    "\n",
    "#     # Sparse Autoencoder Parameters\n",
    "#     'expansion_factor': 64,\n",
    "#     'normalise_initial_decoder_weights': True,\n",
    "#     'initial_decoder_norm': 0.1,\n",
    "#     'initialise_encoder_to_decoder_transpose': True,\n",
    "\n",
    "#     'normalise_w_dec': False,\n",
    "#     'clip_grad_norm': True,\n",
    "#     'scale_input_norm': False,\n",
    "\n",
    "#     # General\n",
    "#     'seed': 42,\n",
    "#     'total_training_steps': 200000,\n",
    "\n",
    "#     # Learning rate parameters\n",
    "#     'lr': 5e-5,\n",
    "#     'lr_scheduler_name': 'constant',\n",
    "\n",
    "#     # Loss Function\n",
    "#     'mse_loss_coefficient': 1,\n",
    "#     'l1_coefficient': 0.,\n",
    "#     'weight_l1_by_decoder_norms': True,\n",
    "    \n",
    "#     # Warm up loss coefficients\n",
    "#     'l1_warmup': True,\n",
    "#     'l1_warmup_steps': 10000,\n",
    "# }\n",
    "\n",
    "# cfg = Config(**config_inputs)"
   ]
  },
  {
   "cell_type": "code",
   "execution_count": null,
   "id": "2c0bc957-3e81-4d6b-bdcb-d3b0bc737b08",
   "metadata": {},
   "outputs": [],
   "source": []
  },
  {
   "cell_type": "code",
   "execution_count": null,
   "id": "aab0780d-3d6b-45f4-b58d-c93535861ab3",
   "metadata": {},
   "outputs": [],
   "source": []
  }
 ],
 "metadata": {
  "kernelspec": {
   "display_name": "Python 3 (ipykernel)",
   "language": "python",
   "name": "python3"
  },
  "language_info": {
   "codemirror_mode": {
    "name": "ipython",
    "version": 3
   },
   "file_extension": ".py",
   "mimetype": "text/x-python",
   "name": "python",
   "nbconvert_exporter": "python",
   "pygments_lexer": "ipython3",
   "version": "3.11.6"
  }
 },
 "nbformat": 4,
 "nbformat_minor": 5
}
