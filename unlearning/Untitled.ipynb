{
 "cells": [
  {
   "cell_type": "code",
   "execution_count": 24,
   "id": "9a9b0cfa-3daa-49ba-a6d7-b9e50c54be08",
   "metadata": {},
   "outputs": [],
   "source": [
    "import torch\n",
    "from torch import nn\n",
    "from torch.optim import Adam\n"
   ]
  },
  {
   "cell_type": "code",
   "execution_count": 185,
   "id": "7b0e15de-f7a1-4868-ae6b-975692a3f2b0",
   "metadata": {},
   "outputs": [
    {
     "data": {
      "text/plain": [
       "0.7071135624381276"
      ]
     },
     "execution_count": 185,
     "metadata": {},
     "output_type": "execute_result"
    }
   ],
   "source": [
    "\n",
    "1/1.4142"
   ]
  },
  {
   "cell_type": "code",
   "execution_count": 237,
   "id": "b4564e21-baeb-462b-b9c7-2d179f6c289b",
   "metadata": {},
   "outputs": [
    {
     "name": "stdout",
     "output_type": "stream",
     "text": [
      "tensor(0.9711)\n",
      "tensor([-0.6663,  0.6287,  0.6287,  0.5395, -2.0000, -2.0000, -2.0000, -2.0000,\n",
      "        -2.0000, -2.0000, -2.0000])\n",
      "tensor([-0.6663,  0.7405,  0.7509,  0.0106, -2.0000, -2.0000, -2.0000, -2.0000,\n",
      "        -2.0000, -2.0000, -2.0000])\n",
      "tensor(4.0782e-06, grad_fn=<MeanBackward0>) tensor(4.0782e-06, grad_fn=<MeanBackward0>)\n",
      "tensor([ 0.0089, -0.2989,  0.0726, -0.9218])\n",
      "tensor([ 0.0107, -0.2990,  0.0691, -0.9213])\n"
     ]
    }
   ],
   "source": [
    "torch.manual_seed(12)\n",
    "\n",
    "wdec = torch.randn((4, 11))\n",
    "wdec = wdec/wdec.norm(dim=0)\n",
    "wdec = wdec.T\n",
    "\n",
    "answer = 0.75 * (wdec[1] + wdec[2])\n",
    "print(answer.norm())\n",
    "\n",
    "coeffs0 = wdec @ answer\n",
    "\n",
    "coefficients = nn.Parameter(torch.zeros(wdec.shape[0]))\n",
    "# coefficients.data = torch.full((25,), 0.5)\n",
    "# coefficients.data = torch.relu(coeffs0) - 0.01\n",
    "coefficients.data = coeffs0\n",
    "# coefficients.data[-1] = -1\n",
    "coefficients.data[4:] = -2\n",
    "print(coefficients.data)\n",
    "\n",
    "optimizer = Adam([coefficients], lr=0.5)\n",
    "\n",
    "\n",
    "for i in range(100):\n",
    "\n",
    "    optimizer.zero_grad()\n",
    "    activations = torch.relu(coefficients)\n",
    "\n",
    "    forward = activations @ wdec\n",
    "    mse = ((forward - answer) ** 2).mean()\n",
    "\n",
    "    # mse = -torch.dot(forward/forward.norm(), answer)\n",
    "\n",
    "    sparsity = (activations / (activations + 0.2)).sum()\n",
    "\n",
    "    loss = mse #+ 0.05*sparsity\n",
    "    \n",
    "    loss.backward()\n",
    "\n",
    "    optimizer.step()\n",
    "\n",
    "    # print(coefficients.data)\n",
    "\n",
    "print(coefficients.data)\n",
    "print(loss, mse)\n",
    "print(forward.detach())\n",
    "print(answer)"
   ]
  },
  {
   "cell_type": "code",
   "execution_count": null,
   "id": "785a32f4-9f9e-46dc-a99b-b0a894a97223",
   "metadata": {},
   "outputs": [],
   "source": []
  },
  {
   "cell_type": "code",
   "execution_count": 141,
   "id": "e5af9ca5-19c7-42e8-952f-57253f0c2ff0",
   "metadata": {},
   "outputs": [
    {
     "data": {
      "text/plain": [
       "0.7071135624381276"
      ]
     },
     "execution_count": 141,
     "metadata": {},
     "output_type": "execute_result"
    }
   ],
   "source": [
    "0.5305"
   ]
  },
  {
   "cell_type": "code",
   "execution_count": 167,
   "id": "d645cfd0-5820-4b57-b235-5253e1610bf5",
   "metadata": {},
   "outputs": [],
   "source": [
    "a = torch.randn((2))\n",
    "b = torch.randn((2))"
   ]
  },
  {
   "cell_type": "code",
   "execution_count": 168,
   "id": "f5febdc2-aeff-4263-a4eb-6f9293175e21",
   "metadata": {},
   "outputs": [
    {
     "data": {
      "text/plain": [
       "(tensor([ 1.9573, -0.3660]), tensor([-0.2266,  0.2805]))"
      ]
     },
     "execution_count": 168,
     "metadata": {},
     "output_type": "execute_result"
    }
   ],
   "source": [
    "a, b"
   ]
  },
  {
   "cell_type": "code",
   "execution_count": 169,
   "id": "73d1ca57-6db4-4200-a9e1-dd072a2ea139",
   "metadata": {},
   "outputs": [
    {
     "data": {
      "text/plain": [
       "tensor([-0.4435, -0.1027])"
      ]
     },
     "execution_count": 169,
     "metadata": {},
     "output_type": "execute_result"
    }
   ],
   "source": [
    "a * b"
   ]
  },
  {
   "cell_type": "code",
   "execution_count": 170,
   "id": "700f4d15-a5d2-45fa-850e-b81392153a71",
   "metadata": {},
   "outputs": [
    {
     "data": {
      "text/plain": [
       "tensor(-0.5462)"
      ]
     },
     "execution_count": 170,
     "metadata": {},
     "output_type": "execute_result"
    }
   ],
   "source": [
    "torch.dot(a, b)"
   ]
  },
  {
   "cell_type": "code",
   "execution_count": null,
   "id": "f6495f67-567c-40bb-bb6d-ba831864c9de",
   "metadata": {},
   "outputs": [],
   "source": []
  }
 ],
 "metadata": {
  "kernelspec": {
   "display_name": "Python 3 (ipykernel)",
   "language": "python",
   "name": "python3"
  },
  "language_info": {
   "codemirror_mode": {
    "name": "ipython",
    "version": 3
   },
   "file_extension": ".py",
   "mimetype": "text/x-python",
   "name": "python",
   "nbconvert_exporter": "python",
   "pygments_lexer": "ipython3",
   "version": "3.11.6"
  }
 },
 "nbformat": 4,
 "nbformat_minor": 5
}
