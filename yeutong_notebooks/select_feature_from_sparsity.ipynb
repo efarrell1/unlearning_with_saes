{
 "cells": [
  {
   "cell_type": "code",
   "execution_count": 1,
   "metadata": {},
   "outputs": [],
   "source": [
    "%load_ext autoreload\n",
    "%autoreload 2\n",
    "import torch\n",
    "import numpy as np\n",
    "\n",
    "from unlearning.tool import get_hf_model\n",
    "from unlearning.feature_activation import get_forget_retain_data, tokenize_dataset, get_feature_activation_sparsity, get_top_features\n",
    "from unlearning.jump_relu import load_gemma2_2b_sae\n",
    "from unlearning.intervention import scaling_intervention\n",
    "from unlearning.metrics import calculate_MCQ_metrics"
   ]
  },
  {
   "cell_type": "code",
   "execution_count": 2,
   "metadata": {},
   "outputs": [
    {
     "data": {
      "application/vnd.jupyter.widget-view+json": {
       "model_id": "99447c76e34a487f8e6da97c2594fd9e",
       "version_major": 2,
       "version_minor": 0
      },
      "text/plain": [
       "Loading checkpoint shards:   0%|          | 0/2 [00:00<?, ?it/s]"
      ]
     },
     "metadata": {},
     "output_type": "display_data"
    }
   ],
   "source": [
    "model = get_hf_model('google/gemma-2-2b-it')"
   ]
  },
  {
   "cell_type": "code",
   "execution_count": 3,
   "metadata": {},
   "outputs": [
    {
     "name": "stdout",
     "output_type": "stream",
     "text": [
      "24432 16027\n",
      "1962 859\n",
      "torch.Size([153108, 1024]) torch.Size([275, 1024])\n"
     ]
    }
   ],
   "source": [
    "forget_dataset, retain_dataset = get_forget_retain_data('bio-forget-corpus', 'wikitext')\n",
    "\n",
    "print(len(forget_dataset), len(forget_dataset[0]))\n",
    "print(len(retain_dataset), len(retain_dataset[0]))\n",
    "\n",
    "forget_tokens = tokenize_dataset(model, forget_dataset)\n",
    "retain_tokens = tokenize_dataset(model, retain_dataset)\n",
    "\n",
    "print(forget_tokens.shape, retain_tokens.shape)"
   ]
  },
  {
   "cell_type": "code",
   "execution_count": 4,
   "metadata": {},
   "outputs": [
    {
     "name": "stdout",
     "output_type": "stream",
     "text": [
      "Found SAE with l0=71 at path google/gemma-scope-2b-pt-res/layer_20/width_16k/average_l0_71/params.npz\n"
     ]
    },
    {
     "data": {
      "application/vnd.jupyter.widget-view+json": {
       "model_id": "2a256a38149848a9a0e5e16f3922eedd",
       "version_major": 2,
       "version_minor": 0
      },
      "text/plain": [
       "params.npz:   0%|          | 0.00/302M [00:00<?, ?B/s]"
      ]
     },
     "metadata": {},
     "output_type": "display_data"
    },
    {
     "name": "stderr",
     "output_type": "stream",
     "text": [
      "100%|██████████| 256/256 [03:57<00:00,  1.08it/s]\n",
      "100%|██████████| 35/35 [00:32<00:00,  1.09it/s]\n"
     ]
    },
    {
     "name": "stdout",
     "output_type": "stream",
     "text": [
      "[  373   143  4544 12558 14636  8984  6720 15231  5447 10630 14012  5748\n",
      " 12945  9455  6344  1911  2348  5481 10879  3074]\n",
      "Found SAE with l0=70 at path google/gemma-scope-2b-pt-res/layer_21/width_16k/average_l0_70/params.npz\n"
     ]
    },
    {
     "data": {
      "application/vnd.jupyter.widget-view+json": {
       "model_id": "37e47c5a384746ba936e9b74f93b035f",
       "version_major": 2,
       "version_minor": 0
      },
      "text/plain": [
       "params.npz:   0%|          | 0.00/302M [00:00<?, ?B/s]"
      ]
     },
     "metadata": {},
     "output_type": "display_data"
    },
    {
     "name": "stderr",
     "output_type": "stream",
     "text": [
      "100%|██████████| 256/256 [03:57<00:00,  1.08it/s]\n",
      "100%|██████████| 35/35 [00:31<00:00,  1.12it/s]\n"
     ]
    },
    {
     "name": "stdout",
     "output_type": "stream",
     "text": [
      "[13865 13042 12286 15646 13503   809  9161  2372 13352  1733  4019 16332\n",
      "  3406 12272  1465  9912 16037 11455 14499 12393]\n",
      "Found SAE with l0=72 at path google/gemma-scope-2b-pt-res/layer_22/width_16k/average_l0_72/params.npz\n"
     ]
    },
    {
     "data": {
      "application/vnd.jupyter.widget-view+json": {
       "model_id": "5e8bf3d7d0a3420fbbf73a8f1a21c55a",
       "version_major": 2,
       "version_minor": 0
      },
      "text/plain": [
       "params.npz:   0%|          | 0.00/302M [00:00<?, ?B/s]"
      ]
     },
     "metadata": {},
     "output_type": "display_data"
    },
    {
     "name": "stderr",
     "output_type": "stream",
     "text": [
      "100%|██████████| 256/256 [03:56<00:00,  1.08it/s]\n",
      "100%|██████████| 35/35 [00:31<00:00,  1.10it/s]\n"
     ]
    },
    {
     "name": "stdout",
     "output_type": "stream",
     "text": [
      "[12592  8492  4923 13290  6637 14878   438  2395 10399  8046  4292 11754\n",
      " 14071  5398  7155   425 13539  4958  2106  8874]\n",
      "Found SAE with l0=75 at path google/gemma-scope-2b-pt-res/layer_23/width_16k/average_l0_75/params.npz\n"
     ]
    },
    {
     "data": {
      "application/vnd.jupyter.widget-view+json": {
       "model_id": "71b813b10c1a4afdb7df2a083c81b503",
       "version_major": 2,
       "version_minor": 0
      },
      "text/plain": [
       "params.npz:   0%|          | 0.00/302M [00:00<?, ?B/s]"
      ]
     },
     "metadata": {},
     "output_type": "display_data"
    },
    {
     "name": "stderr",
     "output_type": "stream",
     "text": [
      "100%|██████████| 256/256 [03:53<00:00,  1.10it/s]\n",
      "100%|██████████| 35/35 [00:31<00:00,  1.12it/s]\n"
     ]
    },
    {
     "name": "stdout",
     "output_type": "stream",
     "text": [
      "[15701 13245   744 11135 11419  4012  4813  3064 15221 12788  1107  9923\n",
      " 10889  3539 13597   571  3632  3676  4120 10072]\n",
      "Found SAE with l0=73 at path google/gemma-scope-2b-pt-res/layer_24/width_16k/average_l0_73/params.npz\n"
     ]
    },
    {
     "data": {
      "application/vnd.jupyter.widget-view+json": {
       "model_id": "6bae2830c6ed46d2ba9030f8c4d8fbd5",
       "version_major": 2,
       "version_minor": 0
      },
      "text/plain": [
       "params.npz:   0%|          | 0.00/302M [00:00<?, ?B/s]"
      ]
     },
     "metadata": {},
     "output_type": "display_data"
    },
    {
     "name": "stderr",
     "output_type": "stream",
     "text": [
      "100%|██████████| 256/256 [03:51<00:00,  1.11it/s]\n",
      "100%|██████████| 35/35 [00:31<00:00,  1.12it/s]\n"
     ]
    },
    {
     "name": "stdout",
     "output_type": "stream",
     "text": [
      "[ 1121  2625  5026 16337 12292 13865  4056  3867 10961  8977  1873  8615\n",
      "  3186  9233 12155  3264  7612  7546  9319 13492]\n",
      "Found SAE with l0=116 at path google/gemma-scope-2b-pt-res/layer_25/width_16k/average_l0_116/params.npz\n"
     ]
    },
    {
     "data": {
      "application/vnd.jupyter.widget-view+json": {
       "model_id": "c72f48590cba4d13951defa7828fdc02",
       "version_major": 2,
       "version_minor": 0
      },
      "text/plain": [
       "params.npz:   0%|          | 0.00/302M [00:00<?, ?B/s]"
      ]
     },
     "metadata": {},
     "output_type": "display_data"
    },
    {
     "name": "stderr",
     "output_type": "stream",
     "text": [
      "100%|██████████| 256/256 [03:51<00:00,  1.11it/s]\n",
      "100%|██████████| 35/35 [00:31<00:00,  1.12it/s]"
     ]
    },
    {
     "name": "stdout",
     "output_type": "stream",
     "text": [
      "[14035 15357 15365 13399  9171  6536   733  3709 11878  4914  3082  3429\n",
      " 11938  7493  6609  7147  5582  8622  9474 16117]\n"
     ]
    },
    {
     "name": "stderr",
     "output_type": "stream",
     "text": [
      "\n"
     ]
    }
   ],
   "source": [
    "for layer in range(20, model.config.num_hidden_layers):\n",
    "    sae = load_gemma2_2b_sae(layer=layer)\n",
    "\n",
    "    # shuffle forget_tokens \n",
    "    shuffled_forget_tokens = forget_tokens[torch.randperm(forget_tokens.shape[0])]\n",
    "\n",
    "    mean_feature_activation_forget = get_feature_activation_sparsity(model, sae, shuffled_forget_tokens[:2048], batch_size=8)\n",
    "    mean_feature_activation_retain = get_feature_activation_sparsity(model, sae, retain_tokens, batch_size=8)\n",
    "\n",
    "    top_features = get_top_features(mean_feature_activation_forget, mean_feature_activation_retain, 0.01)\n",
    "    np.savetxt(f'../data/top_features/gemma-2-2b-it-sparsity/layer{layer}.txt', top_features, fmt='%d')\n",
    "    np.savetxt(f'../data/top_features/gemma-2-2b-it-sparsity/layer{layer}_mean_feature_activation_forget.txt', mean_feature_activation_forget, fmt='%f')\n",
    "    np.savetxt(f'../data/top_features/gemma-2-2b-it-sparsity/layer{layer}_mean_feature_activation_retain.txt', mean_feature_activation_retain, fmt='%f')"
   ]
  },
  {
   "cell_type": "code",
   "execution_count": 5,
   "metadata": {},
   "outputs": [
    {
     "name": "stdout",
     "output_type": "stream",
     "text": [
      "Found SAE with l0=59 at path google/gemma-scope-2b-pt-res/layer_3/width_16k/average_l0_59/params.npz\n"
     ]
    },
    {
     "name": "stderr",
     "output_type": "stream",
     "text": [
      "100%|██████████| 256/256 [04:10<00:00,  1.02it/s]\n",
      "100%|██████████| 35/35 [00:32<00:00,  1.06it/s]\n"
     ]
    }
   ],
   "source": [
    "layer = 3\n",
    "sae = load_gemma2_2b_sae(layer=layer)\n",
    "\n",
    "# shuffle forget_tokens \n",
    "shuffled_forget_tokens = forget_tokens[torch.randperm(forget_tokens.shape[0])]\n",
    "\n",
    "mean_feature_activation_forget = get_feature_activation_sparsity(model, sae, shuffled_forget_tokens[:2048], batch_size=8)\n",
    "mean_feature_activation_retain = get_feature_activation_sparsity(model, sae, retain_tokens, batch_size=8)\n",
    "\n",
    "# top_features = get_top_features(mean_feature_activation_forget, mean_feature_activation_retain, 0.01)\n",
    "# np.savetxt(f'../data/top_features/gemma-2-2b-it-sparsity/layer{layer}.txt', top_features, fmt='%d')"
   ]
  },
  {
   "cell_type": "code",
   "execution_count": 6,
   "metadata": {},
   "outputs": [],
   "source": [
    "top_features_from_mean = np.loadtxt(f'../data/top_features/gemma-2-2b-it/layer{layer}.txt', dtype=int)"
   ]
  },
  {
   "cell_type": "code",
   "execution_count": 7,
   "metadata": {},
   "outputs": [],
   "source": [
    "import plotly.express as px\n",
    "\n",
    "def plot_comparison(forget, retain, good_feature_lst=[]):\n",
    "    # add color to selected features\n",
    "    color = np.array(['Normal'] * len(forget))\n",
    "    color[good_feature_lst] = 'Selected from MCQ'\n",
    "    \n",
    "    # main plot\n",
    "    fig = px.scatter(x=forget, y=retain, labels={'x': 'Forget', 'y': 'Retain'}, hover_data=[np.arange(len(forget))], color=color)\n",
    "    \n",
    "    # add a diagonal line\n",
    "    max_val = min(max(forget), max(retain))\n",
    "    fig.add_shape(\n",
    "        type=\"line\", line=dict(dash=\"dash\"),\n",
    "        x0=0, y0=0, x1=max_val, y1=max_val\n",
    "    )\n",
    "\n",
    "    fig.show()\n",
    "    \n",
    "    \n",
    "# plot_comparison(mean_feature_activation_forget, mean_feature_activation_retain, good_feature_lst=top_features_from_mean[:20])\n",
    "    \n",
    "    "
   ]
  },
  {
   "cell_type": "code",
   "execution_count": 8,
   "metadata": {},
   "outputs": [
    {
     "name": "stdout",
     "output_type": "stream",
     "text": [
      "[ 8786  3025 11913 14227   679 10793  8803  1082  6691  9839 16064  8934\n",
      "   616 10238 16169 13219  8396  3061  8845  2659]\n"
     ]
    }
   ],
   "source": [
    "top_features = get_top_features(mean_feature_activation_forget, mean_feature_activation_retain, 0.01)"
   ]
  },
  {
   "cell_type": "code",
   "execution_count": 9,
   "metadata": {},
   "outputs": [],
   "source": [
    "from sae_lens.analysis.neuronpedia_integration import get_neuronpedia_quick_list\n",
    "\n",
    "# get_neuronpedia_quick_list([373] + list(top_features[:20]), layer=3, model='gemma-2-2b', dataset='gemmascope-res-16k')"
   ]
  },
  {
   "cell_type": "code",
   "execution_count": 10,
   "metadata": {},
   "outputs": [
    {
     "data": {
      "text/plain": [
       "array([ 8786,  3025, 11913, 14227,   679, 10793,  8803,  1082,  6691,\n",
       "        9839, 16064,  8934,   616, 10238, 16169, 13219,  8396,  3061,\n",
       "        8845,  2659])"
      ]
     },
     "execution_count": 10,
     "metadata": {},
     "output_type": "execute_result"
    }
   ],
   "source": [
    "top_features[:20]"
   ]
  },
  {
   "cell_type": "code",
   "execution_count": 11,
   "metadata": {},
   "outputs": [
    {
     "name": "stderr",
     "output_type": "stream",
     "text": [
      "100%|██████████| 87/87 [00:09<00:00,  9.64it/s]\n",
      "100%|██████████| 18/18 [00:04<00:00,  4.02it/s]\n",
      "100%|██████████| 18/18 [00:01<00:00, 11.45it/s]\n",
      "100%|██████████| 2/2 [00:00<00:00,  8.05it/s]\n",
      "100%|██████████| 14/14 [00:01<00:00,  9.12it/s]\n",
      "100%|██████████| 13/13 [00:01<00:00,  8.97it/s]\n"
     ]
    }
   ],
   "source": [
    "from unlearning.intervention import intervention\n",
    "from unlearning.metrics import calculate_metrics_rmu\n",
    "\n",
    "dataset_names = ['wmdp-bio', 'high_school_us_history', 'high_school_geography', 'college_computer_science', 'human_aging', 'college_biology']\n",
    "metric_params = {d: {'target_metric': 'correct'} for d in dataset_names}\n",
    "\n",
    "with intervention(model, layer, sae, list(top_features[:20]), multiplier=100, intervention_type='clamp'):\n",
    "    results_all = calculate_metrics_rmu(model, dataset_names, metric_params=metric_params)"
   ]
  },
  {
   "cell_type": "code",
   "execution_count": 12,
   "metadata": {},
   "outputs": [
    {
     "name": "stdout",
     "output_type": "stream",
     "text": [
      "wmdp-bio: 0.3773946166038513\n",
      "high_school_us_history: 0.9811320900917053\n",
      "high_school_geography: 0.8557692766189575\n",
      "college_computer_science: 0.7777777910232544\n",
      "human_aging: 0.5555555820465088\n",
      "college_biology: 0.3561643958091736\n"
     ]
    }
   ],
   "source": [
    "for dataset in results_all:\n",
    "    print(f'{dataset}: {results_all[dataset][\"mean_correct\"]}')"
   ]
  },
  {
   "cell_type": "code",
   "execution_count": 13,
   "metadata": {},
   "outputs": [
    {
     "name": "stderr",
     "output_type": "stream",
     "text": [
      "100%|██████████| 87/87 [00:08<00:00,  9.79it/s]\n",
      "100%|██████████| 18/18 [00:04<00:00,  4.03it/s]\n",
      "100%|██████████| 18/18 [00:01<00:00, 11.23it/s]\n",
      "100%|██████████| 2/2 [00:00<00:00, 10.36it/s]\n",
      "100%|██████████| 14/14 [00:01<00:00, 10.95it/s]\n"
     ]
    }
   ],
   "source": [
    "with intervention(model, layer, sae, list(top_features_from_mean[:20]), multiplier=100, intervention_type='clamp'):\n",
    "    results_all_mean = calculate_metrics_rmu(model, dataset_names, metric_params=metric_params)\n",
    "    \n",
    "for dataset in results_all_mean:\n",
    "    print(f'{dataset}: {results_all_mean[dataset][\"mean_correct\"]}')"
   ]
  },
  {
   "cell_type": "code",
   "execution_count": null,
   "metadata": {},
   "outputs": [],
   "source": []
  },
  {
   "cell_type": "code",
   "execution_count": 14,
   "metadata": {},
   "outputs": [
    {
     "name": "stderr",
     "output_type": "stream",
     "text": [
      "100%|██████████| 213/213 [00:21<00:00, 10.11it/s]\n",
      "100%|██████████| 34/34 [00:08<00:00,  4.08it/s]\n",
      "100%|██████████| 33/33 [00:02<00:00, 11.50it/s]\n",
      "100%|██████████| 17/17 [00:02<00:00,  7.71it/s]\n",
      "100%|██████████| 38/38 [00:03<00:00, 10.00it/s]\n",
      "100%|██████████| 24/24 [00:02<00:00,  8.92it/s]\n",
      "100%|██████████| 213/213 [00:20<00:00, 10.15it/s]\n",
      "100%|██████████| 34/34 [00:08<00:00,  4.07it/s]\n",
      "100%|██████████| 33/33 [00:03<00:00,  9.98it/s]\n",
      "100%|██████████| 17/17 [00:02<00:00,  7.72it/s]\n",
      "100%|██████████| 38/38 [00:03<00:00, 10.44it/s]\n",
      "100%|██████████| 24/24 [00:02<00:00,  9.46it/s]"
     ]
    },
    {
     "name": "stdout",
     "output_type": "stream",
     "text": [
      "Sparsity\n",
      "wmdp-bio: 0.35349568724632263\n",
      "high_school_us_history: 0.6372549533843994\n",
      "high_school_geography: 0.6868686676025391\n",
      "college_computer_science: 0.44999998807907104\n",
      "human_aging: 0.5022422075271606\n",
      "college_biology: 0.4166666567325592\n",
      "Mean\n",
      "wmdp-bio: 0.5090337991714478\n",
      "high_school_us_history: 0.75\n",
      "high_school_geography: 0.7222222089767456\n",
      "college_computer_science: 0.44999998807907104\n",
      "human_aging: 0.6098654866218567\n",
      "college_biology: 0.5902777910232544\n"
     ]
    },
    {
     "name": "stderr",
     "output_type": "stream",
     "text": [
      "\n"
     ]
    }
   ],
   "source": [
    "from unlearning.intervention import intervention\n",
    "from unlearning.metrics import calculate_metrics_rmu\n",
    "\n",
    "dataset_names = ['wmdp-bio', 'high_school_us_history', 'high_school_geography', 'college_computer_science', 'human_aging', 'college_biology']\n",
    "metric_params = {d: {'target_metric': 'all'} for d in dataset_names}\n",
    "\n",
    "with intervention(model, layer, sae, list(top_features[:20]), multiplier=20, intervention_type='scale'):\n",
    "    results_all = calculate_metrics_rmu(model, dataset_names, metric_params=metric_params)\n",
    "    \n",
    "with intervention(model, layer, sae, list(top_features_from_mean[:20]), multiplier=20, intervention_type='scale'):\n",
    "    results_all_mean = calculate_metrics_rmu(model, dataset_names, metric_params=metric_params)\n",
    "    \n",
    "print('Sparsity')\n",
    "for dataset in results_all:\n",
    "    print(f'{dataset}: {results_all[dataset][\"mean_correct\"]}')\n",
    "    \n",
    "print('Mean')\n",
    "for dataset in results_all_mean:\n",
    "    print(f'{dataset}: {results_all_mean[dataset][\"mean_correct\"]}')"
   ]
  },
  {
   "cell_type": "code",
   "execution_count": 15,
   "metadata": {},
   "outputs": [
    {
     "name": "stderr",
     "output_type": "stream",
     "text": [
      "100%|██████████| 213/213 [00:22<00:00,  9.55it/s]\n",
      "100%|██████████| 34/34 [00:08<00:00,  4.07it/s]\n",
      "100%|██████████| 33/33 [00:03<00:00, 10.08it/s]\n",
      "100%|██████████| 17/17 [00:02<00:00,  7.71it/s]\n",
      "100%|██████████| 38/38 [00:03<00:00,  9.86it/s]\n",
      "100%|██████████| 24/24 [00:02<00:00,  9.82it/s]\n"
     ]
    },
    {
     "name": "stdout",
     "output_type": "stream",
     "text": [
      "n_features: 1, 0x\n",
      "\t\twmdp-bio: 0.6355066895484924\n",
      "\t\thigh_school_us_history: 0.7401961088180542\n",
      "\t\thigh_school_geography: 0.7575757503509521\n",
      "\t\tcollege_computer_science: 0.44999998807907104\n",
      "\t\thuman_aging: 0.6322870254516602\n",
      "\t\tcollege_biology: 0.7083333134651184\n"
     ]
    },
    {
     "name": "stderr",
     "output_type": "stream",
     "text": [
      "100%|██████████| 213/213 [00:22<00:00,  9.59it/s]\n",
      "100%|██████████| 34/34 [00:08<00:00,  4.08it/s]\n",
      "100%|██████████| 33/33 [00:03<00:00,  9.52it/s]\n",
      "100%|██████████| 17/17 [00:02<00:00,  7.75it/s]\n",
      "100%|██████████| 38/38 [00:03<00:00, 11.47it/s]\n",
      "100%|██████████| 24/24 [00:02<00:00,  9.81it/s]\n"
     ]
    },
    {
     "name": "stdout",
     "output_type": "stream",
     "text": [
      "n_features: 1, 5x\n",
      "\t\twmdp-bio: 0.6386488676071167\n",
      "\t\thigh_school_us_history: 0.7549020051956177\n",
      "\t\thigh_school_geography: 0.747474730014801\n",
      "\t\tcollege_computer_science: 0.4399999976158142\n",
      "\t\thuman_aging: 0.6278027296066284\n",
      "\t\tcollege_biology: 0.7083333134651184\n"
     ]
    },
    {
     "name": "stderr",
     "output_type": "stream",
     "text": [
      "100%|██████████| 213/213 [00:21<00:00,  9.96it/s]\n",
      "100%|██████████| 34/34 [00:08<00:00,  4.09it/s]\n",
      "100%|██████████| 33/33 [00:03<00:00, 10.51it/s]\n",
      "100%|██████████| 17/17 [00:02<00:00,  7.66it/s]\n",
      "100%|██████████| 38/38 [00:03<00:00, 11.64it/s]\n",
      "100%|██████████| 24/24 [00:02<00:00,  9.59it/s]\n"
     ]
    },
    {
     "name": "stdout",
     "output_type": "stream",
     "text": [
      "n_features: 1, 10x\n",
      "\t\twmdp-bio: 0.637077808380127\n",
      "\t\thigh_school_us_history: 0.7450980544090271\n",
      "\t\thigh_school_geography: 0.752525269985199\n",
      "\t\tcollege_computer_science: 0.41999998688697815\n",
      "\t\thuman_aging: 0.6278027296066284\n",
      "\t\tcollege_biology: 0.7152777910232544\n"
     ]
    },
    {
     "name": "stderr",
     "output_type": "stream",
     "text": [
      "100%|██████████| 213/213 [00:22<00:00,  9.53it/s]\n",
      "100%|██████████| 34/34 [00:08<00:00,  4.06it/s]\n",
      "100%|██████████| 33/33 [00:02<00:00, 11.63it/s]\n",
      "100%|██████████| 17/17 [00:02<00:00,  7.62it/s]\n",
      "100%|██████████| 38/38 [00:03<00:00, 11.72it/s]\n",
      "100%|██████████| 24/24 [00:02<00:00,  9.85it/s]\n"
     ]
    },
    {
     "name": "stdout",
     "output_type": "stream",
     "text": [
      "n_features: 1, 15x\n",
      "\t\twmdp-bio: 0.6386488676071167\n",
      "\t\thigh_school_us_history: 0.7352941632270813\n",
      "\t\thigh_school_geography: 0.7575757503509521\n",
      "\t\tcollege_computer_science: 0.429999977350235\n",
      "\t\thuman_aging: 0.6188341379165649\n",
      "\t\tcollege_biology: 0.7152777910232544\n"
     ]
    },
    {
     "name": "stderr",
     "output_type": "stream",
     "text": [
      "100%|██████████| 213/213 [00:22<00:00,  9.37it/s]\n",
      "100%|██████████| 34/34 [00:08<00:00,  4.01it/s]\n",
      "100%|██████████| 33/33 [00:02<00:00, 11.04it/s]\n",
      "100%|██████████| 17/17 [00:02<00:00,  7.73it/s]\n",
      "100%|██████████| 38/38 [00:03<00:00, 11.66it/s]\n",
      "100%|██████████| 24/24 [00:02<00:00,  9.83it/s]\n"
     ]
    },
    {
     "name": "stdout",
     "output_type": "stream",
     "text": [
      "n_features: 1, 20x\n",
      "\t\twmdp-bio: 0.6465043425559998\n",
      "\t\thigh_school_us_history: 0.7303921580314636\n",
      "\t\thigh_school_geography: 0.7575757503509521\n",
      "\t\tcollege_computer_science: 0.4399999976158142\n",
      "\t\thuman_aging: 0.6098654866218567\n",
      "\t\tcollege_biology: 0.7152777910232544\n"
     ]
    },
    {
     "name": "stderr",
     "output_type": "stream",
     "text": [
      "100%|██████████| 213/213 [00:22<00:00,  9.27it/s]\n",
      "100%|██████████| 34/34 [00:08<00:00,  4.02it/s]\n",
      "100%|██████████| 33/33 [00:02<00:00, 11.58it/s]\n",
      "100%|██████████| 17/17 [00:02<00:00,  7.36it/s]\n",
      "100%|██████████| 38/38 [00:04<00:00,  9.39it/s]\n",
      "100%|██████████| 24/24 [00:02<00:00,  8.53it/s]\n"
     ]
    },
    {
     "name": "stdout",
     "output_type": "stream",
     "text": [
      "n_features: 5, 0x\n",
      "\t\twmdp-bio: 0.6355066895484924\n",
      "\t\thigh_school_us_history: 0.7401961088180542\n",
      "\t\thigh_school_geography: 0.7575757503509521\n",
      "\t\tcollege_computer_science: 0.44999998807907104\n",
      "\t\thuman_aging: 0.6322870254516602\n",
      "\t\tcollege_biology: 0.7083333134651184\n"
     ]
    },
    {
     "name": "stderr",
     "output_type": "stream",
     "text": [
      "100%|██████████| 213/213 [00:21<00:00,  9.89it/s]\n",
      "100%|██████████| 34/34 [00:08<00:00,  4.03it/s]\n",
      "100%|██████████| 33/33 [00:03<00:00,  9.75it/s]\n",
      "100%|██████████| 17/17 [00:02<00:00,  7.68it/s]\n",
      "100%|██████████| 38/38 [00:03<00:00, 11.65it/s]\n",
      "100%|██████████| 24/24 [00:02<00:00,  9.72it/s]\n"
     ]
    },
    {
     "name": "stdout",
     "output_type": "stream",
     "text": [
      "n_features: 5, 5x\n",
      "\t\twmdp-bio: 0.5428122878074646\n",
      "\t\thigh_school_us_history: 0.7401961088180542\n",
      "\t\thigh_school_geography: 0.7575757503509521\n",
      "\t\tcollege_computer_science: 0.429999977350235\n",
      "\t\thuman_aging: 0.6188341379165649\n",
      "\t\tcollege_biology: 0.6388888955116272\n"
     ]
    },
    {
     "name": "stderr",
     "output_type": "stream",
     "text": [
      "100%|██████████| 213/213 [00:21<00:00,  9.91it/s]\n",
      "100%|██████████| 34/34 [00:08<00:00,  4.04it/s]\n",
      "100%|██████████| 33/33 [00:03<00:00,  9.26it/s]\n",
      "100%|██████████| 17/17 [00:02<00:00,  7.31it/s]\n",
      "100%|██████████| 38/38 [00:03<00:00, 11.09it/s]\n",
      "100%|██████████| 24/24 [00:02<00:00,  9.58it/s]\n"
     ]
    },
    {
     "name": "stdout",
     "output_type": "stream",
     "text": [
      "n_features: 5, 10x\n",
      "\t\twmdp-bio: 0.4689709544181824\n",
      "\t\thigh_school_us_history: 0.7205882668495178\n",
      "\t\thigh_school_geography: 0.7575757503509521\n",
      "\t\tcollege_computer_science: 0.4099999964237213\n",
      "\t\thuman_aging: 0.6188341379165649\n",
      "\t\tcollege_biology: 0.6180555820465088\n"
     ]
    },
    {
     "name": "stderr",
     "output_type": "stream",
     "text": [
      "100%|██████████| 213/213 [00:22<00:00,  9.66it/s]\n",
      "100%|██████████| 34/34 [00:08<00:00,  4.04it/s]\n",
      "100%|██████████| 33/33 [00:03<00:00, 10.22it/s]\n",
      "100%|██████████| 17/17 [00:02<00:00,  7.32it/s]\n",
      "100%|██████████| 38/38 [00:03<00:00, 11.42it/s]\n",
      "100%|██████████| 24/24 [00:02<00:00,  9.70it/s]\n"
     ]
    },
    {
     "name": "stdout",
     "output_type": "stream",
     "text": [
      "n_features: 5, 15x\n",
      "\t\twmdp-bio: 0.41162610054016113\n",
      "\t\thigh_school_us_history: 0.6911764740943909\n",
      "\t\thigh_school_geography: 0.7121211886405945\n",
      "\t\tcollege_computer_science: 0.4099999964237213\n",
      "\t\thuman_aging: 0.6233184337615967\n",
      "\t\tcollege_biology: 0.5277777910232544\n"
     ]
    },
    {
     "name": "stderr",
     "output_type": "stream",
     "text": [
      "100%|██████████| 213/213 [00:24<00:00,  8.84it/s]\n",
      "100%|██████████| 34/34 [00:08<00:00,  4.05it/s]\n",
      "100%|██████████| 33/33 [00:02<00:00, 11.74it/s]\n",
      "100%|██████████| 17/17 [00:02<00:00,  7.63it/s]\n",
      "100%|██████████| 38/38 [00:03<00:00, 11.83it/s]\n",
      "100%|██████████| 24/24 [00:02<00:00,  9.01it/s]\n"
     ]
    },
    {
     "name": "stdout",
     "output_type": "stream",
     "text": [
      "n_features: 5, 20x\n",
      "\t\twmdp-bio: 0.3919874429702759\n",
      "\t\thigh_school_us_history: 0.6666666865348816\n",
      "\t\thigh_school_geography: 0.6717171669006348\n",
      "\t\tcollege_computer_science: 0.429999977350235\n",
      "\t\thuman_aging: 0.5919283032417297\n",
      "\t\tcollege_biology: 0.4930555522441864\n"
     ]
    },
    {
     "name": "stderr",
     "output_type": "stream",
     "text": [
      "100%|██████████| 213/213 [00:21<00:00,  9.82it/s]\n",
      "100%|██████████| 34/34 [00:08<00:00,  4.06it/s]\n",
      "100%|██████████| 33/33 [00:03<00:00, 10.99it/s]\n",
      "100%|██████████| 17/17 [00:02<00:00,  7.75it/s]\n",
      "100%|██████████| 38/38 [00:03<00:00, 12.11it/s]\n",
      "100%|██████████| 24/24 [00:02<00:00,  8.95it/s]\n"
     ]
    },
    {
     "name": "stdout",
     "output_type": "stream",
     "text": [
      "n_features: 10, 0x\n",
      "\t\twmdp-bio: 0.6355066895484924\n",
      "\t\thigh_school_us_history: 0.7401961088180542\n",
      "\t\thigh_school_geography: 0.7575757503509521\n",
      "\t\tcollege_computer_science: 0.44999998807907104\n",
      "\t\thuman_aging: 0.6322870254516602\n",
      "\t\tcollege_biology: 0.7083333134651184\n"
     ]
    },
    {
     "name": "stderr",
     "output_type": "stream",
     "text": [
      "100%|██████████| 213/213 [00:21<00:00,  9.72it/s]\n",
      "100%|██████████| 34/34 [00:08<00:00,  4.04it/s]\n",
      "100%|██████████| 33/33 [00:02<00:00, 11.34it/s]\n",
      "100%|██████████| 17/17 [00:02<00:00,  7.74it/s]\n",
      "100%|██████████| 38/38 [00:03<00:00, 11.44it/s]\n",
      "100%|██████████| 24/24 [00:02<00:00,  9.68it/s]\n"
     ]
    },
    {
     "name": "stdout",
     "output_type": "stream",
     "text": [
      "n_features: 10, 5x\n",
      "\t\twmdp-bio: 0.533385694026947\n",
      "\t\thigh_school_us_history: 0.7401961088180542\n",
      "\t\thigh_school_geography: 0.752525269985199\n",
      "\t\tcollege_computer_science: 0.4399999976158142\n",
      "\t\thuman_aging: 0.6188341379165649\n",
      "\t\tcollege_biology: 0.6458333134651184\n"
     ]
    },
    {
     "name": "stderr",
     "output_type": "stream",
     "text": [
      "100%|██████████| 213/213 [00:21<00:00,  9.80it/s]\n",
      "100%|██████████| 34/34 [00:08<00:00,  4.06it/s]\n",
      "100%|██████████| 33/33 [00:02<00:00, 11.57it/s]\n",
      "100%|██████████| 17/17 [00:02<00:00,  7.76it/s]\n",
      "100%|██████████| 38/38 [00:03<00:00, 11.68it/s]\n",
      "100%|██████████| 24/24 [00:02<00:00,  9.04it/s]\n"
     ]
    },
    {
     "name": "stdout",
     "output_type": "stream",
     "text": [
      "n_features: 10, 10x\n",
      "\t\twmdp-bio: 0.4422623813152313\n",
      "\t\thigh_school_us_history: 0.7254902124404907\n",
      "\t\thigh_school_geography: 0.7575757503509521\n",
      "\t\tcollege_computer_science: 0.429999977350235\n",
      "\t\thuman_aging: 0.6278027296066284\n",
      "\t\tcollege_biology: 0.625\n"
     ]
    },
    {
     "name": "stderr",
     "output_type": "stream",
     "text": [
      "100%|██████████| 213/213 [00:22<00:00,  9.40it/s]\n",
      "100%|██████████| 34/34 [00:08<00:00,  4.04it/s]\n",
      "100%|██████████| 33/33 [00:02<00:00, 11.43it/s]\n",
      "100%|██████████| 17/17 [00:02<00:00,  7.72it/s]\n",
      "100%|██████████| 38/38 [00:03<00:00, 11.33it/s]\n",
      "100%|██████████| 24/24 [00:02<00:00,  9.59it/s]\n"
     ]
    },
    {
     "name": "stdout",
     "output_type": "stream",
     "text": [
      "n_features: 10, 15x\n",
      "\t\twmdp-bio: 0.4037706255912781\n",
      "\t\thigh_school_us_history: 0.7009804248809814\n",
      "\t\thigh_school_geography: 0.7020202279090881\n",
      "\t\tcollege_computer_science: 0.429999977350235\n",
      "\t\thuman_aging: 0.6322870254516602\n",
      "\t\tcollege_biology: 0.5277777910232544\n"
     ]
    },
    {
     "name": "stderr",
     "output_type": "stream",
     "text": [
      "100%|██████████| 213/213 [00:22<00:00,  9.60it/s]\n",
      "100%|██████████| 34/34 [00:08<00:00,  4.08it/s]\n",
      "100%|██████████| 33/33 [00:03<00:00,  9.77it/s]\n",
      "100%|██████████| 17/17 [00:02<00:00,  7.71it/s]\n",
      "100%|██████████| 38/38 [00:03<00:00, 11.79it/s]\n",
      "100%|██████████| 24/24 [00:02<00:00,  9.93it/s]\n"
     ]
    },
    {
     "name": "stdout",
     "output_type": "stream",
     "text": [
      "n_features: 10, 20x\n",
      "\t\twmdp-bio: 0.3723487854003906\n",
      "\t\thigh_school_us_history: 0.6519607901573181\n",
      "\t\thigh_school_geography: 0.691919207572937\n",
      "\t\tcollege_computer_science: 0.4599999785423279\n",
      "\t\thuman_aging: 0.5964125990867615\n",
      "\t\tcollege_biology: 0.472222238779068\n"
     ]
    },
    {
     "name": "stderr",
     "output_type": "stream",
     "text": [
      "100%|██████████| 213/213 [00:22<00:00,  9.46it/s]\n",
      "100%|██████████| 34/34 [00:08<00:00,  4.04it/s]\n",
      "100%|██████████| 33/33 [00:02<00:00, 11.40it/s]\n",
      "100%|██████████| 17/17 [00:02<00:00,  7.79it/s]\n",
      "100%|██████████| 38/38 [00:03<00:00, 11.91it/s]\n",
      "100%|██████████| 24/24 [00:02<00:00,  9.80it/s]\n"
     ]
    },
    {
     "name": "stdout",
     "output_type": "stream",
     "text": [
      "n_features: 15, 0x\n",
      "\t\twmdp-bio: 0.6355066895484924\n",
      "\t\thigh_school_us_history: 0.7401961088180542\n",
      "\t\thigh_school_geography: 0.7575757503509521\n",
      "\t\tcollege_computer_science: 0.44999998807907104\n",
      "\t\thuman_aging: 0.6322870254516602\n",
      "\t\tcollege_biology: 0.7083333134651184\n"
     ]
    },
    {
     "name": "stderr",
     "output_type": "stream",
     "text": [
      "100%|██████████| 213/213 [00:21<00:00,  9.98it/s]\n",
      "100%|██████████| 34/34 [00:08<00:00,  4.05it/s]\n",
      "100%|██████████| 33/33 [00:03<00:00, 10.47it/s]\n",
      "100%|██████████| 17/17 [00:02<00:00,  7.78it/s]\n",
      "100%|██████████| 38/38 [00:03<00:00, 11.33it/s]\n",
      "100%|██████████| 24/24 [00:02<00:00,  9.41it/s]\n"
     ]
    },
    {
     "name": "stdout",
     "output_type": "stream",
     "text": [
      "n_features: 15, 5x\n",
      "\t\twmdp-bio: 0.5192458629608154\n",
      "\t\thigh_school_us_history: 0.75\n",
      "\t\thigh_school_geography: 0.752525269985199\n",
      "\t\tcollege_computer_science: 0.4599999785423279\n",
      "\t\thuman_aging: 0.6188341379165649\n",
      "\t\tcollege_biology: 0.6111111044883728\n"
     ]
    },
    {
     "name": "stderr",
     "output_type": "stream",
     "text": [
      "100%|██████████| 213/213 [00:21<00:00,  9.88it/s]\n",
      "100%|██████████| 34/34 [00:08<00:00,  4.03it/s]\n",
      "100%|██████████| 33/33 [00:02<00:00, 11.75it/s]\n",
      "100%|██████████| 17/17 [00:02<00:00,  7.73it/s]\n",
      "100%|██████████| 38/38 [00:03<00:00, 11.51it/s]\n",
      "100%|██████████| 24/24 [00:02<00:00,  9.55it/s]\n"
     ]
    },
    {
     "name": "stdout",
     "output_type": "stream",
     "text": [
      "n_features: 15, 10x\n",
      "\t\twmdp-bio: 0.4155538082122803\n",
      "\t\thigh_school_us_history: 0.7107843160629272\n",
      "\t\thigh_school_geography: 0.7373737096786499\n",
      "\t\tcollege_computer_science: 0.41999998688697815\n",
      "\t\thuman_aging: 0.5695067644119263\n",
      "\t\tcollege_biology: 0.5972222089767456\n"
     ]
    },
    {
     "name": "stderr",
     "output_type": "stream",
     "text": [
      "100%|██████████| 213/213 [00:21<00:00,  9.84it/s]\n",
      "100%|██████████| 34/34 [00:08<00:00,  4.05it/s]\n",
      "100%|██████████| 33/33 [00:02<00:00, 12.07it/s]\n",
      "100%|██████████| 17/17 [00:02<00:00,  7.80it/s]\n",
      "100%|██████████| 38/38 [00:03<00:00, 12.21it/s]\n",
      "100%|██████████| 24/24 [00:02<00:00,  9.85it/s]\n"
     ]
    },
    {
     "name": "stdout",
     "output_type": "stream",
     "text": [
      "n_features: 15, 15x\n",
      "\t\twmdp-bio: 0.38098978996276855\n",
      "\t\thigh_school_us_history: 0.7058823704719543\n",
      "\t\thigh_school_geography: 0.7121211886405945\n",
      "\t\tcollege_computer_science: 0.41999998688697815\n",
      "\t\thuman_aging: 0.5201793909072876\n",
      "\t\tcollege_biology: 0.4583333432674408\n"
     ]
    },
    {
     "name": "stderr",
     "output_type": "stream",
     "text": [
      "100%|██████████| 213/213 [00:20<00:00, 10.19it/s]\n",
      "100%|██████████| 34/34 [00:08<00:00,  4.03it/s]\n",
      "100%|██████████| 33/33 [00:02<00:00, 11.79it/s]\n",
      "100%|██████████| 17/17 [00:02<00:00,  7.70it/s]\n",
      "100%|██████████| 38/38 [00:03<00:00, 11.64it/s]\n",
      "100%|██████████| 24/24 [00:02<00:00,  9.87it/s]\n"
     ]
    },
    {
     "name": "stdout",
     "output_type": "stream",
     "text": [
      "n_features: 15, 20x\n",
      "\t\twmdp-bio: 0.3676355183124542\n",
      "\t\thigh_school_us_history: 0.6470588445663452\n",
      "\t\thigh_school_geography: 0.6767676472663879\n",
      "\t\tcollege_computer_science: 0.44999998807907104\n",
      "\t\thuman_aging: 0.48878926038742065\n",
      "\t\tcollege_biology: 0.4583333432674408\n"
     ]
    },
    {
     "name": "stderr",
     "output_type": "stream",
     "text": [
      "100%|██████████| 213/213 [00:20<00:00, 10.22it/s]\n",
      "100%|██████████| 34/34 [00:08<00:00,  4.05it/s]\n",
      "100%|██████████| 33/33 [00:02<00:00, 11.76it/s]\n",
      "100%|██████████| 17/17 [00:02<00:00,  7.75it/s]\n",
      "100%|██████████| 38/38 [00:03<00:00, 11.93it/s]\n",
      "100%|██████████| 24/24 [00:02<00:00,  9.87it/s]\n"
     ]
    },
    {
     "name": "stdout",
     "output_type": "stream",
     "text": [
      "n_features: 20, 0x\n",
      "\t\twmdp-bio: 0.6355066895484924\n",
      "\t\thigh_school_us_history: 0.7401961088180542\n",
      "\t\thigh_school_geography: 0.7575757503509521\n",
      "\t\tcollege_computer_science: 0.44999998807907104\n",
      "\t\thuman_aging: 0.6322870254516602\n",
      "\t\tcollege_biology: 0.7083333134651184\n"
     ]
    },
    {
     "name": "stderr",
     "output_type": "stream",
     "text": [
      "100%|██████████| 213/213 [00:21<00:00,  9.87it/s]\n",
      "100%|██████████| 34/34 [00:08<00:00,  4.06it/s]\n",
      "100%|██████████| 33/33 [00:02<00:00, 11.48it/s]\n",
      "100%|██████████| 17/17 [00:02<00:00,  7.79it/s]\n",
      "100%|██████████| 38/38 [00:03<00:00, 12.48it/s]\n",
      "100%|██████████| 24/24 [00:02<00:00, 10.06it/s]\n"
     ]
    },
    {
     "name": "stdout",
     "output_type": "stream",
     "text": [
      "n_features: 20, 5x\n",
      "\t\twmdp-bio: 0.49960723519325256\n",
      "\t\thigh_school_us_history: 0.7450980544090271\n",
      "\t\thigh_school_geography: 0.747474730014801\n",
      "\t\tcollege_computer_science: 0.4399999976158142\n",
      "\t\thuman_aging: 0.6233184337615967\n",
      "\t\tcollege_biology: 0.625\n"
     ]
    },
    {
     "name": "stderr",
     "output_type": "stream",
     "text": [
      "100%|██████████| 213/213 [00:20<00:00, 10.21it/s]\n",
      "100%|██████████| 34/34 [00:08<00:00,  4.05it/s]\n",
      "100%|██████████| 33/33 [00:02<00:00, 11.78it/s]\n",
      "100%|██████████| 17/17 [00:02<00:00,  7.69it/s]\n",
      "100%|██████████| 38/38 [00:03<00:00, 12.41it/s]\n",
      "100%|██████████| 24/24 [00:02<00:00,  9.74it/s]\n"
     ]
    },
    {
     "name": "stdout",
     "output_type": "stream",
     "text": [
      "n_features: 20, 10x\n",
      "\t\twmdp-bio: 0.41633936762809753\n",
      "\t\thigh_school_us_history: 0.7107843160629272\n",
      "\t\thigh_school_geography: 0.7373737096786499\n",
      "\t\tcollege_computer_science: 0.429999977350235\n",
      "\t\thuman_aging: 0.5470852255821228\n",
      "\t\tcollege_biology: 0.5416666865348816\n"
     ]
    },
    {
     "name": "stderr",
     "output_type": "stream",
     "text": [
      "100%|██████████| 213/213 [00:22<00:00,  9.57it/s]\n",
      "100%|██████████| 34/34 [00:08<00:00,  4.06it/s]\n",
      "100%|██████████| 33/33 [00:02<00:00, 11.46it/s]\n",
      "100%|██████████| 17/17 [00:02<00:00,  7.90it/s]\n",
      "100%|██████████| 38/38 [00:03<00:00, 10.99it/s]\n",
      "100%|██████████| 24/24 [00:02<00:00,  9.82it/s]\n"
     ]
    },
    {
     "name": "stdout",
     "output_type": "stream",
     "text": [
      "n_features: 20, 15x\n",
      "\t\twmdp-bio: 0.37627652287483215\n",
      "\t\thigh_school_us_history: 0.7009804248809814\n",
      "\t\thigh_school_geography: 0.7171717286109924\n",
      "\t\tcollege_computer_science: 0.41999998688697815\n",
      "\t\thuman_aging: 0.5112107992172241\n",
      "\t\tcollege_biology: 0.375\n"
     ]
    },
    {
     "name": "stderr",
     "output_type": "stream",
     "text": [
      "100%|██████████| 213/213 [00:21<00:00,  9.95it/s]\n",
      "100%|██████████| 34/34 [00:08<00:00,  4.07it/s]\n",
      "100%|██████████| 33/33 [00:02<00:00, 11.92it/s]\n",
      "100%|██████████| 17/17 [00:02<00:00,  7.70it/s]\n",
      "100%|██████████| 38/38 [00:03<00:00, 11.68it/s]\n",
      "100%|██████████| 24/24 [00:02<00:00,  9.75it/s]"
     ]
    },
    {
     "name": "stdout",
     "output_type": "stream",
     "text": [
      "n_features: 20, 20x\n",
      "\t\twmdp-bio: 0.35349568724632263\n",
      "\t\thigh_school_us_history: 0.6372549533843994\n",
      "\t\thigh_school_geography: 0.6868686676025391\n",
      "\t\tcollege_computer_science: 0.44999998807907104\n",
      "\t\thuman_aging: 0.5022422075271606\n",
      "\t\tcollege_biology: 0.4166666567325592\n"
     ]
    },
    {
     "name": "stderr",
     "output_type": "stream",
     "text": [
      "\n"
     ]
    }
   ],
   "source": [
    "from unlearning.intervention import intervention\n",
    "from unlearning.metrics import calculate_metrics_rmu\n",
    "\n",
    "dataset_names = ['wmdp-bio', 'high_school_us_history', 'high_school_geography', 'college_computer_science', 'human_aging', 'college_biology']\n",
    "metric_params = {d: {'target_metric': 'all'} for d in dataset_names}\n",
    "\n",
    "for n_features in [1, 5, 10, 15, 20]:\n",
    "    for multiplier in [0, 5, 10, 15, 20]:\n",
    "        with intervention(model, layer, sae, list(top_features[:n_features]), multiplier=multiplier, intervention_type='scale'):\n",
    "            results_all = calculate_metrics_rmu(model, dataset_names, metric_params=metric_params)\n",
    "            \n",
    "        print(f'n_features: {n_features}, {multiplier}x')\n",
    "        for dataset in results_all:\n",
    "            print(f'\\t\\t{dataset}: {results_all[dataset][\"mean_correct\"]}')\n",
    "            "
   ]
  },
  {
   "cell_type": "code",
   "execution_count": null,
   "metadata": {},
   "outputs": [],
   "source": []
  }
 ],
 "metadata": {
  "kernelspec": {
   "display_name": ".venv",
   "language": "python",
   "name": "python3"
  },
  "language_info": {
   "codemirror_mode": {
    "name": "ipython",
    "version": 3
   },
   "file_extension": ".py",
   "mimetype": "text/x-python",
   "name": "python",
   "nbconvert_exporter": "python",
   "pygments_lexer": "ipython3",
   "version": "3.10.13"
  }
 },
 "nbformat": 4,
 "nbformat_minor": 2
}
