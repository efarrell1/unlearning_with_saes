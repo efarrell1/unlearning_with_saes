{
 "cells": [
  {
   "cell_type": "code",
   "execution_count": 16,
   "metadata": {},
   "outputs": [
    {
     "name": "stdout",
     "output_type": "stream",
     "text": [
      "The autoreload extension is already loaded. To reload it, use:\n",
      "  %reload_ext autoreload\n"
     ]
    }
   ],
   "source": [
    "%load_ext autoreload\n",
    "%autoreload 2\n",
    "import torch\n",
    "import numpy as np\n",
    "\n",
    "from unlearning.tool import get_hf_model\n",
    "from unlearning.feature_activation import get_forget_retain_data, tokenize_dataset, get_mean_feature_activation, get_top_features\n",
    "from unlearning.jump_relu import load_gemma2_2b_sae\n",
    "from unlearning.intervention import intervention\n",
    "from unlearning.metrics import calculate_MCQ_metrics"
   ]
  },
  {
   "cell_type": "code",
   "execution_count": 2,
   "metadata": {},
   "outputs": [
    {
     "data": {
      "application/vnd.jupyter.widget-view+json": {
       "model_id": "765952bb01084f379db7b8f468b20f9b",
       "version_major": 2,
       "version_minor": 0
      },
      "text/plain": [
       "config.json:   0%|          | 0.00/838 [00:00<?, ?B/s]"
      ]
     },
     "metadata": {},
     "output_type": "display_data"
    },
    {
     "data": {
      "application/vnd.jupyter.widget-view+json": {
       "model_id": "c43514e3de9a412ca3eaee563864e907",
       "version_major": 2,
       "version_minor": 0
      },
      "text/plain": [
       "model.safetensors.index.json:   0%|          | 0.00/24.2k [00:00<?, ?B/s]"
      ]
     },
     "metadata": {},
     "output_type": "display_data"
    },
    {
     "data": {
      "application/vnd.jupyter.widget-view+json": {
       "model_id": "6c0f701e50cf47838e740b5b470dc988",
       "version_major": 2,
       "version_minor": 0
      },
      "text/plain": [
       "Downloading shards:   0%|          | 0/2 [00:00<?, ?it/s]"
      ]
     },
     "metadata": {},
     "output_type": "display_data"
    },
    {
     "data": {
      "application/vnd.jupyter.widget-view+json": {
       "model_id": "d02e7e9509824382980fc1076a1c061e",
       "version_major": 2,
       "version_minor": 0
      },
      "text/plain": [
       "model-00001-of-00002.safetensors:   0%|          | 0.00/4.99G [00:00<?, ?B/s]"
      ]
     },
     "metadata": {},
     "output_type": "display_data"
    },
    {
     "data": {
      "application/vnd.jupyter.widget-view+json": {
       "model_id": "145f1c71766c4e4492d00c252bbd4597",
       "version_major": 2,
       "version_minor": 0
      },
      "text/plain": [
       "model-00002-of-00002.safetensors:   0%|          | 0.00/241M [00:00<?, ?B/s]"
      ]
     },
     "metadata": {},
     "output_type": "display_data"
    },
    {
     "data": {
      "application/vnd.jupyter.widget-view+json": {
       "model_id": "42792ab6d7c34263a00694aae8f99edb",
       "version_major": 2,
       "version_minor": 0
      },
      "text/plain": [
       "Loading checkpoint shards:   0%|          | 0/2 [00:00<?, ?it/s]"
      ]
     },
     "metadata": {},
     "output_type": "display_data"
    },
    {
     "data": {
      "application/vnd.jupyter.widget-view+json": {
       "model_id": "6e64cd1ec13d47ad91758fd6c15cac9d",
       "version_major": 2,
       "version_minor": 0
      },
      "text/plain": [
       "generation_config.json:   0%|          | 0.00/187 [00:00<?, ?B/s]"
      ]
     },
     "metadata": {},
     "output_type": "display_data"
    },
    {
     "data": {
      "application/vnd.jupyter.widget-view+json": {
       "model_id": "eb633f3c21394820ad8266c49e46291f",
       "version_major": 2,
       "version_minor": 0
      },
      "text/plain": [
       "tokenizer_config.json:   0%|          | 0.00/46.9k [00:00<?, ?B/s]"
      ]
     },
     "metadata": {},
     "output_type": "display_data"
    },
    {
     "data": {
      "application/vnd.jupyter.widget-view+json": {
       "model_id": "a6693c4838744e45aad1eff9c4c58552",
       "version_major": 2,
       "version_minor": 0
      },
      "text/plain": [
       "tokenizer.model:   0%|          | 0.00/4.24M [00:00<?, ?B/s]"
      ]
     },
     "metadata": {},
     "output_type": "display_data"
    },
    {
     "data": {
      "application/vnd.jupyter.widget-view+json": {
       "model_id": "dbca5acb42e949e4af8da552acd7df5a",
       "version_major": 2,
       "version_minor": 0
      },
      "text/plain": [
       "tokenizer.json:   0%|          | 0.00/17.5M [00:00<?, ?B/s]"
      ]
     },
     "metadata": {},
     "output_type": "display_data"
    },
    {
     "data": {
      "application/vnd.jupyter.widget-view+json": {
       "model_id": "b67b8b30b0204f78b46b61ed84dd4082",
       "version_major": 2,
       "version_minor": 0
      },
      "text/plain": [
       "special_tokens_map.json:   0%|          | 0.00/555 [00:00<?, ?B/s]"
      ]
     },
     "metadata": {},
     "output_type": "display_data"
    }
   ],
   "source": [
    "model = get_hf_model('google/gemma-2-2b-it')"
   ]
  },
  {
   "cell_type": "markdown",
   "metadata": {},
   "source": [
    "### insert random vector if the top features fire up"
   ]
  },
  {
   "cell_type": "code",
   "execution_count": 4,
   "metadata": {},
   "outputs": [
    {
     "name": "stdout",
     "output_type": "stream",
     "text": [
      "Found SAE with l0=59 at path google/gemma-scope-2b-pt-res/layer_3/width_16k/average_l0_59/params.npz\n"
     ]
    }
   ],
   "source": [
    "# saes = {layer: load_gemma2_2b_sae(layer=layer) for layer in range(model.config.num_hidden_layers)}\n",
    "\n",
    "# top_features_all_layers = {\n",
    "#     layer: np.loadtxt(f'../data/top_features/gemma-2-2b-it/layer{layer}.txt', dtype=int) \n",
    "#     for layer in range(model.config.num_hidden_layers)\n",
    "# }\n",
    "\n",
    "LAYER = 3\n",
    "sae = load_gemma2_2b_sae(layer=LAYER)\n",
    "top_features = np.loadtxt(f'../data/top_features/gemma-2-2b-it/layer{LAYER}.txt', dtype=int)"
   ]
  },
  {
   "cell_type": "code",
   "execution_count": 5,
   "metadata": {},
   "outputs": [],
   "source": [
    "from dataclasses import dataclass\n",
    "\n",
    "@dataclass\n",
    "class AblationResults:\n",
    "    multiplier: int\n",
    "    n_features: int\n",
    "    acc: dict[str, float]\n",
    "    full_metrics: dict[str, dict]"
   ]
  },
  {
   "cell_type": "code",
   "execution_count": 20,
   "metadata": {},
   "outputs": [
    {
     "name": "stderr",
     "output_type": "stream",
     "text": [
      "100%|██████████| 213/213 [00:20<00:00, 10.17it/s]\n",
      "100%|██████████| 34/34 [00:08<00:00,  4.15it/s]\n",
      "100%|██████████| 33/33 [00:02<00:00, 11.71it/s]\n",
      "100%|██████████| 17/17 [00:02<00:00,  7.92it/s]\n",
      "100%|██████████| 38/38 [00:03<00:00, 12.09it/s]\n",
      "100%|██████████| 24/24 [00:02<00:00,  9.83it/s]\n"
     ]
    },
    {
     "name": "stdout",
     "output_type": "stream",
     "text": [
      "{'wmdp-bio': 0.46975648403167725, 'high_school_us_history': 0.7598039507865906, 'high_school_geography': 0.7424242496490479, 'college_computer_science': 0.4599999785423279, 'human_aging': 0.5695067644119263, 'college_biology': 0.5416666865348816}\n"
     ]
    }
   ],
   "source": [
    "n_features = 20\n",
    "multiplier = 100\n",
    "with intervention(model, LAYER, sae, top_features[:n_features], multiplier=multiplier, intervention_type='clamp', random=False):\n",
    "    acc, full_metrics = {}, {}\n",
    "    datasets = ['wmdp-bio', 'high_school_us_history', 'high_school_geography', 'college_computer_science', 'human_aging', 'college_biology']\n",
    "    \n",
    "    for dataset_name in datasets:\n",
    "        metrics = calculate_MCQ_metrics(model, dataset_name=dataset_name)\n",
    "        acc[dataset_name] = metrics['mean_correct']\n",
    "        full_metrics[dataset_name] = metrics\n",
    "        \n",
    "    print(acc)"
   ]
  },
  {
   "cell_type": "code",
   "execution_count": 22,
   "metadata": {},
   "outputs": [
    {
     "name": "stderr",
     "output_type": "stream",
     "text": [
      "100%|██████████| 213/213 [00:22<00:00,  9.51it/s]\n",
      "100%|██████████| 34/34 [00:08<00:00,  4.16it/s]\n",
      "100%|██████████| 33/33 [00:02<00:00, 11.59it/s]\n",
      "100%|██████████| 17/17 [00:02<00:00,  7.98it/s]\n",
      "100%|██████████| 38/38 [00:03<00:00, 11.71it/s]\n",
      "100%|██████████| 24/24 [00:02<00:00, 10.15it/s]"
     ]
    },
    {
     "name": "stdout",
     "output_type": "stream",
     "text": [
      "{'wmdp-bio': 0.542026698589325, 'high_school_us_history': 0.7303921580314636, 'high_school_geography': 0.7626262903213501, 'college_computer_science': 0.4399999976158142, 'human_aging': 0.5829596519470215, 'college_biology': 0.6388888955116272}\n"
     ]
    },
    {
     "name": "stderr",
     "output_type": "stream",
     "text": [
      "\n"
     ]
    }
   ],
   "source": [
    "n_features = 20\n",
    "multiplier = 100\n",
    "with intervention(model, LAYER, sae, top_features[:n_features], multiplier=multiplier, intervention_type='clamp', random=True):\n",
    "    acc, full_metrics = {}, {}\n",
    "    datasets = ['wmdp-bio', 'high_school_us_history', 'high_school_geography', 'college_computer_science', 'human_aging', 'college_biology']\n",
    "    \n",
    "    for dataset_name in datasets:\n",
    "        metrics = calculate_MCQ_metrics(model, dataset_name=dataset_name)\n",
    "        acc[dataset_name] = metrics['mean_correct']\n",
    "        full_metrics[dataset_name] = metrics\n",
    "        \n",
    "    print(acc)"
   ]
  },
  {
   "cell_type": "code",
   "execution_count": 49,
   "metadata": {},
   "outputs": [],
   "source": [
    "from contextlib import ExitStack\n",
    "\n",
    "def run_interventions(model, saes, top_features, n_features, multiplier, datasets):\n",
    "    with ExitStack() as stack:\n",
    "        for layer in range(model.config.num_hidden_layers):\n",
    "            stack.enter_context(scaling_intervention(\n",
    "                model, layer, saes[layer], top_features[layer][:n_features], multiplier\n",
    "            ))\n",
    "\n",
    "        acc = {}\n",
    "        full_metrics = {}\n",
    "        for dataset_name in datasets:\n",
    "            metrics = calculate_MCQ_metrics(model, dataset_name=dataset_name)\n",
    "            acc[dataset_name] = metrics['mean_correct']\n",
    "            full_metrics[dataset_name] = metrics\n",
    "        \n",
    "    print(f'{n_features} features, {multiplier}x')\n",
    "    print(acc)\n",
    "    return AblationResults(multiplier=multiplier, n_features=n_features, acc=acc, full_metrics=full_metrics)\n",
    "\n"
   ]
  },
  {
   "cell_type": "code",
   "execution_count": 50,
   "metadata": {},
   "outputs": [
    {
     "name": "stderr",
     "output_type": "stream",
     "text": [
      "100%|██████████| 213/213 [01:30<00:00,  2.36it/s]\n",
      "100%|██████████| 34/34 [00:39<00:00,  1.16s/it]\n",
      "100%|██████████| 33/33 [00:10<00:00,  3.20it/s]\n",
      "100%|██████████| 17/17 [00:10<00:00,  1.69it/s]\n",
      "100%|██████████| 38/38 [00:10<00:00,  3.47it/s]\n",
      "100%|██████████| 24/24 [00:10<00:00,  2.28it/s]\n"
     ]
    },
    {
     "name": "stdout",
     "output_type": "stream",
     "text": [
      "10 features, 1x\n",
      "{'wmdp-bio': 0.604084849357605, 'high_school_us_history': 0.7352941632270813, 'high_school_geography': 0.752525269985199, 'college_computer_science': 0.3999999761581421, 'human_aging': 0.6322870254516602, 'college_biology': 0.6597222089767456}\n"
     ]
    },
    {
     "name": "stderr",
     "output_type": "stream",
     "text": [
      "100%|██████████| 213/213 [01:32<00:00,  2.31it/s]\n",
      "100%|██████████| 34/34 [00:39<00:00,  1.16s/it]\n",
      "100%|██████████| 33/33 [00:10<00:00,  3.19it/s]\n",
      "100%|██████████| 17/17 [00:10<00:00,  1.68it/s]\n",
      "100%|██████████| 38/38 [00:10<00:00,  3.47it/s]\n",
      "100%|██████████| 24/24 [00:10<00:00,  2.26it/s]\n"
     ]
    },
    {
     "name": "stdout",
     "output_type": "stream",
     "text": [
      "10 features, 5x\n",
      "{'wmdp-bio': 0.5027494430541992, 'high_school_us_history': 0.7107843160629272, 'high_school_geography': 0.7424242496490479, 'college_computer_science': 0.4099999964237213, 'human_aging': 0.6098654866218567, 'college_biology': 0.5833333134651184}\n"
     ]
    },
    {
     "name": "stderr",
     "output_type": "stream",
     "text": [
      "100%|██████████| 213/213 [01:32<00:00,  2.31it/s]\n",
      "100%|██████████| 34/34 [00:39<00:00,  1.16s/it]\n",
      "100%|██████████| 33/33 [00:10<00:00,  3.17it/s]\n",
      "100%|██████████| 17/17 [00:10<00:00,  1.68it/s]\n",
      "100%|██████████| 38/38 [00:10<00:00,  3.47it/s]\n",
      "100%|██████████| 24/24 [00:10<00:00,  2.26it/s]\n"
     ]
    },
    {
     "name": "stdout",
     "output_type": "stream",
     "text": [
      "10 features, 10x\n",
      "{'wmdp-bio': 0.42576590180397034, 'high_school_us_history': 0.6813725829124451, 'high_school_geography': 0.7424242496490479, 'college_computer_science': 0.3799999952316284, 'human_aging': 0.5874439477920532, 'college_biology': 0.506944477558136}\n"
     ]
    },
    {
     "name": "stderr",
     "output_type": "stream",
     "text": [
      "100%|██████████| 213/213 [01:32<00:00,  2.30it/s]\n",
      "100%|██████████| 34/34 [00:39<00:00,  1.16s/it]\n",
      "100%|██████████| 33/33 [00:10<00:00,  3.18it/s]\n",
      "100%|██████████| 17/17 [00:10<00:00,  1.68it/s]\n",
      "100%|██████████| 38/38 [00:10<00:00,  3.46it/s]\n",
      "100%|██████████| 24/24 [00:10<00:00,  2.27it/s]\n"
     ]
    },
    {
     "name": "stdout",
     "output_type": "stream",
     "text": [
      "10 features, 20x\n",
      "{'wmdp-bio': 0.293794184923172, 'high_school_us_history': 0.6617647409439087, 'high_school_geography': 0.6565656661987305, 'college_computer_science': 0.35999998450279236, 'human_aging': 0.5022422075271606, 'college_biology': 0.4027777910232544}\n"
     ]
    },
    {
     "name": "stderr",
     "output_type": "stream",
     "text": [
      "100%|██████████| 213/213 [01:32<00:00,  2.30it/s]\n",
      "100%|██████████| 34/34 [00:39<00:00,  1.17s/it]\n",
      "100%|██████████| 33/33 [00:10<00:00,  3.17it/s]\n",
      "100%|██████████| 17/17 [00:10<00:00,  1.68it/s]\n",
      "100%|██████████| 38/38 [00:10<00:00,  3.47it/s]\n",
      "100%|██████████| 24/24 [00:10<00:00,  2.26it/s]\n"
     ]
    },
    {
     "name": "stdout",
     "output_type": "stream",
     "text": [
      "10 features, 50x\n",
      "{'wmdp-bio': 0.25058916211128235, 'high_school_us_history': 0.2549019753932953, 'high_school_geography': 0.28787878155708313, 'college_computer_science': 0.29999998211860657, 'human_aging': 0.3004484474658966, 'college_biology': 0.236111119389534}\n"
     ]
    },
    {
     "name": "stderr",
     "output_type": "stream",
     "text": [
      "100%|██████████| 213/213 [01:33<00:00,  2.29it/s]\n",
      "100%|██████████| 34/34 [00:39<00:00,  1.17s/it]\n",
      "100%|██████████| 33/33 [00:10<00:00,  3.16it/s]\n",
      "100%|██████████| 17/17 [00:10<00:00,  1.68it/s]\n",
      "100%|██████████| 38/38 [00:11<00:00,  3.45it/s]\n",
      "100%|██████████| 24/24 [00:10<00:00,  2.25it/s]\n"
     ]
    },
    {
     "name": "stdout",
     "output_type": "stream",
     "text": [
      "10 features, 100x\n",
      "{'wmdp-bio': 0.2663000822067261, 'high_school_us_history': 0.2549019753932953, 'high_school_geography': 0.17171716690063477, 'college_computer_science': 0.28999999165534973, 'human_aging': 0.29596415162086487, 'college_biology': 0.236111119389534}\n"
     ]
    },
    {
     "name": "stderr",
     "output_type": "stream",
     "text": [
      "100%|██████████| 213/213 [01:32<00:00,  2.31it/s]\n",
      "100%|██████████| 34/34 [00:39<00:00,  1.16s/it]\n",
      "100%|██████████| 33/33 [00:10<00:00,  3.18it/s]\n",
      "100%|██████████| 17/17 [00:10<00:00,  1.68it/s]\n",
      "100%|██████████| 38/38 [00:10<00:00,  3.47it/s]\n",
      "100%|██████████| 24/24 [00:10<00:00,  2.27it/s]\n"
     ]
    },
    {
     "name": "stdout",
     "output_type": "stream",
     "text": [
      "20 features, 1x\n",
      "{'wmdp-bio': 0.5946583151817322, 'high_school_us_history': 0.7156863212585449, 'high_school_geography': 0.752525269985199, 'college_computer_science': 0.4099999964237213, 'human_aging': 0.6233184337615967, 'college_biology': 0.6666666865348816}\n"
     ]
    },
    {
     "name": "stderr",
     "output_type": "stream",
     "text": [
      "100%|██████████| 213/213 [01:32<00:00,  2.31it/s]\n",
      "100%|██████████| 34/34 [00:39<00:00,  1.16s/it]\n",
      "100%|██████████| 33/33 [00:10<00:00,  3.17it/s]\n",
      "100%|██████████| 17/17 [00:10<00:00,  1.68it/s]\n",
      "100%|██████████| 38/38 [00:10<00:00,  3.47it/s]\n",
      "100%|██████████| 24/24 [00:10<00:00,  2.27it/s]\n"
     ]
    },
    {
     "name": "stdout",
     "output_type": "stream",
     "text": [
      "20 features, 5x\n",
      "{'wmdp-bio': 0.46975648403167725, 'high_school_us_history': 0.7058823704719543, 'high_school_geography': 0.7424242496490479, 'college_computer_science': 0.38999998569488525, 'human_aging': 0.6188341379165649, 'college_biology': 0.5972222089767456}\n"
     ]
    },
    {
     "name": "stderr",
     "output_type": "stream",
     "text": [
      "100%|██████████| 213/213 [01:32<00:00,  2.31it/s]\n",
      "100%|██████████| 34/34 [00:39<00:00,  1.16s/it]\n",
      "100%|██████████| 33/33 [00:10<00:00,  3.18it/s]\n",
      "100%|██████████| 17/17 [00:10<00:00,  1.69it/s]\n",
      "100%|██████████| 38/38 [00:10<00:00,  3.47it/s]\n",
      "100%|██████████| 24/24 [00:10<00:00,  2.27it/s]\n"
     ]
    },
    {
     "name": "stdout",
     "output_type": "stream",
     "text": [
      "20 features, 10x\n",
      "{'wmdp-bio': 0.3817753493785858, 'high_school_us_history': 0.6715686321258545, 'high_school_geography': 0.7171717286109924, 'college_computer_science': 0.3499999940395355, 'human_aging': 0.5515695214271545, 'college_biology': 0.4791666567325592}\n"
     ]
    },
    {
     "name": "stderr",
     "output_type": "stream",
     "text": [
      "100%|██████████| 213/213 [01:32<00:00,  2.31it/s]\n",
      "100%|██████████| 34/34 [00:39<00:00,  1.17s/it]\n",
      "100%|██████████| 33/33 [00:10<00:00,  3.19it/s]\n",
      "100%|██████████| 17/17 [00:10<00:00,  1.68it/s]\n",
      "100%|██████████| 38/38 [00:10<00:00,  3.46it/s]\n",
      "100%|██████████| 24/24 [00:10<00:00,  2.27it/s]\n"
     ]
    },
    {
     "name": "stdout",
     "output_type": "stream",
     "text": [
      "20 features, 20x\n",
      "{'wmdp-bio': 0.2631579041481018, 'high_school_us_history': 0.5, 'high_school_geography': 0.5, 'college_computer_science': 0.2800000011920929, 'human_aging': 0.4439462125301361, 'college_biology': 0.2986111044883728}\n"
     ]
    },
    {
     "name": "stderr",
     "output_type": "stream",
     "text": [
      "100%|██████████| 213/213 [01:33<00:00,  2.28it/s]\n",
      "100%|██████████| 34/34 [00:39<00:00,  1.17s/it]\n",
      "100%|██████████| 33/33 [00:10<00:00,  3.15it/s]\n",
      "100%|██████████| 17/17 [00:10<00:00,  1.67it/s]\n",
      "100%|██████████| 38/38 [00:11<00:00,  3.44it/s]\n",
      "100%|██████████| 24/24 [00:10<00:00,  2.26it/s]\n"
     ]
    },
    {
     "name": "stdout",
     "output_type": "stream",
     "text": [
      "20 features, 50x\n",
      "{'wmdp-bio': 0.25530242919921875, 'high_school_us_history': 0.2647058963775635, 'high_school_geography': 0.1818181872367859, 'college_computer_science': 0.1899999976158142, 'human_aging': 0.33183857798576355, 'college_biology': 0.2916666567325592}\n"
     ]
    },
    {
     "name": "stderr",
     "output_type": "stream",
     "text": [
      "100%|██████████| 213/213 [01:33<00:00,  2.28it/s]\n",
      "100%|██████████| 34/34 [00:40<00:00,  1.18s/it]\n",
      "100%|██████████| 33/33 [00:10<00:00,  3.14it/s]\n",
      "100%|██████████| 17/17 [00:10<00:00,  1.66it/s]\n",
      "100%|██████████| 38/38 [00:11<00:00,  3.36it/s]\n",
      "100%|██████████| 24/24 [00:10<00:00,  2.23it/s]\n"
     ]
    },
    {
     "name": "stdout",
     "output_type": "stream",
     "text": [
      "20 features, 100x\n",
      "{'wmdp-bio': 0.2592301666736603, 'high_school_us_history': 0.28431373834609985, 'high_school_geography': 0.21212121844291687, 'college_computer_science': 0.23999999463558197, 'human_aging': 0.25560539960861206, 'college_biology': 0.284722238779068}\n"
     ]
    },
    {
     "name": "stderr",
     "output_type": "stream",
     "text": [
      "100%|██████████| 213/213 [01:32<00:00,  2.30it/s]\n",
      "100%|██████████| 34/34 [00:39<00:00,  1.16s/it]\n",
      "100%|██████████| 33/33 [00:10<00:00,  3.18it/s]\n",
      "100%|██████████| 17/17 [00:10<00:00,  1.67it/s]\n",
      "100%|██████████| 38/38 [00:10<00:00,  3.49it/s]\n",
      "100%|██████████| 24/24 [00:10<00:00,  2.27it/s]\n"
     ]
    },
    {
     "name": "stdout",
     "output_type": "stream",
     "text": [
      "50 features, 1x\n",
      "{'wmdp-bio': 0.5820895433425903, 'high_school_us_history': 0.7303921580314636, 'high_school_geography': 0.7626262903213501, 'college_computer_science': 0.3700000047683716, 'human_aging': 0.6278027296066284, 'college_biology': 0.6875}\n"
     ]
    },
    {
     "name": "stderr",
     "output_type": "stream",
     "text": [
      "100%|██████████| 213/213 [01:32<00:00,  2.31it/s]\n",
      "100%|██████████| 34/34 [00:39<00:00,  1.17s/it]\n",
      "100%|██████████| 33/33 [00:10<00:00,  3.19it/s]\n",
      "100%|██████████| 17/17 [00:10<00:00,  1.69it/s]\n",
      "100%|██████████| 38/38 [00:10<00:00,  3.46it/s]\n",
      "100%|██████████| 24/24 [00:10<00:00,  2.28it/s]\n"
     ]
    },
    {
     "name": "stdout",
     "output_type": "stream",
     "text": [
      "50 features, 5x\n",
      "{'wmdp-bio': 0.447761207818985, 'high_school_us_history': 0.6960784792900085, 'high_school_geography': 0.7121211886405945, 'college_computer_science': 0.38999998569488525, 'human_aging': 0.573991060256958, 'college_biology': 0.472222238779068}\n"
     ]
    },
    {
     "name": "stderr",
     "output_type": "stream",
     "text": [
      "100%|██████████| 213/213 [01:32<00:00,  2.31it/s]\n",
      "100%|██████████| 34/34 [00:39<00:00,  1.16s/it]\n",
      "100%|██████████| 33/33 [00:10<00:00,  3.18it/s]\n",
      "100%|██████████| 17/17 [00:10<00:00,  1.68it/s]\n",
      "100%|██████████| 38/38 [00:10<00:00,  3.47it/s]\n",
      "100%|██████████| 24/24 [00:10<00:00,  2.27it/s]\n"
     ]
    },
    {
     "name": "stdout",
     "output_type": "stream",
     "text": [
      "50 features, 10x\n",
      "{'wmdp-bio': 0.329143762588501, 'high_school_us_history': 0.6225490570068359, 'high_school_geography': 0.6010100841522217, 'college_computer_science': 0.3400000035762787, 'human_aging': 0.40807175636291504, 'college_biology': 0.347222238779068}\n"
     ]
    },
    {
     "name": "stderr",
     "output_type": "stream",
     "text": [
      "100%|██████████| 213/213 [01:32<00:00,  2.30it/s]\n",
      "100%|██████████| 34/34 [00:39<00:00,  1.17s/it]\n",
      "100%|██████████| 33/33 [00:10<00:00,  3.18it/s]\n",
      "100%|██████████| 17/17 [00:10<00:00,  1.68it/s]\n",
      "100%|██████████| 38/38 [00:11<00:00,  3.45it/s]\n",
      "100%|██████████| 24/24 [00:10<00:00,  2.26it/s]\n"
     ]
    },
    {
     "name": "stdout",
     "output_type": "stream",
     "text": [
      "50 features, 20x\n",
      "{'wmdp-bio': 0.2584446370601654, 'high_school_us_history': 0.25, 'high_school_geography': 0.18686868250370026, 'college_computer_science': 0.23999999463558197, 'human_aging': 0.3139013648033142, 'college_biology': 0.25}\n"
     ]
    },
    {
     "name": "stderr",
     "output_type": "stream",
     "text": [
      "100%|██████████| 213/213 [01:33<00:00,  2.28it/s]\n",
      "100%|██████████| 34/34 [00:40<00:00,  1.18s/it]\n",
      "100%|██████████| 33/33 [00:10<00:00,  3.15it/s]\n",
      "100%|██████████| 17/17 [00:10<00:00,  1.66it/s]\n",
      "100%|██████████| 38/38 [00:11<00:00,  3.42it/s]\n",
      "100%|██████████| 24/24 [00:10<00:00,  2.24it/s]\n"
     ]
    },
    {
     "name": "stdout",
     "output_type": "stream",
     "text": [
      "50 features, 50x\n",
      "{'wmdp-bio': 0.2639434337615967, 'high_school_us_history': 0.2598039209842682, 'high_school_geography': 0.2626262605190277, 'college_computer_science': 0.2800000011920929, 'human_aging': 0.2331838607788086, 'college_biology': 0.2291666716337204}\n"
     ]
    },
    {
     "name": "stderr",
     "output_type": "stream",
     "text": [
      "100%|██████████| 213/213 [01:33<00:00,  2.28it/s]\n",
      "100%|██████████| 34/34 [00:40<00:00,  1.18s/it]\n",
      "100%|██████████| 33/33 [00:10<00:00,  3.15it/s]\n",
      "100%|██████████| 17/17 [00:10<00:00,  1.66it/s]\n",
      "100%|██████████| 38/38 [00:11<00:00,  3.43it/s]\n",
      "100%|██████████| 24/24 [00:10<00:00,  2.24it/s]\n"
     ]
    },
    {
     "name": "stdout",
     "output_type": "stream",
     "text": [
      "50 features, 100x\n",
      "{'wmdp-bio': 0.24351924657821655, 'high_school_us_history': 0.2598039209842682, 'high_school_geography': 0.27272728085517883, 'college_computer_science': 0.29999998211860657, 'human_aging': 0.20179373025894165, 'college_biology': 0.2916666567325592}\n"
     ]
    },
    {
     "name": "stderr",
     "output_type": "stream",
     "text": [
      "100%|██████████| 213/213 [01:32<00:00,  2.31it/s]\n",
      "100%|██████████| 34/34 [00:39<00:00,  1.16s/it]\n"
     ]
    }
   ],
   "source": [
    "n_features = 20\n",
    "multiplier = 20\n",
    "datasets = ['wmdp-bio', 'high_school_us_history', 'high_school_geography', 'college_computer_science', 'human_aging', 'college_biology']\n",
    "\n",
    "all_results = []\n",
    "for n_features in [10, 20, 50, 100]:\n",
    "    for multiplier in [1, 5, 10, 20, 50, 100]:\n",
    "        result = run_interventions(model, saes, top_features_all_layers, n_features, multiplier, datasets)\n",
    "        all_results.append(result)\n"
   ]
  },
  {
   "cell_type": "code",
   "execution_count": 37,
   "metadata": {},
   "outputs": [
    {
     "data": {
      "text/plain": [
       "{'wmdp-bio': 0.6355066895484924,\n",
       " 'high_school_us_history': 0.7401961088180542,\n",
       " 'high_school_geography': 0.7575757503509521,\n",
       " 'college_computer_science': 0.44999998807907104,\n",
       " 'human_aging': 0.6322870254516602,\n",
       " 'college_biology': 0.7083333134651184}"
      ]
     },
     "execution_count": 37,
     "metadata": {},
     "output_type": "execute_result"
    }
   ],
   "source": [
    "baseline_results"
   ]
  },
  {
   "cell_type": "code",
   "execution_count": 35,
   "metadata": {},
   "outputs": [
    {
     "data": {
      "text/plain": [
       "{'wmdp-bio': 0.6245090365409851,\n",
       " 'high_school_us_history': 0.7450980544090271,\n",
       " 'high_school_geography': 0.752525269985199,\n",
       " 'college_computer_science': 0.44999998807907104,\n",
       " 'human_aging': 0.6233184337615967,\n",
       " 'college_biology': 0.6875}"
      ]
     },
     "execution_count": 35,
     "metadata": {},
     "output_type": "execute_result"
    }
   ],
   "source": [
    "results # 20 features each layer, zero ablate"
   ]
  },
  {
   "cell_type": "code",
   "execution_count": 39,
   "metadata": {},
   "outputs": [
    {
     "data": {
      "text/plain": [
       "{'wmdp-bio': 0.628436803817749,\n",
       " 'high_school_us_history': 0.7352941632270813,\n",
       " 'high_school_geography': 0.7575757503509521,\n",
       " 'college_computer_science': 0.4399999976158142,\n",
       " 'human_aging': 0.6367713212966919,\n",
       " 'college_biology': 0.7013888955116272}"
      ]
     },
     "execution_count": 39,
     "metadata": {},
     "output_type": "execute_result"
    }
   ],
   "source": [
    "zero_ablate_results # zero ablate 40 features"
   ]
  },
  {
   "cell_type": "code",
   "execution_count": 43,
   "metadata": {},
   "outputs": [
    {
     "data": {
      "text/plain": [
       "{'wmdp-bio': 0.6111547350883484,\n",
       " 'high_school_us_history': 0.7401961088180542,\n",
       " 'high_school_geography': 0.6616161465644836,\n",
       " 'college_computer_science': 0.3999999761581421,\n",
       " 'human_aging': 0.573991060256958,\n",
       " 'college_biology': 0.6527777910232544}"
      ]
     },
     "execution_count": 43,
     "metadata": {},
     "output_type": "execute_result"
    }
   ],
   "source": [
    "zero_ablate_results_1000 # zero ablate 1000 features"
   ]
  },
  {
   "cell_type": "code",
   "execution_count": 45,
   "metadata": {},
   "outputs": [
    {
     "data": {
      "text/plain": [
       "{'wmdp-bio': 0.2820110023021698,\n",
       " 'high_school_us_history': 0.30882352590560913,\n",
       " 'high_school_geography': 0.2626262605190277,\n",
       " 'college_computer_science': 0.25,\n",
       " 'human_aging': 0.31838566064834595,\n",
       " 'college_biology': 0.2708333432674408}"
      ]
     },
     "execution_count": 45,
     "metadata": {},
     "output_type": "execute_result"
    }
   ],
   "source": [
    "zero_ablate_results_5000 # zero ablate 1000 features"
   ]
  },
  {
   "cell_type": "code",
   "execution_count": 33,
   "metadata": {},
   "outputs": [
    {
     "data": {
      "text/plain": [
       "{'wmdp-bio': 0.3244304955005646,\n",
       " 'high_school_us_history': 0.7352941632270813,\n",
       " 'high_school_geography': 0.7272727489471436,\n",
       " 'college_computer_science': 0.41999998688697815,\n",
       " 'human_aging': 0.5291479825973511,\n",
       " 'college_biology': 0.4513888955116272}"
      ]
     },
     "execution_count": 33,
     "metadata": {},
     "output_type": "execute_result"
    }
   ],
   "source": [
    "results # 20 features each layer, multiplier 20"
   ]
  },
  {
   "cell_type": "code",
   "execution_count": 18,
   "metadata": {},
   "outputs": [
    {
     "data": {
      "application/vnd.jupyter.widget-view+json": {
       "model_id": "9d0e1c7d6b7f414183a208f88671b682",
       "version_major": 2,
       "version_minor": 0
      },
      "text/plain": [
       "Downloading readme:   0%|          | 0.00/4.64k [00:00<?, ?B/s]"
      ]
     },
     "metadata": {},
     "output_type": "display_data"
    },
    {
     "data": {
      "application/vnd.jupyter.widget-view+json": {
       "model_id": "39f332d054c7491fb943963737913069",
       "version_major": 2,
       "version_minor": 0
      },
      "text/plain": [
       "Downloading data:   0%|          | 0.00/258k [00:00<?, ?B/s]"
      ]
     },
     "metadata": {},
     "output_type": "display_data"
    },
    {
     "data": {
      "application/vnd.jupyter.widget-view+json": {
       "model_id": "0753a1640f7d496ab27e40331ebbffd2",
       "version_major": 2,
       "version_minor": 0
      },
      "text/plain": [
       "Generating test split:   0%|          | 0/1273 [00:00<?, ? examples/s]"
      ]
     },
     "metadata": {},
     "output_type": "display_data"
    },
    {
     "name": "stderr",
     "output_type": "stream",
     "text": [
      "100%|██████████| 213/213 [00:26<00:00,  7.93it/s]\n"
     ]
    },
    {
     "data": {
      "application/vnd.jupyter.widget-view+json": {
       "model_id": "4009196b171743728549bcd6de8c4570",
       "version_major": 2,
       "version_minor": 0
      },
      "text/plain": [
       "Downloading readme:   0%|          | 0.00/53.2k [00:00<?, ?B/s]"
      ]
     },
     "metadata": {},
     "output_type": "display_data"
    },
    {
     "data": {
      "application/vnd.jupyter.widget-view+json": {
       "model_id": "a67521fd4b504538af88d0f6a6f497da",
       "version_major": 2,
       "version_minor": 0
      },
      "text/plain": [
       "Downloading metadata:   0%|          | 0.00/138k [00:00<?, ?B/s]"
      ]
     },
     "metadata": {},
     "output_type": "display_data"
    },
    {
     "data": {
      "application/vnd.jupyter.widget-view+json": {
       "model_id": "8f511c1fb9ec445cabd3908839811001",
       "version_major": 2,
       "version_minor": 0
      },
      "text/plain": [
       "Downloading data:   0%|          | 0.00/155k [00:00<?, ?B/s]"
      ]
     },
     "metadata": {},
     "output_type": "display_data"
    },
    {
     "data": {
      "application/vnd.jupyter.widget-view+json": {
       "model_id": "b7f096730b3c416abfe4a03a702e87dd",
       "version_major": 2,
       "version_minor": 0
      },
      "text/plain": [
       "Downloading data:   0%|          | 0.00/27.3k [00:00<?, ?B/s]"
      ]
     },
     "metadata": {},
     "output_type": "display_data"
    },
    {
     "data": {
      "application/vnd.jupyter.widget-view+json": {
       "model_id": "e9959f1132384804aec47ff2752a31f9",
       "version_major": 2,
       "version_minor": 0
      },
      "text/plain": [
       "Downloading data:   0%|          | 0.00/17.8k [00:00<?, ?B/s]"
      ]
     },
     "metadata": {},
     "output_type": "display_data"
    },
    {
     "data": {
      "application/vnd.jupyter.widget-view+json": {
       "model_id": "d3fcec09a5d14de2981da98bd816a346",
       "version_major": 2,
       "version_minor": 0
      },
      "text/plain": [
       "Generating test split:   0%|          | 0/204 [00:00<?, ? examples/s]"
      ]
     },
     "metadata": {},
     "output_type": "display_data"
    },
    {
     "data": {
      "application/vnd.jupyter.widget-view+json": {
       "model_id": "698aa0e8b9da4da9b7b52d8e591a96ad",
       "version_major": 2,
       "version_minor": 0
      },
      "text/plain": [
       "Generating validation split:   0%|          | 0/22 [00:00<?, ? examples/s]"
      ]
     },
     "metadata": {},
     "output_type": "display_data"
    },
    {
     "data": {
      "application/vnd.jupyter.widget-view+json": {
       "model_id": "888cce5c12964323ae605cd27f79e111",
       "version_major": 2,
       "version_minor": 0
      },
      "text/plain": [
       "Generating dev split:   0%|          | 0/5 [00:00<?, ? examples/s]"
      ]
     },
     "metadata": {},
     "output_type": "display_data"
    },
    {
     "name": "stderr",
     "output_type": "stream",
     "text": [
      "100%|██████████| 34/34 [00:10<00:00,  3.20it/s]\n"
     ]
    },
    {
     "data": {
      "application/vnd.jupyter.widget-view+json": {
       "model_id": "32db95d6723948449c6f43ffc1a7866d",
       "version_major": 2,
       "version_minor": 0
      },
      "text/plain": [
       "Downloading data:   0%|          | 0.00/31.2k [00:00<?, ?B/s]"
      ]
     },
     "metadata": {},
     "output_type": "display_data"
    },
    {
     "data": {
      "application/vnd.jupyter.widget-view+json": {
       "model_id": "aee47cf4ad424efdbe5bae8b347ac225",
       "version_major": 2,
       "version_minor": 0
      },
      "text/plain": [
       "Downloading data:   0%|          | 0.00/6.28k [00:00<?, ?B/s]"
      ]
     },
     "metadata": {},
     "output_type": "display_data"
    },
    {
     "data": {
      "application/vnd.jupyter.widget-view+json": {
       "model_id": "2e423ff11cdc4fa9ab888583714d3325",
       "version_major": 2,
       "version_minor": 0
      },
      "text/plain": [
       "Downloading data:   0%|          | 0.00/3.67k [00:00<?, ?B/s]"
      ]
     },
     "metadata": {},
     "output_type": "display_data"
    },
    {
     "data": {
      "application/vnd.jupyter.widget-view+json": {
       "model_id": "a925da12ffe34d55ba87bcd86f8f5c16",
       "version_major": 2,
       "version_minor": 0
      },
      "text/plain": [
       "Generating test split:   0%|          | 0/223 [00:00<?, ? examples/s]"
      ]
     },
     "metadata": {},
     "output_type": "display_data"
    },
    {
     "data": {
      "application/vnd.jupyter.widget-view+json": {
       "model_id": "0734d722633b4bd5a3f103a5c60457d4",
       "version_major": 2,
       "version_minor": 0
      },
      "text/plain": [
       "Generating validation split:   0%|          | 0/23 [00:00<?, ? examples/s]"
      ]
     },
     "metadata": {},
     "output_type": "display_data"
    },
    {
     "data": {
      "application/vnd.jupyter.widget-view+json": {
       "model_id": "7ff019bc80fc41f2bd431e321b953607",
       "version_major": 2,
       "version_minor": 0
      },
      "text/plain": [
       "Generating dev split:   0%|          | 0/5 [00:00<?, ? examples/s]"
      ]
     },
     "metadata": {},
     "output_type": "display_data"
    },
    {
     "name": "stderr",
     "output_type": "stream",
     "text": [
      "100%|██████████| 38/38 [00:03<00:00, 10.18it/s]\n"
     ]
    },
    {
     "data": {
      "application/vnd.jupyter.widget-view+json": {
       "model_id": "22aa5412d9d2453ab80f8956d1b2c2f7",
       "version_major": 2,
       "version_minor": 0
      },
      "text/plain": [
       "Downloading data:   0%|          | 0.00/31.8k [00:00<?, ?B/s]"
      ]
     },
     "metadata": {},
     "output_type": "display_data"
    },
    {
     "data": {
      "application/vnd.jupyter.widget-view+json": {
       "model_id": "10889115aa9d462bb7c33b957d234005",
       "version_major": 2,
       "version_minor": 0
      },
      "text/plain": [
       "Downloading data:   0%|          | 0.00/6.90k [00:00<?, ?B/s]"
      ]
     },
     "metadata": {},
     "output_type": "display_data"
    },
    {
     "data": {
      "application/vnd.jupyter.widget-view+json": {
       "model_id": "a260c9353e8a4dddabfadbdad6978721",
       "version_major": 2,
       "version_minor": 0
      },
      "text/plain": [
       "Downloading data:   0%|          | 0.00/4.27k [00:00<?, ?B/s]"
      ]
     },
     "metadata": {},
     "output_type": "display_data"
    },
    {
     "data": {
      "application/vnd.jupyter.widget-view+json": {
       "model_id": "29bdca321dc8498da1beab2170791712",
       "version_major": 2,
       "version_minor": 0
      },
      "text/plain": [
       "Generating test split:   0%|          | 0/144 [00:00<?, ? examples/s]"
      ]
     },
     "metadata": {},
     "output_type": "display_data"
    },
    {
     "data": {
      "application/vnd.jupyter.widget-view+json": {
       "model_id": "2a55f0717c764f4bbf94778338dce61f",
       "version_major": 2,
       "version_minor": 0
      },
      "text/plain": [
       "Generating validation split:   0%|          | 0/16 [00:00<?, ? examples/s]"
      ]
     },
     "metadata": {},
     "output_type": "display_data"
    },
    {
     "data": {
      "application/vnd.jupyter.widget-view+json": {
       "model_id": "c068f26e6d734433837836d16c0754f7",
       "version_major": 2,
       "version_minor": 0
      },
      "text/plain": [
       "Generating dev split:   0%|          | 0/5 [00:00<?, ? examples/s]"
      ]
     },
     "metadata": {},
     "output_type": "display_data"
    },
    {
     "name": "stderr",
     "output_type": "stream",
     "text": [
      "100%|██████████| 24/24 [00:03<00:00,  7.87it/s]"
     ]
    },
    {
     "name": "stdout",
     "output_type": "stream",
     "text": [
      "n_features: 20, multiplier: 20\n",
      "\t\twmdp-bio: 0.3244304955005646\n",
      "\t\thigh_school_us_history: 0.7352941632270813\n",
      "\t\thuman_aging: 0.5291479825973511\n",
      "\t\tcollege_bio: 0.4513888955116272\n"
     ]
    },
    {
     "name": "stderr",
     "output_type": "stream",
     "text": [
      "\n"
     ]
    }
   ],
   "source": [
    "\n",
    "\n",
    "# layer = 3\n",
    "# features_to_ablate = list(top_features[:80])\n",
    "# multiplier = 20\n",
    "\n",
    "n_features = 20\n",
    "multiplier = 20\n",
    "with scaling_intervention(model, 1, saes[1], top_features[1][:n_features], multiplier):\n",
    "    with scaling_intervention(model, 2, saes[2], top_features[2][:n_features], multiplier):\n",
    "        with scaling_intervention(model, 3, saes[3], top_features[3][:n_features], multiplier):\n",
    "\n",
    "            intervened_metrics = calculate_MCQ_metrics(model)\n",
    "            intervened_history_metrics = calculate_MCQ_metrics(model, dataset_name='high_school_us_history')\n",
    "            interved_human_aging_metrics = calculate_MCQ_metrics(model, dataset_name='human_aging')\n",
    "            intervened_college_bio_metrics = calculate_MCQ_metrics(model, dataset_name='college_biology')\n",
    "            \n",
    "            print(f\"n_features: {n_features}, multiplier: {multiplier}\")\n",
    "            print(f\"\\t\\twmdp-bio: {intervened_metrics['mean_correct']}\")\n",
    "            print(f\"\\t\\thigh_school_us_history: {intervened_history_metrics['mean_correct']}\")\n",
    "            print(f\"\\t\\thuman_aging: {interved_human_aging_metrics['mean_correct']}\")\n",
    "            print(f\"\\t\\tcollege_bio: {intervened_college_bio_metrics['mean_correct']}\")\n",
    "    "
   ]
  },
  {
   "cell_type": "code",
   "execution_count": 16,
   "metadata": {},
   "outputs": [
    {
     "data": {
      "text/plain": [
       "(8820,)"
      ]
     },
     "execution_count": 16,
     "metadata": {},
     "output_type": "execute_result"
    }
   ],
   "source": [
    "top_features[1].shape"
   ]
  }
 ],
 "metadata": {
  "kernelspec": {
   "display_name": "Python 3 (ipykernel)",
   "language": "python",
   "name": "python3"
  },
  "language_info": {
   "codemirror_mode": {
    "name": "ipython",
    "version": 3
   },
   "file_extension": ".py",
   "mimetype": "text/x-python",
   "name": "python",
   "nbconvert_exporter": "python",
   "pygments_lexer": "ipython3",
   "version": "3.11.6"
  }
 },
 "nbformat": 4,
 "nbformat_minor": 4
}
