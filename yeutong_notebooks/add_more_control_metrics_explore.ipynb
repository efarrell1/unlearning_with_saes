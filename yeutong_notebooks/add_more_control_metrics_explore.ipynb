{
 "cells": [
  {
   "cell_type": "code",
   "execution_count": 100,
   "metadata": {},
   "outputs": [
    {
     "name": "stdout",
     "output_type": "stream",
     "text": [
      "The autoreload extension is already loaded. To reload it, use:\n",
      "  %reload_ext autoreload\n"
     ]
    }
   ],
   "source": [
    "%load_ext autoreload\n",
    "%autoreload 2\n",
    "import torch\n",
    "\n",
    "from sae.sparse_autoencoder import load_saved_sae\n",
    "from sae.metrics import model_store_from_sae\n",
    "from unlearning.metrics import get_output_probs_abcd\n",
    "from unlearning.tool import UnlearningConfig, SAEUnlearningTool, MCQ_ActivationStoreAnalysis\n",
    "\n",
    "from huggingface_hub import hf_hub_download\n",
    "from datasets import load_dataset\n",
    "import numpy as np\n",
    "\n",
    "from jaxtyping import Float\n",
    "from torch import Tensor\n",
    "\n",
    "import plotly.express as px\n"
   ]
  },
  {
   "cell_type": "code",
   "execution_count": 2,
   "metadata": {},
   "outputs": [
    {
     "name": "stderr",
     "output_type": "stream",
     "text": [
      "`config.hidden_act` is ignored, you should use `config.hidden_activation` instead.\n",
      "Gemma's activation function will be set to `gelu_pytorch_tanh`. Please, use\n",
      "`config.hidden_activation` if you want to override this behaviour.\n",
      "See https://github.com/huggingface/transformers/pull/29402 for more details.\n"
     ]
    },
    {
     "data": {
      "application/vnd.jupyter.widget-view+json": {
       "model_id": "76f714f4cb3a4c7bb2926f36eb9fbe6e",
       "version_major": 2,
       "version_minor": 0
      },
      "text/plain": [
       "Loading checkpoint shards:   0%|          | 0/2 [00:00<?, ?it/s]"
      ]
     },
     "metadata": {},
     "output_type": "display_data"
    },
    {
     "name": "stderr",
     "output_type": "stream",
     "text": [
      "WARNING:root:You are not using LayerNorm, so the writing weights can't be centered! Skipping\n"
     ]
    },
    {
     "name": "stdout",
     "output_type": "stream",
     "text": [
      "Loaded pretrained model gemma-2b-it into HookedTransformer\n",
      "Moving model to device:  cuda\n"
     ]
    }
   ],
   "source": [
    "# resid pre 9\n",
    "REPO_ID = \"eoinf/unlearning_saes\"\n",
    "FILENAME = \"jolly-dream-40/sparse_autoencoder_gemma-2b-it_blocks.9.hook_resid_pre_s16384_127995904.pt\"\n",
    "\n",
    "\n",
    "filename = hf_hub_download(repo_id=REPO_ID, filename=FILENAME)\n",
    "sae = load_saved_sae(filename)\n",
    "\n",
    "model = model_store_from_sae(sae)"
   ]
  },
  {
   "cell_type": "code",
   "execution_count": 5,
   "metadata": {},
   "outputs": [],
   "source": [
    "dataset_name = 'college_biology'\n",
    "\n",
    "dataset = load_dataset(\"cais/mmlu\", dataset_name, split='test')\n",
    "\n",
    "answers = [x['answer'] for x in dataset]\n",
    "questions = [x['question'] for x in dataset]\n",
    "choices_list = [x['choices'] for x in dataset]\n"
   ]
  },
  {
   "cell_type": "code",
   "execution_count": 6,
   "metadata": {},
   "outputs": [
    {
     "name": "stdout",
     "output_type": "stream",
     "text": [
      "144\n"
     ]
    }
   ],
   "source": [
    "print(len(answers))"
   ]
  },
  {
   "cell_type": "code",
   "execution_count": 12,
   "metadata": {},
   "outputs": [],
   "source": [
    "\n",
    "from unlearning.metrics import get_output_probs_abcd, convert_wmdp_data_to_prompt\n"
   ]
  },
  {
   "cell_type": "code",
   "execution_count": 13,
   "metadata": {},
   "outputs": [
    {
     "name": "stdout",
     "output_type": "stream",
     "text": [
      "A. maintain the population at a point corresponding to the midpoint of its logistic curve\n",
      "B. opt for zero population control once the K value of the curve has been reached\n",
      "C. reduce the carrying capacity cif the environment to lower the K value\n",
      "D. increase the mortality rate\n",
      "Answer:\n"
     ]
    }
   ],
   "source": [
    "tmp = convert_wmdp_data_to_prompt(question=questions[0], choices=choices_list[0], without_question=True)\n",
    "print(tmp)"
   ]
  },
  {
   "cell_type": "code",
   "execution_count": 14,
   "metadata": {},
   "outputs": [
    {
     "data": {
      "text/plain": [
       "'A. maintain the population at a point corresponding to the midpoint of its logistic curve\\nB. opt for zero population control once the K value of the curve has been reached\\nC. reduce the carrying capacity cif the environment to lower the K value\\nD. increase the mortality rate\\nAnswer:'"
      ]
     },
     "execution_count": 14,
     "metadata": {},
     "output_type": "execute_result"
    }
   ],
   "source": [
    "tmp"
   ]
  },
  {
   "cell_type": "code",
   "execution_count": 29,
   "metadata": {},
   "outputs": [],
   "source": [
    "from unlearning.metrics import all_permutations, calculate_MCQ_metrics"
   ]
  },
  {
   "cell_type": "code",
   "execution_count": 22,
   "metadata": {},
   "outputs": [
    {
     "name": "stderr",
     "output_type": "stream",
     "text": [
      "100%|██████████| 576/576 [02:05<00:00,  4.60it/s]\n"
     ]
    }
   ],
   "source": [
    "metrics = calculate_MCQ_metrics(model, dataset, permutations=all_permutations)"
   ]
  },
  {
   "cell_type": "code",
   "execution_count": 23,
   "metadata": {},
   "outputs": [
    {
     "data": {
      "text/plain": [
       "array([1., 1., 1., ..., 1., 0., 1.], dtype=float32)"
      ]
     },
     "execution_count": 23,
     "metadata": {},
     "output_type": "execute_result"
    }
   ],
   "source": [
    "metrics['is_correct']"
   ]
  },
  {
   "cell_type": "code",
   "execution_count": 24,
   "metadata": {},
   "outputs": [
    {
     "data": {
      "text/plain": [
       "0.42476850748062134"
      ]
     },
     "execution_count": 24,
     "metadata": {},
     "output_type": "execute_result"
    }
   ],
   "source": [
    "metrics['mean_correct']"
   ]
  },
  {
   "cell_type": "code",
   "execution_count": 25,
   "metadata": {},
   "outputs": [
    {
     "data": {
      "text/plain": [
       "array([0.9583333 , 0.08333334, 1.        , 0.875     , 1.        ,\n",
       "       0.7083333 , 0.8333333 , 0.375     , 0.29166666, 1.        ,\n",
       "       0.        , 0.        , 0.5416667 , 1.        , 0.25      ,\n",
       "       0.29166666, 0.25      , 1.        , 0.        , 0.9583333 ,\n",
       "       0.8333333 , 0.        , 0.7916667 , 1.        , 1.        ,\n",
       "       1.        , 0.75      , 0.33333334, 0.29166666, 0.        ,\n",
       "       1.        , 0.41666666, 0.5416667 , 0.20833333, 0.20833333,\n",
       "       0.5       , 0.25      , 0.08333334, 0.9166667 , 0.08333334,\n",
       "       0.25      , 0.75      , 1.        , 0.45833334, 0.16666667,\n",
       "       0.125     , 0.25      , 0.5       , 0.25      , 0.        ,\n",
       "       0.375     , 0.33333334, 0.20833333, 0.29166666, 0.08333334,\n",
       "       0.5       , 0.5416667 , 0.25      , 0.        , 1.        ,\n",
       "       0.        , 0.5416667 , 0.33333334, 0.375     , 0.7083333 ,\n",
       "       0.25      , 0.        , 0.        , 1.        , 0.20833333,\n",
       "       0.        , 0.625     , 0.9583333 , 0.        , 0.25      ,\n",
       "       0.        , 1.        , 0.25      , 0.04166667, 0.        ,\n",
       "       0.5833333 , 0.45833334, 1.        , 0.20833333, 0.08333334,\n",
       "       0.25      , 0.        , 0.25      , 1.        , 0.75      ,\n",
       "       0.33333334, 0.25      , 0.5416667 , 0.45833334, 0.29166666,\n",
       "       0.20833333, 0.25      , 0.33333334, 0.5833333 , 0.9166667 ,\n",
       "       0.25      , 0.33333334, 0.7916667 , 0.        , 1.        ,\n",
       "       0.16666667, 0.        , 0.        , 0.33333334, 1.        ,\n",
       "       0.5833333 , 0.625     , 0.16666667, 0.45833334, 0.5       ,\n",
       "       0.25      , 0.5416667 , 0.5       , 0.        , 0.5       ,\n",
       "       0.5416667 , 0.875     , 0.16666667, 0.        , 0.        ,\n",
       "       0.08333334, 0.        , 0.08333334, 0.5       , 0.08333334,\n",
       "       0.41666666, 0.8333333 , 0.25      , 0.9166667 , 0.41666666,\n",
       "       0.125     , 0.        , 0.7916667 , 0.5833333 , 0.375     ,\n",
       "       0.6666667 , 0.25      , 0.45833334, 0.5       ], dtype=float32)"
      ]
     },
     "execution_count": 25,
     "metadata": {},
     "output_type": "execute_result"
    }
   ],
   "source": [
    "(metrics['is_correct'].reshape(-1, 24).mean(axis=1) == 1)"
   ]
  },
  {
   "cell_type": "code",
   "execution_count": 26,
   "metadata": {},
   "outputs": [
    {
     "data": {
      "text/plain": [
       "17"
      ]
     },
     "execution_count": 26,
     "metadata": {},
     "output_type": "execute_result"
    }
   ],
   "source": [
    "(metrics['is_correct'].reshape(-1, 24).mean(axis=1) == 1).sum()"
   ]
  },
  {
   "cell_type": "code",
   "execution_count": 30,
   "metadata": {},
   "outputs": [
    {
     "name": "stderr",
     "output_type": "stream",
     "text": [
      "100%|██████████| 576/576 [01:25<00:00,  6.76it/s]\n"
     ]
    }
   ],
   "source": [
    "metrics_wo_question = calculate_MCQ_metrics(model, dataset, permutations=all_permutations, without_question=True)"
   ]
  },
  {
   "cell_type": "code",
   "execution_count": 34,
   "metadata": {},
   "outputs": [
    {
     "data": {
      "text/plain": [
       "array([1.        , 0.08333334, 0.5       , 0.5833333 , 0.7916667 ,\n",
       "       0.7083333 , 0.29166666, 0.        , 0.        , 0.6666667 ,\n",
       "       0.        , 0.25      , 0.5416667 , 0.9583333 , 0.29166666,\n",
       "       0.125     , 0.08333334, 0.875     , 0.04166667, 0.29166666,\n",
       "       0.9166667 , 0.        , 0.33333334, 0.625     , 0.45833334,\n",
       "       0.29166666, 0.875     , 0.125     , 0.5833333 , 0.        ,\n",
       "       0.        , 0.125     , 0.33333334, 0.625     , 0.04166667,\n",
       "       0.7083333 , 0.25      , 0.125     , 0.33333334, 0.        ,\n",
       "       0.20833333, 0.5       , 1.        , 0.04166667, 0.        ,\n",
       "       0.6666667 , 0.20833333, 0.29166666, 0.20833333, 0.        ,\n",
       "       0.5       , 0.        , 0.        , 0.20833333, 0.125     ,\n",
       "       0.5       , 0.33333334, 0.45833334, 0.16666667, 0.20833333,\n",
       "       0.25      , 0.25      , 0.16666667, 0.375     , 0.5833333 ,\n",
       "       0.25      , 0.04166667, 0.04166667, 0.25      , 0.6666667 ,\n",
       "       0.16666667, 0.375     , 0.04166667, 0.        , 0.33333334,\n",
       "       0.        , 0.20833333, 0.04166667, 0.        , 0.        ,\n",
       "       0.6666667 , 0.08333334, 0.        , 0.33333334, 0.25      ,\n",
       "       0.125     , 0.        , 0.29166666, 0.25      , 0.625     ,\n",
       "       0.        , 0.29166666, 0.8333333 , 0.08333334, 0.29166666,\n",
       "       0.25      , 0.04166667, 0.08333334, 0.        , 0.25      ,\n",
       "       0.29166666, 0.        , 0.08333334, 0.08333334, 0.125     ,\n",
       "       0.5       , 0.25      , 0.        , 0.        , 0.875     ,\n",
       "       0.5       , 0.75      , 0.04166667, 0.25      , 0.29166666,\n",
       "       0.20833333, 0.25      , 0.875     , 0.        , 0.        ,\n",
       "       0.25      , 0.375     , 0.08333334, 0.        , 0.04166667,\n",
       "       0.04166667, 0.375     , 0.33333334, 0.125     , 0.16666667,\n",
       "       0.20833333, 0.7083333 , 0.08333334, 0.33333334, 0.25      ,\n",
       "       0.        , 0.        , 0.20833333, 0.        , 0.16666667,\n",
       "       0.08333334, 0.25      , 0.20833333, 0.41666666], dtype=float32)"
      ]
     },
     "execution_count": 34,
     "metadata": {},
     "output_type": "execute_result"
    }
   ],
   "source": [
    "metrics_wo_question['is_correct'].reshape(-1, 24).mean(axis=1)"
   ]
  },
  {
   "cell_type": "code",
   "execution_count": 74,
   "metadata": {},
   "outputs": [],
   "source": [
    "import os\n",
    "\n",
    "def save_target_question_ids(model, dataset, output_dir='../data/'):\n",
    "    \"\"\"\n",
    "    Find and save the question ids where the model \n",
    "    1. get all permutations correct\n",
    "    2. get all permutations correct but not all permutations correct when without the instruction and question prompt\n",
    "    \"\"\"\n",
    "    metrics = calculate_MCQ_metrics(model, dataset, permutations=all_permutations)\n",
    "    metrics_wo_question = calculate_MCQ_metrics(model, dataset, permutations=all_permutations, without_question=True)\n",
    "    \n",
    "    each_question_acc = metrics['is_correct'].reshape(-1, 24)\n",
    "    each_question_acc_wo_question = metrics_wo_question['is_correct'].reshape(-1, 24)\n",
    "    \n",
    "    # find the question ids where accuracy is 1 in each_question_acc but not 1 in\n",
    "    # each_question_acc_wo_question\n",
    "    questions_correct = each_question_acc.mean(axis=1) == 1\n",
    "    questions_correct_but_not_wo_question = questions_correct & (each_question_acc_wo_question.mean(axis=1) != 1)\n",
    "    \n",
    "    correct_question_id = np.where(questions_correct)[0]\n",
    "    questions_correct_but_not_wo_question_id = np.where(questions_correct_but_not_wo_question)[0]\n",
    "    \n",
    "    # save to file\n",
    "    file_name_prefix = f'{dataset._info.dataset_name}_{dataset.config_name}_{model.cfg.model_name}'\n",
    "    file_name_prefix = os.path.join(output_dir, file_name_prefix)\n",
    "    \n",
    "    np.savetxt(f\"{file_name_prefix}_correct.csv\", correct_question_id)\n",
    "    np.savetxt(f\"{file_name_prefix}_correct_not_correct_wo_question_prompt.csv\", questions_correct_but_not_wo_question_id)\n",
    "    \n",
    "    print(\"Found correct questions: \", len(correct_question_id))\n",
    "    print(\"Found correct questions but not correct without question prompt: \", len(questions_correct_but_not_wo_question_id))\n",
    "    \n",
    "    \n",
    "    \n",
    "    "
   ]
  },
  {
   "cell_type": "code",
   "execution_count": 73,
   "metadata": {},
   "outputs": [],
   "source": [
    "np.savetxt(f\"../data/tmp.csv\", np.array([1,2,3]))"
   ]
  },
  {
   "cell_type": "code",
   "execution_count": 70,
   "metadata": {},
   "outputs": [
    {
     "data": {
      "text/plain": [
       "['/opt/conda/lib/python310.zip',\n",
       " '/opt/conda/lib/python3.10',\n",
       " '/opt/conda/lib/python3.10/lib-dynload',\n",
       " '',\n",
       " '/root/unlearning/.venv/lib/python3.10/site-packages',\n",
       " '/root/unlearning',\n",
       " '/tmp/tmp_lrl6yjc']"
      ]
     },
     "execution_count": 70,
     "metadata": {},
     "output_type": "execute_result"
    }
   ],
   "source": [
    "import sys\n",
    "\n",
    "sys.path"
   ]
  },
  {
   "cell_type": "code",
   "execution_count": 67,
   "metadata": {},
   "outputs": [
    {
     "data": {
      "text/plain": [
       "'./data/mmlu_college_biology_gemma-2b-it'"
      ]
     },
     "execution_count": 67,
     "metadata": {},
     "output_type": "execute_result"
    }
   ],
   "source": [
    "file_name_prefix = f'{dataset._info.dataset_name}_{dataset.config_name}_{model.cfg.model_name}'\n",
    "file_name_prefix = os.path.join('./data/', file_name_prefix)\n",
    "\n",
    "file_name_prefix"
   ]
  },
  {
   "cell_type": "code",
   "execution_count": 75,
   "metadata": {},
   "outputs": [
    {
     "name": "stderr",
     "output_type": "stream",
     "text": [
      "100%|██████████| 576/576 [02:04<00:00,  4.62it/s]\n",
      "100%|██████████| 576/576 [01:27<00:00,  6.59it/s]"
     ]
    },
    {
     "name": "stdout",
     "output_type": "stream",
     "text": [
      "Found correct questions:  17\n",
      "Found correct questions but not correct without question prompt:  16\n"
     ]
    },
    {
     "name": "stderr",
     "output_type": "stream",
     "text": [
      "\n"
     ]
    }
   ],
   "source": [
    "save_target_question_ids(model, dataset)"
   ]
  },
  {
   "cell_type": "code",
   "execution_count": 41,
   "metadata": {},
   "outputs": [],
   "source": [
    "# get the question ids\n",
    "question_ids = np.where(tmp)[0]"
   ]
  },
  {
   "cell_type": "code",
   "execution_count": 51,
   "metadata": {},
   "outputs": [
    {
     "data": {
      "text/plain": [
       "['_info',\n",
       " '_split',\n",
       " '_indexes',\n",
       " '_data',\n",
       " '_indices',\n",
       " '_format_type',\n",
       " '_format_kwargs',\n",
       " '_format_columns',\n",
       " '_output_all_columns',\n",
       " '_fingerprint',\n",
       " '__module__',\n",
       " '__doc__',\n",
       " '__init__',\n",
       " 'features',\n",
       " 'from_file',\n",
       " 'from_buffer',\n",
       " 'from_pandas',\n",
       " 'from_polars',\n",
       " 'from_dict',\n",
       " 'from_list',\n",
       " 'from_csv',\n",
       " 'from_generator',\n",
       " 'from_json',\n",
       " 'from_parquet',\n",
       " 'from_text',\n",
       " 'from_spark',\n",
       " 'from_sql',\n",
       " '__setstate__',\n",
       " '__del__',\n",
       " '__enter__',\n",
       " '__exit__',\n",
       " 'save_to_disk',\n",
       " '_save_to_disk_single',\n",
       " '_build_local_temp_path',\n",
       " 'load_from_disk',\n",
       " 'data',\n",
       " 'cache_files',\n",
       " 'num_columns',\n",
       " 'num_rows',\n",
       " 'column_names',\n",
       " 'shape',\n",
       " 'unique',\n",
       " 'class_encode_column',\n",
       " 'flatten',\n",
       " 'cast',\n",
       " 'cast_column',\n",
       " 'remove_columns',\n",
       " 'rename_column',\n",
       " 'rename_columns',\n",
       " 'select_columns',\n",
       " '__len__',\n",
       " '__iter__',\n",
       " 'iter',\n",
       " '__repr__',\n",
       " 'format',\n",
       " 'formatted_as',\n",
       " 'set_format',\n",
       " 'reset_format',\n",
       " 'set_transform',\n",
       " 'with_format',\n",
       " 'with_transform',\n",
       " 'prepare_for_task',\n",
       " '_getitem',\n",
       " '__getitem__',\n",
       " '__getitems__',\n",
       " 'cleanup_cache_files',\n",
       " '_get_cache_file_path',\n",
       " 'map',\n",
       " '_map_single',\n",
       " 'filter',\n",
       " 'flatten_indices',\n",
       " '_new_dataset_with_indices',\n",
       " 'select',\n",
       " '_select_contiguous',\n",
       " '_select_with_indices_mapping',\n",
       " 'skip',\n",
       " 'take',\n",
       " 'sort',\n",
       " 'shuffle',\n",
       " 'train_test_split',\n",
       " 'shard',\n",
       " 'export',\n",
       " 'to_csv',\n",
       " 'to_dict',\n",
       " 'to_list',\n",
       " 'to_json',\n",
       " 'to_pandas',\n",
       " 'to_polars',\n",
       " 'to_parquet',\n",
       " 'to_sql',\n",
       " '_estimate_nbytes',\n",
       " '_generate_tables_from_shards',\n",
       " '_generate_tables_from_cache_file',\n",
       " 'to_iterable_dataset',\n",
       " '_push_parquet_shards_to_hub',\n",
       " 'push_to_hub',\n",
       " 'add_column',\n",
       " 'add_faiss_index',\n",
       " 'add_faiss_index_from_external_arrays',\n",
       " 'add_elasticsearch_index',\n",
       " 'add_item',\n",
       " 'align_labels_with_mapping',\n",
       " 'info',\n",
       " 'split',\n",
       " 'builder_name',\n",
       " 'citation',\n",
       " 'config_name',\n",
       " 'dataset_size',\n",
       " 'description',\n",
       " 'download_checksums',\n",
       " 'download_size',\n",
       " 'homepage',\n",
       " 'license',\n",
       " 'size_in_bytes',\n",
       " 'supervised_keys',\n",
       " 'task_templates',\n",
       " 'version',\n",
       " '__dict__',\n",
       " '__weakref__',\n",
       " '__new__',\n",
       " '__hash__',\n",
       " '__str__',\n",
       " '__getattribute__',\n",
       " '__setattr__',\n",
       " '__delattr__',\n",
       " '__lt__',\n",
       " '__le__',\n",
       " '__eq__',\n",
       " '__ne__',\n",
       " '__gt__',\n",
       " '__ge__',\n",
       " '__reduce_ex__',\n",
       " '__reduce__',\n",
       " '__subclasshook__',\n",
       " '__init_subclass__',\n",
       " '__format__',\n",
       " '__sizeof__',\n",
       " '__dir__',\n",
       " '__class__',\n",
       " 'is_index_initialized',\n",
       " '_check_index_is_initialized',\n",
       " 'list_indexes',\n",
       " 'get_index',\n",
       " 'save_faiss_index',\n",
       " 'load_faiss_index',\n",
       " 'load_elasticsearch_index',\n",
       " 'drop_index',\n",
       " 'search',\n",
       " 'search_batch',\n",
       " 'get_nearest_examples',\n",
       " 'get_nearest_examples_batch',\n",
       " '_TF_DATASET_REFS',\n",
       " '_get_output_signature',\n",
       " 'to_tf_dataset']"
      ]
     },
     "execution_count": 51,
     "metadata": {},
     "output_type": "execute_result"
    }
   ],
   "source": [
    "dataset.__dir__()"
   ]
  },
  {
   "cell_type": "code",
   "execution_count": 56,
   "metadata": {},
   "outputs": [
    {
     "data": {
      "text/plain": [
       "DatasetInfo(description='', citation='', homepage='', license='', features={'question': Value(dtype='string', id=None), 'subject': Value(dtype='string', id=None), 'choices': Sequence(feature=Value(dtype='string', id=None), length=-1, id=None), 'answer': ClassLabel(names=['A', 'B', 'C', 'D'], id=None)}, post_processed=None, supervised_keys=None, task_templates=None, builder_name='parquet', dataset_name='mmlu', config_name='college_biology', version=0.0.0, splits={'test': SplitInfo(name='test', num_bytes=51539, num_examples=144, shard_lengths=None, dataset_name='mmlu'), 'validation': SplitInfo(name='validation', num_bytes=5113, num_examples=16, shard_lengths=None, dataset_name='mmlu'), 'dev': SplitInfo(name='dev', num_bytes=1616, num_examples=5, shard_lengths=None, dataset_name='mmlu')}, download_checksums={'hf://datasets/cais/mmlu@c30699e8356da336a370243923dbaf21066bb9fe/college_biology/test-00000-of-00001.parquet': {'num_bytes': 31845, 'checksum': None}, 'hf://datasets/cais/mmlu@c30699e8356da336a370243923dbaf21066bb9fe/college_biology/validation-00000-of-00001.parquet': {'num_bytes': 6899, 'checksum': None}, 'hf://datasets/cais/mmlu@c30699e8356da336a370243923dbaf21066bb9fe/college_biology/dev-00000-of-00001.parquet': {'num_bytes': 4273, 'checksum': None}}, download_size=43017, post_processing_size=None, dataset_size=58268, size_in_bytes=101285)"
      ]
     },
     "execution_count": 56,
     "metadata": {},
     "output_type": "execute_result"
    }
   ],
   "source": [
    "dataset._info"
   ]
  },
  {
   "cell_type": "code",
   "execution_count": 59,
   "metadata": {},
   "outputs": [
    {
     "data": {
      "text/plain": [
       "'gemma-2b-it'"
      ]
     },
     "execution_count": 59,
     "metadata": {},
     "output_type": "execute_result"
    }
   ],
   "source": [
    "model.cfg.model_name"
   ]
  },
  {
   "cell_type": "code",
   "execution_count": 78,
   "metadata": {},
   "outputs": [
    {
     "data": {
      "text/plain": [
       "array([ 0, 42])"
      ]
     },
     "execution_count": 78,
     "metadata": {},
     "output_type": "execute_result"
    }
   ],
   "source": [
    "np.where(metrics_wo_question['is_correct'].reshape(-1, 24).mean(axis=1) == 1)[0]"
   ]
  },
  {
   "cell_type": "markdown",
   "metadata": {},
   "source": [
    "#### Add new dataset"
   ]
  },
  {
   "cell_type": "code",
   "execution_count": 91,
   "metadata": {},
   "outputs": [
    {
     "name": "stderr",
     "output_type": "stream",
     "text": [
      "100%|██████████| 816/816 [08:18<00:00,  1.64it/s]\n",
      "100%|██████████| 816/816 [02:16<00:00,  5.99it/s]"
     ]
    },
    {
     "name": "stdout",
     "output_type": "stream",
     "text": [
      "Found correct questions:  28\n",
      "Found correct questions but not correct without question prompt:  27\n"
     ]
    },
    {
     "name": "stderr",
     "output_type": "stream",
     "text": [
      "\n"
     ]
    }
   ],
   "source": [
    "for dataset_name in ['high_school_us_history']: # ['abstract_algebra', 'college_computer_science', 'high_school_geography', 'human_aging']:\n",
    "\n",
    "    dataset = load_dataset(\"cais/mmlu\", dataset_name, split='test')\n",
    "    save_target_question_ids(model, dataset)"
   ]
  },
  {
   "cell_type": "code",
   "execution_count": 101,
   "metadata": {},
   "outputs": [],
   "source": [
    "\n",
    "filename = \"../data/wmdp-bio_gemma_2b_it_correct.csv\"\n",
    "correct_question_ids = np.genfromtxt(filename)\n",
    "\n",
    "dataset_args = {\n",
    "    'question_subset': correct_question_ids,\n",
    "}\n",
    "\n",
    "sae.cfg.n_batches_in_store_buffer = 86\n",
    "# unlearn_activation_store = MCQ_ActivationStoreAnalysis(sae.cfg, model, dataset_args=dataset_args)\n",
    "unlearning_metric = 'wmdp-bio_gemma_2b_it_correct'\n",
    "control_metric = ['abstract_algebra', 'college_computer_science', 'high_school_geography']\n",
    "\n",
    "# unlearn_cfg = UnlearningConfig(unlearn_activation_store=None, unlearning_metric=unlearning_metric, control_metric=control_metric)\n",
    "unlearn_cfg = UnlearningConfig(unlearn_activation_store=None, unlearning_metric=unlearning_metric)\n",
    "ul_tool = SAEUnlearningTool(unlearn_cfg)\n",
    "ul_tool.setup(create_base_act_store=False, create_unlearn_act_store=False, model=model)"
   ]
  },
  {
   "cell_type": "code",
   "execution_count": 102,
   "metadata": {},
   "outputs": [
    {
     "data": {
      "text/plain": [
       "['high_school_us_history',\n",
       " 'college_computer_science',\n",
       " 'high_school_geography',\n",
       " 'human_aging',\n",
       " 'college_biology']"
      ]
     },
     "execution_count": 102,
     "metadata": {},
     "output_type": "execute_result"
    }
   ],
   "source": [
    "unlearn_cfg.control_metric"
   ]
  },
  {
   "cell_type": "code",
   "execution_count": 103,
   "metadata": {},
   "outputs": [
    {
     "name": "stderr",
     "output_type": "stream",
     "text": [
      "100%|██████████| 5/5 [00:02<00:00,  2.28it/s]\n",
      "100%|██████████| 1/1 [00:00<00:00,  2.81it/s]\n",
      "100%|██████████| 5/5 [00:02<00:00,  2.10it/s]\n",
      "100%|██████████| 5/5 [00:02<00:00,  2.40it/s]\n",
      "100%|██████████| 3/3 [00:01<00:00,  2.65it/s]\n"
     ]
    }
   ],
   "source": [
    "features_to_ablate = [7983, 16186, 12273, 14315, 4342, 10051, 15858, 6958]\n",
    "multiplier = 20\n",
    "\n",
    "ablate_params = {\n",
    "    'features_to_ablate': features_to_ablate,\n",
    "    'multiplier': multiplier,\n",
    "    'intervention_method': 'scale_feature_activation',\n",
    "    'permutations': [[0,1,2,3]]\n",
    "}\n",
    "\n",
    "# metrics = ul_tool.calculate_metrics(**ablate_params)\n",
    "\n",
    "\n",
    "# calc control metric and loss\n",
    "control_metrics = ul_tool.calculate_control_metrics(**ablate_params)\n",
    "\n",
    "# loss_added = ul_tool.compute_loss_added(n_batch=30, **ablate_params)"
   ]
  },
  {
   "cell_type": "code",
   "execution_count": 105,
   "metadata": {},
   "outputs": [
    {
     "data": {
      "text/plain": [
       "{'high_school_us_history': {'mean_correct': 0.48148149251937866,\n",
       "  'total_correct': 13,\n",
       "  'is_correct': array([0., 0., 0., 0., 1., 0., 1., 1., 1., 1., 1., 0., 1., 0., 1., 0., 1.,\n",
       "         0., 0., 0., 0., 1., 0., 1., 0., 1., 1.], dtype=float32),\n",
       "  'output_probs': array([[9.8362988e-01, 1.9729647e-04, 2.0095882e-04, 1.5598402e-02],\n",
       "         [5.2172208e-04, 1.5751764e-04, 9.9605465e-01, 7.5944222e-06],\n",
       "         [1.7719527e-01, 4.3885824e-03, 7.9074991e-01, 3.6680204e-04],\n",
       "         [9.9194568e-01, 5.3297589e-07, 2.0780908e-07, 4.3941171e-08],\n",
       "         [4.1224668e-03, 1.1418777e-04, 9.5532018e-01, 4.6363533e-05],\n",
       "         [4.5608860e-01, 1.7948341e-02, 4.2773053e-01, 6.0959820e-02],\n",
       "         [9.9215615e-01, 8.9372548e-07, 1.4806488e-06, 1.6940235e-03],\n",
       "         [9.1611344e-01, 7.5462711e-05, 8.0279678e-02, 6.9963098e-06],\n",
       "         [7.2069401e-05, 2.9160106e-03, 9.9315602e-01, 8.4834446e-06],\n",
       "         [2.6987885e-07, 9.9895644e-01, 8.2351198e-06, 1.6978831e-07],\n",
       "         [1.0930685e-04, 1.0083071e-06, 1.2383784e-06, 9.9848640e-01],\n",
       "         [6.8702251e-01, 7.1560778e-02, 5.9177246e-02, 1.0753474e-01],\n",
       "         [9.9006289e-01, 5.4408191e-04, 2.5373939e-03, 1.8960503e-03],\n",
       "         [5.7349515e-01, 2.0072555e-02, 6.6541418e-02, 3.2720676e-01],\n",
       "         [7.5923103e-01, 2.8903965e-05, 7.6345418e-04, 5.1992934e-06],\n",
       "         [9.1739212e-06, 9.9617934e-01, 4.2558827e-06, 4.1180149e-07],\n",
       "         [9.8880821e-01, 7.7097960e-05, 4.1772575e-05, 7.6590932e-06],\n",
       "         [1.8123258e-04, 6.8301101e-06, 4.7498881e-05, 9.9761957e-01],\n",
       "         [1.1528080e-02, 3.1552885e-03, 9.7681010e-01, 8.8837207e-04],\n",
       "         [9.9370521e-01, 4.0332560e-07, 4.9340855e-07, 9.6733913e-08],\n",
       "         [9.0928483e-01, 4.5977045e-02, 2.4485383e-02, 1.1757720e-02],\n",
       "         [2.0304583e-01, 7.5099850e-01, 1.5063829e-02, 6.8763079e-04],\n",
       "         [1.7935340e-06, 9.9179286e-01, 4.8645813e-07, 5.0748582e-08],\n",
       "         [8.3281761e-01, 2.5325090e-02, 5.2681942e-02, 2.7985999e-02],\n",
       "         [9.3884012e-03, 2.8061136e-04, 9.1339898e-01, 2.5278436e-02],\n",
       "         [4.7714077e-04, 4.9574871e-04, 9.7373813e-01, 9.4705983e-04],\n",
       "         [8.9745462e-01, 3.2911550e-03, 4.8523389e-02, 2.0044437e-02]],\n",
       "        dtype=float32),\n",
       "  'actual_answers': array([2, 0, 3, 1, 2, 3, 0, 0, 2, 1, 3, 3, 0, 1, 0, 0, 0, 1, 0, 3, 3, 1,\n",
       "         0, 0, 0, 2, 0]),\n",
       "  'predicted_answers': array([0, 2, 2, 0, 2, 0, 0, 0, 2, 1, 3, 0, 0, 0, 0, 1, 0, 3, 2, 0, 0, 1,\n",
       "         1, 0, 2, 2, 0]),\n",
       "  'predicted_probs': array([0.9836299 , 0.99605465, 0.7907499 , 0.9919457 , 0.9553202 ,\n",
       "         0.4560886 , 0.99215615, 0.91611344, 0.993156  , 0.99895644,\n",
       "         0.9984864 , 0.6870225 , 0.9900629 , 0.57349515, 0.75923103,\n",
       "         0.99617934, 0.9888082 , 0.99761957, 0.9768101 , 0.9937052 ,\n",
       "         0.90928483, 0.7509985 , 0.99179286, 0.8328176 , 0.913399  ,\n",
       "         0.97373813, 0.8974546 ], dtype=float32),\n",
       "  'predicted_probs_of_correct_answers': array([2.0095882e-04, 5.2172208e-04, 3.6680204e-04, 5.3297589e-07,\n",
       "         9.5532018e-01, 6.0959820e-02, 9.9215615e-01, 9.1611344e-01,\n",
       "         9.9315602e-01, 9.9895644e-01, 9.9848640e-01, 1.0753474e-01,\n",
       "         9.9006289e-01, 2.0072555e-02, 7.5923103e-01, 9.1739212e-06,\n",
       "         9.8880821e-01, 6.8301101e-06, 1.1528080e-02, 9.6733913e-08,\n",
       "         1.1757720e-02, 7.5099850e-01, 1.7935340e-06, 8.3281761e-01,\n",
       "         9.3884012e-03, 9.7373813e-01, 8.9745462e-01], dtype=float32),\n",
       "  'mean_predicted_prob_of_correct_answers': 0.4544313848018646,\n",
       "  'mean_predicted_probs': 0.9001880288124084,\n",
       "  'value_counts': {0: 14, 1: 4, 2: 7, 3: 2},\n",
       "  'sum_abcd': array([0.9996266 , 0.9967415 , 0.9727006 , 0.99194646, 0.9596032 ,\n",
       "         0.9627273 , 0.99385256, 0.9964755 , 0.9961526 , 0.99896514,\n",
       "         0.998598  , 0.92529523, 0.99504036, 0.9873159 , 0.7600286 ,\n",
       "         0.9961932 , 0.9889347 , 0.9978551 , 0.9923818 , 0.9937062 ,\n",
       "         0.991505  , 0.9697958 , 0.9917952 , 0.93881065, 0.94834644,\n",
       "         0.97565806, 0.96931356], dtype=float32)},\n",
       " 'college_computer_science': {'mean_correct': 0.8333333730697632,\n",
       "  'total_correct': 5,\n",
       "  'is_correct': array([1., 1., 0., 1., 1., 1.], dtype=float32),\n",
       "  'output_probs': array([[8.9588153e-01, 2.1050395e-02, 2.0507850e-02, 3.2176789e-02],\n",
       "         [8.1963128e-01, 5.2951928e-03, 8.9966998e-02, 2.4852508e-03],\n",
       "         [3.8429397e-01, 6.0845000e-01, 4.9052451e-06, 5.3733163e-07],\n",
       "         [1.0930685e-04, 1.0083071e-06, 1.2383784e-06, 9.9848640e-01],\n",
       "         [1.3859606e-04, 1.4960403e-06, 6.0403340e-06, 9.9191940e-01],\n",
       "         [9.9006289e-01, 5.4408191e-04, 2.5373939e-03, 1.8960503e-03]],\n",
       "        dtype=float32),\n",
       "  'actual_answers': array([0, 0, 0, 3, 3, 0]),\n",
       "  'predicted_answers': array([0, 0, 1, 3, 3, 0]),\n",
       "  'predicted_probs': array([0.89588153, 0.8196313 , 0.60845   , 0.9984864 , 0.9919194 ,\n",
       "         0.9900629 ], dtype=float32),\n",
       "  'predicted_probs_of_correct_answers': array([0.89588153, 0.8196313 , 0.38429397, 0.9984864 , 0.9919194 ,\n",
       "         0.9900629 ], dtype=float32),\n",
       "  'mean_predicted_prob_of_correct_answers': 0.846712589263916,\n",
       "  'mean_predicted_probs': 0.8840718865394592,\n",
       "  'value_counts': {0: 3, 1: 1, 3: 2},\n",
       "  'sum_abcd': array([0.9696166 , 0.9173788 , 0.9927494 , 0.998598  , 0.99206555,\n",
       "         0.99504036], dtype=float32)},\n",
       " 'high_school_geography': {'mean_correct': 0.4482758641242981,\n",
       "  'total_correct': 13,\n",
       "  'is_correct': array([1., 0., 1., 1., 1., 1., 0., 0., 1., 0., 1., 0., 1., 0., 1., 0., 1.,\n",
       "         0., 0., 0., 1., 0., 1., 0., 0., 0., 0., 1., 0.], dtype=float32),\n",
       "  'output_probs': array([[4.48772728e-01, 3.47660035e-02, 8.49011019e-02, 3.63701850e-01],\n",
       "         [1.77195266e-01, 4.38858243e-03, 7.90749907e-01, 3.66802036e-04],\n",
       "         [8.19631279e-01, 5.29519282e-03, 8.99669975e-02, 2.48525082e-03],\n",
       "         [9.95751143e-01, 1.15603359e-06, 1.07882704e-06, 7.68090445e-08],\n",
       "         [9.98570204e-01, 1.30452759e-06, 1.46478249e-06, 1.08639895e-07],\n",
       "         [9.39302146e-01, 2.82310992e-02, 1.83224548e-02, 9.58214607e-03],\n",
       "         [2.28986088e-02, 1.25815161e-04, 3.56286275e-03, 9.56124067e-01],\n",
       "         [1.25107458e-02, 9.86019611e-01, 7.65158620e-04, 2.55562227e-05],\n",
       "         [3.60177338e-01, 1.18793577e-01, 4.56807669e-03, 4.84522730e-01],\n",
       "         [5.87696671e-01, 1.69215794e-03, 3.99841249e-01, 3.98096722e-03],\n",
       "         [9.80420470e-01, 3.57128306e-06, 1.19081033e-05, 6.16790260e-07],\n",
       "         [9.98019814e-01, 1.30440981e-07, 1.55857677e-07, 2.49309746e-08],\n",
       "         [9.93619978e-01, 4.31030628e-07, 4.64715725e-07, 7.35908614e-08],\n",
       "         [5.73495150e-01, 2.00725552e-02, 6.65414184e-02, 3.27206761e-01],\n",
       "         [7.59231031e-01, 2.89039654e-05, 7.63454183e-04, 5.19929335e-06],\n",
       "         [2.73353666e-01, 6.45498093e-03, 3.46666714e-03, 7.13652074e-01],\n",
       "         [6.33424672e-04, 6.28379576e-06, 2.53999351e-05, 9.93351161e-01],\n",
       "         [1.81232579e-04, 6.83011012e-06, 4.74988810e-05, 9.97619569e-01],\n",
       "         [1.97929889e-02, 7.48980499e-04, 3.15999077e-03, 9.66466665e-01],\n",
       "         [7.09952712e-01, 8.62430856e-02, 8.96263048e-02, 1.04506128e-01],\n",
       "         [9.06423926e-01, 4.26214933e-03, 5.51152928e-03, 2.60259199e-04],\n",
       "         [9.16085005e-01, 8.56733881e-04, 1.52864326e-02, 1.64527111e-02],\n",
       "         [5.26647829e-03, 4.31461740e-05, 9.82232332e-01, 4.13173912e-05],\n",
       "         [9.93705213e-01, 4.03325600e-07, 4.93408550e-07, 9.67339133e-08],\n",
       "         [9.65941727e-01, 3.34364991e-03, 2.59104185e-03, 5.46367373e-03],\n",
       "         [9.85662162e-01, 9.32499279e-06, 5.04298350e-06, 1.28280840e-06],\n",
       "         [9.38840117e-03, 2.80611363e-04, 9.13398981e-01, 2.52784360e-02],\n",
       "         [4.77140769e-04, 4.95748711e-04, 9.73738134e-01, 9.47059831e-04],\n",
       "         [9.81150925e-01, 1.33885129e-03, 3.41862254e-03, 3.29035427e-03]],\n",
       "        dtype=float32),\n",
       "  'actual_answers': array([0, 3, 0, 0, 0, 0, 0, 2, 3, 3, 0, 3, 0, 1, 0, 2, 3, 1, 2, 3, 0, 1,\n",
       "         2, 3, 2, 3, 0, 2, 2]),\n",
       "  'predicted_answers': array([0, 2, 0, 0, 0, 0, 3, 1, 3, 0, 0, 0, 0, 0, 0, 3, 3, 3, 3, 0, 0, 0,\n",
       "         2, 0, 0, 0, 2, 2, 0]),\n",
       "  'predicted_probs': array([0.44877273, 0.7907499 , 0.8196313 , 0.99575114, 0.9985702 ,\n",
       "         0.93930215, 0.95612407, 0.9860196 , 0.48452273, 0.5876967 ,\n",
       "         0.9804205 , 0.9980198 , 0.99362   , 0.57349515, 0.75923103,\n",
       "         0.7136521 , 0.99335116, 0.99761957, 0.96646667, 0.7099527 ,\n",
       "         0.9064239 , 0.916085  , 0.98223233, 0.9937052 , 0.9659417 ,\n",
       "         0.98566216, 0.913399  , 0.97373813, 0.9811509 ], dtype=float32),\n",
       "  'predicted_probs_of_correct_answers': array([4.4877273e-01, 3.6680204e-04, 8.1963128e-01, 9.9575114e-01,\n",
       "         9.9857020e-01, 9.3930215e-01, 2.2898609e-02, 7.6515862e-04,\n",
       "         4.8452273e-01, 3.9809672e-03, 9.8042047e-01, 2.4930975e-08,\n",
       "         9.9361998e-01, 2.0072555e-02, 7.5923103e-01, 3.4666671e-03,\n",
       "         9.9335116e-01, 6.8301101e-06, 3.1599908e-03, 1.0450613e-01,\n",
       "         9.0642393e-01, 8.5673388e-04, 9.8223233e-01, 9.6733913e-08,\n",
       "         2.5910418e-03, 1.2828084e-06, 9.3884012e-03, 9.7373813e-01,\n",
       "         3.4186225e-03], dtype=float32),\n",
       "  'mean_predicted_prob_of_correct_answers': 0.39486369490623474,\n",
       "  'mean_predicted_probs': 0.872803807258606,\n",
       "  'value_counts': {0: 18, 1: 1, 2: 4, 3: 6},\n",
       "  'sum_abcd': array([0.93214166, 0.9727006 , 0.9173788 , 0.9957534 , 0.9985731 ,\n",
       "         0.99543786, 0.9827114 , 0.99932104, 0.9680617 , 0.9932111 ,\n",
       "         0.98043656, 0.9980201 , 0.99362093, 0.9873159 , 0.7600286 ,\n",
       "         0.9969274 , 0.9940163 , 0.9978551 , 0.99016863, 0.99032825,\n",
       "         0.91645783, 0.94868094, 0.9875833 , 0.9937062 , 0.97734004,\n",
       "         0.98567784, 0.94834644, 0.97565806, 0.98919874], dtype=float32)},\n",
       " 'human_aging': {'mean_correct': 0.48275861144065857,\n",
       "  'total_correct': 14,\n",
       "  'is_correct': array([0., 1., 0., 1., 1., 1., 0., 1., 1., 0., 0., 1., 0., 1., 0., 1., 0.,\n",
       "         0., 1., 0., 1., 0., 0., 0., 0., 1., 0., 1., 1.], dtype=float32),\n",
       "  'output_probs': array([[9.44800436e-01, 8.91150557e-05, 7.90656835e-04, 9.22567342e-05],\n",
       "         [4.48772728e-01, 3.47660035e-02, 8.49011019e-02, 3.63701850e-01],\n",
       "         [9.96622324e-01, 5.65406754e-06, 3.15621546e-05, 1.48913557e-07],\n",
       "         [3.65680689e-03, 4.41077827e-05, 1.30789660e-04, 9.95226979e-01],\n",
       "         [5.94090998e-01, 1.95653792e-02, 3.32802594e-01, 4.41151522e-02],\n",
       "         [4.12246678e-03, 1.14187773e-04, 9.55320179e-01, 4.63635333e-05],\n",
       "         [4.56088603e-01, 1.79483406e-02, 4.27730531e-01, 6.09598197e-02],\n",
       "         [9.92156148e-01, 8.93725485e-07, 1.48064885e-06, 1.69402349e-03],\n",
       "         [9.98570204e-01, 1.30452759e-06, 1.46478249e-06, 1.08639895e-07],\n",
       "         [9.37408268e-01, 2.35762186e-02, 9.44918115e-03, 2.86751031e-03],\n",
       "         [5.90346986e-04, 1.21182056e-05, 2.04109347e-06, 9.30994749e-01],\n",
       "         [1.24591254e-02, 1.01869964e-05, 4.94180247e-04, 9.85959888e-01],\n",
       "         [9.63729262e-01, 4.87889556e-05, 4.81489515e-05, 5.51360927e-06],\n",
       "         [9.95801866e-01, 1.79117407e-07, 3.27630119e-07, 3.15506199e-08],\n",
       "         [9.92995799e-01, 1.02965419e-06, 7.75803414e-07, 1.43762890e-07],\n",
       "         [2.59478599e-01, 1.01038264e-02, 4.26941961e-02, 2.44201988e-01],\n",
       "         [8.75560164e-01, 3.98369739e-05, 2.44307652e-04, 1.84343044e-05],\n",
       "         [7.19230652e-01, 1.46124457e-05, 5.80123151e-06, 2.78445631e-01],\n",
       "         [6.33424672e-04, 6.28379576e-06, 2.53999351e-05, 9.93351161e-01],\n",
       "         [7.09952712e-01, 8.62430856e-02, 8.96263048e-02, 1.04506128e-01],\n",
       "         [2.80369259e-03, 2.74516856e-06, 2.19944122e-05, 9.86770988e-01],\n",
       "         [9.80710685e-01, 1.23515902e-02, 4.17553121e-03, 1.44803477e-03],\n",
       "         [9.56448257e-01, 4.53402847e-03, 2.74383575e-02, 1.18096417e-03],\n",
       "         [3.48129761e-05, 1.44331977e-06, 1.00950492e-04, 9.95626211e-01],\n",
       "         [9.82557952e-01, 4.76189734e-06, 8.29592682e-06, 6.61099966e-06],\n",
       "         [6.09515905e-01, 1.40397769e-05, 1.99566766e-05, 3.86844128e-01],\n",
       "         [9.96899605e-01, 1.28177689e-07, 2.55513925e-07, 5.04713995e-08],\n",
       "         [6.87841035e-04, 5.50114237e-06, 9.88744617e-01, 5.12627912e-06],\n",
       "         [2.31795162e-01, 2.02596457e-05, 1.60932013e-05, 7.64671326e-01]],\n",
       "        dtype=float32),\n",
       "  'actual_answers': array([1, 0, 2, 3, 0, 2, 3, 0, 0, 1, 1, 3, 1, 0, 1, 0, 2, 1, 3, 3, 3, 2,\n",
       "         1, 1, 2, 0, 1, 2, 3]),\n",
       "  'predicted_answers': array([0, 0, 0, 3, 0, 2, 0, 0, 0, 0, 3, 3, 0, 0, 0, 0, 0, 0, 3, 0, 3, 0,\n",
       "         0, 3, 0, 0, 0, 2, 3]),\n",
       "  'predicted_probs': array([0.94480044, 0.44877273, 0.9966223 , 0.995227  , 0.594091  ,\n",
       "         0.9553202 , 0.4560886 , 0.99215615, 0.9985702 , 0.93740827,\n",
       "         0.93099475, 0.9859599 , 0.96372926, 0.99580187, 0.9929958 ,\n",
       "         0.2594786 , 0.87556016, 0.71923065, 0.99335116, 0.7099527 ,\n",
       "         0.986771  , 0.9807107 , 0.95644826, 0.9956262 , 0.98255795,\n",
       "         0.6095159 , 0.9968996 , 0.9887446 , 0.7646713 ], dtype=float32),\n",
       "  'predicted_probs_of_correct_answers': array([8.9115056e-05, 4.4877273e-01, 3.1562155e-05, 9.9522698e-01,\n",
       "         5.9409100e-01, 9.5532018e-01, 6.0959820e-02, 9.9215615e-01,\n",
       "         9.9857020e-01, 2.3576219e-02, 1.2118206e-05, 9.8595989e-01,\n",
       "         4.8788956e-05, 9.9580187e-01, 1.0296542e-06, 2.5947860e-01,\n",
       "         2.4430765e-04, 1.4612446e-05, 9.9335116e-01, 1.0450613e-01,\n",
       "         9.8677099e-01, 4.1755312e-03, 4.5340285e-03, 1.4433198e-06,\n",
       "         8.2959268e-06, 6.0951591e-01, 1.2817769e-07, 9.8874462e-01,\n",
       "         7.6467133e-01], dtype=float32),\n",
       "  'mean_predicted_prob_of_correct_answers': 0.4057460427284241,\n",
       "  'mean_predicted_probs': 0.8623468279838562,\n",
       "  'value_counts': {0: 20, 2: 2, 3: 7},\n",
       "  'sum_abcd': array([0.94577247, 0.93214166, 0.9966597 , 0.99905866, 0.9905741 ,\n",
       "         0.9596032 , 0.9627273 , 0.99385256, 0.9985731 , 0.9733012 ,\n",
       "         0.93159926, 0.99892336, 0.9638318 , 0.9958024 , 0.9929977 ,\n",
       "         0.5564786 , 0.8758627 , 0.99769664, 0.9940163 , 0.99032825,\n",
       "         0.9895994 , 0.99868584, 0.98960155, 0.9957634 , 0.9825776 ,\n",
       "         0.99639404, 0.9969    , 0.98944306, 0.9965029 ], dtype=float32)},\n",
       " 'college_biology': {'mean_correct': 0.5,\n",
       "  'total_correct': 8,\n",
       "  'is_correct': array([0., 0., 1., 1., 0., 0., 0., 1., 1., 0., 1., 1., 1., 0., 1., 0.],\n",
       "        dtype=float32),\n",
       "  'output_probs': array([[3.1680068e-01, 2.9235229e-02, 1.2042851e-01, 4.8176873e-01],\n",
       "         [9.9564302e-01, 2.2681159e-05, 1.3117494e-04, 9.7596283e-05],\n",
       "         [4.4877273e-01, 3.4766003e-02, 8.4901102e-02, 3.6370185e-01],\n",
       "         [8.9588153e-01, 2.1050395e-02, 2.0507850e-02, 3.2176789e-02],\n",
       "         [9.9195951e-01, 2.0259740e-06, 1.3521405e-06, 4.1930443e-07],\n",
       "         [9.0555817e-01, 5.6789839e-03, 3.8435768e-02, 2.3201206e-03],\n",
       "         [1.7719527e-01, 4.3885824e-03, 7.9074991e-01, 3.6680204e-04],\n",
       "         [8.1963128e-01, 5.2951928e-03, 8.9966998e-02, 2.4852508e-03],\n",
       "         [3.6568069e-03, 4.4107783e-05, 1.3078966e-04, 9.9522698e-01],\n",
       "         [1.2836655e-02, 1.9378739e-04, 5.2156992e-04, 9.7482771e-01],\n",
       "         [7.2069401e-05, 2.9160106e-03, 9.9315602e-01, 8.4834446e-06],\n",
       "         [6.2261624e-03, 2.6107265e-04, 9.9078029e-01, 1.3850470e-05],\n",
       "         [1.3859606e-04, 1.4960403e-06, 6.0403340e-06, 9.9191940e-01],\n",
       "         [9.1942203e-01, 2.4666197e-03, 8.4436458e-04, 7.3686071e-02],\n",
       "         [9.9580187e-01, 1.7911741e-07, 3.2763012e-07, 3.1550620e-08],\n",
       "         [9.7594368e-01, 3.3167982e-04, 1.3134467e-03, 1.6802451e-02]],\n",
       "        dtype=float32),\n",
       "  'actual_answers': array([2, 3, 0, 0, 2, 1, 3, 0, 3, 0, 2, 2, 3, 2, 0, 3]),\n",
       "  'predicted_answers': array([3, 0, 0, 0, 0, 0, 2, 0, 3, 3, 2, 2, 3, 0, 0, 0]),\n",
       "  'predicted_probs': array([0.48176873, 0.995643  , 0.44877273, 0.89588153, 0.9919595 ,\n",
       "         0.90555817, 0.7907499 , 0.8196313 , 0.995227  , 0.9748277 ,\n",
       "         0.993156  , 0.9907803 , 0.9919194 , 0.91942203, 0.99580187,\n",
       "         0.9759437 ], dtype=float32),\n",
       "  'predicted_probs_of_correct_answers': array([1.2042851e-01, 9.7596283e-05, 4.4877273e-01, 8.9588153e-01,\n",
       "         1.3521405e-06, 5.6789839e-03, 3.6680204e-04, 8.1963128e-01,\n",
       "         9.9522698e-01, 1.2836655e-02, 9.9315602e-01, 9.9078029e-01,\n",
       "         9.9191940e-01, 8.4436458e-04, 9.9580187e-01, 1.6802451e-02],\n",
       "        dtype=float32),\n",
       "  'mean_predicted_prob_of_correct_answers': 0.45551416277885437,\n",
       "  'mean_predicted_probs': 0.8854401111602783,\n",
       "  'value_counts': {0: 9, 2: 3, 3: 4},\n",
       "  'sum_abcd': array([0.9482331 , 0.9958945 , 0.93214166, 0.9696166 , 0.9919633 ,\n",
       "         0.95199305, 0.9727006 , 0.9173788 , 0.99905866, 0.9883797 ,\n",
       "         0.9961526 , 0.9972814 , 0.99206555, 0.9964191 , 0.9958024 ,\n",
       "         0.99439126], dtype=float32)}}"
      ]
     },
     "execution_count": 105,
     "metadata": {},
     "output_type": "execute_result"
    }
   ],
   "source": [
    "control_metrics"
   ]
  },
  {
   "cell_type": "code",
   "execution_count": null,
   "metadata": {},
   "outputs": [],
   "source": []
  }
 ],
 "metadata": {
  "kernelspec": {
   "display_name": "Python 3 (ipykernel)",
   "language": "python",
   "name": "python3"
  },
  "language_info": {
   "codemirror_mode": {
    "name": "ipython",
    "version": 3
   },
   "file_extension": ".py",
   "mimetype": "text/x-python",
   "name": "python",
   "nbconvert_exporter": "python",
   "pygments_lexer": "ipython3",
   "version": "3.11.6"
  }
 },
 "nbformat": 4,
 "nbformat_minor": 4
}
