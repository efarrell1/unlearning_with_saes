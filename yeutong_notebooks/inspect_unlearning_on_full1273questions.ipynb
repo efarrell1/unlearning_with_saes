{
 "cells": [
  {
   "cell_type": "code",
   "execution_count": 4,
   "metadata": {},
   "outputs": [
    {
     "name": "stdout",
     "output_type": "stream",
     "text": [
      "The autoreload extension is already loaded. To reload it, use:\n",
      "  %reload_ext autoreload\n"
     ]
    }
   ],
   "source": [
    "%load_ext autoreload\n",
    "%autoreload 2\n",
    "import torch\n",
    "\n",
    "from sae.sparse_autoencoder import load_saved_sae\n",
    "from sae.metrics import model_store_from_sae\n",
    "from unlearning.metrics import convert_wmdp_data_to_prompt, calculate_MCQ_metrics, all_permutations\n",
    "from unlearning.tool import UnlearningConfig, SAEUnlearningTool, MCQ_ActivationStoreAnalysis\n",
    "\n",
    "from huggingface_hub import hf_hub_download\n",
    "from datasets import load_dataset\n",
    "import numpy as np\n",
    "\n",
    "from jaxtyping import Float, Int\n",
    "from torch import Tensor\n",
    "\n",
    "import plotly.express as px\n",
    "\n",
    "from transformer_lens import HookedTransformer\n",
    "from dataclasses import dataclass\n",
    "import wandb\n",
    "import einops\n",
    "from tqdm import tqdm\n",
    "import json\n",
    "\n",
    "from functools import partial\n",
    "from unlearning.intervention import anthropic_remove_resid_SAE_features, remove_resid_SAE_features, anthropic_clamp_resid_SAE_features\n"
   ]
  },
  {
   "cell_type": "code",
   "execution_count": 2,
   "metadata": {},
   "outputs": [
    {
     "data": {
      "application/vnd.jupyter.widget-view+json": {
       "model_id": "dbe5e82c38f844d4b667bfaad25478b2",
       "version_major": 2,
       "version_minor": 0
      },
      "text/plain": [
       "Downloading shards:   0%|          | 0/2 [00:00<?, ?it/s]"
      ]
     },
     "metadata": {},
     "output_type": "display_data"
    },
    {
     "data": {
      "application/vnd.jupyter.widget-view+json": {
       "model_id": "066fbdc3ac0140d09554cc458a4685a4",
       "version_major": 2,
       "version_minor": 0
      },
      "text/plain": [
       "model-00001-of-00002.safetensors:  43%|####3     | 2.15G/4.95G [00:00<?, ?B/s]"
      ]
     },
     "metadata": {},
     "output_type": "display_data"
    },
    {
     "data": {
      "application/vnd.jupyter.widget-view+json": {
       "model_id": "1fdac51df99b4592aa90871c3a47a503",
       "version_major": 2,
       "version_minor": 0
      },
      "text/plain": [
       "model-00002-of-00002.safetensors:   0%|          | 0.00/67.1M [00:00<?, ?B/s]"
      ]
     },
     "metadata": {},
     "output_type": "display_data"
    },
    {
     "name": "stderr",
     "output_type": "stream",
     "text": [
      "`config.hidden_act` is ignored, you should use `config.hidden_activation` instead.\n",
      "Gemma's activation function will be set to `gelu_pytorch_tanh`. Please, use\n",
      "`config.hidden_activation` if you want to override this behaviour.\n",
      "See https://github.com/huggingface/transformers/pull/29402 for more details.\n"
     ]
    },
    {
     "data": {
      "application/vnd.jupyter.widget-view+json": {
       "model_id": "eb3890923f004df7b730902e0c4e90b4",
       "version_major": 2,
       "version_minor": 0
      },
      "text/plain": [
       "Loading checkpoint shards:   0%|          | 0/2 [00:00<?, ?it/s]"
      ]
     },
     "metadata": {},
     "output_type": "display_data"
    },
    {
     "data": {
      "application/vnd.jupyter.widget-view+json": {
       "model_id": "685aba4669aa403b80af000b34eed035",
       "version_major": 2,
       "version_minor": 0
      },
      "text/plain": [
       "generation_config.json:   0%|          | 0.00/137 [00:00<?, ?B/s]"
      ]
     },
     "metadata": {},
     "output_type": "display_data"
    },
    {
     "data": {
      "application/vnd.jupyter.widget-view+json": {
       "model_id": "fcfc3f80bbd240bdbf9ba182ed3e14c9",
       "version_major": 2,
       "version_minor": 0
      },
      "text/plain": [
       "tokenizer_config.json:   0%|          | 0.00/34.2k [00:00<?, ?B/s]"
      ]
     },
     "metadata": {},
     "output_type": "display_data"
    },
    {
     "data": {
      "application/vnd.jupyter.widget-view+json": {
       "model_id": "99997eec7ad54d0a821c974df85c4fe9",
       "version_major": 2,
       "version_minor": 0
      },
      "text/plain": [
       "tokenizer.model:   0%|          | 0.00/4.24M [00:00<?, ?B/s]"
      ]
     },
     "metadata": {},
     "output_type": "display_data"
    },
    {
     "data": {
      "application/vnd.jupyter.widget-view+json": {
       "model_id": "7933c9e2c72647ab951c277f8b711697",
       "version_major": 2,
       "version_minor": 0
      },
      "text/plain": [
       "tokenizer.json:   0%|          | 0.00/17.5M [00:00<?, ?B/s]"
      ]
     },
     "metadata": {},
     "output_type": "display_data"
    },
    {
     "data": {
      "application/vnd.jupyter.widget-view+json": {
       "model_id": "28a5dfff42de44b1917e3a66c1904983",
       "version_major": 2,
       "version_minor": 0
      },
      "text/plain": [
       "special_tokens_map.json:   0%|          | 0.00/636 [00:00<?, ?B/s]"
      ]
     },
     "metadata": {},
     "output_type": "display_data"
    },
    {
     "name": "stderr",
     "output_type": "stream",
     "text": [
      "WARNING:root:You are not using LayerNorm, so the writing weights can't be centered! Skipping\n"
     ]
    },
    {
     "name": "stdout",
     "output_type": "stream",
     "text": [
      "Loaded pretrained model gemma-2b-it into HookedTransformer\n",
      "Moving model to device:  cuda\n"
     ]
    }
   ],
   "source": [
    "# resid pre 9\n",
    "REPO_ID = \"eoinf/unlearning_saes\"\n",
    "FILENAME = \"jolly-dream-40/sparse_autoencoder_gemma-2b-it_blocks.9.hook_resid_pre_s16384_127995904.pt\"\n",
    "\n",
    "\n",
    "filename = hf_hub_download(repo_id=REPO_ID, filename=FILENAME)\n",
    "sae = load_saved_sae(filename)\n",
    "\n",
    "model = model_store_from_sae(sae)"
   ]
  },
  {
   "cell_type": "code",
   "execution_count": 5,
   "metadata": {},
   "outputs": [
    {
     "data": {
      "application/vnd.jupyter.widget-view+json": {
       "model_id": "b0183ea39b0146d6a3cdada7bb0272a2",
       "version_major": 2,
       "version_minor": 0
      },
      "text/plain": [
       "Downloading readme:   0%|          | 0.00/4.64k [00:00<?, ?B/s]"
      ]
     },
     "metadata": {},
     "output_type": "display_data"
    },
    {
     "data": {
      "application/vnd.jupyter.widget-view+json": {
       "model_id": "70174cca2d9043c28035875a2eeff843",
       "version_major": 2,
       "version_minor": 0
      },
      "text/plain": [
       "Downloading data:   0%|          | 0.00/258k [00:00<?, ?B/s]"
      ]
     },
     "metadata": {},
     "output_type": "display_data"
    },
    {
     "data": {
      "application/vnd.jupyter.widget-view+json": {
       "model_id": "b85ec2ad029345698dd32e0334ec668f",
       "version_major": 2,
       "version_minor": 0
      },
      "text/plain": [
       "Generating test split:   0%|          | 0/1273 [00:00<?, ? examples/s]"
      ]
     },
     "metadata": {},
     "output_type": "display_data"
    },
    {
     "name": "stderr",
     "output_type": "stream",
     "text": [
      "100%|██████████| 213/213 [01:05<00:00,  3.24it/s]\n"
     ]
    }
   ],
   "source": [
    "\n",
    "metrics = calculate_MCQ_metrics(model, 'wmdp-bio')"
   ]
  },
  {
   "cell_type": "code",
   "execution_count": 6,
   "metadata": {},
   "outputs": [
    {
     "name": "stdout",
     "output_type": "stream",
     "text": [
      "(1273,)\n",
      "0.4658287465572357\n"
     ]
    }
   ],
   "source": [
    "print(metrics['is_correct'].shape)\n",
    "print(metrics['mean_correct'])\n"
   ]
  },
  {
   "cell_type": "code",
   "execution_count": 8,
   "metadata": {},
   "outputs": [],
   "source": [
    "def modify_model(model, **kwargs):\n",
    "\n",
    "    default_modification_kwargs = {\n",
    "        'multiplier': 1.0,\n",
    "        'intervention_method': 'scale_feature_activation',\n",
    "        'custom_hook_point': None,\n",
    "    }\n",
    "    \n",
    "    model.reset_hooks()\n",
    "    \n",
    "    # Calculate modified stats\n",
    "    if kwargs['intervention_method'] == \"scale_feature_activation\":\n",
    "        ablation_method = anthropic_remove_resid_SAE_features\n",
    "    elif kwargs['intervention_method'] == \"remove_from_residual_stream\":\n",
    "        ablation_method = remove_resid_SAE_features\n",
    "    elif kwargs['intervention_method'] == \"clamp_feature_activation\":\n",
    "        ablation_method = anthropic_clamp_resid_SAE_features\n",
    "        \n",
    "    ablate_hook_func = partial(\n",
    "        ablation_method, \n",
    "        sae=sae, \n",
    "        features_to_ablate=kwargs['features_to_ablate'],\n",
    "        multiplier=kwargs['multiplier']\n",
    "        )\n",
    "    \n",
    "    if 'custom_hook_point' not in kwargs or kwargs['custom_hook_point'] is None:\n",
    "        hook_point = sae.cfg.hook_point\n",
    "    else:\n",
    "        hook_point = kwargs['custom_hook_point']\n",
    "    \n",
    "    model.add_hook(hook_point, ablate_hook_func)"
   ]
  },
  {
   "cell_type": "code",
   "execution_count": 19,
   "metadata": {},
   "outputs": [
    {
     "name": "stderr",
     "output_type": "stream",
     "text": [
      "100%|██████████| 213/213 [01:08<00:00,  3.12it/s]\n"
     ]
    }
   ],
   "source": [
    "# modified the model\n",
    "filtered_good_features = [12663, 4342, 5749, 10355, 1523, 15858, 12273, 14315, 4451, 1611, 10051, 16186, 7983, 6958, 1307, 11019, 6531, 12289]\n",
    "\n",
    "ablate_params = {\n",
    "    'features_to_ablate': top_features_from_forget_set[:32],\n",
    "    'multiplier': 20,\n",
    "    'intervention_method': 'clamp_feature_activation',\n",
    "}\n",
    "\n",
    "modify_model(model, **ablate_params) \n",
    "\n",
    "modified_metrics = calculate_MCQ_metrics(model, 'wmdp-bio')\n",
    "    \n",
    "model.reset_hooks()"
   ]
  },
  {
   "cell_type": "code",
   "execution_count": 21,
   "metadata": {},
   "outputs": [
    {
     "data": {
      "text/plain": [
       "{'mean_correct': 0.32521602511405945,\n",
       " 'total_correct': 414,\n",
       " 'is_correct': array([0., 1., 0., ..., 1., 1., 0.], dtype=float32),\n",
       " 'output_probs': array([[3.9242983e-01, 4.1326389e-02, 5.0947088e-01, 4.6851005e-02],\n",
       "        [1.8110876e-01, 1.8788504e-03, 3.1302667e-03, 8.0971557e-01],\n",
       "        [9.4464011e-02, 1.7328572e-03, 1.1314076e-02, 8.7782061e-01],\n",
       "        ...,\n",
       "        [5.6156132e-02, 7.3655997e-04, 9.4066828e-01, 1.1112447e-03],\n",
       "        [1.6675612e-02, 3.9314985e-02, 9.1423547e-01, 1.7998165e-02],\n",
       "        [6.3186446e-03, 3.0064736e-03, 3.1196144e-03, 9.8394865e-01]],\n",
       "       dtype=float32),\n",
       " 'actual_answers': array([0, 3, 2, ..., 2, 2, 2]),\n",
       " 'predicted_answers': array([2, 3, 3, ..., 2, 2, 3]),\n",
       " 'predicted_probs': array([0.5094709 , 0.80971557, 0.8778206 , ..., 0.9406683 , 0.9142355 ,\n",
       "        0.98394865], dtype=float32),\n",
       " 'predicted_probs_of_correct_answers': array([0.39242983, 0.80971557, 0.01131408, ..., 0.9406683 , 0.9142355 ,\n",
       "        0.00311961], dtype=float32),\n",
       " 'mean_predicted_prob_of_correct_answers': 0.3163570761680603,\n",
       " 'mean_predicted_probs': 0.8649932742118835,\n",
       " 'value_counts': {0: 789, 1: 110, 2: 191, 3: 183},\n",
       " 'sum_abcd': array([0.9900781 , 0.99583346, 0.98533154, ..., 0.99867225, 0.9882242 ,\n",
       "        0.9963934 ], dtype=float32)}"
      ]
     },
     "execution_count": 21,
     "metadata": {},
     "output_type": "execute_result"
    }
   ],
   "source": [
    "modified_metrics"
   ]
  },
  {
   "cell_type": "code",
   "execution_count": 20,
   "metadata": {},
   "outputs": [
    {
     "name": "stdout",
     "output_type": "stream",
     "text": [
      "(1273,)\n",
      "0.32521602511405945\n"
     ]
    }
   ],
   "source": [
    "print(modified_metrics['is_correct'].shape)\n",
    "print(modified_metrics['mean_correct'])\n",
    "\n",
    "# 18 features (manually selected) from 60 questions\n",
    "# 0.2545168995857239\n",
    "\n",
    "# 8 features from forget set (scale)\n",
    "# 0.36999213695526123\n",
    "\n",
    "# 16 features from forget set (scale)\n",
    "# 0.34878242015838623\n",
    "\n",
    "# 32 features from forget set (scale)\n",
    "# 0.3267871141433716\n",
    "# 0.32521602511405945"
   ]
  },
  {
   "cell_type": "code",
   "execution_count": 11,
   "metadata": {},
   "outputs": [],
   "source": [
    "top_features_from_forget_set = np.loadtxt('./unlearning_output/top_features_from_forget_set.txt', dtype=int)"
   ]
  },
  {
   "cell_type": "code",
   "execution_count": 12,
   "metadata": {},
   "outputs": [
    {
     "data": {
      "text/plain": [
       "array([ 1557, 12273,  4271, ..., 11697,  4863, 10364])"
      ]
     },
     "execution_count": 12,
     "metadata": {},
     "output_type": "execute_result"
    }
   ],
   "source": [
    "top_features_from_forget_set"
   ]
  },
  {
   "cell_type": "code",
   "execution_count": null,
   "metadata": {},
   "outputs": [],
   "source": []
  }
 ],
 "metadata": {
  "kernelspec": {
   "display_name": ".venv",
   "language": "python",
   "name": "python3"
  },
  "language_info": {
   "codemirror_mode": {
    "name": "ipython",
    "version": 3
   },
   "file_extension": ".py",
   "mimetype": "text/x-python",
   "name": "python",
   "nbconvert_exporter": "python",
   "pygments_lexer": "ipython3",
   "version": "3.10.13"
  }
 },
 "nbformat": 4,
 "nbformat_minor": 2
}
