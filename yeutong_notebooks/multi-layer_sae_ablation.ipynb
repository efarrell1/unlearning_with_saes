{
 "cells": [
  {
   "cell_type": "code",
   "execution_count": 1,
   "metadata": {},
   "outputs": [],
   "source": [
    "%load_ext autoreload\n",
    "%autoreload 2\n",
    "import torch\n",
    "import numpy as np\n",
    "\n",
    "from unlearning.tool import get_hf_model\n",
    "from unlearning.feature_activation import get_forget_retain_data, tokenize_dataset, get_mean_feature_activation, get_top_features\n",
    "from unlearning.jump_relu import load_gemma2_2b_sae\n",
    "from unlearning.intervention import scaling_intervention\n",
    "from unlearning.metrics import calculate_MCQ_metrics"
   ]
  },
  {
   "cell_type": "code",
   "execution_count": 2,
   "metadata": {},
   "outputs": [
    {
     "data": {
      "application/vnd.jupyter.widget-view+json": {
       "model_id": "9a50d2ebc94948dbb666cd62cf7560be",
       "version_major": 2,
       "version_minor": 0
      },
      "text/plain": [
       "Loading checkpoint shards:   0%|          | 0/2 [00:00<?, ?it/s]"
      ]
     },
     "metadata": {},
     "output_type": "display_data"
    }
   ],
   "source": [
    "model = get_hf_model('google/gemma-2-2b-it')"
   ]
  },
  {
   "cell_type": "markdown",
   "metadata": {},
   "source": [
    "### Save top features for each layer"
   ]
  },
  {
   "cell_type": "code",
   "execution_count": 3,
   "metadata": {},
   "outputs": [
    {
     "name": "stdout",
     "output_type": "stream",
     "text": [
      "24432 16027\n",
      "1962 859\n",
      "torch.Size([153108, 1024]) torch.Size([275, 1024])\n"
     ]
    }
   ],
   "source": [
    "forget_dataset, retain_dataset = get_forget_retain_data('bio-forget-corpus', 'wikitext')\n",
    "\n",
    "print(len(forget_dataset), len(forget_dataset[0]))\n",
    "print(len(retain_dataset), len(retain_dataset[0]))\n",
    "\n",
    "forget_tokens = tokenize_dataset(model, forget_dataset)\n",
    "retain_tokens = tokenize_dataset(model, retain_dataset)\n",
    "\n",
    "print(forget_tokens.shape, retain_tokens.shape)"
   ]
  },
  {
   "cell_type": "code",
   "execution_count": 10,
   "metadata": {},
   "outputs": [
    {
     "name": "stdout",
     "output_type": "stream",
     "text": [
      "Found SAE with l0=102 at path google/gemma-scope-2b-pt-res/layer_1/width_16k/average_l0_102/params.npz\n"
     ]
    },
    {
     "data": {
      "application/vnd.jupyter.widget-view+json": {
       "model_id": "986b053a58bc4eebbb553d2d4e8bd375",
       "version_major": 2,
       "version_minor": 0
      },
      "text/plain": [
       "params.npz:   0%|          | 0.00/302M [00:00<?, ?B/s]"
      ]
     },
     "metadata": {},
     "output_type": "display_data"
    }
   ],
   "source": [
    "LAYER = 1\n",
    "sae = load_gemma2_2b_sae(layer=LAYER)\n"
   ]
  },
  {
   "cell_type": "code",
   "execution_count": 24,
   "metadata": {},
   "outputs": [],
   "source": [
    "def save_sae_top_features(model, layer, forget_tokens, retain_tokens):\n",
    "    sae = load_gemma2_2b_sae(layer=layer)\n",
    "\n",
    "    # shuffle forget_tokens \n",
    "    shuffled_forget_tokens = forget_tokens[torch.randperm(forget_tokens.shape[0])]\n",
    "\n",
    "    mean_feature_activation_forget = get_mean_feature_activation(model, sae, shuffled_forget_tokens[:2048], batch_size=8)\n",
    "    mean_feature_activation_retain = get_mean_feature_activation(model, sae, retain_tokens, batch_size=8)\n",
    "\n",
    "    top_features = get_top_features(mean_feature_activation_forget, mean_feature_activation_retain, 0.01)\n",
    "    np.savetxt(f'../data/top_features/gemma-2-2b-it/layer{layer}.txt', top_features, fmt='%d')"
   ]
  },
  {
   "cell_type": "code",
   "execution_count": 25,
   "metadata": {},
   "outputs": [
    {
     "name": "stdout",
     "output_type": "stream",
     "text": [
      "Layer 0\n",
      "Found SAE with l0=105 at path google/gemma-scope-2b-pt-res/layer_0/width_16k/average_l0_105/params.npz\n"
     ]
    },
    {
     "data": {
      "application/vnd.jupyter.widget-view+json": {
       "model_id": "641c91b393544bd185e8e074480c4944",
       "version_major": 2,
       "version_minor": 0
      },
      "text/plain": [
       "params.npz:   0%|          | 0.00/302M [00:00<?, ?B/s]"
      ]
     },
     "metadata": {},
     "output_type": "display_data"
    },
    {
     "name": "stderr",
     "output_type": "stream",
     "text": [
      "100%|██████████| 256/256 [03:57<00:00,  1.08it/s]\n",
      "100%|██████████| 35/35 [00:31<00:00,  1.11it/s]\n"
     ]
    },
    {
     "name": "stdout",
     "output_type": "stream",
     "text": [
      "[ 3148  7146   611  2261  3873 13553 13954  7076   443   721  5531 13030\n",
      " 13361  7126  6208  5361  5158  1196 15250  7510]\n",
      "Layer 4\n",
      "Found SAE with l0=124 at path google/gemma-scope-2b-pt-res/layer_4/width_16k/average_l0_124/params.npz\n"
     ]
    },
    {
     "data": {
      "application/vnd.jupyter.widget-view+json": {
       "model_id": "b7d6ef5220a340d9b152144527cc979c",
       "version_major": 2,
       "version_minor": 0
      },
      "text/plain": [
       "params.npz:   0%|          | 0.00/302M [00:00<?, ?B/s]"
      ]
     },
     "metadata": {},
     "output_type": "display_data"
    },
    {
     "name": "stderr",
     "output_type": "stream",
     "text": [
      "100%|██████████| 256/256 [03:57<00:00,  1.08it/s]\n",
      "100%|██████████| 35/35 [00:32<00:00,  1.09it/s]\n"
     ]
    },
    {
     "name": "stdout",
     "output_type": "stream",
     "text": [
      "[ 9137  5072 12768  3368  9380 14596 12645 12382  1007  5536 10252   885\n",
      " 13747  1710 14748 10905 13991 10186  4234 14149]\n",
      "Layer 5\n",
      "Found SAE with l0=68 at path google/gemma-scope-2b-pt-res/layer_5/width_16k/average_l0_68/params.npz\n"
     ]
    },
    {
     "data": {
      "application/vnd.jupyter.widget-view+json": {
       "model_id": "7fc8abbf57424386a0d2d14eb6f591e9",
       "version_major": 2,
       "version_minor": 0
      },
      "text/plain": [
       "params.npz:   0%|          | 0.00/302M [00:00<?, ?B/s]"
      ]
     },
     "metadata": {},
     "output_type": "display_data"
    },
    {
     "name": "stderr",
     "output_type": "stream",
     "text": [
      "100%|██████████| 256/256 [03:55<00:00,  1.08it/s]\n",
      "100%|██████████| 35/35 [00:31<00:00,  1.10it/s]\n"
     ]
    },
    {
     "name": "stdout",
     "output_type": "stream",
     "text": [
      "[  248  6347  3036 14303    97  1465 10854 12991  8245  9678 14108  6479\n",
      "   737  7260   763 12528  5653  3197  9862  1565]\n",
      "Layer 6\n",
      "Found SAE with l0=70 at path google/gemma-scope-2b-pt-res/layer_6/width_16k/average_l0_70/params.npz\n"
     ]
    },
    {
     "data": {
      "application/vnd.jupyter.widget-view+json": {
       "model_id": "7789d59a1dd44be7b7e600517509823d",
       "version_major": 2,
       "version_minor": 0
      },
      "text/plain": [
       "params.npz:   0%|          | 0.00/302M [00:00<?, ?B/s]"
      ]
     },
     "metadata": {},
     "output_type": "display_data"
    },
    {
     "name": "stderr",
     "output_type": "stream",
     "text": [
      "100%|██████████| 256/256 [03:55<00:00,  1.09it/s]\n",
      "100%|██████████| 35/35 [00:31<00:00,  1.11it/s]\n"
     ]
    },
    {
     "name": "stdout",
     "output_type": "stream",
     "text": [
      "[ 1609  6866  8954 15237  4228  8152 11545 10946  3161  2869  1534 15793\n",
      "  1307  3396  6870 15141 11390  3429 11380  2310]\n",
      "Layer 7\n",
      "Found SAE with l0=69 at path google/gemma-scope-2b-pt-res/layer_7/width_16k/average_l0_69/params.npz\n"
     ]
    },
    {
     "data": {
      "application/vnd.jupyter.widget-view+json": {
       "model_id": "ce4e09ce5ad44be39631e208f98bc636",
       "version_major": 2,
       "version_minor": 0
      },
      "text/plain": [
       "params.npz:   0%|          | 0.00/302M [00:00<?, ?B/s]"
      ]
     },
     "metadata": {},
     "output_type": "display_data"
    },
    {
     "name": "stderr",
     "output_type": "stream",
     "text": [
      "100%|██████████| 256/256 [04:00<00:00,  1.06it/s]\n",
      "100%|██████████| 35/35 [00:32<00:00,  1.09it/s]\n"
     ]
    },
    {
     "name": "stdout",
     "output_type": "stream",
     "text": [
      "[12799 15661  3828  9723 15939  4216  2512   226 15879  4945  2114  9294\n",
      " 10566  9159 13351 16187  8934  3769 14822  1709]\n",
      "Layer 8\n",
      "Found SAE with l0=71 at path google/gemma-scope-2b-pt-res/layer_8/width_16k/average_l0_71/params.npz\n"
     ]
    },
    {
     "data": {
      "application/vnd.jupyter.widget-view+json": {
       "model_id": "8c7837e0bea54d5793956dd9f964e082",
       "version_major": 2,
       "version_minor": 0
      },
      "text/plain": [
       "params.npz:   0%|          | 0.00/302M [00:00<?, ?B/s]"
      ]
     },
     "metadata": {},
     "output_type": "display_data"
    },
    {
     "name": "stderr",
     "output_type": "stream",
     "text": [
      "100%|██████████| 256/256 [03:57<00:00,  1.08it/s]\n",
      "100%|██████████| 35/35 [00:32<00:00,  1.09it/s]\n"
     ]
    },
    {
     "name": "stdout",
     "output_type": "stream",
     "text": [
      "[ 6991  2766  7617 11059  5276  2573  4172  4865  1992  2470  8022  2875\n",
      "  5589   101 16318  7830  3795  3839  8244   426]\n",
      "Layer 9\n",
      "Found SAE with l0=73 at path google/gemma-scope-2b-pt-res/layer_9/width_16k/average_l0_73/params.npz\n"
     ]
    },
    {
     "data": {
      "application/vnd.jupyter.widget-view+json": {
       "model_id": "e36afabd20374841a323dbe355dd3dcd",
       "version_major": 2,
       "version_minor": 0
      },
      "text/plain": [
       "params.npz:   0%|          | 0.00/302M [00:00<?, ?B/s]"
      ]
     },
     "metadata": {},
     "output_type": "display_data"
    },
    {
     "name": "stderr",
     "output_type": "stream",
     "text": [
      "100%|██████████| 256/256 [03:56<00:00,  1.08it/s]\n",
      "100%|██████████| 35/35 [00:32<00:00,  1.09it/s]\n"
     ]
    },
    {
     "name": "stdout",
     "output_type": "stream",
     "text": [
      "[ 8109 15123  6028  4700   825 12418  4081  7882  2465  2371 15497  4537\n",
      " 13618 10499  4485  7904 15821  2532 14167  2635]\n",
      "Layer 10\n",
      "Found SAE with l0=77 at path google/gemma-scope-2b-pt-res/layer_10/width_16k/average_l0_77/params.npz\n"
     ]
    },
    {
     "data": {
      "application/vnd.jupyter.widget-view+json": {
       "model_id": "3954a63c8c50491eadcb69fe12173222",
       "version_major": 2,
       "version_minor": 0
      },
      "text/plain": [
       "params.npz:   0%|          | 0.00/302M [00:00<?, ?B/s]"
      ]
     },
     "metadata": {},
     "output_type": "display_data"
    },
    {
     "name": "stderr",
     "output_type": "stream",
     "text": [
      "100%|██████████| 256/256 [03:56<00:00,  1.08it/s]\n",
      "100%|██████████| 35/35 [00:32<00:00,  1.09it/s]\n"
     ]
    },
    {
     "name": "stdout",
     "output_type": "stream",
     "text": [
      "[  739  1269  1782     2  1822 15313  5815  9055 11121  6388 13645  8172\n",
      " 10881  2751 10395 10932 14003   959  5217  3298]\n",
      "Layer 11\n",
      "Found SAE with l0=80 at path google/gemma-scope-2b-pt-res/layer_11/width_16k/average_l0_80/params.npz\n"
     ]
    },
    {
     "data": {
      "application/vnd.jupyter.widget-view+json": {
       "model_id": "6f8be5ed46e44706b70765237056bee6",
       "version_major": 2,
       "version_minor": 0
      },
      "text/plain": [
       "params.npz:   0%|          | 0.00/302M [00:00<?, ?B/s]"
      ]
     },
     "metadata": {},
     "output_type": "display_data"
    },
    {
     "name": "stderr",
     "output_type": "stream",
     "text": [
      "100%|██████████| 256/256 [03:57<00:00,  1.08it/s]\n",
      "100%|██████████| 35/35 [00:32<00:00,  1.08it/s]\n"
     ]
    },
    {
     "name": "stdout",
     "output_type": "stream",
     "text": [
      "[14385 14948  2804  7864  4348  7745  1603 14200 10844  4806 15336  8377\n",
      " 11385  3239  6181  3097 14738 12101  9392  8008]\n",
      "Layer 12\n",
      "Found SAE with l0=82 at path google/gemma-scope-2b-pt-res/layer_12/width_16k/average_l0_82/params.npz\n"
     ]
    },
    {
     "data": {
      "application/vnd.jupyter.widget-view+json": {
       "model_id": "98354303cdeb490a82f5135bfa8b534f",
       "version_major": 2,
       "version_minor": 0
      },
      "text/plain": [
       "params.npz:   0%|          | 0.00/302M [00:00<?, ?B/s]"
      ]
     },
     "metadata": {},
     "output_type": "display_data"
    },
    {
     "name": "stderr",
     "output_type": "stream",
     "text": [
      "100%|██████████| 256/256 [03:54<00:00,  1.09it/s]\n",
      "100%|██████████| 35/35 [00:31<00:00,  1.11it/s]\n"
     ]
    },
    {
     "name": "stdout",
     "output_type": "stream",
     "text": [
      "[ 4009  5284 14606 14778  2830 14088 14183   343  4163 10530  2948  5884\n",
      "  9908   231  3286  1746 15293 11380   701 10316]\n",
      "Layer 13\n",
      "Found SAE with l0=84 at path google/gemma-scope-2b-pt-res/layer_13/width_16k/average_l0_84/params.npz\n"
     ]
    },
    {
     "data": {
      "application/vnd.jupyter.widget-view+json": {
       "model_id": "6f834736cf8f4f49a542b8cc6781ad29",
       "version_major": 2,
       "version_minor": 0
      },
      "text/plain": [
       "params.npz:   0%|          | 0.00/302M [00:00<?, ?B/s]"
      ]
     },
     "metadata": {},
     "output_type": "display_data"
    },
    {
     "name": "stderr",
     "output_type": "stream",
     "text": [
      "100%|██████████| 256/256 [03:55<00:00,  1.09it/s]\n",
      "100%|██████████| 35/35 [00:32<00:00,  1.08it/s]\n"
     ]
    },
    {
     "name": "stdout",
     "output_type": "stream",
     "text": [
      "[ 8228  1894  4618  2644  4470 14368  6256  1287  4917  1861 13227 13018\n",
      " 10429 10026   111  8370 10319 11770  6496   285]\n",
      "Layer 14\n",
      "Found SAE with l0=84 at path google/gemma-scope-2b-pt-res/layer_14/width_16k/average_l0_84/params.npz\n"
     ]
    },
    {
     "data": {
      "application/vnd.jupyter.widget-view+json": {
       "model_id": "eb3a2d1d90d646df9d0b1675e0f813d9",
       "version_major": 2,
       "version_minor": 0
      },
      "text/plain": [
       "params.npz:   0%|          | 0.00/302M [00:00<?, ?B/s]"
      ]
     },
     "metadata": {},
     "output_type": "display_data"
    },
    {
     "name": "stderr",
     "output_type": "stream",
     "text": [
      "100%|██████████| 256/256 [03:59<00:00,  1.07it/s]\n",
      "100%|██████████| 35/35 [00:31<00:00,  1.10it/s]\n"
     ]
    },
    {
     "name": "stdout",
     "output_type": "stream",
     "text": [
      "[13902  5350  3829  9268 15384 14630  7106 13941  7994  6424  5304 13326\n",
      " 14239  4874  1814  9294 12374 16156 11443  7823]\n",
      "Layer 15\n",
      "Found SAE with l0=78 at path google/gemma-scope-2b-pt-res/layer_15/width_16k/average_l0_78/params.npz\n"
     ]
    },
    {
     "data": {
      "application/vnd.jupyter.widget-view+json": {
       "model_id": "ec54f7c58f8f410f9971f7b47d7cbc32",
       "version_major": 2,
       "version_minor": 0
      },
      "text/plain": [
       "params.npz:   0%|          | 0.00/302M [00:00<?, ?B/s]"
      ]
     },
     "metadata": {},
     "output_type": "display_data"
    },
    {
     "name": "stderr",
     "output_type": "stream",
     "text": [
      "100%|██████████| 256/256 [03:56<00:00,  1.08it/s]\n",
      "100%|██████████| 35/35 [00:32<00:00,  1.08it/s]\n"
     ]
    },
    {
     "name": "stdout",
     "output_type": "stream",
     "text": [
      "[12658  1465 11863  3155  3183 10360 12420  9354  7503 14052  1204 12977\n",
      " 14679 11852 15962  5882  7237  7106 11402   732]\n",
      "Layer 16\n",
      "Found SAE with l0=78 at path google/gemma-scope-2b-pt-res/layer_16/width_16k/average_l0_78/params.npz\n"
     ]
    },
    {
     "data": {
      "application/vnd.jupyter.widget-view+json": {
       "model_id": "d483f80468bc4b3a878f9b6d2727c141",
       "version_major": 2,
       "version_minor": 0
      },
      "text/plain": [
       "params.npz:   0%|          | 0.00/302M [00:00<?, ?B/s]"
      ]
     },
     "metadata": {},
     "output_type": "display_data"
    },
    {
     "name": "stderr",
     "output_type": "stream",
     "text": [
      "100%|██████████| 256/256 [03:55<00:00,  1.09it/s]\n",
      "100%|██████████| 35/35 [00:31<00:00,  1.11it/s]\n"
     ]
    },
    {
     "name": "stdout",
     "output_type": "stream",
     "text": [
      "[ 6911 14122 13765  3579  9138 10908 13227 16133  4746 15846  1223 14300\n",
      " 10012 14661  7957 14167  6649  6016 12719  8805]\n",
      "Layer 17\n",
      "Found SAE with l0=77 at path google/gemma-scope-2b-pt-res/layer_17/width_16k/average_l0_77/params.npz\n"
     ]
    },
    {
     "data": {
      "application/vnd.jupyter.widget-view+json": {
       "model_id": "290c2359aedc446aa7e725e9a5db49bb",
       "version_major": 2,
       "version_minor": 0
      },
      "text/plain": [
       "params.npz:   0%|          | 0.00/302M [00:00<?, ?B/s]"
      ]
     },
     "metadata": {},
     "output_type": "display_data"
    },
    {
     "name": "stderr",
     "output_type": "stream",
     "text": [
      "100%|██████████| 256/256 [03:57<00:00,  1.08it/s]\n",
      "100%|██████████| 35/35 [00:31<00:00,  1.10it/s]\n"
     ]
    },
    {
     "name": "stdout",
     "output_type": "stream",
     "text": [
      "[ 9732  5123  5691  5159 12794  6854 12147  2619  1625  3271  3007   267\n",
      "  8351  7849  5277  1320  6451 13112  4767  8270]\n",
      "Layer 18\n",
      "Found SAE with l0=74 at path google/gemma-scope-2b-pt-res/layer_18/width_16k/average_l0_74/params.npz\n"
     ]
    },
    {
     "data": {
      "application/vnd.jupyter.widget-view+json": {
       "model_id": "ee2f8466139f4d78a0e1b15121571fce",
       "version_major": 2,
       "version_minor": 0
      },
      "text/plain": [
       "params.npz:   0%|          | 0.00/302M [00:00<?, ?B/s]"
      ]
     },
     "metadata": {},
     "output_type": "display_data"
    },
    {
     "name": "stderr",
     "output_type": "stream",
     "text": [
      "100%|██████████| 256/256 [03:58<00:00,  1.08it/s]\n",
      "100%|██████████| 35/35 [00:32<00:00,  1.09it/s]\n"
     ]
    },
    {
     "name": "stdout",
     "output_type": "stream",
     "text": [
      "[ 6673 15294  1451  5811  6186  7915 14435  4066 16207  1865  3664  6410\n",
      "  6562 10989 12945  2206  5760 11194  5765 13359]\n",
      "Layer 19\n",
      "Found SAE with l0=73 at path google/gemma-scope-2b-pt-res/layer_19/width_16k/average_l0_73/params.npz\n"
     ]
    },
    {
     "data": {
      "application/vnd.jupyter.widget-view+json": {
       "model_id": "8f950238f1fe42cf81906b853974714f",
       "version_major": 2,
       "version_minor": 0
      },
      "text/plain": [
       "params.npz:   0%|          | 0.00/302M [00:00<?, ?B/s]"
      ]
     },
     "metadata": {},
     "output_type": "display_data"
    },
    {
     "name": "stderr",
     "output_type": "stream",
     "text": [
      "100%|██████████| 256/256 [03:57<00:00,  1.08it/s]\n",
      "100%|██████████| 35/35 [00:32<00:00,  1.09it/s]\n"
     ]
    },
    {
     "name": "stdout",
     "output_type": "stream",
     "text": [
      "[ 4122 10838 15658  6889  6440 11835 12747 16004  8669  9992 16021  8916\n",
      " 16044 10794  4375 14902  5175  7271 12385 13668]\n",
      "Layer 20\n",
      "Found SAE with l0=71 at path google/gemma-scope-2b-pt-res/layer_20/width_16k/average_l0_71/params.npz\n"
     ]
    },
    {
     "data": {
      "application/vnd.jupyter.widget-view+json": {
       "model_id": "00224a1956c4458d9caea4796020fe31",
       "version_major": 2,
       "version_minor": 0
      },
      "text/plain": [
       "params.npz:   0%|          | 0.00/302M [00:00<?, ?B/s]"
      ]
     },
     "metadata": {},
     "output_type": "display_data"
    },
    {
     "name": "stderr",
     "output_type": "stream",
     "text": [
      "100%|██████████| 256/256 [03:56<00:00,  1.08it/s]\n",
      "100%|██████████| 35/35 [00:32<00:00,  1.09it/s]\n"
     ]
    },
    {
     "name": "stdout",
     "output_type": "stream",
     "text": [
      "[ 5447 14012  1518 15231  5481  8367 10589  6283  3074 14217  6344 14247\n",
      "  6864 14527 13947 15367  9571  6145  6175 15432]\n",
      "Layer 21\n",
      "Found SAE with l0=70 at path google/gemma-scope-2b-pt-res/layer_21/width_16k/average_l0_70/params.npz\n"
     ]
    },
    {
     "data": {
      "application/vnd.jupyter.widget-view+json": {
       "model_id": "97afea95e86c47a18dff5b32fcd2a548",
       "version_major": 2,
       "version_minor": 0
      },
      "text/plain": [
       "params.npz:   0%|          | 0.00/302M [00:00<?, ?B/s]"
      ]
     },
     "metadata": {},
     "output_type": "display_data"
    },
    {
     "name": "stderr",
     "output_type": "stream",
     "text": [
      "100%|██████████| 256/256 [03:57<00:00,  1.08it/s]\n",
      "100%|██████████| 35/35 [00:32<00:00,  1.09it/s]\n"
     ]
    },
    {
     "name": "stdout",
     "output_type": "stream",
     "text": [
      "[15646  4019 13352 12272  3406 14499 15805  2989   393  6832  3563  4385\n",
      " 13247  5892 10583  7881 11100  4541 11107 14971]\n",
      "Layer 22\n",
      "Found SAE with l0=72 at path google/gemma-scope-2b-pt-res/layer_22/width_16k/average_l0_72/params.npz\n"
     ]
    },
    {
     "data": {
      "application/vnd.jupyter.widget-view+json": {
       "model_id": "73879846c2d740708f60ad9449ddafeb",
       "version_major": 2,
       "version_minor": 0
      },
      "text/plain": [
       "params.npz:   0%|          | 0.00/302M [00:00<?, ?B/s]"
      ]
     },
     "metadata": {},
     "output_type": "display_data"
    },
    {
     "name": "stderr",
     "output_type": "stream",
     "text": [
      "100%|██████████| 256/256 [03:57<00:00,  1.08it/s]\n",
      "100%|██████████| 35/35 [00:32<00:00,  1.09it/s]\n"
     ]
    },
    {
     "name": "stdout",
     "output_type": "stream",
     "text": [
      "[ 4923   438  5398 11754  8114  8874 13539 13894 15367  5574  5329  6933\n",
      " 13121 14059 10324  3810  1950 12558  6127  2119]\n",
      "Layer 23\n",
      "Found SAE with l0=75 at path google/gemma-scope-2b-pt-res/layer_23/width_16k/average_l0_75/params.npz\n"
     ]
    },
    {
     "data": {
      "application/vnd.jupyter.widget-view+json": {
       "model_id": "163740b36138476388f59bd8af0b11e4",
       "version_major": 2,
       "version_minor": 0
      },
      "text/plain": [
       "params.npz:   0%|          | 0.00/302M [00:00<?, ?B/s]"
      ]
     },
     "metadata": {},
     "output_type": "display_data"
    },
    {
     "name": "stderr",
     "output_type": "stream",
     "text": [
      "100%|██████████| 256/256 [03:58<00:00,  1.07it/s]\n",
      "100%|██████████| 35/35 [00:32<00:00,  1.08it/s]\n"
     ]
    },
    {
     "name": "stdout",
     "output_type": "stream",
     "text": [
      "[15701  3064 10889  3676  3260  4120 13658 11872 10226 11276 14980  3020\n",
      "  5571 10785  7130 10887  8724  9293 10099 14289]\n",
      "Layer 24\n",
      "Found SAE with l0=73 at path google/gemma-scope-2b-pt-res/layer_24/width_16k/average_l0_73/params.npz\n"
     ]
    },
    {
     "data": {
      "application/vnd.jupyter.widget-view+json": {
       "model_id": "e6101ccb803d4f8691fb776eaac66621",
       "version_major": 2,
       "version_minor": 0
      },
      "text/plain": [
       "params.npz:   0%|          | 0.00/302M [00:00<?, ?B/s]"
      ]
     },
     "metadata": {},
     "output_type": "display_data"
    },
    {
     "name": "stderr",
     "output_type": "stream",
     "text": [
      "100%|██████████| 256/256 [03:58<00:00,  1.07it/s]\n",
      "100%|██████████| 35/35 [00:32<00:00,  1.09it/s]\n"
     ]
    },
    {
     "name": "stdout",
     "output_type": "stream",
     "text": [
      "[ 3867 12292 16337 10961  9233  6139  5490  5643 13830  6637  9021 10117\n",
      " 13129  8925 16168  4969  3520  6690  7967 14983]\n",
      "Layer 25\n",
      "Found SAE with l0=116 at path google/gemma-scope-2b-pt-res/layer_25/width_16k/average_l0_116/params.npz\n"
     ]
    },
    {
     "data": {
      "application/vnd.jupyter.widget-view+json": {
       "model_id": "3bc1ab02594a450f8d8f31f3ce4854ca",
       "version_major": 2,
       "version_minor": 0
      },
      "text/plain": [
       "params.npz:   0%|          | 0.00/302M [00:00<?, ?B/s]"
      ]
     },
     "metadata": {},
     "output_type": "display_data"
    },
    {
     "name": "stderr",
     "output_type": "stream",
     "text": [
      "100%|██████████| 256/256 [03:59<00:00,  1.07it/s]\n",
      "100%|██████████| 35/35 [00:32<00:00,  1.09it/s]"
     ]
    },
    {
     "name": "stdout",
     "output_type": "stream",
     "text": [
      "[14035  3685 12093  9930  9811  3016  9501   335  1915 11512 13413  1674\n",
      " 16192  6926 14798 14634  8620 14949  8850 15033]\n"
     ]
    },
    {
     "name": "stderr",
     "output_type": "stream",
     "text": [
      "\n"
     ]
    }
   ],
   "source": [
    "for layer in [0] + list(range(4, model.config.num_hidden_layers)):\n",
    "    print(f'Layer {layer}')\n",
    "    save_sae_top_features(model, layer, forget_tokens, retain_tokens)"
   ]
  },
  {
   "cell_type": "code",
   "execution_count": 13,
   "metadata": {},
   "outputs": [
    {
     "data": {
      "text/plain": [
       "'https://neuronpedia.org/quick-list/?name=temporary_list&features=%5B%7B%22modelId%22%3A%20%22gemma-2-2b%22%2C%20%22layer%22%3A%20%221-gemmascope-res-16k%22%2C%20%22index%22%3A%20%226688%22%7D%2C%20%7B%22modelId%22%3A%20%22gemma-2-2b%22%2C%20%22layer%22%3A%20%221-gemmascope-res-16k%22%2C%20%22index%22%3A%20%2214468%22%7D%2C%20%7B%22modelId%22%3A%20%22gemma-2-2b%22%2C%20%22layer%22%3A%20%221-gemmascope-res-16k%22%2C%20%22index%22%3A%20%22691%22%7D%2C%20%7B%22modelId%22%3A%20%22gemma-2-2b%22%2C%20%22layer%22%3A%20%221-gemmascope-res-16k%22%2C%20%22index%22%3A%20%226146%22%7D%2C%20%7B%22modelId%22%3A%20%22gemma-2-2b%22%2C%20%22layer%22%3A%20%221-gemmascope-res-16k%22%2C%20%22index%22%3A%20%224825%22%7D%2C%20%7B%22modelId%22%3A%20%22gemma-2-2b%22%2C%20%22layer%22%3A%20%221-gemmascope-res-16k%22%2C%20%22index%22%3A%20%2215322%22%7D%2C%20%7B%22modelId%22%3A%20%22gemma-2-2b%22%2C%20%22layer%22%3A%20%221-gemmascope-res-16k%22%2C%20%22index%22%3A%20%2210572%22%7D%2C%20%7B%22modelId%22%3A%20%22gemma-2-2b%22%2C%20%22layer%22%3A%20%221-gemmascope-res-16k%22%2C%20%22index%22%3A%20%2211693%22%7D%2C%20%7B%22modelId%22%3A%20%22gemma-2-2b%22%2C%20%22layer%22%3A%20%221-gemmascope-res-16k%22%2C%20%22index%22%3A%20%22327%22%7D%2C%20%7B%22modelId%22%3A%20%22gemma-2-2b%22%2C%20%22layer%22%3A%20%221-gemmascope-res-16k%22%2C%20%22index%22%3A%20%2211374%22%7D%2C%20%7B%22modelId%22%3A%20%22gemma-2-2b%22%2C%20%22layer%22%3A%20%221-gemmascope-res-16k%22%2C%20%22index%22%3A%20%2212662%22%7D%2C%20%7B%22modelId%22%3A%20%22gemma-2-2b%22%2C%20%22layer%22%3A%20%221-gemmascope-res-16k%22%2C%20%22index%22%3A%20%2213361%22%7D%2C%20%7B%22modelId%22%3A%20%22gemma-2-2b%22%2C%20%22layer%22%3A%20%221-gemmascope-res-16k%22%2C%20%22index%22%3A%20%225362%22%7D%2C%20%7B%22modelId%22%3A%20%22gemma-2-2b%22%2C%20%22layer%22%3A%20%221-gemmascope-res-16k%22%2C%20%22index%22%3A%20%2211089%22%7D%2C%20%7B%22modelId%22%3A%20%22gemma-2-2b%22%2C%20%22layer%22%3A%20%221-gemmascope-res-16k%22%2C%20%22index%22%3A%20%222425%22%7D%2C%20%7B%22modelId%22%3A%20%22gemma-2-2b%22%2C%20%22layer%22%3A%20%221-gemmascope-res-16k%22%2C%20%22index%22%3A%20%2210046%22%7D%2C%20%7B%22modelId%22%3A%20%22gemma-2-2b%22%2C%20%22layer%22%3A%20%221-gemmascope-res-16k%22%2C%20%22index%22%3A%20%225770%22%7D%2C%20%7B%22modelId%22%3A%20%22gemma-2-2b%22%2C%20%22layer%22%3A%20%221-gemmascope-res-16k%22%2C%20%22index%22%3A%20%2214282%22%7D%2C%20%7B%22modelId%22%3A%20%22gemma-2-2b%22%2C%20%22layer%22%3A%20%221-gemmascope-res-16k%22%2C%20%22index%22%3A%20%2215795%22%7D%2C%20%7B%22modelId%22%3A%20%22gemma-2-2b%22%2C%20%22layer%22%3A%20%221-gemmascope-res-16k%22%2C%20%22index%22%3A%20%2216051%22%7D%5D'"
      ]
     },
     "execution_count": 13,
     "metadata": {},
     "output_type": "execute_result"
    }
   ],
   "source": [
    "from sae_lens.analysis.neuronpedia_integration import get_neuronpedia_quick_list\n",
    "\n",
    "get_neuronpedia_quick_list(top_features[:20], layer=LAYER, model='gemma-2-2b', dataset='gemmascope-res-16k')"
   ]
  },
  {
   "cell_type": "markdown",
   "metadata": {},
   "source": [
    "### try ablate multilayer sae features"
   ]
  },
  {
   "cell_type": "code",
   "execution_count": 26,
   "metadata": {},
   "outputs": [
    {
     "name": "stdout",
     "output_type": "stream",
     "text": [
      "Found SAE with l0=105 at path google/gemma-scope-2b-pt-res/layer_0/width_16k/average_l0_105/params.npz\n",
      "Found SAE with l0=102 at path google/gemma-scope-2b-pt-res/layer_1/width_16k/average_l0_102/params.npz\n",
      "Found SAE with l0=141 at path google/gemma-scope-2b-pt-res/layer_2/width_16k/average_l0_141/params.npz\n",
      "Found SAE with l0=59 at path google/gemma-scope-2b-pt-res/layer_3/width_16k/average_l0_59/params.npz\n",
      "Found SAE with l0=124 at path google/gemma-scope-2b-pt-res/layer_4/width_16k/average_l0_124/params.npz\n",
      "Found SAE with l0=68 at path google/gemma-scope-2b-pt-res/layer_5/width_16k/average_l0_68/params.npz\n",
      "Found SAE with l0=70 at path google/gemma-scope-2b-pt-res/layer_6/width_16k/average_l0_70/params.npz\n",
      "Found SAE with l0=69 at path google/gemma-scope-2b-pt-res/layer_7/width_16k/average_l0_69/params.npz\n",
      "Found SAE with l0=71 at path google/gemma-scope-2b-pt-res/layer_8/width_16k/average_l0_71/params.npz\n",
      "Found SAE with l0=73 at path google/gemma-scope-2b-pt-res/layer_9/width_16k/average_l0_73/params.npz\n",
      "Found SAE with l0=77 at path google/gemma-scope-2b-pt-res/layer_10/width_16k/average_l0_77/params.npz\n",
      "Found SAE with l0=80 at path google/gemma-scope-2b-pt-res/layer_11/width_16k/average_l0_80/params.npz\n",
      "Found SAE with l0=82 at path google/gemma-scope-2b-pt-res/layer_12/width_16k/average_l0_82/params.npz\n",
      "Found SAE with l0=84 at path google/gemma-scope-2b-pt-res/layer_13/width_16k/average_l0_84/params.npz\n",
      "Found SAE with l0=84 at path google/gemma-scope-2b-pt-res/layer_14/width_16k/average_l0_84/params.npz\n",
      "Found SAE with l0=78 at path google/gemma-scope-2b-pt-res/layer_15/width_16k/average_l0_78/params.npz\n",
      "Found SAE with l0=78 at path google/gemma-scope-2b-pt-res/layer_16/width_16k/average_l0_78/params.npz\n",
      "Found SAE with l0=77 at path google/gemma-scope-2b-pt-res/layer_17/width_16k/average_l0_77/params.npz\n",
      "Found SAE with l0=74 at path google/gemma-scope-2b-pt-res/layer_18/width_16k/average_l0_74/params.npz\n",
      "Found SAE with l0=73 at path google/gemma-scope-2b-pt-res/layer_19/width_16k/average_l0_73/params.npz\n",
      "Found SAE with l0=71 at path google/gemma-scope-2b-pt-res/layer_20/width_16k/average_l0_71/params.npz\n",
      "Found SAE with l0=70 at path google/gemma-scope-2b-pt-res/layer_21/width_16k/average_l0_70/params.npz\n",
      "Found SAE with l0=72 at path google/gemma-scope-2b-pt-res/layer_22/width_16k/average_l0_72/params.npz\n",
      "Found SAE with l0=75 at path google/gemma-scope-2b-pt-res/layer_23/width_16k/average_l0_75/params.npz\n",
      "Found SAE with l0=73 at path google/gemma-scope-2b-pt-res/layer_24/width_16k/average_l0_73/params.npz\n",
      "Found SAE with l0=116 at path google/gemma-scope-2b-pt-res/layer_25/width_16k/average_l0_116/params.npz\n"
     ]
    }
   ],
   "source": [
    "saes = {layer: load_gemma2_2b_sae(layer=layer) for layer in range(model.config.num_hidden_layers)}\n",
    "\n",
    "top_features_all_layers = {\n",
    "    layer: np.loadtxt(f'../data/top_features/gemma-2-2b-it/layer{layer}.txt', dtype=int) \n",
    "    for layer in range(model.config.num_hidden_layers)\n",
    "}"
   ]
  },
  {
   "cell_type": "code",
   "execution_count": 29,
   "metadata": {},
   "outputs": [
    {
     "data": {
      "text/plain": [
       "array([ 3148,  7146,   611, ..., 15450,  4960, 12182])"
      ]
     },
     "execution_count": 29,
     "metadata": {},
     "output_type": "execute_result"
    }
   ],
   "source": [
    "top_features_all_layers[0]"
   ]
  },
  {
   "cell_type": "code",
   "execution_count": 47,
   "metadata": {},
   "outputs": [],
   "source": [
    "from dataclasses import dataclass\n",
    "\n",
    "@dataclass\n",
    "class AblationResults:\n",
    "    multiplier: int\n",
    "    n_features: int\n",
    "    acc: dict[str, float]\n",
    "    full_metrics: dict[str, dict]"
   ]
  },
  {
   "cell_type": "code",
   "execution_count": 49,
   "metadata": {},
   "outputs": [],
   "source": [
    "from contextlib import ExitStack\n",
    "\n",
    "def run_interventions(model, saes, top_features, n_features, multiplier, datasets):\n",
    "    with ExitStack() as stack:\n",
    "        for layer in range(model.config.num_hidden_layers):\n",
    "            stack.enter_context(scaling_intervention(\n",
    "                model, layer, saes[layer], top_features[layer][:n_features], multiplier\n",
    "            ))\n",
    "\n",
    "        acc = {}\n",
    "        full_metrics = {}\n",
    "        for dataset_name in datasets:\n",
    "            metrics = calculate_MCQ_metrics(model, dataset_name=dataset_name)\n",
    "            acc[dataset_name] = metrics['mean_correct']\n",
    "            full_metrics[dataset_name] = metrics\n",
    "        \n",
    "    print(f'{n_features} features, {multiplier}x')\n",
    "    print(acc)\n",
    "    return AblationResults(multiplier=multiplier, n_features=n_features, acc=acc, full_metrics=full_metrics)\n",
    "\n"
   ]
  },
  {
   "cell_type": "code",
   "execution_count": 50,
   "metadata": {},
   "outputs": [
    {
     "name": "stderr",
     "output_type": "stream",
     "text": [
      "100%|██████████| 213/213 [01:30<00:00,  2.36it/s]\n",
      "100%|██████████| 34/34 [00:39<00:00,  1.16s/it]\n",
      "100%|██████████| 33/33 [00:10<00:00,  3.20it/s]\n",
      "100%|██████████| 17/17 [00:10<00:00,  1.69it/s]\n",
      "100%|██████████| 38/38 [00:10<00:00,  3.47it/s]\n",
      "100%|██████████| 24/24 [00:10<00:00,  2.28it/s]\n"
     ]
    },
    {
     "name": "stdout",
     "output_type": "stream",
     "text": [
      "10 features, 1x\n",
      "{'wmdp-bio': 0.604084849357605, 'high_school_us_history': 0.7352941632270813, 'high_school_geography': 0.752525269985199, 'college_computer_science': 0.3999999761581421, 'human_aging': 0.6322870254516602, 'college_biology': 0.6597222089767456}\n"
     ]
    },
    {
     "name": "stderr",
     "output_type": "stream",
     "text": [
      "100%|██████████| 213/213 [01:32<00:00,  2.31it/s]\n",
      "100%|██████████| 34/34 [00:39<00:00,  1.16s/it]\n",
      "100%|██████████| 33/33 [00:10<00:00,  3.19it/s]\n",
      "100%|██████████| 17/17 [00:10<00:00,  1.68it/s]\n",
      "100%|██████████| 38/38 [00:10<00:00,  3.47it/s]\n",
      "100%|██████████| 24/24 [00:10<00:00,  2.26it/s]\n"
     ]
    },
    {
     "name": "stdout",
     "output_type": "stream",
     "text": [
      "10 features, 5x\n",
      "{'wmdp-bio': 0.5027494430541992, 'high_school_us_history': 0.7107843160629272, 'high_school_geography': 0.7424242496490479, 'college_computer_science': 0.4099999964237213, 'human_aging': 0.6098654866218567, 'college_biology': 0.5833333134651184}\n"
     ]
    },
    {
     "name": "stderr",
     "output_type": "stream",
     "text": [
      "100%|██████████| 213/213 [01:32<00:00,  2.31it/s]\n",
      "100%|██████████| 34/34 [00:39<00:00,  1.16s/it]\n",
      "100%|██████████| 33/33 [00:10<00:00,  3.17it/s]\n",
      "100%|██████████| 17/17 [00:10<00:00,  1.68it/s]\n",
      "100%|██████████| 38/38 [00:10<00:00,  3.47it/s]\n",
      "100%|██████████| 24/24 [00:10<00:00,  2.26it/s]\n"
     ]
    },
    {
     "name": "stdout",
     "output_type": "stream",
     "text": [
      "10 features, 10x\n",
      "{'wmdp-bio': 0.42576590180397034, 'high_school_us_history': 0.6813725829124451, 'high_school_geography': 0.7424242496490479, 'college_computer_science': 0.3799999952316284, 'human_aging': 0.5874439477920532, 'college_biology': 0.506944477558136}\n"
     ]
    },
    {
     "name": "stderr",
     "output_type": "stream",
     "text": [
      "100%|██████████| 213/213 [01:32<00:00,  2.30it/s]\n",
      "100%|██████████| 34/34 [00:39<00:00,  1.16s/it]\n",
      "100%|██████████| 33/33 [00:10<00:00,  3.18it/s]\n",
      "100%|██████████| 17/17 [00:10<00:00,  1.68it/s]\n",
      "100%|██████████| 38/38 [00:10<00:00,  3.46it/s]\n",
      "100%|██████████| 24/24 [00:10<00:00,  2.27it/s]\n"
     ]
    },
    {
     "name": "stdout",
     "output_type": "stream",
     "text": [
      "10 features, 20x\n",
      "{'wmdp-bio': 0.293794184923172, 'high_school_us_history': 0.6617647409439087, 'high_school_geography': 0.6565656661987305, 'college_computer_science': 0.35999998450279236, 'human_aging': 0.5022422075271606, 'college_biology': 0.4027777910232544}\n"
     ]
    },
    {
     "name": "stderr",
     "output_type": "stream",
     "text": [
      "100%|██████████| 213/213 [01:32<00:00,  2.30it/s]\n",
      "100%|██████████| 34/34 [00:39<00:00,  1.17s/it]\n",
      "100%|██████████| 33/33 [00:10<00:00,  3.17it/s]\n",
      "100%|██████████| 17/17 [00:10<00:00,  1.68it/s]\n",
      "100%|██████████| 38/38 [00:10<00:00,  3.47it/s]\n",
      "100%|██████████| 24/24 [00:10<00:00,  2.26it/s]\n"
     ]
    },
    {
     "name": "stdout",
     "output_type": "stream",
     "text": [
      "10 features, 50x\n",
      "{'wmdp-bio': 0.25058916211128235, 'high_school_us_history': 0.2549019753932953, 'high_school_geography': 0.28787878155708313, 'college_computer_science': 0.29999998211860657, 'human_aging': 0.3004484474658966, 'college_biology': 0.236111119389534}\n"
     ]
    },
    {
     "name": "stderr",
     "output_type": "stream",
     "text": [
      "100%|██████████| 213/213 [01:33<00:00,  2.29it/s]\n",
      "100%|██████████| 34/34 [00:39<00:00,  1.17s/it]\n",
      "100%|██████████| 33/33 [00:10<00:00,  3.16it/s]\n",
      "100%|██████████| 17/17 [00:10<00:00,  1.68it/s]\n",
      "100%|██████████| 38/38 [00:11<00:00,  3.45it/s]\n",
      "100%|██████████| 24/24 [00:10<00:00,  2.25it/s]\n"
     ]
    },
    {
     "name": "stdout",
     "output_type": "stream",
     "text": [
      "10 features, 100x\n",
      "{'wmdp-bio': 0.2663000822067261, 'high_school_us_history': 0.2549019753932953, 'high_school_geography': 0.17171716690063477, 'college_computer_science': 0.28999999165534973, 'human_aging': 0.29596415162086487, 'college_biology': 0.236111119389534}\n"
     ]
    },
    {
     "name": "stderr",
     "output_type": "stream",
     "text": [
      "100%|██████████| 213/213 [01:32<00:00,  2.31it/s]\n",
      "100%|██████████| 34/34 [00:39<00:00,  1.16s/it]\n",
      "100%|██████████| 33/33 [00:10<00:00,  3.18it/s]\n",
      "100%|██████████| 17/17 [00:10<00:00,  1.68it/s]\n",
      "100%|██████████| 38/38 [00:10<00:00,  3.47it/s]\n",
      "100%|██████████| 24/24 [00:10<00:00,  2.27it/s]\n"
     ]
    },
    {
     "name": "stdout",
     "output_type": "stream",
     "text": [
      "20 features, 1x\n",
      "{'wmdp-bio': 0.5946583151817322, 'high_school_us_history': 0.7156863212585449, 'high_school_geography': 0.752525269985199, 'college_computer_science': 0.4099999964237213, 'human_aging': 0.6233184337615967, 'college_biology': 0.6666666865348816}\n"
     ]
    },
    {
     "name": "stderr",
     "output_type": "stream",
     "text": [
      "100%|██████████| 213/213 [01:32<00:00,  2.31it/s]\n",
      "100%|██████████| 34/34 [00:39<00:00,  1.16s/it]\n",
      "100%|██████████| 33/33 [00:10<00:00,  3.17it/s]\n",
      "100%|██████████| 17/17 [00:10<00:00,  1.68it/s]\n",
      "100%|██████████| 38/38 [00:10<00:00,  3.47it/s]\n",
      "100%|██████████| 24/24 [00:10<00:00,  2.27it/s]\n"
     ]
    },
    {
     "name": "stdout",
     "output_type": "stream",
     "text": [
      "20 features, 5x\n",
      "{'wmdp-bio': 0.46975648403167725, 'high_school_us_history': 0.7058823704719543, 'high_school_geography': 0.7424242496490479, 'college_computer_science': 0.38999998569488525, 'human_aging': 0.6188341379165649, 'college_biology': 0.5972222089767456}\n"
     ]
    },
    {
     "name": "stderr",
     "output_type": "stream",
     "text": [
      "100%|██████████| 213/213 [01:32<00:00,  2.31it/s]\n",
      "100%|██████████| 34/34 [00:39<00:00,  1.16s/it]\n",
      "100%|██████████| 33/33 [00:10<00:00,  3.18it/s]\n",
      "100%|██████████| 17/17 [00:10<00:00,  1.69it/s]\n",
      "100%|██████████| 38/38 [00:10<00:00,  3.47it/s]\n",
      "100%|██████████| 24/24 [00:10<00:00,  2.27it/s]\n"
     ]
    },
    {
     "name": "stdout",
     "output_type": "stream",
     "text": [
      "20 features, 10x\n",
      "{'wmdp-bio': 0.3817753493785858, 'high_school_us_history': 0.6715686321258545, 'high_school_geography': 0.7171717286109924, 'college_computer_science': 0.3499999940395355, 'human_aging': 0.5515695214271545, 'college_biology': 0.4791666567325592}\n"
     ]
    },
    {
     "name": "stderr",
     "output_type": "stream",
     "text": [
      "100%|██████████| 213/213 [01:32<00:00,  2.31it/s]\n",
      "100%|██████████| 34/34 [00:39<00:00,  1.17s/it]\n",
      "100%|██████████| 33/33 [00:10<00:00,  3.19it/s]\n",
      "100%|██████████| 17/17 [00:10<00:00,  1.68it/s]\n",
      "100%|██████████| 38/38 [00:10<00:00,  3.46it/s]\n",
      "100%|██████████| 24/24 [00:10<00:00,  2.27it/s]\n"
     ]
    },
    {
     "name": "stdout",
     "output_type": "stream",
     "text": [
      "20 features, 20x\n",
      "{'wmdp-bio': 0.2631579041481018, 'high_school_us_history': 0.5, 'high_school_geography': 0.5, 'college_computer_science': 0.2800000011920929, 'human_aging': 0.4439462125301361, 'college_biology': 0.2986111044883728}\n"
     ]
    },
    {
     "name": "stderr",
     "output_type": "stream",
     "text": [
      "100%|██████████| 213/213 [01:33<00:00,  2.28it/s]\n",
      "100%|██████████| 34/34 [00:39<00:00,  1.17s/it]\n",
      "100%|██████████| 33/33 [00:10<00:00,  3.15it/s]\n",
      "100%|██████████| 17/17 [00:10<00:00,  1.67it/s]\n",
      "100%|██████████| 38/38 [00:11<00:00,  3.44it/s]\n",
      "100%|██████████| 24/24 [00:10<00:00,  2.26it/s]\n"
     ]
    },
    {
     "name": "stdout",
     "output_type": "stream",
     "text": [
      "20 features, 50x\n",
      "{'wmdp-bio': 0.25530242919921875, 'high_school_us_history': 0.2647058963775635, 'high_school_geography': 0.1818181872367859, 'college_computer_science': 0.1899999976158142, 'human_aging': 0.33183857798576355, 'college_biology': 0.2916666567325592}\n"
     ]
    },
    {
     "name": "stderr",
     "output_type": "stream",
     "text": [
      "100%|██████████| 213/213 [01:33<00:00,  2.28it/s]\n",
      "100%|██████████| 34/34 [00:40<00:00,  1.18s/it]\n",
      "100%|██████████| 33/33 [00:10<00:00,  3.14it/s]\n",
      "100%|██████████| 17/17 [00:10<00:00,  1.66it/s]\n",
      "100%|██████████| 38/38 [00:11<00:00,  3.36it/s]\n",
      "100%|██████████| 24/24 [00:10<00:00,  2.23it/s]\n"
     ]
    },
    {
     "name": "stdout",
     "output_type": "stream",
     "text": [
      "20 features, 100x\n",
      "{'wmdp-bio': 0.2592301666736603, 'high_school_us_history': 0.28431373834609985, 'high_school_geography': 0.21212121844291687, 'college_computer_science': 0.23999999463558197, 'human_aging': 0.25560539960861206, 'college_biology': 0.284722238779068}\n"
     ]
    },
    {
     "name": "stderr",
     "output_type": "stream",
     "text": [
      "100%|██████████| 213/213 [01:32<00:00,  2.30it/s]\n",
      "100%|██████████| 34/34 [00:39<00:00,  1.16s/it]\n",
      "100%|██████████| 33/33 [00:10<00:00,  3.18it/s]\n",
      "100%|██████████| 17/17 [00:10<00:00,  1.67it/s]\n",
      "100%|██████████| 38/38 [00:10<00:00,  3.49it/s]\n",
      "100%|██████████| 24/24 [00:10<00:00,  2.27it/s]\n"
     ]
    },
    {
     "name": "stdout",
     "output_type": "stream",
     "text": [
      "50 features, 1x\n",
      "{'wmdp-bio': 0.5820895433425903, 'high_school_us_history': 0.7303921580314636, 'high_school_geography': 0.7626262903213501, 'college_computer_science': 0.3700000047683716, 'human_aging': 0.6278027296066284, 'college_biology': 0.6875}\n"
     ]
    },
    {
     "name": "stderr",
     "output_type": "stream",
     "text": [
      "100%|██████████| 213/213 [01:32<00:00,  2.31it/s]\n",
      "100%|██████████| 34/34 [00:39<00:00,  1.17s/it]\n",
      "100%|██████████| 33/33 [00:10<00:00,  3.19it/s]\n",
      "100%|██████████| 17/17 [00:10<00:00,  1.69it/s]\n",
      "100%|██████████| 38/38 [00:10<00:00,  3.46it/s]\n",
      "100%|██████████| 24/24 [00:10<00:00,  2.28it/s]\n"
     ]
    },
    {
     "name": "stdout",
     "output_type": "stream",
     "text": [
      "50 features, 5x\n",
      "{'wmdp-bio': 0.447761207818985, 'high_school_us_history': 0.6960784792900085, 'high_school_geography': 0.7121211886405945, 'college_computer_science': 0.38999998569488525, 'human_aging': 0.573991060256958, 'college_biology': 0.472222238779068}\n"
     ]
    },
    {
     "name": "stderr",
     "output_type": "stream",
     "text": [
      "100%|██████████| 213/213 [01:32<00:00,  2.31it/s]\n",
      "100%|██████████| 34/34 [00:39<00:00,  1.16s/it]\n",
      "100%|██████████| 33/33 [00:10<00:00,  3.18it/s]\n",
      "100%|██████████| 17/17 [00:10<00:00,  1.68it/s]\n",
      "100%|██████████| 38/38 [00:10<00:00,  3.47it/s]\n",
      "100%|██████████| 24/24 [00:10<00:00,  2.27it/s]\n"
     ]
    },
    {
     "name": "stdout",
     "output_type": "stream",
     "text": [
      "50 features, 10x\n",
      "{'wmdp-bio': 0.329143762588501, 'high_school_us_history': 0.6225490570068359, 'high_school_geography': 0.6010100841522217, 'college_computer_science': 0.3400000035762787, 'human_aging': 0.40807175636291504, 'college_biology': 0.347222238779068}\n"
     ]
    },
    {
     "name": "stderr",
     "output_type": "stream",
     "text": [
      "100%|██████████| 213/213 [01:32<00:00,  2.30it/s]\n",
      "100%|██████████| 34/34 [00:39<00:00,  1.17s/it]\n",
      "100%|██████████| 33/33 [00:10<00:00,  3.18it/s]\n",
      "100%|██████████| 17/17 [00:10<00:00,  1.68it/s]\n",
      "100%|██████████| 38/38 [00:11<00:00,  3.45it/s]\n",
      "100%|██████████| 24/24 [00:10<00:00,  2.26it/s]\n"
     ]
    },
    {
     "name": "stdout",
     "output_type": "stream",
     "text": [
      "50 features, 20x\n",
      "{'wmdp-bio': 0.2584446370601654, 'high_school_us_history': 0.25, 'high_school_geography': 0.18686868250370026, 'college_computer_science': 0.23999999463558197, 'human_aging': 0.3139013648033142, 'college_biology': 0.25}\n"
     ]
    },
    {
     "name": "stderr",
     "output_type": "stream",
     "text": [
      "100%|██████████| 213/213 [01:33<00:00,  2.28it/s]\n",
      "100%|██████████| 34/34 [00:40<00:00,  1.18s/it]\n",
      "100%|██████████| 33/33 [00:10<00:00,  3.15it/s]\n",
      "100%|██████████| 17/17 [00:10<00:00,  1.66it/s]\n",
      "100%|██████████| 38/38 [00:11<00:00,  3.42it/s]\n",
      "100%|██████████| 24/24 [00:10<00:00,  2.24it/s]\n"
     ]
    },
    {
     "name": "stdout",
     "output_type": "stream",
     "text": [
      "50 features, 50x\n",
      "{'wmdp-bio': 0.2639434337615967, 'high_school_us_history': 0.2598039209842682, 'high_school_geography': 0.2626262605190277, 'college_computer_science': 0.2800000011920929, 'human_aging': 0.2331838607788086, 'college_biology': 0.2291666716337204}\n"
     ]
    },
    {
     "name": "stderr",
     "output_type": "stream",
     "text": [
      "100%|██████████| 213/213 [01:33<00:00,  2.28it/s]\n",
      "100%|██████████| 34/34 [00:40<00:00,  1.18s/it]\n",
      "100%|██████████| 33/33 [00:10<00:00,  3.15it/s]\n",
      "100%|██████████| 17/17 [00:10<00:00,  1.66it/s]\n",
      "100%|██████████| 38/38 [00:11<00:00,  3.43it/s]\n",
      "100%|██████████| 24/24 [00:10<00:00,  2.24it/s]\n"
     ]
    },
    {
     "name": "stdout",
     "output_type": "stream",
     "text": [
      "50 features, 100x\n",
      "{'wmdp-bio': 0.24351924657821655, 'high_school_us_history': 0.2598039209842682, 'high_school_geography': 0.27272728085517883, 'college_computer_science': 0.29999998211860657, 'human_aging': 0.20179373025894165, 'college_biology': 0.2916666567325592}\n"
     ]
    },
    {
     "name": "stderr",
     "output_type": "stream",
     "text": [
      "100%|██████████| 213/213 [01:32<00:00,  2.31it/s]\n",
      "100%|██████████| 34/34 [00:39<00:00,  1.16s/it]\n",
      "100%|██████████| 33/33 [00:10<00:00,  3.19it/s]\n",
      "100%|██████████| 17/17 [00:10<00:00,  1.69it/s]\n",
      "100%|██████████| 38/38 [00:10<00:00,  3.47it/s]\n",
      "100%|██████████| 24/24 [00:10<00:00,  2.27it/s]\n"
     ]
    },
    {
     "name": "stdout",
     "output_type": "stream",
     "text": [
      "100 features, 1x\n",
      "{'wmdp-bio': 0.5671641826629639, 'high_school_us_history': 0.7401961088180542, 'high_school_geography': 0.752525269985199, 'college_computer_science': 0.3999999761581421, 'human_aging': 0.6188341379165649, 'college_biology': 0.6666666865348816}\n"
     ]
    },
    {
     "name": "stderr",
     "output_type": "stream",
     "text": [
      "100%|██████████| 213/213 [01:32<00:00,  2.30it/s]\n",
      "100%|██████████| 34/34 [00:39<00:00,  1.17s/it]\n",
      "100%|██████████| 33/33 [00:10<00:00,  3.17it/s]\n",
      "100%|██████████| 17/17 [00:10<00:00,  1.68it/s]\n",
      "100%|██████████| 38/38 [00:11<00:00,  3.45it/s]\n",
      "100%|██████████| 24/24 [00:10<00:00,  2.27it/s]\n"
     ]
    },
    {
     "name": "stdout",
     "output_type": "stream",
     "text": [
      "100 features, 5x\n",
      "{'wmdp-bio': 0.38098978996276855, 'high_school_us_history': 0.5686274766921997, 'high_school_geography': 0.5959596037864685, 'college_computer_science': 0.35999998450279236, 'human_aging': 0.38565024733543396, 'college_biology': 0.4375}\n"
     ]
    },
    {
     "name": "stderr",
     "output_type": "stream",
     "text": [
      "100%|██████████| 213/213 [01:33<00:00,  2.28it/s]\n",
      "100%|██████████| 34/34 [00:39<00:00,  1.17s/it]\n",
      "100%|██████████| 33/33 [00:10<00:00,  3.17it/s]\n",
      "100%|██████████| 17/17 [00:10<00:00,  1.68it/s]\n",
      "100%|██████████| 38/38 [00:11<00:00,  3.45it/s]\n",
      "100%|██████████| 24/24 [00:10<00:00,  2.27it/s]\n"
     ]
    },
    {
     "name": "stdout",
     "output_type": "stream",
     "text": [
      "100 features, 10x\n",
      "{'wmdp-bio': 0.24823252856731415, 'high_school_us_history': 0.2549019753932953, 'high_school_geography': 0.2222222238779068, 'college_computer_science': 0.26999998092651367, 'human_aging': 0.3273542821407318, 'college_biology': 0.2569444477558136}\n"
     ]
    },
    {
     "name": "stderr",
     "output_type": "stream",
     "text": [
      "100%|██████████| 213/213 [01:33<00:00,  2.28it/s]\n",
      "100%|██████████| 34/34 [00:39<00:00,  1.18s/it]\n",
      "100%|██████████| 33/33 [00:10<00:00,  3.15it/s]\n",
      "100%|██████████| 17/17 [00:10<00:00,  1.66it/s]\n",
      "100%|██████████| 38/38 [00:11<00:00,  3.40it/s]\n",
      "100%|██████████| 24/24 [00:10<00:00,  2.25it/s]\n"
     ]
    },
    {
     "name": "stdout",
     "output_type": "stream",
     "text": [
      "100 features, 20x\n",
      "{'wmdp-bio': 0.23644933104515076, 'high_school_us_history': 0.27941176295280457, 'high_school_geography': 0.2222222238779068, 'college_computer_science': 0.25, 'human_aging': 0.30941706895828247, 'college_biology': 0.2916666567325592}\n"
     ]
    },
    {
     "name": "stderr",
     "output_type": "stream",
     "text": [
      "100%|██████████| 213/213 [01:33<00:00,  2.27it/s]\n",
      "100%|██████████| 34/34 [00:40<00:00,  1.18s/it]\n",
      "100%|██████████| 33/33 [00:10<00:00,  3.15it/s]\n",
      "100%|██████████| 17/17 [00:10<00:00,  1.66it/s]\n",
      "100%|██████████| 38/38 [00:11<00:00,  3.42it/s]\n",
      "100%|██████████| 24/24 [00:10<00:00,  2.25it/s]\n"
     ]
    },
    {
     "name": "stdout",
     "output_type": "stream",
     "text": [
      "100 features, 50x\n",
      "{'wmdp-bio': 0.2702278196811676, 'high_school_us_history': 0.2647058963775635, 'high_school_geography': 0.21717171370983124, 'college_computer_science': 0.25, 'human_aging': 0.286995530128479, 'college_biology': 0.2083333283662796}\n"
     ]
    },
    {
     "name": "stderr",
     "output_type": "stream",
     "text": [
      "100%|██████████| 213/213 [01:33<00:00,  2.28it/s]\n",
      "100%|██████████| 34/34 [00:40<00:00,  1.18s/it]\n",
      "100%|██████████| 33/33 [00:10<00:00,  3.14it/s]\n",
      "100%|██████████| 17/17 [00:10<00:00,  1.67it/s]\n",
      "100%|██████████| 38/38 [00:11<00:00,  3.43it/s]\n",
      "100%|██████████| 24/24 [00:10<00:00,  2.25it/s]"
     ]
    },
    {
     "name": "stdout",
     "output_type": "stream",
     "text": [
      "100 features, 100x\n",
      "{'wmdp-bio': 0.24666143953800201, 'high_school_us_history': 0.25, 'high_school_geography': 0.1818181872367859, 'college_computer_science': 0.25999999046325684, 'human_aging': 0.30941706895828247, 'college_biology': 0.2569444477558136}\n"
     ]
    },
    {
     "name": "stderr",
     "output_type": "stream",
     "text": [
      "\n"
     ]
    }
   ],
   "source": [
    "n_features = 20\n",
    "multiplier = 20\n",
    "datasets = ['wmdp-bio', 'high_school_us_history', 'high_school_geography', 'college_computer_science', 'human_aging', 'college_biology']\n",
    "\n",
    "all_results = []\n",
    "for n_features in [10, 20, 50, 100]:\n",
    "    for multiplier in [1, 5, 10, 20, 50, 100]:\n",
    "        result = run_interventions(model, saes, top_features_all_layers, n_features, multiplier, datasets)\n",
    "        all_results.append(result)\n"
   ]
  },
  {
   "cell_type": "code",
   "execution_count": 37,
   "metadata": {},
   "outputs": [
    {
     "data": {
      "text/plain": [
       "{'wmdp-bio': 0.6355066895484924,\n",
       " 'high_school_us_history': 0.7401961088180542,\n",
       " 'high_school_geography': 0.7575757503509521,\n",
       " 'college_computer_science': 0.44999998807907104,\n",
       " 'human_aging': 0.6322870254516602,\n",
       " 'college_biology': 0.7083333134651184}"
      ]
     },
     "execution_count": 37,
     "metadata": {},
     "output_type": "execute_result"
    }
   ],
   "source": [
    "baseline_results"
   ]
  },
  {
   "cell_type": "code",
   "execution_count": 35,
   "metadata": {},
   "outputs": [
    {
     "data": {
      "text/plain": [
       "{'wmdp-bio': 0.6245090365409851,\n",
       " 'high_school_us_history': 0.7450980544090271,\n",
       " 'high_school_geography': 0.752525269985199,\n",
       " 'college_computer_science': 0.44999998807907104,\n",
       " 'human_aging': 0.6233184337615967,\n",
       " 'college_biology': 0.6875}"
      ]
     },
     "execution_count": 35,
     "metadata": {},
     "output_type": "execute_result"
    }
   ],
   "source": [
    "results # 20 features each layer, zero ablate"
   ]
  },
  {
   "cell_type": "code",
   "execution_count": 39,
   "metadata": {},
   "outputs": [
    {
     "data": {
      "text/plain": [
       "{'wmdp-bio': 0.628436803817749,\n",
       " 'high_school_us_history': 0.7352941632270813,\n",
       " 'high_school_geography': 0.7575757503509521,\n",
       " 'college_computer_science': 0.4399999976158142,\n",
       " 'human_aging': 0.6367713212966919,\n",
       " 'college_biology': 0.7013888955116272}"
      ]
     },
     "execution_count": 39,
     "metadata": {},
     "output_type": "execute_result"
    }
   ],
   "source": [
    "zero_ablate_results # zero ablate 40 features"
   ]
  },
  {
   "cell_type": "code",
   "execution_count": 43,
   "metadata": {},
   "outputs": [
    {
     "data": {
      "text/plain": [
       "{'wmdp-bio': 0.6111547350883484,\n",
       " 'high_school_us_history': 0.7401961088180542,\n",
       " 'high_school_geography': 0.6616161465644836,\n",
       " 'college_computer_science': 0.3999999761581421,\n",
       " 'human_aging': 0.573991060256958,\n",
       " 'college_biology': 0.6527777910232544}"
      ]
     },
     "execution_count": 43,
     "metadata": {},
     "output_type": "execute_result"
    }
   ],
   "source": [
    "zero_ablate_results_1000 # zero ablate 1000 features"
   ]
  },
  {
   "cell_type": "code",
   "execution_count": 45,
   "metadata": {},
   "outputs": [
    {
     "data": {
      "text/plain": [
       "{'wmdp-bio': 0.2820110023021698,\n",
       " 'high_school_us_history': 0.30882352590560913,\n",
       " 'high_school_geography': 0.2626262605190277,\n",
       " 'college_computer_science': 0.25,\n",
       " 'human_aging': 0.31838566064834595,\n",
       " 'college_biology': 0.2708333432674408}"
      ]
     },
     "execution_count": 45,
     "metadata": {},
     "output_type": "execute_result"
    }
   ],
   "source": [
    "zero_ablate_results_5000 # zero ablate 1000 features"
   ]
  },
  {
   "cell_type": "code",
   "execution_count": 33,
   "metadata": {},
   "outputs": [
    {
     "data": {
      "text/plain": [
       "{'wmdp-bio': 0.3244304955005646,\n",
       " 'high_school_us_history': 0.7352941632270813,\n",
       " 'high_school_geography': 0.7272727489471436,\n",
       " 'college_computer_science': 0.41999998688697815,\n",
       " 'human_aging': 0.5291479825973511,\n",
       " 'college_biology': 0.4513888955116272}"
      ]
     },
     "execution_count": 33,
     "metadata": {},
     "output_type": "execute_result"
    }
   ],
   "source": [
    "results # 20 features each layer, multiplier 20"
   ]
  },
  {
   "cell_type": "code",
   "execution_count": 18,
   "metadata": {},
   "outputs": [
    {
     "data": {
      "application/vnd.jupyter.widget-view+json": {
       "model_id": "9d0e1c7d6b7f414183a208f88671b682",
       "version_major": 2,
       "version_minor": 0
      },
      "text/plain": [
       "Downloading readme:   0%|          | 0.00/4.64k [00:00<?, ?B/s]"
      ]
     },
     "metadata": {},
     "output_type": "display_data"
    },
    {
     "data": {
      "application/vnd.jupyter.widget-view+json": {
       "model_id": "39f332d054c7491fb943963737913069",
       "version_major": 2,
       "version_minor": 0
      },
      "text/plain": [
       "Downloading data:   0%|          | 0.00/258k [00:00<?, ?B/s]"
      ]
     },
     "metadata": {},
     "output_type": "display_data"
    },
    {
     "data": {
      "application/vnd.jupyter.widget-view+json": {
       "model_id": "0753a1640f7d496ab27e40331ebbffd2",
       "version_major": 2,
       "version_minor": 0
      },
      "text/plain": [
       "Generating test split:   0%|          | 0/1273 [00:00<?, ? examples/s]"
      ]
     },
     "metadata": {},
     "output_type": "display_data"
    },
    {
     "name": "stderr",
     "output_type": "stream",
     "text": [
      "100%|██████████| 213/213 [00:26<00:00,  7.93it/s]\n"
     ]
    },
    {
     "data": {
      "application/vnd.jupyter.widget-view+json": {
       "model_id": "4009196b171743728549bcd6de8c4570",
       "version_major": 2,
       "version_minor": 0
      },
      "text/plain": [
       "Downloading readme:   0%|          | 0.00/53.2k [00:00<?, ?B/s]"
      ]
     },
     "metadata": {},
     "output_type": "display_data"
    },
    {
     "data": {
      "application/vnd.jupyter.widget-view+json": {
       "model_id": "a67521fd4b504538af88d0f6a6f497da",
       "version_major": 2,
       "version_minor": 0
      },
      "text/plain": [
       "Downloading metadata:   0%|          | 0.00/138k [00:00<?, ?B/s]"
      ]
     },
     "metadata": {},
     "output_type": "display_data"
    },
    {
     "data": {
      "application/vnd.jupyter.widget-view+json": {
       "model_id": "8f511c1fb9ec445cabd3908839811001",
       "version_major": 2,
       "version_minor": 0
      },
      "text/plain": [
       "Downloading data:   0%|          | 0.00/155k [00:00<?, ?B/s]"
      ]
     },
     "metadata": {},
     "output_type": "display_data"
    },
    {
     "data": {
      "application/vnd.jupyter.widget-view+json": {
       "model_id": "b7f096730b3c416abfe4a03a702e87dd",
       "version_major": 2,
       "version_minor": 0
      },
      "text/plain": [
       "Downloading data:   0%|          | 0.00/27.3k [00:00<?, ?B/s]"
      ]
     },
     "metadata": {},
     "output_type": "display_data"
    },
    {
     "data": {
      "application/vnd.jupyter.widget-view+json": {
       "model_id": "e9959f1132384804aec47ff2752a31f9",
       "version_major": 2,
       "version_minor": 0
      },
      "text/plain": [
       "Downloading data:   0%|          | 0.00/17.8k [00:00<?, ?B/s]"
      ]
     },
     "metadata": {},
     "output_type": "display_data"
    },
    {
     "data": {
      "application/vnd.jupyter.widget-view+json": {
       "model_id": "d3fcec09a5d14de2981da98bd816a346",
       "version_major": 2,
       "version_minor": 0
      },
      "text/plain": [
       "Generating test split:   0%|          | 0/204 [00:00<?, ? examples/s]"
      ]
     },
     "metadata": {},
     "output_type": "display_data"
    },
    {
     "data": {
      "application/vnd.jupyter.widget-view+json": {
       "model_id": "698aa0e8b9da4da9b7b52d8e591a96ad",
       "version_major": 2,
       "version_minor": 0
      },
      "text/plain": [
       "Generating validation split:   0%|          | 0/22 [00:00<?, ? examples/s]"
      ]
     },
     "metadata": {},
     "output_type": "display_data"
    },
    {
     "data": {
      "application/vnd.jupyter.widget-view+json": {
       "model_id": "888cce5c12964323ae605cd27f79e111",
       "version_major": 2,
       "version_minor": 0
      },
      "text/plain": [
       "Generating dev split:   0%|          | 0/5 [00:00<?, ? examples/s]"
      ]
     },
     "metadata": {},
     "output_type": "display_data"
    },
    {
     "name": "stderr",
     "output_type": "stream",
     "text": [
      "100%|██████████| 34/34 [00:10<00:00,  3.20it/s]\n"
     ]
    },
    {
     "data": {
      "application/vnd.jupyter.widget-view+json": {
       "model_id": "32db95d6723948449c6f43ffc1a7866d",
       "version_major": 2,
       "version_minor": 0
      },
      "text/plain": [
       "Downloading data:   0%|          | 0.00/31.2k [00:00<?, ?B/s]"
      ]
     },
     "metadata": {},
     "output_type": "display_data"
    },
    {
     "data": {
      "application/vnd.jupyter.widget-view+json": {
       "model_id": "aee47cf4ad424efdbe5bae8b347ac225",
       "version_major": 2,
       "version_minor": 0
      },
      "text/plain": [
       "Downloading data:   0%|          | 0.00/6.28k [00:00<?, ?B/s]"
      ]
     },
     "metadata": {},
     "output_type": "display_data"
    },
    {
     "data": {
      "application/vnd.jupyter.widget-view+json": {
       "model_id": "2e423ff11cdc4fa9ab888583714d3325",
       "version_major": 2,
       "version_minor": 0
      },
      "text/plain": [
       "Downloading data:   0%|          | 0.00/3.67k [00:00<?, ?B/s]"
      ]
     },
     "metadata": {},
     "output_type": "display_data"
    },
    {
     "data": {
      "application/vnd.jupyter.widget-view+json": {
       "model_id": "a925da12ffe34d55ba87bcd86f8f5c16",
       "version_major": 2,
       "version_minor": 0
      },
      "text/plain": [
       "Generating test split:   0%|          | 0/223 [00:00<?, ? examples/s]"
      ]
     },
     "metadata": {},
     "output_type": "display_data"
    },
    {
     "data": {
      "application/vnd.jupyter.widget-view+json": {
       "model_id": "0734d722633b4bd5a3f103a5c60457d4",
       "version_major": 2,
       "version_minor": 0
      },
      "text/plain": [
       "Generating validation split:   0%|          | 0/23 [00:00<?, ? examples/s]"
      ]
     },
     "metadata": {},
     "output_type": "display_data"
    },
    {
     "data": {
      "application/vnd.jupyter.widget-view+json": {
       "model_id": "7ff019bc80fc41f2bd431e321b953607",
       "version_major": 2,
       "version_minor": 0
      },
      "text/plain": [
       "Generating dev split:   0%|          | 0/5 [00:00<?, ? examples/s]"
      ]
     },
     "metadata": {},
     "output_type": "display_data"
    },
    {
     "name": "stderr",
     "output_type": "stream",
     "text": [
      "100%|██████████| 38/38 [00:03<00:00, 10.18it/s]\n"
     ]
    },
    {
     "data": {
      "application/vnd.jupyter.widget-view+json": {
       "model_id": "22aa5412d9d2453ab80f8956d1b2c2f7",
       "version_major": 2,
       "version_minor": 0
      },
      "text/plain": [
       "Downloading data:   0%|          | 0.00/31.8k [00:00<?, ?B/s]"
      ]
     },
     "metadata": {},
     "output_type": "display_data"
    },
    {
     "data": {
      "application/vnd.jupyter.widget-view+json": {
       "model_id": "10889115aa9d462bb7c33b957d234005",
       "version_major": 2,
       "version_minor": 0
      },
      "text/plain": [
       "Downloading data:   0%|          | 0.00/6.90k [00:00<?, ?B/s]"
      ]
     },
     "metadata": {},
     "output_type": "display_data"
    },
    {
     "data": {
      "application/vnd.jupyter.widget-view+json": {
       "model_id": "a260c9353e8a4dddabfadbdad6978721",
       "version_major": 2,
       "version_minor": 0
      },
      "text/plain": [
       "Downloading data:   0%|          | 0.00/4.27k [00:00<?, ?B/s]"
      ]
     },
     "metadata": {},
     "output_type": "display_data"
    },
    {
     "data": {
      "application/vnd.jupyter.widget-view+json": {
       "model_id": "29bdca321dc8498da1beab2170791712",
       "version_major": 2,
       "version_minor": 0
      },
      "text/plain": [
       "Generating test split:   0%|          | 0/144 [00:00<?, ? examples/s]"
      ]
     },
     "metadata": {},
     "output_type": "display_data"
    },
    {
     "data": {
      "application/vnd.jupyter.widget-view+json": {
       "model_id": "2a55f0717c764f4bbf94778338dce61f",
       "version_major": 2,
       "version_minor": 0
      },
      "text/plain": [
       "Generating validation split:   0%|          | 0/16 [00:00<?, ? examples/s]"
      ]
     },
     "metadata": {},
     "output_type": "display_data"
    },
    {
     "data": {
      "application/vnd.jupyter.widget-view+json": {
       "model_id": "c068f26e6d734433837836d16c0754f7",
       "version_major": 2,
       "version_minor": 0
      },
      "text/plain": [
       "Generating dev split:   0%|          | 0/5 [00:00<?, ? examples/s]"
      ]
     },
     "metadata": {},
     "output_type": "display_data"
    },
    {
     "name": "stderr",
     "output_type": "stream",
     "text": [
      "100%|██████████| 24/24 [00:03<00:00,  7.87it/s]"
     ]
    },
    {
     "name": "stdout",
     "output_type": "stream",
     "text": [
      "n_features: 20, multiplier: 20\n",
      "\t\twmdp-bio: 0.3244304955005646\n",
      "\t\thigh_school_us_history: 0.7352941632270813\n",
      "\t\thuman_aging: 0.5291479825973511\n",
      "\t\tcollege_bio: 0.4513888955116272\n"
     ]
    },
    {
     "name": "stderr",
     "output_type": "stream",
     "text": [
      "\n"
     ]
    }
   ],
   "source": [
    "\n",
    "\n",
    "# layer = 3\n",
    "# features_to_ablate = list(top_features[:80])\n",
    "# multiplier = 20\n",
    "\n",
    "n_features = 20\n",
    "multiplier = 20\n",
    "with scaling_intervention(model, 1, saes[1], top_features[1][:n_features], multiplier):\n",
    "    with scaling_intervention(model, 2, saes[2], top_features[2][:n_features], multiplier):\n",
    "        with scaling_intervention(model, 3, saes[3], top_features[3][:n_features], multiplier):\n",
    "\n",
    "            intervened_metrics = calculate_MCQ_metrics(model)\n",
    "            intervened_history_metrics = calculate_MCQ_metrics(model, dataset_name='high_school_us_history')\n",
    "            interved_human_aging_metrics = calculate_MCQ_metrics(model, dataset_name='human_aging')\n",
    "            intervened_college_bio_metrics = calculate_MCQ_metrics(model, dataset_name='college_biology')\n",
    "            \n",
    "            print(f\"n_features: {n_features}, multiplier: {multiplier}\")\n",
    "            print(f\"\\t\\twmdp-bio: {intervened_metrics['mean_correct']}\")\n",
    "            print(f\"\\t\\thigh_school_us_history: {intervened_history_metrics['mean_correct']}\")\n",
    "            print(f\"\\t\\thuman_aging: {interved_human_aging_metrics['mean_correct']}\")\n",
    "            print(f\"\\t\\tcollege_bio: {intervened_college_bio_metrics['mean_correct']}\")\n",
    "    "
   ]
  },
  {
   "cell_type": "code",
   "execution_count": 16,
   "metadata": {},
   "outputs": [
    {
     "data": {
      "text/plain": [
       "(8820,)"
      ]
     },
     "execution_count": 16,
     "metadata": {},
     "output_type": "execute_result"
    }
   ],
   "source": [
    "top_features[1].shape"
   ]
  }
 ],
 "metadata": {
  "kernelspec": {
   "display_name": ".venv",
   "language": "python",
   "name": "python3"
  },
  "language_info": {
   "codemirror_mode": {
    "name": "ipython",
    "version": 3
   },
   "file_extension": ".py",
   "mimetype": "text/x-python",
   "name": "python",
   "nbconvert_exporter": "python",
   "pygments_lexer": "ipython3",
   "version": "3.10.13"
  }
 },
 "nbformat": 4,
 "nbformat_minor": 2
}
