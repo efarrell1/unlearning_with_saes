{
 "cells": [
  {
   "cell_type": "code",
   "execution_count": 1,
   "metadata": {},
   "outputs": [],
   "source": [
    "%load_ext autoreload\n",
    "%autoreload 2\n",
    "import torch\n",
    "\n",
    "from sae.sparse_autoencoder import load_saved_sae\n",
    "from sae.metrics import model_store_from_sae\n",
    "from unlearning.metrics import convert_wmdp_data_to_prompt\n",
    "from unlearning.tool import UnlearningConfig, SAEUnlearningTool, MCQ_ActivationStoreAnalysis\n",
    "\n",
    "from huggingface_hub import hf_hub_download\n",
    "from datasets import load_dataset\n",
    "import numpy as np\n",
    "\n",
    "from jaxtyping import Float, Int\n",
    "from torch import Tensor\n",
    "\n",
    "import plotly.express as px\n",
    "\n",
    "from transformer_lens import HookedTransformer\n",
    "from dataclasses import dataclass\n",
    "import wandb\n",
    "import einops\n",
    "from tqdm import tqdm\n",
    "\n",
    "from functools import partial\n",
    "from unlearning.intervention import anthropic_remove_resid_SAE_features, remove_resid_SAE_features, anthropic_clamp_resid_SAE_features\n"
   ]
  },
  {
   "cell_type": "code",
   "execution_count": 2,
   "metadata": {},
   "outputs": [
    {
     "name": "stderr",
     "output_type": "stream",
     "text": [
      "`config.hidden_act` is ignored, you should use `config.hidden_activation` instead.\n",
      "Gemma's activation function will be set to `gelu_pytorch_tanh`. Please, use\n",
      "`config.hidden_activation` if you want to override this behaviour.\n",
      "See https://github.com/huggingface/transformers/pull/29402 for more details.\n"
     ]
    },
    {
     "data": {
      "application/vnd.jupyter.widget-view+json": {
       "model_id": "10fb3e44e3be45abad694829514d9497",
       "version_major": 2,
       "version_minor": 0
      },
      "text/plain": [
       "Loading checkpoint shards:   0%|          | 0/2 [00:00<?, ?it/s]"
      ]
     },
     "metadata": {},
     "output_type": "display_data"
    },
    {
     "name": "stderr",
     "output_type": "stream",
     "text": [
      "WARNING:root:You are not using LayerNorm, so the writing weights can't be centered! Skipping\n"
     ]
    },
    {
     "name": "stdout",
     "output_type": "stream",
     "text": [
      "Loaded pretrained model gemma-2b-it into HookedTransformer\n",
      "Moving model to device:  cuda\n"
     ]
    }
   ],
   "source": [
    "# resid pre 9\n",
    "REPO_ID = \"eoinf/unlearning_saes\"\n",
    "FILENAME = \"jolly-dream-40/sparse_autoencoder_gemma-2b-it_blocks.9.hook_resid_pre_s16384_127995904.pt\"\n",
    "\n",
    "\n",
    "filename = hf_hub_download(repo_id=REPO_ID, filename=FILENAME)\n",
    "sae = load_saved_sae(filename)\n",
    "\n",
    "model = model_store_from_sae(sae)"
   ]
  },
  {
   "cell_type": "code",
   "execution_count": 3,
   "metadata": {},
   "outputs": [],
   "source": [
    "def modify_model(model, **kwargs):\n",
    "\n",
    "    default_modification_kwargs = {\n",
    "        'multiplier': 1.0,\n",
    "        'intervention_method': 'scale_feature_activation',\n",
    "        'custom_hook_point': None,\n",
    "    }\n",
    "    \n",
    "    model.reset_hooks()\n",
    "    \n",
    "    # Calculate modified stats\n",
    "    if kwargs['intervention_method'] == \"scale_feature_activation\":\n",
    "        ablation_method = anthropic_remove_resid_SAE_features\n",
    "    elif kwargs['intervention_method'] == \"remove_from_residual_stream\":\n",
    "        ablation_method = remove_resid_SAE_features\n",
    "    elif kwargs['intervention_method'] == \"clamp_feature_activation\":\n",
    "        ablation_method = anthropic_clamp_resid_SAE_features\n",
    "        \n",
    "    ablate_hook_func = partial(\n",
    "        ablation_method, \n",
    "        sae=sae, \n",
    "        features_to_ablate=kwargs['features_to_ablate'],\n",
    "        multiplier=kwargs['multiplier']\n",
    "        )\n",
    "    \n",
    "    if 'custom_hook_point' not in kwargs or kwargs['custom_hook_point'] is None:\n",
    "        hook_point = sae.cfg.hook_point\n",
    "    else:\n",
    "        hook_point = kwargs['custom_hook_point']\n",
    "    \n",
    "    model.add_hook(hook_point, ablate_hook_func)"
   ]
  },
  {
   "cell_type": "code",
   "execution_count": 4,
   "metadata": {},
   "outputs": [],
   "source": [
    "# read 172 questions that the model can answer correctly in any permutation\n",
    "filename = '../data/wmdp-bio_gemma_2b_it_correct.csv'\n",
    "correct_question_ids = np.genfromtxt(filename)"
   ]
  },
  {
   "cell_type": "code",
   "execution_count": 5,
   "metadata": {},
   "outputs": [],
   "source": [
    "from unlearning.metrics import all_permutations\n",
    "\n",
    "dataset = load_dataset(\"cais/wmdp\", \"wmdp-bio\")\n",
    "\n",
    "train_prompts = [\n",
    "    convert_wmdp_data_to_prompt(dataset['test'][i]['question'], dataset['test'][i]['choices'], prompt_format=None, permute_choices=p)\n",
    "    for i in range(len(dataset['test'])) \n",
    "    for p in all_permutations\n",
    "    if i in correct_question_ids\n",
    "    \n",
    "]\n",
    "\n",
    "train_answers = [\n",
    "    p.index(dataset['test'][i]['answer'])\n",
    "    for i in range(len(dataset['test'])) \n",
    "    for p in all_permutations\n",
    "    if i in correct_question_ids\n",
    "]\n",
    "\n",
    "n_train = int(len(train_prompts) * 0.9)\n",
    "train_prompts, test_prompts = train_prompts[:n_train], train_prompts[n_train:]\n",
    "train_answers, test_answers = train_answers[:n_train], train_answers[n_train:]"
   ]
  },
  {
   "cell_type": "code",
   "execution_count": 6,
   "metadata": {},
   "outputs": [],
   "source": [
    "@dataclass\n",
    "class ProbeTrainingArgs():\n",
    "    layer: int = 12\n",
    "    options: int = 4\n",
    "    device: str = \"cuda\"\n",
    "    \n",
    "    # Standard training hyperparams\n",
    "    max_epochs: int = 16\n",
    "    \n",
    "    # Hyperparams for optimizer\n",
    "    batch_size: int = 4\n",
    "    lr: float = 1e-4\n",
    "    betas: tuple[float, float] = (0.9, 0.99)\n",
    "    wd: float = 0.01\n",
    "    \n",
    "    # Saving & logging\n",
    "    model_name: str = None\n",
    "    probe_name: str = \"main_linear_probe\"\n",
    "    wandb_project: str | None = 'wmdp-probe'\n",
    "    wandb_name: str | None = None\n",
    "    \n",
    "    # Code to get randomly initialized probe\n",
    "    def setup_linear_probe(self, model: HookedTransformer):\n",
    "        linear_probe = torch.randn(\n",
    "            model.cfg.d_model, self.options, requires_grad=False, device=self.device\n",
    "        ) / np.sqrt(model.cfg.d_model)\n",
    "        linear_probe.requires_grad = True\n",
    "        return linear_probe"
   ]
  },
  {
   "cell_type": "code",
   "execution_count": 26,
   "metadata": {},
   "outputs": [],
   "source": [
    "class LinearProbeTrainer:\n",
    "    def __init__(\n",
    "        self, \n",
    "        model: HookedTransformer, \n",
    "        args: ProbeTrainingArgs, \n",
    "        train_prompts: list[str], \n",
    "        train_answers: list[int], \n",
    "        test_prompts: list[str], \n",
    "        test_answers: list[int]\n",
    "    ):\n",
    "        self.model = model\n",
    "        self.args = args\n",
    "        self.linear_probe = args.setup_linear_probe(model)\n",
    "        self.train_prompts = train_prompts\n",
    "        self.train_answers = train_answers\n",
    "        self.test_prompts = test_prompts\n",
    "        self.test_answers = test_answers\n",
    "        self.early_stopping = False\n",
    "        self.accuracy_history = []\n",
    "        self.step = 0\n",
    "        self.train_resid = None\n",
    "        self.test_resid = None\n",
    "\n",
    "    def shuffle(self):        \n",
    "        # shuffle train_resid and train_answers\n",
    "        assert self.train_resid is not None\n",
    "        perm = torch.randperm(self.train_resid.size(0))\n",
    "        self.train_resid = self.train_resid[perm]\n",
    "        self.train_answers = [self.train_answers[i] for i in perm]\n",
    "        \n",
    "    def check_early_stopping(self, accuracy: float):\n",
    "        self.accuracy_history.append(accuracy)\n",
    "        if len(self.accuracy_history) > 10 and all([x == 1.0 for x in self.accuracy_history[-10:]]):\n",
    "            self.early_stopping = True\n",
    "        return self.early_stopping\n",
    "           \n",
    "    def test(self):\n",
    "        if self.test_resid is None:\n",
    "            self.test_resid = self.cache_all_resid(self.test_prompts)\n",
    "        with torch.no_grad():\n",
    "            resid_post = self.test_resid\n",
    "            probe_out = einops.einsum(\n",
    "                resid_post,\n",
    "                self.linear_probe,\n",
    "                \"batch d_model, d_model options -> batch options\",\n",
    "            )\n",
    "            probe_log_probs = probe_out.log_softmax(-1)\n",
    "            probe_correct_log_probs = probe_log_probs[torch.arange(len(self.test_prompts)), torch.tensor(self.test_answers).to(self.args.device)]\n",
    "            loss = -probe_correct_log_probs.mean()\n",
    "            accuracy = (probe_log_probs.argmax(dim=-1) == torch.tensor(self.test_answers).to(self.args.device)).float().mean()\n",
    "\n",
    "        return loss.item(), accuracy.item()\n",
    "      \n",
    "    def cache_all_resid(self, prompts: list[str]):\n",
    "        resids = []\n",
    "        \n",
    "        for i in tqdm(range(0, len(prompts), self.args.batch_size)):\n",
    "            prompt_batch = prompts[i: i + self.args.batch_size]\n",
    "            current_batch_size = len(prompt_batch)\n",
    "            token_batch = self.model.to_tokens(prompt_batch, padding_side=\"right\").to(\"cuda\")\n",
    "            \n",
    "            token_lens = [len(self.model.to_tokens(x)[0]) for x in prompt_batch]\n",
    "            next_token_indices = torch.tensor([x - 1 for x in token_lens]).to(\"cuda\")\n",
    "\n",
    "            with torch.inference_mode():\n",
    "                _, cache = self.model.run_with_cache(\n",
    "                    token_batch.to(self.args.device),\n",
    "                    return_type=None,\n",
    "                    names_filter=lambda name: name.endswith(\"resid_post\")\n",
    "                )\n",
    "                resid_post: Float[Tensor, \"batch d_model\"] = cache[\"resid_post\", self.args.layer][torch.arange(current_batch_size), next_token_indices]\n",
    "            resids.append(resid_post.clone())\n",
    "                \n",
    "        return torch.cat(resids, dim=0)\n",
    "                \n",
    "        \n",
    "\n",
    "    def train(self):\n",
    "\n",
    "        wandb.init(project=self.args.wandb_project, name=self.args.wandb_name, config=self.args)\n",
    "\n",
    "        optimizer = torch.optim.AdamW([self.linear_probe], lr=self.args.lr, betas=self.args.betas, weight_decay=self.args.wd)\n",
    "        \n",
    "        self.train_resid = self.cache_all_resid(self.train_prompts)\n",
    "        self.test_resid = self.cache_all_resid(self.test_prompts)\n",
    "        \n",
    "        for epoch in range(self.args.max_epochs):\n",
    "            self.shuffle()\n",
    "            \n",
    "            for i in tqdm(range(0, len(self.train_prompts), self.args.batch_size)):\n",
    "                \n",
    "                resid_post = self.train_resid[i: i + self.args.batch_size]\n",
    "                answers_batch = self.train_answers[i: i + self.args.batch_size]\n",
    "                current_batch_size = resid_post.shape[0]\n",
    "\n",
    "                probe_out = einops.einsum(\n",
    "                    resid_post,\n",
    "                    self.linear_probe,\n",
    "                    \"batch d_model, d_model options -> batch options\",\n",
    "                )\n",
    "                \n",
    "                probe_log_probs = probe_out.log_softmax(-1)\n",
    "                probe_correct_log_probs = probe_log_probs[torch.arange(current_batch_size), answers_batch]\n",
    "                loss = -probe_correct_log_probs.mean()\n",
    "                accuracy = (probe_log_probs.argmax(dim=-1) == torch.tensor(answers_batch).to(\"cuda\")).to(float).mean()\n",
    "\n",
    "                \n",
    "                loss.backward()\n",
    "                optimizer.step()\n",
    "                optimizer.zero_grad()\n",
    "                \n",
    "                # log to wandb\n",
    "                wandb.log({\n",
    "                    \"train_loss\": loss.item(),\n",
    "                    \"train_accuracy\": accuracy.item(),\n",
    "                }, step=self.step)\n",
    "                self.step += 1\n",
    "                \n",
    "                # if self.check_early_stopping(accuracy.item()):\n",
    "                #     break\n",
    "                \n",
    "            test_loss, test_accuracy = self.test()\n",
    "            wandb.log({\n",
    "                \"test_loss\": test_loss,\n",
    "                \"test_accuracy\": test_accuracy,\n",
    "            }, step=self.step)\n",
    "            # if self.early_stopping:\n",
    "            #     break\n",
    "                \n",
    "        wandb.finish()\n",
    "        \n",
    "    def save_linear_probe(self, path: str = \"./linear_probes\"):\n",
    "        torch.save(self.linear_probe, f'{path}/{self.args.model_name}_Layer{self.args.layer}.pt')\n",
    "        \n",
    "        \n",
    "    def load_linear_probe(self, path: str = \"./linear_probes\"):\n",
    "        self.linear_probe = torch.load(f'{path}/{self.args.model_name}_Layer{self.args.layer}.pt')\n",
    "        \n",
    "    def calc_overall_accuracy(self):\n",
    "        if (self.train_resid is None) or (self.test_resid is None):\n",
    "            self.train_resid = self.cache_all_resid(self.train_prompts)\n",
    "            self.test_resid = self.cache_all_resid(self.test_prompts)\n",
    "            \n",
    "        with torch.no_grad():\n",
    "            # concat them\n",
    "            all_resid = torch.cat([self.train_resid, self.test_resid], dim=0)\n",
    "            all_answers = self.train_answers + self.test_answers\n",
    "            all_answers = torch.tensor(all_answers).to(\"cuda\")\n",
    "            \n",
    "            probe_out = einops.einsum(\n",
    "                all_resid,\n",
    "                self.linear_probe,\n",
    "                \"batch d_model, d_model options -> batch options\",\n",
    "            )\n",
    "            # print(probe_out.shape)\n",
    "            probe_log_probs = probe_out.log_softmax(-1)\n",
    "            accuracy = (probe_log_probs.argmax(dim=-1) == all_answers).float().mean()\n",
    "            # print(accuracy)\n",
    "        \n",
    "        return accuracy.item()\n",
    "    \n",
    "    def calc_test_accuracy(self):\n",
    "        _, accuracy = self.test()\n",
    "        return accuracy\n",
    "    \n",
    "    def save_accuracy_to_file(self, path: str = \"./linear_probes_results\"):\n",
    "        with open(f\"{path}/{self.args.model_name}_Layer{self.args.layer}.txt\", \"w\") as f:\n",
    "            f.write(str(self.calc_overall_accuracy()))\n",
    "            \n",
    "    def save_test_accuracy_to_file(self, path: str = \"./linear_probes_test_results\"):\n",
    "        with open(f\"{path}/{self.args.model_name}_Layer{self.args.layer}_test.txt\", \"w\") as f:\n",
    "            f.write(str(self.calc_test_accuracy()))\n"
   ]
  },
  {
   "cell_type": "code",
   "execution_count": 23,
   "metadata": {},
   "outputs": [
    {
     "data": {
      "text/html": [
       "wandb version 0.17.4 is available!  To upgrade, please run:\n",
       " $ pip install wandb --upgrade"
      ],
      "text/plain": [
       "<IPython.core.display.HTML object>"
      ]
     },
     "metadata": {},
     "output_type": "display_data"
    },
    {
     "data": {
      "text/html": [
       "Tracking run with wandb version 0.16.1"
      ],
      "text/plain": [
       "<IPython.core.display.HTML object>"
      ]
     },
     "metadata": {},
     "output_type": "display_data"
    },
    {
     "data": {
      "text/html": [
       "Run data is saved locally in <code>/root/unlearning/yeutong_notebooks/wandb/run-20240718_204602-l8em6k5b</code>"
      ],
      "text/plain": [
       "<IPython.core.display.HTML object>"
      ]
     },
     "metadata": {},
     "output_type": "display_data"
    },
    {
     "data": {
      "text/html": [
       "Syncing run <strong><a href='https://wandb.ai/yeutong/wmdp-probe/runs/l8em6k5b' target=\"_blank\">scarlet-lion-99</a></strong> to <a href='https://wandb.ai/yeutong/wmdp-probe' target=\"_blank\">Weights & Biases</a> (<a href='https://wandb.me/run' target=\"_blank\">docs</a>)<br/>"
      ],
      "text/plain": [
       "<IPython.core.display.HTML object>"
      ]
     },
     "metadata": {},
     "output_type": "display_data"
    },
    {
     "data": {
      "text/html": [
       " View project at <a href='https://wandb.ai/yeutong/wmdp-probe' target=\"_blank\">https://wandb.ai/yeutong/wmdp-probe</a>"
      ],
      "text/plain": [
       "<IPython.core.display.HTML object>"
      ]
     },
     "metadata": {},
     "output_type": "display_data"
    },
    {
     "data": {
      "text/html": [
       " View run at <a href='https://wandb.ai/yeutong/wmdp-probe/runs/l8em6k5b' target=\"_blank\">https://wandb.ai/yeutong/wmdp-probe/runs/l8em6k5b</a>"
      ],
      "text/plain": [
       "<IPython.core.display.HTML object>"
      ]
     },
     "metadata": {},
     "output_type": "display_data"
    },
    {
     "name": "stderr",
     "output_type": "stream",
     "text": [
      "100%|██████████| 117/117 [01:34<00:00,  1.23it/s]\n",
      "100%|██████████| 13/13 [00:10<00:00,  1.21it/s]\n",
      "100%|██████████| 117/117 [00:00<00:00, 490.89it/s]\n",
      "100%|██████████| 117/117 [00:00<00:00, 513.93it/s]\n",
      "100%|██████████| 117/117 [00:00<00:00, 502.99it/s]\n",
      "100%|██████████| 117/117 [00:00<00:00, 490.52it/s]\n",
      "100%|██████████| 117/117 [00:00<00:00, 640.98it/s]\n",
      "100%|██████████| 117/117 [00:00<00:00, 820.83it/s]\n",
      "100%|██████████| 117/117 [00:00<00:00, 849.16it/s]\n",
      "100%|██████████| 117/117 [00:00<00:00, 873.13it/s]\n",
      "100%|██████████| 117/117 [00:00<00:00, 559.17it/s]\n",
      "100%|██████████| 117/117 [00:00<00:00, 528.99it/s]\n",
      "100%|██████████| 117/117 [00:00<00:00, 612.42it/s]\n",
      "100%|██████████| 117/117 [00:00<00:00, 499.10it/s]\n",
      "100%|██████████| 117/117 [00:00<00:00, 495.45it/s]\n",
      "100%|██████████| 117/117 [00:00<00:00, 505.06it/s]\n",
      "100%|██████████| 117/117 [00:00<00:00, 499.38it/s]\n",
      "100%|██████████| 117/117 [00:00<00:00, 541.25it/s]\n",
      "wandb: WARNING Source type is set to 'repo' but some required information is missing from the environment. A job will not be created from this run. See https://docs.wandb.ai/guides/launch/create-job\n"
     ]
    },
    {
     "data": {
      "application/vnd.jupyter.widget-view+json": {
       "model_id": "44a883ca9ea74591b0f66afe34569dc0",
       "version_major": 2,
       "version_minor": 0
      },
      "text/plain": [
       "VBox(children=(Label(value='0.026 MB of 0.026 MB uploaded\\r'), FloatProgress(value=1.0, max=1.0)))"
      ]
     },
     "metadata": {},
     "output_type": "display_data"
    },
    {
     "data": {
      "text/html": [
       "<style>\n",
       "    table.wandb td:nth-child(1) { padding: 0 10px; text-align: left ; width: auto;} td:nth-child(2) {text-align: left ; width: 100%}\n",
       "    .wandb-row { display: flex; flex-direction: row; flex-wrap: wrap; justify-content: flex-start; width: 100% }\n",
       "    .wandb-col { display: flex; flex-direction: column; flex-basis: 100%; flex: 1; padding: 10px; }\n",
       "    </style>\n",
       "<div class=\"wandb-row\"><div class=\"wandb-col\"><h3>Run history:</h3><br/><table class=\"wandb\"><tr><td>test_accuracy</td><td>▁▂▄▁▃▆▁▄▄▅▄▅▆▄██</td></tr><tr><td>test_loss</td><td>▆▅▄█▃▃▆▄▅▂▂▂▂▂▁▂</td></tr><tr><td>train_accuracy</td><td>▂▃▅▆▄▄▄▄▄▂▄▃▅▅▇▄█▁▅▅▃▃▃▅▄▄▃▃▄▃▆▅▆▃▄▃▄▄▆▅</td></tr><tr><td>train_loss</td><td>▆█▅▃▅▅▄▄▅▅▅▆▅▅▃▄▁▇▄▄▆▆▆▅▄▄▆▅▅▆▃▄▃▅▅▅▅▃▃▇</td></tr></table><br/></div><div class=\"wandb-col\"><h3>Run summary:</h3><br/><table class=\"wandb\"><tr><td>test_accuracy</td><td>0.32688</td></tr><tr><td>test_loss</td><td>1.37224</td></tr><tr><td>train_accuracy</td><td>0.33333</td></tr><tr><td>train_loss</td><td>1.41962</td></tr></table><br/></div></div>"
      ],
      "text/plain": [
       "<IPython.core.display.HTML object>"
      ]
     },
     "metadata": {},
     "output_type": "display_data"
    },
    {
     "data": {
      "text/html": [
       " View run <strong style=\"color:#cdcd00\">scarlet-lion-99</strong> at: <a href='https://wandb.ai/yeutong/wmdp-probe/runs/l8em6k5b' target=\"_blank\">https://wandb.ai/yeutong/wmdp-probe/runs/l8em6k5b</a><br/>Synced 5 W&B file(s), 0 media file(s), 0 artifact file(s) and 0 other file(s)"
      ],
      "text/plain": [
       "<IPython.core.display.HTML object>"
      ]
     },
     "metadata": {},
     "output_type": "display_data"
    },
    {
     "data": {
      "text/html": [
       "Find logs at: <code>./wandb/run-20240718_204602-l8em6k5b/logs</code>"
      ],
      "text/plain": [
       "<IPython.core.display.HTML object>"
      ]
     },
     "metadata": {},
     "output_type": "display_data"
    },
    {
     "data": {
      "application/vnd.jupyter.widget-view+json": {
       "model_id": "a161ca1b4c6e407b94c2a3a7854fee10",
       "version_major": 2,
       "version_minor": 0
      },
      "text/plain": [
       "VBox(children=(Label(value='Waiting for wandb.init()...\\r'), FloatProgress(value=0.011113714302579562, max=1.0…"
      ]
     },
     "metadata": {},
     "output_type": "display_data"
    },
    {
     "data": {
      "text/html": [
       "wandb version 0.17.4 is available!  To upgrade, please run:\n",
       " $ pip install wandb --upgrade"
      ],
      "text/plain": [
       "<IPython.core.display.HTML object>"
      ]
     },
     "metadata": {},
     "output_type": "display_data"
    },
    {
     "data": {
      "text/html": [
       "Tracking run with wandb version 0.16.1"
      ],
      "text/plain": [
       "<IPython.core.display.HTML object>"
      ]
     },
     "metadata": {},
     "output_type": "display_data"
    },
    {
     "data": {
      "text/html": [
       "Run data is saved locally in <code>/root/unlearning/yeutong_notebooks/wandb/run-20240718_204756-rj7o85ni</code>"
      ],
      "text/plain": [
       "<IPython.core.display.HTML object>"
      ]
     },
     "metadata": {},
     "output_type": "display_data"
    },
    {
     "data": {
      "text/html": [
       "Syncing run <strong><a href='https://wandb.ai/yeutong/wmdp-probe/runs/rj7o85ni' target=\"_blank\">avid-energy-100</a></strong> to <a href='https://wandb.ai/yeutong/wmdp-probe' target=\"_blank\">Weights & Biases</a> (<a href='https://wandb.me/run' target=\"_blank\">docs</a>)<br/>"
      ],
      "text/plain": [
       "<IPython.core.display.HTML object>"
      ]
     },
     "metadata": {},
     "output_type": "display_data"
    },
    {
     "data": {
      "text/html": [
       " View project at <a href='https://wandb.ai/yeutong/wmdp-probe' target=\"_blank\">https://wandb.ai/yeutong/wmdp-probe</a>"
      ],
      "text/plain": [
       "<IPython.core.display.HTML object>"
      ]
     },
     "metadata": {},
     "output_type": "display_data"
    },
    {
     "data": {
      "text/html": [
       " View run at <a href='https://wandb.ai/yeutong/wmdp-probe/runs/rj7o85ni' target=\"_blank\">https://wandb.ai/yeutong/wmdp-probe/runs/rj7o85ni</a>"
      ],
      "text/plain": [
       "<IPython.core.display.HTML object>"
      ]
     },
     "metadata": {},
     "output_type": "display_data"
    },
    {
     "name": "stderr",
     "output_type": "stream",
     "text": [
      "100%|██████████| 117/117 [01:37<00:00,  1.21it/s]\n",
      "100%|██████████| 13/13 [00:10<00:00,  1.20it/s]\n",
      "100%|██████████| 117/117 [00:00<00:00, 605.17it/s]\n",
      "100%|██████████| 117/117 [00:00<00:00, 884.22it/s]\n",
      "100%|██████████| 117/117 [00:00<00:00, 678.84it/s]\n",
      "100%|██████████| 117/117 [00:00<00:00, 515.08it/s]\n",
      "100%|██████████| 117/117 [00:00<00:00, 503.17it/s]\n",
      "100%|██████████| 117/117 [00:00<00:00, 530.32it/s]\n",
      "100%|██████████| 117/117 [00:00<00:00, 500.25it/s]\n",
      "100%|██████████| 117/117 [00:00<00:00, 494.41it/s]\n",
      "100%|██████████| 117/117 [00:00<00:00, 484.42it/s]\n",
      "100%|██████████| 117/117 [00:00<00:00, 523.05it/s]\n",
      "100%|██████████| 117/117 [00:00<00:00, 515.21it/s]\n",
      "100%|██████████| 117/117 [00:00<00:00, 508.12it/s]\n",
      "100%|██████████| 117/117 [00:00<00:00, 494.51it/s]\n",
      "100%|██████████| 117/117 [00:00<00:00, 539.91it/s]\n",
      "100%|██████████| 117/117 [00:00<00:00, 546.62it/s]\n",
      "100%|██████████| 117/117 [00:00<00:00, 726.50it/s]\n",
      "wandb: WARNING Source type is set to 'repo' but some required information is missing from the environment. A job will not be created from this run. See https://docs.wandb.ai/guides/launch/create-job\n"
     ]
    },
    {
     "data": {
      "application/vnd.jupyter.widget-view+json": {
       "model_id": "63d82fe2e44b45848d536497af7df4f3",
       "version_major": 2,
       "version_minor": 0
      },
      "text/plain": [
       "VBox(children=(Label(value='0.026 MB of 0.031 MB uploaded\\r'), FloatProgress(value=0.8222147691932435, max=1.0…"
      ]
     },
     "metadata": {},
     "output_type": "display_data"
    },
    {
     "data": {
      "text/html": [
       "<style>\n",
       "    table.wandb td:nth-child(1) { padding: 0 10px; text-align: left ; width: auto;} td:nth-child(2) {text-align: left ; width: 100%}\n",
       "    .wandb-row { display: flex; flex-direction: row; flex-wrap: wrap; justify-content: flex-start; width: 100% }\n",
       "    .wandb-col { display: flex; flex-direction: column; flex-basis: 100%; flex: 1; padding: 10px; }\n",
       "    </style>\n",
       "<div class=\"wandb-row\"><div class=\"wandb-col\"><h3>Run history:</h3><br/><table class=\"wandb\"><tr><td>test_accuracy</td><td>▁▃▁▄▃▁▅█▆▅▃▆▅▇▇▁</td></tr><tr><td>test_loss</td><td>█▇█▆▅▇▄▄▄▅▃▄▃▂▁▂</td></tr><tr><td>train_accuracy</td><td>▅▅▅▅▅▃▅▁█▄▄▄▇▅█▅▆▄▇▄▅▂▃▅▆▄▄▆▆▆▅▅▃▂▅▅▆▄▅▆</td></tr><tr><td>train_loss</td><td>▆▆▇▆▆▇▇▆▆▇▆▇▆▅▅▅▄▇▆▆▅▇█▆▄▆▆▆▅▄▆▆█▇▆▆▄▆▅▁</td></tr></table><br/></div><div class=\"wandb-col\"><h3>Run summary:</h3><br/><table class=\"wandb\"><tr><td>test_accuracy</td><td>0.25424</td></tr><tr><td>test_loss</td><td>1.36926</td></tr><tr><td>train_accuracy</td><td>0.33333</td></tr><tr><td>train_loss</td><td>1.27873</td></tr></table><br/></div></div>"
      ],
      "text/plain": [
       "<IPython.core.display.HTML object>"
      ]
     },
     "metadata": {},
     "output_type": "display_data"
    },
    {
     "data": {
      "text/html": [
       " View run <strong style=\"color:#cdcd00\">avid-energy-100</strong> at: <a href='https://wandb.ai/yeutong/wmdp-probe/runs/rj7o85ni' target=\"_blank\">https://wandb.ai/yeutong/wmdp-probe/runs/rj7o85ni</a><br/>Synced 5 W&B file(s), 0 media file(s), 0 artifact file(s) and 0 other file(s)"
      ],
      "text/plain": [
       "<IPython.core.display.HTML object>"
      ]
     },
     "metadata": {},
     "output_type": "display_data"
    },
    {
     "data": {
      "text/html": [
       "Find logs at: <code>./wandb/run-20240718_204756-rj7o85ni/logs</code>"
      ],
      "text/plain": [
       "<IPython.core.display.HTML object>"
      ]
     },
     "metadata": {},
     "output_type": "display_data"
    },
    {
     "data": {
      "application/vnd.jupyter.widget-view+json": {
       "model_id": "2ee9a6f7740444fdabd15c20a6a26cb0",
       "version_major": 2,
       "version_minor": 0
      },
      "text/plain": [
       "VBox(children=(Label(value='Waiting for wandb.init()...\\r'), FloatProgress(value=0.011113945705195269, max=1.0…"
      ]
     },
     "metadata": {},
     "output_type": "display_data"
    },
    {
     "data": {
      "text/html": [
       "wandb version 0.17.4 is available!  To upgrade, please run:\n",
       " $ pip install wandb --upgrade"
      ],
      "text/plain": [
       "<IPython.core.display.HTML object>"
      ]
     },
     "metadata": {},
     "output_type": "display_data"
    },
    {
     "data": {
      "text/html": [
       "Tracking run with wandb version 0.16.1"
      ],
      "text/plain": [
       "<IPython.core.display.HTML object>"
      ]
     },
     "metadata": {},
     "output_type": "display_data"
    },
    {
     "data": {
      "text/html": [
       "Run data is saved locally in <code>/root/unlearning/yeutong_notebooks/wandb/run-20240718_204952-b9vll6w4</code>"
      ],
      "text/plain": [
       "<IPython.core.display.HTML object>"
      ]
     },
     "metadata": {},
     "output_type": "display_data"
    },
    {
     "data": {
      "text/html": [
       "Syncing run <strong><a href='https://wandb.ai/yeutong/wmdp-probe/runs/b9vll6w4' target=\"_blank\">efficient-lake-101</a></strong> to <a href='https://wandb.ai/yeutong/wmdp-probe' target=\"_blank\">Weights & Biases</a> (<a href='https://wandb.me/run' target=\"_blank\">docs</a>)<br/>"
      ],
      "text/plain": [
       "<IPython.core.display.HTML object>"
      ]
     },
     "metadata": {},
     "output_type": "display_data"
    },
    {
     "data": {
      "text/html": [
       " View project at <a href='https://wandb.ai/yeutong/wmdp-probe' target=\"_blank\">https://wandb.ai/yeutong/wmdp-probe</a>"
      ],
      "text/plain": [
       "<IPython.core.display.HTML object>"
      ]
     },
     "metadata": {},
     "output_type": "display_data"
    },
    {
     "data": {
      "text/html": [
       " View run at <a href='https://wandb.ai/yeutong/wmdp-probe/runs/b9vll6w4' target=\"_blank\">https://wandb.ai/yeutong/wmdp-probe/runs/b9vll6w4</a>"
      ],
      "text/plain": [
       "<IPython.core.display.HTML object>"
      ]
     },
     "metadata": {},
     "output_type": "display_data"
    },
    {
     "name": "stderr",
     "output_type": "stream",
     "text": [
      "100%|██████████| 117/117 [01:36<00:00,  1.21it/s]\n",
      "100%|██████████| 13/13 [00:10<00:00,  1.20it/s]\n",
      "100%|██████████| 117/117 [00:00<00:00, 668.88it/s]\n",
      "100%|██████████| 117/117 [00:00<00:00, 692.21it/s]\n",
      "100%|██████████| 117/117 [00:00<00:00, 567.36it/s]\n",
      "100%|██████████| 117/117 [00:00<00:00, 562.96it/s]\n",
      "100%|██████████| 117/117 [00:00<00:00, 541.76it/s]\n",
      "100%|██████████| 117/117 [00:00<00:00, 526.56it/s]\n",
      "100%|██████████| 117/117 [00:00<00:00, 627.01it/s]\n",
      "100%|██████████| 117/117 [00:00<00:00, 641.88it/s]\n",
      "100%|██████████| 117/117 [00:00<00:00, 600.87it/s]\n",
      "100%|██████████| 117/117 [00:00<00:00, 618.60it/s]\n",
      "100%|██████████| 117/117 [00:00<00:00, 599.86it/s]\n",
      "100%|██████████| 117/117 [00:00<00:00, 542.02it/s]\n",
      "100%|██████████| 117/117 [00:00<00:00, 530.66it/s]\n",
      "100%|██████████| 117/117 [00:00<00:00, 539.20it/s]\n",
      "100%|██████████| 117/117 [00:00<00:00, 552.66it/s]\n",
      "100%|██████████| 117/117 [00:00<00:00, 516.69it/s]\n",
      "wandb: WARNING Source type is set to 'repo' but some required information is missing from the environment. A job will not be created from this run. See https://docs.wandb.ai/guides/launch/create-job\n"
     ]
    },
    {
     "data": {
      "application/vnd.jupyter.widget-view+json": {
       "model_id": "a7b938d4314b44d18bd934ffd9615d2b",
       "version_major": 2,
       "version_minor": 0
      },
      "text/plain": [
       "VBox(children=(Label(value='0.026 MB of 0.026 MB uploaded\\r'), FloatProgress(value=1.0, max=1.0)))"
      ]
     },
     "metadata": {},
     "output_type": "display_data"
    },
    {
     "data": {
      "text/html": [
       "<style>\n",
       "    table.wandb td:nth-child(1) { padding: 0 10px; text-align: left ; width: auto;} td:nth-child(2) {text-align: left ; width: 100%}\n",
       "    .wandb-row { display: flex; flex-direction: row; flex-wrap: wrap; justify-content: flex-start; width: 100% }\n",
       "    .wandb-col { display: flex; flex-direction: column; flex-basis: 100%; flex: 1; padding: 10px; }\n",
       "    </style>\n",
       "<div class=\"wandb-row\"><div class=\"wandb-col\"><h3>Run history:</h3><br/><table class=\"wandb\"><tr><td>test_accuracy</td><td>▂▁▄▂▂█▂▄█▄▅▂▆▅▆▅</td></tr><tr><td>test_loss</td><td>██▆▆▆▇▅▃▃▂▂▃▂▂▂▁</td></tr><tr><td>train_accuracy</td><td>▄▁▇▄▄▅▅▇▄▃▆▃▇▄▃▆▅▅▅▄▅▅▄▄▃▆▅▄▇▆█▇▇▅█▅▇▆▅▆</td></tr><tr><td>train_loss</td><td>▅█▄▅▅▅▅▄▅▇▄▆▃▆▅▃▅▄▄▅▄▂▃▅▄▄▄▄▄▄▁▄▅▃▁▃▃▄▅▂</td></tr></table><br/></div><div class=\"wandb-col\"><h3>Run summary:</h3><br/><table class=\"wandb\"><tr><td>test_accuracy</td><td>0.29782</td></tr><tr><td>test_loss</td><td>1.36859</td></tr><tr><td>train_accuracy</td><td>0.33333</td></tr><tr><td>train_loss</td><td>1.34428</td></tr></table><br/></div></div>"
      ],
      "text/plain": [
       "<IPython.core.display.HTML object>"
      ]
     },
     "metadata": {},
     "output_type": "display_data"
    },
    {
     "data": {
      "text/html": [
       " View run <strong style=\"color:#cdcd00\">efficient-lake-101</strong> at: <a href='https://wandb.ai/yeutong/wmdp-probe/runs/b9vll6w4' target=\"_blank\">https://wandb.ai/yeutong/wmdp-probe/runs/b9vll6w4</a><br/>Synced 5 W&B file(s), 0 media file(s), 0 artifact file(s) and 0 other file(s)"
      ],
      "text/plain": [
       "<IPython.core.display.HTML object>"
      ]
     },
     "metadata": {},
     "output_type": "display_data"
    },
    {
     "data": {
      "text/html": [
       "Find logs at: <code>./wandb/run-20240718_204952-b9vll6w4/logs</code>"
      ],
      "text/plain": [
       "<IPython.core.display.HTML object>"
      ]
     },
     "metadata": {},
     "output_type": "display_data"
    },
    {
     "data": {
      "application/vnd.jupyter.widget-view+json": {
       "model_id": "08dc279dbd384a6b947b29cf60f28f13",
       "version_major": 2,
       "version_minor": 0
      },
      "text/plain": [
       "VBox(children=(Label(value='Waiting for wandb.init()...\\r'), FloatProgress(value=0.011114073834485478, max=1.0…"
      ]
     },
     "metadata": {},
     "output_type": "display_data"
    },
    {
     "data": {
      "text/html": [
       "wandb version 0.17.4 is available!  To upgrade, please run:\n",
       " $ pip install wandb --upgrade"
      ],
      "text/plain": [
       "<IPython.core.display.HTML object>"
      ]
     },
     "metadata": {},
     "output_type": "display_data"
    },
    {
     "data": {
      "text/html": [
       "Tracking run with wandb version 0.16.1"
      ],
      "text/plain": [
       "<IPython.core.display.HTML object>"
      ]
     },
     "metadata": {},
     "output_type": "display_data"
    },
    {
     "data": {
      "text/html": [
       "Run data is saved locally in <code>/root/unlearning/yeutong_notebooks/wandb/run-20240718_205148-594g2rdb</code>"
      ],
      "text/plain": [
       "<IPython.core.display.HTML object>"
      ]
     },
     "metadata": {},
     "output_type": "display_data"
    },
    {
     "data": {
      "text/html": [
       "Syncing run <strong><a href='https://wandb.ai/yeutong/wmdp-probe/runs/594g2rdb' target=\"_blank\">honest-leaf-102</a></strong> to <a href='https://wandb.ai/yeutong/wmdp-probe' target=\"_blank\">Weights & Biases</a> (<a href='https://wandb.me/run' target=\"_blank\">docs</a>)<br/>"
      ],
      "text/plain": [
       "<IPython.core.display.HTML object>"
      ]
     },
     "metadata": {},
     "output_type": "display_data"
    },
    {
     "data": {
      "text/html": [
       " View project at <a href='https://wandb.ai/yeutong/wmdp-probe' target=\"_blank\">https://wandb.ai/yeutong/wmdp-probe</a>"
      ],
      "text/plain": [
       "<IPython.core.display.HTML object>"
      ]
     },
     "metadata": {},
     "output_type": "display_data"
    },
    {
     "data": {
      "text/html": [
       " View run at <a href='https://wandb.ai/yeutong/wmdp-probe/runs/594g2rdb' target=\"_blank\">https://wandb.ai/yeutong/wmdp-probe/runs/594g2rdb</a>"
      ],
      "text/plain": [
       "<IPython.core.display.HTML object>"
      ]
     },
     "metadata": {},
     "output_type": "display_data"
    },
    {
     "name": "stderr",
     "output_type": "stream",
     "text": [
      "100%|██████████| 117/117 [01:36<00:00,  1.22it/s]\n",
      "100%|██████████| 13/13 [00:10<00:00,  1.20it/s]\n",
      "100%|██████████| 117/117 [00:00<00:00, 485.00it/s]\n",
      "100%|██████████| 117/117 [00:00<00:00, 570.97it/s]\n",
      "100%|██████████| 117/117 [00:00<00:00, 517.81it/s]\n",
      "100%|██████████| 117/117 [00:00<00:00, 490.87it/s]\n",
      "100%|██████████| 117/117 [00:00<00:00, 536.57it/s]\n",
      "100%|██████████| 117/117 [00:00<00:00, 487.80it/s]\n",
      "100%|██████████| 117/117 [00:00<00:00, 521.47it/s]\n",
      "100%|██████████| 117/117 [00:00<00:00, 533.30it/s]\n",
      "100%|██████████| 117/117 [00:00<00:00, 514.99it/s]\n",
      "100%|██████████| 117/117 [00:00<00:00, 516.71it/s]\n",
      "100%|██████████| 117/117 [00:00<00:00, 511.87it/s]\n",
      "100%|██████████| 117/117 [00:00<00:00, 528.80it/s]\n",
      "100%|██████████| 117/117 [00:00<00:00, 534.99it/s]\n",
      "100%|██████████| 117/117 [00:00<00:00, 518.85it/s]\n",
      "100%|██████████| 117/117 [00:00<00:00, 535.04it/s]\n",
      "100%|██████████| 117/117 [00:00<00:00, 518.40it/s]\n",
      "wandb: WARNING Source type is set to 'repo' but some required information is missing from the environment. A job will not be created from this run. See https://docs.wandb.ai/guides/launch/create-job\n"
     ]
    },
    {
     "data": {
      "application/vnd.jupyter.widget-view+json": {
       "model_id": "a49c484f6eec43aaae4ac9d4cf759269",
       "version_major": 2,
       "version_minor": 0
      },
      "text/plain": [
       "VBox(children=(Label(value='0.026 MB of 0.026 MB uploaded\\r'), FloatProgress(value=1.0, max=1.0)))"
      ]
     },
     "metadata": {},
     "output_type": "display_data"
    },
    {
     "data": {
      "text/html": [
       "<style>\n",
       "    table.wandb td:nth-child(1) { padding: 0 10px; text-align: left ; width: auto;} td:nth-child(2) {text-align: left ; width: 100%}\n",
       "    .wandb-row { display: flex; flex-direction: row; flex-wrap: wrap; justify-content: flex-start; width: 100% }\n",
       "    .wandb-col { display: flex; flex-direction: column; flex-basis: 100%; flex: 1; padding: 10px; }\n",
       "    </style>\n",
       "<div class=\"wandb-row\"><div class=\"wandb-col\"><h3>Run history:</h3><br/><table class=\"wandb\"><tr><td>test_accuracy</td><td>▂▁▃▃▂▄▂▄▆▅█▅▄▇▆▅</td></tr><tr><td>test_loss</td><td>█▇▇▆▆▅▅▄▄▃▃▃▃▂▂▁</td></tr><tr><td>train_accuracy</td><td>▃▃▅▃▅▁▅▆▅▅▅▄▅▃▃▆▃▅▄▅▄▂▅▅▆▄▃▄▅▅▄▄▄▄▃▄▅█▅▅</td></tr><tr><td>train_loss</td><td>▆▇▆▆▅▇▇▅▅▇▅▅▇▆▆▅▆▅▆▅▆▇▅▅▆▅▅▅▅▅▄▅▆▆█▅▅▁▅▇</td></tr></table><br/></div><div class=\"wandb-col\"><h3>Run summary:</h3><br/><table class=\"wandb\"><tr><td>test_accuracy</td><td>0.32203</td></tr><tr><td>test_loss</td><td>1.35757</td></tr><tr><td>train_accuracy</td><td>0.33333</td></tr><tr><td>train_loss</td><td>1.39652</td></tr></table><br/></div></div>"
      ],
      "text/plain": [
       "<IPython.core.display.HTML object>"
      ]
     },
     "metadata": {},
     "output_type": "display_data"
    },
    {
     "data": {
      "text/html": [
       " View run <strong style=\"color:#cdcd00\">honest-leaf-102</strong> at: <a href='https://wandb.ai/yeutong/wmdp-probe/runs/594g2rdb' target=\"_blank\">https://wandb.ai/yeutong/wmdp-probe/runs/594g2rdb</a><br/>Synced 5 W&B file(s), 0 media file(s), 0 artifact file(s) and 0 other file(s)"
      ],
      "text/plain": [
       "<IPython.core.display.HTML object>"
      ]
     },
     "metadata": {},
     "output_type": "display_data"
    },
    {
     "data": {
      "text/html": [
       "Find logs at: <code>./wandb/run-20240718_205148-594g2rdb/logs</code>"
      ],
      "text/plain": [
       "<IPython.core.display.HTML object>"
      ]
     },
     "metadata": {},
     "output_type": "display_data"
    },
    {
     "data": {
      "application/vnd.jupyter.widget-view+json": {
       "model_id": "e094a55563094cb1a4d7741f4876042b",
       "version_major": 2,
       "version_minor": 0
      },
      "text/plain": [
       "VBox(children=(Label(value='Waiting for wandb.init()...\\r'), FloatProgress(value=0.011113928299811152, max=1.0…"
      ]
     },
     "metadata": {},
     "output_type": "display_data"
    },
    {
     "data": {
      "text/html": [
       "wandb version 0.17.4 is available!  To upgrade, please run:\n",
       " $ pip install wandb --upgrade"
      ],
      "text/plain": [
       "<IPython.core.display.HTML object>"
      ]
     },
     "metadata": {},
     "output_type": "display_data"
    },
    {
     "data": {
      "text/html": [
       "Tracking run with wandb version 0.16.1"
      ],
      "text/plain": [
       "<IPython.core.display.HTML object>"
      ]
     },
     "metadata": {},
     "output_type": "display_data"
    },
    {
     "data": {
      "text/html": [
       "Run data is saved locally in <code>/root/unlearning/yeutong_notebooks/wandb/run-20240718_205344-k6bvr5tr</code>"
      ],
      "text/plain": [
       "<IPython.core.display.HTML object>"
      ]
     },
     "metadata": {},
     "output_type": "display_data"
    },
    {
     "data": {
      "text/html": [
       "Syncing run <strong><a href='https://wandb.ai/yeutong/wmdp-probe/runs/k6bvr5tr' target=\"_blank\">vital-wildflower-103</a></strong> to <a href='https://wandb.ai/yeutong/wmdp-probe' target=\"_blank\">Weights & Biases</a> (<a href='https://wandb.me/run' target=\"_blank\">docs</a>)<br/>"
      ],
      "text/plain": [
       "<IPython.core.display.HTML object>"
      ]
     },
     "metadata": {},
     "output_type": "display_data"
    },
    {
     "data": {
      "text/html": [
       " View project at <a href='https://wandb.ai/yeutong/wmdp-probe' target=\"_blank\">https://wandb.ai/yeutong/wmdp-probe</a>"
      ],
      "text/plain": [
       "<IPython.core.display.HTML object>"
      ]
     },
     "metadata": {},
     "output_type": "display_data"
    },
    {
     "data": {
      "text/html": [
       " View run at <a href='https://wandb.ai/yeutong/wmdp-probe/runs/k6bvr5tr' target=\"_blank\">https://wandb.ai/yeutong/wmdp-probe/runs/k6bvr5tr</a>"
      ],
      "text/plain": [
       "<IPython.core.display.HTML object>"
      ]
     },
     "metadata": {},
     "output_type": "display_data"
    },
    {
     "name": "stderr",
     "output_type": "stream",
     "text": [
      "100%|██████████| 117/117 [01:36<00:00,  1.21it/s]\n",
      "100%|██████████| 13/13 [00:10<00:00,  1.20it/s]\n",
      "100%|██████████| 117/117 [00:00<00:00, 513.12it/s]\n",
      "100%|██████████| 117/117 [00:00<00:00, 627.59it/s]\n",
      "100%|██████████| 117/117 [00:00<00:00, 543.69it/s]\n",
      "100%|██████████| 117/117 [00:00<00:00, 481.06it/s]\n",
      "100%|██████████| 117/117 [00:00<00:00, 528.51it/s]\n",
      "100%|██████████| 117/117 [00:00<00:00, 517.41it/s]\n",
      "100%|██████████| 117/117 [00:00<00:00, 491.24it/s]\n",
      "100%|██████████| 117/117 [00:00<00:00, 540.09it/s]\n",
      "100%|██████████| 117/117 [00:00<00:00, 545.57it/s]\n",
      "100%|██████████| 117/117 [00:00<00:00, 530.78it/s]\n",
      "100%|██████████| 117/117 [00:00<00:00, 563.73it/s]\n",
      "100%|██████████| 117/117 [00:00<00:00, 566.34it/s]\n",
      "100%|██████████| 117/117 [00:00<00:00, 592.54it/s]\n",
      "100%|██████████| 117/117 [00:00<00:00, 526.18it/s]\n",
      "100%|██████████| 117/117 [00:00<00:00, 512.13it/s]\n",
      "100%|██████████| 117/117 [00:00<00:00, 526.96it/s]\n",
      "wandb: WARNING Source type is set to 'repo' but some required information is missing from the environment. A job will not be created from this run. See https://docs.wandb.ai/guides/launch/create-job\n"
     ]
    },
    {
     "data": {
      "application/vnd.jupyter.widget-view+json": {
       "model_id": "bca04464f2d64e3fb309e6dd4b33f975",
       "version_major": 2,
       "version_minor": 0
      },
      "text/plain": [
       "VBox(children=(Label(value='0.026 MB of 0.026 MB uploaded\\r'), FloatProgress(value=1.0, max=1.0)))"
      ]
     },
     "metadata": {},
     "output_type": "display_data"
    },
    {
     "data": {
      "text/html": [
       "<style>\n",
       "    table.wandb td:nth-child(1) { padding: 0 10px; text-align: left ; width: auto;} td:nth-child(2) {text-align: left ; width: 100%}\n",
       "    .wandb-row { display: flex; flex-direction: row; flex-wrap: wrap; justify-content: flex-start; width: 100% }\n",
       "    .wandb-col { display: flex; flex-direction: column; flex-basis: 100%; flex: 1; padding: 10px; }\n",
       "    </style>\n",
       "<div class=\"wandb-row\"><div class=\"wandb-col\"><h3>Run history:</h3><br/><table class=\"wandb\"><tr><td>test_accuracy</td><td>▁▁▂▂▅▅▅▃▅▆▆▇▅█▅▆</td></tr><tr><td>test_loss</td><td>█▇▇▆▅▅▅▄▄▃▃▂▃▂▂▁</td></tr><tr><td>train_accuracy</td><td>▁▁▂▃▄▁▃▂▂▃▂▂▅▄▄▁▂▅▃▄▃▅▂▅▄▃▄▄▄▃▁▅▅▅▆▁▄▆▄█</td></tr><tr><td>train_loss</td><td>█▇▆▇▆▆▆▇▆▆▅▆▅▆▅▇▆▆▅▅▄▃▅▄▅▅▄▄▄▅▇▃▃▂▄▅▃▁▃▃</td></tr></table><br/></div><div class=\"wandb-col\"><h3>Run summary:</h3><br/><table class=\"wandb\"><tr><td>test_accuracy</td><td>0.37772</td></tr><tr><td>test_loss</td><td>1.33362</td></tr><tr><td>train_accuracy</td><td>0.66667</td></tr><tr><td>train_loss</td><td>1.32733</td></tr></table><br/></div></div>"
      ],
      "text/plain": [
       "<IPython.core.display.HTML object>"
      ]
     },
     "metadata": {},
     "output_type": "display_data"
    },
    {
     "data": {
      "text/html": [
       " View run <strong style=\"color:#cdcd00\">vital-wildflower-103</strong> at: <a href='https://wandb.ai/yeutong/wmdp-probe/runs/k6bvr5tr' target=\"_blank\">https://wandb.ai/yeutong/wmdp-probe/runs/k6bvr5tr</a><br/>Synced 5 W&B file(s), 0 media file(s), 0 artifact file(s) and 0 other file(s)"
      ],
      "text/plain": [
       "<IPython.core.display.HTML object>"
      ]
     },
     "metadata": {},
     "output_type": "display_data"
    },
    {
     "data": {
      "text/html": [
       "Find logs at: <code>./wandb/run-20240718_205344-k6bvr5tr/logs</code>"
      ],
      "text/plain": [
       "<IPython.core.display.HTML object>"
      ]
     },
     "metadata": {},
     "output_type": "display_data"
    },
    {
     "data": {
      "application/vnd.jupyter.widget-view+json": {
       "model_id": "52d097c621474892a08fb3d17cf55602",
       "version_major": 2,
       "version_minor": 0
      },
      "text/plain": [
       "VBox(children=(Label(value='Waiting for wandb.init()...\\r'), FloatProgress(value=0.011113691495524512, max=1.0…"
      ]
     },
     "metadata": {},
     "output_type": "display_data"
    },
    {
     "data": {
      "text/html": [
       "wandb version 0.17.4 is available!  To upgrade, please run:\n",
       " $ pip install wandb --upgrade"
      ],
      "text/plain": [
       "<IPython.core.display.HTML object>"
      ]
     },
     "metadata": {},
     "output_type": "display_data"
    },
    {
     "data": {
      "text/html": [
       "Tracking run with wandb version 0.16.1"
      ],
      "text/plain": [
       "<IPython.core.display.HTML object>"
      ]
     },
     "metadata": {},
     "output_type": "display_data"
    },
    {
     "data": {
      "text/html": [
       "Run data is saved locally in <code>/root/unlearning/yeutong_notebooks/wandb/run-20240718_205541-wk0kn8hw</code>"
      ],
      "text/plain": [
       "<IPython.core.display.HTML object>"
      ]
     },
     "metadata": {},
     "output_type": "display_data"
    },
    {
     "data": {
      "text/html": [
       "Syncing run <strong><a href='https://wandb.ai/yeutong/wmdp-probe/runs/wk0kn8hw' target=\"_blank\">dutiful-serenity-104</a></strong> to <a href='https://wandb.ai/yeutong/wmdp-probe' target=\"_blank\">Weights & Biases</a> (<a href='https://wandb.me/run' target=\"_blank\">docs</a>)<br/>"
      ],
      "text/plain": [
       "<IPython.core.display.HTML object>"
      ]
     },
     "metadata": {},
     "output_type": "display_data"
    },
    {
     "data": {
      "text/html": [
       " View project at <a href='https://wandb.ai/yeutong/wmdp-probe' target=\"_blank\">https://wandb.ai/yeutong/wmdp-probe</a>"
      ],
      "text/plain": [
       "<IPython.core.display.HTML object>"
      ]
     },
     "metadata": {},
     "output_type": "display_data"
    },
    {
     "data": {
      "text/html": [
       " View run at <a href='https://wandb.ai/yeutong/wmdp-probe/runs/wk0kn8hw' target=\"_blank\">https://wandb.ai/yeutong/wmdp-probe/runs/wk0kn8hw</a>"
      ],
      "text/plain": [
       "<IPython.core.display.HTML object>"
      ]
     },
     "metadata": {},
     "output_type": "display_data"
    },
    {
     "name": "stderr",
     "output_type": "stream",
     "text": [
      "100%|██████████| 117/117 [01:36<00:00,  1.22it/s]\n",
      "100%|██████████| 13/13 [00:10<00:00,  1.20it/s]\n",
      "100%|██████████| 117/117 [00:00<00:00, 506.80it/s]\n",
      "100%|██████████| 117/117 [00:00<00:00, 497.45it/s]\n",
      "100%|██████████| 117/117 [00:00<00:00, 505.77it/s]\n",
      "100%|██████████| 117/117 [00:00<00:00, 532.69it/s]\n",
      "100%|██████████| 117/117 [00:00<00:00, 567.11it/s]\n",
      "100%|██████████| 117/117 [00:00<00:00, 527.59it/s]\n",
      "100%|██████████| 117/117 [00:00<00:00, 548.13it/s]\n",
      "100%|██████████| 117/117 [00:00<00:00, 513.94it/s]\n",
      "100%|██████████| 117/117 [00:00<00:00, 520.23it/s]\n",
      "100%|██████████| 117/117 [00:00<00:00, 518.09it/s]\n",
      "100%|██████████| 117/117 [00:00<00:00, 479.04it/s]\n",
      "100%|██████████| 117/117 [00:00<00:00, 566.49it/s]\n",
      "100%|██████████| 117/117 [00:00<00:00, 499.59it/s]\n",
      "100%|██████████| 117/117 [00:00<00:00, 523.73it/s]\n",
      "100%|██████████| 117/117 [00:00<00:00, 513.94it/s]\n",
      "100%|██████████| 117/117 [00:00<00:00, 512.90it/s]\n",
      "wandb: WARNING Source type is set to 'repo' but some required information is missing from the environment. A job will not be created from this run. See https://docs.wandb.ai/guides/launch/create-job\n"
     ]
    },
    {
     "data": {
      "application/vnd.jupyter.widget-view+json": {
       "model_id": "11153d9808a04a1b97eda249402cc3a0",
       "version_major": 2,
       "version_minor": 0
      },
      "text/plain": [
       "VBox(children=(Label(value='0.026 MB of 0.026 MB uploaded\\r'), FloatProgress(value=1.0, max=1.0)))"
      ]
     },
     "metadata": {},
     "output_type": "display_data"
    },
    {
     "data": {
      "text/html": [
       "<style>\n",
       "    table.wandb td:nth-child(1) { padding: 0 10px; text-align: left ; width: auto;} td:nth-child(2) {text-align: left ; width: 100%}\n",
       "    .wandb-row { display: flex; flex-direction: row; flex-wrap: wrap; justify-content: flex-start; width: 100% }\n",
       "    .wandb-col { display: flex; flex-direction: column; flex-basis: 100%; flex: 1; padding: 10px; }\n",
       "    </style>\n",
       "<div class=\"wandb-row\"><div class=\"wandb-col\"><h3>Run history:</h3><br/><table class=\"wandb\"><tr><td>test_accuracy</td><td>▁▂▂▅█▅▃▄▅▅▇▅▆▅▄▆</td></tr><tr><td>test_loss</td><td>██▇▇▆▆▇▄▄▃▃▃▂▂▂▁</td></tr><tr><td>train_accuracy</td><td>▃▁▃▂▄▂▃▂▅▃▅█▄▁▄▄▅▄▄▅▂▅▃▄▅▆▃▄▆▃▅▂▄▅▅▅▇▄▄█</td></tr><tr><td>train_loss</td><td>██▆▅▅▆▅▆▄▅▅▂▅▇▅▃▅▂▄▃▅▃▅▄▅▃▄▄▃▄▂▄▂▁▄▁▂▃▃▁</td></tr></table><br/></div><div class=\"wandb-col\"><h3>Run summary:</h3><br/><table class=\"wandb\"><tr><td>test_accuracy</td><td>0.34625</td></tr><tr><td>test_loss</td><td>1.34646</td></tr><tr><td>train_accuracy</td><td>0.66667</td></tr><tr><td>train_loss</td><td>1.32224</td></tr></table><br/></div></div>"
      ],
      "text/plain": [
       "<IPython.core.display.HTML object>"
      ]
     },
     "metadata": {},
     "output_type": "display_data"
    },
    {
     "data": {
      "text/html": [
       " View run <strong style=\"color:#cdcd00\">dutiful-serenity-104</strong> at: <a href='https://wandb.ai/yeutong/wmdp-probe/runs/wk0kn8hw' target=\"_blank\">https://wandb.ai/yeutong/wmdp-probe/runs/wk0kn8hw</a><br/>Synced 5 W&B file(s), 0 media file(s), 0 artifact file(s) and 0 other file(s)"
      ],
      "text/plain": [
       "<IPython.core.display.HTML object>"
      ]
     },
     "metadata": {},
     "output_type": "display_data"
    },
    {
     "data": {
      "text/html": [
       "Find logs at: <code>./wandb/run-20240718_205541-wk0kn8hw/logs</code>"
      ],
      "text/plain": [
       "<IPython.core.display.HTML object>"
      ]
     },
     "metadata": {},
     "output_type": "display_data"
    }
   ],
   "source": [
    "for layer in [0, 1, 2, 3, 4, 5]: # range(8, 14):\n",
    "    batch_size = 32\n",
    "    args = ProbeTrainingArgs(layer=layer, batch_size=batch_size, model_name='gemma-2b-it_base_model')\n",
    "    trainer = LinearProbeTrainer(model, args, train_prompts, train_answers, test_prompts, test_answers)\n",
    "    trainer.train()\n",
    "    trainer.save_linear_probe()\n",
    "    trainer.save_accuracy_to_file()"
   ]
  },
  {
   "cell_type": "code",
   "execution_count": 27,
   "metadata": {},
   "outputs": [
    {
     "name": "stderr",
     "output_type": "stream",
     "text": [
      "  0%|          | 0/13 [00:00<?, ?it/s]"
     ]
    },
    {
     "name": "stderr",
     "output_type": "stream",
     "text": [
      "100%|██████████| 13/13 [00:10<00:00,  1.25it/s]\n"
     ]
    }
   ],
   "source": [
    "# for layer in range(6, 17):\n",
    "#     batch_size = 32\n",
    "#     args = ProbeTrainingArgs(layer=layer, batch_size=batch_size, model_name='gemma-2b-it_base_model')\n",
    "#     trainer = LinearProbeTrainer(model, args, train_prompts, train_answers, test_prompts, test_answers)\n",
    "#     trainer.load_linear_probe()\n",
    "#     trainer.save_test_accuracy_to_file()"
   ]
  },
  {
   "cell_type": "code",
   "execution_count": 8,
   "metadata": {},
   "outputs": [
    {
     "name": "stderr",
     "output_type": "stream",
     "text": [
      "ERROR:wandb.jupyter:Failed to detect the name of this notebook, you can set it manually with the WANDB_NOTEBOOK_NAME environment variable to enable code saving.\n",
      "\u001b[34m\u001b[1mwandb\u001b[0m: Currently logged in as: \u001b[33myeutong\u001b[0m. Use \u001b[1m`wandb login --relogin`\u001b[0m to force relogin\n"
     ]
    },
    {
     "data": {
      "text/html": [
       "wandb version 0.17.4 is available!  To upgrade, please run:\n",
       " $ pip install wandb --upgrade"
      ],
      "text/plain": [
       "<IPython.core.display.HTML object>"
      ]
     },
     "metadata": {},
     "output_type": "display_data"
    },
    {
     "data": {
      "text/html": [
       "Tracking run with wandb version 0.16.1"
      ],
      "text/plain": [
       "<IPython.core.display.HTML object>"
      ]
     },
     "metadata": {},
     "output_type": "display_data"
    },
    {
     "data": {
      "text/html": [
       "Run data is saved locally in <code>/root/unlearning/yeutong_notebooks/wandb/run-20240718_190306-nn0eabt5</code>"
      ],
      "text/plain": [
       "<IPython.core.display.HTML object>"
      ]
     },
     "metadata": {},
     "output_type": "display_data"
    },
    {
     "data": {
      "text/html": [
       "Syncing run <strong><a href='https://wandb.ai/yeutong/wmdp-probe/runs/nn0eabt5' target=\"_blank\">blooming-valley-59</a></strong> to <a href='https://wandb.ai/yeutong/wmdp-probe' target=\"_blank\">Weights & Biases</a> (<a href='https://wandb.me/run' target=\"_blank\">docs</a>)<br/>"
      ],
      "text/plain": [
       "<IPython.core.display.HTML object>"
      ]
     },
     "metadata": {},
     "output_type": "display_data"
    },
    {
     "data": {
      "text/html": [
       " View project at <a href='https://wandb.ai/yeutong/wmdp-probe' target=\"_blank\">https://wandb.ai/yeutong/wmdp-probe</a>"
      ],
      "text/plain": [
       "<IPython.core.display.HTML object>"
      ]
     },
     "metadata": {},
     "output_type": "display_data"
    },
    {
     "data": {
      "text/html": [
       " View run at <a href='https://wandb.ai/yeutong/wmdp-probe/runs/nn0eabt5' target=\"_blank\">https://wandb.ai/yeutong/wmdp-probe/runs/nn0eabt5</a>"
      ],
      "text/plain": [
       "<IPython.core.display.HTML object>"
      ]
     },
     "metadata": {},
     "output_type": "display_data"
    },
    {
     "name": "stderr",
     "output_type": "stream",
     "text": [
      "100%|██████████| 4/4 [00:02<00:00,  1.51it/s]\n",
      "100%|██████████| 13/13 [00:10<00:00,  1.26it/s]\n",
      "100%|██████████| 4/4 [00:00<00:00,  8.67it/s]\n",
      "100%|██████████| 4/4 [00:00<00:00, 384.46it/s]\n",
      "100%|██████████| 4/4 [00:00<00:00, 468.69it/s]\n",
      "100%|██████████| 4/4 [00:00<00:00, 443.61it/s]\n",
      "100%|██████████| 4/4 [00:00<00:00, 589.81it/s]\n",
      "100%|██████████| 4/4 [00:00<00:00, 392.39it/s]\n",
      "100%|██████████| 4/4 [00:00<00:00, 451.89it/s]\n",
      "100%|██████████| 4/4 [00:00<00:00, 448.18it/s]\n",
      "100%|██████████| 4/4 [00:00<00:00, 522.69it/s]\n",
      "100%|██████████| 4/4 [00:00<00:00, 456.09it/s]\n",
      "100%|██████████| 4/4 [00:00<00:00, 392.25it/s]\n",
      "100%|██████████| 4/4 [00:00<00:00, 406.46it/s]\n",
      "100%|██████████| 4/4 [00:00<00:00, 400.48it/s]\n",
      "100%|██████████| 4/4 [00:00<00:00, 505.76it/s]\n",
      "100%|██████████| 4/4 [00:00<00:00, 449.04it/s]\n",
      "100%|██████████| 4/4 [00:00<00:00, 419.55it/s]\n"
     ]
    },
    {
     "data": {
      "application/vnd.jupyter.widget-view+json": {
       "model_id": "b3b63531f1f64ffe8e4d5372a6320469",
       "version_major": 2,
       "version_minor": 0
      },
      "text/plain": [
       "VBox(children=(Label(value='0.026 MB of 0.026 MB uploaded\\r'), FloatProgress(value=1.0, max=1.0)))"
      ]
     },
     "metadata": {},
     "output_type": "display_data"
    },
    {
     "name": "stderr",
     "output_type": "stream",
     "text": [
      "wandb: WARNING Source type is set to 'repo' but some required information is missing from the environment. A job will not be created from this run. See https://docs.wandb.ai/guides/launch/create-job\n"
     ]
    },
    {
     "data": {
      "text/html": [
       "<style>\n",
       "    table.wandb td:nth-child(1) { padding: 0 10px; text-align: left ; width: auto;} td:nth-child(2) {text-align: left ; width: 100%}\n",
       "    .wandb-row { display: flex; flex-direction: row; flex-wrap: wrap; justify-content: flex-start; width: 100% }\n",
       "    .wandb-col { display: flex; flex-direction: column; flex-basis: 100%; flex: 1; padding: 10px; }\n",
       "    </style>\n",
       "<div class=\"wandb-row\"><div class=\"wandb-col\"><h3>Run history:</h3><br/><table class=\"wandb\"><tr><td>test_accuracy</td><td>▁▂▄▂▇▅▆▂▁▃█▆▄▅▅▂</td></tr><tr><td>test_loss</td><td>█▃▁▂▃▃▃▃▂▂▂▂▁▁▁▁</td></tr><tr><td>train_accuracy</td><td>▄▅▃▂▅▂▃▆▅▅▅▃▇▃▅▅▅▇▅▅▅█▇▅▇▅▁▇▅▆█▆▅▇▇█▅▇█▄</td></tr><tr><td>train_loss</td><td>█▄▇▇▃▄▅▂▂▃▂▃▁▃▄▂▂▂▃▂▃▂▂▂▂▂▂▁▂▂▂▂▂▂▁▁▂▁▁▂</td></tr></table><br/></div><div class=\"wandb-col\"><h3>Run summary:</h3><br/><table class=\"wandb\"><tr><td>test_accuracy</td><td>0.2615</td></tr><tr><td>test_loss</td><td>1.38527</td></tr><tr><td>train_accuracy</td><td>0.21875</td></tr><tr><td>train_loss</td><td>1.38477</td></tr></table><br/></div></div>"
      ],
      "text/plain": [
       "<IPython.core.display.HTML object>"
      ]
     },
     "metadata": {},
     "output_type": "display_data"
    },
    {
     "data": {
      "text/html": [
       " View run <strong style=\"color:#cdcd00\">blooming-valley-59</strong> at: <a href='https://wandb.ai/yeutong/wmdp-probe/runs/nn0eabt5' target=\"_blank\">https://wandb.ai/yeutong/wmdp-probe/runs/nn0eabt5</a><br/>Synced 5 W&B file(s), 0 media file(s), 0 artifact file(s) and 0 other file(s)"
      ],
      "text/plain": [
       "<IPython.core.display.HTML object>"
      ]
     },
     "metadata": {},
     "output_type": "display_data"
    },
    {
     "data": {
      "text/html": [
       "Find logs at: <code>./wandb/run-20240718_190306-nn0eabt5/logs</code>"
      ],
      "text/plain": [
       "<IPython.core.display.HTML object>"
      ]
     },
     "metadata": {},
     "output_type": "display_data"
    },
    {
     "data": {
      "text/plain": [
       "0.27356746792793274"
      ]
     },
     "execution_count": 8,
     "metadata": {},
     "output_type": "execute_result"
    }
   ],
   "source": [
    "# # for testing\n",
    "# layer = 8\n",
    "# batch_size = 32\n",
    "# args = ProbeTrainingArgs(layer=layer, batch_size=batch_size, model_name='gemma-2b-it_base_model')\n",
    "# trainer = LinearProbeTrainer(model, args, train_prompts[:128], train_answers[:128], test_prompts, test_answers)\n",
    "# trainer.train()\n",
    "# # trainer.save_linear_probe()\n",
    "# trainer.calc_overall_accuracy()"
   ]
  },
  {
   "cell_type": "markdown",
   "metadata": {},
   "source": [
    "##### SAE intervention"
   ]
  },
  {
   "cell_type": "code",
   "execution_count": 20,
   "metadata": {},
   "outputs": [
    {
     "data": {
      "text/html": [
       "wandb version 0.17.4 is available!  To upgrade, please run:\n",
       " $ pip install wandb --upgrade"
      ],
      "text/plain": [
       "<IPython.core.display.HTML object>"
      ]
     },
     "metadata": {},
     "output_type": "display_data"
    },
    {
     "data": {
      "text/html": [
       "Tracking run with wandb version 0.16.1"
      ],
      "text/plain": [
       "<IPython.core.display.HTML object>"
      ]
     },
     "metadata": {},
     "output_type": "display_data"
    },
    {
     "data": {
      "text/html": [
       "Run data is saved locally in <code>/root/unlearning/yeutong_notebooks/wandb/run-20240718_203811-tlg9eyaj</code>"
      ],
      "text/plain": [
       "<IPython.core.display.HTML object>"
      ]
     },
     "metadata": {},
     "output_type": "display_data"
    },
    {
     "data": {
      "text/html": [
       "Syncing run <strong><a href='https://wandb.ai/yeutong/wmdp-probe/runs/tlg9eyaj' target=\"_blank\">blooming-spaceship-96</a></strong> to <a href='https://wandb.ai/yeutong/wmdp-probe' target=\"_blank\">Weights & Biases</a> (<a href='https://wandb.me/run' target=\"_blank\">docs</a>)<br/>"
      ],
      "text/plain": [
       "<IPython.core.display.HTML object>"
      ]
     },
     "metadata": {},
     "output_type": "display_data"
    },
    {
     "data": {
      "text/html": [
       " View project at <a href='https://wandb.ai/yeutong/wmdp-probe' target=\"_blank\">https://wandb.ai/yeutong/wmdp-probe</a>"
      ],
      "text/plain": [
       "<IPython.core.display.HTML object>"
      ]
     },
     "metadata": {},
     "output_type": "display_data"
    },
    {
     "data": {
      "text/html": [
       " View run at <a href='https://wandb.ai/yeutong/wmdp-probe/runs/tlg9eyaj' target=\"_blank\">https://wandb.ai/yeutong/wmdp-probe/runs/tlg9eyaj</a>"
      ],
      "text/plain": [
       "<IPython.core.display.HTML object>"
      ]
     },
     "metadata": {},
     "output_type": "display_data"
    },
    {
     "name": "stderr",
     "output_type": "stream",
     "text": [
      "100%|██████████| 117/117 [01:40<00:00,  1.16it/s]\n",
      "100%|██████████| 13/13 [00:11<00:00,  1.14it/s]\n",
      "100%|██████████| 117/117 [00:00<00:00, 507.42it/s]\n",
      "100%|██████████| 117/117 [00:00<00:00, 622.16it/s]\n",
      "100%|██████████| 117/117 [00:00<00:00, 613.98it/s]\n",
      "100%|██████████| 117/117 [00:00<00:00, 592.13it/s]\n",
      "100%|██████████| 117/117 [00:00<00:00, 513.09it/s]\n",
      "100%|██████████| 117/117 [00:00<00:00, 487.47it/s]\n",
      "100%|██████████| 117/117 [00:00<00:00, 516.82it/s]\n",
      "100%|██████████| 117/117 [00:00<00:00, 541.94it/s]\n",
      "100%|██████████| 117/117 [00:00<00:00, 487.12it/s]\n",
      "100%|██████████| 117/117 [00:00<00:00, 739.73it/s]\n",
      "100%|██████████| 117/117 [00:00<00:00, 779.86it/s]\n",
      "100%|██████████| 117/117 [00:00<00:00, 615.10it/s]\n",
      "100%|██████████| 117/117 [00:00<00:00, 557.74it/s]\n",
      "100%|██████████| 117/117 [00:00<00:00, 539.60it/s]\n",
      "100%|██████████| 117/117 [00:00<00:00, 623.04it/s]\n",
      "100%|██████████| 117/117 [00:00<00:00, 905.30it/s]\n",
      "wandb: WARNING Source type is set to 'repo' but some required information is missing from the environment. A job will not be created from this run. See https://docs.wandb.ai/guides/launch/create-job\n"
     ]
    },
    {
     "data": {
      "application/vnd.jupyter.widget-view+json": {
       "model_id": "cb9591c3e8c7436bbe106e62c64b8f77",
       "version_major": 2,
       "version_minor": 0
      },
      "text/plain": [
       "VBox(children=(Label(value='0.026 MB of 0.030 MB uploaded\\r'), FloatProgress(value=0.856362539299438, max=1.0)…"
      ]
     },
     "metadata": {},
     "output_type": "display_data"
    },
    {
     "data": {
      "text/html": [
       "<style>\n",
       "    table.wandb td:nth-child(1) { padding: 0 10px; text-align: left ; width: auto;} td:nth-child(2) {text-align: left ; width: 100%}\n",
       "    .wandb-row { display: flex; flex-direction: row; flex-wrap: wrap; justify-content: flex-start; width: 100% }\n",
       "    .wandb-col { display: flex; flex-direction: column; flex-basis: 100%; flex: 1; padding: 10px; }\n",
       "    </style>\n",
       "<div class=\"wandb-row\"><div class=\"wandb-col\"><h3>Run history:</h3><br/><table class=\"wandb\"><tr><td>test_accuracy</td><td>▁▃▄▅▇▅▆▅▃▆▇▆█▅▅█</td></tr><tr><td>test_loss</td><td>█▅▄▃▃▂▂▂▂▂▂▁▁▂▁▁</td></tr><tr><td>train_accuracy</td><td>▃▁▄▂▃▃▃▂▄▂▁▄▃▅▃▂▃▃▂▅▅▃▄▃▅▃▃▂▄▄▄▄▃▄▃▄▃▄▄█</td></tr><tr><td>train_loss</td><td>██▆▇▆▆▆▇▅▇▇▅▆▅▆▇▇▅▇▅▄▅▆▅▄▇▆▇▅▆▆▅▆▅▅▅▅▅▆▁</td></tr></table><br/></div><div class=\"wandb-col\"><h3>Run summary:</h3><br/><table class=\"wandb\"><tr><td>test_accuracy</td><td>0.44552</td></tr><tr><td>test_loss</td><td>1.21311</td></tr><tr><td>train_accuracy</td><td>1.0</td></tr><tr><td>train_loss</td><td>0.64506</td></tr></table><br/></div></div>"
      ],
      "text/plain": [
       "<IPython.core.display.HTML object>"
      ]
     },
     "metadata": {},
     "output_type": "display_data"
    },
    {
     "data": {
      "text/html": [
       " View run <strong style=\"color:#cdcd00\">blooming-spaceship-96</strong> at: <a href='https://wandb.ai/yeutong/wmdp-probe/runs/tlg9eyaj' target=\"_blank\">https://wandb.ai/yeutong/wmdp-probe/runs/tlg9eyaj</a><br/>Synced 5 W&B file(s), 0 media file(s), 0 artifact file(s) and 0 other file(s)"
      ],
      "text/plain": [
       "<IPython.core.display.HTML object>"
      ]
     },
     "metadata": {},
     "output_type": "display_data"
    },
    {
     "data": {
      "text/html": [
       "Find logs at: <code>./wandb/run-20240718_203811-tlg9eyaj/logs</code>"
      ],
      "text/plain": [
       "<IPython.core.display.HTML object>"
      ]
     },
     "metadata": {},
     "output_type": "display_data"
    }
   ],
   "source": [
    "# modified the model\n",
    "filtered_good_features = [12663, 4342, 5749, 10355, 1523, 15858, 12273, 14315, 4451, 1611, 10051, 16186, 7983, 6958, 1307, 11019, 6531, 12289]\n",
    "\n",
    "ablate_params = {\n",
    "    'features_to_ablate': filtered_good_features,\n",
    "    'multiplier': 20,\n",
    "    'intervention_method': 'scale_feature_activation',\n",
    "}\n",
    "\n",
    "modify_model(model, **ablate_params) \n",
    "\n",
    "for layer in [14]: # range(8, 14):\n",
    "    batch_size = 32\n",
    "    args = ProbeTrainingArgs(layer=layer, batch_size=batch_size, model_name='gemma-2b-it_SAE_18features_multiplier20')\n",
    "    trainer = LinearProbeTrainer(model, args, train_prompts, train_answers, test_prompts, test_answers)\n",
    "    trainer.train()\n",
    "    trainer.save_linear_probe()\n",
    "    trainer.save_accuracy_to_file()\n",
    "    \n",
    "model.reset_hooks()"
   ]
  },
  {
   "cell_type": "markdown",
   "metadata": {},
   "source": [
    "##### RMU"
   ]
  },
  {
   "cell_type": "code",
   "execution_count": 11,
   "metadata": {},
   "outputs": [
    {
     "data": {
      "application/vnd.jupyter.widget-view+json": {
       "model_id": "a44748b6620348c48ce7b013043ab99a",
       "version_major": 2,
       "version_minor": 0
      },
      "text/plain": [
       "config.json:   0%|          | 0.00/707 [00:00<?, ?B/s]"
      ]
     },
     "metadata": {},
     "output_type": "display_data"
    },
    {
     "data": {
      "application/vnd.jupyter.widget-view+json": {
       "model_id": "6feea3a8eaf64805a5f6782cfcfab123",
       "version_major": 2,
       "version_minor": 0
      },
      "text/plain": [
       "model.safetensors.index.json:   0%|          | 0.00/13.5k [00:00<?, ?B/s]"
      ]
     },
     "metadata": {},
     "output_type": "display_data"
    },
    {
     "data": {
      "application/vnd.jupyter.widget-view+json": {
       "model_id": "8b953b2c58d346d78dcec69397d60aaa",
       "version_major": 2,
       "version_minor": 0
      },
      "text/plain": [
       "Downloading shards:   0%|          | 0/2 [00:00<?, ?it/s]"
      ]
     },
     "metadata": {},
     "output_type": "display_data"
    },
    {
     "data": {
      "application/vnd.jupyter.widget-view+json": {
       "model_id": "31e18e1808ae4f3ab5d73e96fa132ffa",
       "version_major": 2,
       "version_minor": 0
      },
      "text/plain": [
       "model-00001-of-00002.safetensors:   0%|          | 0.00/4.95G [00:00<?, ?B/s]"
      ]
     },
     "metadata": {},
     "output_type": "display_data"
    },
    {
     "data": {
      "application/vnd.jupyter.widget-view+json": {
       "model_id": "4ff6c59b5cf94e0dbd747cea29edf1c1",
       "version_major": 2,
       "version_minor": 0
      },
      "text/plain": [
       "model-00002-of-00002.safetensors:   0%|          | 0.00/67.1M [00:00<?, ?B/s]"
      ]
     },
     "metadata": {},
     "output_type": "display_data"
    },
    {
     "data": {
      "application/vnd.jupyter.widget-view+json": {
       "model_id": "21626359bb894c779e1edaa12012f557",
       "version_major": 2,
       "version_minor": 0
      },
      "text/plain": [
       "Loading checkpoint shards:   0%|          | 0/2 [00:00<?, ?it/s]"
      ]
     },
     "metadata": {},
     "output_type": "display_data"
    },
    {
     "data": {
      "application/vnd.jupyter.widget-view+json": {
       "model_id": "bdc4bfdd34b54210b7a7fa9891869fc8",
       "version_major": 2,
       "version_minor": 0
      },
      "text/plain": [
       "generation_config.json:   0%|          | 0.00/132 [00:00<?, ?B/s]"
      ]
     },
     "metadata": {},
     "output_type": "display_data"
    },
    {
     "name": "stderr",
     "output_type": "stream",
     "text": [
      "WARNING:root:You are not using LayerNorm, so the writing weights can't be centered! Skipping\n"
     ]
    },
    {
     "name": "stdout",
     "output_type": "stream",
     "text": [
      "Loaded pretrained model google/gemma-2b-it into HookedTransformer\n"
     ]
    }
   ],
   "source": [
    "from transformers import AutoTokenizer, AutoModelForCausalLM\n",
    "\n",
    "hf_model_name = \"google/gemma-2b-it\"\n",
    "transformer_lens_model_name = \"google/gemma-2b-it\"\n",
    "tokenizer = AutoTokenizer.from_pretrained(hf_model_name)\n",
    "\n",
    "hf_model_name = 'eoinf/gemma_2b_it_rmu_s60_a1000'\n",
    "hf_model = AutoModelForCausalLM.from_pretrained(hf_model_name, torch_dtype='auto') #.to(\"cuda\")\n",
    "RMU_model = HookedTransformer.from_pretrained(transformer_lens_model_name, hf_model=hf_model, tokenizer=tokenizer)"
   ]
  },
  {
   "cell_type": "code",
   "execution_count": 22,
   "metadata": {},
   "outputs": [
    {
     "data": {
      "text/html": [
       "wandb version 0.17.4 is available!  To upgrade, please run:\n",
       " $ pip install wandb --upgrade"
      ],
      "text/plain": [
       "<IPython.core.display.HTML object>"
      ]
     },
     "metadata": {},
     "output_type": "display_data"
    },
    {
     "data": {
      "text/html": [
       "Tracking run with wandb version 0.16.1"
      ],
      "text/plain": [
       "<IPython.core.display.HTML object>"
      ]
     },
     "metadata": {},
     "output_type": "display_data"
    },
    {
     "data": {
      "text/html": [
       "Run data is saved locally in <code>/root/unlearning/yeutong_notebooks/wandb/run-20240718_204209-bm4s6r6x</code>"
      ],
      "text/plain": [
       "<IPython.core.display.HTML object>"
      ]
     },
     "metadata": {},
     "output_type": "display_data"
    },
    {
     "data": {
      "text/html": [
       "Syncing run <strong><a href='https://wandb.ai/yeutong/wmdp-probe/runs/bm4s6r6x' target=\"_blank\">hearty-water-98</a></strong> to <a href='https://wandb.ai/yeutong/wmdp-probe' target=\"_blank\">Weights & Biases</a> (<a href='https://wandb.me/run' target=\"_blank\">docs</a>)<br/>"
      ],
      "text/plain": [
       "<IPython.core.display.HTML object>"
      ]
     },
     "metadata": {},
     "output_type": "display_data"
    },
    {
     "data": {
      "text/html": [
       " View project at <a href='https://wandb.ai/yeutong/wmdp-probe' target=\"_blank\">https://wandb.ai/yeutong/wmdp-probe</a>"
      ],
      "text/plain": [
       "<IPython.core.display.HTML object>"
      ]
     },
     "metadata": {},
     "output_type": "display_data"
    },
    {
     "data": {
      "text/html": [
       " View run at <a href='https://wandb.ai/yeutong/wmdp-probe/runs/bm4s6r6x' target=\"_blank\">https://wandb.ai/yeutong/wmdp-probe/runs/bm4s6r6x</a>"
      ],
      "text/plain": [
       "<IPython.core.display.HTML object>"
      ]
     },
     "metadata": {},
     "output_type": "display_data"
    },
    {
     "name": "stderr",
     "output_type": "stream",
     "text": [
      "100%|██████████| 117/117 [01:38<00:00,  1.19it/s]\n",
      "100%|██████████| 13/13 [00:11<00:00,  1.18it/s]\n",
      "100%|██████████| 117/117 [00:00<00:00, 518.46it/s]\n",
      "100%|██████████| 117/117 [00:00<00:00, 530.82it/s]\n",
      "100%|██████████| 117/117 [00:00<00:00, 579.99it/s]\n",
      "100%|██████████| 117/117 [00:00<00:00, 845.18it/s]\n",
      "100%|██████████| 117/117 [00:00<00:00, 662.23it/s]\n",
      "100%|██████████| 117/117 [00:00<00:00, 516.96it/s]\n",
      "100%|██████████| 117/117 [00:00<00:00, 526.97it/s]\n",
      "100%|██████████| 117/117 [00:00<00:00, 587.41it/s]\n",
      "100%|██████████| 117/117 [00:00<00:00, 513.80it/s]\n",
      "100%|██████████| 117/117 [00:00<00:00, 533.87it/s]\n",
      "100%|██████████| 117/117 [00:00<00:00, 656.01it/s]\n",
      "100%|██████████| 117/117 [00:00<00:00, 749.39it/s]\n",
      "100%|██████████| 117/117 [00:00<00:00, 517.39it/s]\n",
      "100%|██████████| 117/117 [00:00<00:00, 501.61it/s]\n",
      "100%|██████████| 117/117 [00:00<00:00, 504.86it/s]\n",
      "100%|██████████| 117/117 [00:00<00:00, 505.98it/s]\n",
      "wandb: WARNING Source type is set to 'repo' but some required information is missing from the environment. A job will not be created from this run. See https://docs.wandb.ai/guides/launch/create-job\n"
     ]
    },
    {
     "data": {
      "application/vnd.jupyter.widget-view+json": {
       "model_id": "de589d744fcb4c8e9d6711ff2f56859e",
       "version_major": 2,
       "version_minor": 0
      },
      "text/plain": [
       "VBox(children=(Label(value='0.026 MB of 0.026 MB uploaded\\r'), FloatProgress(value=1.0, max=1.0)))"
      ]
     },
     "metadata": {},
     "output_type": "display_data"
    },
    {
     "data": {
      "text/html": [
       "<style>\n",
       "    table.wandb td:nth-child(1) { padding: 0 10px; text-align: left ; width: auto;} td:nth-child(2) {text-align: left ; width: 100%}\n",
       "    .wandb-row { display: flex; flex-direction: row; flex-wrap: wrap; justify-content: flex-start; width: 100% }\n",
       "    .wandb-col { display: flex; flex-direction: column; flex-basis: 100%; flex: 1; padding: 10px; }\n",
       "    </style>\n",
       "<div class=\"wandb-row\"><div class=\"wandb-col\"><h3>Run history:</h3><br/><table class=\"wandb\"><tr><td>test_accuracy</td><td>▁▂▃▄▃▄▃▅▅▄▃▇▅▆▃█</td></tr><tr><td>test_loss</td><td>█▆▄▅▃▂▄▂▃▂▃▄▃▁▃▂</td></tr><tr><td>train_accuracy</td><td>▅▄▆▆▇▆▆▅▇▄▅▆▅▆▅▆▆▆▇▅▅▅▇▄▅▆▆▇█▇▅▇▆▆▆▇▇▆█▁</td></tr><tr><td>train_loss</td><td>██▆▄▄▄▂▆▄▇▃▄▇▂▇▃▁▅▄▅▅▆▃▇▅▃▅▂▃▂▅▃▃▃▂▂▃▃▁▆</td></tr></table><br/></div><div class=\"wandb-col\"><h3>Run summary:</h3><br/><table class=\"wandb\"><tr><td>test_accuracy</td><td>0.45278</td></tr><tr><td>test_loss</td><td>1.19774</td></tr><tr><td>train_accuracy</td><td>0.0</td></tr><tr><td>train_loss</td><td>1.31911</td></tr></table><br/></div></div>"
      ],
      "text/plain": [
       "<IPython.core.display.HTML object>"
      ]
     },
     "metadata": {},
     "output_type": "display_data"
    },
    {
     "data": {
      "text/html": [
       " View run <strong style=\"color:#cdcd00\">hearty-water-98</strong> at: <a href='https://wandb.ai/yeutong/wmdp-probe/runs/bm4s6r6x' target=\"_blank\">https://wandb.ai/yeutong/wmdp-probe/runs/bm4s6r6x</a><br/>Synced 5 W&B file(s), 0 media file(s), 0 artifact file(s) and 0 other file(s)"
      ],
      "text/plain": [
       "<IPython.core.display.HTML object>"
      ]
     },
     "metadata": {},
     "output_type": "display_data"
    },
    {
     "data": {
      "text/html": [
       "Find logs at: <code>./wandb/run-20240718_204209-bm4s6r6x/logs</code>"
      ],
      "text/plain": [
       "<IPython.core.display.HTML object>"
      ]
     },
     "metadata": {},
     "output_type": "display_data"
    }
   ],
   "source": [
    "for layer in [14]: # range(8, 14):\n",
    "    batch_size = 32\n",
    "    args = ProbeTrainingArgs(layer=layer, batch_size=batch_size, model_name='gemma-2b-it_RMU_s60_a1000')\n",
    "    trainer = LinearProbeTrainer(RMU_model, args, train_prompts, train_answers, test_prompts, test_answers)\n",
    "    trainer.train()\n",
    "    trainer.save_linear_probe()\n",
    "    trainer.save_accuracy_to_file()"
   ]
  },
  {
   "cell_type": "code",
   "execution_count": null,
   "metadata": {},
   "outputs": [],
   "source": []
  }
 ],
 "metadata": {
  "kernelspec": {
   "display_name": ".venv",
   "language": "python",
   "name": "python3"
  },
  "language_info": {
   "codemirror_mode": {
    "name": "ipython",
    "version": 3
   },
   "file_extension": ".py",
   "mimetype": "text/x-python",
   "name": "python",
   "nbconvert_exporter": "python",
   "pygments_lexer": "ipython3",
   "version": "3.10.13"
  }
 },
 "nbformat": 4,
 "nbformat_minor": 2
}
