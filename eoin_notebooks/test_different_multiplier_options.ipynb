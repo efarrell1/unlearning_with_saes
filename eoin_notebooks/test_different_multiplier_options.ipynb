{
 "cells": [
  {
   "cell_type": "code",
   "execution_count": 1,
   "metadata": {},
   "outputs": [],
   "source": [
    "%load_ext autoreload\n",
    "%autoreload 2\n",
    "\n",
    "import sys\n",
    "sys.path.append(\"../\")\n",
    "\n",
    "import torch\n",
    "import random\n",
    "\n",
    "from sae.sparse_autoencoder import load_saved_sae\n",
    "from sae.metrics import model_store_from_sae\n",
    "from unlearning.metrics import convert_wmdp_data_to_prompt\n",
    "from unlearning.tool import UnlearningConfig, SAEUnlearningTool, MCQ_ActivationStoreAnalysis\n",
    "\n",
    "from huggingface_hub import hf_hub_download\n",
    "from datasets import load_dataset\n",
    "import numpy as np\n",
    "import pandas as pd\n",
    "import itertools\n",
    "from transformer_lens import utils\n",
    "\n",
    "from jaxtyping import Float\n",
    "from torch import Tensor\n",
    "\n",
    "from pathlib import Path\n",
    "\n",
    "import plotly.express as px\n"
   ]
  },
  {
   "cell_type": "code",
   "execution_count": 2,
   "metadata": {},
   "outputs": [
    {
     "name": "stderr",
     "output_type": "stream",
     "text": [
      "`config.hidden_act` is ignored, you should use `config.hidden_activation` instead.\n",
      "Gemma's activation function will be set to `gelu_pytorch_tanh`. Please, use\n",
      "`config.hidden_activation` if you want to override this behaviour.\n",
      "See https://github.com/huggingface/transformers/pull/29402 for more details.\n"
     ]
    },
    {
     "data": {
      "application/vnd.jupyter.widget-view+json": {
       "model_id": "8568dfadfecd48a2b17b8aebc7db1c40",
       "version_major": 2,
       "version_minor": 0
      },
      "text/plain": [
       "Loading checkpoint shards:   0%|          | 0/2 [00:00<?, ?it/s]"
      ]
     },
     "metadata": {},
     "output_type": "display_data"
    },
    {
     "name": "stderr",
     "output_type": "stream",
     "text": [
      "WARNING:root:You are not using LayerNorm, so the writing weights can't be centered! Skipping\n"
     ]
    },
    {
     "name": "stdout",
     "output_type": "stream",
     "text": [
      "Loaded pretrained model gemma-2b-it into HookedTransformer\n",
      "Moving model to device:  cuda\n"
     ]
    }
   ],
   "source": [
    "# resid pre 9\n",
    "REPO_ID = \"eoinf/unlearning_saes\"\n",
    "FILENAME = \"jolly-dream-40/sparse_autoencoder_gemma-2b-it_blocks.9.hook_resid_pre_s16384_127995904.pt\"\n",
    "\n",
    "filename = hf_hub_download(repo_id=REPO_ID, filename=FILENAME)\n",
    "sae = load_saved_sae(filename)\n",
    "\n",
    "model = model_store_from_sae(sae)"
   ]
  },
  {
   "cell_type": "code",
   "execution_count": 3,
   "metadata": {},
   "outputs": [
    {
     "name": "stdout",
     "output_type": "stream",
     "text": [
      "dataloader\n",
      "buffer\n",
      "dataloader\n"
     ]
    },
    {
     "name": "stderr",
     "output_type": "stream",
     "text": [
      "100%|██████████| 43/43 [00:23<00:00,  1.80it/s]\n"
     ]
    },
    {
     "name": "stdout",
     "output_type": "stream",
     "text": [
      "tokens torch.Size([172, 1024]) 1024\n",
      "tokens torch.Size([172, 1024])\n",
      "Concatenating learned activations\n",
      "Done\n"
     ]
    },
    {
     "name": "stderr",
     "output_type": "stream",
     "text": [
      "100%|██████████| 43/43 [00:04<00:00, 10.66it/s]\n"
     ]
    },
    {
     "name": "stdout",
     "output_type": "stream",
     "text": [
      "tokens torch.Size([172, 1024]) 1024\n",
      "tokens torch.Size([172, 1024])\n",
      "Concatenating learned activations\n",
      "Done\n"
     ]
    }
   ],
   "source": [
    "filename = \"../data/wmdp-bio_gemma_2b_it_correct.csv\"\n",
    "correct_question_ids = np.genfromtxt(filename)\n",
    "\n",
    "dataset_args = {\n",
    "    'question_subset': correct_question_ids,\n",
    "}\n",
    "\n",
    "sae.cfg.n_batches_in_store_buffer = 86\n",
    "\n",
    "act_store = MCQ_ActivationStoreAnalysis(sae.cfg, model, dataset_args=dataset_args)\n",
    "unlearning_metric = 'wmdp-bio_gemma_2b_it_correct'\n",
    "\n",
    "unlearn_cfg = UnlearningConfig(unlearn_activation_store=act_store, unlearning_metric=unlearning_metric)\n",
    "ul_tool2 = SAEUnlearningTool(unlearn_cfg)\n",
    "ul_tool2.setup(model=model)\n",
    "ul_tool2.get_metrics_with_text()"
   ]
  },
  {
   "cell_type": "code",
   "execution_count": 4,
   "metadata": {},
   "outputs": [],
   "source": [
    "\n",
    "# read 172 questions that the model can answer correctly in any permutation\n",
    "filename = '../data/wmdp-bio_gemma_2b_it_correct.csv'\n",
    "correct_question_ids = np.genfromtxt(filename)\n",
    "\n",
    "\n",
    "# read 133 questions that the model can answer correctly in any permutation but will get it wrong if\n",
    "# without the instruction prompt and the question prompt\n",
    "filename = '../data/wmdp-bio_gemma_2b_it_correct_not_correct_wo_question_prompt.csv'\n",
    "correct_question_id_not_correct_wo_question_prompt = np.genfromtxt(filename).astype(int)\n",
    "\n",
    "\n",
    "# pass in the dataset as an argument so no need to load in everytime\n",
    "dataset = load_dataset(\"cais/wmdp\", \"wmdp-bio\")\n",
    "\n",
    "answers = [x['answer'] for x in dataset['test']]\n",
    "questions = [x['question'] for x in dataset['test']]\n",
    "choices_list = [x['choices'] for x in dataset['test']]\n",
    "\n",
    "prompts = [convert_wmdp_data_to_prompt(question, choices, prompt_format=None) for question, choices in zip(questions, choices_list)]\n",
    "\n",
    "\n",
    "# load good feature list\n",
    "import pickle\n",
    "with open('../yeutong_notebooks/unlearning_output/good_features_list_v1.pkl', 'rb') as f:\n",
    "    good_features_list = pickle.load(f)\n",
    "\n",
    "features_to_test = list(set([item for sublist in good_features_list.values() for item in sublist]))\n",
    "filtered_good_features = [12663, 4342, 5749, 10355, 1523, 15858, 12273, 14315, 4451, 1611, 10051, 16186, 7983, 6958, 1307, 11019, 6531, 12289]\n",
    "filtered_features_sorted_by_loss = [7983, 16186, 12273, 14315,  4342, 10051, 15858,  6958, 12663, 1611,  6531,  1523, 10355,  5749,  1307, 12289,  4451, 11019]"
   ]
  },
  {
   "cell_type": "code",
   "execution_count": 70,
   "metadata": {},
   "outputs": [
    {
     "name": "stderr",
     "output_type": "stream",
     "text": [
      "100%|██████████| 5/5 [00:03<00:00,  1.36it/s]\n",
      "100%|██████████| 5/5 [00:03<00:00,  1.36it/s]\n",
      "100%|██████████| 5/5 [00:03<00:00,  1.36it/s]\n",
      "100%|██████████| 5/5 [00:03<00:00,  1.36it/s]\n",
      "100%|██████████| 5/5 [00:03<00:00,  1.34it/s]\n",
      "100%|██████████| 5/5 [00:03<00:00,  1.35it/s]\n",
      "100%|██████████| 5/5 [00:03<00:00,  1.35it/s]\n",
      "100%|██████████| 5/5 [00:03<00:00,  1.34it/s]\n",
      "100%|██████████| 5/5 [00:03<00:00,  1.34it/s]\n",
      "100%|██████████| 5/5 [00:03<00:00,  1.34it/s]\n",
      "100%|██████████| 5/5 [00:03<00:00,  1.34it/s]\n",
      "100%|██████████| 5/5 [00:03<00:00,  1.33it/s]\n",
      "100%|██████████| 5/5 [00:03<00:00,  1.34it/s]\n",
      "100%|██████████| 5/5 [00:03<00:00,  1.32it/s]\n",
      "100%|██████████| 5/5 [00:03<00:00,  1.32it/s]\n",
      "100%|██████████| 5/5 [00:03<00:00,  1.29it/s]\n",
      "100%|██████████| 5/5 [00:03<00:00,  1.32it/s]\n",
      "100%|██████████| 5/5 [00:03<00:00,  1.32it/s]\n"
     ]
    }
   ],
   "source": [
    "# Do cumulative pass over features\n",
    "\n",
    "# loss_intervention_results2 = []\n",
    "# metrics_intervention_results2 = []\n",
    "control_metrics_results2 = []\n",
    "\n",
    "all_permutations = list(itertools.permutations([0, 1, 2, 3]))\n",
    "\n",
    "\n",
    "for feature in filtered_features_sorted_by_loss:\n",
    "    ul_tool2.base_activation_store.iterable_dataset = iter(ul_tool2.base_activation_store.dataset)\n",
    "    ablate_params = {\n",
    "        'features_to_ablate': [feature],\n",
    "        'multiplier': 35,\n",
    "        'intervention_method': 'clamp_feature_activation',\n",
    "        'permutations': None,\n",
    "    }\n",
    "    \n",
    "    # metrics = ul_tool2.calculate_metrics(**ablate_params)\n",
    "    # metrics_intervention_results2.append(metrics)\n",
    "    # loss_added = ul_tool2.compute_loss_added(n_batch=10, **ablate_params)\n",
    "    # loss_intervention_results2.append(loss_added)\n",
    "    \n",
    "    control_metrics = ul_tool2.calculate_control_metrics(random_select_one=False, **ablate_params)\n",
    "    control_metrics_results2.append(control_metrics)\n"
   ]
  },
  {
   "cell_type": "code",
   "execution_count": 71,
   "metadata": {},
   "outputs": [
    {
     "data": {
      "text/plain": [
       "[1.0,\n",
       " 1.0,\n",
       " 1.0,\n",
       " 1.0,\n",
       " 1.0,\n",
       " 1.0,\n",
       " 1.0,\n",
       " 1.0,\n",
       " 0.9000000357627869,\n",
       " 0.8666667342185974,\n",
       " 1.0,\n",
       " 0.46666669845581055,\n",
       " 1.0,\n",
       " 1.0,\n",
       " 1.0,\n",
       " 1.0,\n",
       " 1.0,\n",
       " 1.0]"
      ]
     },
     "execution_count": 71,
     "metadata": {},
     "output_type": "execute_result"
    }
   ],
   "source": [
    "[x['mean_correct'] for x in control_metrics_results2]\n"
   ]
  },
  {
   "cell_type": "code",
   "execution_count": 9,
   "metadata": {},
   "outputs": [
    {
     "data": {
      "text/plain": [
       "[(-0.0005425691604614257, 0.9883720874786377),\n",
       " (-0.0012538909912109375, 0.9825581312179565),\n",
       " (-0.0012538909912109375, 0.8604651093482971),\n",
       " (-0.0016951799392700196, 0.8488371968269348),\n",
       " (-0.0015992164611816407, 0.8488371968269348),\n",
       " (-0.0015992164611816407, 0.8372092843055725),\n",
       " (-0.0015992164611816407, 0.6686046719551086),\n",
       " (-0.0015607833862304687, 0.645348846912384),\n",
       " (-0.001813220977783203, 0.5755813717842102),\n",
       " (0.0033960819244384767, 0.45348837971687317),\n",
       " (0.006481027603149414, 0.44186046719551086),\n",
       " (0.007501912117004394, 0.3372093141078949),\n",
       " (0.018922185897827147, 0.3488371968269348),\n",
       " (0.025135350227355958, 0.3488371968269348),\n",
       " (0.027659845352172852, 0.34302324056625366),\n",
       " (0.027605223655700683, 0.29651162028312683),\n",
       " (0.05441043376922607, 0.29651162028312683),\n",
       " (0.05386528968811035, 0.22674418985843658)]"
      ]
     },
     "execution_count": 9,
     "metadata": {},
     "output_type": "execute_result"
    }
   ],
   "source": [
    "unlearned_frac2 = [x['modified_metrics']['mean_correct'] for x in metrics_intervention_results2]\n",
    "\n",
    "list(zip(loss_intervention_results2, unlearned_frac2))"
   ]
  },
  {
   "cell_type": "code",
   "execution_count": 10,
   "metadata": {},
   "outputs": [],
   "source": [
    "max_activations = ul_tool2.unlearn_metrics_with_text['learned_activations'].max(dim=0)[0]"
   ]
  },
  {
   "cell_type": "code",
   "execution_count": 25,
   "metadata": {},
   "outputs": [
    {
     "data": {
      "text/plain": [
       "torch.Size([16384])"
      ]
     },
     "execution_count": 25,
     "metadata": {},
     "output_type": "execute_result"
    }
   ],
   "source": [
    "max_activations.shape"
   ]
  },
  {
   "cell_type": "code",
   "execution_count": 46,
   "metadata": {},
   "outputs": [
    {
     "data": {
      "text/plain": [
       "tensor([48.4062, 20.6406, 49.5000, 38.4062,  9.5625, 35.0312, 53.6875, 18.6875,\n",
       "        24.2500, 24.5000, 18.9531, 20.1250, 28.8438, 36.7500, 30.0000, 33.4062,\n",
       "        42.0625, 21.4062], device='cuda:0', dtype=torch.float16)"
      ]
     },
     "execution_count": 46,
     "metadata": {},
     "output_type": "execute_result"
    }
   ],
   "source": [
    "filtered_features_max_activations = max_activations[filtered_features_sorted_by_loss].to(\"cuda\")\n",
    "5 * filtered_features_max_activations"
   ]
  },
  {
   "cell_type": "code",
   "execution_count": 72,
   "metadata": {},
   "outputs": [],
   "source": [
    "filtered_features_sorted_by_loss[:8]\n",
    "filtered_features_sorted_by_loss2 = np.concatenate((filtered_features_sorted_by_loss[:8], filtered_features_sorted_by_loss[10:11], filtered_features_sorted_by_loss[12:]))"
   ]
  },
  {
   "cell_type": "code",
   "execution_count": 79,
   "metadata": {},
   "outputs": [
    {
     "name": "stderr",
     "output_type": "stream",
     "text": [
      "  0%|          | 0/29 [00:00<?, ?it/s]"
     ]
    },
    {
     "name": "stderr",
     "output_type": "stream",
     "text": [
      "100%|██████████| 29/29 [00:07<00:00,  3.63it/s]\n",
      "100%|██████████| 10/10 [00:14<00:00,  1.41s/it]\n",
      "100%|██████████| 5/5 [00:03<00:00,  1.34it/s]\n",
      "100%|██████████| 29/29 [00:07<00:00,  3.69it/s]\n",
      "100%|██████████| 10/10 [00:13<00:00,  1.37s/it]\n",
      "100%|██████████| 5/5 [00:03<00:00,  1.33it/s]\n",
      "100%|██████████| 29/29 [00:07<00:00,  4.07it/s]\n",
      "100%|██████████| 10/10 [00:14<00:00,  1.43s/it]\n",
      "100%|██████████| 5/5 [00:03<00:00,  1.31it/s]\n",
      "100%|██████████| 29/29 [00:07<00:00,  4.02it/s]\n",
      "100%|██████████| 10/10 [00:13<00:00,  1.38s/it]\n",
      "100%|██████████| 5/5 [00:03<00:00,  1.31it/s]\n",
      "100%|██████████| 29/29 [00:07<00:00,  4.05it/s]\n",
      "100%|██████████| 10/10 [00:13<00:00,  1.38s/it]\n",
      "100%|██████████| 5/5 [00:03<00:00,  1.30it/s]\n",
      "100%|██████████| 29/29 [00:07<00:00,  3.97it/s]\n",
      "100%|██████████| 10/10 [00:13<00:00,  1.39s/it]\n",
      "100%|██████████| 5/5 [00:03<00:00,  1.30it/s]\n",
      "100%|██████████| 29/29 [00:07<00:00,  3.99it/s]\n",
      "100%|██████████| 10/10 [00:14<00:00,  1.40s/it]\n",
      "100%|██████████| 5/5 [00:03<00:00,  1.29it/s]\n",
      "100%|██████████| 29/29 [00:07<00:00,  4.02it/s]\n",
      "100%|██████████| 10/10 [00:13<00:00,  1.39s/it]\n",
      "100%|██████████| 5/5 [00:03<00:00,  1.29it/s]\n"
     ]
    }
   ],
   "source": [
    "# Do cumulative pass over features\n",
    "\n",
    "loss_intervention_results3 = []\n",
    "metrics_intervention_results3 = []\n",
    "control_metrics_results3 = []\n",
    "\n",
    "all_permutations = list(itertools.permutations([0, 1, 2, 3]))\n",
    "\n",
    "\n",
    "for i in range(7, 15):\n",
    "# for multiplier in [30]:\n",
    "    ul_tool2.base_activation_store.iterable_dataset = iter(ul_tool2.base_activation_store.dataset)\n",
    "    ablate_params = {\n",
    "        'features_to_ablate': filtered_features_sorted_by_loss2[:i+1],\n",
    "        'multiplier': 20,\n",
    "        'intervention_method': 'clamp_feature_activation',\n",
    "        'permutations': None,\n",
    "    }\n",
    "    \n",
    "    metrics = ul_tool2.calculate_metrics(**ablate_params)\n",
    "    metrics_intervention_results3.append(metrics)\n",
    "    \n",
    "    loss_added = ul_tool2.compute_loss_added(n_batch=10, **ablate_params)\n",
    "    loss_intervention_results3.append(loss_added)\n",
    "    \n",
    "    control_metrics = ul_tool2.calculate_control_metrics(random_select_one=False, **ablate_params)\n",
    "    control_metrics_results3.append(control_metrics)\n"
   ]
  },
  {
   "cell_type": "code",
   "execution_count": 21,
   "metadata": {},
   "outputs": [
    {
     "data": {
      "text/plain": [
       "[(-0.0019334077835083008, 0.9825581312179565, 1.0),\n",
       " (-0.002272820472717285, 0.9709302186965942, 1.0),\n",
       " (-0.002272820472717285, 0.7732558250427246, 1.0),\n",
       " (-0.002711629867553711, 0.7616279125213623, 1.0),\n",
       " (-0.00342862606048584, 0.7616279125213623, 1.0),\n",
       " (-0.00342862606048584, 0.7383720874786377, 1.0),\n",
       " (-0.00342862606048584, 0.5639534592628479, 1.0),\n",
       " (-0.0031900644302368165, 0.5058139562606812, 1.0),\n",
       " (-0.00668337345123291, 0.35465115308761597, 0.9000000357627869),\n",
       " (-0.003450155258178711, 0.2616279125213623, 0.8666667342185974),\n",
       " (0.004356789588928223, 0.25, 0.8666667342185974),\n",
       " (0.0069856405258178714, 0.19186046719551086, 0.40000003576278687),\n",
       " (0.0188795804977417, 0.19186046719551086, 0.40000003576278687),\n",
       " (0.025677967071533202, 0.19186046719551086, 0.40000003576278687),\n",
       " (0.03329613208770752, 0.19186046719551086, 0.40000003576278687),\n",
       " (0.033304452896118164, 0.19186046719551086, 0.40000003576278687),\n",
       " (0.04512257575988769, 0.19186046719551086, 0.40000003576278687),\n",
       " (0.04413607120513916, 0.19186046719551086, 0.40000003576278687)]"
      ]
     },
     "execution_count": 21,
     "metadata": {},
     "output_type": "execute_result"
    }
   ],
   "source": [
    "unlearned_frac2 = [x['modified_metrics']['mean_correct'] for x in metrics_intervention_results2]\n",
    "control_frac2 = [x['mean_correct'] for x in control_metrics_results2]\n",
    "list(zip(loss_intervention_results2, unlearned_frac2, control_frac2))"
   ]
  },
  {
   "cell_type": "code",
   "execution_count": 62,
   "metadata": {},
   "outputs": [
    {
     "data": {
      "text/plain": [
       "[(-0.00364229679107666, 0.6220930218696594),\n",
       " (-0.0038264989852905273, 0.5174418687820435),\n",
       " (-0.0031900644302368165, 0.5058139562606812),\n",
       " (-0.002042865753173828, 0.4883720874786377),\n",
       " (-0.0006659984588623047, 0.4883720874786377),\n",
       " (0.0009542226791381836, 0.4883720874786377),\n",
       " (0.0026932477951049803, 0.4883720874786377)]"
      ]
     },
     "execution_count": 62,
     "metadata": {},
     "output_type": "execute_result"
    }
   ],
   "source": [
    "unlearned_frac3 = [x['modified_metrics']['mean_correct'] for x in metrics_intervention_results3]\n",
    "# control_frac3 = [x['mean_correct'] for x in control_metrics_results3]\n",
    "list(zip(loss_intervention_results3, unlearned_frac3))"
   ]
  },
  {
   "cell_type": "code",
   "execution_count": 78,
   "metadata": {},
   "outputs": [
    {
     "data": {
      "text/plain": [
       "[(-0.0038264989852905273, 0.5174418687820435, 1.0),\n",
       " (0.0005422830581665039, 0.47093021869659424, 1.0),\n",
       " (0.001424694061279297, 0.4651162624359131, 1.0),\n",
       " (0.006346702575683594, 0.45348837971687317, 1.0),\n",
       " (0.01067976951599121, 0.447674423456192, 1.0),\n",
       " (0.01063222885131836, 0.39534884691238403, 1.0),\n",
       " (0.020189642906188965, 0.39534884691238403, 1.0),\n",
       " (0.018984508514404298, 0.34302324056625366, 1.0)]"
      ]
     },
     "execution_count": 78,
     "metadata": {},
     "output_type": "execute_result"
    }
   ],
   "source": [
    "unlearned_frac3 = [x['modified_metrics']['mean_correct'] for x in metrics_intervention_results3]\n",
    "control_frac3 = [x['mean_correct'] for x in control_metrics_results3]\n",
    "list(zip(loss_intervention_results3, unlearned_frac3, control_frac3))"
   ]
  },
  {
   "cell_type": "code",
   "execution_count": 80,
   "metadata": {},
   "outputs": [
    {
     "data": {
      "text/plain": [
       "[(-0.00364229679107666, 0.6220930218696594, 1.0),\n",
       " (-0.0025598764419555663, 0.5465116500854492, 1.0),\n",
       " (-0.005872964859008789, 0.5058139562606812, 1.0),\n",
       " (-0.0036381006240844725, 0.5, 1.0),\n",
       " (-0.002408885955810547, 0.4883720874786377, 1.0),\n",
       " (-0.0025175333023071287, 0.41860464215278625, 1.0),\n",
       " (0.006616711616516113, 0.41860464215278625, 1.0),\n",
       " (0.0055562019348144535, 0.3604651093482971, 1.0)]"
      ]
     },
     "execution_count": 80,
     "metadata": {},
     "output_type": "execute_result"
    }
   ],
   "source": [
    "unlearned_frac3 = [x['modified_metrics']['mean_correct'] for x in metrics_intervention_results3]\n",
    "control_frac3 = [x['mean_correct'] for x in control_metrics_results3]\n",
    "list(zip(loss_intervention_results3, unlearned_frac3, control_frac3))"
   ]
  },
  {
   "cell_type": "code",
   "execution_count": 85,
   "metadata": {},
   "outputs": [
    {
     "name": "stderr",
     "output_type": "stream",
     "text": [
      "  0%|          | 0/688 [00:00<?, ?it/s]"
     ]
    },
    {
     "name": "stderr",
     "output_type": "stream",
     "text": [
      " 93%|█████████▎| 637/688 [02:13<00:12,  3.93it/s]"
     ]
    }
   ],
   "source": [
    "# Do cumulative pass over features\n",
    "\n",
    "loss_intervention_results3 = []\n",
    "metrics_intervention_results3 = []\n",
    "control_metrics_results3 = []\n",
    "\n",
    "all_permutations = list(itertools.permutations([0, 1, 2, 3]))\n",
    "\n",
    "\n",
    "for multiplier in [20]:\n",
    "    ul_tool2.base_activation_store.iterable_dataset = iter(ul_tool2.base_activation_store.dataset)\n",
    "    ablate_params = {\n",
    "        'features_to_ablate': filtered_features_sorted_by_loss2,\n",
    "        'multiplier': multiplier,\n",
    "        'intervention_method': 'clamp_feature_activation',\n",
    "        'permutations': all_permutations,\n",
    "    }\n",
    "    \n",
    "    metrics = ul_tool2.calculate_metrics(**ablate_params)\n",
    "    metrics_intervention_results3.append(metrics)\n",
    "    \n",
    "    loss_added = ul_tool2.compute_loss_added(n_batch=10, **ablate_params)\n",
    "    loss_intervention_results3.append(loss_added)\n",
    "    \n",
    "    control_metrics = ul_tool2.calculate_control_metrics(random_select_one=False, **ablate_params)\n",
    "    control_metrics_results3.append(control_metrics)\n"
   ]
  },
  {
   "cell_type": "code",
   "execution_count": null,
   "metadata": {},
   "outputs": [],
   "source": [
    "metrics_intervention_results3[0].reshape(-1, 24)"
   ]
  },
  {
   "cell_type": "code",
   "execution_count": 84,
   "metadata": {},
   "outputs": [
    {
     "data": {
      "text/plain": [
       "[(0.0022559404373168946, 0.75, 1.0),\n",
       " (0.00037636756896972654, 0.45348837971687317, 1.0),\n",
       " (0.0055562019348144535, 0.3604651093482971, 1.0),\n",
       " (0.018984508514404298, 0.34302324056625366, 1.0),\n",
       " (0.03567800521850586, 0.33139535784721375, 1.0),\n",
       " (0.05340430736541748, 0.3139534890651703, 1.0),\n",
       " (0.07189581394195557, 0.3255814015865326, 0.9666666984558105)]"
      ]
     },
     "execution_count": 84,
     "metadata": {},
     "output_type": "execute_result"
    }
   ],
   "source": [
    "unlearned_frac3 = [x['modified_metrics']['mean_correct'] for x in metrics_intervention_results3]\n",
    "control_frac3 = [x['mean_correct'] for x in control_metrics_results3]\n",
    "list(zip(loss_intervention_results3, unlearned_frac3, control_frac3))"
   ]
  },
  {
   "cell_type": "code",
   "execution_count": null,
   "metadata": {},
   "outputs": [],
   "source": []
  },
  {
   "cell_type": "code",
   "execution_count": null,
   "metadata": {},
   "outputs": [],
   "source": [
    "# loss_intervention_results = []\n",
    "# metrics_intervention_results = []\n",
    "\n",
    "# filtered_good_features = [12663, 4342, 5749, 10355, 1523, 15858, 12273, 14315, 4451, 1611, 10051, 16186, 7983, 6958, 1307, 11019, 6531, 12289]\n",
    "# # filtered_good_features = [12663, 4342, 5749, 10355, 1523, 15858, 12273, 14315, 4451, 1611, 10051, 16186, 7983, 6958, 1307, 11019, 6531, 12289]\n",
    "\n",
    "# all_permutations = list(itertools.permutations([0, 1, 2, 3]))\n",
    "\n",
    "\n",
    "# for feature in filtered_good_features:\n",
    "#     ul_tool2.base_activation_store.iterable_dataset = iter(ul_tool2.base_activation_store.dataset)\n",
    "#     ablate_params = {\n",
    "#         'features_to_ablate': [feature],\n",
    "#         'multiplier': 20,\n",
    "#         'intervention_method': 'scale_feature_activation',\n",
    "#         'permutations': None,\n",
    "#     }\n",
    "    \n",
    "#     metrics = ul_tool2.calculate_metrics(**ablate_params)\n",
    "#     metrics_intervention_results.append(metrics)\n",
    "#     loss_added = ul_tool2.compute_loss_added(n_batch=20, **ablate_params)\n",
    "#     loss_intervention_results.append(loss_added)\n"
   ]
  },
  {
   "cell_type": "code",
   "execution_count": null,
   "metadata": {},
   "outputs": [],
   "source": []
  },
  {
   "cell_type": "code",
   "execution_count": null,
   "metadata": {},
   "outputs": [],
   "source": []
  },
  {
   "cell_type": "code",
   "execution_count": null,
   "metadata": {},
   "outputs": [],
   "source": []
  },
  {
   "cell_type": "code",
   "execution_count": null,
   "metadata": {},
   "outputs": [],
   "source": []
  },
  {
   "cell_type": "code",
   "execution_count": null,
   "metadata": {},
   "outputs": [],
   "source": []
  }
 ],
 "metadata": {
  "kernelspec": {
   "display_name": "Python 3 (ipykernel)",
   "language": "python",
   "name": "python3"
  },
  "language_info": {
   "codemirror_mode": {
    "name": "ipython",
    "version": 3
   },
   "file_extension": ".py",
   "mimetype": "text/x-python",
   "name": "python",
   "nbconvert_exporter": "python",
   "pygments_lexer": "ipython3",
   "version": "3.11.6"
  }
 },
 "nbformat": 4,
 "nbformat_minor": 4
}
