{
 "cells": [
  {
   "cell_type": "code",
   "execution_count": 1,
   "metadata": {},
   "outputs": [],
   "source": [
    "%load_ext autoreload\n",
    "%autoreload 2\n",
    "\n",
    "import sys\n",
    "sys.path.append(\"../\")\n",
    "\n",
    "import torch\n",
    "import random\n",
    "\n",
    "from sae.sparse_autoencoder import load_saved_sae\n",
    "from sae.metrics import model_store_from_sae\n",
    "from unlearning.metrics import convert_wmdp_data_to_prompt, convert_list_of_dicts_to_dict_of_lists\n",
    "from unlearning.tool import UnlearningConfig, SAEUnlearningTool, MCQ_ActivationStoreAnalysis, ActivationStoreAnalysis\n",
    "from unlearning.metrics import modify_and_calculate_metrics, calculate_metrics_list, create_df_from_metrics\n",
    "from unlearning.feature_attribution import calculate_cache\n",
    "\n",
    "from huggingface_hub import hf_hub_download\n",
    "from datasets import load_dataset\n",
    "import numpy as np\n",
    "import pandas as pd\n",
    "import itertools\n",
    "from transformer_lens import utils\n",
    "\n",
    "from jaxtyping import Float\n",
    "from torch import Tensor\n",
    "\n",
    "import einops\n",
    "\n",
    "from pathlib import Path\n",
    "\n",
    "import plotly.express as px\n",
    "from unlearning.var import REPO_ID, SAE_MAPPING\n",
    "import pickle\n",
    "\n",
    "from unlearning.metrics import all_permutations\n",
    "\n",
    "from unlearning.metrics import calculate_metrics_side_effects\n",
    "from unlearning.feature_attribution import find_topk_features_given_prompt, test_topk_features\n"
   ]
  },
  {
   "cell_type": "code",
   "execution_count": 3,
   "metadata": {},
   "outputs": [
    {
     "data": {
      "application/vnd.jupyter.widget-view+json": {
       "model_id": "e04405531e21477e8588a1bd5ec37711",
       "version_major": 2,
       "version_minor": 0
      },
      "text/plain": [
       "config.json:   0%|          | 0.00/627 [00:00<?, ?B/s]"
      ]
     },
     "metadata": {},
     "output_type": "display_data"
    },
    {
     "data": {
      "application/vnd.jupyter.widget-view+json": {
       "model_id": "9b776d3538604b8faa02003e839a3595",
       "version_major": 2,
       "version_minor": 0
      },
      "text/plain": [
       "model.safetensors.index.json:   0%|          | 0.00/13.5k [00:00<?, ?B/s]"
      ]
     },
     "metadata": {},
     "output_type": "display_data"
    },
    {
     "data": {
      "application/vnd.jupyter.widget-view+json": {
       "model_id": "b4b4fbe87ce7493f87b5ce4bc7d33b4d",
       "version_major": 2,
       "version_minor": 0
      },
      "text/plain": [
       "Downloading shards:   0%|          | 0/2 [00:00<?, ?it/s]"
      ]
     },
     "metadata": {},
     "output_type": "display_data"
    },
    {
     "data": {
      "application/vnd.jupyter.widget-view+json": {
       "model_id": "94d0e2280a3648eb85e43816fba2a511",
       "version_major": 2,
       "version_minor": 0
      },
      "text/plain": [
       "model-00001-of-00002.safetensors:   0%|          | 0.00/4.95G [00:00<?, ?B/s]"
      ]
     },
     "metadata": {},
     "output_type": "display_data"
    },
    {
     "data": {
      "application/vnd.jupyter.widget-view+json": {
       "model_id": "c2b73a1383e9428e82afaedd0a0a7670",
       "version_major": 2,
       "version_minor": 0
      },
      "text/plain": [
       "model-00002-of-00002.safetensors:   0%|          | 0.00/67.1M [00:00<?, ?B/s]"
      ]
     },
     "metadata": {},
     "output_type": "display_data"
    },
    {
     "name": "stderr",
     "output_type": "stream",
     "text": [
      "Gemma's activation function should be approximate GeLU and not exact GeLU.\n",
      "Changing the activation function to `gelu_pytorch_tanh`.if you want to use the legacy `gelu`, edit the `model.config` to set `hidden_activation=gelu`   instead of `hidden_act`. See https://github.com/huggingface/transformers/pull/29402 for more details.\n"
     ]
    },
    {
     "data": {
      "application/vnd.jupyter.widget-view+json": {
       "model_id": "bf05bcad160e475687f7b0a54b17b328",
       "version_major": 2,
       "version_minor": 0
      },
      "text/plain": [
       "Loading checkpoint shards:   0%|          | 0/2 [00:00<?, ?it/s]"
      ]
     },
     "metadata": {},
     "output_type": "display_data"
    },
    {
     "data": {
      "application/vnd.jupyter.widget-view+json": {
       "model_id": "95f76608bfe3424d97d263b775621cab",
       "version_major": 2,
       "version_minor": 0
      },
      "text/plain": [
       "generation_config.json:   0%|          | 0.00/137 [00:00<?, ?B/s]"
      ]
     },
     "metadata": {},
     "output_type": "display_data"
    },
    {
     "data": {
      "application/vnd.jupyter.widget-view+json": {
       "model_id": "3dd415b1f5af4b729f3c8f8ef6d2fd7a",
       "version_major": 2,
       "version_minor": 0
      },
      "text/plain": [
       "tokenizer_config.json:   0%|          | 0.00/34.2k [00:00<?, ?B/s]"
      ]
     },
     "metadata": {},
     "output_type": "display_data"
    },
    {
     "data": {
      "application/vnd.jupyter.widget-view+json": {
       "model_id": "7395809d16c84783ae0c38a4449733a6",
       "version_major": 2,
       "version_minor": 0
      },
      "text/plain": [
       "tokenizer.model:   0%|          | 0.00/4.24M [00:00<?, ?B/s]"
      ]
     },
     "metadata": {},
     "output_type": "display_data"
    },
    {
     "data": {
      "application/vnd.jupyter.widget-view+json": {
       "model_id": "d50c64734f0241e5baff4de1488fec3f",
       "version_major": 2,
       "version_minor": 0
      },
      "text/plain": [
       "tokenizer.json:   0%|          | 0.00/17.5M [00:00<?, ?B/s]"
      ]
     },
     "metadata": {},
     "output_type": "display_data"
    },
    {
     "data": {
      "application/vnd.jupyter.widget-view+json": {
       "model_id": "be867f4d02d34d4381d9280679d3acce",
       "version_major": 2,
       "version_minor": 0
      },
      "text/plain": [
       "special_tokens_map.json:   0%|          | 0.00/636 [00:00<?, ?B/s]"
      ]
     },
     "metadata": {},
     "output_type": "display_data"
    },
    {
     "name": "stderr",
     "output_type": "stream",
     "text": [
      "WARNING:root:You are not using LayerNorm, so the writing weights can't be centered! Skipping\n"
     ]
    },
    {
     "name": "stdout",
     "output_type": "stream",
     "text": [
      "Loaded pretrained model gemma-2b-it into HookedTransformer\n",
      "Moving model to device:  cuda\n"
     ]
    }
   ],
   "source": [
    "# Load main SAE for gemma-2b-it\n",
    "filename = hf_hub_download(repo_id=REPO_ID, filename=SAE_MAPPING['gemma_2b_it_resid_pre_9'])\n",
    "sae = load_saved_sae(filename)\n",
    "model = model_store_from_sae(sae)"
   ]
  },
  {
   "cell_type": "code",
   "execution_count": 4,
   "metadata": {},
   "outputs": [
    {
     "data": {
      "application/vnd.jupyter.widget-view+json": {
       "model_id": "32dfb14dd0cf434a9f61d460cb149527",
       "version_major": 2,
       "version_minor": 0
      },
      "text/plain": [
       "Downloading readme:   0%|          | 0.00/4.64k [00:00<?, ?B/s]"
      ]
     },
     "metadata": {},
     "output_type": "display_data"
    },
    {
     "data": {
      "application/vnd.jupyter.widget-view+json": {
       "model_id": "d0a72ca53bde429aa82e6a1585b24eea",
       "version_major": 2,
       "version_minor": 0
      },
      "text/plain": [
       "Downloading data:   0%|          | 0.00/258k [00:00<?, ?B/s]"
      ]
     },
     "metadata": {},
     "output_type": "display_data"
    },
    {
     "data": {
      "application/vnd.jupyter.widget-view+json": {
       "model_id": "a3abce2a3f474168bdb246dd8d91859a",
       "version_major": 2,
       "version_minor": 0
      },
      "text/plain": [
       "Generating test split:   0%|          | 0/1273 [00:00<?, ? examples/s]"
      ]
     },
     "metadata": {},
     "output_type": "display_data"
    }
   ],
   "source": [
    "# pass in the dataset as an argument so no need to load in everytime\n",
    "dataset = load_dataset(\"cais/wmdp\", \"wmdp-bio\", split='test')\n",
    "\n",
    "answers = [x['answer'] for x in dataset]\n",
    "questions = [x['question'] for x in dataset]\n",
    "choices_list = [x['choices'] for x in dataset]\n",
    "\n",
    "prompts = [convert_wmdp_data_to_prompt(question, choices, prompt_format=None)\n",
    "           for question, choices in zip(questions, choices_list)]\n"
   ]
  },
  {
   "cell_type": "code",
   "execution_count": 21,
   "metadata": {},
   "outputs": [],
   "source": [
    "# Hyper parameters for automation process\n",
    "question_ids_correct = np.genfromtxt(\"../data/question_ids/gemma-2b-it/all/wmdp-bio_correct.csv\", dtype=int)\n",
    "questions_ids_correct_train = np.genfromtxt(\"../data/question_ids/gemma-2b-it/train/wmdp-bio_correct.csv\", dtype=int)\n",
    "topk_per_prompt = 20\n",
    "\n",
    "unlearning_dataset = ['wmdp-bio']\n",
    "side_effect_dataset_names =  ['high_school_us_history', 'college_computer_science', 'high_school_geography', 'human_aging', 'college_biology']\n",
    "all_dataset_names = ['loss_added', 'wmdp-bio', 'high_school_us_history', 'college_computer_science', 'high_school_geography', 'human_aging', 'college_biology']\n"
   ]
  },
  {
   "cell_type": "markdown",
   "metadata": {},
   "source": [
    "## First get the TopK features by attribution per prompt and find the features that modify the probability"
   ]
  },
  {
   "cell_type": "code",
   "execution_count": 9,
   "metadata": {
    "scrolled": true
   },
   "outputs": [
    {
     "name": "stdout",
     "output_type": "stream",
     "text": [
      "Question ID: 1147, 1/86\n"
     ]
    },
    {
     "name": "stderr",
     "output_type": "stream",
     "text": [
      "100%|██████████| 20/20 [00:18<00:00,  1.05it/s]\n"
     ]
    },
    {
     "name": "stdout",
     "output_type": "stream",
     "text": [
      "Question ID: 357, 2/86\n"
     ]
    },
    {
     "name": "stderr",
     "output_type": "stream",
     "text": [
      "100%|██████████| 18/18 [00:21<00:00,  1.19s/it]\n"
     ]
    },
    {
     "name": "stdout",
     "output_type": "stream",
     "text": [
      "Question ID: 800, 3/86\n"
     ]
    },
    {
     "name": "stderr",
     "output_type": "stream",
     "text": [
      "100%|██████████| 20/20 [00:19<00:00,  1.04it/s]\n"
     ]
    },
    {
     "name": "stdout",
     "output_type": "stream",
     "text": [
      "Question ID: 825, 4/86\n"
     ]
    },
    {
     "name": "stderr",
     "output_type": "stream",
     "text": [
      "100%|██████████| 19/19 [00:18<00:00,  1.03it/s]\n"
     ]
    },
    {
     "name": "stdout",
     "output_type": "stream",
     "text": [
      "Question ID: 1015, 5/86\n"
     ]
    },
    {
     "name": "stderr",
     "output_type": "stream",
     "text": [
      "100%|██████████| 19/19 [00:18<00:00,  1.04it/s]\n"
     ]
    },
    {
     "name": "stdout",
     "output_type": "stream",
     "text": [
      "Question ID: 837, 6/86\n"
     ]
    },
    {
     "name": "stderr",
     "output_type": "stream",
     "text": [
      "100%|██████████| 15/15 [00:14<00:00,  1.06it/s]\n"
     ]
    },
    {
     "name": "stdout",
     "output_type": "stream",
     "text": [
      "Question ID: 542, 7/86\n"
     ]
    },
    {
     "name": "stderr",
     "output_type": "stream",
     "text": [
      "100%|██████████| 18/18 [00:17<00:00,  1.02it/s]\n"
     ]
    },
    {
     "name": "stdout",
     "output_type": "stream",
     "text": [
      "Question ID: 588, 8/86\n"
     ]
    },
    {
     "name": "stderr",
     "output_type": "stream",
     "text": [
      "100%|██████████| 19/19 [00:17<00:00,  1.10it/s]\n"
     ]
    },
    {
     "name": "stdout",
     "output_type": "stream",
     "text": [
      "Question ID: 541, 9/86\n"
     ]
    },
    {
     "name": "stderr",
     "output_type": "stream",
     "text": [
      "100%|██████████| 16/16 [00:16<00:00,  1.04s/it]\n"
     ]
    },
    {
     "name": "stdout",
     "output_type": "stream",
     "text": [
      "Question ID: 82, 10/86\n"
     ]
    },
    {
     "name": "stderr",
     "output_type": "stream",
     "text": [
      "100%|██████████| 18/18 [00:17<00:00,  1.05it/s]\n"
     ]
    },
    {
     "name": "stdout",
     "output_type": "stream",
     "text": [
      "Question ID: 555, 11/86\n"
     ]
    },
    {
     "name": "stderr",
     "output_type": "stream",
     "text": [
      "100%|██████████| 19/19 [00:18<00:00,  1.03it/s]\n"
     ]
    },
    {
     "name": "stdout",
     "output_type": "stream",
     "text": [
      "Question ID: 320, 12/86\n"
     ]
    },
    {
     "name": "stderr",
     "output_type": "stream",
     "text": [
      "100%|██████████| 18/18 [00:16<00:00,  1.12it/s]\n"
     ]
    },
    {
     "name": "stdout",
     "output_type": "stream",
     "text": [
      "Question ID: 778, 13/86\n"
     ]
    },
    {
     "name": "stderr",
     "output_type": "stream",
     "text": [
      "100%|██████████| 20/20 [00:19<00:00,  1.03it/s]\n"
     ]
    },
    {
     "name": "stdout",
     "output_type": "stream",
     "text": [
      "Question ID: 382, 14/86\n"
     ]
    },
    {
     "name": "stderr",
     "output_type": "stream",
     "text": [
      "100%|██████████| 18/18 [00:16<00:00,  1.08it/s]\n"
     ]
    },
    {
     "name": "stdout",
     "output_type": "stream",
     "text": [
      "Question ID: 217, 15/86\n"
     ]
    },
    {
     "name": "stderr",
     "output_type": "stream",
     "text": [
      "100%|██████████| 19/19 [00:18<00:00,  1.02it/s]\n"
     ]
    },
    {
     "name": "stdout",
     "output_type": "stream",
     "text": [
      "Question ID: 649, 16/86\n"
     ]
    },
    {
     "name": "stderr",
     "output_type": "stream",
     "text": [
      "100%|██████████| 18/18 [00:16<00:00,  1.06it/s]\n"
     ]
    },
    {
     "name": "stdout",
     "output_type": "stream",
     "text": [
      "Question ID: 737, 17/86\n"
     ]
    },
    {
     "name": "stderr",
     "output_type": "stream",
     "text": [
      "100%|██████████| 18/18 [00:16<00:00,  1.08it/s]\n"
     ]
    },
    {
     "name": "stdout",
     "output_type": "stream",
     "text": [
      "Question ID: 634, 18/86\n"
     ]
    },
    {
     "name": "stderr",
     "output_type": "stream",
     "text": [
      "100%|██████████| 18/18 [00:16<00:00,  1.07it/s]\n"
     ]
    },
    {
     "name": "stdout",
     "output_type": "stream",
     "text": [
      "Question ID: 324, 19/86\n"
     ]
    },
    {
     "name": "stderr",
     "output_type": "stream",
     "text": [
      "100%|██████████| 18/18 [00:23<00:00,  1.28s/it]\n"
     ]
    },
    {
     "name": "stdout",
     "output_type": "stream",
     "text": [
      "Question ID: 730, 20/86\n"
     ]
    },
    {
     "name": "stderr",
     "output_type": "stream",
     "text": [
      "100%|██████████| 18/18 [00:17<00:00,  1.05it/s]\n"
     ]
    },
    {
     "name": "stdout",
     "output_type": "stream",
     "text": [
      "Question ID: 353, 21/86\n"
     ]
    },
    {
     "name": "stderr",
     "output_type": "stream",
     "text": [
      "100%|██████████| 19/19 [00:23<00:00,  1.25s/it]\n"
     ]
    },
    {
     "name": "stdout",
     "output_type": "stream",
     "text": [
      "Question ID: 243, 22/86\n"
     ]
    },
    {
     "name": "stderr",
     "output_type": "stream",
     "text": [
      "100%|██████████| 19/19 [00:17<00:00,  1.06it/s]\n"
     ]
    },
    {
     "name": "stdout",
     "output_type": "stream",
     "text": [
      "Question ID: 180, 23/86\n"
     ]
    },
    {
     "name": "stderr",
     "output_type": "stream",
     "text": [
      "100%|██████████| 17/17 [00:15<00:00,  1.07it/s]\n"
     ]
    },
    {
     "name": "stdout",
     "output_type": "stream",
     "text": [
      "Question ID: 770, 24/86\n"
     ]
    },
    {
     "name": "stderr",
     "output_type": "stream",
     "text": [
      "100%|██████████| 17/17 [00:16<00:00,  1.06it/s]\n"
     ]
    },
    {
     "name": "stdout",
     "output_type": "stream",
     "text": [
      "Question ID: 683, 25/86\n"
     ]
    },
    {
     "name": "stderr",
     "output_type": "stream",
     "text": [
      "100%|██████████| 18/18 [00:16<00:00,  1.07it/s]\n"
     ]
    },
    {
     "name": "stdout",
     "output_type": "stream",
     "text": [
      "Question ID: 360, 26/86\n"
     ]
    },
    {
     "name": "stderr",
     "output_type": "stream",
     "text": [
      "100%|██████████| 19/19 [00:18<00:00,  1.03it/s]\n"
     ]
    },
    {
     "name": "stdout",
     "output_type": "stream",
     "text": [
      "Question ID: 348, 27/86\n"
     ]
    },
    {
     "name": "stderr",
     "output_type": "stream",
     "text": [
      "100%|██████████| 19/19 [00:18<00:00,  1.04it/s]\n"
     ]
    },
    {
     "name": "stdout",
     "output_type": "stream",
     "text": [
      "Question ID: 617, 28/86\n"
     ]
    },
    {
     "name": "stderr",
     "output_type": "stream",
     "text": [
      "100%|██████████| 19/19 [00:22<00:00,  1.19s/it]\n"
     ]
    },
    {
     "name": "stdout",
     "output_type": "stream",
     "text": [
      "Question ID: 864, 29/86\n"
     ]
    },
    {
     "name": "stderr",
     "output_type": "stream",
     "text": [
      "100%|██████████| 19/19 [00:18<00:00,  1.05it/s]\n"
     ]
    },
    {
     "name": "stdout",
     "output_type": "stream",
     "text": [
      "Question ID: 367, 30/86\n"
     ]
    },
    {
     "name": "stderr",
     "output_type": "stream",
     "text": [
      "100%|██████████| 17/17 [00:15<00:00,  1.08it/s]\n"
     ]
    },
    {
     "name": "stdout",
     "output_type": "stream",
     "text": [
      "Question ID: 729, 31/86\n"
     ]
    },
    {
     "name": "stderr",
     "output_type": "stream",
     "text": [
      "100%|██████████| 19/19 [00:17<00:00,  1.06it/s]\n"
     ]
    },
    {
     "name": "stdout",
     "output_type": "stream",
     "text": [
      "Question ID: 354, 32/86\n"
     ]
    },
    {
     "name": "stderr",
     "output_type": "stream",
     "text": [
      "100%|██████████| 17/17 [00:16<00:00,  1.05it/s]\n"
     ]
    },
    {
     "name": "stdout",
     "output_type": "stream",
     "text": [
      "Question ID: 89, 33/86\n"
     ]
    },
    {
     "name": "stderr",
     "output_type": "stream",
     "text": [
      "100%|██████████| 17/17 [00:20<00:00,  1.21s/it]\n"
     ]
    },
    {
     "name": "stdout",
     "output_type": "stream",
     "text": [
      "Question ID: 777, 34/86\n"
     ]
    },
    {
     "name": "stderr",
     "output_type": "stream",
     "text": [
      "100%|██████████| 18/18 [00:17<00:00,  1.01it/s]\n"
     ]
    },
    {
     "name": "stdout",
     "output_type": "stream",
     "text": [
      "Question ID: 826, 35/86\n"
     ]
    },
    {
     "name": "stderr",
     "output_type": "stream",
     "text": [
      "100%|██████████| 13/13 [00:12<00:00,  1.04it/s]\n"
     ]
    },
    {
     "name": "stdout",
     "output_type": "stream",
     "text": [
      "Question ID: 843, 36/86\n"
     ]
    },
    {
     "name": "stderr",
     "output_type": "stream",
     "text": [
      "100%|██████████| 18/18 [00:21<00:00,  1.21s/it]\n"
     ]
    },
    {
     "name": "stdout",
     "output_type": "stream",
     "text": [
      "Question ID: 1070, 37/86\n"
     ]
    },
    {
     "name": "stderr",
     "output_type": "stream",
     "text": [
      "100%|██████████| 17/17 [00:15<00:00,  1.09it/s]\n"
     ]
    },
    {
     "name": "stdout",
     "output_type": "stream",
     "text": [
      "Question ID: 1129, 38/86\n"
     ]
    },
    {
     "name": "stderr",
     "output_type": "stream",
     "text": [
      "100%|██████████| 17/17 [00:22<00:00,  1.32s/it]\n"
     ]
    },
    {
     "name": "stdout",
     "output_type": "stream",
     "text": [
      "Question ID: 258, 39/86\n"
     ]
    },
    {
     "name": "stderr",
     "output_type": "stream",
     "text": [
      "100%|██████████| 18/18 [00:16<00:00,  1.08it/s]\n"
     ]
    },
    {
     "name": "stdout",
     "output_type": "stream",
     "text": [
      "Question ID: 218, 40/86\n"
     ]
    },
    {
     "name": "stderr",
     "output_type": "stream",
     "text": [
      "100%|██████████| 17/17 [00:16<00:00,  1.06it/s]\n"
     ]
    },
    {
     "name": "stdout",
     "output_type": "stream",
     "text": [
      "Question ID: 172, 41/86\n"
     ]
    },
    {
     "name": "stderr",
     "output_type": "stream",
     "text": [
      "100%|██████████| 14/14 [00:13<00:00,  1.07it/s]\n"
     ]
    },
    {
     "name": "stdout",
     "output_type": "stream",
     "text": [
      "Question ID: 600, 42/86\n"
     ]
    },
    {
     "name": "stderr",
     "output_type": "stream",
     "text": [
      "100%|██████████| 17/17 [00:16<00:00,  1.01it/s]\n"
     ]
    },
    {
     "name": "stdout",
     "output_type": "stream",
     "text": [
      "Question ID: 898, 43/86\n"
     ]
    },
    {
     "name": "stderr",
     "output_type": "stream",
     "text": [
      "100%|██████████| 17/17 [00:16<00:00,  1.06it/s]\n"
     ]
    },
    {
     "name": "stdout",
     "output_type": "stream",
     "text": [
      "Question ID: 776, 44/86\n"
     ]
    },
    {
     "name": "stderr",
     "output_type": "stream",
     "text": [
      "100%|██████████| 15/15 [00:14<00:00,  1.02it/s]\n"
     ]
    },
    {
     "name": "stdout",
     "output_type": "stream",
     "text": [
      "Question ID: 207, 45/86\n"
     ]
    },
    {
     "name": "stderr",
     "output_type": "stream",
     "text": [
      "100%|██████████| 17/17 [00:17<00:00,  1.00s/it]\n"
     ]
    },
    {
     "name": "stdout",
     "output_type": "stream",
     "text": [
      "Question ID: 1206, 46/86\n"
     ]
    },
    {
     "name": "stderr",
     "output_type": "stream",
     "text": [
      "100%|██████████| 18/18 [00:17<00:00,  1.01it/s]\n"
     ]
    },
    {
     "name": "stdout",
     "output_type": "stream",
     "text": [
      "Question ID: 774, 47/86\n"
     ]
    },
    {
     "name": "stderr",
     "output_type": "stream",
     "text": [
      "100%|██████████| 18/18 [00:17<00:00,  1.04it/s]\n"
     ]
    },
    {
     "name": "stdout",
     "output_type": "stream",
     "text": [
      "Question ID: 949, 48/86\n"
     ]
    },
    {
     "name": "stderr",
     "output_type": "stream",
     "text": [
      "100%|██████████| 20/20 [00:19<00:00,  1.05it/s]\n"
     ]
    },
    {
     "name": "stdout",
     "output_type": "stream",
     "text": [
      "Question ID: 1255, 49/86\n"
     ]
    },
    {
     "name": "stderr",
     "output_type": "stream",
     "text": [
      "100%|██████████| 17/17 [00:16<00:00,  1.04it/s]\n"
     ]
    },
    {
     "name": "stdout",
     "output_type": "stream",
     "text": [
      "Question ID: 884, 50/86\n"
     ]
    },
    {
     "name": "stderr",
     "output_type": "stream",
     "text": [
      "100%|██████████| 18/18 [00:22<00:00,  1.23s/it]\n"
     ]
    },
    {
     "name": "stdout",
     "output_type": "stream",
     "text": [
      "Question ID: 262, 51/86\n"
     ]
    },
    {
     "name": "stderr",
     "output_type": "stream",
     "text": [
      "100%|██████████| 15/15 [00:13<00:00,  1.09it/s]\n"
     ]
    },
    {
     "name": "stdout",
     "output_type": "stream",
     "text": [
      "Question ID: 1166, 52/86\n"
     ]
    },
    {
     "name": "stderr",
     "output_type": "stream",
     "text": [
      "100%|██████████| 14/14 [00:12<00:00,  1.08it/s]\n"
     ]
    },
    {
     "name": "stdout",
     "output_type": "stream",
     "text": [
      "Question ID: 513, 53/86\n"
     ]
    },
    {
     "name": "stderr",
     "output_type": "stream",
     "text": [
      "100%|██████████| 17/17 [00:16<00:00,  1.05it/s]\n"
     ]
    },
    {
     "name": "stdout",
     "output_type": "stream",
     "text": [
      "Question ID: 1151, 54/86\n"
     ]
    },
    {
     "name": "stderr",
     "output_type": "stream",
     "text": [
      "100%|██████████| 16/16 [00:15<00:00,  1.06it/s]\n"
     ]
    },
    {
     "name": "stdout",
     "output_type": "stream",
     "text": [
      "Question ID: 965, 55/86\n"
     ]
    },
    {
     "name": "stderr",
     "output_type": "stream",
     "text": [
      "100%|██████████| 13/13 [00:12<00:00,  1.05it/s]\n"
     ]
    },
    {
     "name": "stdout",
     "output_type": "stream",
     "text": [
      "Question ID: 1251, 56/86\n"
     ]
    },
    {
     "name": "stderr",
     "output_type": "stream",
     "text": [
      "100%|██████████| 17/17 [00:16<00:00,  1.03it/s]\n"
     ]
    },
    {
     "name": "stdout",
     "output_type": "stream",
     "text": [
      "Question ID: 371, 57/86\n"
     ]
    },
    {
     "name": "stderr",
     "output_type": "stream",
     "text": [
      "100%|██████████| 15/15 [00:13<00:00,  1.09it/s]\n"
     ]
    },
    {
     "name": "stdout",
     "output_type": "stream",
     "text": [
      "Question ID: 612, 58/86\n"
     ]
    },
    {
     "name": "stderr",
     "output_type": "stream",
     "text": [
      "100%|██████████| 16/16 [00:15<00:00,  1.05it/s]\n"
     ]
    },
    {
     "name": "stdout",
     "output_type": "stream",
     "text": [
      "Question ID: 663, 59/86\n"
     ]
    },
    {
     "name": "stderr",
     "output_type": "stream",
     "text": [
      "100%|██████████| 18/18 [00:16<00:00,  1.08it/s]\n"
     ]
    },
    {
     "name": "stdout",
     "output_type": "stream",
     "text": [
      "Question ID: 636, 60/86\n"
     ]
    },
    {
     "name": "stderr",
     "output_type": "stream",
     "text": [
      "100%|██████████| 17/17 [00:16<00:00,  1.06it/s]\n"
     ]
    },
    {
     "name": "stdout",
     "output_type": "stream",
     "text": [
      "Question ID: 682, 61/86\n"
     ]
    },
    {
     "name": "stderr",
     "output_type": "stream",
     "text": [
      "100%|██████████| 15/15 [00:14<00:00,  1.05it/s]\n"
     ]
    },
    {
     "name": "stdout",
     "output_type": "stream",
     "text": [
      "Question ID: 330, 62/86\n"
     ]
    },
    {
     "name": "stderr",
     "output_type": "stream",
     "text": [
      "100%|██████████| 17/17 [00:16<00:00,  1.05it/s]\n"
     ]
    },
    {
     "name": "stdout",
     "output_type": "stream",
     "text": [
      "Question ID: 1207, 63/86\n"
     ]
    },
    {
     "name": "stderr",
     "output_type": "stream",
     "text": [
      "100%|██████████| 14/14 [00:13<00:00,  1.04it/s]\n"
     ]
    },
    {
     "name": "stdout",
     "output_type": "stream",
     "text": [
      "Question ID: 925, 64/86\n"
     ]
    },
    {
     "name": "stderr",
     "output_type": "stream",
     "text": [
      "100%|██████████| 15/15 [00:13<00:00,  1.07it/s]\n"
     ]
    },
    {
     "name": "stdout",
     "output_type": "stream",
     "text": [
      "Question ID: 366, 65/86\n"
     ]
    },
    {
     "name": "stderr",
     "output_type": "stream",
     "text": [
      "100%|██████████| 17/17 [00:15<00:00,  1.07it/s]\n"
     ]
    },
    {
     "name": "stdout",
     "output_type": "stream",
     "text": [
      "Question ID: 559, 66/86\n"
     ]
    },
    {
     "name": "stderr",
     "output_type": "stream",
     "text": [
      "100%|██████████| 20/20 [00:19<00:00,  1.02it/s]\n"
     ]
    },
    {
     "name": "stdout",
     "output_type": "stream",
     "text": [
      "Question ID: 744, 67/86\n"
     ]
    },
    {
     "name": "stderr",
     "output_type": "stream",
     "text": [
      "100%|██████████| 17/17 [00:15<00:00,  1.09it/s]\n"
     ]
    },
    {
     "name": "stdout",
     "output_type": "stream",
     "text": [
      "Question ID: 190, 68/86\n"
     ]
    },
    {
     "name": "stderr",
     "output_type": "stream",
     "text": [
      "100%|██████████| 18/18 [00:16<00:00,  1.11it/s]\n"
     ]
    },
    {
     "name": "stdout",
     "output_type": "stream",
     "text": [
      "Question ID: 592, 69/86\n"
     ]
    },
    {
     "name": "stderr",
     "output_type": "stream",
     "text": [
      "100%|██████████| 14/14 [00:18<00:00,  1.33s/it]\n"
     ]
    },
    {
     "name": "stdout",
     "output_type": "stream",
     "text": [
      "Question ID: 652, 70/86\n"
     ]
    },
    {
     "name": "stderr",
     "output_type": "stream",
     "text": [
      "100%|██████████| 15/15 [00:14<00:00,  1.06it/s]\n"
     ]
    },
    {
     "name": "stdout",
     "output_type": "stream",
     "text": [
      "Question ID: 265, 71/86\n"
     ]
    },
    {
     "name": "stderr",
     "output_type": "stream",
     "text": [
      "100%|██████████| 14/14 [00:13<00:00,  1.01it/s]\n"
     ]
    },
    {
     "name": "stdout",
     "output_type": "stream",
     "text": [
      "Question ID: 963, 72/86\n"
     ]
    },
    {
     "name": "stderr",
     "output_type": "stream",
     "text": [
      "100%|██████████| 13/13 [00:11<00:00,  1.09it/s]\n"
     ]
    },
    {
     "name": "stdout",
     "output_type": "stream",
     "text": [
      "Question ID: 689, 73/86\n"
     ]
    },
    {
     "name": "stderr",
     "output_type": "stream",
     "text": [
      "100%|██████████| 15/15 [00:13<00:00,  1.08it/s]\n"
     ]
    },
    {
     "name": "stdout",
     "output_type": "stream",
     "text": [
      "Question ID: 751, 74/86\n"
     ]
    },
    {
     "name": "stderr",
     "output_type": "stream",
     "text": [
      "100%|██████████| 15/15 [00:14<00:00,  1.05it/s]\n"
     ]
    },
    {
     "name": "stdout",
     "output_type": "stream",
     "text": [
      "Question ID: 630, 75/86\n"
     ]
    },
    {
     "name": "stderr",
     "output_type": "stream",
     "text": [
      "100%|██████████| 14/14 [00:13<00:00,  1.07it/s]\n"
     ]
    },
    {
     "name": "stdout",
     "output_type": "stream",
     "text": [
      "Question ID: 375, 76/86\n"
     ]
    },
    {
     "name": "stderr",
     "output_type": "stream",
     "text": [
      "100%|██████████| 15/15 [00:13<00:00,  1.11it/s]\n"
     ]
    },
    {
     "name": "stdout",
     "output_type": "stream",
     "text": [
      "Question ID: 261, 77/86\n"
     ]
    },
    {
     "name": "stderr",
     "output_type": "stream",
     "text": [
      "100%|██████████| 14/14 [00:18<00:00,  1.30s/it]\n"
     ]
    },
    {
     "name": "stdout",
     "output_type": "stream",
     "text": [
      "Question ID: 1165, 78/86\n"
     ]
    },
    {
     "name": "stderr",
     "output_type": "stream",
     "text": [
      "100%|██████████| 15/15 [00:14<00:00,  1.06it/s]\n"
     ]
    },
    {
     "name": "stdout",
     "output_type": "stream",
     "text": [
      "Question ID: 192, 79/86\n"
     ]
    },
    {
     "name": "stderr",
     "output_type": "stream",
     "text": [
      "100%|██████████| 16/16 [00:15<00:00,  1.07it/s]\n"
     ]
    },
    {
     "name": "stdout",
     "output_type": "stream",
     "text": [
      "Question ID: 91, 80/86\n"
     ]
    },
    {
     "name": "stderr",
     "output_type": "stream",
     "text": [
      "100%|██████████| 15/15 [00:13<00:00,  1.09it/s]\n"
     ]
    },
    {
     "name": "stdout",
     "output_type": "stream",
     "text": [
      "Question ID: 645, 81/86\n"
     ]
    },
    {
     "name": "stderr",
     "output_type": "stream",
     "text": [
      "100%|██████████| 9/9 [00:08<00:00,  1.11it/s]\n"
     ]
    },
    {
     "name": "stdout",
     "output_type": "stream",
     "text": [
      "Question ID: 656, 82/86\n"
     ]
    },
    {
     "name": "stderr",
     "output_type": "stream",
     "text": [
      "100%|██████████| 16/16 [00:14<00:00,  1.09it/s]\n"
     ]
    },
    {
     "name": "stdout",
     "output_type": "stream",
     "text": [
      "Question ID: 1159, 83/86\n"
     ]
    },
    {
     "name": "stderr",
     "output_type": "stream",
     "text": [
      "100%|██████████| 17/17 [00:17<00:00,  1.01s/it]\n"
     ]
    },
    {
     "name": "stdout",
     "output_type": "stream",
     "text": [
      "Question ID: 591, 84/86\n"
     ]
    },
    {
     "name": "stderr",
     "output_type": "stream",
     "text": [
      "100%|██████████| 13/13 [00:18<00:00,  1.44s/it]\n"
     ]
    },
    {
     "name": "stdout",
     "output_type": "stream",
     "text": [
      "Question ID: 352, 85/86\n"
     ]
    },
    {
     "name": "stderr",
     "output_type": "stream",
     "text": [
      "100%|██████████| 14/14 [00:14<00:00,  1.04s/it]\n"
     ]
    },
    {
     "name": "stdout",
     "output_type": "stream",
     "text": [
      "Question ID: 841, 86/86\n"
     ]
    },
    {
     "name": "stderr",
     "output_type": "stream",
     "text": [
      "100%|██████████| 16/16 [00:14<00:00,  1.10it/s]\n"
     ]
    }
   ],
   "source": [
    "feature_per_prompt = {}\n",
    "\n",
    "known_good_features = []\n",
    "\n",
    "question_ids = questions_ids_correct_train\n",
    "\n",
    "for j, question_id in enumerate(question_ids):\n",
    "\n",
    "    question_id = int(question_id)\n",
    "    print(f\"Question ID: {question_id}, {j + 1}/{len(question_ids)}\")\n",
    "    \n",
    "    prompt = prompts[question_id]\n",
    "    choices = choices_list[question_id]\n",
    "    answer = answers[question_id]\n",
    "    question = questions[question_id]\n",
    "\n",
    "    topk_features_unique, feature_attributions, topk_features, all_feature_activations, logit_diff_grad, topk_feature_attributions = find_topk_features_given_prompt(model,\n",
    "                                                           prompt,\n",
    "                                                           question,\n",
    "                                                           choices,\n",
    "                                                           answer,\n",
    "                                                           sae,\n",
    "                                                           hook_point=sae.cfg.hook_point)\n",
    "\n",
    "    intervention_results, feature_ids_to_probs, good_features, partially_unlearned = test_topk_features(model,\n",
    "                                                                                   sae,\n",
    "                                                                                   question_id,\n",
    "                                                                                   topk_features_unique[:topk_per_prompt],\n",
    "                                                                                   known_good_features=known_good_features,\n",
    "                                                                                   multiplier=30)\n",
    "    \n",
    "\n",
    "    feature_per_prompt[question_id] = good_features\n",
    "    \n",
    "    known_good_features = list(set([item for sublist in feature_per_prompt.values() for item in sublist]))\n",
    "\n",
    "    "
   ]
  },
  {
   "cell_type": "code",
   "execution_count": 51,
   "metadata": {},
   "outputs": [
    {
     "data": {
      "text/plain": [
       "(104,)"
      ]
     },
     "execution_count": 51,
     "metadata": {},
     "output_type": "execute_result"
    }
   ],
   "source": [
    "np.array(known_good_features).shape"
   ]
  },
  {
   "cell_type": "code",
   "execution_count": 10,
   "metadata": {},
   "outputs": [],
   "source": [
    "np.savetxt(\"known_good_features_gemma1_2b_train.csv\", np.array(known_good_features))"
   ]
  },
  {
   "cell_type": "markdown",
   "metadata": {},
   "source": [
    "## Calculate side-effects"
   ]
  },
  {
   "cell_type": "code",
   "execution_count": 15,
   "metadata": {},
   "outputs": [],
   "source": [
    "known_good_features = np.genfromtxt(\"../eoin_notebooks/known_good_features_gemma1_2b_all.csv\")"
   ]
  },
  {
   "cell_type": "code",
   "execution_count": 53,
   "metadata": {},
   "outputs": [
    {
     "name": "stderr",
     "output_type": "stream",
     "text": [
      "100%|██████████| 104/104 [14:12<00:00,  8.20s/it]\n"
     ]
    }
   ],
   "source": [
    "# Calculate metrics\n",
    "\n",
    "main_ablate_params = {\n",
    "                      'multiplier': 30,\n",
    "                      'intervention_method': 'clamp_feature_activation',\n",
    "                     }\n",
    "\n",
    "\n",
    "sweep = {\n",
    "         'features_to_ablate': np.array(known_good_features),\n",
    "        }\n",
    "\n",
    "\n",
    "dataset_names = all_dataset_names[2:-1]\n",
    "\n",
    "metrics_list = calculate_metrics_side_effects(model,\n",
    "                                              sae,\n",
    "                                              main_ablate_params,\n",
    "                                              sweep,\n",
    "                                              dataset_names=dataset_names,\n",
    "                                              thresh=1,\n",
    "                                              target_metric='correct',\n",
    "                                              split='all'\n",
    "                                              )\n"
   ]
  },
  {
   "cell_type": "code",
   "execution_count": 54,
   "metadata": {},
   "outputs": [
    {
     "data": {
      "text/plain": [
       "(59,)"
      ]
     },
     "execution_count": 54,
     "metadata": {},
     "output_type": "execute_result"
    }
   ],
   "source": [
    "feature_ids_zero_side_effect = [x['ablate_params']['features_to_ablate'] for x in metrics_list]\n",
    "np.array(feature_ids_zero_side_effect).shape"
   ]
  },
  {
   "cell_type": "code",
   "execution_count": 55,
   "metadata": {},
   "outputs": [],
   "source": [
    "np.savetxt(\"feature_ids_1_side_effect_gemma1_2b_train.csv\", np.array(feature_ids_zero_side_effect))"
   ]
  },
  {
   "cell_type": "code",
   "execution_count": 8,
   "metadata": {},
   "outputs": [
    {
     "data": {
      "text/plain": [
       "array([12289.,  3599.,  1557.,    32.,  4654.,  4687.,  5205., 11358.,\n",
       "       10355.,  6263., 13431., 13443.,  3728., 13980.,  6308.,  4777.,\n",
       "        4271.,  9399., 13010.,   741.,  5861.,  4342.,  9473., 12044.,\n",
       "        4886., 15642., 16175.,  7983., 10051.,   842.,   338.,  5996.,\n",
       "       11122., 12663.,  1406.,  6531., 10632., 11147.,  8596.,  5525.,\n",
       "        7076., 10176.,  9163.,  8660., 16341.,  7638., 14296., 14819.,\n",
       "        7140.,  4071., 12782., 12273., 15858.])"
      ]
     },
     "execution_count": 8,
     "metadata": {},
     "output_type": "execute_result"
    }
   ],
   "source": [
    "np.array(feature_ids_zero_side_effect)"
   ]
  },
  {
   "cell_type": "code",
   "execution_count": 18,
   "metadata": {},
   "outputs": [
    {
     "data": {
      "text/plain": [
       "array([ 3599,  1557,    32,  4654,  4687,  5205, 11358, 13431, 13443,\n",
       "       13980,  6308,  4777,  4271, 13010,  5861,  4342,  9473, 12044,\n",
       "       15642, 16175,  7983, 10051,  5996,  1406, 11147,  8596,  5525,\n",
       "        7076,  9163,  8660, 16341, 14296,  4071, 12273])"
      ]
     },
     "execution_count": 18,
     "metadata": {},
     "output_type": "execute_result"
    }
   ],
   "source": [
    "np.array(feature_ids_zero_side_effect)"
   ]
  },
  {
   "cell_type": "code",
   "execution_count": 57,
   "metadata": {},
   "outputs": [],
   "source": [
    "# np.savetxt(\"feature_ids_zero_side_effect_gemma1_2b_all.csv\", np.array(feature_ids_zero_side_effect))"
   ]
  },
  {
   "cell_type": "markdown",
   "metadata": {},
   "source": [
    "## Then sort by loss added"
   ]
  },
  {
   "cell_type": "code",
   "execution_count": 7,
   "metadata": {},
   "outputs": [],
   "source": [
    "feature_ids_zero_side_effect = np.genfromtxt(\"feature_ids_5_side_effect_gemma1_2b_train.csv\")"
   ]
  },
  {
   "cell_type": "code",
   "execution_count": 8,
   "metadata": {},
   "outputs": [
    {
     "data": {
      "application/vnd.jupyter.widget-view+json": {
       "model_id": "31717084c09d467998e987268102639d",
       "version_major": 2,
       "version_minor": 0
      },
      "text/plain": [
       "Downloading builder script:   0%|          | 0.00/2.73k [00:00<?, ?B/s]"
      ]
     },
     "metadata": {},
     "output_type": "display_data"
    },
    {
     "data": {
      "application/vnd.jupyter.widget-view+json": {
       "model_id": "f86faf64f6b54788a4afc44ca298bd88",
       "version_major": 2,
       "version_minor": 0
      },
      "text/plain": [
       "Downloading readme:   0%|          | 0.00/7.35k [00:00<?, ?B/s]"
      ]
     },
     "metadata": {},
     "output_type": "display_data"
    },
    {
     "name": "stdout",
     "output_type": "stream",
     "text": [
      "buffer\n",
      "dataloader\n"
     ]
    }
   ],
   "source": [
    "activation_store = ActivationStoreAnalysis(sae.cfg, model)"
   ]
  },
  {
   "cell_type": "code",
   "execution_count": 56,
   "metadata": {},
   "outputs": [
    {
     "name": "stderr",
     "output_type": "stream",
     "text": [
      "100%|██████████| 59/59 [19:56<00:00, 20.28s/it]\n"
     ]
    }
   ],
   "source": [
    "# Calculate metrics\n",
    "\n",
    "main_ablate_params = {\n",
    "                      'multiplier': 20,\n",
    "                      'intervention_method': 'clamp_feature_activation',\n",
    "                     }\n",
    "\n",
    "\n",
    "sweep = {\n",
    "         'features_to_ablate': feature_ids_zero_side_effect,\n",
    "        }\n",
    "\n",
    "metric_params = {'wmdp-bio': \n",
    "                 {\n",
    "                       # 'target_metric': 'correct',\n",
    "                       'question_subset': question_ids_correct,\n",
    "                       'permutations': None,\n",
    "                       'verbose': False,\n",
    "                   }\n",
    "                 }\n",
    "\n",
    "dataset_names = all_dataset_names[:2]\n",
    "\n",
    "n_batch_loss_added = 10\n",
    "\n",
    "metrics_list_zero_side_effect = calculate_metrics_list(model,\n",
    "                                      sae,\n",
    "                                      main_ablate_params,\n",
    "                                      sweep,\n",
    "                                      dataset_names=dataset_names,\n",
    "                                      metric_params=metric_params,\n",
    "                                      include_baseline_metrics=False,\n",
    "                                      n_batch_loss_added=n_batch_loss_added,\n",
    "                                      activation_store=activation_store,\n",
    "                                      split='all',\n",
    "                                      verbose=False)\n"
   ]
  },
  {
   "cell_type": "code",
   "execution_count": 57,
   "metadata": {},
   "outputs": [
    {
     "data": {
      "text/html": [
       "<div>\n",
       "<style scoped>\n",
       "    .dataframe tbody tr th:only-of-type {\n",
       "        vertical-align: middle;\n",
       "    }\n",
       "\n",
       "    .dataframe tbody tr th {\n",
       "        vertical-align: top;\n",
       "    }\n",
       "\n",
       "    .dataframe thead th {\n",
       "        text-align: right;\n",
       "    }\n",
       "</style>\n",
       "<table border=\"1\" class=\"dataframe\">\n",
       "  <thead>\n",
       "    <tr style=\"text-align: right;\">\n",
       "      <th></th>\n",
       "      <th>loss_added</th>\n",
       "      <th>wmdp-bio</th>\n",
       "      <th>wmdp-bio_prob</th>\n",
       "    </tr>\n",
       "  </thead>\n",
       "  <tbody>\n",
       "    <tr>\n",
       "      <th>0</th>\n",
       "      <td>-7.152557e-08</td>\n",
       "      <td>0.988372</td>\n",
       "      <td>0.994141</td>\n",
       "    </tr>\n",
       "    <tr>\n",
       "      <th>1</th>\n",
       "      <td>2.254200e-03</td>\n",
       "      <td>0.994186</td>\n",
       "      <td>0.995605</td>\n",
       "    </tr>\n",
       "    <tr>\n",
       "      <th>2</th>\n",
       "      <td>-7.152557e-08</td>\n",
       "      <td>0.924419</td>\n",
       "      <td>0.983398</td>\n",
       "    </tr>\n",
       "    <tr>\n",
       "      <th>3</th>\n",
       "      <td>-7.152557e-08</td>\n",
       "      <td>1.000000</td>\n",
       "      <td>0.995605</td>\n",
       "    </tr>\n",
       "    <tr>\n",
       "      <th>4</th>\n",
       "      <td>3.876686e-05</td>\n",
       "      <td>0.994186</td>\n",
       "      <td>0.995605</td>\n",
       "    </tr>\n",
       "    <tr>\n",
       "      <th>5</th>\n",
       "      <td>5.426645e-04</td>\n",
       "      <td>0.994186</td>\n",
       "      <td>0.994629</td>\n",
       "    </tr>\n",
       "    <tr>\n",
       "      <th>6</th>\n",
       "      <td>-7.152557e-08</td>\n",
       "      <td>0.912791</td>\n",
       "      <td>0.970703</td>\n",
       "    </tr>\n",
       "    <tr>\n",
       "      <th>7</th>\n",
       "      <td>1.673937e-04</td>\n",
       "      <td>1.000000</td>\n",
       "      <td>0.995117</td>\n",
       "    </tr>\n",
       "    <tr>\n",
       "      <th>8</th>\n",
       "      <td>-6.308937e-03</td>\n",
       "      <td>0.982558</td>\n",
       "      <td>0.992676</td>\n",
       "    </tr>\n",
       "    <tr>\n",
       "      <th>9</th>\n",
       "      <td>1.539111e-03</td>\n",
       "      <td>0.994186</td>\n",
       "      <td>0.995117</td>\n",
       "    </tr>\n",
       "    <tr>\n",
       "      <th>10</th>\n",
       "      <td>-7.152557e-08</td>\n",
       "      <td>0.988372</td>\n",
       "      <td>0.993164</td>\n",
       "    </tr>\n",
       "    <tr>\n",
       "      <th>11</th>\n",
       "      <td>2.200460e-03</td>\n",
       "      <td>1.000000</td>\n",
       "      <td>0.995117</td>\n",
       "    </tr>\n",
       "    <tr>\n",
       "      <th>12</th>\n",
       "      <td>-3.919601e-05</td>\n",
       "      <td>0.994186</td>\n",
       "      <td>0.995605</td>\n",
       "    </tr>\n",
       "    <tr>\n",
       "      <th>13</th>\n",
       "      <td>-2.468824e-03</td>\n",
       "      <td>0.988372</td>\n",
       "      <td>0.992188</td>\n",
       "    </tr>\n",
       "    <tr>\n",
       "      <th>14</th>\n",
       "      <td>8.618951e-03</td>\n",
       "      <td>0.988372</td>\n",
       "      <td>0.994629</td>\n",
       "    </tr>\n",
       "    <tr>\n",
       "      <th>15</th>\n",
       "      <td>1.195192e-03</td>\n",
       "      <td>0.994186</td>\n",
       "      <td>0.993164</td>\n",
       "    </tr>\n",
       "    <tr>\n",
       "      <th>16</th>\n",
       "      <td>-7.152557e-08</td>\n",
       "      <td>0.994186</td>\n",
       "      <td>0.995605</td>\n",
       "    </tr>\n",
       "    <tr>\n",
       "      <th>17</th>\n",
       "      <td>-7.152557e-08</td>\n",
       "      <td>1.000000</td>\n",
       "      <td>0.995117</td>\n",
       "    </tr>\n",
       "    <tr>\n",
       "      <th>18</th>\n",
       "      <td>-4.106522e-04</td>\n",
       "      <td>0.976744</td>\n",
       "      <td>0.992676</td>\n",
       "    </tr>\n",
       "    <tr>\n",
       "      <th>19</th>\n",
       "      <td>9.071589e-04</td>\n",
       "      <td>1.000000</td>\n",
       "      <td>0.995117</td>\n",
       "    </tr>\n",
       "    <tr>\n",
       "      <th>20</th>\n",
       "      <td>-7.152557e-08</td>\n",
       "      <td>1.000000</td>\n",
       "      <td>0.995605</td>\n",
       "    </tr>\n",
       "    <tr>\n",
       "      <th>21</th>\n",
       "      <td>1.662660e-03</td>\n",
       "      <td>1.000000</td>\n",
       "      <td>0.993652</td>\n",
       "    </tr>\n",
       "    <tr>\n",
       "      <th>22</th>\n",
       "      <td>-8.947849e-05</td>\n",
       "      <td>1.000000</td>\n",
       "      <td>0.995117</td>\n",
       "    </tr>\n",
       "    <tr>\n",
       "      <th>23</th>\n",
       "      <td>4.650805e-02</td>\n",
       "      <td>0.994186</td>\n",
       "      <td>0.994629</td>\n",
       "    </tr>\n",
       "    <tr>\n",
       "      <th>24</th>\n",
       "      <td>-8.818626e-04</td>\n",
       "      <td>0.994186</td>\n",
       "      <td>0.995605</td>\n",
       "    </tr>\n",
       "    <tr>\n",
       "      <th>25</th>\n",
       "      <td>-7.152557e-08</td>\n",
       "      <td>0.988372</td>\n",
       "      <td>0.994629</td>\n",
       "    </tr>\n",
       "    <tr>\n",
       "      <th>26</th>\n",
       "      <td>3.155231e-04</td>\n",
       "      <td>0.982558</td>\n",
       "      <td>0.993164</td>\n",
       "    </tr>\n",
       "    <tr>\n",
       "      <th>27</th>\n",
       "      <td>-7.152557e-08</td>\n",
       "      <td>0.994186</td>\n",
       "      <td>0.995117</td>\n",
       "    </tr>\n",
       "    <tr>\n",
       "      <th>28</th>\n",
       "      <td>-7.152557e-08</td>\n",
       "      <td>0.994186</td>\n",
       "      <td>0.995605</td>\n",
       "    </tr>\n",
       "    <tr>\n",
       "      <th>29</th>\n",
       "      <td>-2.563953e-04</td>\n",
       "      <td>0.994186</td>\n",
       "      <td>0.992676</td>\n",
       "    </tr>\n",
       "    <tr>\n",
       "      <th>30</th>\n",
       "      <td>7.810831e-04</td>\n",
       "      <td>0.994186</td>\n",
       "      <td>0.995605</td>\n",
       "    </tr>\n",
       "    <tr>\n",
       "      <th>31</th>\n",
       "      <td>-1.088834e-03</td>\n",
       "      <td>0.976744</td>\n",
       "      <td>0.991211</td>\n",
       "    </tr>\n",
       "    <tr>\n",
       "      <th>32</th>\n",
       "      <td>-7.152557e-08</td>\n",
       "      <td>0.982558</td>\n",
       "      <td>0.987793</td>\n",
       "    </tr>\n",
       "    <tr>\n",
       "      <th>33</th>\n",
       "      <td>1.552105e-02</td>\n",
       "      <td>0.994186</td>\n",
       "      <td>0.995117</td>\n",
       "    </tr>\n",
       "    <tr>\n",
       "      <th>34</th>\n",
       "      <td>1.785564e-03</td>\n",
       "      <td>0.994186</td>\n",
       "      <td>0.993164</td>\n",
       "    </tr>\n",
       "    <tr>\n",
       "      <th>35</th>\n",
       "      <td>-4.644394e-05</td>\n",
       "      <td>1.000000</td>\n",
       "      <td>0.993652</td>\n",
       "    </tr>\n",
       "    <tr>\n",
       "      <th>36</th>\n",
       "      <td>6.396770e-05</td>\n",
       "      <td>1.000000</td>\n",
       "      <td>0.993652</td>\n",
       "    </tr>\n",
       "    <tr>\n",
       "      <th>37</th>\n",
       "      <td>-7.152557e-08</td>\n",
       "      <td>0.994186</td>\n",
       "      <td>0.989258</td>\n",
       "    </tr>\n",
       "    <tr>\n",
       "      <th>38</th>\n",
       "      <td>-2.091169e-04</td>\n",
       "      <td>1.000000</td>\n",
       "      <td>0.995605</td>\n",
       "    </tr>\n",
       "    <tr>\n",
       "      <th>39</th>\n",
       "      <td>4.946947e-04</td>\n",
       "      <td>0.930233</td>\n",
       "      <td>0.988770</td>\n",
       "    </tr>\n",
       "    <tr>\n",
       "      <th>40</th>\n",
       "      <td>2.897263e-03</td>\n",
       "      <td>0.988372</td>\n",
       "      <td>0.988770</td>\n",
       "    </tr>\n",
       "    <tr>\n",
       "      <th>41</th>\n",
       "      <td>1.850772e-03</td>\n",
       "      <td>0.994186</td>\n",
       "      <td>0.995605</td>\n",
       "    </tr>\n",
       "    <tr>\n",
       "      <th>42</th>\n",
       "      <td>7.426977e-04</td>\n",
       "      <td>0.953488</td>\n",
       "      <td>0.987305</td>\n",
       "    </tr>\n",
       "    <tr>\n",
       "      <th>43</th>\n",
       "      <td>-7.152557e-08</td>\n",
       "      <td>0.976744</td>\n",
       "      <td>0.994629</td>\n",
       "    </tr>\n",
       "    <tr>\n",
       "      <th>44</th>\n",
       "      <td>9.073496e-04</td>\n",
       "      <td>0.988372</td>\n",
       "      <td>0.992676</td>\n",
       "    </tr>\n",
       "    <tr>\n",
       "      <th>45</th>\n",
       "      <td>7.513285e-04</td>\n",
       "      <td>0.994186</td>\n",
       "      <td>0.995117</td>\n",
       "    </tr>\n",
       "    <tr>\n",
       "      <th>46</th>\n",
       "      <td>-7.152557e-08</td>\n",
       "      <td>0.959302</td>\n",
       "      <td>0.989746</td>\n",
       "    </tr>\n",
       "    <tr>\n",
       "      <th>47</th>\n",
       "      <td>-4.434586e-06</td>\n",
       "      <td>0.994186</td>\n",
       "      <td>0.995605</td>\n",
       "    </tr>\n",
       "    <tr>\n",
       "      <th>48</th>\n",
       "      <td>-7.152557e-08</td>\n",
       "      <td>1.000000</td>\n",
       "      <td>0.992676</td>\n",
       "    </tr>\n",
       "    <tr>\n",
       "      <th>49</th>\n",
       "      <td>4.527974e-03</td>\n",
       "      <td>1.000000</td>\n",
       "      <td>0.992676</td>\n",
       "    </tr>\n",
       "    <tr>\n",
       "      <th>50</th>\n",
       "      <td>2.750635e-04</td>\n",
       "      <td>1.000000</td>\n",
       "      <td>0.995605</td>\n",
       "    </tr>\n",
       "    <tr>\n",
       "      <th>51</th>\n",
       "      <td>-7.152557e-08</td>\n",
       "      <td>0.994186</td>\n",
       "      <td>0.994629</td>\n",
       "    </tr>\n",
       "    <tr>\n",
       "      <th>52</th>\n",
       "      <td>5.684748e-02</td>\n",
       "      <td>0.988372</td>\n",
       "      <td>0.994629</td>\n",
       "    </tr>\n",
       "    <tr>\n",
       "      <th>53</th>\n",
       "      <td>4.781485e-04</td>\n",
       "      <td>0.994186</td>\n",
       "      <td>0.995605</td>\n",
       "    </tr>\n",
       "    <tr>\n",
       "      <th>54</th>\n",
       "      <td>1.516771e-03</td>\n",
       "      <td>0.994186</td>\n",
       "      <td>0.995117</td>\n",
       "    </tr>\n",
       "    <tr>\n",
       "      <th>55</th>\n",
       "      <td>-7.152557e-08</td>\n",
       "      <td>0.982558</td>\n",
       "      <td>0.993652</td>\n",
       "    </tr>\n",
       "    <tr>\n",
       "      <th>56</th>\n",
       "      <td>-7.152557e-08</td>\n",
       "      <td>0.872093</td>\n",
       "      <td>0.964844</td>\n",
       "    </tr>\n",
       "    <tr>\n",
       "      <th>57</th>\n",
       "      <td>-7.152557e-08</td>\n",
       "      <td>0.866279</td>\n",
       "      <td>0.960449</td>\n",
       "    </tr>\n",
       "    <tr>\n",
       "      <th>58</th>\n",
       "      <td>6.896973e-04</td>\n",
       "      <td>0.994186</td>\n",
       "      <td>0.993164</td>\n",
       "    </tr>\n",
       "  </tbody>\n",
       "</table>\n",
       "</div>"
      ],
      "text/plain": [
       "      loss_added  wmdp-bio  wmdp-bio_prob\n",
       "0  -7.152557e-08  0.988372       0.994141\n",
       "1   2.254200e-03  0.994186       0.995605\n",
       "2  -7.152557e-08  0.924419       0.983398\n",
       "3  -7.152557e-08  1.000000       0.995605\n",
       "4   3.876686e-05  0.994186       0.995605\n",
       "5   5.426645e-04  0.994186       0.994629\n",
       "6  -7.152557e-08  0.912791       0.970703\n",
       "7   1.673937e-04  1.000000       0.995117\n",
       "8  -6.308937e-03  0.982558       0.992676\n",
       "9   1.539111e-03  0.994186       0.995117\n",
       "10 -7.152557e-08  0.988372       0.993164\n",
       "11  2.200460e-03  1.000000       0.995117\n",
       "12 -3.919601e-05  0.994186       0.995605\n",
       "13 -2.468824e-03  0.988372       0.992188\n",
       "14  8.618951e-03  0.988372       0.994629\n",
       "15  1.195192e-03  0.994186       0.993164\n",
       "16 -7.152557e-08  0.994186       0.995605\n",
       "17 -7.152557e-08  1.000000       0.995117\n",
       "18 -4.106522e-04  0.976744       0.992676\n",
       "19  9.071589e-04  1.000000       0.995117\n",
       "20 -7.152557e-08  1.000000       0.995605\n",
       "21  1.662660e-03  1.000000       0.993652\n",
       "22 -8.947849e-05  1.000000       0.995117\n",
       "23  4.650805e-02  0.994186       0.994629\n",
       "24 -8.818626e-04  0.994186       0.995605\n",
       "25 -7.152557e-08  0.988372       0.994629\n",
       "26  3.155231e-04  0.982558       0.993164\n",
       "27 -7.152557e-08  0.994186       0.995117\n",
       "28 -7.152557e-08  0.994186       0.995605\n",
       "29 -2.563953e-04  0.994186       0.992676\n",
       "30  7.810831e-04  0.994186       0.995605\n",
       "31 -1.088834e-03  0.976744       0.991211\n",
       "32 -7.152557e-08  0.982558       0.987793\n",
       "33  1.552105e-02  0.994186       0.995117\n",
       "34  1.785564e-03  0.994186       0.993164\n",
       "35 -4.644394e-05  1.000000       0.993652\n",
       "36  6.396770e-05  1.000000       0.993652\n",
       "37 -7.152557e-08  0.994186       0.989258\n",
       "38 -2.091169e-04  1.000000       0.995605\n",
       "39  4.946947e-04  0.930233       0.988770\n",
       "40  2.897263e-03  0.988372       0.988770\n",
       "41  1.850772e-03  0.994186       0.995605\n",
       "42  7.426977e-04  0.953488       0.987305\n",
       "43 -7.152557e-08  0.976744       0.994629\n",
       "44  9.073496e-04  0.988372       0.992676\n",
       "45  7.513285e-04  0.994186       0.995117\n",
       "46 -7.152557e-08  0.959302       0.989746\n",
       "47 -4.434586e-06  0.994186       0.995605\n",
       "48 -7.152557e-08  1.000000       0.992676\n",
       "49  4.527974e-03  1.000000       0.992676\n",
       "50  2.750635e-04  1.000000       0.995605\n",
       "51 -7.152557e-08  0.994186       0.994629\n",
       "52  5.684748e-02  0.988372       0.994629\n",
       "53  4.781485e-04  0.994186       0.995605\n",
       "54  1.516771e-03  0.994186       0.995117\n",
       "55 -7.152557e-08  0.982558       0.993652\n",
       "56 -7.152557e-08  0.872093       0.964844\n",
       "57 -7.152557e-08  0.866279       0.960449\n",
       "58  6.896973e-04  0.994186       0.993164"
      ]
     },
     "execution_count": 57,
     "metadata": {},
     "output_type": "execute_result"
    }
   ],
   "source": [
    "df_zero_side_effect = create_df_from_metrics(metrics_list_zero_side_effect)\n",
    "df_zero_side_effect"
   ]
  },
  {
   "cell_type": "code",
   "execution_count": 59,
   "metadata": {},
   "outputs": [
    {
     "data": {
      "text/plain": [
       "array([ 6712., 13431.,  7983.,  4342.,  6308., 15642., 11358.,  8660.,\n",
       "        8596.,  9163., 10051., 15858.,  7956., 12044.,  9473.,  5633.,\n",
       "       13443.,  2523.,  5205., 12782.,  4654.,  1557., 12273., 13686.,\n",
       "        3102.,  5895.,  8679.,  6531.,    32.,  5109., 15755.,  7076.,\n",
       "       16175.,  5525.,  7803.,  4071.,  4687.,  9048., 11147.,  3599.,\n",
       "        5001.,  6263.,   842.,  5861.,  7140.])"
      ]
     },
     "execution_count": 59,
     "metadata": {},
     "output_type": "execute_result"
    }
   ],
   "source": [
    "isorted = df_zero_side_effect.query(\"`wmdp-bio` < 1\").sort_values(\"loss_added\").index.values\n",
    "feature_ids_zero_side_effect_sorted = np.array(feature_ids_zero_side_effect)[isorted]\n",
    "feature_ids_zero_side_effect_sorted"
   ]
  },
  {
   "cell_type": "code",
   "execution_count": 13,
   "metadata": {},
   "outputs": [
    {
     "data": {
      "text/plain": [
       "array([10632., 12663., 10355., 13431.,  3728.,  7983.,  4342.,  6308.,\n",
       "       15642., 12289., 11358.,  8660., 12044., 10051.,  9163., 12782.,\n",
       "       12273.,  8596., 15858., 13443.,  1557.,  5205.,  9473.,  4654.,\n",
       "       11122.,  6531.,    32.,  7076.,   338.,  5525.,  4071.,  4687.,\n",
       "       11147.,  3599., 10176.,  4886.,  6263.,   741.,  9399.,   842.,\n",
       "        5861.,  7140.])"
      ]
     },
     "execution_count": 13,
     "metadata": {},
     "output_type": "execute_result"
    }
   ],
   "source": [
    "isorted = df_zero_side_effect.query(\"`wmdp-bio` < 1\").sort_values(\"loss_added\").index.values\n",
    "feature_ids_zero_side_effect_sorted = np.array(feature_ids_zero_side_effect)[isorted]\n",
    "feature_ids_zero_side_effect_sorted"
   ]
  },
  {
   "cell_type": "code",
   "execution_count": 25,
   "metadata": {},
   "outputs": [
    {
     "data": {
      "text/plain": [
       "51"
      ]
     },
     "execution_count": 25,
     "metadata": {},
     "output_type": "execute_result"
    }
   ],
   "source": [
    "len(feature_ids_zero_side_effect_sorted)"
   ]
  },
  {
   "cell_type": "code",
   "execution_count": 61,
   "metadata": {},
   "outputs": [
    {
     "data": {
      "text/plain": [
       "45"
      ]
     },
     "execution_count": 61,
     "metadata": {},
     "output_type": "execute_result"
    }
   ],
   "source": [
    "len(feature_ids_zero_side_effect_sorted)"
   ]
  },
  {
   "cell_type": "code",
   "execution_count": 60,
   "metadata": {},
   "outputs": [],
   "source": [
    "# np.savetxt(\"feature_ids_side_effect_1_sorted_gemma1_2b_all.csv\", np.array(feature_ids_zero_side_effect_sorted))"
   ]
  },
  {
   "cell_type": "markdown",
   "metadata": {},
   "source": [
    "## Now progressively add features sorted by loss"
   ]
  },
  {
   "cell_type": "code",
   "execution_count": 45,
   "metadata": {},
   "outputs": [],
   "source": [
    "feature_ids_zero_side_effect_sorted_0 = np.genfromtxt(\"../eoin_notebooks/feature_ids_zero_side_effect_sorted_gemma1_2b_all.csv\")"
   ]
  },
  {
   "cell_type": "code",
   "execution_count": 46,
   "metadata": {},
   "outputs": [
    {
     "data": {
      "text/plain": [
       "26"
      ]
     },
     "execution_count": 46,
     "metadata": {},
     "output_type": "execute_result"
    }
   ],
   "source": [
    "len(feature_ids_zero_side_effect_sorted_0)"
   ]
  },
  {
   "cell_type": "code",
   "execution_count": 9,
   "metadata": {},
   "outputs": [],
   "source": [
    "feature_ids_zero_side_effect_sorted = np.array([10632., 12663., 10355., 13431.,  3728.,  7983.,  4342.,  6308.,\n",
    "       15642., 12289., 11358.,  8660., 12044., 10051.,  9163., 12782.,\n",
    "       12273.,  8596., 15858., 13443.,  1557.,  5205.,  9473.,  4654.,\n",
    "       11122.,  6531.,    32.,  7076.,   338.,  5525.,  4071.,  4687.,\n",
    "       11147.,  3599., 10176.,  4886.,  6263.,   741.,  9399.,   842.,\n",
    "        5861.,  7140.])"
   ]
  },
  {
   "cell_type": "code",
   "execution_count": 62,
   "metadata": {},
   "outputs": [],
   "source": [
    "feature_ids_zero_side_effect_sorted_1 = np.genfromtxt(\"../eoin_notebooks/feature_ids_side_effect_1_sorted_gemma1_2b_all.csv\")"
   ]
  },
  {
   "cell_type": "code",
   "execution_count": 66,
   "metadata": {},
   "outputs": [
    {
     "name": "stderr",
     "output_type": "stream",
     "text": [
      "100%|██████████| 12/12 [15:16<00:00, 76.35s/it]\n"
     ]
    }
   ],
   "source": [
    "# Calculate metrics\n",
    "\n",
    "main_ablate_params = {\n",
    "                      'multiplier': 30,\n",
    "                      'intervention_method': 'clamp_feature_activation',\n",
    "                     }\n",
    "\n",
    "\n",
    "sweep = {\n",
    "         # 'features_to_ablate': [feature_ids_zero_side_effect_sorted[:i+1] for i in range(1)],\n",
    "        'features_to_ablate': [feature_ids_zero_side_effect_sorted_1[:i+1] for i in range(0, 45, 4)],\n",
    "         'multiplier': [25],\n",
    "        }\n",
    "\n",
    "metric_params = {'wmdp-bio': \n",
    "                 {\n",
    "                       'target_metric': 'correct',\n",
    "                       'permutations': None,\n",
    "                       'verbose': False,\n",
    "                   }\n",
    "                 }\n",
    "\n",
    "dataset_names = all_dataset_names[:]\n",
    "\n",
    "n_batch_loss_added = 50\n",
    "\n",
    "metrics_list_best_sorted = calculate_metrics_list(model,\n",
    "                                      sae,\n",
    "                                      main_ablate_params,\n",
    "                                      sweep,\n",
    "                                      dataset_names=dataset_names,\n",
    "                                      metric_params=metric_params,\n",
    "                                      include_baseline_metrics=False,\n",
    "                                      n_batch_loss_added=n_batch_loss_added,\n",
    "                                      activation_store=activation_store,\n",
    "                                      split='test')\n"
   ]
  },
  {
   "cell_type": "code",
   "execution_count": 28,
   "metadata": {},
   "outputs": [
    {
     "data": {
      "text/html": [
       "<div>\n",
       "<style scoped>\n",
       "    .dataframe tbody tr th:only-of-type {\n",
       "        vertical-align: middle;\n",
       "    }\n",
       "\n",
       "    .dataframe tbody tr th {\n",
       "        vertical-align: top;\n",
       "    }\n",
       "\n",
       "    .dataframe thead th {\n",
       "        text-align: right;\n",
       "    }\n",
       "</style>\n",
       "<table border=\"1\" class=\"dataframe\">\n",
       "  <thead>\n",
       "    <tr style=\"text-align: right;\">\n",
       "      <th></th>\n",
       "      <th>loss_added</th>\n",
       "      <th>wmdp-bio</th>\n",
       "      <th>high_school_us_history</th>\n",
       "      <th>college_computer_science</th>\n",
       "      <th>high_school_geography</th>\n",
       "      <th>human_aging</th>\n",
       "      <th>college_biology</th>\n",
       "      <th>wmdp-bio_prob</th>\n",
       "      <th>high_school_us_history_prob</th>\n",
       "      <th>college_computer_science_prob</th>\n",
       "      <th>high_school_geography_prob</th>\n",
       "      <th>human_aging_prob</th>\n",
       "      <th>college_biology_prob</th>\n",
       "    </tr>\n",
       "  </thead>\n",
       "  <tbody>\n",
       "    <tr>\n",
       "      <th>0</th>\n",
       "      <td>0.000831</td>\n",
       "      <td>0.360465</td>\n",
       "      <td>0.857143</td>\n",
       "      <td>1.0</td>\n",
       "      <td>1.000000</td>\n",
       "      <td>0.875</td>\n",
       "      <td>0.5</td>\n",
       "      <td>0.901367</td>\n",
       "      <td>0.934570</td>\n",
       "      <td>0.998535</td>\n",
       "      <td>0.964844</td>\n",
       "      <td>0.969727</td>\n",
       "      <td>0.913086</td>\n",
       "    </tr>\n",
       "    <tr>\n",
       "      <th>1</th>\n",
       "      <td>0.011930</td>\n",
       "      <td>0.279070</td>\n",
       "      <td>0.928571</td>\n",
       "      <td>1.0</td>\n",
       "      <td>0.933333</td>\n",
       "      <td>0.875</td>\n",
       "      <td>0.5</td>\n",
       "      <td>0.887695</td>\n",
       "      <td>0.921387</td>\n",
       "      <td>0.998047</td>\n",
       "      <td>0.974609</td>\n",
       "      <td>0.973633</td>\n",
       "      <td>0.959961</td>\n",
       "    </tr>\n",
       "  </tbody>\n",
       "</table>\n",
       "</div>"
      ],
      "text/plain": [
       "   loss_added  wmdp-bio  high_school_us_history  college_computer_science  \\\n",
       "0    0.000831  0.360465                0.857143                       1.0   \n",
       "1    0.011930  0.279070                0.928571                       1.0   \n",
       "\n",
       "   high_school_geography  human_aging  college_biology  wmdp-bio_prob  \\\n",
       "0               1.000000        0.875              0.5       0.901367   \n",
       "1               0.933333        0.875              0.5       0.887695   \n",
       "\n",
       "   high_school_us_history_prob  college_computer_science_prob  \\\n",
       "0                     0.934570                       0.998535   \n",
       "1                     0.921387                       0.998047   \n",
       "\n",
       "   high_school_geography_prob  human_aging_prob  college_biology_prob  \n",
       "0                    0.964844          0.969727              0.913086  \n",
       "1                    0.974609          0.973633              0.959961  "
      ]
     },
     "execution_count": 28,
     "metadata": {},
     "output_type": "execute_result"
    }
   ],
   "source": [
    "df = create_df_from_metrics(metrics_list_best_sorted)\n",
    "df"
   ]
  },
  {
   "cell_type": "code",
   "execution_count": 64,
   "metadata": {},
   "outputs": [
    {
     "data": {
      "text/html": [
       "<div>\n",
       "<style scoped>\n",
       "    .dataframe tbody tr th:only-of-type {\n",
       "        vertical-align: middle;\n",
       "    }\n",
       "\n",
       "    .dataframe tbody tr th {\n",
       "        vertical-align: top;\n",
       "    }\n",
       "\n",
       "    .dataframe thead th {\n",
       "        text-align: right;\n",
       "    }\n",
       "</style>\n",
       "<table border=\"1\" class=\"dataframe\">\n",
       "  <thead>\n",
       "    <tr style=\"text-align: right;\">\n",
       "      <th></th>\n",
       "      <th>loss_added</th>\n",
       "      <th>wmdp-bio</th>\n",
       "      <th>high_school_us_history</th>\n",
       "      <th>college_computer_science</th>\n",
       "      <th>high_school_geography</th>\n",
       "      <th>human_aging</th>\n",
       "      <th>college_biology</th>\n",
       "      <th>wmdp-bio_prob</th>\n",
       "      <th>high_school_us_history_prob</th>\n",
       "      <th>college_computer_science_prob</th>\n",
       "      <th>high_school_geography_prob</th>\n",
       "      <th>human_aging_prob</th>\n",
       "      <th>college_biology_prob</th>\n",
       "    </tr>\n",
       "  </thead>\n",
       "  <tbody>\n",
       "    <tr>\n",
       "      <th>0</th>\n",
       "      <td>0.001021</td>\n",
       "      <td>0.988372</td>\n",
       "      <td>1.0</td>\n",
       "      <td>1.0</td>\n",
       "      <td>1.0</td>\n",
       "      <td>1.0000</td>\n",
       "      <td>1.000</td>\n",
       "      <td>0.991699</td>\n",
       "      <td>0.988281</td>\n",
       "      <td>0.999023</td>\n",
       "      <td>0.998047</td>\n",
       "      <td>0.985352</td>\n",
       "      <td>0.995117</td>\n",
       "    </tr>\n",
       "    <tr>\n",
       "      <th>1</th>\n",
       "      <td>0.003441</td>\n",
       "      <td>0.941860</td>\n",
       "      <td>1.0</td>\n",
       "      <td>1.0</td>\n",
       "      <td>1.0</td>\n",
       "      <td>1.0000</td>\n",
       "      <td>1.000</td>\n",
       "      <td>0.977539</td>\n",
       "      <td>0.988281</td>\n",
       "      <td>0.999023</td>\n",
       "      <td>0.998047</td>\n",
       "      <td>0.978516</td>\n",
       "      <td>0.994629</td>\n",
       "    </tr>\n",
       "    <tr>\n",
       "      <th>2</th>\n",
       "      <td>0.004461</td>\n",
       "      <td>0.930233</td>\n",
       "      <td>1.0</td>\n",
       "      <td>1.0</td>\n",
       "      <td>1.0</td>\n",
       "      <td>1.0000</td>\n",
       "      <td>1.000</td>\n",
       "      <td>0.976074</td>\n",
       "      <td>0.988281</td>\n",
       "      <td>0.999023</td>\n",
       "      <td>0.998047</td>\n",
       "      <td>0.978516</td>\n",
       "      <td>0.994629</td>\n",
       "    </tr>\n",
       "    <tr>\n",
       "      <th>3</th>\n",
       "      <td>0.004695</td>\n",
       "      <td>0.755814</td>\n",
       "      <td>1.0</td>\n",
       "      <td>1.0</td>\n",
       "      <td>1.0</td>\n",
       "      <td>1.0000</td>\n",
       "      <td>0.750</td>\n",
       "      <td>0.955566</td>\n",
       "      <td>0.988281</td>\n",
       "      <td>0.999023</td>\n",
       "      <td>0.998047</td>\n",
       "      <td>0.994629</td>\n",
       "      <td>0.961914</td>\n",
       "    </tr>\n",
       "    <tr>\n",
       "      <th>4</th>\n",
       "      <td>0.004920</td>\n",
       "      <td>0.790698</td>\n",
       "      <td>1.0</td>\n",
       "      <td>1.0</td>\n",
       "      <td>1.0</td>\n",
       "      <td>1.0000</td>\n",
       "      <td>0.750</td>\n",
       "      <td>0.949707</td>\n",
       "      <td>0.988281</td>\n",
       "      <td>0.999023</td>\n",
       "      <td>0.998047</td>\n",
       "      <td>0.994629</td>\n",
       "      <td>0.961914</td>\n",
       "    </tr>\n",
       "    <tr>\n",
       "      <th>5</th>\n",
       "      <td>0.004980</td>\n",
       "      <td>0.686046</td>\n",
       "      <td>1.0</td>\n",
       "      <td>1.0</td>\n",
       "      <td>1.0</td>\n",
       "      <td>0.9375</td>\n",
       "      <td>0.750</td>\n",
       "      <td>0.933105</td>\n",
       "      <td>0.988281</td>\n",
       "      <td>0.999023</td>\n",
       "      <td>0.998047</td>\n",
       "      <td>0.989258</td>\n",
       "      <td>0.956055</td>\n",
       "    </tr>\n",
       "    <tr>\n",
       "      <th>6</th>\n",
       "      <td>0.005137</td>\n",
       "      <td>0.488372</td>\n",
       "      <td>1.0</td>\n",
       "      <td>1.0</td>\n",
       "      <td>1.0</td>\n",
       "      <td>0.9375</td>\n",
       "      <td>0.625</td>\n",
       "      <td>0.894531</td>\n",
       "      <td>0.988281</td>\n",
       "      <td>0.999023</td>\n",
       "      <td>0.998047</td>\n",
       "      <td>0.989258</td>\n",
       "      <td>0.933594</td>\n",
       "    </tr>\n",
       "    <tr>\n",
       "      <th>7</th>\n",
       "      <td>0.011964</td>\n",
       "      <td>0.465116</td>\n",
       "      <td>1.0</td>\n",
       "      <td>1.0</td>\n",
       "      <td>1.0</td>\n",
       "      <td>0.9375</td>\n",
       "      <td>0.625</td>\n",
       "      <td>0.916504</td>\n",
       "      <td>0.988281</td>\n",
       "      <td>0.999023</td>\n",
       "      <td>0.997559</td>\n",
       "      <td>0.988281</td>\n",
       "      <td>0.932129</td>\n",
       "    </tr>\n",
       "    <tr>\n",
       "      <th>8</th>\n",
       "      <td>0.014977</td>\n",
       "      <td>0.465116</td>\n",
       "      <td>1.0</td>\n",
       "      <td>1.0</td>\n",
       "      <td>1.0</td>\n",
       "      <td>0.9375</td>\n",
       "      <td>0.625</td>\n",
       "      <td>0.921387</td>\n",
       "      <td>0.988281</td>\n",
       "      <td>0.999023</td>\n",
       "      <td>0.997559</td>\n",
       "      <td>0.988281</td>\n",
       "      <td>0.932129</td>\n",
       "    </tr>\n",
       "    <tr>\n",
       "      <th>9</th>\n",
       "      <td>0.020841</td>\n",
       "      <td>0.453488</td>\n",
       "      <td>1.0</td>\n",
       "      <td>1.0</td>\n",
       "      <td>1.0</td>\n",
       "      <td>0.9375</td>\n",
       "      <td>0.625</td>\n",
       "      <td>0.924805</td>\n",
       "      <td>0.987793</td>\n",
       "      <td>0.999023</td>\n",
       "      <td>0.997559</td>\n",
       "      <td>0.988281</td>\n",
       "      <td>0.928711</td>\n",
       "    </tr>\n",
       "    <tr>\n",
       "      <th>10</th>\n",
       "      <td>0.030623</td>\n",
       "      <td>0.406977</td>\n",
       "      <td>1.0</td>\n",
       "      <td>1.0</td>\n",
       "      <td>1.0</td>\n",
       "      <td>0.9375</td>\n",
       "      <td>0.625</td>\n",
       "      <td>0.925293</td>\n",
       "      <td>0.987793</td>\n",
       "      <td>0.999023</td>\n",
       "      <td>0.997559</td>\n",
       "      <td>0.988281</td>\n",
       "      <td>0.927734</td>\n",
       "    </tr>\n",
       "    <tr>\n",
       "      <th>11</th>\n",
       "      <td>0.171439</td>\n",
       "      <td>0.406977</td>\n",
       "      <td>1.0</td>\n",
       "      <td>1.0</td>\n",
       "      <td>1.0</td>\n",
       "      <td>0.9375</td>\n",
       "      <td>0.625</td>\n",
       "      <td>0.925781</td>\n",
       "      <td>0.976074</td>\n",
       "      <td>0.998047</td>\n",
       "      <td>0.997070</td>\n",
       "      <td>0.985840</td>\n",
       "      <td>0.944824</td>\n",
       "    </tr>\n",
       "  </tbody>\n",
       "</table>\n",
       "</div>"
      ],
      "text/plain": [
       "    loss_added  wmdp-bio  high_school_us_history  college_computer_science  \\\n",
       "0     0.001021  0.988372                     1.0                       1.0   \n",
       "1     0.003441  0.941860                     1.0                       1.0   \n",
       "2     0.004461  0.930233                     1.0                       1.0   \n",
       "3     0.004695  0.755814                     1.0                       1.0   \n",
       "4     0.004920  0.790698                     1.0                       1.0   \n",
       "5     0.004980  0.686046                     1.0                       1.0   \n",
       "6     0.005137  0.488372                     1.0                       1.0   \n",
       "7     0.011964  0.465116                     1.0                       1.0   \n",
       "8     0.014977  0.465116                     1.0                       1.0   \n",
       "9     0.020841  0.453488                     1.0                       1.0   \n",
       "10    0.030623  0.406977                     1.0                       1.0   \n",
       "11    0.171439  0.406977                     1.0                       1.0   \n",
       "\n",
       "    high_school_geography  human_aging  college_biology  wmdp-bio_prob  \\\n",
       "0                     1.0       1.0000            1.000       0.991699   \n",
       "1                     1.0       1.0000            1.000       0.977539   \n",
       "2                     1.0       1.0000            1.000       0.976074   \n",
       "3                     1.0       1.0000            0.750       0.955566   \n",
       "4                     1.0       1.0000            0.750       0.949707   \n",
       "5                     1.0       0.9375            0.750       0.933105   \n",
       "6                     1.0       0.9375            0.625       0.894531   \n",
       "7                     1.0       0.9375            0.625       0.916504   \n",
       "8                     1.0       0.9375            0.625       0.921387   \n",
       "9                     1.0       0.9375            0.625       0.924805   \n",
       "10                    1.0       0.9375            0.625       0.925293   \n",
       "11                    1.0       0.9375            0.625       0.925781   \n",
       "\n",
       "    high_school_us_history_prob  college_computer_science_prob  \\\n",
       "0                      0.988281                       0.999023   \n",
       "1                      0.988281                       0.999023   \n",
       "2                      0.988281                       0.999023   \n",
       "3                      0.988281                       0.999023   \n",
       "4                      0.988281                       0.999023   \n",
       "5                      0.988281                       0.999023   \n",
       "6                      0.988281                       0.999023   \n",
       "7                      0.988281                       0.999023   \n",
       "8                      0.988281                       0.999023   \n",
       "9                      0.987793                       0.999023   \n",
       "10                     0.987793                       0.999023   \n",
       "11                     0.976074                       0.998047   \n",
       "\n",
       "    high_school_geography_prob  human_aging_prob  college_biology_prob  \n",
       "0                     0.998047          0.985352              0.995117  \n",
       "1                     0.998047          0.978516              0.994629  \n",
       "2                     0.998047          0.978516              0.994629  \n",
       "3                     0.998047          0.994629              0.961914  \n",
       "4                     0.998047          0.994629              0.961914  \n",
       "5                     0.998047          0.989258              0.956055  \n",
       "6                     0.998047          0.989258              0.933594  \n",
       "7                     0.997559          0.988281              0.932129  \n",
       "8                     0.997559          0.988281              0.932129  \n",
       "9                     0.997559          0.988281              0.928711  \n",
       "10                    0.997559          0.988281              0.927734  \n",
       "11                    0.997070          0.985840              0.944824  "
      ]
     },
     "execution_count": 64,
     "metadata": {},
     "output_type": "execute_result"
    }
   ],
   "source": [
    "df = create_df_from_metrics(metrics_list_best_sorted)\n",
    "df"
   ]
  },
  {
   "cell_type": "code",
   "execution_count": 43,
   "metadata": {},
   "outputs": [
    {
     "data": {
      "text/html": [
       "<div>\n",
       "<style scoped>\n",
       "    .dataframe tbody tr th:only-of-type {\n",
       "        vertical-align: middle;\n",
       "    }\n",
       "\n",
       "    .dataframe tbody tr th {\n",
       "        vertical-align: top;\n",
       "    }\n",
       "\n",
       "    .dataframe thead th {\n",
       "        text-align: right;\n",
       "    }\n",
       "</style>\n",
       "<table border=\"1\" class=\"dataframe\">\n",
       "  <thead>\n",
       "    <tr style=\"text-align: right;\">\n",
       "      <th></th>\n",
       "      <th>loss_added</th>\n",
       "      <th>wmdp-bio</th>\n",
       "      <th>high_school_us_history</th>\n",
       "      <th>college_computer_science</th>\n",
       "      <th>high_school_geography</th>\n",
       "      <th>human_aging</th>\n",
       "      <th>college_biology</th>\n",
       "      <th>wmdp-bio_prob</th>\n",
       "      <th>high_school_us_history_prob</th>\n",
       "      <th>college_computer_science_prob</th>\n",
       "      <th>high_school_geography_prob</th>\n",
       "      <th>human_aging_prob</th>\n",
       "      <th>college_biology_prob</th>\n",
       "    </tr>\n",
       "  </thead>\n",
       "  <tbody>\n",
       "    <tr>\n",
       "      <th>0</th>\n",
       "      <td>-0.001097</td>\n",
       "      <td>0.965116</td>\n",
       "      <td>1.000000</td>\n",
       "      <td>1.00</td>\n",
       "      <td>1.000000</td>\n",
       "      <td>1.0000</td>\n",
       "      <td>1.000</td>\n",
       "      <td>0.984863</td>\n",
       "      <td>0.975586</td>\n",
       "      <td>0.999023</td>\n",
       "      <td>0.997559</td>\n",
       "      <td>0.983887</td>\n",
       "      <td>0.994629</td>\n",
       "    </tr>\n",
       "    <tr>\n",
       "      <th>1</th>\n",
       "      <td>0.004474</td>\n",
       "      <td>0.593023</td>\n",
       "      <td>0.857143</td>\n",
       "      <td>1.00</td>\n",
       "      <td>0.933333</td>\n",
       "      <td>0.9375</td>\n",
       "      <td>1.000</td>\n",
       "      <td>0.959473</td>\n",
       "      <td>0.949707</td>\n",
       "      <td>0.998535</td>\n",
       "      <td>0.966309</td>\n",
       "      <td>0.967285</td>\n",
       "      <td>0.989258</td>\n",
       "    </tr>\n",
       "    <tr>\n",
       "      <th>2</th>\n",
       "      <td>0.007272</td>\n",
       "      <td>0.534884</td>\n",
       "      <td>0.857143</td>\n",
       "      <td>1.00</td>\n",
       "      <td>0.933333</td>\n",
       "      <td>0.9375</td>\n",
       "      <td>1.000</td>\n",
       "      <td>0.957031</td>\n",
       "      <td>0.949707</td>\n",
       "      <td>0.998535</td>\n",
       "      <td>0.966797</td>\n",
       "      <td>0.967285</td>\n",
       "      <td>0.990723</td>\n",
       "    </tr>\n",
       "    <tr>\n",
       "      <th>3</th>\n",
       "      <td>0.007735</td>\n",
       "      <td>0.383721</td>\n",
       "      <td>0.857143</td>\n",
       "      <td>1.00</td>\n",
       "      <td>0.933333</td>\n",
       "      <td>1.0000</td>\n",
       "      <td>0.875</td>\n",
       "      <td>0.967773</td>\n",
       "      <td>0.949707</td>\n",
       "      <td>0.998047</td>\n",
       "      <td>0.966797</td>\n",
       "      <td>0.983398</td>\n",
       "      <td>0.988770</td>\n",
       "    </tr>\n",
       "    <tr>\n",
       "      <th>4</th>\n",
       "      <td>0.007744</td>\n",
       "      <td>0.383721</td>\n",
       "      <td>0.857143</td>\n",
       "      <td>1.00</td>\n",
       "      <td>0.933333</td>\n",
       "      <td>1.0000</td>\n",
       "      <td>0.750</td>\n",
       "      <td>0.965820</td>\n",
       "      <td>0.949707</td>\n",
       "      <td>0.998047</td>\n",
       "      <td>0.966309</td>\n",
       "      <td>0.964844</td>\n",
       "      <td>0.973145</td>\n",
       "    </tr>\n",
       "    <tr>\n",
       "      <th>5</th>\n",
       "      <td>0.008027</td>\n",
       "      <td>0.360465</td>\n",
       "      <td>0.857143</td>\n",
       "      <td>1.00</td>\n",
       "      <td>0.933333</td>\n",
       "      <td>1.0000</td>\n",
       "      <td>0.750</td>\n",
       "      <td>0.955078</td>\n",
       "      <td>0.949707</td>\n",
       "      <td>0.998047</td>\n",
       "      <td>0.966309</td>\n",
       "      <td>0.964355</td>\n",
       "      <td>0.972168</td>\n",
       "    </tr>\n",
       "    <tr>\n",
       "      <th>6</th>\n",
       "      <td>0.008792</td>\n",
       "      <td>0.279070</td>\n",
       "      <td>0.857143</td>\n",
       "      <td>1.00</td>\n",
       "      <td>0.933333</td>\n",
       "      <td>0.8750</td>\n",
       "      <td>0.625</td>\n",
       "      <td>0.894043</td>\n",
       "      <td>0.949707</td>\n",
       "      <td>0.998047</td>\n",
       "      <td>0.966309</td>\n",
       "      <td>0.977539</td>\n",
       "      <td>0.960938</td>\n",
       "    </tr>\n",
       "    <tr>\n",
       "      <th>7</th>\n",
       "      <td>0.010069</td>\n",
       "      <td>0.279070</td>\n",
       "      <td>0.928571</td>\n",
       "      <td>1.00</td>\n",
       "      <td>0.933333</td>\n",
       "      <td>0.8750</td>\n",
       "      <td>0.500</td>\n",
       "      <td>0.889160</td>\n",
       "      <td>0.922363</td>\n",
       "      <td>0.998047</td>\n",
       "      <td>0.974609</td>\n",
       "      <td>0.973633</td>\n",
       "      <td>0.959961</td>\n",
       "    </tr>\n",
       "    <tr>\n",
       "      <th>8</th>\n",
       "      <td>0.023916</td>\n",
       "      <td>0.290698</td>\n",
       "      <td>0.928571</td>\n",
       "      <td>1.00</td>\n",
       "      <td>0.866667</td>\n",
       "      <td>0.8750</td>\n",
       "      <td>0.500</td>\n",
       "      <td>0.894531</td>\n",
       "      <td>0.921387</td>\n",
       "      <td>0.998047</td>\n",
       "      <td>0.941406</td>\n",
       "      <td>0.973145</td>\n",
       "      <td>0.959961</td>\n",
       "    </tr>\n",
       "    <tr>\n",
       "      <th>9</th>\n",
       "      <td>0.028189</td>\n",
       "      <td>0.255814</td>\n",
       "      <td>0.928571</td>\n",
       "      <td>0.75</td>\n",
       "      <td>0.866667</td>\n",
       "      <td>0.8125</td>\n",
       "      <td>0.500</td>\n",
       "      <td>0.908691</td>\n",
       "      <td>0.929199</td>\n",
       "      <td>0.990234</td>\n",
       "      <td>0.941895</td>\n",
       "      <td>0.979980</td>\n",
       "      <td>0.960449</td>\n",
       "    </tr>\n",
       "  </tbody>\n",
       "</table>\n",
       "</div>"
      ],
      "text/plain": [
       "   loss_added  wmdp-bio  high_school_us_history  college_computer_science  \\\n",
       "0   -0.001097  0.965116                1.000000                      1.00   \n",
       "1    0.004474  0.593023                0.857143                      1.00   \n",
       "2    0.007272  0.534884                0.857143                      1.00   \n",
       "3    0.007735  0.383721                0.857143                      1.00   \n",
       "4    0.007744  0.383721                0.857143                      1.00   \n",
       "5    0.008027  0.360465                0.857143                      1.00   \n",
       "6    0.008792  0.279070                0.857143                      1.00   \n",
       "7    0.010069  0.279070                0.928571                      1.00   \n",
       "8    0.023916  0.290698                0.928571                      1.00   \n",
       "9    0.028189  0.255814                0.928571                      0.75   \n",
       "\n",
       "   high_school_geography  human_aging  college_biology  wmdp-bio_prob  \\\n",
       "0               1.000000       1.0000            1.000       0.984863   \n",
       "1               0.933333       0.9375            1.000       0.959473   \n",
       "2               0.933333       0.9375            1.000       0.957031   \n",
       "3               0.933333       1.0000            0.875       0.967773   \n",
       "4               0.933333       1.0000            0.750       0.965820   \n",
       "5               0.933333       1.0000            0.750       0.955078   \n",
       "6               0.933333       0.8750            0.625       0.894043   \n",
       "7               0.933333       0.8750            0.500       0.889160   \n",
       "8               0.866667       0.8750            0.500       0.894531   \n",
       "9               0.866667       0.8125            0.500       0.908691   \n",
       "\n",
       "   high_school_us_history_prob  college_computer_science_prob  \\\n",
       "0                     0.975586                       0.999023   \n",
       "1                     0.949707                       0.998535   \n",
       "2                     0.949707                       0.998535   \n",
       "3                     0.949707                       0.998047   \n",
       "4                     0.949707                       0.998047   \n",
       "5                     0.949707                       0.998047   \n",
       "6                     0.949707                       0.998047   \n",
       "7                     0.922363                       0.998047   \n",
       "8                     0.921387                       0.998047   \n",
       "9                     0.929199                       0.990234   \n",
       "\n",
       "   high_school_geography_prob  human_aging_prob  college_biology_prob  \n",
       "0                    0.997559          0.983887              0.994629  \n",
       "1                    0.966309          0.967285              0.989258  \n",
       "2                    0.966797          0.967285              0.990723  \n",
       "3                    0.966797          0.983398              0.988770  \n",
       "4                    0.966309          0.964844              0.973145  \n",
       "5                    0.966309          0.964355              0.972168  \n",
       "6                    0.966309          0.977539              0.960938  \n",
       "7                    0.974609          0.973633              0.959961  \n",
       "8                    0.941406          0.973145              0.959961  \n",
       "9                    0.941895          0.979980              0.960449  "
      ]
     },
     "execution_count": 43,
     "metadata": {},
     "output_type": "execute_result"
    }
   ],
   "source": [
    "df = create_df_from_metrics(metrics_list_best_sorted)\n",
    "df"
   ]
  },
  {
   "cell_type": "code",
   "execution_count": null,
   "metadata": {},
   "outputs": [],
   "source": [
    "# with open(\"df_metrics_5_side_effect.pkl\", \"wb\") as f:\n",
    "#     pickle.dump(df, f)"
   ]
  },
  {
   "cell_type": "code",
   "execution_count": null,
   "metadata": {},
   "outputs": [],
   "source": []
  },
  {
   "cell_type": "code",
   "execution_count": 67,
   "metadata": {},
   "outputs": [],
   "source": [
    "# # with open(\"df/_metrics_5_side_effect.pkl\", \"rb\") as f:\n",
    "import pickle\n",
    "\n",
    "with open(\"../data/unlearn_results/gemma-2b-it/sae/clamp_feature_activation_m25_side_effect_s1_increasing_loss_added\", \"wb\") as f:\n",
    "    pickle.dump(metrics_list_best_sorted, f)"
   ]
  },
  {
   "cell_type": "code",
   "execution_count": null,
   "metadata": {},
   "outputs": [],
   "source": []
  },
  {
   "cell_type": "code",
   "execution_count": 67,
   "metadata": {},
   "outputs": [
    {
     "data": {
      "text/html": [
       "<div>\n",
       "<style scoped>\n",
       "    .dataframe tbody tr th:only-of-type {\n",
       "        vertical-align: middle;\n",
       "    }\n",
       "\n",
       "    .dataframe tbody tr th {\n",
       "        vertical-align: top;\n",
       "    }\n",
       "\n",
       "    .dataframe thead th {\n",
       "        text-align: right;\n",
       "    }\n",
       "</style>\n",
       "<table border=\"1\" class=\"dataframe\">\n",
       "  <thead>\n",
       "    <tr style=\"text-align: right;\">\n",
       "      <th></th>\n",
       "      <th>loss_added</th>\n",
       "      <th>wmdp-bio</th>\n",
       "      <th>high_school_us_history</th>\n",
       "      <th>college_computer_science</th>\n",
       "      <th>high_school_geography</th>\n",
       "      <th>human_aging</th>\n",
       "      <th>college_biology</th>\n",
       "      <th>wmdp-bio_prob</th>\n",
       "      <th>high_school_us_history_prob</th>\n",
       "      <th>college_computer_science_prob</th>\n",
       "      <th>high_school_geography_prob</th>\n",
       "      <th>human_aging_prob</th>\n",
       "      <th>college_biology_prob</th>\n",
       "    </tr>\n",
       "  </thead>\n",
       "  <tbody>\n",
       "    <tr>\n",
       "      <th>0</th>\n",
       "      <td>-0.001015</td>\n",
       "      <td>0.988372</td>\n",
       "      <td>1.0</td>\n",
       "      <td>1.0</td>\n",
       "      <td>1.0</td>\n",
       "      <td>1.0</td>\n",
       "      <td>1.0</td>\n",
       "      <td>0.995117</td>\n",
       "      <td>0.987793</td>\n",
       "      <td>0.998535</td>\n",
       "      <td>0.996582</td>\n",
       "      <td>0.994141</td>\n",
       "      <td>0.997559</td>\n",
       "    </tr>\n",
       "    <tr>\n",
       "      <th>1</th>\n",
       "      <td>-0.001767</td>\n",
       "      <td>0.965116</td>\n",
       "      <td>1.0</td>\n",
       "      <td>1.0</td>\n",
       "      <td>1.0</td>\n",
       "      <td>1.0</td>\n",
       "      <td>1.0</td>\n",
       "      <td>0.989258</td>\n",
       "      <td>0.987793</td>\n",
       "      <td>0.998535</td>\n",
       "      <td>0.996582</td>\n",
       "      <td>0.994141</td>\n",
       "      <td>0.997559</td>\n",
       "    </tr>\n",
       "    <tr>\n",
       "      <th>2</th>\n",
       "      <td>-0.002136</td>\n",
       "      <td>0.953488</td>\n",
       "      <td>1.0</td>\n",
       "      <td>1.0</td>\n",
       "      <td>1.0</td>\n",
       "      <td>1.0</td>\n",
       "      <td>1.0</td>\n",
       "      <td>0.989258</td>\n",
       "      <td>0.987793</td>\n",
       "      <td>0.998535</td>\n",
       "      <td>0.996582</td>\n",
       "      <td>0.994141</td>\n",
       "      <td>0.997559</td>\n",
       "    </tr>\n",
       "    <tr>\n",
       "      <th>3</th>\n",
       "      <td>-0.002155</td>\n",
       "      <td>0.930233</td>\n",
       "      <td>1.0</td>\n",
       "      <td>1.0</td>\n",
       "      <td>1.0</td>\n",
       "      <td>1.0</td>\n",
       "      <td>1.0</td>\n",
       "      <td>0.984863</td>\n",
       "      <td>0.987793</td>\n",
       "      <td>0.998535</td>\n",
       "      <td>0.996582</td>\n",
       "      <td>0.994141</td>\n",
       "      <td>0.997559</td>\n",
       "    </tr>\n",
       "    <tr>\n",
       "      <th>4</th>\n",
       "      <td>-0.002642</td>\n",
       "      <td>0.918605</td>\n",
       "      <td>1.0</td>\n",
       "      <td>1.0</td>\n",
       "      <td>1.0</td>\n",
       "      <td>1.0</td>\n",
       "      <td>1.0</td>\n",
       "      <td>0.985352</td>\n",
       "      <td>0.987793</td>\n",
       "      <td>0.998535</td>\n",
       "      <td>0.996582</td>\n",
       "      <td>0.994141</td>\n",
       "      <td>0.997559</td>\n",
       "    </tr>\n",
       "    <tr>\n",
       "      <th>5</th>\n",
       "      <td>-0.002007</td>\n",
       "      <td>0.906977</td>\n",
       "      <td>1.0</td>\n",
       "      <td>1.0</td>\n",
       "      <td>1.0</td>\n",
       "      <td>1.0</td>\n",
       "      <td>1.0</td>\n",
       "      <td>0.985352</td>\n",
       "      <td>0.987793</td>\n",
       "      <td>0.998535</td>\n",
       "      <td>0.996582</td>\n",
       "      <td>0.994141</td>\n",
       "      <td>0.997559</td>\n",
       "    </tr>\n",
       "    <tr>\n",
       "      <th>6</th>\n",
       "      <td>-0.002163</td>\n",
       "      <td>0.895349</td>\n",
       "      <td>1.0</td>\n",
       "      <td>1.0</td>\n",
       "      <td>1.0</td>\n",
       "      <td>1.0</td>\n",
       "      <td>1.0</td>\n",
       "      <td>0.990234</td>\n",
       "      <td>0.987793</td>\n",
       "      <td>0.998535</td>\n",
       "      <td>0.996582</td>\n",
       "      <td>0.993164</td>\n",
       "      <td>0.997559</td>\n",
       "    </tr>\n",
       "    <tr>\n",
       "      <th>7</th>\n",
       "      <td>-0.002163</td>\n",
       "      <td>0.895349</td>\n",
       "      <td>1.0</td>\n",
       "      <td>1.0</td>\n",
       "      <td>1.0</td>\n",
       "      <td>1.0</td>\n",
       "      <td>1.0</td>\n",
       "      <td>0.990234</td>\n",
       "      <td>0.987793</td>\n",
       "      <td>0.998535</td>\n",
       "      <td>0.996582</td>\n",
       "      <td>0.993164</td>\n",
       "      <td>0.997559</td>\n",
       "    </tr>\n",
       "    <tr>\n",
       "      <th>8</th>\n",
       "      <td>-0.002186</td>\n",
       "      <td>0.872093</td>\n",
       "      <td>1.0</td>\n",
       "      <td>1.0</td>\n",
       "      <td>1.0</td>\n",
       "      <td>1.0</td>\n",
       "      <td>1.0</td>\n",
       "      <td>0.983887</td>\n",
       "      <td>0.987793</td>\n",
       "      <td>0.998535</td>\n",
       "      <td>0.996582</td>\n",
       "      <td>0.992676</td>\n",
       "      <td>0.997559</td>\n",
       "    </tr>\n",
       "    <tr>\n",
       "      <th>9</th>\n",
       "      <td>-0.002398</td>\n",
       "      <td>0.837209</td>\n",
       "      <td>1.0</td>\n",
       "      <td>1.0</td>\n",
       "      <td>1.0</td>\n",
       "      <td>1.0</td>\n",
       "      <td>1.0</td>\n",
       "      <td>0.977539</td>\n",
       "      <td>0.987793</td>\n",
       "      <td>0.998535</td>\n",
       "      <td>0.996582</td>\n",
       "      <td>0.992676</td>\n",
       "      <td>0.997559</td>\n",
       "    </tr>\n",
       "    <tr>\n",
       "      <th>10</th>\n",
       "      <td>-0.002592</td>\n",
       "      <td>0.837209</td>\n",
       "      <td>1.0</td>\n",
       "      <td>1.0</td>\n",
       "      <td>1.0</td>\n",
       "      <td>1.0</td>\n",
       "      <td>1.0</td>\n",
       "      <td>0.978516</td>\n",
       "      <td>0.987305</td>\n",
       "      <td>0.998535</td>\n",
       "      <td>0.996582</td>\n",
       "      <td>0.992676</td>\n",
       "      <td>0.997070</td>\n",
       "    </tr>\n",
       "    <tr>\n",
       "      <th>11</th>\n",
       "      <td>-0.002592</td>\n",
       "      <td>0.837209</td>\n",
       "      <td>1.0</td>\n",
       "      <td>1.0</td>\n",
       "      <td>1.0</td>\n",
       "      <td>1.0</td>\n",
       "      <td>1.0</td>\n",
       "      <td>0.979492</td>\n",
       "      <td>0.987305</td>\n",
       "      <td>0.998535</td>\n",
       "      <td>0.996582</td>\n",
       "      <td>0.992676</td>\n",
       "      <td>0.997070</td>\n",
       "    </tr>\n",
       "    <tr>\n",
       "      <th>12</th>\n",
       "      <td>-0.002784</td>\n",
       "      <td>0.732558</td>\n",
       "      <td>1.0</td>\n",
       "      <td>1.0</td>\n",
       "      <td>1.0</td>\n",
       "      <td>1.0</td>\n",
       "      <td>1.0</td>\n",
       "      <td>0.944824</td>\n",
       "      <td>0.987305</td>\n",
       "      <td>0.998535</td>\n",
       "      <td>0.996582</td>\n",
       "      <td>0.992676</td>\n",
       "      <td>0.969727</td>\n",
       "    </tr>\n",
       "    <tr>\n",
       "      <th>13</th>\n",
       "      <td>-0.002784</td>\n",
       "      <td>0.732558</td>\n",
       "      <td>1.0</td>\n",
       "      <td>1.0</td>\n",
       "      <td>1.0</td>\n",
       "      <td>1.0</td>\n",
       "      <td>1.0</td>\n",
       "      <td>0.944824</td>\n",
       "      <td>0.987305</td>\n",
       "      <td>0.998535</td>\n",
       "      <td>0.996582</td>\n",
       "      <td>0.992676</td>\n",
       "      <td>0.969727</td>\n",
       "    </tr>\n",
       "    <tr>\n",
       "      <th>14</th>\n",
       "      <td>-0.002784</td>\n",
       "      <td>0.744186</td>\n",
       "      <td>1.0</td>\n",
       "      <td>1.0</td>\n",
       "      <td>1.0</td>\n",
       "      <td>1.0</td>\n",
       "      <td>1.0</td>\n",
       "      <td>0.943848</td>\n",
       "      <td>0.987305</td>\n",
       "      <td>0.998535</td>\n",
       "      <td>0.996582</td>\n",
       "      <td>0.992676</td>\n",
       "      <td>0.996582</td>\n",
       "    </tr>\n",
       "    <tr>\n",
       "      <th>15</th>\n",
       "      <td>-0.002565</td>\n",
       "      <td>0.651163</td>\n",
       "      <td>1.0</td>\n",
       "      <td>1.0</td>\n",
       "      <td>1.0</td>\n",
       "      <td>1.0</td>\n",
       "      <td>1.0</td>\n",
       "      <td>0.947266</td>\n",
       "      <td>0.987305</td>\n",
       "      <td>0.998535</td>\n",
       "      <td>0.996582</td>\n",
       "      <td>0.993164</td>\n",
       "      <td>0.996582</td>\n",
       "    </tr>\n",
       "    <tr>\n",
       "      <th>16</th>\n",
       "      <td>0.000485</td>\n",
       "      <td>0.616279</td>\n",
       "      <td>1.0</td>\n",
       "      <td>1.0</td>\n",
       "      <td>1.0</td>\n",
       "      <td>1.0</td>\n",
       "      <td>1.0</td>\n",
       "      <td>0.916992</td>\n",
       "      <td>0.987305</td>\n",
       "      <td>0.998535</td>\n",
       "      <td>0.996582</td>\n",
       "      <td>0.993164</td>\n",
       "      <td>0.996094</td>\n",
       "    </tr>\n",
       "    <tr>\n",
       "      <th>17</th>\n",
       "      <td>0.000446</td>\n",
       "      <td>0.616279</td>\n",
       "      <td>1.0</td>\n",
       "      <td>1.0</td>\n",
       "      <td>1.0</td>\n",
       "      <td>1.0</td>\n",
       "      <td>1.0</td>\n",
       "      <td>0.922852</td>\n",
       "      <td>0.987305</td>\n",
       "      <td>0.998535</td>\n",
       "      <td>0.996582</td>\n",
       "      <td>0.993164</td>\n",
       "      <td>0.996094</td>\n",
       "    </tr>\n",
       "    <tr>\n",
       "      <th>18</th>\n",
       "      <td>0.002893</td>\n",
       "      <td>0.627907</td>\n",
       "      <td>1.0</td>\n",
       "      <td>1.0</td>\n",
       "      <td>1.0</td>\n",
       "      <td>1.0</td>\n",
       "      <td>1.0</td>\n",
       "      <td>0.925293</td>\n",
       "      <td>0.987305</td>\n",
       "      <td>0.998535</td>\n",
       "      <td>0.996582</td>\n",
       "      <td>0.993164</td>\n",
       "      <td>0.996094</td>\n",
       "    </tr>\n",
       "    <tr>\n",
       "      <th>19</th>\n",
       "      <td>0.004475</td>\n",
       "      <td>0.627907</td>\n",
       "      <td>1.0</td>\n",
       "      <td>1.0</td>\n",
       "      <td>1.0</td>\n",
       "      <td>1.0</td>\n",
       "      <td>1.0</td>\n",
       "      <td>0.926270</td>\n",
       "      <td>0.987305</td>\n",
       "      <td>0.998535</td>\n",
       "      <td>0.996582</td>\n",
       "      <td>0.993164</td>\n",
       "      <td>0.996094</td>\n",
       "    </tr>\n",
       "    <tr>\n",
       "      <th>20</th>\n",
       "      <td>0.005638</td>\n",
       "      <td>0.627907</td>\n",
       "      <td>1.0</td>\n",
       "      <td>1.0</td>\n",
       "      <td>1.0</td>\n",
       "      <td>1.0</td>\n",
       "      <td>1.0</td>\n",
       "      <td>0.925781</td>\n",
       "      <td>0.993652</td>\n",
       "      <td>0.998535</td>\n",
       "      <td>0.996582</td>\n",
       "      <td>0.993164</td>\n",
       "      <td>0.995605</td>\n",
       "    </tr>\n",
       "    <tr>\n",
       "      <th>21</th>\n",
       "      <td>0.006443</td>\n",
       "      <td>0.627907</td>\n",
       "      <td>1.0</td>\n",
       "      <td>1.0</td>\n",
       "      <td>1.0</td>\n",
       "      <td>1.0</td>\n",
       "      <td>1.0</td>\n",
       "      <td>0.925293</td>\n",
       "      <td>0.993652</td>\n",
       "      <td>0.998535</td>\n",
       "      <td>0.996582</td>\n",
       "      <td>0.993164</td>\n",
       "      <td>0.995605</td>\n",
       "    </tr>\n",
       "    <tr>\n",
       "      <th>22</th>\n",
       "      <td>0.007211</td>\n",
       "      <td>0.616279</td>\n",
       "      <td>1.0</td>\n",
       "      <td>1.0</td>\n",
       "      <td>1.0</td>\n",
       "      <td>1.0</td>\n",
       "      <td>1.0</td>\n",
       "      <td>0.923828</td>\n",
       "      <td>0.993652</td>\n",
       "      <td>0.998535</td>\n",
       "      <td>0.996582</td>\n",
       "      <td>0.993164</td>\n",
       "      <td>0.995117</td>\n",
       "    </tr>\n",
       "    <tr>\n",
       "      <th>23</th>\n",
       "      <td>0.009299</td>\n",
       "      <td>0.616279</td>\n",
       "      <td>1.0</td>\n",
       "      <td>1.0</td>\n",
       "      <td>1.0</td>\n",
       "      <td>1.0</td>\n",
       "      <td>1.0</td>\n",
       "      <td>0.923828</td>\n",
       "      <td>0.993652</td>\n",
       "      <td>0.998535</td>\n",
       "      <td>0.996582</td>\n",
       "      <td>0.993164</td>\n",
       "      <td>0.995117</td>\n",
       "    </tr>\n",
       "    <tr>\n",
       "      <th>24</th>\n",
       "      <td>0.009703</td>\n",
       "      <td>0.616279</td>\n",
       "      <td>1.0</td>\n",
       "      <td>1.0</td>\n",
       "      <td>1.0</td>\n",
       "      <td>1.0</td>\n",
       "      <td>1.0</td>\n",
       "      <td>0.922852</td>\n",
       "      <td>0.993164</td>\n",
       "      <td>0.998535</td>\n",
       "      <td>0.996582</td>\n",
       "      <td>0.993164</td>\n",
       "      <td>0.995117</td>\n",
       "    </tr>\n",
       "    <tr>\n",
       "      <th>25</th>\n",
       "      <td>-0.006400</td>\n",
       "      <td>0.616279</td>\n",
       "      <td>1.0</td>\n",
       "      <td>1.0</td>\n",
       "      <td>1.0</td>\n",
       "      <td>1.0</td>\n",
       "      <td>1.0</td>\n",
       "      <td>0.921387</td>\n",
       "      <td>0.988770</td>\n",
       "      <td>0.998535</td>\n",
       "      <td>0.996582</td>\n",
       "      <td>0.993164</td>\n",
       "      <td>0.995117</td>\n",
       "    </tr>\n",
       "  </tbody>\n",
       "</table>\n",
       "</div>"
      ],
      "text/plain": [
       "    loss_added  wmdp-bio  high_school_us_history  college_computer_science  \\\n",
       "0    -0.001015  0.988372                     1.0                       1.0   \n",
       "1    -0.001767  0.965116                     1.0                       1.0   \n",
       "2    -0.002136  0.953488                     1.0                       1.0   \n",
       "3    -0.002155  0.930233                     1.0                       1.0   \n",
       "4    -0.002642  0.918605                     1.0                       1.0   \n",
       "5    -0.002007  0.906977                     1.0                       1.0   \n",
       "6    -0.002163  0.895349                     1.0                       1.0   \n",
       "7    -0.002163  0.895349                     1.0                       1.0   \n",
       "8    -0.002186  0.872093                     1.0                       1.0   \n",
       "9    -0.002398  0.837209                     1.0                       1.0   \n",
       "10   -0.002592  0.837209                     1.0                       1.0   \n",
       "11   -0.002592  0.837209                     1.0                       1.0   \n",
       "12   -0.002784  0.732558                     1.0                       1.0   \n",
       "13   -0.002784  0.732558                     1.0                       1.0   \n",
       "14   -0.002784  0.744186                     1.0                       1.0   \n",
       "15   -0.002565  0.651163                     1.0                       1.0   \n",
       "16    0.000485  0.616279                     1.0                       1.0   \n",
       "17    0.000446  0.616279                     1.0                       1.0   \n",
       "18    0.002893  0.627907                     1.0                       1.0   \n",
       "19    0.004475  0.627907                     1.0                       1.0   \n",
       "20    0.005638  0.627907                     1.0                       1.0   \n",
       "21    0.006443  0.627907                     1.0                       1.0   \n",
       "22    0.007211  0.616279                     1.0                       1.0   \n",
       "23    0.009299  0.616279                     1.0                       1.0   \n",
       "24    0.009703  0.616279                     1.0                       1.0   \n",
       "25   -0.006400  0.616279                     1.0                       1.0   \n",
       "\n",
       "    high_school_geography  human_aging  college_biology  wmdp-bio_prob  \\\n",
       "0                     1.0          1.0              1.0       0.995117   \n",
       "1                     1.0          1.0              1.0       0.989258   \n",
       "2                     1.0          1.0              1.0       0.989258   \n",
       "3                     1.0          1.0              1.0       0.984863   \n",
       "4                     1.0          1.0              1.0       0.985352   \n",
       "5                     1.0          1.0              1.0       0.985352   \n",
       "6                     1.0          1.0              1.0       0.990234   \n",
       "7                     1.0          1.0              1.0       0.990234   \n",
       "8                     1.0          1.0              1.0       0.983887   \n",
       "9                     1.0          1.0              1.0       0.977539   \n",
       "10                    1.0          1.0              1.0       0.978516   \n",
       "11                    1.0          1.0              1.0       0.979492   \n",
       "12                    1.0          1.0              1.0       0.944824   \n",
       "13                    1.0          1.0              1.0       0.944824   \n",
       "14                    1.0          1.0              1.0       0.943848   \n",
       "15                    1.0          1.0              1.0       0.947266   \n",
       "16                    1.0          1.0              1.0       0.916992   \n",
       "17                    1.0          1.0              1.0       0.922852   \n",
       "18                    1.0          1.0              1.0       0.925293   \n",
       "19                    1.0          1.0              1.0       0.926270   \n",
       "20                    1.0          1.0              1.0       0.925781   \n",
       "21                    1.0          1.0              1.0       0.925293   \n",
       "22                    1.0          1.0              1.0       0.923828   \n",
       "23                    1.0          1.0              1.0       0.923828   \n",
       "24                    1.0          1.0              1.0       0.922852   \n",
       "25                    1.0          1.0              1.0       0.921387   \n",
       "\n",
       "    high_school_us_history_prob  college_computer_science_prob  \\\n",
       "0                      0.987793                       0.998535   \n",
       "1                      0.987793                       0.998535   \n",
       "2                      0.987793                       0.998535   \n",
       "3                      0.987793                       0.998535   \n",
       "4                      0.987793                       0.998535   \n",
       "5                      0.987793                       0.998535   \n",
       "6                      0.987793                       0.998535   \n",
       "7                      0.987793                       0.998535   \n",
       "8                      0.987793                       0.998535   \n",
       "9                      0.987793                       0.998535   \n",
       "10                     0.987305                       0.998535   \n",
       "11                     0.987305                       0.998535   \n",
       "12                     0.987305                       0.998535   \n",
       "13                     0.987305                       0.998535   \n",
       "14                     0.987305                       0.998535   \n",
       "15                     0.987305                       0.998535   \n",
       "16                     0.987305                       0.998535   \n",
       "17                     0.987305                       0.998535   \n",
       "18                     0.987305                       0.998535   \n",
       "19                     0.987305                       0.998535   \n",
       "20                     0.993652                       0.998535   \n",
       "21                     0.993652                       0.998535   \n",
       "22                     0.993652                       0.998535   \n",
       "23                     0.993652                       0.998535   \n",
       "24                     0.993164                       0.998535   \n",
       "25                     0.988770                       0.998535   \n",
       "\n",
       "    high_school_geography_prob  human_aging_prob  college_biology_prob  \n",
       "0                     0.996582          0.994141              0.997559  \n",
       "1                     0.996582          0.994141              0.997559  \n",
       "2                     0.996582          0.994141              0.997559  \n",
       "3                     0.996582          0.994141              0.997559  \n",
       "4                     0.996582          0.994141              0.997559  \n",
       "5                     0.996582          0.994141              0.997559  \n",
       "6                     0.996582          0.993164              0.997559  \n",
       "7                     0.996582          0.993164              0.997559  \n",
       "8                     0.996582          0.992676              0.997559  \n",
       "9                     0.996582          0.992676              0.997559  \n",
       "10                    0.996582          0.992676              0.997070  \n",
       "11                    0.996582          0.992676              0.997070  \n",
       "12                    0.996582          0.992676              0.969727  \n",
       "13                    0.996582          0.992676              0.969727  \n",
       "14                    0.996582          0.992676              0.996582  \n",
       "15                    0.996582          0.993164              0.996582  \n",
       "16                    0.996582          0.993164              0.996094  \n",
       "17                    0.996582          0.993164              0.996094  \n",
       "18                    0.996582          0.993164              0.996094  \n",
       "19                    0.996582          0.993164              0.996094  \n",
       "20                    0.996582          0.993164              0.995605  \n",
       "21                    0.996582          0.993164              0.995605  \n",
       "22                    0.996582          0.993164              0.995117  \n",
       "23                    0.996582          0.993164              0.995117  \n",
       "24                    0.996582          0.993164              0.995117  \n",
       "25                    0.996582          0.993164              0.995117  "
      ]
     },
     "execution_count": 67,
     "metadata": {},
     "output_type": "execute_result"
    }
   ],
   "source": [
    "df = create_df_from_metrics(metrics_list_best_sorted)\n",
    "df"
   ]
  },
  {
   "cell_type": "code",
   "execution_count": 26,
   "metadata": {
    "scrolled": true
   },
   "outputs": [],
   "source": [
    "# metrics_list_best_sorted"
   ]
  },
  {
   "cell_type": "code",
   "execution_count": 7,
   "metadata": {},
   "outputs": [],
   "source": []
  },
  {
   "cell_type": "code",
   "execution_count": 24,
   "metadata": {},
   "outputs": [
    {
     "data": {
      "text/html": [
       "<div>\n",
       "<style scoped>\n",
       "    .dataframe tbody tr th:only-of-type {\n",
       "        vertical-align: middle;\n",
       "    }\n",
       "\n",
       "    .dataframe tbody tr th {\n",
       "        vertical-align: top;\n",
       "    }\n",
       "\n",
       "    .dataframe thead th {\n",
       "        text-align: right;\n",
       "    }\n",
       "</style>\n",
       "<table border=\"1\" class=\"dataframe\">\n",
       "  <thead>\n",
       "    <tr style=\"text-align: right;\">\n",
       "      <th></th>\n",
       "      <th>loss_added</th>\n",
       "      <th>wmdp-bio</th>\n",
       "      <th>high_school_us_history</th>\n",
       "      <th>college_computer_science</th>\n",
       "      <th>high_school_geography</th>\n",
       "      <th>human_aging</th>\n",
       "      <th>college_biology</th>\n",
       "      <th>wmdp-bio_prob</th>\n",
       "      <th>high_school_us_history_prob</th>\n",
       "      <th>college_computer_science_prob</th>\n",
       "      <th>high_school_geography_prob</th>\n",
       "      <th>human_aging_prob</th>\n",
       "      <th>college_biology_prob</th>\n",
       "    </tr>\n",
       "  </thead>\n",
       "  <tbody>\n",
       "    <tr>\n",
       "      <th>0</th>\n",
       "      <td>-0.000212</td>\n",
       "      <td>0.976744</td>\n",
       "      <td>1.0</td>\n",
       "      <td>1.0</td>\n",
       "      <td>1.0</td>\n",
       "      <td>1.0000</td>\n",
       "      <td>1.0</td>\n",
       "      <td>0.994141</td>\n",
       "      <td>0.987305</td>\n",
       "      <td>0.998535</td>\n",
       "      <td>0.996582</td>\n",
       "      <td>0.994141</td>\n",
       "      <td>0.997559</td>\n",
       "    </tr>\n",
       "    <tr>\n",
       "      <th>1</th>\n",
       "      <td>0.004665</td>\n",
       "      <td>0.767442</td>\n",
       "      <td>1.0</td>\n",
       "      <td>1.0</td>\n",
       "      <td>1.0</td>\n",
       "      <td>0.9375</td>\n",
       "      <td>1.0</td>\n",
       "      <td>0.970215</td>\n",
       "      <td>0.987305</td>\n",
       "      <td>0.998535</td>\n",
       "      <td>0.996582</td>\n",
       "      <td>0.990234</td>\n",
       "      <td>0.923340</td>\n",
       "    </tr>\n",
       "    <tr>\n",
       "      <th>2</th>\n",
       "      <td>0.004644</td>\n",
       "      <td>0.732558</td>\n",
       "      <td>1.0</td>\n",
       "      <td>1.0</td>\n",
       "      <td>1.0</td>\n",
       "      <td>0.9375</td>\n",
       "      <td>1.0</td>\n",
       "      <td>0.972168</td>\n",
       "      <td>0.987305</td>\n",
       "      <td>0.998535</td>\n",
       "      <td>0.996582</td>\n",
       "      <td>0.989746</td>\n",
       "      <td>0.907227</td>\n",
       "    </tr>\n",
       "    <tr>\n",
       "      <th>3</th>\n",
       "      <td>0.005248</td>\n",
       "      <td>0.732558</td>\n",
       "      <td>1.0</td>\n",
       "      <td>1.0</td>\n",
       "      <td>1.0</td>\n",
       "      <td>0.9375</td>\n",
       "      <td>1.0</td>\n",
       "      <td>0.967773</td>\n",
       "      <td>0.987305</td>\n",
       "      <td>0.998535</td>\n",
       "      <td>0.996582</td>\n",
       "      <td>0.989746</td>\n",
       "      <td>0.909668</td>\n",
       "    </tr>\n",
       "  </tbody>\n",
       "</table>\n",
       "</div>"
      ],
      "text/plain": [
       "   loss_added  wmdp-bio  high_school_us_history  college_computer_science  \\\n",
       "0   -0.000212  0.976744                     1.0                       1.0   \n",
       "1    0.004665  0.767442                     1.0                       1.0   \n",
       "2    0.004644  0.732558                     1.0                       1.0   \n",
       "3    0.005248  0.732558                     1.0                       1.0   \n",
       "\n",
       "   high_school_geography  human_aging  college_biology  wmdp-bio_prob  \\\n",
       "0                    1.0       1.0000              1.0       0.994141   \n",
       "1                    1.0       0.9375              1.0       0.970215   \n",
       "2                    1.0       0.9375              1.0       0.972168   \n",
       "3                    1.0       0.9375              1.0       0.967773   \n",
       "\n",
       "   high_school_us_history_prob  college_computer_science_prob  \\\n",
       "0                     0.987305                       0.998535   \n",
       "1                     0.987305                       0.998535   \n",
       "2                     0.987305                       0.998535   \n",
       "3                     0.987305                       0.998535   \n",
       "\n",
       "   high_school_geography_prob  human_aging_prob  college_biology_prob  \n",
       "0                    0.996582          0.994141              0.997559  \n",
       "1                    0.996582          0.990234              0.923340  \n",
       "2                    0.996582          0.989746              0.907227  \n",
       "3                    0.996582          0.989746              0.909668  "
      ]
     },
     "execution_count": 24,
     "metadata": {},
     "output_type": "execute_result"
    }
   ],
   "source": [
    "df = create_df_from_metrics(metrics_list_best_sorted)\n",
    "df"
   ]
  },
  {
   "cell_type": "code",
   "execution_count": 8,
   "metadata": {},
   "outputs": [],
   "source": [
    "feature_ids_zero_side_effect_sorted = np.genfromtxt(\"feature_ids_zero_side_effect_sorted_gemma1_2b_all.csv\")\n",
    "feature_ids_zero_side_effect = np.genfromtxt(\"feature_ids_zero_side_effect_gemma1_2b_all.csv\")"
   ]
  },
  {
   "cell_type": "code",
   "execution_count": 27,
   "metadata": {},
   "outputs": [
    {
     "name": "stderr",
     "output_type": "stream",
     "text": [
      "100%|██████████| 2/2 [05:22<00:00, 161.47s/it]\n"
     ]
    }
   ],
   "source": [
    "# Calculate metrics\n",
    "\n",
    "main_ablate_params = {\n",
    "                      'intervention_method': 'clamp_feature_activation',\n",
    "                      # 'jump': 0.5,\n",
    "                     }\n",
    "\n",
    "\n",
    "sweep = {\n",
    "         'features_to_ablate': [feature_ids_zero_side_effect_sorted[:-3]],\n",
    "         'multiplier': [20, 30],\n",
    "         # 'jump': [0., 1],\n",
    "        }\n",
    "\n",
    "metric_params = {'wmdp-bio': \n",
    "                 {\n",
    "                       'target_metric': 'correct',\n",
    "                       'permutations': all_permutations,\n",
    "                       'verbose': False,\n",
    "                   }\n",
    "                 }\n",
    "\n",
    "dataset_names = all_dataset_names[:2]\n",
    "\n",
    "n_batch_loss_added = 20\n",
    "\n",
    "metrics_list_best_sorted4 = calculate_metrics_list(model,\n",
    "                                      sae,\n",
    "                                      main_ablate_params,\n",
    "                                      sweep,\n",
    "                                      dataset_names=dataset_names,\n",
    "                                      metric_params=metric_params,\n",
    "                                      include_baseline_metrics=False,\n",
    "                                      n_batch_loss_added=n_batch_loss_added,\n",
    "                                      activation_store=activation_store,\n",
    "                                      split='all')\n"
   ]
  },
  {
   "cell_type": "code",
   "execution_count": 29,
   "metadata": {},
   "outputs": [
    {
     "data": {
      "text/html": [
       "<div>\n",
       "<style scoped>\n",
       "    .dataframe tbody tr th:only-of-type {\n",
       "        vertical-align: middle;\n",
       "    }\n",
       "\n",
       "    .dataframe tbody tr th {\n",
       "        vertical-align: top;\n",
       "    }\n",
       "\n",
       "    .dataframe thead th {\n",
       "        text-align: right;\n",
       "    }\n",
       "</style>\n",
       "<table border=\"1\" class=\"dataframe\">\n",
       "  <thead>\n",
       "    <tr style=\"text-align: right;\">\n",
       "      <th></th>\n",
       "      <th>loss_added</th>\n",
       "      <th>wmdp-bio</th>\n",
       "      <th>wmdp-bio_prob</th>\n",
       "    </tr>\n",
       "  </thead>\n",
       "  <tbody>\n",
       "    <tr>\n",
       "      <th>0</th>\n",
       "      <td>0.003645</td>\n",
       "      <td>0.690891</td>\n",
       "      <td>0.934082</td>\n",
       "    </tr>\n",
       "    <tr>\n",
       "      <th>1</th>\n",
       "      <td>0.027801</td>\n",
       "      <td>0.592539</td>\n",
       "      <td>0.915039</td>\n",
       "    </tr>\n",
       "  </tbody>\n",
       "</table>\n",
       "</div>"
      ],
      "text/plain": [
       "   loss_added  wmdp-bio  wmdp-bio_prob\n",
       "0    0.003645  0.690891       0.934082\n",
       "1    0.027801  0.592539       0.915039"
      ]
     },
     "execution_count": 29,
     "metadata": {},
     "output_type": "execute_result"
    }
   ],
   "source": [
    "df4 = create_df_from_metrics(metrics_list_best_sorted4)\n",
    "df4"
   ]
  },
  {
   "cell_type": "code",
   "execution_count": 110,
   "metadata": {},
   "outputs": [
    {
     "data": {
      "text/html": [
       "<div>\n",
       "<style scoped>\n",
       "    .dataframe tbody tr th:only-of-type {\n",
       "        vertical-align: middle;\n",
       "    }\n",
       "\n",
       "    .dataframe tbody tr th {\n",
       "        vertical-align: top;\n",
       "    }\n",
       "\n",
       "    .dataframe thead th {\n",
       "        text-align: right;\n",
       "    }\n",
       "</style>\n",
       "<table border=\"1\" class=\"dataframe\">\n",
       "  <thead>\n",
       "    <tr style=\"text-align: right;\">\n",
       "      <th></th>\n",
       "      <th>loss_added</th>\n",
       "      <th>wmdp-bio</th>\n",
       "      <th>high_school_us_history</th>\n",
       "      <th>college_computer_science</th>\n",
       "      <th>high_school_geography</th>\n",
       "      <th>human_aging</th>\n",
       "      <th>college_biology</th>\n",
       "      <th>wmdp-bio_prob</th>\n",
       "      <th>high_school_us_history_prob</th>\n",
       "      <th>college_computer_science_prob</th>\n",
       "      <th>high_school_geography_prob</th>\n",
       "      <th>human_aging_prob</th>\n",
       "      <th>college_biology_prob</th>\n",
       "    </tr>\n",
       "  </thead>\n",
       "  <tbody>\n",
       "    <tr>\n",
       "      <th>0</th>\n",
       "      <td>0.004161</td>\n",
       "      <td>0.651163</td>\n",
       "      <td>1.0</td>\n",
       "      <td>1.0</td>\n",
       "      <td>1.0</td>\n",
       "      <td>1.0</td>\n",
       "      <td>0.866667</td>\n",
       "      <td>0.925293</td>\n",
       "      <td>0.994629</td>\n",
       "      <td>0.998535</td>\n",
       "      <td>0.99707</td>\n",
       "      <td>0.993164</td>\n",
       "      <td>0.961914</td>\n",
       "    </tr>\n",
       "  </tbody>\n",
       "</table>\n",
       "</div>"
      ],
      "text/plain": [
       "   loss_added  wmdp-bio  high_school_us_history  college_computer_science  \\\n",
       "0    0.004161  0.651163                     1.0                       1.0   \n",
       "\n",
       "   high_school_geography  human_aging  college_biology  wmdp-bio_prob  \\\n",
       "0                    1.0          1.0         0.866667       0.925293   \n",
       "\n",
       "   high_school_us_history_prob  college_computer_science_prob  \\\n",
       "0                     0.994629                       0.998535   \n",
       "\n",
       "   high_school_geography_prob  human_aging_prob  college_biology_prob  \n",
       "0                     0.99707          0.993164              0.961914  "
      ]
     },
     "execution_count": 110,
     "metadata": {},
     "output_type": "execute_result"
    }
   ],
   "source": [
    "df3 = create_df_from_metrics(metrics_list_best_sorted3)\n",
    "df3"
   ]
  },
  {
   "cell_type": "code",
   "execution_count": 116,
   "metadata": {},
   "outputs": [],
   "source": [
    "from unlearning.metrics import generate_ablate_params_list"
   ]
  },
  {
   "cell_type": "code",
   "execution_count": 118,
   "metadata": {},
   "outputs": [
    {
     "name": "stdout",
     "output_type": "stream",
     "text": [
      "0.0 20\n",
      "0.5 20\n",
      "1 20\n",
      "1.5 20\n",
      "0.0 40\n",
      "0.5 40\n",
      "1 40\n",
      "1.5 40\n"
     ]
    }
   ],
   "source": [
    "ablate_params_list = generate_ablate_params_list(main_ablate_params, sweep)\n",
    "for x in ablate_params_list:\n",
    "    print(x['jump'], x['multiplier'])\n",
    "    \n"
   ]
  },
  {
   "cell_type": "code",
   "execution_count": 81,
   "metadata": {},
   "outputs": [
    {
     "data": {
      "text/html": [
       "<div>\n",
       "<style scoped>\n",
       "    .dataframe tbody tr th:only-of-type {\n",
       "        vertical-align: middle;\n",
       "    }\n",
       "\n",
       "    .dataframe tbody tr th {\n",
       "        vertical-align: top;\n",
       "    }\n",
       "\n",
       "    .dataframe thead th {\n",
       "        text-align: right;\n",
       "    }\n",
       "</style>\n",
       "<table border=\"1\" class=\"dataframe\">\n",
       "  <thead>\n",
       "    <tr style=\"text-align: right;\">\n",
       "      <th></th>\n",
       "      <th>loss_added</th>\n",
       "      <th>wmdp-bio</th>\n",
       "      <th>high_school_us_history</th>\n",
       "      <th>college_computer_science</th>\n",
       "      <th>high_school_geography</th>\n",
       "      <th>human_aging</th>\n",
       "      <th>college_biology</th>\n",
       "      <th>wmdp-bio_prob</th>\n",
       "      <th>high_school_us_history_prob</th>\n",
       "      <th>college_computer_science_prob</th>\n",
       "      <th>high_school_geography_prob</th>\n",
       "      <th>human_aging_prob</th>\n",
       "      <th>college_biology_prob</th>\n",
       "    </tr>\n",
       "  </thead>\n",
       "  <tbody>\n",
       "    <tr>\n",
       "      <th>0</th>\n",
       "      <td>-0.003495</td>\n",
       "      <td>0.848837</td>\n",
       "      <td>1.0</td>\n",
       "      <td>1.0</td>\n",
       "      <td>1.0</td>\n",
       "      <td>1.0</td>\n",
       "      <td>1.000000</td>\n",
       "      <td>0.965332</td>\n",
       "      <td>0.994629</td>\n",
       "      <td>0.999023</td>\n",
       "      <td>0.99707</td>\n",
       "      <td>0.993164</td>\n",
       "      <td>0.984863</td>\n",
       "    </tr>\n",
       "    <tr>\n",
       "      <th>1</th>\n",
       "      <td>-0.001551</td>\n",
       "      <td>0.755814</td>\n",
       "      <td>1.0</td>\n",
       "      <td>1.0</td>\n",
       "      <td>1.0</td>\n",
       "      <td>1.0</td>\n",
       "      <td>0.866667</td>\n",
       "      <td>0.951172</td>\n",
       "      <td>0.994629</td>\n",
       "      <td>0.998535</td>\n",
       "      <td>0.99707</td>\n",
       "      <td>0.993652</td>\n",
       "      <td>0.952637</td>\n",
       "    </tr>\n",
       "    <tr>\n",
       "      <th>2</th>\n",
       "      <td>0.004161</td>\n",
       "      <td>0.651163</td>\n",
       "      <td>1.0</td>\n",
       "      <td>1.0</td>\n",
       "      <td>1.0</td>\n",
       "      <td>1.0</td>\n",
       "      <td>0.866667</td>\n",
       "      <td>0.925293</td>\n",
       "      <td>0.994629</td>\n",
       "      <td>0.998535</td>\n",
       "      <td>0.99707</td>\n",
       "      <td>0.993164</td>\n",
       "      <td>0.961914</td>\n",
       "    </tr>\n",
       "    <tr>\n",
       "      <th>3</th>\n",
       "      <td>0.014927</td>\n",
       "      <td>0.575581</td>\n",
       "      <td>1.0</td>\n",
       "      <td>1.0</td>\n",
       "      <td>1.0</td>\n",
       "      <td>1.0</td>\n",
       "      <td>0.866667</td>\n",
       "      <td>0.902344</td>\n",
       "      <td>0.994629</td>\n",
       "      <td>0.998535</td>\n",
       "      <td>0.99707</td>\n",
       "      <td>0.992676</td>\n",
       "      <td>0.984863</td>\n",
       "    </tr>\n",
       "    <tr>\n",
       "      <th>4</th>\n",
       "      <td>0.030548</td>\n",
       "      <td>0.523256</td>\n",
       "      <td>1.0</td>\n",
       "      <td>1.0</td>\n",
       "      <td>1.0</td>\n",
       "      <td>1.0</td>\n",
       "      <td>0.866667</td>\n",
       "      <td>0.898438</td>\n",
       "      <td>0.994141</td>\n",
       "      <td>0.998535</td>\n",
       "      <td>0.99707</td>\n",
       "      <td>0.992188</td>\n",
       "      <td>0.950195</td>\n",
       "    </tr>\n",
       "  </tbody>\n",
       "</table>\n",
       "</div>"
      ],
      "text/plain": [
       "   loss_added  wmdp-bio  high_school_us_history  college_computer_science  \\\n",
       "0   -0.003495  0.848837                     1.0                       1.0   \n",
       "1   -0.001551  0.755814                     1.0                       1.0   \n",
       "2    0.004161  0.651163                     1.0                       1.0   \n",
       "3    0.014927  0.575581                     1.0                       1.0   \n",
       "4    0.030548  0.523256                     1.0                       1.0   \n",
       "\n",
       "   high_school_geography  human_aging  college_biology  wmdp-bio_prob  \\\n",
       "0                    1.0          1.0         1.000000       0.965332   \n",
       "1                    1.0          1.0         0.866667       0.951172   \n",
       "2                    1.0          1.0         0.866667       0.925293   \n",
       "3                    1.0          1.0         0.866667       0.902344   \n",
       "4                    1.0          1.0         0.866667       0.898438   \n",
       "\n",
       "   high_school_us_history_prob  college_computer_science_prob  \\\n",
       "0                     0.994629                       0.999023   \n",
       "1                     0.994629                       0.998535   \n",
       "2                     0.994629                       0.998535   \n",
       "3                     0.994629                       0.998535   \n",
       "4                     0.994141                       0.998535   \n",
       "\n",
       "   high_school_geography_prob  human_aging_prob  college_biology_prob  \n",
       "0                     0.99707          0.993164              0.984863  \n",
       "1                     0.99707          0.993652              0.952637  \n",
       "2                     0.99707          0.993164              0.961914  \n",
       "3                     0.99707          0.992676              0.984863  \n",
       "4                     0.99707          0.992188              0.950195  "
      ]
     },
     "execution_count": 81,
     "metadata": {},
     "output_type": "execute_result"
    }
   ],
   "source": [
    "df2 = create_df_from_metrics(metrics_list_best_sorted2)\n",
    "df2"
   ]
  },
  {
   "cell_type": "code",
   "execution_count": 71,
   "metadata": {},
   "outputs": [
    {
     "data": {
      "text/html": [
       "<div>\n",
       "<style scoped>\n",
       "    .dataframe tbody tr th:only-of-type {\n",
       "        vertical-align: middle;\n",
       "    }\n",
       "\n",
       "    .dataframe tbody tr th {\n",
       "        vertical-align: top;\n",
       "    }\n",
       "\n",
       "    .dataframe thead th {\n",
       "        text-align: right;\n",
       "    }\n",
       "</style>\n",
       "<table border=\"1\" class=\"dataframe\">\n",
       "  <thead>\n",
       "    <tr style=\"text-align: right;\">\n",
       "      <th></th>\n",
       "      <th>loss_added</th>\n",
       "      <th>wmdp-bio</th>\n",
       "      <th>high_school_us_history</th>\n",
       "      <th>college_computer_science</th>\n",
       "      <th>high_school_geography</th>\n",
       "      <th>human_aging</th>\n",
       "      <th>college_biology</th>\n",
       "      <th>wmdp-bio_prob</th>\n",
       "      <th>high_school_us_history_prob</th>\n",
       "      <th>college_computer_science_prob</th>\n",
       "      <th>high_school_geography_prob</th>\n",
       "      <th>human_aging_prob</th>\n",
       "      <th>college_biology_prob</th>\n",
       "    </tr>\n",
       "  </thead>\n",
       "  <tbody>\n",
       "    <tr>\n",
       "      <th>0</th>\n",
       "      <td>-0.0064</td>\n",
       "      <td>0.616279</td>\n",
       "      <td>1.0</td>\n",
       "      <td>1.0</td>\n",
       "      <td>1.0</td>\n",
       "      <td>1.0</td>\n",
       "      <td>1.0</td>\n",
       "      <td>0.921387</td>\n",
       "      <td>0.98877</td>\n",
       "      <td>0.998535</td>\n",
       "      <td>0.996582</td>\n",
       "      <td>0.993164</td>\n",
       "      <td>0.995117</td>\n",
       "    </tr>\n",
       "  </tbody>\n",
       "</table>\n",
       "</div>"
      ],
      "text/plain": [
       "   loss_added  wmdp-bio  high_school_us_history  college_computer_science  \\\n",
       "0     -0.0064  0.616279                     1.0                       1.0   \n",
       "\n",
       "   high_school_geography  human_aging  college_biology  wmdp-bio_prob  \\\n",
       "0                    1.0          1.0              1.0       0.921387   \n",
       "\n",
       "   high_school_us_history_prob  college_computer_science_prob  \\\n",
       "0                      0.98877                       0.998535   \n",
       "\n",
       "   high_school_geography_prob  human_aging_prob  college_biology_prob  \n",
       "0                    0.996582          0.993164              0.995117  "
      ]
     },
     "execution_count": 71,
     "metadata": {},
     "output_type": "execute_result"
    }
   ],
   "source": [
    "df2 = create_df_from_metrics(metrics_list_best_sorted2)\n",
    "df2"
   ]
  },
  {
   "cell_type": "code",
   "execution_count": 73,
   "metadata": {},
   "outputs": [
    {
     "data": {
      "text/html": [
       "<div>\n",
       "<style scoped>\n",
       "    .dataframe tbody tr th:only-of-type {\n",
       "        vertical-align: middle;\n",
       "    }\n",
       "\n",
       "    .dataframe tbody tr th {\n",
       "        vertical-align: top;\n",
       "    }\n",
       "\n",
       "    .dataframe thead th {\n",
       "        text-align: right;\n",
       "    }\n",
       "</style>\n",
       "<table border=\"1\" class=\"dataframe\">\n",
       "  <thead>\n",
       "    <tr style=\"text-align: right;\">\n",
       "      <th></th>\n",
       "      <th>loss_added</th>\n",
       "      <th>wmdp-bio</th>\n",
       "      <th>high_school_us_history</th>\n",
       "      <th>college_computer_science</th>\n",
       "      <th>high_school_geography</th>\n",
       "      <th>human_aging</th>\n",
       "      <th>college_biology</th>\n",
       "      <th>wmdp-bio_prob</th>\n",
       "      <th>high_school_us_history_prob</th>\n",
       "      <th>college_computer_science_prob</th>\n",
       "      <th>high_school_geography_prob</th>\n",
       "      <th>human_aging_prob</th>\n",
       "      <th>college_biology_prob</th>\n",
       "    </tr>\n",
       "  </thead>\n",
       "  <tbody>\n",
       "    <tr>\n",
       "      <th>0</th>\n",
       "      <td>0.019185</td>\n",
       "      <td>0.651163</td>\n",
       "      <td>1.0</td>\n",
       "      <td>1.0</td>\n",
       "      <td>1.0</td>\n",
       "      <td>1.0</td>\n",
       "      <td>0.866667</td>\n",
       "      <td>0.923828</td>\n",
       "      <td>0.986816</td>\n",
       "      <td>0.998535</td>\n",
       "      <td>0.99707</td>\n",
       "      <td>0.992676</td>\n",
       "      <td>0.961914</td>\n",
       "    </tr>\n",
       "  </tbody>\n",
       "</table>\n",
       "</div>"
      ],
      "text/plain": [
       "   loss_added  wmdp-bio  high_school_us_history  college_computer_science  \\\n",
       "0    0.019185  0.651163                     1.0                       1.0   \n",
       "\n",
       "   high_school_geography  human_aging  college_biology  wmdp-bio_prob  \\\n",
       "0                    1.0          1.0         0.866667       0.923828   \n",
       "\n",
       "   high_school_us_history_prob  college_computer_science_prob  \\\n",
       "0                     0.986816                       0.998535   \n",
       "\n",
       "   high_school_geography_prob  human_aging_prob  college_biology_prob  \n",
       "0                     0.99707          0.992676              0.961914  "
      ]
     },
     "execution_count": 73,
     "metadata": {},
     "output_type": "execute_result"
    }
   ],
   "source": [
    "df2 = create_df_from_metrics(metrics_list_best_sorted2)\n",
    "df2"
   ]
  },
  {
   "cell_type": "code",
   "execution_count": null,
   "metadata": {},
   "outputs": [],
   "source": []
  },
  {
   "cell_type": "code",
   "execution_count": 104,
   "metadata": {},
   "outputs": [
    {
     "data": {
      "text/plain": [
       "{'mean_correct': 0.875,\n",
       " 'total_correct': 14,\n",
       " 'is_correct': array([1., 0., 0., 1., 1., 1., 1., 1., 1., 1., 1., 1., 1., 1., 1., 1.],\n",
       "       dtype=float32),\n",
       " 'output_probs': array([[8.1062e-06, 1.1921e-07, 1.2517e-06, 9.9316e-01],\n",
       "        [6.9336e-01, 1.4946e-02, 7.4646e-02, 2.1021e-01],\n",
       "        [9.9854e-01, 4.9651e-05, 7.6771e-05, 4.4107e-06],\n",
       "        [9.9902e-01, 9.5367e-07, 1.1921e-06, 7.3314e-06],\n",
       "        [1.4853e-04, 5.8413e-06, 9.9463e-01, 4.3511e-06],\n",
       "        [9.9805e-01, 1.1921e-07, 1.1921e-07, 2.3842e-07],\n",
       "        [6.3777e-05, 1.3268e-04, 9.9707e-01, 3.8385e-05],\n",
       "        [1.1325e-06, 1.4901e-06, 9.9707e-01, 8.6427e-06],\n",
       "        [5.7817e-06, 1.7881e-07, 5.3644e-07, 9.9219e-01],\n",
       "        [1.2927e-01, 8.4521e-01, 2.3438e-02, 7.5483e-04],\n",
       "        [1.0700e-03, 9.9561e-01, 4.2915e-06, 1.1325e-06],\n",
       "        [1.8597e-04, 7.3314e-06, 9.9854e-01, 2.1935e-05],\n",
       "        [1.1325e-06, 5.9605e-08, 9.9707e-01, 1.1921e-07],\n",
       "        [5.9605e-08, 9.9951e-01, 7.1526e-07, 1.7881e-07],\n",
       "        [1.3912e-04, 9.9854e-01, 1.2159e-05, 3.8147e-06],\n",
       "        [9.9902e-01, 5.3644e-07, 1.1921e-07, 1.1921e-07]], dtype=float16),\n",
       " 'actual_answers': array([3, 2, 1, 0, 2, 0, 2, 2, 3, 1, 1, 2, 2, 1, 1, 0]),\n",
       " 'predicted_answers': array([3, 0, 0, 0, 2, 0, 2, 2, 3, 1, 1, 2, 2, 1, 1, 0]),\n",
       " 'predicted_probs': array([0.993 , 0.6934, 0.9985, 0.999 , 0.9946, 0.998 , 0.997 , 0.997 ,\n",
       "        0.992 , 0.845 , 0.9956, 0.9985, 0.997 , 0.9995, 0.9985, 0.999 ],\n",
       "       dtype=float16),\n",
       " 'predicted_probs_of_correct_answers': array([9.932e-01, 7.465e-02, 4.965e-05, 9.990e-01, 9.946e-01, 9.980e-01,\n",
       "        9.971e-01, 9.971e-01, 9.922e-01, 8.452e-01, 9.956e-01, 9.985e-01,\n",
       "        9.971e-01, 9.995e-01, 9.985e-01, 9.990e-01], dtype=float16),\n",
       " 'mean_predicted_prob_of_correct_answers': 0.86767578125,\n",
       " 'mean_predicted_probs': 0.96875,\n",
       " 'value_counts': {0: 5, 1: 4, 2: 5, 3: 2},\n",
       " 'sum_abcd': array([0.993 , 0.993 , 0.9985, 0.999 , 0.9946, 0.998 , 0.997 , 0.997 ,\n",
       "        0.992 , 0.9985, 0.9966, 0.9985, 0.997 , 0.9995, 0.9985, 0.999 ],\n",
       "       dtype=float16)}"
      ]
     },
     "execution_count": 104,
     "metadata": {},
     "output_type": "execute_result"
    }
   ],
   "source": [
    "metrics_list_best_sorted2[0]['human_aging']"
   ]
  },
  {
   "cell_type": "code",
   "execution_count": 120,
   "metadata": {},
   "outputs": [
    {
     "name": "stderr",
     "output_type": "stream",
     "text": [
      "  0%|          | 0/1 [00:00<?, ?it/s]"
     ]
    },
    {
     "name": "stdout",
     "output_type": "stream",
     "text": [
      "13 13\n",
      "1.0 1.0\n",
      "4 4\n",
      "1.0 1.0\n",
      "15 15\n",
      "1.0 1.0\n"
     ]
    },
    {
     "name": "stderr",
     "output_type": "stream",
     "text": [
      "100%|██████████| 1/1 [00:07<00:00,  7.13s/it]"
     ]
    },
    {
     "name": "stdout",
     "output_type": "stream",
     "text": [
      "15 16\n",
      "0.9375 1.0\n"
     ]
    },
    {
     "name": "stderr",
     "output_type": "stream",
     "text": [
      "\n"
     ]
    }
   ],
   "source": [
    "# Calculate metrics\n",
    "\n",
    "main_ablate_params = {\n",
    "                      'multiplier': 30,\n",
    "                      'intervention_method': 'clamp_feature_activation',\n",
    "                     }\n",
    "\n",
    "\n",
    "sweep = {\n",
    "         'features_to_ablate': feature_ids_zero_side_effect[:1],\n",
    "        }\n",
    "\n",
    "metric_params = {'wmdp-bio': \n",
    "                    {\n",
    "                       'target_metric': 'correct',\n",
    "                       'permutations': None,\n",
    "                    }\n",
    "                }\n",
    "\n",
    "dataset_names = all_dataset_names[2:6]\n",
    "\n",
    "n_batch_loss_added = 10\n",
    "\n",
    "metrics_list = calculate_metrics_side_effects(model,\n",
    "                                      sae,\n",
    "                                      main_ablate_params,\n",
    "                                      sweep,\n",
    "                                      dataset_names=dataset_names,\n",
    "                                      thresh=0,\n",
    "                                      split='train')\n"
   ]
  },
  {
   "cell_type": "code",
   "execution_count": 122,
   "metadata": {},
   "outputs": [
    {
     "data": {
      "text/plain": [
       "[]"
      ]
     },
     "execution_count": 122,
     "metadata": {},
     "output_type": "execute_result"
    }
   ],
   "source": [
    "metrics_list"
   ]
  },
  {
   "cell_type": "code",
   "execution_count": 114,
   "metadata": {},
   "outputs": [
    {
     "data": {
      "text/plain": [
       "1.0"
      ]
     },
     "execution_count": 114,
     "metadata": {},
     "output_type": "execute_result"
    }
   ],
   "source": [
    "metrics_list[0]['human_aging']['mean_correct']"
   ]
  },
  {
   "cell_type": "code",
   "execution_count": 108,
   "metadata": {},
   "outputs": [
    {
     "ename": "IndexError",
     "evalue": "list index out of range",
     "output_type": "error",
     "traceback": [
      "\u001b[0;31m---------------------------------------------------------------------------\u001b[0m",
      "\u001b[0;31mIndexError\u001b[0m                                Traceback (most recent call last)",
      "Cell \u001b[0;32mIn[108], line 1\u001b[0m\n\u001b[0;32m----> 1\u001b[0m \u001b[43mmetrics_list\u001b[49m\u001b[43m[\u001b[49m\u001b[38;5;241;43m0\u001b[39;49m\u001b[43m]\u001b[49m[\u001b[38;5;124m'\u001b[39m\u001b[38;5;124mhuman_aging\u001b[39m\u001b[38;5;124m'\u001b[39m]\n",
      "\u001b[0;31mIndexError\u001b[0m: list index out of range"
     ]
    }
   ],
   "source": [
    "metrics_list[0]['human_aging']"
   ]
  },
  {
   "cell_type": "code",
   "execution_count": null,
   "metadata": {},
   "outputs": [],
   "source": []
  }
 ],
 "metadata": {
  "kernelspec": {
   "display_name": "Python 3 (ipykernel)",
   "language": "python",
   "name": "python3"
  },
  "language_info": {
   "codemirror_mode": {
    "name": "ipython",
    "version": 3
   },
   "file_extension": ".py",
   "mimetype": "text/x-python",
   "name": "python",
   "nbconvert_exporter": "python",
   "pygments_lexer": "ipython3",
   "version": "3.11.6"
  }
 },
 "nbformat": 4,
 "nbformat_minor": 4
}
