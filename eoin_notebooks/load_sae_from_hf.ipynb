{
 "cells": [
  {
   "cell_type": "code",
   "execution_count": 1,
   "id": "0732a5fe-3656-446e-8b13-2d81eb4d5b7e",
   "metadata": {},
   "outputs": [],
   "source": [
    "%load_ext autoreload\n",
    "%autoreload 2\n",
    "\n",
    "import sys\n",
    "sys.path.append(\"../\")\n",
    "\n",
    "from sae.sparse_autoencoder import *\n",
    "from sae.activation_store import *\n",
    "from sae.train import ModelTrainer\n",
    "from sae.config import create_config, log_config, Config\n",
    "from sae.metrics import *\n",
    "from sae.utils import get_blog_checkpoint, get_blog_sparsity, create_lineplot_histogram\n",
    "\n",
    "from transformer_lens import HookedTransformer, utils\n",
    "from sae.metrics import compute_metrics_post_by_text\n",
    "\n",
    "import plotly.express as px\n",
    "import plotly.graph_objs as go\n"
   ]
  },
  {
   "cell_type": "code",
   "execution_count": 2,
   "id": "9373dac5-cb47-4ad6-905c-c1009cefe45a",
   "metadata": {},
   "outputs": [],
   "source": [
    "from huggingface_hub import hf_hub_download\n",
    "REPO_ID = \"eoinf/pythia_saes\"\n",
    "# resid_pre_layer_24 :\n",
    "FILENAME = \"desert-oath-8/sparse_autoencoder_EleutherAI/pythia-2.8b-deduped_blocks.24.hook_resid_pre_s20480_92155904.pt\"\n",
    "# resid_pre_layer_10 :\n",
    "# FILENAME = \"absurd-dust-9/sparse_autoencoder_EleutherAI/pythia-2.8b-deduped_blocks.10.hook_resid_pre_s20480_92155904.pt\"\n",
    "# resid_pre_layer_11 (best one):\n",
    "FILENAME = \"polished-wildflower-12/sparse_autoencoder_EleutherAI/pythia-2.8b-deduped_blocks.11.hook_resid_pre_s20480_327675904.pt\""
   ]
  },
  {
   "cell_type": "code",
   "execution_count": 3,
   "id": "12777725-aa68-4ed7-81b2-a75d3ed8c26c",
   "metadata": {},
   "outputs": [
    {
     "data": {
      "application/vnd.jupyter.widget-view+json": {
       "model_id": "dc34519a5feb4ce2bc7434ca8e2ffc88",
       "version_major": 2,
       "version_minor": 0
      },
      "text/plain": [
       "(…)ks.11.hook_resid_pre_s20480_327675904.pt:   0%|          | 0.00/420M [00:00<?, ?B/s]"
      ]
     },
     "metadata": {},
     "output_type": "display_data"
    }
   ],
   "source": [
    "filename = hf_hub_download(repo_id=REPO_ID, filename=FILENAME)\n",
    "sae = load_saved_sae(filename)"
   ]
  },
  {
   "cell_type": "code",
   "execution_count": 4,
   "id": "c6a58523-0e7d-4889-b805-eb269523f4b3",
   "metadata": {},
   "outputs": [
    {
     "name": "stderr",
     "output_type": "stream",
     "text": [
      "/root/miniconda3/envs/arena-env/lib/python3.11/site-packages/huggingface_hub/file_download.py:1132: FutureWarning: `resume_download` is deprecated and will be removed in version 1.0.0. Downloads always resume when possible. If you want to force a new download, use `force_download=True`.\n",
      "  warnings.warn(\n"
     ]
    },
    {
     "data": {
      "application/vnd.jupyter.widget-view+json": {
       "model_id": "21d0821765a2413089acbc6b6c2ce9fd",
       "version_major": 2,
       "version_minor": 0
      },
      "text/plain": [
       "config.json:   0%|          | 0.00/571 [00:00<?, ?B/s]"
      ]
     },
     "metadata": {},
     "output_type": "display_data"
    },
    {
     "data": {
      "application/vnd.jupyter.widget-view+json": {
       "model_id": "2085833f082244698b4d9a6abe67920f",
       "version_major": 2,
       "version_minor": 0
      },
      "text/plain": [
       "model.safetensors:   0%|          | 0.00/5.68G [00:00<?, ?B/s]"
      ]
     },
     "metadata": {},
     "output_type": "display_data"
    },
    {
     "data": {
      "application/vnd.jupyter.widget-view+json": {
       "model_id": "61634213eda34638b096b603202db5a9",
       "version_major": 2,
       "version_minor": 0
      },
      "text/plain": [
       "tokenizer_config.json:   0%|          | 0.00/396 [00:00<?, ?B/s]"
      ]
     },
     "metadata": {},
     "output_type": "display_data"
    },
    {
     "data": {
      "application/vnd.jupyter.widget-view+json": {
       "model_id": "ef0e590953f44751bca5833b0d3241bc",
       "version_major": 2,
       "version_minor": 0
      },
      "text/plain": [
       "tokenizer.json:   0%|          | 0.00/2.11M [00:00<?, ?B/s]"
      ]
     },
     "metadata": {},
     "output_type": "display_data"
    },
    {
     "data": {
      "application/vnd.jupyter.widget-view+json": {
       "model_id": "cf51d2ba90e946908bb25c61077e4d7b",
       "version_major": 2,
       "version_minor": 0
      },
      "text/plain": [
       "special_tokens_map.json:   0%|          | 0.00/99.0 [00:00<?, ?B/s]"
      ]
     },
     "metadata": {},
     "output_type": "display_data"
    },
    {
     "name": "stderr",
     "output_type": "stream",
     "text": [
      "Special tokens have been added in the vocabulary, make sure the associated word embeddings are fine-tuned or trained.\n"
     ]
    },
    {
     "name": "stdout",
     "output_type": "stream",
     "text": [
      "Loaded pretrained model EleutherAI/pythia-2.8b-deduped into HookedTransformer\n",
      "Moving model to device:  cuda\n"
     ]
    }
   ],
   "source": [
    "model = model_store_from_sae(sae)"
   ]
  },
  {
   "cell_type": "code",
   "execution_count": 6,
   "id": "518a680b",
   "metadata": {},
   "outputs": [
    {
     "data": {
      "text/plain": [
       "Config(model_name='EleutherAI/pythia-2.8b-deduped', hook_point='blocks.11.hook_resid_pre', hook_point_layer=11, hook_point_head_index=None, flatten_activations_over_layer=False, d_in=2560, different_output=False, hook_point_output=None, hook_point_layer_output=None, hook_point_head_index_output=None, flatten_activations_over_layer_output=False, d_out=None, dataset=None, is_dataset_tokenized=False, use_cached_activations=False, cached_activations_path=None, loop_dataset=False, fine_tune_dataset=False, n_batches_in_store_buffer=128, store_batch_size=8, train_batch_size=4096, context_size=256, remove_bos_tokens=False, adam_beta1=0.9, adam_beta2=0.999, log_to_wandb=True, wandb_project='test_gemma_2b', wandb_log_frequency=10, eval_frequency=500, sparsity_log_frequency=5000, n_checkpoints=80, checkpoint_path='../outputs/checkpoints', expansion_factor=8, b_dec_init_method='zeros', subtract_b_dec_from_inputs=False, from_pretrained_path=None, use_gated_sparse_autoencoder=False, normalise_w_dec=True, clip_grad_norm=False, normalise_initial_decoder_weights=False, initial_decoder_norm=0.1, initialise_encoder_to_decoder_transpose=False, scale_input_norm=False, activation_function='relu', topk_amount=10, feature_resampling_method=None, resample_frequency=25000, max_resample_step=100000, resample_batches=128, feature_reinit_scale=0.2, min_sparsity_for_resample=0, seed=42, device='cuda', dtype=torch.float32, total_training_steps=200000, n_starting_steps=None, finetuning_steps=(1000,), multiple_runs=False, lr=0.0004, lr_scheduler_name='constant', lr_warm_up_steps=500, mse_loss_coefficient=1, mse_loss_type='centered', l1_coefficient=0, weight_l1_by_decoder_norms=False, l0_coefficient=9e-05, epsilon_l0_approx=0.2, sparse_loss_coefficient=1e-06, dense_loss_coefficient=0, max_sparsity_target=1, min_sparsity_target=8e-06, n_running_sparsity=300, custom_loss=None, l1_warmup=False, l1_warmup_steps=1000, l0_warmup=False, l0_warmup_steps=1000)"
      ]
     },
     "execution_count": 6,
     "metadata": {},
     "output_type": "execute_result"
    }
   ],
   "source": [
    "sae.cfg"
   ]
  },
  {
   "cell_type": "code",
   "execution_count": 5,
   "id": "2c1ea267-e79c-4b0a-a2f9-4a20f2bcb5ea",
   "metadata": {},
   "outputs": [
    {
     "ename": "ValueError",
     "evalue": "Dataset must be specified.",
     "output_type": "error",
     "traceback": [
      "\u001b[0;31m---------------------------------------------------------------------------\u001b[0m",
      "\u001b[0;31mValueError\u001b[0m                                Traceback (most recent call last)",
      "Cell \u001b[0;32mIn[5], line 1\u001b[0m\n\u001b[0;32m----> 1\u001b[0m activation_store \u001b[38;5;241m=\u001b[39m \u001b[43mActivationStoreAnalysis\u001b[49m\u001b[43m(\u001b[49m\u001b[43msae\u001b[49m\u001b[38;5;241;43m.\u001b[39;49m\u001b[43mcfg\u001b[49m\u001b[43m,\u001b[49m\u001b[43m \u001b[49m\u001b[43mmodel\u001b[49m\u001b[43m)\u001b[49m\n",
      "File \u001b[0;32m/workspace/unlearning/eoin_notebooks/../sae/activation_store.py:519\u001b[0m, in \u001b[0;36mActivationStoreAnalysis.__init__\u001b[0;34m(self, cfg, model)\u001b[0m\n\u001b[1;32m    511\u001b[0m \u001b[38;5;28;01mdef\u001b[39;00m \u001b[38;5;21m__init__\u001b[39m(\n\u001b[1;32m    512\u001b[0m     \u001b[38;5;28mself\u001b[39m,\n\u001b[1;32m    513\u001b[0m     cfg,\n\u001b[1;32m    514\u001b[0m     model: HookedTransformer\n\u001b[1;32m    515\u001b[0m ):\n\u001b[1;32m    516\u001b[0m \u001b[38;5;250m    \u001b[39m\u001b[38;5;124;03m\"\"\"\u001b[39;00m\n\u001b[1;32m    517\u001b[0m \u001b[38;5;124;03m    Subclass of ActivationStore for post-hoc analysis\u001b[39;00m\n\u001b[1;32m    518\u001b[0m \u001b[38;5;124;03m    \"\"\"\u001b[39;00m\n\u001b[0;32m--> 519\u001b[0m     \u001b[38;5;28;43msuper\u001b[39;49m\u001b[43m(\u001b[49m\u001b[43m)\u001b[49m\u001b[38;5;241;43m.\u001b[39;49m\u001b[38;5;21;43m__init__\u001b[39;49m\u001b[43m(\u001b[49m\u001b[43mcfg\u001b[49m\u001b[43m,\u001b[49m\u001b[43m \u001b[49m\u001b[43mmodel\u001b[49m\u001b[43m,\u001b[49m\u001b[43m \u001b[49m\u001b[38;5;28;43;01mFalse\u001b[39;49;00m\u001b[43m)\u001b[49m\n\u001b[1;32m    520\u001b[0m     log(\u001b[38;5;124m\"\u001b[39m\u001b[38;5;124mbuffer\u001b[39m\u001b[38;5;124m\"\u001b[39m)\n\u001b[1;32m    521\u001b[0m     \u001b[38;5;28mself\u001b[39m\u001b[38;5;241m.\u001b[39mstorage_buffer, \u001b[38;5;28mself\u001b[39m\u001b[38;5;241m.\u001b[39mstorage_buffer_tokens \u001b[38;5;241m=\u001b[39m \u001b[38;5;28mself\u001b[39m\u001b[38;5;241m.\u001b[39mgenerate_buffer(\u001b[38;5;28mself\u001b[39m\u001b[38;5;241m.\u001b[39mcfg\u001b[38;5;241m.\u001b[39mn_batches_in_store_buffer \u001b[38;5;241m/\u001b[39m\u001b[38;5;241m/\u001b[39m \u001b[38;5;241m2\u001b[39m)\n",
      "File \u001b[0;32m/workspace/unlearning/eoin_notebooks/../sae/activation_store.py:65\u001b[0m, in \u001b[0;36mActivationsStore.__init__\u001b[0;34m(self, cfg, model, create_dataloader)\u001b[0m\n\u001b[1;32m     63\u001b[0m     \u001b[38;5;28mself\u001b[39m\u001b[38;5;241m.\u001b[39mdataset \u001b[38;5;241m=\u001b[39m load_dataset(cfg\u001b[38;5;241m.\u001b[39mdataset, split\u001b[38;5;241m=\u001b[39m\u001b[38;5;124m\"\u001b[39m\u001b[38;5;124mtrain\u001b[39m\u001b[38;5;124m\"\u001b[39m, streaming\u001b[38;5;241m=\u001b[39m\u001b[38;5;28;01mTrue\u001b[39;00m)\n\u001b[1;32m     64\u001b[0m \u001b[38;5;28;01melif\u001b[39;00m \u001b[38;5;129;01mnot\u001b[39;00m cfg\u001b[38;5;241m.\u001b[39mdataset:\n\u001b[0;32m---> 65\u001b[0m     \u001b[38;5;28;01mraise\u001b[39;00m \u001b[38;5;167;01mValueError\u001b[39;00m(\u001b[38;5;124m\"\u001b[39m\u001b[38;5;124mDataset must be specified.\u001b[39m\u001b[38;5;124m\"\u001b[39m)\n\u001b[1;32m     66\u001b[0m \u001b[38;5;28;01melse\u001b[39;00m:\n\u001b[1;32m     67\u001b[0m     \u001b[38;5;28mself\u001b[39m\u001b[38;5;241m.\u001b[39mdataset \u001b[38;5;241m=\u001b[39m cfg\u001b[38;5;241m.\u001b[39mdataset\n",
      "\u001b[0;31mValueError\u001b[0m: Dataset must be specified."
     ]
    }
   ],
   "source": [
    "activation_store = ActivationStoreAnalysis(sae.cfg, model)"
   ]
  },
  {
   "cell_type": "code",
   "execution_count": 7,
   "id": "2906b11c-810a-461e-99e0-fcfa55b40a7a",
   "metadata": {},
   "outputs": [],
   "source": [
    "scores = compute_recovered_loss(sae,\n",
    "                                activation_store,\n",
    "                                model,\n",
    "                                sae.cfg.hook_point,\n",
    "                                n_batches=2)"
   ]
  },
  {
   "cell_type": "code",
   "execution_count": 8,
   "id": "00200751-2b5c-469b-afaf-dbbf4ade7935",
   "metadata": {},
   "outputs": [
    {
     "data": {
      "text/plain": [
       "{'score': 0.8978802921132227,\n",
       " 'loss': 2.6953442096710205,\n",
       " 'recons_loss': 3.4280753135681152,\n",
       " 'zero_abl_loss': 9.870561599731445,\n",
       " 'unrecovered_loss_frac': 0.10211970788677727,\n",
       " 'frac_loss_added': 0.27185066058280105}"
      ]
     },
     "execution_count": 8,
     "metadata": {},
     "output_type": "execute_result"
    }
   ],
   "source": [
    "scores"
   ]
  },
  {
   "cell_type": "code",
   "execution_count": 9,
   "id": "cb591ecd-ade9-4746-bb87-ae78f69d5ad1",
   "metadata": {},
   "outputs": [],
   "source": [
    "metrics = compute_metrics_post(sae,\n",
    "                               activation_store,\n",
    "                               model,\n",
    "                               save_learned_activations=False,\n",
    "                               n_batches=100,\n",
    "                               len_prefix=5)"
   ]
  },
  {
   "cell_type": "code",
   "execution_count": 10,
   "id": "3d9eb19b-b961-42e0-a004-5fd1085c21c6",
   "metadata": {},
   "outputs": [
    {
     "data": {
      "text/plain": [
       "{'l0': 29.540441513061523,\n",
       " 'l0_std': 8.385501861572266,\n",
       " 'mean_activation': 0.020537912845611572,\n",
       " 'std_activation': 1.1683253049850464,\n",
       " 'per_token_l2_loss': 2977.878173828125,\n",
       " 'total_variance': 15409.9677734375,\n",
       " 'explained_variance': 0.7004427909851074,\n",
       " 'unexplained_variance': 0.29955726861953735,\n",
       " 'mse': 4764.60498046875,\n",
       " 'l2_norm_ratio': 0.971323549747467,\n",
       " 'old_explained_variance': 0.9280368089675903,\n",
       " 'sparsity': tensor([4.1504e-05, 1.9849e-03, 2.6855e-05,  ..., 5.8838e-04, 2.5537e-03,\n",
       "         3.1738e-05], device='cuda:0'),\n",
       " 'token_df':            str_tokens     unique_token  \\\n",
       " 0       <|endoftext|>  <|endoftext|>/0   \n",
       " 1            ·details       ·details/1   \n",
       " 2                 ·of            ·of/2   \n",
       " 3                ·the           ·the/3   \n",
       " 4                ·Los           ·Los/4   \n",
       " ...               ...              ...   \n",
       " 409595             em           em/123   \n",
       " 409596         ·right       ·right/124   \n",
       " 409597           ·out         ·out/125   \n",
       " 409598            ·of          ·of/126   \n",
       " 409599            ·it          ·it/127   \n",
       " \n",
       "                                            context  \\\n",
       " 0                          |<|endoftext|>|·details   \n",
       " 1                       <|endoftext|>|·details|·of   \n",
       " 2                   <|endoftext|>·details|·of|·the   \n",
       " 3               <|endoftext|>·details·of|·the|·Los   \n",
       " 4       <|endoftext|>·details·of·the|·Los|·Angeles   \n",
       " ...                                            ...   \n",
       " 409595            ·sucking·the·life·phlo|em|·right   \n",
       " 409596                ·the·life·phloem|·right|·out   \n",
       " 409597                 ·life·phloem·right|·out|·of   \n",
       " 409598                      ·phloem·right·out|·of|   \n",
       " 409599                      loem·right·out·of|·it|   \n",
       " \n",
       "                               prefix    suffix  batch  pos     label  \n",
       " 0                                     ·details      0    0       0/0  \n",
       " 1                      <|endoftext|>       ·of      0    1       0/1  \n",
       " 2              <|endoftext|>·details      ·the      0    2       0/2  \n",
       " 3           <|endoftext|>·details·of      ·Los      0    3       0/3  \n",
       " 4       <|endoftext|>·details·of·the  ·Angeles      0    4       0/4  \n",
       " ...                              ...       ...    ...  ...       ...  \n",
       " 409595        ·sucking·the·life·phlo    ·right   3199  123  3199/123  \n",
       " 409596              ·the·life·phloem      ·out   3199  124  3199/124  \n",
       " 409597            ·life·phloem·right       ·of   3199  125  3199/125  \n",
       " 409598             ·phloem·right·out             3199  126  3199/126  \n",
       " 409599             loem·right·out·of             3199  127  3199/127  \n",
       " \n",
       " [409600 rows x 8 columns],\n",
       " 'learned_activations': None}"
      ]
     },
     "execution_count": 10,
     "metadata": {},
     "output_type": "execute_result"
    }
   ],
   "source": [
    "metrics"
   ]
  },
  {
   "cell_type": "code",
   "execution_count": 62,
   "id": "444ae5d1-7453-45c7-abff-89deeacccabe",
   "metadata": {},
   "outputs": [],
   "source": [
    "bins = np.arange(-6, 0, 0.05)\n",
    "xvals, yvals = create_lineplot_histogram(metrics['sparsity'].log10().cpu().numpy(), bins=bins)"
   ]
  },
  {
   "cell_type": "code",
   "execution_count": 63,
   "id": "eec700fe-1d6d-4041-8210-df20d436321f",
   "metadata": {},
   "outputs": [
    {
     "data": {
      "application/vnd.plotly.v1+json": {
       "config": {
        "plotlyServerURL": "https://plot.ly"
       },
       "data": [
        {
         "mode": "lines",
         "type": "scatter",
         "x": [
          -6,
          -6,
          -5.95,
          -5.95,
          -5.9,
          -5.9,
          -5.8500000000000005,
          -5.8500000000000005,
          -5.800000000000001,
          -5.800000000000001,
          -5.750000000000001,
          -5.750000000000001,
          -5.700000000000001,
          -5.700000000000001,
          -5.650000000000001,
          -5.650000000000001,
          -5.600000000000001,
          -5.600000000000001,
          -5.550000000000002,
          -5.550000000000002,
          -5.500000000000002,
          -5.500000000000002,
          -5.450000000000002,
          -5.450000000000002,
          -5.400000000000002,
          -5.400000000000002,
          -5.350000000000002,
          -5.350000000000002,
          -5.3000000000000025,
          -5.3000000000000025,
          -5.250000000000003,
          -5.250000000000003,
          -5.200000000000003,
          -5.200000000000003,
          -5.150000000000003,
          -5.150000000000003,
          -5.100000000000003,
          -5.100000000000003,
          -5.050000000000003,
          -5.050000000000003,
          -5.0000000000000036,
          -5.0000000000000036,
          -4.950000000000004,
          -4.950000000000004,
          -4.900000000000004,
          -4.900000000000004,
          -4.850000000000004,
          -4.850000000000004,
          -4.800000000000004,
          -4.800000000000004,
          -4.750000000000004,
          -4.750000000000004,
          -4.700000000000005,
          -4.700000000000005,
          -4.650000000000005,
          -4.650000000000005,
          -4.600000000000005,
          -4.600000000000005,
          -4.550000000000005,
          -4.550000000000005,
          -4.500000000000005,
          -4.500000000000005,
          -4.4500000000000055,
          -4.4500000000000055,
          -4.400000000000006,
          -4.400000000000006,
          -4.350000000000006,
          -4.350000000000006,
          -4.300000000000006,
          -4.300000000000006,
          -4.250000000000006,
          -4.250000000000006,
          -4.200000000000006,
          -4.200000000000006,
          -4.150000000000007,
          -4.150000000000007,
          -4.100000000000007,
          -4.100000000000007,
          -4.050000000000007,
          -4.050000000000007,
          -4.000000000000007,
          -4.000000000000007,
          -3.9500000000000073,
          -3.9500000000000073,
          -3.9000000000000075,
          -3.9000000000000075,
          -3.8500000000000076,
          -3.8500000000000076,
          -3.800000000000008,
          -3.800000000000008,
          -3.750000000000008,
          -3.750000000000008,
          -3.700000000000008,
          -3.700000000000008,
          -3.6500000000000083,
          -3.6500000000000083,
          -3.6000000000000085,
          -3.6000000000000085,
          -3.5500000000000087,
          -3.5500000000000087,
          -3.500000000000009,
          -3.500000000000009,
          -3.450000000000009,
          -3.450000000000009,
          -3.4000000000000092,
          -3.4000000000000092,
          -3.3500000000000094,
          -3.3500000000000094,
          -3.3000000000000096,
          -3.3000000000000096,
          -3.2500000000000098,
          -3.2500000000000098,
          -3.20000000000001,
          -3.20000000000001,
          -3.15000000000001,
          -3.15000000000001,
          -3.1000000000000103,
          -3.1000000000000103,
          -3.0500000000000105,
          -3.0500000000000105,
          -3.0000000000000107,
          -3.0000000000000107,
          -2.950000000000011,
          -2.950000000000011,
          -2.900000000000011,
          -2.900000000000011,
          -2.850000000000011,
          -2.850000000000011,
          -2.8000000000000114,
          -2.8000000000000114,
          -2.7500000000000115,
          -2.7500000000000115,
          -2.7000000000000117,
          -2.7000000000000117,
          -2.650000000000012,
          -2.650000000000012,
          -2.600000000000012,
          -2.600000000000012,
          -2.5500000000000123,
          -2.5500000000000123,
          -2.5000000000000124,
          -2.5000000000000124,
          -2.4500000000000126,
          -2.4500000000000126,
          -2.400000000000013,
          -2.400000000000013,
          -2.350000000000013,
          -2.350000000000013,
          -2.300000000000013,
          -2.300000000000013,
          -2.2500000000000133,
          -2.2500000000000133,
          -2.2000000000000135,
          -2.2000000000000135,
          -2.1500000000000137,
          -2.1500000000000137,
          -2.100000000000014,
          -2.100000000000014,
          -2.050000000000014,
          -2.050000000000014,
          -2.000000000000014,
          -2.000000000000014,
          -1.9500000000000144,
          -1.9500000000000144,
          -1.9000000000000146,
          -1.9000000000000146,
          -1.8500000000000147,
          -1.8500000000000147,
          -1.800000000000015,
          -1.800000000000015,
          -1.750000000000015,
          -1.750000000000015,
          -1.7000000000000153,
          -1.7000000000000153,
          -1.6500000000000155,
          -1.6500000000000155,
          -1.6000000000000156,
          -1.6000000000000156,
          -1.5500000000000158,
          -1.5500000000000158,
          -1.500000000000016,
          -1.500000000000016,
          -1.4500000000000162,
          -1.4500000000000162,
          -1.4000000000000163,
          -1.4000000000000163,
          -1.3500000000000165,
          -1.3500000000000165,
          -1.3000000000000167,
          -1.3000000000000167,
          -1.2500000000000169,
          -1.2500000000000169,
          -1.200000000000017,
          -1.200000000000017,
          -1.1500000000000172,
          -1.1500000000000172,
          -1.1000000000000174,
          -1.1000000000000174,
          -1.0500000000000176,
          -1.0500000000000176,
          -1.0000000000000178,
          -1.0000000000000178,
          -0.9500000000000179,
          -0.9500000000000179,
          -0.9000000000000181,
          -0.9000000000000181,
          -0.8500000000000183,
          -0.8500000000000183,
          -0.8000000000000185,
          -0.8000000000000185,
          -0.7500000000000187,
          -0.7500000000000187,
          -0.7000000000000188,
          -0.7000000000000188,
          -0.650000000000019,
          -0.650000000000019,
          -0.6000000000000192,
          -0.6000000000000192,
          -0.5500000000000194,
          -0.5500000000000194,
          -0.5000000000000195,
          -0.5000000000000195,
          -0.4500000000000197,
          -0.4500000000000197,
          -0.4000000000000199,
          -0.4000000000000199,
          -0.3500000000000201,
          -0.3500000000000201,
          -0.30000000000002025,
          -0.30000000000002025,
          -0.25000000000002043,
          -0.25000000000002043,
          -0.2000000000000206,
          -0.2000000000000206,
          -0.15000000000002078,
          -0.15000000000002078,
          -0.10000000000002096,
          -0.10000000000002096,
          -0.05000000000002114,
          -0.05000000000002114
         ],
         "y": [
          0,
          0,
          0,
          0,
          0,
          0,
          0,
          0,
          0,
          0,
          0,
          0,
          0,
          0,
          0,
          78,
          78,
          0,
          0,
          0,
          0,
          0,
          0,
          0,
          0,
          0,
          0,
          115,
          115,
          0,
          0,
          0,
          0,
          0,
          0,
          163,
          163,
          0,
          0,
          185,
          185,
          0,
          0,
          215,
          215,
          0,
          0,
          263,
          263,
          279,
          279,
          234,
          234,
          259,
          259,
          240,
          240,
          276,
          276,
          247,
          247,
          469,
          469,
          474,
          474,
          436,
          436,
          360,
          360,
          510,
          510,
          305,
          305,
          389,
          389,
          531,
          531,
          423,
          423,
          370,
          370,
          457,
          457,
          470,
          470,
          379,
          379,
          421,
          421,
          395,
          395,
          412,
          412,
          357,
          357,
          367,
          367,
          402,
          402,
          361,
          361,
          319,
          319,
          370,
          370,
          359,
          359,
          355,
          355,
          381,
          381,
          351,
          351,
          366,
          366,
          367,
          367,
          352,
          352,
          396,
          396,
          363,
          363,
          368,
          368,
          401,
          401,
          345,
          345,
          373,
          373,
          343,
          343,
          320,
          320,
          335,
          335,
          331,
          331,
          361,
          361,
          278,
          278,
          298,
          298,
          293,
          293,
          243,
          243,
          201,
          201,
          201,
          201,
          166,
          166,
          145,
          145,
          138,
          138,
          75,
          75,
          80,
          80,
          70,
          70,
          48,
          48,
          37,
          37,
          33,
          33,
          21,
          21,
          12,
          12,
          12,
          12,
          10,
          10,
          15,
          15,
          4,
          4,
          9,
          9,
          2,
          2,
          1,
          1,
          1,
          1,
          2,
          2,
          3,
          3,
          1,
          1,
          1,
          1,
          3,
          3,
          1,
          1,
          0,
          0,
          2,
          2,
          1,
          1,
          0,
          0,
          0,
          0,
          0,
          0,
          0,
          0,
          0,
          0,
          0,
          0,
          0,
          0,
          0,
          0,
          0,
          0,
          0,
          0,
          0,
          0,
          0,
          0,
          0,
          0,
          0,
          0,
          0,
          0,
          0
         ]
        }
       ],
       "layout": {
        "height": 600,
        "showlegend": true,
        "template": {
         "data": {
          "bar": [
           {
            "error_x": {
             "color": "#2a3f5f"
            },
            "error_y": {
             "color": "#2a3f5f"
            },
            "marker": {
             "line": {
              "color": "#E5ECF6",
              "width": 0.5
             },
             "pattern": {
              "fillmode": "overlay",
              "size": 10,
              "solidity": 0.2
             }
            },
            "type": "bar"
           }
          ],
          "barpolar": [
           {
            "marker": {
             "line": {
              "color": "#E5ECF6",
              "width": 0.5
             },
             "pattern": {
              "fillmode": "overlay",
              "size": 10,
              "solidity": 0.2
             }
            },
            "type": "barpolar"
           }
          ],
          "carpet": [
           {
            "aaxis": {
             "endlinecolor": "#2a3f5f",
             "gridcolor": "white",
             "linecolor": "white",
             "minorgridcolor": "white",
             "startlinecolor": "#2a3f5f"
            },
            "baxis": {
             "endlinecolor": "#2a3f5f",
             "gridcolor": "white",
             "linecolor": "white",
             "minorgridcolor": "white",
             "startlinecolor": "#2a3f5f"
            },
            "type": "carpet"
           }
          ],
          "choropleth": [
           {
            "colorbar": {
             "outlinewidth": 0,
             "ticks": ""
            },
            "type": "choropleth"
           }
          ],
          "contour": [
           {
            "colorbar": {
             "outlinewidth": 0,
             "ticks": ""
            },
            "colorscale": [
             [
              0,
              "#0d0887"
             ],
             [
              0.1111111111111111,
              "#46039f"
             ],
             [
              0.2222222222222222,
              "#7201a8"
             ],
             [
              0.3333333333333333,
              "#9c179e"
             ],
             [
              0.4444444444444444,
              "#bd3786"
             ],
             [
              0.5555555555555556,
              "#d8576b"
             ],
             [
              0.6666666666666666,
              "#ed7953"
             ],
             [
              0.7777777777777778,
              "#fb9f3a"
             ],
             [
              0.8888888888888888,
              "#fdca26"
             ],
             [
              1,
              "#f0f921"
             ]
            ],
            "type": "contour"
           }
          ],
          "contourcarpet": [
           {
            "colorbar": {
             "outlinewidth": 0,
             "ticks": ""
            },
            "type": "contourcarpet"
           }
          ],
          "heatmap": [
           {
            "colorbar": {
             "outlinewidth": 0,
             "ticks": ""
            },
            "colorscale": [
             [
              0,
              "#0d0887"
             ],
             [
              0.1111111111111111,
              "#46039f"
             ],
             [
              0.2222222222222222,
              "#7201a8"
             ],
             [
              0.3333333333333333,
              "#9c179e"
             ],
             [
              0.4444444444444444,
              "#bd3786"
             ],
             [
              0.5555555555555556,
              "#d8576b"
             ],
             [
              0.6666666666666666,
              "#ed7953"
             ],
             [
              0.7777777777777778,
              "#fb9f3a"
             ],
             [
              0.8888888888888888,
              "#fdca26"
             ],
             [
              1,
              "#f0f921"
             ]
            ],
            "type": "heatmap"
           }
          ],
          "heatmapgl": [
           {
            "colorbar": {
             "outlinewidth": 0,
             "ticks": ""
            },
            "colorscale": [
             [
              0,
              "#0d0887"
             ],
             [
              0.1111111111111111,
              "#46039f"
             ],
             [
              0.2222222222222222,
              "#7201a8"
             ],
             [
              0.3333333333333333,
              "#9c179e"
             ],
             [
              0.4444444444444444,
              "#bd3786"
             ],
             [
              0.5555555555555556,
              "#d8576b"
             ],
             [
              0.6666666666666666,
              "#ed7953"
             ],
             [
              0.7777777777777778,
              "#fb9f3a"
             ],
             [
              0.8888888888888888,
              "#fdca26"
             ],
             [
              1,
              "#f0f921"
             ]
            ],
            "type": "heatmapgl"
           }
          ],
          "histogram": [
           {
            "marker": {
             "pattern": {
              "fillmode": "overlay",
              "size": 10,
              "solidity": 0.2
             }
            },
            "type": "histogram"
           }
          ],
          "histogram2d": [
           {
            "colorbar": {
             "outlinewidth": 0,
             "ticks": ""
            },
            "colorscale": [
             [
              0,
              "#0d0887"
             ],
             [
              0.1111111111111111,
              "#46039f"
             ],
             [
              0.2222222222222222,
              "#7201a8"
             ],
             [
              0.3333333333333333,
              "#9c179e"
             ],
             [
              0.4444444444444444,
              "#bd3786"
             ],
             [
              0.5555555555555556,
              "#d8576b"
             ],
             [
              0.6666666666666666,
              "#ed7953"
             ],
             [
              0.7777777777777778,
              "#fb9f3a"
             ],
             [
              0.8888888888888888,
              "#fdca26"
             ],
             [
              1,
              "#f0f921"
             ]
            ],
            "type": "histogram2d"
           }
          ],
          "histogram2dcontour": [
           {
            "colorbar": {
             "outlinewidth": 0,
             "ticks": ""
            },
            "colorscale": [
             [
              0,
              "#0d0887"
             ],
             [
              0.1111111111111111,
              "#46039f"
             ],
             [
              0.2222222222222222,
              "#7201a8"
             ],
             [
              0.3333333333333333,
              "#9c179e"
             ],
             [
              0.4444444444444444,
              "#bd3786"
             ],
             [
              0.5555555555555556,
              "#d8576b"
             ],
             [
              0.6666666666666666,
              "#ed7953"
             ],
             [
              0.7777777777777778,
              "#fb9f3a"
             ],
             [
              0.8888888888888888,
              "#fdca26"
             ],
             [
              1,
              "#f0f921"
             ]
            ],
            "type": "histogram2dcontour"
           }
          ],
          "mesh3d": [
           {
            "colorbar": {
             "outlinewidth": 0,
             "ticks": ""
            },
            "type": "mesh3d"
           }
          ],
          "parcoords": [
           {
            "line": {
             "colorbar": {
              "outlinewidth": 0,
              "ticks": ""
             }
            },
            "type": "parcoords"
           }
          ],
          "pie": [
           {
            "automargin": true,
            "type": "pie"
           }
          ],
          "scatter": [
           {
            "fillpattern": {
             "fillmode": "overlay",
             "size": 10,
             "solidity": 0.2
            },
            "type": "scatter"
           }
          ],
          "scatter3d": [
           {
            "line": {
             "colorbar": {
              "outlinewidth": 0,
              "ticks": ""
             }
            },
            "marker": {
             "colorbar": {
              "outlinewidth": 0,
              "ticks": ""
             }
            },
            "type": "scatter3d"
           }
          ],
          "scattercarpet": [
           {
            "marker": {
             "colorbar": {
              "outlinewidth": 0,
              "ticks": ""
             }
            },
            "type": "scattercarpet"
           }
          ],
          "scattergeo": [
           {
            "marker": {
             "colorbar": {
              "outlinewidth": 0,
              "ticks": ""
             }
            },
            "type": "scattergeo"
           }
          ],
          "scattergl": [
           {
            "marker": {
             "colorbar": {
              "outlinewidth": 0,
              "ticks": ""
             }
            },
            "type": "scattergl"
           }
          ],
          "scattermapbox": [
           {
            "marker": {
             "colorbar": {
              "outlinewidth": 0,
              "ticks": ""
             }
            },
            "type": "scattermapbox"
           }
          ],
          "scatterpolar": [
           {
            "marker": {
             "colorbar": {
              "outlinewidth": 0,
              "ticks": ""
             }
            },
            "type": "scatterpolar"
           }
          ],
          "scatterpolargl": [
           {
            "marker": {
             "colorbar": {
              "outlinewidth": 0,
              "ticks": ""
             }
            },
            "type": "scatterpolargl"
           }
          ],
          "scatterternary": [
           {
            "marker": {
             "colorbar": {
              "outlinewidth": 0,
              "ticks": ""
             }
            },
            "type": "scatterternary"
           }
          ],
          "surface": [
           {
            "colorbar": {
             "outlinewidth": 0,
             "ticks": ""
            },
            "colorscale": [
             [
              0,
              "#0d0887"
             ],
             [
              0.1111111111111111,
              "#46039f"
             ],
             [
              0.2222222222222222,
              "#7201a8"
             ],
             [
              0.3333333333333333,
              "#9c179e"
             ],
             [
              0.4444444444444444,
              "#bd3786"
             ],
             [
              0.5555555555555556,
              "#d8576b"
             ],
             [
              0.6666666666666666,
              "#ed7953"
             ],
             [
              0.7777777777777778,
              "#fb9f3a"
             ],
             [
              0.8888888888888888,
              "#fdca26"
             ],
             [
              1,
              "#f0f921"
             ]
            ],
            "type": "surface"
           }
          ],
          "table": [
           {
            "cells": {
             "fill": {
              "color": "#EBF0F8"
             },
             "line": {
              "color": "white"
             }
            },
            "header": {
             "fill": {
              "color": "#C8D4E3"
             },
             "line": {
              "color": "white"
             }
            },
            "type": "table"
           }
          ]
         },
         "layout": {
          "annotationdefaults": {
           "arrowcolor": "#2a3f5f",
           "arrowhead": 0,
           "arrowwidth": 1
          },
          "autotypenumbers": "strict",
          "coloraxis": {
           "colorbar": {
            "outlinewidth": 0,
            "ticks": ""
           }
          },
          "colorscale": {
           "diverging": [
            [
             0,
             "#8e0152"
            ],
            [
             0.1,
             "#c51b7d"
            ],
            [
             0.2,
             "#de77ae"
            ],
            [
             0.3,
             "#f1b6da"
            ],
            [
             0.4,
             "#fde0ef"
            ],
            [
             0.5,
             "#f7f7f7"
            ],
            [
             0.6,
             "#e6f5d0"
            ],
            [
             0.7,
             "#b8e186"
            ],
            [
             0.8,
             "#7fbc41"
            ],
            [
             0.9,
             "#4d9221"
            ],
            [
             1,
             "#276419"
            ]
           ],
           "sequential": [
            [
             0,
             "#0d0887"
            ],
            [
             0.1111111111111111,
             "#46039f"
            ],
            [
             0.2222222222222222,
             "#7201a8"
            ],
            [
             0.3333333333333333,
             "#9c179e"
            ],
            [
             0.4444444444444444,
             "#bd3786"
            ],
            [
             0.5555555555555556,
             "#d8576b"
            ],
            [
             0.6666666666666666,
             "#ed7953"
            ],
            [
             0.7777777777777778,
             "#fb9f3a"
            ],
            [
             0.8888888888888888,
             "#fdca26"
            ],
            [
             1,
             "#f0f921"
            ]
           ],
           "sequentialminus": [
            [
             0,
             "#0d0887"
            ],
            [
             0.1111111111111111,
             "#46039f"
            ],
            [
             0.2222222222222222,
             "#7201a8"
            ],
            [
             0.3333333333333333,
             "#9c179e"
            ],
            [
             0.4444444444444444,
             "#bd3786"
            ],
            [
             0.5555555555555556,
             "#d8576b"
            ],
            [
             0.6666666666666666,
             "#ed7953"
            ],
            [
             0.7777777777777778,
             "#fb9f3a"
            ],
            [
             0.8888888888888888,
             "#fdca26"
            ],
            [
             1,
             "#f0f921"
            ]
           ]
          },
          "colorway": [
           "#636efa",
           "#EF553B",
           "#00cc96",
           "#ab63fa",
           "#FFA15A",
           "#19d3f3",
           "#FF6692",
           "#B6E880",
           "#FF97FF",
           "#FECB52"
          ],
          "font": {
           "color": "#2a3f5f"
          },
          "geo": {
           "bgcolor": "white",
           "lakecolor": "white",
           "landcolor": "#E5ECF6",
           "showlakes": true,
           "showland": true,
           "subunitcolor": "white"
          },
          "hoverlabel": {
           "align": "left"
          },
          "hovermode": "closest",
          "mapbox": {
           "style": "light"
          },
          "paper_bgcolor": "white",
          "plot_bgcolor": "#E5ECF6",
          "polar": {
           "angularaxis": {
            "gridcolor": "white",
            "linecolor": "white",
            "ticks": ""
           },
           "bgcolor": "#E5ECF6",
           "radialaxis": {
            "gridcolor": "white",
            "linecolor": "white",
            "ticks": ""
           }
          },
          "scene": {
           "xaxis": {
            "backgroundcolor": "#E5ECF6",
            "gridcolor": "white",
            "gridwidth": 2,
            "linecolor": "white",
            "showbackground": true,
            "ticks": "",
            "zerolinecolor": "white"
           },
           "yaxis": {
            "backgroundcolor": "#E5ECF6",
            "gridcolor": "white",
            "gridwidth": 2,
            "linecolor": "white",
            "showbackground": true,
            "ticks": "",
            "zerolinecolor": "white"
           },
           "zaxis": {
            "backgroundcolor": "#E5ECF6",
            "gridcolor": "white",
            "gridwidth": 2,
            "linecolor": "white",
            "showbackground": true,
            "ticks": "",
            "zerolinecolor": "white"
           }
          },
          "shapedefaults": {
           "line": {
            "color": "#2a3f5f"
           }
          },
          "ternary": {
           "aaxis": {
            "gridcolor": "white",
            "linecolor": "white",
            "ticks": ""
           },
           "baxis": {
            "gridcolor": "white",
            "linecolor": "white",
            "ticks": ""
           },
           "bgcolor": "#E5ECF6",
           "caxis": {
            "gridcolor": "white",
            "linecolor": "white",
            "ticks": ""
           }
          },
          "title": {
           "x": 0.05
          },
          "xaxis": {
           "automargin": true,
           "gridcolor": "white",
           "linecolor": "white",
           "ticks": "",
           "title": {
            "standoff": 15
           },
           "zerolinecolor": "white",
           "zerolinewidth": 2
          },
          "yaxis": {
           "automargin": true,
           "gridcolor": "white",
           "linecolor": "white",
           "ticks": "",
           "title": {
            "standoff": 15
           },
           "zerolinecolor": "white",
           "zerolinewidth": 2
          }
         }
        },
        "title": {
         "text": "Feature Sparsity Distributions"
        },
        "width": 800,
        "xaxis": {
         "range": [
          -6.5,
          0
         ],
         "title": {
          "text": "Log Sparsity"
         },
         "type": "linear"
        },
        "yaxis": {
         "autorange": true,
         "range": [
          -29.499999999999996,
          560.5
         ],
         "title": {
          "text": "Frequency"
         },
         "type": "linear"
        }
       }
      },
      "image/png": "[encoded data removed]",
      "text/html": [
       "<div>                            <div id=\"24f2d533-a871-40ef-8d80-633dbc1b0e6d\" class=\"plotly-graph-div\" style=\"height:600px; width:800px;\"></div>            <script type=\"text/javascript\">                require([\"plotly\"], function(Plotly) {                    window.PLOTLYENV=window.PLOTLYENV || {};                                    if (document.getElementById(\"24f2d533-a871-40ef-8d80-633dbc1b0e6d\")) {                    Plotly.newPlot(                        \"24f2d533-a871-40ef-8d80-633dbc1b0e6d\",                        [{\"mode\":\"lines\",\"x\":[-6.0,-6.0,-5.95,-5.95,-5.9,-5.9,-5.8500000000000005,-5.8500000000000005,-5.800000000000001,-5.800000000000001,-5.750000000000001,-5.750000000000001,-5.700000000000001,-5.700000000000001,-5.650000000000001,-5.650000000000001,-5.600000000000001,-5.600000000000001,-5.550000000000002,-5.550000000000002,-5.500000000000002,-5.500000000000002,-5.450000000000002,-5.450000000000002,-5.400000000000002,-5.400000000000002,-5.350000000000002,-5.350000000000002,-5.3000000000000025,-5.3000000000000025,-5.250000000000003,-5.250000000000003,-5.200000000000003,-5.200000000000003,-5.150000000000003,-5.150000000000003,-5.100000000000003,-5.100000000000003,-5.050000000000003,-5.050000000000003,-5.0000000000000036,-5.0000000000000036,-4.950000000000004,-4.950000000000004,-4.900000000000004,-4.900000000000004,-4.850000000000004,-4.850000000000004,-4.800000000000004,-4.800000000000004,-4.750000000000004,-4.750000000000004,-4.700000000000005,-4.700000000000005,-4.650000000000005,-4.650000000000005,-4.600000000000005,-4.600000000000005,-4.550000000000005,-4.550000000000005,-4.500000000000005,-4.500000000000005,-4.4500000000000055,-4.4500000000000055,-4.400000000000006,-4.400000000000006,-4.350000000000006,-4.350000000000006,-4.300000000000006,-4.300000000000006,-4.250000000000006,-4.250000000000006,-4.200000000000006,-4.200000000000006,-4.150000000000007,-4.150000000000007,-4.100000000000007,-4.100000000000007,-4.050000000000007,-4.050000000000007,-4.000000000000007,-4.000000000000007,-3.9500000000000073,-3.9500000000000073,-3.9000000000000075,-3.9000000000000075,-3.8500000000000076,-3.8500000000000076,-3.800000000000008,-3.800000000000008,-3.750000000000008,-3.750000000000008,-3.700000000000008,-3.700000000000008,-3.6500000000000083,-3.6500000000000083,-3.6000000000000085,-3.6000000000000085,-3.5500000000000087,-3.5500000000000087,-3.500000000000009,-3.500000000000009,-3.450000000000009,-3.450000000000009,-3.4000000000000092,-3.4000000000000092,-3.3500000000000094,-3.3500000000000094,-3.3000000000000096,-3.3000000000000096,-3.2500000000000098,-3.2500000000000098,-3.20000000000001,-3.20000000000001,-3.15000000000001,-3.15000000000001,-3.1000000000000103,-3.1000000000000103,-3.0500000000000105,-3.0500000000000105,-3.0000000000000107,-3.0000000000000107,-2.950000000000011,-2.950000000000011,-2.900000000000011,-2.900000000000011,-2.850000000000011,-2.850000000000011,-2.8000000000000114,-2.8000000000000114,-2.7500000000000115,-2.7500000000000115,-2.7000000000000117,-2.7000000000000117,-2.650000000000012,-2.650000000000012,-2.600000000000012,-2.600000000000012,-2.5500000000000123,-2.5500000000000123,-2.5000000000000124,-2.5000000000000124,-2.4500000000000126,-2.4500000000000126,-2.400000000000013,-2.400000000000013,-2.350000000000013,-2.350000000000013,-2.300000000000013,-2.300000000000013,-2.2500000000000133,-2.2500000000000133,-2.2000000000000135,-2.2000000000000135,-2.1500000000000137,-2.1500000000000137,-2.100000000000014,-2.100000000000014,-2.050000000000014,-2.050000000000014,-2.000000000000014,-2.000000000000014,-1.9500000000000144,-1.9500000000000144,-1.9000000000000146,-1.9000000000000146,-1.8500000000000147,-1.8500000000000147,-1.800000000000015,-1.800000000000015,-1.750000000000015,-1.750000000000015,-1.7000000000000153,-1.7000000000000153,-1.6500000000000155,-1.6500000000000155,-1.6000000000000156,-1.6000000000000156,-1.5500000000000158,-1.5500000000000158,-1.500000000000016,-1.500000000000016,-1.4500000000000162,-1.4500000000000162,-1.4000000000000163,-1.4000000000000163,-1.3500000000000165,-1.3500000000000165,-1.3000000000000167,-1.3000000000000167,-1.2500000000000169,-1.2500000000000169,-1.200000000000017,-1.200000000000017,-1.1500000000000172,-1.1500000000000172,-1.1000000000000174,-1.1000000000000174,-1.0500000000000176,-1.0500000000000176,-1.0000000000000178,-1.0000000000000178,-0.9500000000000179,-0.9500000000000179,-0.9000000000000181,-0.9000000000000181,-0.8500000000000183,-0.8500000000000183,-0.8000000000000185,-0.8000000000000185,-0.7500000000000187,-0.7500000000000187,-0.7000000000000188,-0.7000000000000188,-0.650000000000019,-0.650000000000019,-0.6000000000000192,-0.6000000000000192,-0.5500000000000194,-0.5500000000000194,-0.5000000000000195,-0.5000000000000195,-0.4500000000000197,-0.4500000000000197,-0.4000000000000199,-0.4000000000000199,-0.3500000000000201,-0.3500000000000201,-0.30000000000002025,-0.30000000000002025,-0.25000000000002043,-0.25000000000002043,-0.2000000000000206,-0.2000000000000206,-0.15000000000002078,-0.15000000000002078,-0.10000000000002096,-0.10000000000002096,-0.05000000000002114,-0.05000000000002114],\"y\":[0,0,0,0,0,0,0,0,0,0,0,0,0,0,0,78,78,0,0,0,0,0,0,0,0,0,0,115,115,0,0,0,0,0,0,163,163,0,0,185,185,0,0,215,215,0,0,263,263,279,279,234,234,259,259,240,240,276,276,247,247,469,469,474,474,436,436,360,360,510,510,305,305,389,389,531,531,423,423,370,370,457,457,470,470,379,379,421,421,395,395,412,412,357,357,367,367,402,402,361,361,319,319,370,370,359,359,355,355,381,381,351,351,366,366,367,367,352,352,396,396,363,363,368,368,401,401,345,345,373,373,343,343,320,320,335,335,331,331,361,361,278,278,298,298,293,293,243,243,201,201,201,201,166,166,145,145,138,138,75,75,80,80,70,70,48,48,37,37,33,33,21,21,12,12,12,12,10,10,15,15,4,4,9,9,2,2,1,1,1,1,2,2,3,3,1,1,1,1,3,3,1,1,0,0,2,2,1,1,0,0,0,0,0,0,0,0,0,0,0,0,0,0,0,0,0,0,0,0,0,0,0,0,0,0,0,0,0,0,0],\"type\":\"scatter\"}],                        {\"template\":{\"data\":{\"histogram2dcontour\":[{\"type\":\"histogram2dcontour\",\"colorbar\":{\"outlinewidth\":0,\"ticks\":\"\"},\"colorscale\":[[0.0,\"#0d0887\"],[0.1111111111111111,\"#46039f\"],[0.2222222222222222,\"#7201a8\"],[0.3333333333333333,\"#9c179e\"],[0.4444444444444444,\"#bd3786\"],[0.5555555555555556,\"#d8576b\"],[0.6666666666666666,\"#ed7953\"],[0.7777777777777778,\"#fb9f3a\"],[0.8888888888888888,\"#fdca26\"],[1.0,\"#f0f921\"]]}],\"choropleth\":[{\"type\":\"choropleth\",\"colorbar\":{\"outlinewidth\":0,\"ticks\":\"\"}}],\"histogram2d\":[{\"type\":\"histogram2d\",\"colorbar\":{\"outlinewidth\":0,\"ticks\":\"\"},\"colorscale\":[[0.0,\"#0d0887\"],[0.1111111111111111,\"#46039f\"],[0.2222222222222222,\"#7201a8\"],[0.3333333333333333,\"#9c179e\"],[0.4444444444444444,\"#bd3786\"],[0.5555555555555556,\"#d8576b\"],[0.6666666666666666,\"#ed7953\"],[0.7777777777777778,\"#fb9f3a\"],[0.8888888888888888,\"#fdca26\"],[1.0,\"#f0f921\"]]}],\"heatmap\":[{\"type\":\"heatmap\",\"colorbar\":{\"outlinewidth\":0,\"ticks\":\"\"},\"colorscale\":[[0.0,\"#0d0887\"],[0.1111111111111111,\"#46039f\"],[0.2222222222222222,\"#7201a8\"],[0.3333333333333333,\"#9c179e\"],[0.4444444444444444,\"#bd3786\"],[0.5555555555555556,\"#d8576b\"],[0.6666666666666666,\"#ed7953\"],[0.7777777777777778,\"#fb9f3a\"],[0.8888888888888888,\"#fdca26\"],[1.0,\"#f0f921\"]]}],\"heatmapgl\":[{\"type\":\"heatmapgl\",\"colorbar\":{\"outlinewidth\":0,\"ticks\":\"\"},\"colorscale\":[[0.0,\"#0d0887\"],[0.1111111111111111,\"#46039f\"],[0.2222222222222222,\"#7201a8\"],[0.3333333333333333,\"#9c179e\"],[0.4444444444444444,\"#bd3786\"],[0.5555555555555556,\"#d8576b\"],[0.6666666666666666,\"#ed7953\"],[0.7777777777777778,\"#fb9f3a\"],[0.8888888888888888,\"#fdca26\"],[1.0,\"#f0f921\"]]}],\"contourcarpet\":[{\"type\":\"contourcarpet\",\"colorbar\":{\"outlinewidth\":0,\"ticks\":\"\"}}],\"contour\":[{\"type\":\"contour\",\"colorbar\":{\"outlinewidth\":0,\"ticks\":\"\"},\"colorscale\":[[0.0,\"#0d0887\"],[0.1111111111111111,\"#46039f\"],[0.2222222222222222,\"#7201a8\"],[0.3333333333333333,\"#9c179e\"],[0.4444444444444444,\"#bd3786\"],[0.5555555555555556,\"#d8576b\"],[0.6666666666666666,\"#ed7953\"],[0.7777777777777778,\"#fb9f3a\"],[0.8888888888888888,\"#fdca26\"],[1.0,\"#f0f921\"]]}],\"surface\":[{\"type\":\"surface\",\"colorbar\":{\"outlinewidth\":0,\"ticks\":\"\"},\"colorscale\":[[0.0,\"#0d0887\"],[0.1111111111111111,\"#46039f\"],[0.2222222222222222,\"#7201a8\"],[0.3333333333333333,\"#9c179e\"],[0.4444444444444444,\"#bd3786\"],[0.5555555555555556,\"#d8576b\"],[0.6666666666666666,\"#ed7953\"],[0.7777777777777778,\"#fb9f3a\"],[0.8888888888888888,\"#fdca26\"],[1.0,\"#f0f921\"]]}],\"mesh3d\":[{\"type\":\"mesh3d\",\"colorbar\":{\"outlinewidth\":0,\"ticks\":\"\"}}],\"scatter\":[{\"fillpattern\":{\"fillmode\":\"overlay\",\"size\":10,\"solidity\":0.2},\"type\":\"scatter\"}],\"parcoords\":[{\"type\":\"parcoords\",\"line\":{\"colorbar\":{\"outlinewidth\":0,\"ticks\":\"\"}}}],\"scatterpolargl\":[{\"type\":\"scatterpolargl\",\"marker\":{\"colorbar\":{\"outlinewidth\":0,\"ticks\":\"\"}}}],\"bar\":[{\"error_x\":{\"color\":\"#2a3f5f\"},\"error_y\":{\"color\":\"#2a3f5f\"},\"marker\":{\"line\":{\"color\":\"#E5ECF6\",\"width\":0.5},\"pattern\":{\"fillmode\":\"overlay\",\"size\":10,\"solidity\":0.2}},\"type\":\"bar\"}],\"scattergeo\":[{\"type\":\"scattergeo\",\"marker\":{\"colorbar\":{\"outlinewidth\":0,\"ticks\":\"\"}}}],\"scatterpolar\":[{\"type\":\"scatterpolar\",\"marker\":{\"colorbar\":{\"outlinewidth\":0,\"ticks\":\"\"}}}],\"histogram\":[{\"marker\":{\"pattern\":{\"fillmode\":\"overlay\",\"size\":10,\"solidity\":0.2}},\"type\":\"histogram\"}],\"scattergl\":[{\"type\":\"scattergl\",\"marker\":{\"colorbar\":{\"outlinewidth\":0,\"ticks\":\"\"}}}],\"scatter3d\":[{\"type\":\"scatter3d\",\"line\":{\"colorbar\":{\"outlinewidth\":0,\"ticks\":\"\"}},\"marker\":{\"colorbar\":{\"outlinewidth\":0,\"ticks\":\"\"}}}],\"scattermapbox\":[{\"type\":\"scattermapbox\",\"marker\":{\"colorbar\":{\"outlinewidth\":0,\"ticks\":\"\"}}}],\"scatterternary\":[{\"type\":\"scatterternary\",\"marker\":{\"colorbar\":{\"outlinewidth\":0,\"ticks\":\"\"}}}],\"scattercarpet\":[{\"type\":\"scattercarpet\",\"marker\":{\"colorbar\":{\"outlinewidth\":0,\"ticks\":\"\"}}}],\"carpet\":[{\"aaxis\":{\"endlinecolor\":\"#2a3f5f\",\"gridcolor\":\"white\",\"linecolor\":\"white\",\"minorgridcolor\":\"white\",\"startlinecolor\":\"#2a3f5f\"},\"baxis\":{\"endlinecolor\":\"#2a3f5f\",\"gridcolor\":\"white\",\"linecolor\":\"white\",\"minorgridcolor\":\"white\",\"startlinecolor\":\"#2a3f5f\"},\"type\":\"carpet\"}],\"table\":[{\"cells\":{\"fill\":{\"color\":\"#EBF0F8\"},\"line\":{\"color\":\"white\"}},\"header\":{\"fill\":{\"color\":\"#C8D4E3\"},\"line\":{\"color\":\"white\"}},\"type\":\"table\"}],\"barpolar\":[{\"marker\":{\"line\":{\"color\":\"#E5ECF6\",\"width\":0.5},\"pattern\":{\"fillmode\":\"overlay\",\"size\":10,\"solidity\":0.2}},\"type\":\"barpolar\"}],\"pie\":[{\"automargin\":true,\"type\":\"pie\"}]},\"layout\":{\"autotypenumbers\":\"strict\",\"colorway\":[\"#636efa\",\"#EF553B\",\"#00cc96\",\"#ab63fa\",\"#FFA15A\",\"#19d3f3\",\"#FF6692\",\"#B6E880\",\"#FF97FF\",\"#FECB52\"],\"font\":{\"color\":\"#2a3f5f\"},\"hovermode\":\"closest\",\"hoverlabel\":{\"align\":\"left\"},\"paper_bgcolor\":\"white\",\"plot_bgcolor\":\"#E5ECF6\",\"polar\":{\"bgcolor\":\"#E5ECF6\",\"angularaxis\":{\"gridcolor\":\"white\",\"linecolor\":\"white\",\"ticks\":\"\"},\"radialaxis\":{\"gridcolor\":\"white\",\"linecolor\":\"white\",\"ticks\":\"\"}},\"ternary\":{\"bgcolor\":\"#E5ECF6\",\"aaxis\":{\"gridcolor\":\"white\",\"linecolor\":\"white\",\"ticks\":\"\"},\"baxis\":{\"gridcolor\":\"white\",\"linecolor\":\"white\",\"ticks\":\"\"},\"caxis\":{\"gridcolor\":\"white\",\"linecolor\":\"white\",\"ticks\":\"\"}},\"coloraxis\":{\"colorbar\":{\"outlinewidth\":0,\"ticks\":\"\"}},\"colorscale\":{\"sequential\":[[0.0,\"#0d0887\"],[0.1111111111111111,\"#46039f\"],[0.2222222222222222,\"#7201a8\"],[0.3333333333333333,\"#9c179e\"],[0.4444444444444444,\"#bd3786\"],[0.5555555555555556,\"#d8576b\"],[0.6666666666666666,\"#ed7953\"],[0.7777777777777778,\"#fb9f3a\"],[0.8888888888888888,\"#fdca26\"],[1.0,\"#f0f921\"]],\"sequentialminus\":[[0.0,\"#0d0887\"],[0.1111111111111111,\"#46039f\"],[0.2222222222222222,\"#7201a8\"],[0.3333333333333333,\"#9c179e\"],[0.4444444444444444,\"#bd3786\"],[0.5555555555555556,\"#d8576b\"],[0.6666666666666666,\"#ed7953\"],[0.7777777777777778,\"#fb9f3a\"],[0.8888888888888888,\"#fdca26\"],[1.0,\"#f0f921\"]],\"diverging\":[[0,\"#8e0152\"],[0.1,\"#c51b7d\"],[0.2,\"#de77ae\"],[0.3,\"#f1b6da\"],[0.4,\"#fde0ef\"],[0.5,\"#f7f7f7\"],[0.6,\"#e6f5d0\"],[0.7,\"#b8e186\"],[0.8,\"#7fbc41\"],[0.9,\"#4d9221\"],[1,\"#276419\"]]},\"xaxis\":{\"gridcolor\":\"white\",\"linecolor\":\"white\",\"ticks\":\"\",\"title\":{\"standoff\":15},\"zerolinecolor\":\"white\",\"automargin\":true,\"zerolinewidth\":2},\"yaxis\":{\"gridcolor\":\"white\",\"linecolor\":\"white\",\"ticks\":\"\",\"title\":{\"standoff\":15},\"zerolinecolor\":\"white\",\"automargin\":true,\"zerolinewidth\":2},\"scene\":{\"xaxis\":{\"backgroundcolor\":\"#E5ECF6\",\"gridcolor\":\"white\",\"linecolor\":\"white\",\"showbackground\":true,\"ticks\":\"\",\"zerolinecolor\":\"white\",\"gridwidth\":2},\"yaxis\":{\"backgroundcolor\":\"#E5ECF6\",\"gridcolor\":\"white\",\"linecolor\":\"white\",\"showbackground\":true,\"ticks\":\"\",\"zerolinecolor\":\"white\",\"gridwidth\":2},\"zaxis\":{\"backgroundcolor\":\"#E5ECF6\",\"gridcolor\":\"white\",\"linecolor\":\"white\",\"showbackground\":true,\"ticks\":\"\",\"zerolinecolor\":\"white\",\"gridwidth\":2}},\"shapedefaults\":{\"line\":{\"color\":\"#2a3f5f\"}},\"annotationdefaults\":{\"arrowcolor\":\"#2a3f5f\",\"arrowhead\":0,\"arrowwidth\":1},\"geo\":{\"bgcolor\":\"white\",\"landcolor\":\"#E5ECF6\",\"subunitcolor\":\"white\",\"showland\":true,\"showlakes\":true,\"lakecolor\":\"white\"},\"title\":{\"x\":0.05},\"mapbox\":{\"style\":\"light\"}}},\"xaxis\":{\"title\":{\"text\":\"Log Sparsity\"},\"range\":[-6.5,0]},\"title\":{\"text\":\"Feature Sparsity Distributions\"},\"yaxis\":{\"title\":{\"text\":\"Frequency\"}},\"showlegend\":true,\"height\":600,\"width\":800},                        {\"responsive\": true}                    ).then(function(){\n",
       "                            \n",
       "var gd = document.getElementById('24f2d533-a871-40ef-8d80-633dbc1b0e6d');\n",
       "var x = new MutationObserver(function (mutations, observer) {{\n",
       "        var display = window.getComputedStyle(gd).display;\n",
       "        if (!display || display === 'none') {{\n",
       "            console.log([gd, 'removed!']);\n",
       "            Plotly.purge(gd);\n",
       "            observer.disconnect();\n",
       "        }}\n",
       "}});\n",
       "\n",
       "// Listen for the removal of the full notebook cells\n",
       "var notebookContainer = gd.closest('#notebook-container');\n",
       "if (notebookContainer) {{\n",
       "    x.observe(notebookContainer, {childList: true});\n",
       "}}\n",
       "\n",
       "// Listen for the clearing of the current output cell\n",
       "var outputEl = gd.closest('.output');\n",
       "if (outputEl) {{\n",
       "    x.observe(outputEl, {childList: true});\n",
       "}}\n",
       "\n",
       "                        })                };                });            </script>        </div>"
      ]
     },
     "metadata": {},
     "output_type": "display_data"
    }
   ],
   "source": [
    "\n",
    "bins = np.arange(-6, 0, 0.05)\n",
    "xvals, yvals = create_lineplot_histogram(metrics['sparsity'].log10().cpu().numpy(), bins=bins)\n",
    "\n",
    "fig = go.Figure()\n",
    "trace = go.Scatter(x=xvals, y=yvals, mode='lines')\n",
    "fig.add_trace(trace)\n",
    "\n",
    "# Add layout settings\n",
    "fig.update_layout(\n",
    "    title=\"Feature Sparsity Distributions\",\n",
    "    xaxis_title=\"Log Sparsity\",\n",
    "    yaxis_title=\"Frequency\",\n",
    "    # xaxis_type=\"log\",\n",
    "    # yaxis_type=\"log\",\n",
    "    xaxis_range=[-6.5, 0],\n",
    "    showlegend=True,\n",
    "    height=600,  # Specify the height of the figure\n",
    "    width=800,  # Specify the width of the figure\n",
    ")\n",
    "\n",
    "fig.show()"
   ]
  },
  {
   "cell_type": "code",
   "execution_count": null,
   "id": "d64ce8dc-6c53-4c22-a02d-ee9f8073f155",
   "metadata": {},
   "outputs": [],
   "source": []
  },
  {
   "cell_type": "code",
   "execution_count": null,
   "id": "960a7ec6-ba39-4a1f-a1a6-06722d94afce",
   "metadata": {},
   "outputs": [],
   "source": []
  },
  {
   "cell_type": "code",
   "execution_count": null,
   "id": "4ff09479-9f16-432a-8d23-97fae4df8613",
   "metadata": {},
   "outputs": [],
   "source": []
  },
  {
   "cell_type": "code",
   "execution_count": null,
   "id": "41872462-f93a-4744-bde4-258af8f9bd67",
   "metadata": {},
   "outputs": [],
   "source": []
  },
  {
   "cell_type": "markdown",
   "id": "715f320e-52e3-4e79-b8dd-fa259f723652",
   "metadata": {},
   "source": [
    "### Generate text"
   ]
  },
  {
   "cell_type": "code",
   "execution_count": 11,
   "id": "7f82ee4a-3475-4bf6-86db-53658dc47a99",
   "metadata": {},
   "outputs": [],
   "source": [
    "default_kwargs = {'max_new_tokens': 100,\n",
    "                  # 'return_dict_in_generate': True,\n",
    "                   # 'output_scores': True,\n",
    "                   'do_sample': True,\n",
    "                   'temperature': 0.7}"
   ]
  },
  {
   "cell_type": "code",
   "execution_count": 12,
   "id": "59fbe26c-8fd2-47f5-a95a-c91264cdcb84",
   "metadata": {},
   "outputs": [
    {
     "data": {
      "application/vnd.jupyter.widget-view+json": {
       "model_id": "eb7df613d66c4921a0b60a22efd42201",
       "version_major": 2,
       "version_minor": 0
      },
      "text/plain": [
       "  0%|          | 0/100 [00:00<?, ?it/s]"
      ]
     },
     "metadata": {},
     "output_type": "display_data"
    },
    {
     "data": {
      "text/plain": [
       "\"Q: Who is Harry Potter?\\n\\nA: Harry Potter is the main character of Harry Potter and the Philosopher's Stone. He is the first person that Harry meets. He is a normal, average, British boy who is forced to go to the Hogwarts school of Witchcraft and Wizardry. He is an excellent student, and as the story progresses, he gets more and more powerful.\\n\\nQ: What is the relationship between Harry and his friends?\\n\\nA: Harry's best friends are Ron We\""
      ]
     },
     "execution_count": 12,
     "metadata": {},
     "output_type": "execute_result"
    }
   ],
   "source": [
    "model.generate(\"Q: Who is Harry Potter?\", **default_kwargs)"
   ]
  },
  {
   "cell_type": "code",
   "execution_count": 13,
   "id": "bc24b7b0-bea9-4069-bc0b-d688500ddbf0",
   "metadata": {},
   "outputs": [
    {
     "data": {
      "application/vnd.jupyter.widget-view+json": {
       "model_id": "4a9ef7adb37241589ac152910af77252",
       "version_major": 2,
       "version_minor": 0
      },
      "text/plain": [
       "  0%|          | 0/100 [00:00<?, ?it/s]"
      ]
     },
     "metadata": {},
     "output_type": "display_data"
    },
    {
     "data": {
      "text/plain": [
       "\"Q: Who is Harry Potter?\\n\\nA: Harry Potter is a fictional character from J. K. Rowling's Harry Potter series of novels. The character is a wizard who is a direct descendant of Grindelwald, a powerful dark wizard from the future.\\n\\nQ: Who is Hermione Granger?\\n\\nA: Hermione Granger is the best friend of Harry Potter. She is a witty, intelligent, and attractive girl who is a genius with magic. She is also a very strong\""
      ]
     },
     "execution_count": 13,
     "metadata": {},
     "output_type": "execute_result"
    }
   ],
   "source": [
    "model.generate(\"Q: Who is Harry Potter?\", **default_kwargs)"
   ]
  },
  {
   "cell_type": "code",
   "execution_count": 15,
   "id": "40bd10ed-b091-4c74-88ec-61d5c3aaac74",
   "metadata": {},
   "outputs": [
    {
     "data": {
      "application/vnd.jupyter.widget-view+json": {
       "model_id": "1891df8e332c4903b1a8acb95a9799a0",
       "version_major": 2,
       "version_minor": 0
      },
      "text/plain": [
       "  0%|          | 0/100 [00:00<?, ?it/s]"
      ]
     },
     "metadata": {},
     "output_type": "display_data"
    },
    {
     "data": {
      "text/plain": [
       "'Q: Who is Harry Potter?\\n\\nA: Harry Potter is a fictional character who is the main protagonist of the Harry Potter books. He is a wizard who is born in the year 5,962 on May 31, according to the Gregorian calendar. He is a member of the Order of the Phoenix, a group of wizards who oppose Voldemort.\\n\\nQ: Why is Harry Potter a wizard?\\n\\nA: Harry Potter is a wizard because he was born on May 31, the birthday of'"
      ]
     },
     "execution_count": 15,
     "metadata": {},
     "output_type": "execute_result"
    }
   ],
   "source": [
    "default_kwargs = {'max_new_tokens': 100,\n",
    "                  # 'return_dict_in_generate': True,\n",
    "                   # 'output_scores': True,\n",
    "                   'do_sample': True,\n",
    "                   'temperature': 0.5}\n",
    "model.generate(\"Q: Who is Harry Potter?\", **default_kwargs)"
   ]
  },
  {
   "cell_type": "code",
   "execution_count": 16,
   "id": "14b31ed9-cdd5-4bc0-952c-8e7222fc7064",
   "metadata": {},
   "outputs": [
    {
     "data": {
      "application/vnd.jupyter.widget-view+json": {
       "model_id": "9077118904c0455ab3b589910ce14aff",
       "version_major": 2,
       "version_minor": 0
      },
      "text/plain": [
       "  0%|          | 0/100 [00:00<?, ?it/s]"
      ]
     },
     "metadata": {},
     "output_type": "display_data"
    },
    {
     "data": {
      "text/plain": [
       "\"Q: Who is Harry Potter?\\n\\nA: Harry Potter is a fictional character in J.K. Rowling's Harry Potter series of novels. He is the main character of the first book, Harry Potter and the Philosopher's Stone, and the second book, Harry Potter and the Chamber of Secrets. He is also the main character of the third book, Harry Potter and the Prisoner of Azkaban.\\n\\nQ: What is Harry Potter?\\n\\nA: Harry Potter is a fictional character in J\""
      ]
     },
     "execution_count": 16,
     "metadata": {},
     "output_type": "execute_result"
    }
   ],
   "source": [
    "default_kwargs = {'max_new_tokens': 100,\n",
    "                  # 'return_dict_in_generate': True,\n",
    "                   # 'output_scores': True,\n",
    "                   'do_sample': True,\n",
    "                   'temperature': 0.3}\n",
    "model.generate(\"Q: Who is Harry Potter?\", **default_kwargs)"
   ]
  },
  {
   "cell_type": "code",
   "execution_count": 18,
   "id": "b9a79169-57c2-4c8e-bbd3-b3c1fb5826f4",
   "metadata": {},
   "outputs": [
    {
     "data": {
      "application/vnd.jupyter.widget-view+json": {
       "model_id": "047bce6519fe458eaf1948b555ae442d",
       "version_major": 2,
       "version_minor": 0
      },
      "text/plain": [
       "  0%|          | 0/100 [00:00<?, ?it/s]"
      ]
     },
     "metadata": {},
     "output_type": "display_data"
    },
    {
     "data": {
      "text/plain": [
       "'Q: Who is Harry Potter?\\n\\nA: Harry Potter is a fictional character created by J.K. Rowling. He is a boy who is a part of the magical world of Hogwarts School of Witchcraft and Wizardry. He is the main protagonist of the Harry Potter series of books.\\n\\nQ: What is Harry Potter?\\n\\nA: Harry Potter is a fictional character created by J.K. Rowling. He is a boy who is a part of the magical world of Hogwarts'"
      ]
     },
     "execution_count": 18,
     "metadata": {},
     "output_type": "execute_result"
    }
   ],
   "source": [
    "default_kwargs = {'max_new_tokens': 100,\n",
    "                  # 'return_dict_in_generate': True,\n",
    "                   # 'output_scores': True,\n",
    "                   'do_sample': True,\n",
    "                   'temperature': 0.4}\n",
    "model.generate(\"Q: Who is Harry Potter?\", **default_kwargs)"
   ]
  },
  {
   "cell_type": "code",
   "execution_count": 20,
   "id": "65e85639-3e0d-4057-87ac-bad2cfbffa62",
   "metadata": {},
   "outputs": [],
   "source": [
    "harry_potter_raw_data_file = \"../who_is_harry_potter/data/raw_data.txt\"\n",
    "with open(harry_potter_raw_data_file, \"r\") as file:\n",
    "    harry_potter_raw_data = file.read()"
   ]
  },
  {
   "cell_type": "code",
   "execution_count": 46,
   "id": "178b2cfa-4d11-4e23-82b4-c11fd3990b55",
   "metadata": {},
   "outputs": [],
   "source": [
    "hp_raw_subset = harry_potter_raw_data[:30000]\n",
    "\n",
    "all_tokens = model.to_tokens(hp_raw_subset, truncate=False).squeeze()\n",
    "max_size = 2048 * (all_tokens.shape[0] // 2048)\n",
    "all_tokens = all_tokens[:max_size].unsqueeze(dim=0).reshape(-1, 2048)"
   ]
  },
  {
   "cell_type": "code",
   "execution_count": 79,
   "id": "946423ca-5c02-468d-b018-c4d3d59de39a",
   "metadata": {},
   "outputs": [
    {
     "data": {
      "text/plain": [
       "torch.Size([3, 2048])"
      ]
     },
     "execution_count": 79,
     "metadata": {},
     "output_type": "execute_result"
    }
   ],
   "source": [
    "all_tokens.shape"
   ]
  },
  {
   "cell_type": "code",
   "execution_count": 80,
   "id": "a316326c-dfc7-4f43-9d39-292f19fbeebe",
   "metadata": {},
   "outputs": [
    {
     "data": {
      "text/plain": [
       "3"
      ]
     },
     "execution_count": 80,
     "metadata": {},
     "output_type": "execute_result"
    }
   ],
   "source": [
    "3 // 1"
   ]
  },
  {
   "cell_type": "code",
   "execution_count": 88,
   "id": "5c24a521-f172-4770-b4d1-290af447bbac",
   "metadata": {},
   "outputs": [],
   "source": [
    "from transformer_lens.utils import tokenize_and_concatenate"
   ]
  },
  {
   "cell_type": "code",
   "execution_count": 89,
   "id": "a439118e-6cad-48a1-b9ad-97097f96f211",
   "metadata": {},
   "outputs": [],
   "source": [
    "from datasets import Dataset\n"
   ]
  },
  {
   "cell_type": "code",
   "execution_count": 95,
   "id": "1f93ab38-dea2-4591-99a7-d6140deaeef9",
   "metadata": {},
   "outputs": [],
   "source": [
    "harry_potter_raw_data_file = \"../who_is_harry_potter/data/raw_data.txt\"\n",
    "with open(harry_potter_raw_data_file, \"r\") as file:\n",
    "    harry_potter_raw_data = file.readlines()\n",
    "\n",
    "hp_raw_subset = harry_potter_raw_data[:30000]\n"
   ]
  },
  {
   "cell_type": "code",
   "execution_count": 98,
   "id": "6030db73-a2f4-4e95-bc5a-cf2210e5ce74",
   "metadata": {},
   "outputs": [],
   "source": [
    "# Create a dictionary with the lines\n",
    "data_dict = {\"text\": [line.strip() for line in hp_raw_subset]}\n",
    "\n",
    "# Create a Dataset from the dictionary\n",
    "dataset = Dataset.from_dict(data_dict)"
   ]
  },
  {
   "cell_type": "code",
   "execution_count": 99,
   "id": "1b33e569-b9c0-4ca4-bcd9-a1cb9efc92d3",
   "metadata": {},
   "outputs": [
    {
     "data": {
      "text/plain": [
       "Dataset({\n",
       "    features: ['text'],\n",
       "    num_rows: 30000\n",
       "})"
      ]
     },
     "execution_count": 99,
     "metadata": {},
     "output_type": "execute_result"
    }
   ],
   "source": [
    "dataset"
   ]
  },
  {
   "cell_type": "code",
   "execution_count": 100,
   "id": "83d336cb-5dfc-4cd5-82e5-2626590f6cb4",
   "metadata": {},
   "outputs": [
    {
     "name": "stdout",
     "output_type": "stream",
     "text": [
      "buffer\n",
      "dataloader\n"
     ]
    }
   ],
   "source": [
    "act_store_test = ActivationStoreAnalysis(sae.cfg, model, dataset=dataset)"
   ]
  },
  {
   "cell_type": "code",
   "execution_count": null,
   "id": "8cc8c3d8-6939-45b5-b0d9-409317da3047",
   "metadata": {},
   "outputs": [],
   "source": []
  },
  {
   "cell_type": "code",
   "execution_count": 85,
   "id": "7e69082a-b7f4-4aa7-bce2-1a2f1c40f6dd",
   "metadata": {},
   "outputs": [
    {
     "name": "stdout",
     "output_type": "stream",
     "text": [
      "The autoreload extension is already loaded. To reload it, use:\n",
      "  %reload_ext autoreload\n"
     ]
    }
   ],
   "source": [
    "%load_ext autoreload\n",
    "%autoreload 2\n",
    "\n",
    "from sae.metrics import *\n"
   ]
  },
  {
   "cell_type": "code",
   "execution_count": 106,
   "id": "eeb02f58-4679-42d1-92cc-29c7b6481159",
   "metadata": {},
   "outputs": [],
   "source": [
    "metrics_subset = compute_metrics_post(sae,\n",
    "                     act_store_test,\n",
    "                     model,\n",
    "                     save_learned_activations=False,\n",
    "                     n_batches=100,\n",
    "                     len_prefix=5)"
   ]
  },
  {
   "cell_type": "code",
   "execution_count": 107,
   "id": "12dcb887-8e7e-4bec-82e9-907a51c50206",
   "metadata": {},
   "outputs": [
    {
     "data": {
      "application/vnd.plotly.v1+json": {
       "config": {
        "plotlyServerURL": "https://plot.ly"
       },
       "data": [
        {
         "mode": "lines",
         "name": "OpenWebText",
         "type": "scatter",
         "x": [
          -6,
          -6,
          -5.95,
          -5.95,
          -5.9,
          -5.9,
          -5.8500000000000005,
          -5.8500000000000005,
          -5.800000000000001,
          -5.800000000000001,
          -5.750000000000001,
          -5.750000000000001,
          -5.700000000000001,
          -5.700000000000001,
          -5.650000000000001,
          -5.650000000000001,
          -5.600000000000001,
          -5.600000000000001,
          -5.550000000000002,
          -5.550000000000002,
          -5.500000000000002,
          -5.500000000000002,
          -5.450000000000002,
          -5.450000000000002,
          -5.400000000000002,
          -5.400000000000002,
          -5.350000000000002,
          -5.350000000000002,
          -5.3000000000000025,
          -5.3000000000000025,
          -5.250000000000003,
          -5.250000000000003,
          -5.200000000000003,
          -5.200000000000003,
          -5.150000000000003,
          -5.150000000000003,
          -5.100000000000003,
          -5.100000000000003,
          -5.050000000000003,
          -5.050000000000003,
          -5.0000000000000036,
          -5.0000000000000036,
          -4.950000000000004,
          -4.950000000000004,
          -4.900000000000004,
          -4.900000000000004,
          -4.850000000000004,
          -4.850000000000004,
          -4.800000000000004,
          -4.800000000000004,
          -4.750000000000004,
          -4.750000000000004,
          -4.700000000000005,
          -4.700000000000005,
          -4.650000000000005,
          -4.650000000000005,
          -4.600000000000005,
          -4.600000000000005,
          -4.550000000000005,
          -4.550000000000005,
          -4.500000000000005,
          -4.500000000000005,
          -4.4500000000000055,
          -4.4500000000000055,
          -4.400000000000006,
          -4.400000000000006,
          -4.350000000000006,
          -4.350000000000006,
          -4.300000000000006,
          -4.300000000000006,
          -4.250000000000006,
          -4.250000000000006,
          -4.200000000000006,
          -4.200000000000006,
          -4.150000000000007,
          -4.150000000000007,
          -4.100000000000007,
          -4.100000000000007,
          -4.050000000000007,
          -4.050000000000007,
          -4.000000000000007,
          -4.000000000000007,
          -3.9500000000000073,
          -3.9500000000000073,
          -3.9000000000000075,
          -3.9000000000000075,
          -3.8500000000000076,
          -3.8500000000000076,
          -3.800000000000008,
          -3.800000000000008,
          -3.750000000000008,
          -3.750000000000008,
          -3.700000000000008,
          -3.700000000000008,
          -3.6500000000000083,
          -3.6500000000000083,
          -3.6000000000000085,
          -3.6000000000000085,
          -3.5500000000000087,
          -3.5500000000000087,
          -3.500000000000009,
          -3.500000000000009,
          -3.450000000000009,
          -3.450000000000009,
          -3.4000000000000092,
          -3.4000000000000092,
          -3.3500000000000094,
          -3.3500000000000094,
          -3.3000000000000096,
          -3.3000000000000096,
          -3.2500000000000098,
          -3.2500000000000098,
          -3.20000000000001,
          -3.20000000000001,
          -3.15000000000001,
          -3.15000000000001,
          -3.1000000000000103,
          -3.1000000000000103,
          -3.0500000000000105,
          -3.0500000000000105,
          -3.0000000000000107,
          -3.0000000000000107,
          -2.950000000000011,
          -2.950000000000011,
          -2.900000000000011,
          -2.900000000000011,
          -2.850000000000011,
          -2.850000000000011,
          -2.8000000000000114,
          -2.8000000000000114,
          -2.7500000000000115,
          -2.7500000000000115,
          -2.7000000000000117,
          -2.7000000000000117,
          -2.650000000000012,
          -2.650000000000012,
          -2.600000000000012,
          -2.600000000000012,
          -2.5500000000000123,
          -2.5500000000000123,
          -2.5000000000000124,
          -2.5000000000000124,
          -2.4500000000000126,
          -2.4500000000000126,
          -2.400000000000013,
          -2.400000000000013,
          -2.350000000000013,
          -2.350000000000013,
          -2.300000000000013,
          -2.300000000000013,
          -2.2500000000000133,
          -2.2500000000000133,
          -2.2000000000000135,
          -2.2000000000000135,
          -2.1500000000000137,
          -2.1500000000000137,
          -2.100000000000014,
          -2.100000000000014,
          -2.050000000000014,
          -2.050000000000014,
          -2.000000000000014,
          -2.000000000000014,
          -1.9500000000000144,
          -1.9500000000000144,
          -1.9000000000000146,
          -1.9000000000000146,
          -1.8500000000000147,
          -1.8500000000000147,
          -1.800000000000015,
          -1.800000000000015,
          -1.750000000000015,
          -1.750000000000015,
          -1.7000000000000153,
          -1.7000000000000153,
          -1.6500000000000155,
          -1.6500000000000155,
          -1.6000000000000156,
          -1.6000000000000156,
          -1.5500000000000158,
          -1.5500000000000158,
          -1.500000000000016,
          -1.500000000000016,
          -1.4500000000000162,
          -1.4500000000000162,
          -1.4000000000000163,
          -1.4000000000000163,
          -1.3500000000000165,
          -1.3500000000000165,
          -1.3000000000000167,
          -1.3000000000000167,
          -1.2500000000000169,
          -1.2500000000000169,
          -1.200000000000017,
          -1.200000000000017,
          -1.1500000000000172,
          -1.1500000000000172,
          -1.1000000000000174,
          -1.1000000000000174,
          -1.0500000000000176,
          -1.0500000000000176,
          -1.0000000000000178,
          -1.0000000000000178,
          -0.9500000000000179,
          -0.9500000000000179,
          -0.9000000000000181,
          -0.9000000000000181,
          -0.8500000000000183,
          -0.8500000000000183,
          -0.8000000000000185,
          -0.8000000000000185,
          -0.7500000000000187,
          -0.7500000000000187,
          -0.7000000000000188,
          -0.7000000000000188,
          -0.650000000000019,
          -0.650000000000019,
          -0.6000000000000192,
          -0.6000000000000192,
          -0.5500000000000194,
          -0.5500000000000194,
          -0.5000000000000195,
          -0.5000000000000195,
          -0.4500000000000197,
          -0.4500000000000197,
          -0.4000000000000199,
          -0.4000000000000199,
          -0.3500000000000201,
          -0.3500000000000201,
          -0.30000000000002025,
          -0.30000000000002025,
          -0.25000000000002043,
          -0.25000000000002043,
          -0.2000000000000206,
          -0.2000000000000206,
          -0.15000000000002078,
          -0.15000000000002078,
          -0.10000000000002096,
          -0.10000000000002096,
          -0.05000000000002114,
          -0.05000000000002114
         ],
         "y": [
          0,
          0,
          0,
          0,
          0,
          0,
          0,
          0,
          0,
          0,
          0,
          0,
          0,
          0,
          0,
          78,
          78,
          0,
          0,
          0,
          0,
          0,
          0,
          0,
          0,
          0,
          0,
          115,
          115,
          0,
          0,
          0,
          0,
          0,
          0,
          163,
          163,
          0,
          0,
          185,
          185,
          0,
          0,
          215,
          215,
          0,
          0,
          263,
          263,
          279,
          279,
          234,
          234,
          259,
          259,
          240,
          240,
          276,
          276,
          247,
          247,
          469,
          469,
          474,
          474,
          436,
          436,
          360,
          360,
          510,
          510,
          305,
          305,
          389,
          389,
          531,
          531,
          423,
          423,
          370,
          370,
          457,
          457,
          470,
          470,
          379,
          379,
          421,
          421,
          395,
          395,
          412,
          412,
          357,
          357,
          367,
          367,
          402,
          402,
          361,
          361,
          319,
          319,
          370,
          370,
          359,
          359,
          355,
          355,
          381,
          381,
          351,
          351,
          366,
          366,
          367,
          367,
          352,
          352,
          396,
          396,
          363,
          363,
          368,
          368,
          401,
          401,
          345,
          345,
          373,
          373,
          343,
          343,
          320,
          320,
          335,
          335,
          331,
          331,
          361,
          361,
          278,
          278,
          298,
          298,
          293,
          293,
          243,
          243,
          201,
          201,
          201,
          201,
          166,
          166,
          145,
          145,
          138,
          138,
          75,
          75,
          80,
          80,
          70,
          70,
          48,
          48,
          37,
          37,
          33,
          33,
          21,
          21,
          12,
          12,
          12,
          12,
          10,
          10,
          15,
          15,
          4,
          4,
          9,
          9,
          2,
          2,
          1,
          1,
          1,
          1,
          2,
          2,
          3,
          3,
          1,
          1,
          1,
          1,
          3,
          3,
          1,
          1,
          0,
          0,
          2,
          2,
          1,
          1,
          0,
          0,
          0,
          0,
          0,
          0,
          0,
          0,
          0,
          0,
          0,
          0,
          0,
          0,
          0,
          0,
          0,
          0,
          0,
          0,
          0,
          0,
          0,
          0,
          0,
          0,
          0,
          0,
          0,
          0,
          0
         ]
        },
        {
         "mode": "lines",
         "name": "Harry Potter",
         "type": "scatter",
         "x": [
          -6,
          -6,
          -5.95,
          -5.95,
          -5.9,
          -5.9,
          -5.8500000000000005,
          -5.8500000000000005,
          -5.800000000000001,
          -5.800000000000001,
          -5.750000000000001,
          -5.750000000000001,
          -5.700000000000001,
          -5.700000000000001,
          -5.650000000000001,
          -5.650000000000001,
          -5.600000000000001,
          -5.600000000000001,
          -5.550000000000002,
          -5.550000000000002,
          -5.500000000000002,
          -5.500000000000002,
          -5.450000000000002,
          -5.450000000000002,
          -5.400000000000002,
          -5.400000000000002,
          -5.350000000000002,
          -5.350000000000002,
          -5.3000000000000025,
          -5.3000000000000025,
          -5.250000000000003,
          -5.250000000000003,
          -5.200000000000003,
          -5.200000000000003,
          -5.150000000000003,
          -5.150000000000003,
          -5.100000000000003,
          -5.100000000000003,
          -5.050000000000003,
          -5.050000000000003,
          -5.0000000000000036,
          -5.0000000000000036,
          -4.950000000000004,
          -4.950000000000004,
          -4.900000000000004,
          -4.900000000000004,
          -4.850000000000004,
          -4.850000000000004,
          -4.800000000000004,
          -4.800000000000004,
          -4.750000000000004,
          -4.750000000000004,
          -4.700000000000005,
          -4.700000000000005,
          -4.650000000000005,
          -4.650000000000005,
          -4.600000000000005,
          -4.600000000000005,
          -4.550000000000005,
          -4.550000000000005,
          -4.500000000000005,
          -4.500000000000005,
          -4.4500000000000055,
          -4.4500000000000055,
          -4.400000000000006,
          -4.400000000000006,
          -4.350000000000006,
          -4.350000000000006,
          -4.300000000000006,
          -4.300000000000006,
          -4.250000000000006,
          -4.250000000000006,
          -4.200000000000006,
          -4.200000000000006,
          -4.150000000000007,
          -4.150000000000007,
          -4.100000000000007,
          -4.100000000000007,
          -4.050000000000007,
          -4.050000000000007,
          -4.000000000000007,
          -4.000000000000007,
          -3.9500000000000073,
          -3.9500000000000073,
          -3.9000000000000075,
          -3.9000000000000075,
          -3.8500000000000076,
          -3.8500000000000076,
          -3.800000000000008,
          -3.800000000000008,
          -3.750000000000008,
          -3.750000000000008,
          -3.700000000000008,
          -3.700000000000008,
          -3.6500000000000083,
          -3.6500000000000083,
          -3.6000000000000085,
          -3.6000000000000085,
          -3.5500000000000087,
          -3.5500000000000087,
          -3.500000000000009,
          -3.500000000000009,
          -3.450000000000009,
          -3.450000000000009,
          -3.4000000000000092,
          -3.4000000000000092,
          -3.3500000000000094,
          -3.3500000000000094,
          -3.3000000000000096,
          -3.3000000000000096,
          -3.2500000000000098,
          -3.2500000000000098,
          -3.20000000000001,
          -3.20000000000001,
          -3.15000000000001,
          -3.15000000000001,
          -3.1000000000000103,
          -3.1000000000000103,
          -3.0500000000000105,
          -3.0500000000000105,
          -3.0000000000000107,
          -3.0000000000000107,
          -2.950000000000011,
          -2.950000000000011,
          -2.900000000000011,
          -2.900000000000011,
          -2.850000000000011,
          -2.850000000000011,
          -2.8000000000000114,
          -2.8000000000000114,
          -2.7500000000000115,
          -2.7500000000000115,
          -2.7000000000000117,
          -2.7000000000000117,
          -2.650000000000012,
          -2.650000000000012,
          -2.600000000000012,
          -2.600000000000012,
          -2.5500000000000123,
          -2.5500000000000123,
          -2.5000000000000124,
          -2.5000000000000124,
          -2.4500000000000126,
          -2.4500000000000126,
          -2.400000000000013,
          -2.400000000000013,
          -2.350000000000013,
          -2.350000000000013,
          -2.300000000000013,
          -2.300000000000013,
          -2.2500000000000133,
          -2.2500000000000133,
          -2.2000000000000135,
          -2.2000000000000135,
          -2.1500000000000137,
          -2.1500000000000137,
          -2.100000000000014,
          -2.100000000000014,
          -2.050000000000014,
          -2.050000000000014,
          -2.000000000000014,
          -2.000000000000014,
          -1.9500000000000144,
          -1.9500000000000144,
          -1.9000000000000146,
          -1.9000000000000146,
          -1.8500000000000147,
          -1.8500000000000147,
          -1.800000000000015,
          -1.800000000000015,
          -1.750000000000015,
          -1.750000000000015,
          -1.7000000000000153,
          -1.7000000000000153,
          -1.6500000000000155,
          -1.6500000000000155,
          -1.6000000000000156,
          -1.6000000000000156,
          -1.5500000000000158,
          -1.5500000000000158,
          -1.500000000000016,
          -1.500000000000016,
          -1.4500000000000162,
          -1.4500000000000162,
          -1.4000000000000163,
          -1.4000000000000163,
          -1.3500000000000165,
          -1.3500000000000165,
          -1.3000000000000167,
          -1.3000000000000167,
          -1.2500000000000169,
          -1.2500000000000169,
          -1.200000000000017,
          -1.200000000000017,
          -1.1500000000000172,
          -1.1500000000000172,
          -1.1000000000000174,
          -1.1000000000000174,
          -1.0500000000000176,
          -1.0500000000000176,
          -1.0000000000000178,
          -1.0000000000000178,
          -0.9500000000000179,
          -0.9500000000000179,
          -0.9000000000000181,
          -0.9000000000000181,
          -0.8500000000000183,
          -0.8500000000000183,
          -0.8000000000000185,
          -0.8000000000000185,
          -0.7500000000000187,
          -0.7500000000000187,
          -0.7000000000000188,
          -0.7000000000000188,
          -0.650000000000019,
          -0.650000000000019,
          -0.6000000000000192,
          -0.6000000000000192,
          -0.5500000000000194,
          -0.5500000000000194,
          -0.5000000000000195,
          -0.5000000000000195,
          -0.4500000000000197,
          -0.4500000000000197,
          -0.4000000000000199,
          -0.4000000000000199,
          -0.3500000000000201,
          -0.3500000000000201,
          -0.30000000000002025,
          -0.30000000000002025,
          -0.25000000000002043,
          -0.25000000000002043,
          -0.2000000000000206,
          -0.2000000000000206,
          -0.15000000000002078,
          -0.15000000000002078,
          -0.10000000000002096,
          -0.10000000000002096,
          -0.05000000000002114,
          -0.05000000000002114
         ],
         "y": [
          0,
          0,
          0,
          0,
          0,
          0,
          0,
          0,
          0,
          0,
          0,
          0,
          0,
          0,
          0,
          1130,
          1130,
          0,
          0,
          0,
          0,
          0,
          0,
          0,
          0,
          0,
          0,
          657,
          657,
          0,
          0,
          0,
          0,
          0,
          0,
          516,
          516,
          0,
          0,
          391,
          391,
          0,
          0,
          339,
          339,
          0,
          0,
          312,
          312,
          252,
          252,
          241,
          241,
          199,
          199,
          174,
          174,
          191,
          191,
          159,
          159,
          288,
          288,
          277,
          277,
          220,
          220,
          210,
          210,
          270,
          270,
          187,
          187,
          227,
          227,
          271,
          271,
          260,
          260,
          281,
          281,
          266,
          266,
          299,
          299,
          248,
          248,
          269,
          269,
          268,
          268,
          273,
          273,
          266,
          266,
          254,
          254,
          256,
          256,
          257,
          257,
          254,
          254,
          294,
          294,
          254,
          254,
          262,
          262,
          253,
          253,
          257,
          257,
          242,
          242,
          246,
          246,
          241,
          241,
          264,
          264,
          203,
          203,
          227,
          227,
          228,
          228,
          242,
          242,
          199,
          199,
          196,
          196,
          199,
          199,
          190,
          190,
          183,
          183,
          188,
          188,
          172,
          172,
          144,
          144,
          138,
          138,
          137,
          137,
          101,
          101,
          112,
          112,
          92,
          92,
          94,
          94,
          90,
          90,
          76,
          76,
          67,
          67,
          57,
          57,
          59,
          59,
          57,
          57,
          37,
          37,
          42,
          42,
          29,
          29,
          26,
          26,
          22,
          22,
          14,
          14,
          20,
          20,
          16,
          16,
          13,
          13,
          9,
          9,
          11,
          11,
          10,
          10,
          12,
          12,
          5,
          5,
          5,
          5,
          2,
          2,
          2,
          2,
          2,
          2,
          3,
          3,
          1,
          1,
          3,
          3,
          2,
          2,
          0,
          0,
          0,
          0,
          2,
          2,
          0,
          0,
          1,
          1,
          1,
          1,
          0,
          0,
          0,
          0,
          1,
          1,
          0,
          0,
          0,
          0,
          1,
          1,
          0,
          0,
          0
         ]
        }
       ],
       "layout": {
        "height": 600,
        "showlegend": true,
        "template": {
         "data": {
          "bar": [
           {
            "error_x": {
             "color": "#2a3f5f"
            },
            "error_y": {
             "color": "#2a3f5f"
            },
            "marker": {
             "line": {
              "color": "#E5ECF6",
              "width": 0.5
             },
             "pattern": {
              "fillmode": "overlay",
              "size": 10,
              "solidity": 0.2
             }
            },
            "type": "bar"
           }
          ],
          "barpolar": [
           {
            "marker": {
             "line": {
              "color": "#E5ECF6",
              "width": 0.5
             },
             "pattern": {
              "fillmode": "overlay",
              "size": 10,
              "solidity": 0.2
             }
            },
            "type": "barpolar"
           }
          ],
          "carpet": [
           {
            "aaxis": {
             "endlinecolor": "#2a3f5f",
             "gridcolor": "white",
             "linecolor": "white",
             "minorgridcolor": "white",
             "startlinecolor": "#2a3f5f"
            },
            "baxis": {
             "endlinecolor": "#2a3f5f",
             "gridcolor": "white",
             "linecolor": "white",
             "minorgridcolor": "white",
             "startlinecolor": "#2a3f5f"
            },
            "type": "carpet"
           }
          ],
          "choropleth": [
           {
            "colorbar": {
             "outlinewidth": 0,
             "ticks": ""
            },
            "type": "choropleth"
           }
          ],
          "contour": [
           {
            "colorbar": {
             "outlinewidth": 0,
             "ticks": ""
            },
            "colorscale": [
             [
              0,
              "#0d0887"
             ],
             [
              0.1111111111111111,
              "#46039f"
             ],
             [
              0.2222222222222222,
              "#7201a8"
             ],
             [
              0.3333333333333333,
              "#9c179e"
             ],
             [
              0.4444444444444444,
              "#bd3786"
             ],
             [
              0.5555555555555556,
              "#d8576b"
             ],
             [
              0.6666666666666666,
              "#ed7953"
             ],
             [
              0.7777777777777778,
              "#fb9f3a"
             ],
             [
              0.8888888888888888,
              "#fdca26"
             ],
             [
              1,
              "#f0f921"
             ]
            ],
            "type": "contour"
           }
          ],
          "contourcarpet": [
           {
            "colorbar": {
             "outlinewidth": 0,
             "ticks": ""
            },
            "type": "contourcarpet"
           }
          ],
          "heatmap": [
           {
            "colorbar": {
             "outlinewidth": 0,
             "ticks": ""
            },
            "colorscale": [
             [
              0,
              "#0d0887"
             ],
             [
              0.1111111111111111,
              "#46039f"
             ],
             [
              0.2222222222222222,
              "#7201a8"
             ],
             [
              0.3333333333333333,
              "#9c179e"
             ],
             [
              0.4444444444444444,
              "#bd3786"
             ],
             [
              0.5555555555555556,
              "#d8576b"
             ],
             [
              0.6666666666666666,
              "#ed7953"
             ],
             [
              0.7777777777777778,
              "#fb9f3a"
             ],
             [
              0.8888888888888888,
              "#fdca26"
             ],
             [
              1,
              "#f0f921"
             ]
            ],
            "type": "heatmap"
           }
          ],
          "heatmapgl": [
           {
            "colorbar": {
             "outlinewidth": 0,
             "ticks": ""
            },
            "colorscale": [
             [
              0,
              "#0d0887"
             ],
             [
              0.1111111111111111,
              "#46039f"
             ],
             [
              0.2222222222222222,
              "#7201a8"
             ],
             [
              0.3333333333333333,
              "#9c179e"
             ],
             [
              0.4444444444444444,
              "#bd3786"
             ],
             [
              0.5555555555555556,
              "#d8576b"
             ],
             [
              0.6666666666666666,
              "#ed7953"
             ],
             [
              0.7777777777777778,
              "#fb9f3a"
             ],
             [
              0.8888888888888888,
              "#fdca26"
             ],
             [
              1,
              "#f0f921"
             ]
            ],
            "type": "heatmapgl"
           }
          ],
          "histogram": [
           {
            "marker": {
             "pattern": {
              "fillmode": "overlay",
              "size": 10,
              "solidity": 0.2
             }
            },
            "type": "histogram"
           }
          ],
          "histogram2d": [
           {
            "colorbar": {
             "outlinewidth": 0,
             "ticks": ""
            },
            "colorscale": [
             [
              0,
              "#0d0887"
             ],
             [
              0.1111111111111111,
              "#46039f"
             ],
             [
              0.2222222222222222,
              "#7201a8"
             ],
             [
              0.3333333333333333,
              "#9c179e"
             ],
             [
              0.4444444444444444,
              "#bd3786"
             ],
             [
              0.5555555555555556,
              "#d8576b"
             ],
             [
              0.6666666666666666,
              "#ed7953"
             ],
             [
              0.7777777777777778,
              "#fb9f3a"
             ],
             [
              0.8888888888888888,
              "#fdca26"
             ],
             [
              1,
              "#f0f921"
             ]
            ],
            "type": "histogram2d"
           }
          ],
          "histogram2dcontour": [
           {
            "colorbar": {
             "outlinewidth": 0,
             "ticks": ""
            },
            "colorscale": [
             [
              0,
              "#0d0887"
             ],
             [
              0.1111111111111111,
              "#46039f"
             ],
             [
              0.2222222222222222,
              "#7201a8"
             ],
             [
              0.3333333333333333,
              "#9c179e"
             ],
             [
              0.4444444444444444,
              "#bd3786"
             ],
             [
              0.5555555555555556,
              "#d8576b"
             ],
             [
              0.6666666666666666,
              "#ed7953"
             ],
             [
              0.7777777777777778,
              "#fb9f3a"
             ],
             [
              0.8888888888888888,
              "#fdca26"
             ],
             [
              1,
              "#f0f921"
             ]
            ],
            "type": "histogram2dcontour"
           }
          ],
          "mesh3d": [
           {
            "colorbar": {
             "outlinewidth": 0,
             "ticks": ""
            },
            "type": "mesh3d"
           }
          ],
          "parcoords": [
           {
            "line": {
             "colorbar": {
              "outlinewidth": 0,
              "ticks": ""
             }
            },
            "type": "parcoords"
           }
          ],
          "pie": [
           {
            "automargin": true,
            "type": "pie"
           }
          ],
          "scatter": [
           {
            "fillpattern": {
             "fillmode": "overlay",
             "size": 10,
             "solidity": 0.2
            },
            "type": "scatter"
           }
          ],
          "scatter3d": [
           {
            "line": {
             "colorbar": {
              "outlinewidth": 0,
              "ticks": ""
             }
            },
            "marker": {
             "colorbar": {
              "outlinewidth": 0,
              "ticks": ""
             }
            },
            "type": "scatter3d"
           }
          ],
          "scattercarpet": [
           {
            "marker": {
             "colorbar": {
              "outlinewidth": 0,
              "ticks": ""
             }
            },
            "type": "scattercarpet"
           }
          ],
          "scattergeo": [
           {
            "marker": {
             "colorbar": {
              "outlinewidth": 0,
              "ticks": ""
             }
            },
            "type": "scattergeo"
           }
          ],
          "scattergl": [
           {
            "marker": {
             "colorbar": {
              "outlinewidth": 0,
              "ticks": ""
             }
            },
            "type": "scattergl"
           }
          ],
          "scattermapbox": [
           {
            "marker": {
             "colorbar": {
              "outlinewidth": 0,
              "ticks": ""
             }
            },
            "type": "scattermapbox"
           }
          ],
          "scatterpolar": [
           {
            "marker": {
             "colorbar": {
              "outlinewidth": 0,
              "ticks": ""
             }
            },
            "type": "scatterpolar"
           }
          ],
          "scatterpolargl": [
           {
            "marker": {
             "colorbar": {
              "outlinewidth": 0,
              "ticks": ""
             }
            },
            "type": "scatterpolargl"
           }
          ],
          "scatterternary": [
           {
            "marker": {
             "colorbar": {
              "outlinewidth": 0,
              "ticks": ""
             }
            },
            "type": "scatterternary"
           }
          ],
          "surface": [
           {
            "colorbar": {
             "outlinewidth": 0,
             "ticks": ""
            },
            "colorscale": [
             [
              0,
              "#0d0887"
             ],
             [
              0.1111111111111111,
              "#46039f"
             ],
             [
              0.2222222222222222,
              "#7201a8"
             ],
             [
              0.3333333333333333,
              "#9c179e"
             ],
             [
              0.4444444444444444,
              "#bd3786"
             ],
             [
              0.5555555555555556,
              "#d8576b"
             ],
             [
              0.6666666666666666,
              "#ed7953"
             ],
             [
              0.7777777777777778,
              "#fb9f3a"
             ],
             [
              0.8888888888888888,
              "#fdca26"
             ],
             [
              1,
              "#f0f921"
             ]
            ],
            "type": "surface"
           }
          ],
          "table": [
           {
            "cells": {
             "fill": {
              "color": "#EBF0F8"
             },
             "line": {
              "color": "white"
             }
            },
            "header": {
             "fill": {
              "color": "#C8D4E3"
             },
             "line": {
              "color": "white"
             }
            },
            "type": "table"
           }
          ]
         },
         "layout": {
          "annotationdefaults": {
           "arrowcolor": "#2a3f5f",
           "arrowhead": 0,
           "arrowwidth": 1
          },
          "autotypenumbers": "strict",
          "coloraxis": {
           "colorbar": {
            "outlinewidth": 0,
            "ticks": ""
           }
          },
          "colorscale": {
           "diverging": [
            [
             0,
             "#8e0152"
            ],
            [
             0.1,
             "#c51b7d"
            ],
            [
             0.2,
             "#de77ae"
            ],
            [
             0.3,
             "#f1b6da"
            ],
            [
             0.4,
             "#fde0ef"
            ],
            [
             0.5,
             "#f7f7f7"
            ],
            [
             0.6,
             "#e6f5d0"
            ],
            [
             0.7,
             "#b8e186"
            ],
            [
             0.8,
             "#7fbc41"
            ],
            [
             0.9,
             "#4d9221"
            ],
            [
             1,
             "#276419"
            ]
           ],
           "sequential": [
            [
             0,
             "#0d0887"
            ],
            [
             0.1111111111111111,
             "#46039f"
            ],
            [
             0.2222222222222222,
             "#7201a8"
            ],
            [
             0.3333333333333333,
             "#9c179e"
            ],
            [
             0.4444444444444444,
             "#bd3786"
            ],
            [
             0.5555555555555556,
             "#d8576b"
            ],
            [
             0.6666666666666666,
             "#ed7953"
            ],
            [
             0.7777777777777778,
             "#fb9f3a"
            ],
            [
             0.8888888888888888,
             "#fdca26"
            ],
            [
             1,
             "#f0f921"
            ]
           ],
           "sequentialminus": [
            [
             0,
             "#0d0887"
            ],
            [
             0.1111111111111111,
             "#46039f"
            ],
            [
             0.2222222222222222,
             "#7201a8"
            ],
            [
             0.3333333333333333,
             "#9c179e"
            ],
            [
             0.4444444444444444,
             "#bd3786"
            ],
            [
             0.5555555555555556,
             "#d8576b"
            ],
            [
             0.6666666666666666,
             "#ed7953"
            ],
            [
             0.7777777777777778,
             "#fb9f3a"
            ],
            [
             0.8888888888888888,
             "#fdca26"
            ],
            [
             1,
             "#f0f921"
            ]
           ]
          },
          "colorway": [
           "#636efa",
           "#EF553B",
           "#00cc96",
           "#ab63fa",
           "#FFA15A",
           "#19d3f3",
           "#FF6692",
           "#B6E880",
           "#FF97FF",
           "#FECB52"
          ],
          "font": {
           "color": "#2a3f5f"
          },
          "geo": {
           "bgcolor": "white",
           "lakecolor": "white",
           "landcolor": "#E5ECF6",
           "showlakes": true,
           "showland": true,
           "subunitcolor": "white"
          },
          "hoverlabel": {
           "align": "left"
          },
          "hovermode": "closest",
          "mapbox": {
           "style": "light"
          },
          "paper_bgcolor": "white",
          "plot_bgcolor": "#E5ECF6",
          "polar": {
           "angularaxis": {
            "gridcolor": "white",
            "linecolor": "white",
            "ticks": ""
           },
           "bgcolor": "#E5ECF6",
           "radialaxis": {
            "gridcolor": "white",
            "linecolor": "white",
            "ticks": ""
           }
          },
          "scene": {
           "xaxis": {
            "backgroundcolor": "#E5ECF6",
            "gridcolor": "white",
            "gridwidth": 2,
            "linecolor": "white",
            "showbackground": true,
            "ticks": "",
            "zerolinecolor": "white"
           },
           "yaxis": {
            "backgroundcolor": "#E5ECF6",
            "gridcolor": "white",
            "gridwidth": 2,
            "linecolor": "white",
            "showbackground": true,
            "ticks": "",
            "zerolinecolor": "white"
           },
           "zaxis": {
            "backgroundcolor": "#E5ECF6",
            "gridcolor": "white",
            "gridwidth": 2,
            "linecolor": "white",
            "showbackground": true,
            "ticks": "",
            "zerolinecolor": "white"
           }
          },
          "shapedefaults": {
           "line": {
            "color": "#2a3f5f"
           }
          },
          "ternary": {
           "aaxis": {
            "gridcolor": "white",
            "linecolor": "white",
            "ticks": ""
           },
           "baxis": {
            "gridcolor": "white",
            "linecolor": "white",
            "ticks": ""
           },
           "bgcolor": "#E5ECF6",
           "caxis": {
            "gridcolor": "white",
            "linecolor": "white",
            "ticks": ""
           }
          },
          "title": {
           "x": 0.05
          },
          "xaxis": {
           "automargin": true,
           "gridcolor": "white",
           "linecolor": "white",
           "ticks": "",
           "title": {
            "standoff": 15
           },
           "zerolinecolor": "white",
           "zerolinewidth": 2
          },
          "yaxis": {
           "automargin": true,
           "gridcolor": "white",
           "linecolor": "white",
           "ticks": "",
           "title": {
            "standoff": 15
           },
           "zerolinecolor": "white",
           "zerolinewidth": 2
          }
         }
        },
        "title": {
         "text": "Feature Sparsity Distributions"
        },
        "width": 800,
        "xaxis": {
         "range": [
          -6.5,
          0
         ],
         "title": {
          "text": "Log Sparsity"
         },
         "type": "linear"
        },
        "yaxis": {
         "autorange": true,
         "range": [
          -62.77777777777778,
          1192.7777777777778
         ],
         "title": {
          "text": "Frequency"
         },
         "type": "linear"
        }
       }
      },
      "image/png": "[encoded data removed]",
      "text/html": [
       "<div>                            <div id=\"353e1f4e-fb42-4506-b730-5228e1cdf170\" class=\"plotly-graph-div\" style=\"height:600px; width:800px;\"></div>            <script type=\"text/javascript\">                require([\"plotly\"], function(Plotly) {                    window.PLOTLYENV=window.PLOTLYENV || {};                                    if (document.getElementById(\"353e1f4e-fb42-4506-b730-5228e1cdf170\")) {                    Plotly.newPlot(                        \"353e1f4e-fb42-4506-b730-5228e1cdf170\",                        [{\"mode\":\"lines\",\"name\":\"OpenWebText\",\"x\":[-6.0,-6.0,-5.95,-5.95,-5.9,-5.9,-5.8500000000000005,-5.8500000000000005,-5.800000000000001,-5.800000000000001,-5.750000000000001,-5.750000000000001,-5.700000000000001,-5.700000000000001,-5.650000000000001,-5.650000000000001,-5.600000000000001,-5.600000000000001,-5.550000000000002,-5.550000000000002,-5.500000000000002,-5.500000000000002,-5.450000000000002,-5.450000000000002,-5.400000000000002,-5.400000000000002,-5.350000000000002,-5.350000000000002,-5.3000000000000025,-5.3000000000000025,-5.250000000000003,-5.250000000000003,-5.200000000000003,-5.200000000000003,-5.150000000000003,-5.150000000000003,-5.100000000000003,-5.100000000000003,-5.050000000000003,-5.050000000000003,-5.0000000000000036,-5.0000000000000036,-4.950000000000004,-4.950000000000004,-4.900000000000004,-4.900000000000004,-4.850000000000004,-4.850000000000004,-4.800000000000004,-4.800000000000004,-4.750000000000004,-4.750000000000004,-4.700000000000005,-4.700000000000005,-4.650000000000005,-4.650000000000005,-4.600000000000005,-4.600000000000005,-4.550000000000005,-4.550000000000005,-4.500000000000005,-4.500000000000005,-4.4500000000000055,-4.4500000000000055,-4.400000000000006,-4.400000000000006,-4.350000000000006,-4.350000000000006,-4.300000000000006,-4.300000000000006,-4.250000000000006,-4.250000000000006,-4.200000000000006,-4.200000000000006,-4.150000000000007,-4.150000000000007,-4.100000000000007,-4.100000000000007,-4.050000000000007,-4.050000000000007,-4.000000000000007,-4.000000000000007,-3.9500000000000073,-3.9500000000000073,-3.9000000000000075,-3.9000000000000075,-3.8500000000000076,-3.8500000000000076,-3.800000000000008,-3.800000000000008,-3.750000000000008,-3.750000000000008,-3.700000000000008,-3.700000000000008,-3.6500000000000083,-3.6500000000000083,-3.6000000000000085,-3.6000000000000085,-3.5500000000000087,-3.5500000000000087,-3.500000000000009,-3.500000000000009,-3.450000000000009,-3.450000000000009,-3.4000000000000092,-3.4000000000000092,-3.3500000000000094,-3.3500000000000094,-3.3000000000000096,-3.3000000000000096,-3.2500000000000098,-3.2500000000000098,-3.20000000000001,-3.20000000000001,-3.15000000000001,-3.15000000000001,-3.1000000000000103,-3.1000000000000103,-3.0500000000000105,-3.0500000000000105,-3.0000000000000107,-3.0000000000000107,-2.950000000000011,-2.950000000000011,-2.900000000000011,-2.900000000000011,-2.850000000000011,-2.850000000000011,-2.8000000000000114,-2.8000000000000114,-2.7500000000000115,-2.7500000000000115,-2.7000000000000117,-2.7000000000000117,-2.650000000000012,-2.650000000000012,-2.600000000000012,-2.600000000000012,-2.5500000000000123,-2.5500000000000123,-2.5000000000000124,-2.5000000000000124,-2.4500000000000126,-2.4500000000000126,-2.400000000000013,-2.400000000000013,-2.350000000000013,-2.350000000000013,-2.300000000000013,-2.300000000000013,-2.2500000000000133,-2.2500000000000133,-2.2000000000000135,-2.2000000000000135,-2.1500000000000137,-2.1500000000000137,-2.100000000000014,-2.100000000000014,-2.050000000000014,-2.050000000000014,-2.000000000000014,-2.000000000000014,-1.9500000000000144,-1.9500000000000144,-1.9000000000000146,-1.9000000000000146,-1.8500000000000147,-1.8500000000000147,-1.800000000000015,-1.800000000000015,-1.750000000000015,-1.750000000000015,-1.7000000000000153,-1.7000000000000153,-1.6500000000000155,-1.6500000000000155,-1.6000000000000156,-1.6000000000000156,-1.5500000000000158,-1.5500000000000158,-1.500000000000016,-1.500000000000016,-1.4500000000000162,-1.4500000000000162,-1.4000000000000163,-1.4000000000000163,-1.3500000000000165,-1.3500000000000165,-1.3000000000000167,-1.3000000000000167,-1.2500000000000169,-1.2500000000000169,-1.200000000000017,-1.200000000000017,-1.1500000000000172,-1.1500000000000172,-1.1000000000000174,-1.1000000000000174,-1.0500000000000176,-1.0500000000000176,-1.0000000000000178,-1.0000000000000178,-0.9500000000000179,-0.9500000000000179,-0.9000000000000181,-0.9000000000000181,-0.8500000000000183,-0.8500000000000183,-0.8000000000000185,-0.8000000000000185,-0.7500000000000187,-0.7500000000000187,-0.7000000000000188,-0.7000000000000188,-0.650000000000019,-0.650000000000019,-0.6000000000000192,-0.6000000000000192,-0.5500000000000194,-0.5500000000000194,-0.5000000000000195,-0.5000000000000195,-0.4500000000000197,-0.4500000000000197,-0.4000000000000199,-0.4000000000000199,-0.3500000000000201,-0.3500000000000201,-0.30000000000002025,-0.30000000000002025,-0.25000000000002043,-0.25000000000002043,-0.2000000000000206,-0.2000000000000206,-0.15000000000002078,-0.15000000000002078,-0.10000000000002096,-0.10000000000002096,-0.05000000000002114,-0.05000000000002114],\"y\":[0,0,0,0,0,0,0,0,0,0,0,0,0,0,0,78,78,0,0,0,0,0,0,0,0,0,0,115,115,0,0,0,0,0,0,163,163,0,0,185,185,0,0,215,215,0,0,263,263,279,279,234,234,259,259,240,240,276,276,247,247,469,469,474,474,436,436,360,360,510,510,305,305,389,389,531,531,423,423,370,370,457,457,470,470,379,379,421,421,395,395,412,412,357,357,367,367,402,402,361,361,319,319,370,370,359,359,355,355,381,381,351,351,366,366,367,367,352,352,396,396,363,363,368,368,401,401,345,345,373,373,343,343,320,320,335,335,331,331,361,361,278,278,298,298,293,293,243,243,201,201,201,201,166,166,145,145,138,138,75,75,80,80,70,70,48,48,37,37,33,33,21,21,12,12,12,12,10,10,15,15,4,4,9,9,2,2,1,1,1,1,2,2,3,3,1,1,1,1,3,3,1,1,0,0,2,2,1,1,0,0,0,0,0,0,0,0,0,0,0,0,0,0,0,0,0,0,0,0,0,0,0,0,0,0,0,0,0,0,0],\"type\":\"scatter\"},{\"mode\":\"lines\",\"name\":\"Harry Potter\",\"x\":[-6.0,-6.0,-5.95,-5.95,-5.9,-5.9,-5.8500000000000005,-5.8500000000000005,-5.800000000000001,-5.800000000000001,-5.750000000000001,-5.750000000000001,-5.700000000000001,-5.700000000000001,-5.650000000000001,-5.650000000000001,-5.600000000000001,-5.600000000000001,-5.550000000000002,-5.550000000000002,-5.500000000000002,-5.500000000000002,-5.450000000000002,-5.450000000000002,-5.400000000000002,-5.400000000000002,-5.350000000000002,-5.350000000000002,-5.3000000000000025,-5.3000000000000025,-5.250000000000003,-5.250000000000003,-5.200000000000003,-5.200000000000003,-5.150000000000003,-5.150000000000003,-5.100000000000003,-5.100000000000003,-5.050000000000003,-5.050000000000003,-5.0000000000000036,-5.0000000000000036,-4.950000000000004,-4.950000000000004,-4.900000000000004,-4.900000000000004,-4.850000000000004,-4.850000000000004,-4.800000000000004,-4.800000000000004,-4.750000000000004,-4.750000000000004,-4.700000000000005,-4.700000000000005,-4.650000000000005,-4.650000000000005,-4.600000000000005,-4.600000000000005,-4.550000000000005,-4.550000000000005,-4.500000000000005,-4.500000000000005,-4.4500000000000055,-4.4500000000000055,-4.400000000000006,-4.400000000000006,-4.350000000000006,-4.350000000000006,-4.300000000000006,-4.300000000000006,-4.250000000000006,-4.250000000000006,-4.200000000000006,-4.200000000000006,-4.150000000000007,-4.150000000000007,-4.100000000000007,-4.100000000000007,-4.050000000000007,-4.050000000000007,-4.000000000000007,-4.000000000000007,-3.9500000000000073,-3.9500000000000073,-3.9000000000000075,-3.9000000000000075,-3.8500000000000076,-3.8500000000000076,-3.800000000000008,-3.800000000000008,-3.750000000000008,-3.750000000000008,-3.700000000000008,-3.700000000000008,-3.6500000000000083,-3.6500000000000083,-3.6000000000000085,-3.6000000000000085,-3.5500000000000087,-3.5500000000000087,-3.500000000000009,-3.500000000000009,-3.450000000000009,-3.450000000000009,-3.4000000000000092,-3.4000000000000092,-3.3500000000000094,-3.3500000000000094,-3.3000000000000096,-3.3000000000000096,-3.2500000000000098,-3.2500000000000098,-3.20000000000001,-3.20000000000001,-3.15000000000001,-3.15000000000001,-3.1000000000000103,-3.1000000000000103,-3.0500000000000105,-3.0500000000000105,-3.0000000000000107,-3.0000000000000107,-2.950000000000011,-2.950000000000011,-2.900000000000011,-2.900000000000011,-2.850000000000011,-2.850000000000011,-2.8000000000000114,-2.8000000000000114,-2.7500000000000115,-2.7500000000000115,-2.7000000000000117,-2.7000000000000117,-2.650000000000012,-2.650000000000012,-2.600000000000012,-2.600000000000012,-2.5500000000000123,-2.5500000000000123,-2.5000000000000124,-2.5000000000000124,-2.4500000000000126,-2.4500000000000126,-2.400000000000013,-2.400000000000013,-2.350000000000013,-2.350000000000013,-2.300000000000013,-2.300000000000013,-2.2500000000000133,-2.2500000000000133,-2.2000000000000135,-2.2000000000000135,-2.1500000000000137,-2.1500000000000137,-2.100000000000014,-2.100000000000014,-2.050000000000014,-2.050000000000014,-2.000000000000014,-2.000000000000014,-1.9500000000000144,-1.9500000000000144,-1.9000000000000146,-1.9000000000000146,-1.8500000000000147,-1.8500000000000147,-1.800000000000015,-1.800000000000015,-1.750000000000015,-1.750000000000015,-1.7000000000000153,-1.7000000000000153,-1.6500000000000155,-1.6500000000000155,-1.6000000000000156,-1.6000000000000156,-1.5500000000000158,-1.5500000000000158,-1.500000000000016,-1.500000000000016,-1.4500000000000162,-1.4500000000000162,-1.4000000000000163,-1.4000000000000163,-1.3500000000000165,-1.3500000000000165,-1.3000000000000167,-1.3000000000000167,-1.2500000000000169,-1.2500000000000169,-1.200000000000017,-1.200000000000017,-1.1500000000000172,-1.1500000000000172,-1.1000000000000174,-1.1000000000000174,-1.0500000000000176,-1.0500000000000176,-1.0000000000000178,-1.0000000000000178,-0.9500000000000179,-0.9500000000000179,-0.9000000000000181,-0.9000000000000181,-0.8500000000000183,-0.8500000000000183,-0.8000000000000185,-0.8000000000000185,-0.7500000000000187,-0.7500000000000187,-0.7000000000000188,-0.7000000000000188,-0.650000000000019,-0.650000000000019,-0.6000000000000192,-0.6000000000000192,-0.5500000000000194,-0.5500000000000194,-0.5000000000000195,-0.5000000000000195,-0.4500000000000197,-0.4500000000000197,-0.4000000000000199,-0.4000000000000199,-0.3500000000000201,-0.3500000000000201,-0.30000000000002025,-0.30000000000002025,-0.25000000000002043,-0.25000000000002043,-0.2000000000000206,-0.2000000000000206,-0.15000000000002078,-0.15000000000002078,-0.10000000000002096,-0.10000000000002096,-0.05000000000002114,-0.05000000000002114],\"y\":[0,0,0,0,0,0,0,0,0,0,0,0,0,0,0,1130,1130,0,0,0,0,0,0,0,0,0,0,657,657,0,0,0,0,0,0,516,516,0,0,391,391,0,0,339,339,0,0,312,312,252,252,241,241,199,199,174,174,191,191,159,159,288,288,277,277,220,220,210,210,270,270,187,187,227,227,271,271,260,260,281,281,266,266,299,299,248,248,269,269,268,268,273,273,266,266,254,254,256,256,257,257,254,254,294,294,254,254,262,262,253,253,257,257,242,242,246,246,241,241,264,264,203,203,227,227,228,228,242,242,199,199,196,196,199,199,190,190,183,183,188,188,172,172,144,144,138,138,137,137,101,101,112,112,92,92,94,94,90,90,76,76,67,67,57,57,59,59,57,57,37,37,42,42,29,29,26,26,22,22,14,14,20,20,16,16,13,13,9,9,11,11,10,10,12,12,5,5,5,5,2,2,2,2,2,2,3,3,1,1,3,3,2,2,0,0,0,0,2,2,0,0,1,1,1,1,0,0,0,0,1,1,0,0,0,0,1,1,0,0,0],\"type\":\"scatter\"}],                        {\"template\":{\"data\":{\"histogram2dcontour\":[{\"type\":\"histogram2dcontour\",\"colorbar\":{\"outlinewidth\":0,\"ticks\":\"\"},\"colorscale\":[[0.0,\"#0d0887\"],[0.1111111111111111,\"#46039f\"],[0.2222222222222222,\"#7201a8\"],[0.3333333333333333,\"#9c179e\"],[0.4444444444444444,\"#bd3786\"],[0.5555555555555556,\"#d8576b\"],[0.6666666666666666,\"#ed7953\"],[0.7777777777777778,\"#fb9f3a\"],[0.8888888888888888,\"#fdca26\"],[1.0,\"#f0f921\"]]}],\"choropleth\":[{\"type\":\"choropleth\",\"colorbar\":{\"outlinewidth\":0,\"ticks\":\"\"}}],\"histogram2d\":[{\"type\":\"histogram2d\",\"colorbar\":{\"outlinewidth\":0,\"ticks\":\"\"},\"colorscale\":[[0.0,\"#0d0887\"],[0.1111111111111111,\"#46039f\"],[0.2222222222222222,\"#7201a8\"],[0.3333333333333333,\"#9c179e\"],[0.4444444444444444,\"#bd3786\"],[0.5555555555555556,\"#d8576b\"],[0.6666666666666666,\"#ed7953\"],[0.7777777777777778,\"#fb9f3a\"],[0.8888888888888888,\"#fdca26\"],[1.0,\"#f0f921\"]]}],\"heatmap\":[{\"type\":\"heatmap\",\"colorbar\":{\"outlinewidth\":0,\"ticks\":\"\"},\"colorscale\":[[0.0,\"#0d0887\"],[0.1111111111111111,\"#46039f\"],[0.2222222222222222,\"#7201a8\"],[0.3333333333333333,\"#9c179e\"],[0.4444444444444444,\"#bd3786\"],[0.5555555555555556,\"#d8576b\"],[0.6666666666666666,\"#ed7953\"],[0.7777777777777778,\"#fb9f3a\"],[0.8888888888888888,\"#fdca26\"],[1.0,\"#f0f921\"]]}],\"heatmapgl\":[{\"type\":\"heatmapgl\",\"colorbar\":{\"outlinewidth\":0,\"ticks\":\"\"},\"colorscale\":[[0.0,\"#0d0887\"],[0.1111111111111111,\"#46039f\"],[0.2222222222222222,\"#7201a8\"],[0.3333333333333333,\"#9c179e\"],[0.4444444444444444,\"#bd3786\"],[0.5555555555555556,\"#d8576b\"],[0.6666666666666666,\"#ed7953\"],[0.7777777777777778,\"#fb9f3a\"],[0.8888888888888888,\"#fdca26\"],[1.0,\"#f0f921\"]]}],\"contourcarpet\":[{\"type\":\"contourcarpet\",\"colorbar\":{\"outlinewidth\":0,\"ticks\":\"\"}}],\"contour\":[{\"type\":\"contour\",\"colorbar\":{\"outlinewidth\":0,\"ticks\":\"\"},\"colorscale\":[[0.0,\"#0d0887\"],[0.1111111111111111,\"#46039f\"],[0.2222222222222222,\"#7201a8\"],[0.3333333333333333,\"#9c179e\"],[0.4444444444444444,\"#bd3786\"],[0.5555555555555556,\"#d8576b\"],[0.6666666666666666,\"#ed7953\"],[0.7777777777777778,\"#fb9f3a\"],[0.8888888888888888,\"#fdca26\"],[1.0,\"#f0f921\"]]}],\"surface\":[{\"type\":\"surface\",\"colorbar\":{\"outlinewidth\":0,\"ticks\":\"\"},\"colorscale\":[[0.0,\"#0d0887\"],[0.1111111111111111,\"#46039f\"],[0.2222222222222222,\"#7201a8\"],[0.3333333333333333,\"#9c179e\"],[0.4444444444444444,\"#bd3786\"],[0.5555555555555556,\"#d8576b\"],[0.6666666666666666,\"#ed7953\"],[0.7777777777777778,\"#fb9f3a\"],[0.8888888888888888,\"#fdca26\"],[1.0,\"#f0f921\"]]}],\"mesh3d\":[{\"type\":\"mesh3d\",\"colorbar\":{\"outlinewidth\":0,\"ticks\":\"\"}}],\"scatter\":[{\"fillpattern\":{\"fillmode\":\"overlay\",\"size\":10,\"solidity\":0.2},\"type\":\"scatter\"}],\"parcoords\":[{\"type\":\"parcoords\",\"line\":{\"colorbar\":{\"outlinewidth\":0,\"ticks\":\"\"}}}],\"scatterpolargl\":[{\"type\":\"scatterpolargl\",\"marker\":{\"colorbar\":{\"outlinewidth\":0,\"ticks\":\"\"}}}],\"bar\":[{\"error_x\":{\"color\":\"#2a3f5f\"},\"error_y\":{\"color\":\"#2a3f5f\"},\"marker\":{\"line\":{\"color\":\"#E5ECF6\",\"width\":0.5},\"pattern\":{\"fillmode\":\"overlay\",\"size\":10,\"solidity\":0.2}},\"type\":\"bar\"}],\"scattergeo\":[{\"type\":\"scattergeo\",\"marker\":{\"colorbar\":{\"outlinewidth\":0,\"ticks\":\"\"}}}],\"scatterpolar\":[{\"type\":\"scatterpolar\",\"marker\":{\"colorbar\":{\"outlinewidth\":0,\"ticks\":\"\"}}}],\"histogram\":[{\"marker\":{\"pattern\":{\"fillmode\":\"overlay\",\"size\":10,\"solidity\":0.2}},\"type\":\"histogram\"}],\"scattergl\":[{\"type\":\"scattergl\",\"marker\":{\"colorbar\":{\"outlinewidth\":0,\"ticks\":\"\"}}}],\"scatter3d\":[{\"type\":\"scatter3d\",\"line\":{\"colorbar\":{\"outlinewidth\":0,\"ticks\":\"\"}},\"marker\":{\"colorbar\":{\"outlinewidth\":0,\"ticks\":\"\"}}}],\"scattermapbox\":[{\"type\":\"scattermapbox\",\"marker\":{\"colorbar\":{\"outlinewidth\":0,\"ticks\":\"\"}}}],\"scatterternary\":[{\"type\":\"scatterternary\",\"marker\":{\"colorbar\":{\"outlinewidth\":0,\"ticks\":\"\"}}}],\"scattercarpet\":[{\"type\":\"scattercarpet\",\"marker\":{\"colorbar\":{\"outlinewidth\":0,\"ticks\":\"\"}}}],\"carpet\":[{\"aaxis\":{\"endlinecolor\":\"#2a3f5f\",\"gridcolor\":\"white\",\"linecolor\":\"white\",\"minorgridcolor\":\"white\",\"startlinecolor\":\"#2a3f5f\"},\"baxis\":{\"endlinecolor\":\"#2a3f5f\",\"gridcolor\":\"white\",\"linecolor\":\"white\",\"minorgridcolor\":\"white\",\"startlinecolor\":\"#2a3f5f\"},\"type\":\"carpet\"}],\"table\":[{\"cells\":{\"fill\":{\"color\":\"#EBF0F8\"},\"line\":{\"color\":\"white\"}},\"header\":{\"fill\":{\"color\":\"#C8D4E3\"},\"line\":{\"color\":\"white\"}},\"type\":\"table\"}],\"barpolar\":[{\"marker\":{\"line\":{\"color\":\"#E5ECF6\",\"width\":0.5},\"pattern\":{\"fillmode\":\"overlay\",\"size\":10,\"solidity\":0.2}},\"type\":\"barpolar\"}],\"pie\":[{\"automargin\":true,\"type\":\"pie\"}]},\"layout\":{\"autotypenumbers\":\"strict\",\"colorway\":[\"#636efa\",\"#EF553B\",\"#00cc96\",\"#ab63fa\",\"#FFA15A\",\"#19d3f3\",\"#FF6692\",\"#B6E880\",\"#FF97FF\",\"#FECB52\"],\"font\":{\"color\":\"#2a3f5f\"},\"hovermode\":\"closest\",\"hoverlabel\":{\"align\":\"left\"},\"paper_bgcolor\":\"white\",\"plot_bgcolor\":\"#E5ECF6\",\"polar\":{\"bgcolor\":\"#E5ECF6\",\"angularaxis\":{\"gridcolor\":\"white\",\"linecolor\":\"white\",\"ticks\":\"\"},\"radialaxis\":{\"gridcolor\":\"white\",\"linecolor\":\"white\",\"ticks\":\"\"}},\"ternary\":{\"bgcolor\":\"#E5ECF6\",\"aaxis\":{\"gridcolor\":\"white\",\"linecolor\":\"white\",\"ticks\":\"\"},\"baxis\":{\"gridcolor\":\"white\",\"linecolor\":\"white\",\"ticks\":\"\"},\"caxis\":{\"gridcolor\":\"white\",\"linecolor\":\"white\",\"ticks\":\"\"}},\"coloraxis\":{\"colorbar\":{\"outlinewidth\":0,\"ticks\":\"\"}},\"colorscale\":{\"sequential\":[[0.0,\"#0d0887\"],[0.1111111111111111,\"#46039f\"],[0.2222222222222222,\"#7201a8\"],[0.3333333333333333,\"#9c179e\"],[0.4444444444444444,\"#bd3786\"],[0.5555555555555556,\"#d8576b\"],[0.6666666666666666,\"#ed7953\"],[0.7777777777777778,\"#fb9f3a\"],[0.8888888888888888,\"#fdca26\"],[1.0,\"#f0f921\"]],\"sequentialminus\":[[0.0,\"#0d0887\"],[0.1111111111111111,\"#46039f\"],[0.2222222222222222,\"#7201a8\"],[0.3333333333333333,\"#9c179e\"],[0.4444444444444444,\"#bd3786\"],[0.5555555555555556,\"#d8576b\"],[0.6666666666666666,\"#ed7953\"],[0.7777777777777778,\"#fb9f3a\"],[0.8888888888888888,\"#fdca26\"],[1.0,\"#f0f921\"]],\"diverging\":[[0,\"#8e0152\"],[0.1,\"#c51b7d\"],[0.2,\"#de77ae\"],[0.3,\"#f1b6da\"],[0.4,\"#fde0ef\"],[0.5,\"#f7f7f7\"],[0.6,\"#e6f5d0\"],[0.7,\"#b8e186\"],[0.8,\"#7fbc41\"],[0.9,\"#4d9221\"],[1,\"#276419\"]]},\"xaxis\":{\"gridcolor\":\"white\",\"linecolor\":\"white\",\"ticks\":\"\",\"title\":{\"standoff\":15},\"zerolinecolor\":\"white\",\"automargin\":true,\"zerolinewidth\":2},\"yaxis\":{\"gridcolor\":\"white\",\"linecolor\":\"white\",\"ticks\":\"\",\"title\":{\"standoff\":15},\"zerolinecolor\":\"white\",\"automargin\":true,\"zerolinewidth\":2},\"scene\":{\"xaxis\":{\"backgroundcolor\":\"#E5ECF6\",\"gridcolor\":\"white\",\"linecolor\":\"white\",\"showbackground\":true,\"ticks\":\"\",\"zerolinecolor\":\"white\",\"gridwidth\":2},\"yaxis\":{\"backgroundcolor\":\"#E5ECF6\",\"gridcolor\":\"white\",\"linecolor\":\"white\",\"showbackground\":true,\"ticks\":\"\",\"zerolinecolor\":\"white\",\"gridwidth\":2},\"zaxis\":{\"backgroundcolor\":\"#E5ECF6\",\"gridcolor\":\"white\",\"linecolor\":\"white\",\"showbackground\":true,\"ticks\":\"\",\"zerolinecolor\":\"white\",\"gridwidth\":2}},\"shapedefaults\":{\"line\":{\"color\":\"#2a3f5f\"}},\"annotationdefaults\":{\"arrowcolor\":\"#2a3f5f\",\"arrowhead\":0,\"arrowwidth\":1},\"geo\":{\"bgcolor\":\"white\",\"landcolor\":\"#E5ECF6\",\"subunitcolor\":\"white\",\"showland\":true,\"showlakes\":true,\"lakecolor\":\"white\"},\"title\":{\"x\":0.05},\"mapbox\":{\"style\":\"light\"}}},\"xaxis\":{\"title\":{\"text\":\"Log Sparsity\"},\"range\":[-6.5,0]},\"title\":{\"text\":\"Feature Sparsity Distributions\"},\"yaxis\":{\"title\":{\"text\":\"Frequency\"}},\"showlegend\":true,\"height\":600,\"width\":800},                        {\"responsive\": true}                    ).then(function(){\n",
       "                            \n",
       "var gd = document.getElementById('353e1f4e-fb42-4506-b730-5228e1cdf170');\n",
       "var x = new MutationObserver(function (mutations, observer) {{\n",
       "        var display = window.getComputedStyle(gd).display;\n",
       "        if (!display || display === 'none') {{\n",
       "            console.log([gd, 'removed!']);\n",
       "            Plotly.purge(gd);\n",
       "            observer.disconnect();\n",
       "        }}\n",
       "}});\n",
       "\n",
       "// Listen for the removal of the full notebook cells\n",
       "var notebookContainer = gd.closest('#notebook-container');\n",
       "if (notebookContainer) {{\n",
       "    x.observe(notebookContainer, {childList: true});\n",
       "}}\n",
       "\n",
       "// Listen for the clearing of the current output cell\n",
       "var outputEl = gd.closest('.output');\n",
       "if (outputEl) {{\n",
       "    x.observe(outputEl, {childList: true});\n",
       "}}\n",
       "\n",
       "                        })                };                });            </script>        </div>"
      ]
     },
     "metadata": {},
     "output_type": "display_data"
    }
   ],
   "source": [
    "fig = go.Figure()\n",
    "\n",
    "\n",
    "bins = np.arange(-6, 0, 0.05)\n",
    "\n",
    "xvals, yvals = create_lineplot_histogram(metrics['sparsity'].log10().cpu().numpy(), bins=bins)\n",
    "trace = go.Scatter(x=xvals, y=yvals, mode='lines', name=\"OpenWebText\")\n",
    "fig.add_trace(trace)\n",
    "\n",
    "xvals, yvals = create_lineplot_histogram(metrics_subset['sparsity'].log10().cpu().numpy(), bins=bins)\n",
    "trace = go.Scatter(x=xvals, y=yvals, mode='lines', name=\"Harry Potter\")\n",
    "fig.add_trace(trace)\n",
    "\n",
    "\n",
    "\n",
    "# Add layout settings\n",
    "fig.update_layout(\n",
    "    title=\"Feature Sparsity Distributions\",\n",
    "    xaxis_title=\"Log Sparsity\",\n",
    "    yaxis_title=\"Frequency\",\n",
    "    # xaxis_type=\"log\",\n",
    "    # yaxis_type=\"log\",\n",
    "    xaxis_range=[-6.5, 0],\n",
    "    showlegend=True,\n",
    "    height=600,  # Specify the height of the figure\n",
    "    width=800,  # Specify the width of the figure\n",
    ")\n",
    "\n",
    "fig.show()"
   ]
  },
  {
   "cell_type": "code",
   "execution_count": 120,
   "id": "4c997e65-34e6-4c14-a15a-0bd31fe907ea",
   "metadata": {},
   "outputs": [],
   "source": [
    "keep_vals = torch.logical_and(metrics['sparsity'] > 3e-5, metrics_subset['sparsity'] > 3e-5)"
   ]
  },
  {
   "cell_type": "code",
   "execution_count": 121,
   "id": "dc375ec6-ae89-4aa3-9ce7-c3332cb82f2e",
   "metadata": {},
   "outputs": [],
   "source": [
    "original_sparsity = metrics['sparsity'][keep_vals]\n",
    "hp_sparsity = metrics_subset['sparsity'][keep_vals]"
   ]
  },
  {
   "cell_type": "code",
   "execution_count": 122,
   "id": "806171af-4688-484a-8f81-65be31b63987",
   "metadata": {},
   "outputs": [],
   "source": [
    "ratio = hp_sparsity/original_sparsity\n",
    "vals, inds = ratio.sort(descending=True)"
   ]
  },
  {
   "cell_type": "code",
   "execution_count": 124,
   "id": "f921641c-e464-41ed-8cab-b8694667815d",
   "metadata": {},
   "outputs": [
    {
     "data": {
      "text/plain": [
       "(tensor([764.1667, 759.0372, 422.7647, 263.6508, 225.1000, 188.6154, 185.4566,\n",
       "         141.4727, 127.0746, 117.7857], device='cuda:0'),\n",
       " tensor([ 4644,  4538, 10111,  9887,  6780,  2328,  3526,  8619,  9833,  9070],\n",
       "        device='cuda:0'))"
      ]
     },
     "execution_count": 124,
     "metadata": {},
     "output_type": "execute_result"
    }
   ],
   "source": [
    "vals[:10], inds[:10]"
   ]
  },
  {
   "cell_type": "code",
   "execution_count": 126,
   "id": "fd9789b2-e836-4393-bb76-9221f1e20628",
   "metadata": {},
   "outputs": [
    {
     "data": {
      "text/plain": [
       "tensor([5.8594e-05, 9.8389e-04, 4.1504e-05, 1.5381e-04, 4.8828e-05, 3.1738e-05,\n",
       "        9.8389e-04, 1.3428e-04, 1.6357e-04, 3.4180e-05], device='cuda:0')"
      ]
     },
     "execution_count": 126,
     "metadata": {},
     "output_type": "execute_result"
    }
   ],
   "source": [
    "original_sparsity[inds[:10]]"
   ]
  },
  {
   "cell_type": "code",
   "execution_count": 24,
   "id": "7745aa69-6caa-4339-abd6-968baea5c0bf",
   "metadata": {},
   "outputs": [
    {
     "name": "stdout",
     "output_type": "stream",
     "text": [
      "Concatenating learned activations\n"
     ]
    },
    {
     "ename": "OutOfMemoryError",
     "evalue": "CUDA out of memory. Tried to allocate 12.50 GiB. GPU ",
     "output_type": "error",
     "traceback": [
      "\u001b[0;31m---------------------------------------------------------------------------\u001b[0m",
      "\u001b[0;31mOutOfMemoryError\u001b[0m                          Traceback (most recent call last)",
      "Cell \u001b[0;32mIn[24], line 1\u001b[0m\n\u001b[0;32m----> 1\u001b[0m metrics_with_text \u001b[38;5;241m=\u001b[39m \u001b[43mcompute_metrics_post\u001b[49m\u001b[43m(\u001b[49m\u001b[43msae\u001b[49m\u001b[43m,\u001b[49m\n\u001b[1;32m      2\u001b[0m \u001b[43m                               \u001b[49m\u001b[43mactivation_store\u001b[49m\u001b[43m,\u001b[49m\n\u001b[1;32m      3\u001b[0m \u001b[43m                               \u001b[49m\u001b[43mmodel\u001b[49m\u001b[43m,\u001b[49m\n\u001b[1;32m      4\u001b[0m \u001b[43m                               \u001b[49m\u001b[43msave_learned_activations\u001b[49m\u001b[38;5;241;43m=\u001b[39;49m\u001b[38;5;28;43;01mTrue\u001b[39;49;00m\u001b[43m,\u001b[49m\n\u001b[1;32m      5\u001b[0m \u001b[43m                               \u001b[49m\u001b[43mn_batches\u001b[49m\u001b[38;5;241;43m=\u001b[39;49m\u001b[38;5;241;43m40\u001b[39;49m\u001b[43m,\u001b[49m\n\u001b[1;32m      6\u001b[0m \u001b[43m                               \u001b[49m\u001b[43mlen_prefix\u001b[49m\u001b[38;5;241;43m=\u001b[39;49m\u001b[38;5;241;43m5\u001b[39;49m\u001b[43m)\u001b[49m\n",
      "File \u001b[0;32m~/miniconda3/envs/arena-env/lib/python3.11/site-packages/torch/utils/_contextlib.py:115\u001b[0m, in \u001b[0;36mcontext_decorator.<locals>.decorate_context\u001b[0;34m(*args, **kwargs)\u001b[0m\n\u001b[1;32m    112\u001b[0m \u001b[38;5;129m@functools\u001b[39m\u001b[38;5;241m.\u001b[39mwraps(func)\n\u001b[1;32m    113\u001b[0m \u001b[38;5;28;01mdef\u001b[39;00m \u001b[38;5;21mdecorate_context\u001b[39m(\u001b[38;5;241m*\u001b[39margs, \u001b[38;5;241m*\u001b[39m\u001b[38;5;241m*\u001b[39mkwargs):\n\u001b[1;32m    114\u001b[0m     \u001b[38;5;28;01mwith\u001b[39;00m ctx_factory():\n\u001b[0;32m--> 115\u001b[0m         \u001b[38;5;28;01mreturn\u001b[39;00m \u001b[43mfunc\u001b[49m\u001b[43m(\u001b[49m\u001b[38;5;241;43m*\u001b[39;49m\u001b[43margs\u001b[49m\u001b[43m,\u001b[49m\u001b[43m \u001b[49m\u001b[38;5;241;43m*\u001b[39;49m\u001b[38;5;241;43m*\u001b[39;49m\u001b[43mkwargs\u001b[49m\u001b[43m)\u001b[49m\n",
      "File \u001b[0;32m/workspace/unlearning/sae_run_scripts/../sae/metrics.py:138\u001b[0m, in \u001b[0;36mcompute_metrics_post\u001b[0;34m(sae_function, activation_store, model, save_learned_activations, n_batches, len_prefix)\u001b[0m\n\u001b[1;32m    136\u001b[0m \u001b[38;5;28;01mif\u001b[39;00m save_learned_activations:\n\u001b[1;32m    137\u001b[0m     \u001b[38;5;28mprint\u001b[39m(\u001b[38;5;124m\"\u001b[39m\u001b[38;5;124mConcatenating learned activations\u001b[39m\u001b[38;5;124m\"\u001b[39m)\n\u001b[0;32m--> 138\u001b[0m     learned_activations \u001b[38;5;241m=\u001b[39m \u001b[43mtorch\u001b[49m\u001b[38;5;241;43m.\u001b[39;49m\u001b[43mcat\u001b[49m\u001b[43m(\u001b[49m\u001b[43mfeature_activations_list\u001b[49m\u001b[43m)\u001b[49m\n\u001b[1;32m    139\u001b[0m     \u001b[38;5;28mprint\u001b[39m(\u001b[38;5;124m\"\u001b[39m\u001b[38;5;124mDone\u001b[39m\u001b[38;5;124m\"\u001b[39m)\n\u001b[1;32m    140\u001b[0m \u001b[38;5;28;01melse\u001b[39;00m:\n",
      "\u001b[0;31mOutOfMemoryError\u001b[0m: CUDA out of memory. Tried to allocate 12.50 GiB. GPU "
     ]
    }
   ],
   "source": [
    "metrics_with_text = compute_metrics_post(sae,\n",
    "                               activation_store,\n",
    "                               model,\n",
    "                               save_learned_activations=True,\n",
    "                               n_batches=20,\n",
    "                               len_prefix=5)"
   ]
  },
  {
   "cell_type": "code",
   "execution_count": 19,
   "id": "28580ec6-0ef5-4017-b26f-edc465854dbc",
   "metadata": {},
   "outputs": [
    {
     "data": {
      "text/html": [
       "<style type=\"text/css\">\n",
       "#T_6778e_row0_col4, #T_6778e_row90_col5 {\n",
       "  background-color: #d9dce1;\n",
       "  color: #000000;\n",
       "}\n",
       "#T_6778e_row0_col5, #T_6778e_row29_col5, #T_6778e_row64_col5 {\n",
       "  background-color: #f5c0a7;\n",
       "  color: #000000;\n",
       "}\n",
       "#T_6778e_row0_col6, #T_6778e_row23_col5, #T_6778e_row28_col4 {\n",
       "  background-color: #b40426;\n",
       "  color: #f1f1f1;\n",
       "}\n",
       "#T_6778e_row1_col4, #T_6778e_row73_col5, #T_6778e_row89_col5 {\n",
       "  background-color: #b9d0f9;\n",
       "  color: #000000;\n",
       "}\n",
       "#T_6778e_row1_col5 {\n",
       "  background-color: #d24b40;\n",
       "  color: #f1f1f1;\n",
       "}\n",
       "#T_6778e_row1_col6, #T_6778e_row45_col4 {\n",
       "  background-color: #e16751;\n",
       "  color: #f1f1f1;\n",
       "}\n",
       "#T_6778e_row2_col4 {\n",
       "  background-color: #e2dad5;\n",
       "  color: #000000;\n",
       "}\n",
       "#T_6778e_row2_col5 {\n",
       "  background-color: #bbd1f8;\n",
       "  color: #000000;\n",
       "}\n",
       "#T_6778e_row2_col6, #T_6778e_row4_col5 {\n",
       "  background-color: #e26952;\n",
       "  color: #f1f1f1;\n",
       "}\n",
       "#T_6778e_row3_col4, #T_6778e_row16_col5, #T_6778e_row87_col5 {\n",
       "  background-color: #d95847;\n",
       "  color: #f1f1f1;\n",
       "}\n",
       "#T_6778e_row3_col5, #T_6778e_row82_col6, #T_6778e_row83_col6, #T_6778e_row84_col6, #T_6778e_row85_col6, #T_6778e_row86_col6 {\n",
       "  background-color: #3f53c6;\n",
       "  color: #f1f1f1;\n",
       "}\n",
       "#T_6778e_row3_col6, #T_6778e_row4_col6 {\n",
       "  background-color: #f08a6c;\n",
       "  color: #f1f1f1;\n",
       "}\n",
       "#T_6778e_row4_col4 {\n",
       "  background-color: #dfdbd9;\n",
       "  color: #000000;\n",
       "}\n",
       "#T_6778e_row5_col4, #T_6778e_row69_col5 {\n",
       "  background-color: #e4d9d2;\n",
       "  color: #000000;\n",
       "}\n",
       "#T_6778e_row5_col5, #T_6778e_row47_col5 {\n",
       "  background-color: #f18d6f;\n",
       "  color: #f1f1f1;\n",
       "}\n",
       "#T_6778e_row5_col6 {\n",
       "  background-color: #f7af91;\n",
       "  color: #000000;\n",
       "}\n",
       "#T_6778e_row6_col4, #T_6778e_row12_col6 {\n",
       "  background-color: #c9d7f0;\n",
       "  color: #000000;\n",
       "}\n",
       "#T_6778e_row6_col5 {\n",
       "  background-color: #8badfd;\n",
       "  color: #000000;\n",
       "}\n",
       "#T_6778e_row6_col6, #T_6778e_row8_col5, #T_6778e_row92_col5 {\n",
       "  background-color: #f7b497;\n",
       "  color: #000000;\n",
       "}\n",
       "#T_6778e_row7_col4, #T_6778e_row24_col5, #T_6778e_row87_col4 {\n",
       "  background-color: #779af7;\n",
       "  color: #f1f1f1;\n",
       "}\n",
       "#T_6778e_row7_col5, #T_6778e_row41_col5, #T_6778e_row97_col5 {\n",
       "  background-color: #aec9fc;\n",
       "  color: #000000;\n",
       "}\n",
       "#T_6778e_row7_col6, #T_6778e_row19_col4 {\n",
       "  background-color: #f4c6af;\n",
       "  color: #000000;\n",
       "}\n",
       "#T_6778e_row8_col4, #T_6778e_row39_col4 {\n",
       "  background-color: #e9785d;\n",
       "  color: #f1f1f1;\n",
       "}\n",
       "#T_6778e_row8_col6 {\n",
       "  background-color: #ead4c8;\n",
       "  color: #000000;\n",
       "}\n",
       "#T_6778e_row9_col4, #T_6778e_row31_col4 {\n",
       "  background-color: #bed2f6;\n",
       "  color: #000000;\n",
       "}\n",
       "#T_6778e_row9_col5, #T_6778e_row49_col5, #T_6778e_row95_col5 {\n",
       "  background-color: #f5a081;\n",
       "  color: #000000;\n",
       "}\n",
       "#T_6778e_row9_col6 {\n",
       "  background-color: #e3d9d3;\n",
       "  color: #000000;\n",
       "}\n",
       "#T_6778e_row10_col4 {\n",
       "  background-color: #d6dce4;\n",
       "  color: #000000;\n",
       "}\n",
       "#T_6778e_row10_col5 {\n",
       "  background-color: #de614d;\n",
       "  color: #f1f1f1;\n",
       "}\n",
       "#T_6778e_row10_col6, #T_6778e_row49_col4 {\n",
       "  background-color: #d4dbe6;\n",
       "  color: #000000;\n",
       "}\n",
       "#T_6778e_row11_col4, #T_6778e_row35_col4 {\n",
       "  background-color: #92b4fe;\n",
       "  color: #000000;\n",
       "}\n",
       "#T_6778e_row11_col5 {\n",
       "  background-color: #f3c7b1;\n",
       "  color: #000000;\n",
       "}\n",
       "#T_6778e_row11_col6 {\n",
       "  background-color: #d2dbe8;\n",
       "  color: #000000;\n",
       "}\n",
       "#T_6778e_row12_col4 {\n",
       "  background-color: #d5dbe5;\n",
       "  color: #000000;\n",
       "}\n",
       "#T_6778e_row12_col5, #T_6778e_row84_col5 {\n",
       "  background-color: #f7bca1;\n",
       "  color: #000000;\n",
       "}\n",
       "#T_6778e_row13_col4, #T_6778e_row65_col6 {\n",
       "  background-color: #4f69d9;\n",
       "  color: #f1f1f1;\n",
       "}\n",
       "#T_6778e_row13_col5 {\n",
       "  background-color: #96b7ff;\n",
       "  color: #000000;\n",
       "}\n",
       "#T_6778e_row13_col6 {\n",
       "  background-color: #c7d7f0;\n",
       "  color: #000000;\n",
       "}\n",
       "#T_6778e_row14_col4, #T_6778e_row31_col5, #T_6778e_row43_col6, #T_6778e_row44_col6, #T_6778e_row45_col6, #T_6778e_row78_col5 {\n",
       "  background-color: #6c8ff1;\n",
       "  color: #f1f1f1;\n",
       "}\n",
       "#T_6778e_row14_col5, #T_6778e_row56_col5 {\n",
       "  background-color: #c0d4f5;\n",
       "  color: #000000;\n",
       "}\n",
       "#T_6778e_row14_col6 {\n",
       "  background-color: #c6d6f1;\n",
       "  color: #000000;\n",
       "}\n",
       "#T_6778e_row15_col4 {\n",
       "  background-color: #dadce0;\n",
       "  color: #000000;\n",
       "}\n",
       "#T_6778e_row15_col5, #T_6778e_row44_col4, #T_6778e_row48_col5, #T_6778e_row57_col4, #T_6778e_row96_col4 {\n",
       "  background-color: #d75445;\n",
       "  color: #f1f1f1;\n",
       "}\n",
       "#T_6778e_row15_col6, #T_6778e_row16_col6 {\n",
       "  background-color: #bcd2f7;\n",
       "  color: #000000;\n",
       "}\n",
       "#T_6778e_row16_col4, #T_6778e_row62_col6, #T_6778e_row63_col6, #T_6778e_row79_col5 {\n",
       "  background-color: #536edd;\n",
       "  color: #f1f1f1;\n",
       "}\n",
       "#T_6778e_row17_col4, #T_6778e_row47_col4, #T_6778e_row69_col4 {\n",
       "  background-color: #f7a889;\n",
       "  color: #000000;\n",
       "}\n",
       "#T_6778e_row17_col5, #T_6778e_row19_col5 {\n",
       "  background-color: #e6d7cf;\n",
       "  color: #000000;\n",
       "}\n",
       "#T_6778e_row17_col6 {\n",
       "  background-color: #b6cefa;\n",
       "  color: #000000;\n",
       "}\n",
       "#T_6778e_row18_col4, #T_6778e_row61_col4 {\n",
       "  background-color: #bd1f2d;\n",
       "  color: #f1f1f1;\n",
       "}\n",
       "#T_6778e_row18_col5, #T_6778e_row40_col5, #T_6778e_row50_col5 {\n",
       "  background-color: #f7a98b;\n",
       "  color: #000000;\n",
       "}\n",
       "#T_6778e_row18_col6 {\n",
       "  background-color: #b5cdfa;\n",
       "  color: #000000;\n",
       "}\n",
       "#T_6778e_row19_col6, #T_6778e_row20_col6, #T_6778e_row21_col6 {\n",
       "  background-color: #b2ccfb;\n",
       "  color: #000000;\n",
       "}\n",
       "#T_6778e_row20_col4, #T_6778e_row72_col4, #T_6778e_row96_col5, #T_6778e_row99_col4 {\n",
       "  background-color: #f7b79b;\n",
       "  color: #000000;\n",
       "}\n",
       "#T_6778e_row20_col5, #T_6778e_row29_col4 {\n",
       "  background-color: #b1cbfc;\n",
       "  color: #000000;\n",
       "}\n",
       "#T_6778e_row21_col4, #T_6778e_row52_col5 {\n",
       "  background-color: #e0dbd8;\n",
       "  color: #000000;\n",
       "}\n",
       "#T_6778e_row21_col5, #T_6778e_row44_col5, #T_6778e_row60_col5, #T_6778e_row62_col5, #T_6778e_row65_col4 {\n",
       "  background-color: #f7b99e;\n",
       "  color: #000000;\n",
       "}\n",
       "#T_6778e_row22_col4, #T_6778e_row30_col4 {\n",
       "  background-color: #dddcdc;\n",
       "  color: #000000;\n",
       "}\n",
       "#T_6778e_row22_col5, #T_6778e_row38_col5 {\n",
       "  background-color: #f39475;\n",
       "  color: #000000;\n",
       "}\n",
       "#T_6778e_row22_col6 {\n",
       "  background-color: #afcafc;\n",
       "  color: #000000;\n",
       "}\n",
       "#T_6778e_row23_col4, #T_6778e_row26_col4, #T_6778e_row63_col4 {\n",
       "  background-color: #86a9fc;\n",
       "  color: #f1f1f1;\n",
       "}\n",
       "#T_6778e_row23_col6 {\n",
       "  background-color: #a7c5fe;\n",
       "  color: #000000;\n",
       "}\n",
       "#T_6778e_row24_col4 {\n",
       "  background-color: #eb7d62;\n",
       "  color: #f1f1f1;\n",
       "}\n",
       "#T_6778e_row24_col6 {\n",
       "  background-color: #a5c3fe;\n",
       "  color: #000000;\n",
       "}\n",
       "#T_6778e_row25_col4 {\n",
       "  background-color: #f2cab5;\n",
       "  color: #000000;\n",
       "}\n",
       "#T_6778e_row25_col5 {\n",
       "  background-color: #e0654f;\n",
       "  color: #f1f1f1;\n",
       "}\n",
       "#T_6778e_row25_col6, #T_6778e_row26_col6, #T_6778e_row33_col5, #T_6778e_row77_col4 {\n",
       "  background-color: #a3c2fe;\n",
       "  color: #000000;\n",
       "}\n",
       "#T_6778e_row26_col5, #T_6778e_row43_col5, #T_6778e_row71_col5 {\n",
       "  background-color: #eed0c0;\n",
       "  color: #000000;\n",
       "}\n",
       "#T_6778e_row27_col4 {\n",
       "  background-color: #cfdaea;\n",
       "  color: #000000;\n",
       "}\n",
       "#T_6778e_row27_col5 {\n",
       "  background-color: #f6a385;\n",
       "  color: #000000;\n",
       "}\n",
       "#T_6778e_row27_col6 {\n",
       "  background-color: #a2c1ff;\n",
       "  color: #000000;\n",
       "}\n",
       "#T_6778e_row28_col5, #T_6778e_row57_col5 {\n",
       "  background-color: #a1c0ff;\n",
       "  color: #000000;\n",
       "}\n",
       "#T_6778e_row28_col6 {\n",
       "  background-color: #9dbdff;\n",
       "  color: #000000;\n",
       "}\n",
       "#T_6778e_row29_col6 {\n",
       "  background-color: #8fb1fe;\n",
       "  color: #000000;\n",
       "}\n",
       "#T_6778e_row30_col5 {\n",
       "  background-color: #f39778;\n",
       "  color: #000000;\n",
       "}\n",
       "#T_6778e_row30_col6, #T_6778e_row34_col4, #T_6778e_row53_col4 {\n",
       "  background-color: #89acfd;\n",
       "  color: #000000;\n",
       "}\n",
       "#T_6778e_row31_col6, #T_6778e_row32_col6, #T_6778e_row83_col4 {\n",
       "  background-color: #88abfd;\n",
       "  color: #000000;\n",
       "}\n",
       "#T_6778e_row32_col4, #T_6778e_row58_col4 {\n",
       "  background-color: #dd5f4b;\n",
       "  color: #f1f1f1;\n",
       "}\n",
       "#T_6778e_row32_col5, #T_6778e_row37_col6 {\n",
       "  background-color: #7a9df8;\n",
       "  color: #f1f1f1;\n",
       "}\n",
       "#T_6778e_row33_col4, #T_6778e_row46_col4 {\n",
       "  background-color: #adc9fd;\n",
       "  color: #000000;\n",
       "}\n",
       "#T_6778e_row33_col6 {\n",
       "  background-color: #84a7fc;\n",
       "  color: #f1f1f1;\n",
       "}\n",
       "#T_6778e_row34_col5, #T_6778e_row48_col4, #T_6778e_row90_col6, #T_6778e_row91_col6, #T_6778e_row92_col6, #T_6778e_row93_col6, #T_6778e_row94_col6 {\n",
       "  background-color: #3d50c3;\n",
       "  color: #f1f1f1;\n",
       "}\n",
       "#T_6778e_row34_col6 {\n",
       "  background-color: #81a4fb;\n",
       "  color: #f1f1f1;\n",
       "}\n",
       "#T_6778e_row35_col5 {\n",
       "  background-color: #5875e1;\n",
       "  color: #f1f1f1;\n",
       "}\n",
       "#T_6778e_row35_col6, #T_6778e_row58_col5, #T_6778e_row66_col5, #T_6778e_row81_col5 {\n",
       "  background-color: #80a3fa;\n",
       "  color: #f1f1f1;\n",
       "}\n",
       "#T_6778e_row36_col4, #T_6778e_row37_col4, #T_6778e_row46_col5, #T_6778e_row91_col4 {\n",
       "  background-color: #4b64d5;\n",
       "  color: #f1f1f1;\n",
       "}\n",
       "#T_6778e_row36_col5, #T_6778e_row55_col4, #T_6778e_row67_col4, #T_6778e_row83_col5, #T_6778e_row97_col6, #T_6778e_row98_col5, #T_6778e_row98_col6, #T_6778e_row99_col6 {\n",
       "  background-color: #3b4cc0;\n",
       "  color: #f1f1f1;\n",
       "}\n",
       "#T_6778e_row36_col6 {\n",
       "  background-color: #7ea1fa;\n",
       "  color: #f1f1f1;\n",
       "}\n",
       "#T_6778e_row37_col5 {\n",
       "  background-color: #85a8fc;\n",
       "  color: #f1f1f1;\n",
       "}\n",
       "#T_6778e_row38_col4 {\n",
       "  background-color: #e67259;\n",
       "  color: #f1f1f1;\n",
       "}\n",
       "#T_6778e_row38_col6 {\n",
       "  background-color: #7396f5;\n",
       "  color: #f1f1f1;\n",
       "}\n",
       "#T_6778e_row39_col5, #T_6778e_row85_col4 {\n",
       "  background-color: #f7b194;\n",
       "  color: #000000;\n",
       "}\n",
       "#T_6778e_row39_col6 {\n",
       "  background-color: #7093f3;\n",
       "  color: #f1f1f1;\n",
       "}\n",
       "#T_6778e_row40_col4, #T_6778e_row40_col6, #T_6778e_row41_col6 {\n",
       "  background-color: #6f92f3;\n",
       "  color: #f1f1f1;\n",
       "}\n",
       "#T_6778e_row41_col4 {\n",
       "  background-color: #f39577;\n",
       "  color: #000000;\n",
       "}\n",
       "#T_6778e_row42_col4 {\n",
       "  background-color: #f29274;\n",
       "  color: #f1f1f1;\n",
       "}\n",
       "#T_6778e_row42_col5 {\n",
       "  background-color: #98b9ff;\n",
       "  color: #000000;\n",
       "}\n",
       "#T_6778e_row42_col6 {\n",
       "  background-color: #6e90f2;\n",
       "  color: #f1f1f1;\n",
       "}\n",
       "#T_6778e_row43_col4 {\n",
       "  background-color: #df634e;\n",
       "  color: #f1f1f1;\n",
       "}\n",
       "#T_6778e_row45_col5, #T_6778e_row93_col4 {\n",
       "  background-color: #4257c9;\n",
       "  color: #f1f1f1;\n",
       "}\n",
       "#T_6778e_row46_col6 {\n",
       "  background-color: #6b8df0;\n",
       "  color: #f1f1f1;\n",
       "}\n",
       "#T_6778e_row47_col6, #T_6778e_row95_col4 {\n",
       "  background-color: #6a8bef;\n",
       "  color: #f1f1f1;\n",
       "}\n",
       "#T_6778e_row48_col6, #T_6778e_row49_col6, #T_6778e_row50_col6 {\n",
       "  background-color: #6687ed;\n",
       "  color: #f1f1f1;\n",
       "}\n",
       "#T_6778e_row50_col4 {\n",
       "  background-color: #d44e41;\n",
       "  color: #f1f1f1;\n",
       "}\n",
       "#T_6778e_row51_col4 {\n",
       "  background-color: #6180e9;\n",
       "  color: #f1f1f1;\n",
       "}\n",
       "#T_6778e_row51_col5, #T_6778e_row99_col5 {\n",
       "  background-color: #dc5d4a;\n",
       "  color: #f1f1f1;\n",
       "}\n",
       "#T_6778e_row51_col6, #T_6778e_row52_col6, #T_6778e_row53_col6 {\n",
       "  background-color: #6485ec;\n",
       "  color: #f1f1f1;\n",
       "}\n",
       "#T_6778e_row52_col4 {\n",
       "  background-color: #e57058;\n",
       "  color: #f1f1f1;\n",
       "}\n",
       "#T_6778e_row53_col5, #T_6778e_row58_col6 {\n",
       "  background-color: #5a78e4;\n",
       "  color: #f1f1f1;\n",
       "}\n",
       "#T_6778e_row54_col4 {\n",
       "  background-color: #90b2fe;\n",
       "  color: #000000;\n",
       "}\n",
       "#T_6778e_row54_col5, #T_6778e_row60_col6, #T_6778e_row94_col5 {\n",
       "  background-color: #5572df;\n",
       "  color: #f1f1f1;\n",
       "}\n",
       "#T_6778e_row54_col6, #T_6778e_row55_col6 {\n",
       "  background-color: #6282ea;\n",
       "  color: #f1f1f1;\n",
       "}\n",
       "#T_6778e_row55_col5, #T_6778e_row67_col5 {\n",
       "  background-color: #d1dae9;\n",
       "  color: #000000;\n",
       "}\n",
       "#T_6778e_row56_col4, #T_6778e_row76_col5 {\n",
       "  background-color: #f4c5ad;\n",
       "  color: #000000;\n",
       "}\n",
       "#T_6778e_row56_col6, #T_6778e_row57_col6 {\n",
       "  background-color: #5b7ae5;\n",
       "  color: #f1f1f1;\n",
       "}\n",
       "#T_6778e_row59_col4, #T_6778e_row95_col6, #T_6778e_row96_col6 {\n",
       "  background-color: #3c4ec2;\n",
       "  color: #f1f1f1;\n",
       "}\n",
       "#T_6778e_row59_col5 {\n",
       "  background-color: #e7745b;\n",
       "  color: #f1f1f1;\n",
       "}\n",
       "#T_6778e_row59_col6 {\n",
       "  background-color: #5673e0;\n",
       "  color: #f1f1f1;\n",
       "}\n",
       "#T_6778e_row60_col4 {\n",
       "  background-color: #cedaeb;\n",
       "  color: #000000;\n",
       "}\n",
       "#T_6778e_row61_col5 {\n",
       "  background-color: #f7a688;\n",
       "  color: #000000;\n",
       "}\n",
       "#T_6778e_row61_col6 {\n",
       "  background-color: #5470de;\n",
       "  color: #f1f1f1;\n",
       "}\n",
       "#T_6778e_row62_col4 {\n",
       "  background-color: #ead5c9;\n",
       "  color: #000000;\n",
       "}\n",
       "#T_6778e_row63_col5 {\n",
       "  background-color: #efcebd;\n",
       "  color: #000000;\n",
       "}\n",
       "#T_6778e_row64_col4, #T_6778e_row84_col4 {\n",
       "  background-color: #dedcdb;\n",
       "  color: #000000;\n",
       "}\n",
       "#T_6778e_row64_col6 {\n",
       "  background-color: #516ddb;\n",
       "  color: #f1f1f1;\n",
       "}\n",
       "#T_6778e_row65_col5 {\n",
       "  background-color: #5f7fe8;\n",
       "  color: #f1f1f1;\n",
       "}\n",
       "#T_6778e_row66_col4 {\n",
       "  background-color: #bfd3f6;\n",
       "  color: #000000;\n",
       "}\n",
       "#T_6778e_row66_col6 {\n",
       "  background-color: #4e68d8;\n",
       "  color: #f1f1f1;\n",
       "}\n",
       "#T_6778e_row67_col6 {\n",
       "  background-color: #4c66d6;\n",
       "  color: #f1f1f1;\n",
       "}\n",
       "#T_6778e_row68_col4 {\n",
       "  background-color: #dcdddd;\n",
       "  color: #000000;\n",
       "}\n",
       "#T_6778e_row68_col5, #T_6778e_row90_col4 {\n",
       "  background-color: #f59d7e;\n",
       "  color: #000000;\n",
       "}\n",
       "#T_6778e_row68_col6, #T_6778e_row69_col6, #T_6778e_row70_col6, #T_6778e_row71_col6, #T_6778e_row72_col6, #T_6778e_row73_col6, #T_6778e_row97_col4 {\n",
       "  background-color: #485fd1;\n",
       "  color: #f1f1f1;\n",
       "}\n",
       "#T_6778e_row70_col4, #T_6778e_row74_col4, #T_6778e_row76_col4, #T_6778e_row79_col6, #T_6778e_row80_col6 {\n",
       "  background-color: #4358cb;\n",
       "  color: #f1f1f1;\n",
       "}\n",
       "#T_6778e_row70_col5, #T_6778e_row80_col5 {\n",
       "  background-color: #d7dce3;\n",
       "  color: #000000;\n",
       "}\n",
       "#T_6778e_row71_col4 {\n",
       "  background-color: #f1ccb8;\n",
       "  color: #000000;\n",
       "}\n",
       "#T_6778e_row72_col5 {\n",
       "  background-color: #d3dbe7;\n",
       "  color: #000000;\n",
       "}\n",
       "#T_6778e_row73_col4 {\n",
       "  background-color: #f7ac8e;\n",
       "  color: #000000;\n",
       "}\n",
       "#T_6778e_row74_col5 {\n",
       "  background-color: #ba162b;\n",
       "  color: #f1f1f1;\n",
       "}\n",
       "#T_6778e_row74_col6, #T_6778e_row75_col6 {\n",
       "  background-color: #465ecf;\n",
       "  color: #f1f1f1;\n",
       "}\n",
       "#T_6778e_row75_col4, #T_6778e_row81_col4, #T_6778e_row89_col4 {\n",
       "  background-color: #9abbff;\n",
       "  color: #000000;\n",
       "}\n",
       "#T_6778e_row75_col5 {\n",
       "  background-color: #4961d2;\n",
       "  color: #f1f1f1;\n",
       "}\n",
       "#T_6778e_row76_col6 {\n",
       "  background-color: #455cce;\n",
       "  color: #f1f1f1;\n",
       "}\n",
       "#T_6778e_row77_col5, #T_6778e_row91_col5 {\n",
       "  background-color: #c83836;\n",
       "  color: #f1f1f1;\n",
       "}\n",
       "#T_6778e_row77_col6, #T_6778e_row78_col6 {\n",
       "  background-color: #445acc;\n",
       "  color: #f1f1f1;\n",
       "}\n",
       "#T_6778e_row78_col4 {\n",
       "  background-color: #a6c4fe;\n",
       "  color: #000000;\n",
       "}\n",
       "#T_6778e_row79_col4, #T_6778e_row85_col5, #T_6778e_row94_col4 {\n",
       "  background-color: #e36c55;\n",
       "  color: #f1f1f1;\n",
       "}\n",
       "#T_6778e_row80_col4 {\n",
       "  background-color: #cb3e38;\n",
       "  color: #f1f1f1;\n",
       "}\n",
       "#T_6778e_row81_col6 {\n",
       "  background-color: #4055c8;\n",
       "  color: #f1f1f1;\n",
       "}\n",
       "#T_6778e_row82_col4 {\n",
       "  background-color: #c3d5f4;\n",
       "  color: #000000;\n",
       "}\n",
       "#T_6778e_row82_col5 {\n",
       "  background-color: #dbdcde;\n",
       "  color: #000000;\n",
       "}\n",
       "#T_6778e_row86_col4 {\n",
       "  background-color: #cbd8ee;\n",
       "  color: #000000;\n",
       "}\n",
       "#T_6778e_row86_col5 {\n",
       "  background-color: #f2c9b4;\n",
       "  color: #000000;\n",
       "}\n",
       "#T_6778e_row87_col6, #T_6778e_row88_col6, #T_6778e_row89_col6 {\n",
       "  background-color: #3e51c5;\n",
       "  color: #f1f1f1;\n",
       "}\n",
       "#T_6778e_row88_col4 {\n",
       "  background-color: #f1cdba;\n",
       "  color: #000000;\n",
       "}\n",
       "#T_6778e_row88_col5 {\n",
       "  background-color: #b70d28;\n",
       "  color: #f1f1f1;\n",
       "}\n",
       "#T_6778e_row92_col4 {\n",
       "  background-color: #8caffe;\n",
       "  color: #000000;\n",
       "}\n",
       "#T_6778e_row93_col5 {\n",
       "  background-color: #8db0fe;\n",
       "  color: #000000;\n",
       "}\n",
       "#T_6778e_row98_col4 {\n",
       "  background-color: #b8122a;\n",
       "  color: #f1f1f1;\n",
       "}\n",
       "</style>\n",
       "<table id=\"T_6778e\">\n",
       "  <thead>\n",
       "    <tr>\n",
       "      <th class=\"blank level0\" >&nbsp;</th>\n",
       "      <th id=\"T_6778e_level0_col0\" class=\"col_heading level0 col0\" >str_tokens</th>\n",
       "      <th id=\"T_6778e_level0_col1\" class=\"col_heading level0 col1\" >prefix</th>\n",
       "      <th id=\"T_6778e_level0_col2\" class=\"col_heading level0 col2\" >suffix</th>\n",
       "      <th id=\"T_6778e_level0_col3\" class=\"col_heading level0 col3\" >context</th>\n",
       "      <th id=\"T_6778e_level0_col4\" class=\"col_heading level0 col4\" >batch</th>\n",
       "      <th id=\"T_6778e_level0_col5\" class=\"col_heading level0 col5\" >pos</th>\n",
       "      <th id=\"T_6778e_level0_col6\" class=\"col_heading level0 col6\" >feature</th>\n",
       "    </tr>\n",
       "  </thead>\n",
       "  <tbody>\n",
       "    <tr>\n",
       "      <th id=\"T_6778e_level0_row0\" class=\"row_heading level0 row0\" >81105</th>\n",
       "      <td id=\"T_6778e_row0_col0\" class=\"data row0 col0\" >·near</td>\n",
       "      <td id=\"T_6778e_row0_col1\" class=\"data row0 col1\" >·with·a·player·that·is</td>\n",
       "      <td id=\"T_6778e_row0_col2\" class=\"data row0 col2\" >·6</td>\n",
       "      <td id=\"T_6778e_row0_col3\" class=\"data row0 col3\" >·with·a·player·that·is|·near|·6</td>\n",
       "      <td id=\"T_6778e_row0_col4\" class=\"data row0 col4\" >633</td>\n",
       "      <td id=\"T_6778e_row0_col5\" class=\"data row0 col5\" >81</td>\n",
       "      <td id=\"T_6778e_row0_col6\" class=\"data row0 col6\" >49.115376</td>\n",
       "    </tr>\n",
       "    <tr>\n",
       "      <th id=\"T_6778e_level0_row1\" class=\"row_heading level0 row1\" >63988</th>\n",
       "      <td id=\"T_6778e_row1_col0\" class=\"data row1 col0\" >·near</td>\n",
       "      <td id=\"T_6778e_row1_col1\" class=\"data row1 col1\" >·past,·expecting·2·in</td>\n",
       "      <td id=\"T_6778e_row1_col2\" class=\"data row1 col2\" >·future</td>\n",
       "      <td id=\"T_6778e_row1_col3\" class=\"data row1 col3\" >·past,·expecting·2·in|·near|·future</td>\n",
       "      <td id=\"T_6778e_row1_col4\" class=\"data row1 col4\" >499</td>\n",
       "      <td id=\"T_6778e_row1_col5\" class=\"data row1 col5\" >116</td>\n",
       "      <td id=\"T_6778e_row1_col6\" class=\"data row1 col6\" >42.629047</td>\n",
       "    </tr>\n",
       "    <tr>\n",
       "      <th id=\"T_6778e_level0_row2\" class=\"row_heading level0 row2\" >86193</th>\n",
       "      <td id=\"T_6778e_row2_col0\" class=\"data row2 col0\" >·near</td>\n",
       "      <td id=\"T_6778e_row2_col1\" class=\"data row2 col1\" >·surrender·to·police·in·the</td>\n",
       "      <td id=\"T_6778e_row2_col2\" class=\"data row2 col2\" >·future</td>\n",
       "      <td id=\"T_6778e_row2_col3\" class=\"data row2 col3\" >·surrender·to·police·in·the|·near|·future</td>\n",
       "      <td id=\"T_6778e_row2_col4\" class=\"data row2 col4\" >673</td>\n",
       "      <td id=\"T_6778e_row2_col5\" class=\"data row2 col5\" >49</td>\n",
       "      <td id=\"T_6778e_row2_col6\" class=\"data row2 col6\" >42.448147</td>\n",
       "    </tr>\n",
       "    <tr>\n",
       "      <th id=\"T_6778e_level0_row3\" class=\"row_heading level0 row3\" >143874</th>\n",
       "      <td id=\"T_6778e_row3_col0\" class=\"data row3 col0\" >·to</td>\n",
       "      <td id=\"T_6778e_row3_col1\" class=\"data row3 col1\" ><|endoftext|>·close</td>\n",
       "      <td id=\"T_6778e_row3_col2\" class=\"data row3 col2\" >·300</td>\n",
       "      <td id=\"T_6778e_row3_col3\" class=\"data row3 col3\" ><|endoftext|>·close|·to|·300</td>\n",
       "      <td id=\"T_6778e_row3_col4\" class=\"data row3 col4\" >1124</td>\n",
       "      <td id=\"T_6778e_row3_col5\" class=\"data row3 col5\" >2</td>\n",
       "      <td id=\"T_6778e_row3_col6\" class=\"data row3 col6\" >39.239086</td>\n",
       "    </tr>\n",
       "    <tr>\n",
       "      <th id=\"T_6778e_level0_row4\" class=\"row_heading level0 row4\" >84717</th>\n",
       "      <td id=\"T_6778e_row4_col0\" class=\"data row4 col0\" >·near</td>\n",
       "      <td id=\"T_6778e_row4_col1\" class=\"data row4 col1\" >·similar·price·cuts·in·the</td>\n",
       "      <td id=\"T_6778e_row4_col2\" class=\"data row4 col2\" >·future</td>\n",
       "      <td id=\"T_6778e_row4_col3\" class=\"data row4 col3\" >·similar·price·cuts·in·the|·near|·future</td>\n",
       "      <td id=\"T_6778e_row4_col4\" class=\"data row4 col4\" >661</td>\n",
       "      <td id=\"T_6778e_row4_col5\" class=\"data row4 col5\" >109</td>\n",
       "      <td id=\"T_6778e_row4_col6\" class=\"data row4 col6\" >39.078022</td>\n",
       "    </tr>\n",
       "    <tr>\n",
       "      <th id=\"T_6778e_level0_row5\" class=\"row_heading level0 row5\" >87523</th>\n",
       "      <td id=\"T_6778e_row5_col0\" class=\"data row5 col0\" >·near</td>\n",
       "      <td id=\"T_6778e_row5_col1\" class=\"data row5 col1\" >.“↩\n",
       "↩\n",
       "They·were</td>\n",
       "      <td id=\"T_6778e_row5_col2\" class=\"data row5 col2\" >·the</td>\n",
       "      <td id=\"T_6778e_row5_col3\" class=\"data row5 col3\" >.“↩\n",
       "↩\n",
       "They·were|·near|·the</td>\n",
       "      <td id=\"T_6778e_row5_col4\" class=\"data row5 col4\" >683</td>\n",
       "      <td id=\"T_6778e_row5_col5\" class=\"data row5 col5\" >99</td>\n",
       "      <td id=\"T_6778e_row5_col6\" class=\"data row5 col6\" >34.842793</td>\n",
       "    </tr>\n",
       "    <tr>\n",
       "      <th id=\"T_6778e_level0_row6\" class=\"row_heading level0 row6\" >71967</th>\n",
       "      <td id=\"T_6778e_row6_col0\" class=\"data row6 col0\" >·Near</td>\n",
       "      <td id=\"T_6778e_row6_col1\" class=\"data row6 col1\" >.·Photograph:·Tracey</td>\n",
       "      <td id=\"T_6778e_row6_col2\" class=\"data row6 col2\" >my</td>\n",
       "      <td id=\"T_6778e_row6_col3\" class=\"data row6 col3\" >.·Photograph:·Tracey|·Near|my</td>\n",
       "      <td id=\"T_6778e_row6_col4\" class=\"data row6 col4\" >562</td>\n",
       "      <td id=\"T_6778e_row6_col5\" class=\"data row6 col5\" >31</td>\n",
       "      <td id=\"T_6778e_row6_col6\" class=\"data row6 col6\" >34.053497</td>\n",
       "    </tr>\n",
       "    <tr>\n",
       "      <th id=\"T_6778e_level0_row7\" class=\"row_heading level0 row7\" >34348</th>\n",
       "      <td id=\"T_6778e_row7_col0\" class=\"data row7 col0\" >·near</td>\n",
       "      <td id=\"T_6778e_row7_col1\" class=\"data row7 col1\" >·eyeglasses·for·both</td>\n",
       "      <td id=\"T_6778e_row7_col2\" class=\"data row7 col2\" >·and</td>\n",
       "      <td id=\"T_6778e_row7_col3\" class=\"data row7 col3\" >·eyeglasses·for·both|·near|·and</td>\n",
       "      <td id=\"T_6778e_row7_col4\" class=\"data row7 col4\" >268</td>\n",
       "      <td id=\"T_6778e_row7_col5\" class=\"data row7 col5\" >44</td>\n",
       "      <td id=\"T_6778e_row7_col6\" class=\"data row7 col6\" >31.290394</td>\n",
       "    </tr>\n",
       "    <tr>\n",
       "      <th id=\"T_6778e_level0_row8\" class=\"row_heading level0 row8\" >134486</th>\n",
       "      <td id=\"T_6778e_row8_col0\" class=\"data row8 col0\" >·to</td>\n",
       "      <td id=\"T_6778e_row8_col1\" class=\"data row8 col1\" >,·but·was·close·enough</td>\n",
       "      <td id=\"T_6778e_row8_col2\" class=\"data row8 col2\" >·a</td>\n",
       "      <td id=\"T_6778e_row8_col3\" class=\"data row8 col3\" >,·but·was·close·enough|·to|·a</td>\n",
       "      <td id=\"T_6778e_row8_col4\" class=\"data row8 col4\" >1050</td>\n",
       "      <td id=\"T_6778e_row8_col5\" class=\"data row8 col5\" >86</td>\n",
       "      <td id=\"T_6778e_row8_col6\" class=\"data row8 col6\" >28.328636</td>\n",
       "    </tr>\n",
       "    <tr>\n",
       "      <th id=\"T_6778e_level0_row9\" class=\"row_heading level0 row9\" >66525</th>\n",
       "      <td id=\"T_6778e_row9_col0\" class=\"data row9 col0\" >·near</td>\n",
       "      <td id=\"T_6778e_row9_col1\" class=\"data row9 col1\" >·a·blend·group·with·or</td>\n",
       "      <td id=\"T_6778e_row9_col2\" class=\"data row9 col2\" >·your</td>\n",
       "      <td id=\"T_6778e_row9_col3\" class=\"data row9 col3\" >·a·blend·group·with·or|·near|·your</td>\n",
       "      <td id=\"T_6778e_row9_col4\" class=\"data row9 col4\" >519</td>\n",
       "      <td id=\"T_6778e_row9_col5\" class=\"data row9 col5\" >93</td>\n",
       "      <td id=\"T_6778e_row9_col6\" class=\"data row9 col6\" >26.984209</td>\n",
       "    </tr>\n",
       "    <tr>\n",
       "      <th id=\"T_6778e_level0_row10\" class=\"row_heading level0 row10\" >78831</th>\n",
       "      <td id=\"T_6778e_row10_col0\" class=\"data row10 col0\" >·near</td>\n",
       "      <td id=\"T_6778e_row10_col1\" class=\"data row10 col1\" >·Island·was·blessed·to·be</td>\n",
       "      <td id=\"T_6778e_row10_col2\" class=\"data row10 col2\" >·some</td>\n",
       "      <td id=\"T_6778e_row10_col3\" class=\"data row10 col3\" >·Island·was·blessed·to·be|·near|·some</td>\n",
       "      <td id=\"T_6778e_row10_col4\" class=\"data row10 col4\" >615</td>\n",
       "      <td id=\"T_6778e_row10_col5\" class=\"data row10 col5\" >111</td>\n",
       "      <td id=\"T_6778e_row10_col6\" class=\"data row10 col6\" >24.187927</td>\n",
       "    </tr>\n",
       "    <tr>\n",
       "      <th id=\"T_6778e_level0_row11\" class=\"row_heading level0 row11\" >46030</th>\n",
       "      <td id=\"T_6778e_row11_col0\" class=\"data row11 col0\" >·near</td>\n",
       "      <td id=\"T_6778e_row11_col1\" class=\"data row11 col1\" >·at·a·range·of·prices</td>\n",
       "      <td id=\"T_6778e_row11_col2\" class=\"data row11 col2\" >·key</td>\n",
       "      <td id=\"T_6778e_row11_col3\" class=\"data row11 col3\" >·at·a·range·of·prices|·near|·key</td>\n",
       "      <td id=\"T_6778e_row11_col4\" class=\"data row11 col4\" >359</td>\n",
       "      <td id=\"T_6778e_row11_col5\" class=\"data row11 col5\" >78</td>\n",
       "      <td id=\"T_6778e_row11_col6\" class=\"data row11 col6\" >23.756990</td>\n",
       "    </tr>\n",
       "    <tr>\n",
       "      <th id=\"T_6778e_level0_row12\" class=\"row_heading level0 row12\" >78291</th>\n",
       "      <td id=\"T_6778e_row12_col0\" class=\"data row12 col0\" >·near</td>\n",
       "      <td id=\"T_6778e_row12_col1\" class=\"data row12 col1\" >ribly·in.·A·spot</td>\n",
       "      <td id=\"T_6778e_row12_col2\" class=\"data row12 col2\" >·a</td>\n",
       "      <td id=\"T_6778e_row12_col3\" class=\"data row12 col3\" >ribly·in.·A·spot|·near|·a</td>\n",
       "      <td id=\"T_6778e_row12_col4\" class=\"data row12 col4\" >611</td>\n",
       "      <td id=\"T_6778e_row12_col5\" class=\"data row12 col5\" >83</td>\n",
       "      <td id=\"T_6778e_row12_col6\" class=\"data row12 col6\" >22.254375</td>\n",
       "    </tr>\n",
       "    <tr>\n",
       "      <th id=\"T_6778e_level0_row13\" class=\"row_heading level0 row13\" >15395</th>\n",
       "      <td id=\"T_6778e_row13_col0\" class=\"data row13 col0\" >·near</td>\n",
       "      <td id=\"T_6778e_row13_col1\" class=\"data row13 col1\" >·tackled·him·at·or</td>\n",
       "      <td id=\"T_6778e_row13_col2\" class=\"data row13 col2\" >·the</td>\n",
       "      <td id=\"T_6778e_row13_col3\" class=\"data row13 col3\" >·tackled·him·at·or|·near|·the</td>\n",
       "      <td id=\"T_6778e_row13_col4\" class=\"data row13 col4\" >120</td>\n",
       "      <td id=\"T_6778e_row13_col5\" class=\"data row13 col5\" >35</td>\n",
       "      <td id=\"T_6778e_row13_col6\" class=\"data row13 col6\" >22.212376</td>\n",
       "    </tr>\n",
       "    <tr>\n",
       "      <th id=\"T_6778e_level0_row14\" class=\"row_heading level0 row14\" >29107</th>\n",
       "      <td id=\"T_6778e_row14_col0\" class=\"data row14 col0\" >·near</td>\n",
       "      <td id=\"T_6778e_row14_col1\" class=\"data row14 col1\" >·workers·as·compensation·–·remains</td>\n",
       "      <td id=\"T_6778e_row14_col2\" class=\"data row14 col2\" >·the</td>\n",
       "      <td id=\"T_6778e_row14_col3\" class=\"data row14 col3\" >·workers·as·compensation·–·remains|·near|·the</td>\n",
       "      <td id=\"T_6778e_row14_col4\" class=\"data row14 col4\" >227</td>\n",
       "      <td id=\"T_6778e_row14_col5\" class=\"data row14 col5\" >51</td>\n",
       "      <td id=\"T_6778e_row14_col6\" class=\"data row14 col6\" >21.937420</td>\n",
       "    </tr>\n",
       "    <tr>\n",
       "      <th id=\"T_6778e_level0_row15\" class=\"row_heading level0 row15\" >81650</th>\n",
       "      <td id=\"T_6778e_row15_col0\" class=\"data row15 col0\" >ards</td>\n",
       "      <td id=\"T_6778e_row15_col1\" class=\"data row15 col1\" >.↩\n",
       "↩\n",
       "Tow</td>\n",
       "      <td id=\"T_6778e_row15_col2\" class=\"data row15 col2\" >·the</td>\n",
       "      <td id=\"T_6778e_row15_col3\" class=\"data row15 col3\" >.↩\n",
       "↩\n",
       "Tow|ards|·the</td>\n",
       "      <td id=\"T_6778e_row15_col4\" class=\"data row15 col4\" >637</td>\n",
       "      <td id=\"T_6778e_row15_col5\" class=\"data row15 col5\" >114</td>\n",
       "      <td id=\"T_6778e_row15_col6\" class=\"data row15 col6\" >20.516863</td>\n",
       "    </tr>\n",
       "    <tr>\n",
       "      <th id=\"T_6778e_level0_row16\" class=\"row_heading level0 row16\" >17009</th>\n",
       "      <td id=\"T_6778e_row16_col0\" class=\"data row16 col0\" >·to</td>\n",
       "      <td id=\"T_6778e_row16_col1\" class=\"data row16 col1\" >·Microsoft·and·clearly·sail·close</td>\n",
       "      <td id=\"T_6778e_row16_col2\" class=\"data row16 col2\" >·the</td>\n",
       "      <td id=\"T_6778e_row16_col3\" class=\"data row16 col3\" >·Microsoft·and·clearly·sail·close|·to|·the</td>\n",
       "      <td id=\"T_6778e_row16_col4\" class=\"data row16 col4\" >132</td>\n",
       "      <td id=\"T_6778e_row16_col5\" class=\"data row16 col5\" >113</td>\n",
       "      <td id=\"T_6778e_row16_col6\" class=\"data row16 col6\" >20.442965</td>\n",
       "    </tr>\n",
       "    <tr>\n",
       "      <th id=\"T_6778e_level0_row17\" class=\"row_heading level0 row17\" >116292</th>\n",
       "      <td id=\"T_6778e_row17_col0\" class=\"data row17 col0\" >·to</td>\n",
       "      <td id=\"T_6778e_row17_col1\" class=\"data row17 col1\" >,·and·he·came·close</td>\n",
       "      <td id=\"T_6778e_row17_col2\" class=\"data row17 col2\" >·losing</td>\n",
       "      <td id=\"T_6778e_row17_col3\" class=\"data row17 col3\" >,·and·he·came·close|·to|·losing</td>\n",
       "      <td id=\"T_6778e_row17_col4\" class=\"data row17 col4\" >908</td>\n",
       "      <td id=\"T_6778e_row17_col5\" class=\"data row17 col5\" >68</td>\n",
       "      <td id=\"T_6778e_row17_col6\" class=\"data row17 col6\" >19.575428</td>\n",
       "    </tr>\n",
       "    <tr>\n",
       "      <th id=\"T_6778e_level0_row18\" class=\"row_heading level0 row18\" >157658</th>\n",
       "      <td id=\"T_6778e_row18_col0\" class=\"data row18 col0\" >·to</td>\n",
       "      <td id=\"T_6778e_row18_col1\" class=\"data row18 col1\" >,·the·closer·we·get</td>\n",
       "      <td id=\"T_6778e_row18_col2\" class=\"data row18 col2\" >·the</td>\n",
       "      <td id=\"T_6778e_row18_col3\" class=\"data row18 col3\" >,·the·closer·we·get|·to|·the</td>\n",
       "      <td id=\"T_6778e_row18_col4\" class=\"data row18 col4\" >1231</td>\n",
       "      <td id=\"T_6778e_row18_col5\" class=\"data row18 col5\" >90</td>\n",
       "      <td id=\"T_6778e_row18_col6\" class=\"data row18 col6\" >19.479792</td>\n",
       "    </tr>\n",
       "    <tr>\n",
       "      <th id=\"T_6778e_level0_row19\" class=\"row_heading level0 row19\" >101572</th>\n",
       "      <td id=\"T_6778e_row19_col0\" class=\"data row19 col0\" >·near</td>\n",
       "      <td id=\"T_6778e_row19_col1\" class=\"data row19 col1\" >·a.m.·while</td>\n",
       "      <td id=\"T_6778e_row19_col2\" class=\"data row19 col2\" >·the</td>\n",
       "      <td id=\"T_6778e_row19_col3\" class=\"data row19 col3\" >·a.m.·while|·near|·the</td>\n",
       "      <td id=\"T_6778e_row19_col4\" class=\"data row19 col4\" >793</td>\n",
       "      <td id=\"T_6778e_row19_col5\" class=\"data row19 col5\" >68</td>\n",
       "      <td id=\"T_6778e_row19_col6\" class=\"data row19 col6\" >19.046385</td>\n",
       "    </tr>\n",
       "    <tr>\n",
       "      <th id=\"T_6778e_level0_row20\" class=\"row_heading level0 row20\" >109741</th>\n",
       "      <td id=\"T_6778e_row20_col0\" class=\"data row20 col0\" >·to</td>\n",
       "      <td id=\"T_6778e_row20_col1\" class=\"data row20 col1\" >·out·of·housing·markets·closer</td>\n",
       "      <td id=\"T_6778e_row20_col2\" class=\"data row20 col2\" >·jobs</td>\n",
       "      <td id=\"T_6778e_row20_col3\" class=\"data row20 col3\" >·out·of·housing·markets·closer|·to|·jobs</td>\n",
       "      <td id=\"T_6778e_row20_col4\" class=\"data row20 col4\" >857</td>\n",
       "      <td id=\"T_6778e_row20_col5\" class=\"data row20 col5\" >45</td>\n",
       "      <td id=\"T_6778e_row20_col6\" class=\"data row20 col6\" >19.000525</td>\n",
       "    </tr>\n",
       "    <tr>\n",
       "      <th id=\"T_6778e_level0_row21\" class=\"row_heading level0 row21\" >85076</th>\n",
       "      <td id=\"T_6778e_row21_col0\" class=\"data row21 col0\" >·near</td>\n",
       "      <td id=\"T_6778e_row21_col1\" class=\"data row21 col1\" >·of·shipping.·Farms</td>\n",
       "      <td id=\"T_6778e_row21_col2\" class=\"data row21 col2\" >·Four</td>\n",
       "      <td id=\"T_6778e_row21_col3\" class=\"data row21 col3\" >·of·shipping.·Farms|·near|·Four</td>\n",
       "      <td id=\"T_6778e_row21_col4\" class=\"data row21 col4\" >664</td>\n",
       "      <td id=\"T_6778e_row21_col5\" class=\"data row21 col5\" >84</td>\n",
       "      <td id=\"T_6778e_row21_col6\" class=\"data row21 col6\" >18.984051</td>\n",
       "    </tr>\n",
       "    <tr>\n",
       "      <th id=\"T_6778e_level0_row22\" class=\"row_heading level0 row22\" >83553</th>\n",
       "      <td id=\"T_6778e_row22_col0\" class=\"data row22 col0\" >·of</td>\n",
       "      <td id=\"T_6778e_row22_col1\" class=\"data row22 col1\" >·it·was·on·the·verge</td>\n",
       "      <td id=\"T_6778e_row22_col2\" class=\"data row22 col2\" >·bankruptcy</td>\n",
       "      <td id=\"T_6778e_row22_col3\" class=\"data row22 col3\" >·it·was·on·the·verge|·of|·bankruptcy</td>\n",
       "      <td id=\"T_6778e_row22_col4\" class=\"data row22 col4\" >652</td>\n",
       "      <td id=\"T_6778e_row22_col5\" class=\"data row22 col5\" >97</td>\n",
       "      <td id=\"T_6778e_row22_col6\" class=\"data row22 col6\" >18.762705</td>\n",
       "    </tr>\n",
       "    <tr>\n",
       "      <th id=\"T_6778e_level0_row23\" class=\"row_heading level0 row23\" >41343</th>\n",
       "      <td id=\"T_6778e_row23_col0\" class=\"data row23 col0\" >ards</td>\n",
       "      <td id=\"T_6778e_row23_col1\" class=\"data row23 col1\" >↩\n",
       "↩\n",
       "\"Tow</td>\n",
       "      <td id=\"T_6778e_row23_col2\" class=\"data row23 col2\" ></td>\n",
       "      <td id=\"T_6778e_row23_col3\" class=\"data row23 col3\" >↩\n",
       "↩\n",
       "\"Tow|ards|</td>\n",
       "      <td id=\"T_6778e_row23_col4\" class=\"data row23 col4\" >322</td>\n",
       "      <td id=\"T_6778e_row23_col5\" class=\"data row23 col5\" >127</td>\n",
       "      <td id=\"T_6778e_row23_col6\" class=\"data row23 col6\" >17.602062</td>\n",
       "    </tr>\n",
       "    <tr>\n",
       "      <th id=\"T_6778e_level0_row24\" class=\"row_heading level0 row24\" >132504</th>\n",
       "      <td id=\"T_6778e_row24_col0\" class=\"data row24 col0\" >·near</td>\n",
       "      <td id=\"T_6778e_row24_col1\" class=\"data row24 col1\" >·those·living·in·the·settlement</td>\n",
       "      <td id=\"T_6778e_row24_col2\" class=\"data row24 col2\" >·Wh</td>\n",
       "      <td id=\"T_6778e_row24_col3\" class=\"data row24 col3\" >·those·living·in·the·settlement|·near|·Wh</td>\n",
       "      <td id=\"T_6778e_row24_col4\" class=\"data row24 col4\" >1035</td>\n",
       "      <td id=\"T_6778e_row24_col5\" class=\"data row24 col5\" >24</td>\n",
       "      <td id=\"T_6778e_row24_col6\" class=\"data row24 col6\" >17.195295</td>\n",
       "    </tr>\n",
       "    <tr>\n",
       "      <th id=\"T_6778e_level0_row25\" class=\"row_heading level0 row25\" >99310</th>\n",
       "      <td id=\"T_6778e_row25_col0\" class=\"data row25 col0\" >·from</td>\n",
       "      <td id=\"T_6778e_row25_col1\" class=\"data row25 col1\" >,·in·fact,·far</td>\n",
       "      <td id=\"T_6778e_row25_col2\" class=\"data row25 col2\" >·being</td>\n",
       "      <td id=\"T_6778e_row25_col3\" class=\"data row25 col3\" >,·in·fact,·far|·from|·being</td>\n",
       "      <td id=\"T_6778e_row25_col4\" class=\"data row25 col4\" >775</td>\n",
       "      <td id=\"T_6778e_row25_col5\" class=\"data row25 col5\" >110</td>\n",
       "      <td id=\"T_6778e_row25_col6\" class=\"data row25 col6\" >17.094168</td>\n",
       "    </tr>\n",
       "    <tr>\n",
       "      <th id=\"T_6778e_level0_row26\" class=\"row_heading level0 row26\" >40905</th>\n",
       "      <td id=\"T_6778e_row26_col0\" class=\"data row26 col0\" >·toward</td>\n",
       "      <td id=\"T_6778e_row26_col1\" class=\"data row26 col1\" >·really·was·a·boring·division</td>\n",
       "      <td id=\"T_6778e_row26_col2\" class=\"data row26 col2\" >·the</td>\n",
       "      <td id=\"T_6778e_row26_col3\" class=\"data row26 col3\" >·really·was·a·boring·division|·toward|·the</td>\n",
       "      <td id=\"T_6778e_row26_col4\" class=\"data row26 col4\" >319</td>\n",
       "      <td id=\"T_6778e_row26_col5\" class=\"data row26 col5\" >73</td>\n",
       "      <td id=\"T_6778e_row26_col6\" class=\"data row26 col6\" >17.056232</td>\n",
       "    </tr>\n",
       "    <tr>\n",
       "      <th id=\"T_6778e_level0_row27\" class=\"row_heading level0 row27\" >75228</th>\n",
       "      <td id=\"T_6778e_row27_col0\" class=\"data row27 col0\" >·toward</td>\n",
       "      <td id=\"T_6778e_row27_col1\" class=\"data row27 col1\" >·handed·to·police·careens</td>\n",
       "      <td id=\"T_6778e_row27_col2\" class=\"data row27 col2\" >·the</td>\n",
       "      <td id=\"T_6778e_row27_col3\" class=\"data row27 col3\" >·handed·to·police·careens|·toward|·the</td>\n",
       "      <td id=\"T_6778e_row27_col4\" class=\"data row27 col4\" >587</td>\n",
       "      <td id=\"T_6778e_row27_col5\" class=\"data row27 col5\" >92</td>\n",
       "      <td id=\"T_6778e_row27_col6\" class=\"data row27 col6\" >16.874311</td>\n",
       "    </tr>\n",
       "    <tr>\n",
       "      <th id=\"T_6778e_level0_row28\" class=\"row_heading level0 row28\" >161575</th>\n",
       "      <td id=\"T_6778e_row28_col0\" class=\"data row28 col0\" >·to</td>\n",
       "      <td id=\"T_6778e_row28_col1\" class=\"data row28 col1\" >ision·is·performed·in·close</td>\n",
       "      <td id=\"T_6778e_row28_col2\" class=\"data row28 col2\" >·100</td>\n",
       "      <td id=\"T_6778e_row28_col3\" class=\"data row28 col3\" >ision·is·performed·in·close|·to|·100</td>\n",
       "      <td id=\"T_6778e_row28_col4\" class=\"data row28 col4\" >1262</td>\n",
       "      <td id=\"T_6778e_row28_col5\" class=\"data row28 col5\" >39</td>\n",
       "      <td id=\"T_6778e_row28_col6\" class=\"data row28 col6\" >16.054888</td>\n",
       "    </tr>\n",
       "    <tr>\n",
       "      <th id=\"T_6778e_level0_row29\" class=\"row_heading level0 row29\" >60241</th>\n",
       "      <td id=\"T_6778e_row29_col0\" class=\"data row29 col0\" >·nearly</td>\n",
       "      <td id=\"T_6778e_row29_col1\" class=\"data row29 col1\" >t·turn·out·to·be</td>\n",
       "      <td id=\"T_6778e_row29_col2\" class=\"data row29 col2\" >·as</td>\n",
       "      <td id=\"T_6778e_row29_col3\" class=\"data row29 col3\" >t·turn·out·to·be|·nearly|·as</td>\n",
       "      <td id=\"T_6778e_row29_col4\" class=\"data row29 col4\" >470</td>\n",
       "      <td id=\"T_6778e_row29_col5\" class=\"data row29 col5\" >81</td>\n",
       "      <td id=\"T_6778e_row29_col6\" class=\"data row29 col6\" >14.327061</td>\n",
       "    </tr>\n",
       "    <tr>\n",
       "      <th id=\"T_6778e_level0_row30\" class=\"row_heading level0 row30\" >83552</th>\n",
       "      <td id=\"T_6778e_row30_col0\" class=\"data row30 col0\" >·verge</td>\n",
       "      <td id=\"T_6778e_row30_col1\" class=\"data row30 col1\" >·but·it·was·on·the</td>\n",
       "      <td id=\"T_6778e_row30_col2\" class=\"data row30 col2\" >·of</td>\n",
       "      <td id=\"T_6778e_row30_col3\" class=\"data row30 col3\" >·but·it·was·on·the|·verge|·of</td>\n",
       "      <td id=\"T_6778e_row30_col4\" class=\"data row30 col4\" >652</td>\n",
       "      <td id=\"T_6778e_row30_col5\" class=\"data row30 col5\" >96</td>\n",
       "      <td id=\"T_6778e_row30_col6\" class=\"data row30 col6\" >13.601750</td>\n",
       "    </tr>\n",
       "    <tr>\n",
       "      <th id=\"T_6778e_level0_row31\" class=\"row_heading level0 row31\" >65940</th>\n",
       "      <td id=\"T_6778e_row31_col0\" class=\"data row31 col0\" >usp</td>\n",
       "      <td id=\"T_6778e_row31_col1\" class=\"data row31 col1\" >·one·team·on·the·c</td>\n",
       "      <td id=\"T_6778e_row31_col2\" class=\"data row31 col2\" >·and</td>\n",
       "      <td id=\"T_6778e_row31_col3\" class=\"data row31 col3\" >·one·team·on·the·c|usp|·and</td>\n",
       "      <td id=\"T_6778e_row31_col4\" class=\"data row31 col4\" >515</td>\n",
       "      <td id=\"T_6778e_row31_col5\" class=\"data row31 col5\" >20</td>\n",
       "      <td id=\"T_6778e_row31_col6\" class=\"data row31 col6\" >13.423677</td>\n",
       "    </tr>\n",
       "    <tr>\n",
       "      <th id=\"T_6778e_level0_row32\" class=\"row_heading level0 row32\" >141977</th>\n",
       "      <td id=\"T_6778e_row32_col0\" class=\"data row32 col0\" >·nearest</td>\n",
       "      <td id=\"T_6778e_row32_col1\" class=\"data row32 col1\" >·spending·options·caused·\"the</td>\n",
       "      <td id=\"T_6778e_row32_col2\" class=\"data row32 col2\" >·thing</td>\n",
       "      <td id=\"T_6778e_row32_col3\" class=\"data row32 col3\" >·spending·options·caused·\"the|·nearest|·thing</td>\n",
       "      <td id=\"T_6778e_row32_col4\" class=\"data row32 col4\" >1109</td>\n",
       "      <td id=\"T_6778e_row32_col5\" class=\"data row32 col5\" >25</td>\n",
       "      <td id=\"T_6778e_row32_col6\" class=\"data row32 col6\" >13.390202</td>\n",
       "    </tr>\n",
       "    <tr>\n",
       "      <th id=\"T_6778e_level0_row33\" class=\"row_heading level0 row33\" >58024</th>\n",
       "      <td id=\"T_6778e_row33_col0\" class=\"data row33 col0\" >·near</td>\n",
       "      <td id=\"T_6778e_row33_col1\" class=\"data row33 col1\" >·of·territory·the·group·holds</td>\n",
       "      <td id=\"T_6778e_row33_col2\" class=\"data row33 col2\" >·the</td>\n",
       "      <td id=\"T_6778e_row33_col3\" class=\"data row33 col3\" >·of·territory·the·group·holds|·near|·the</td>\n",
       "      <td id=\"T_6778e_row33_col4\" class=\"data row33 col4\" >453</td>\n",
       "      <td id=\"T_6778e_row33_col5\" class=\"data row33 col5\" >40</td>\n",
       "      <td id=\"T_6778e_row33_col6\" class=\"data row33 col6\" >12.841617</td>\n",
       "    </tr>\n",
       "    <tr>\n",
       "      <th id=\"T_6778e_level0_row34\" class=\"row_heading level0 row34\" >41985</th>\n",
       "      <td id=\"T_6778e_row34_col0\" class=\"data row34 col0\" >·approached</td>\n",
       "      <td id=\"T_6778e_row34_col1\" class=\"data row34 col1\" ><|endoftext|></td>\n",
       "      <td id=\"T_6778e_row34_col2\" class=\"data row34 col2\" >·the</td>\n",
       "      <td id=\"T_6778e_row34_col3\" class=\"data row34 col3\" ><|endoftext|>|·approached|·the</td>\n",
       "      <td id=\"T_6778e_row34_col4\" class=\"data row34 col4\" >328</td>\n",
       "      <td id=\"T_6778e_row34_col5\" class=\"data row34 col5\" >1</td>\n",
       "      <td id=\"T_6778e_row34_col6\" class=\"data row34 col6\" >12.531538</td>\n",
       "    </tr>\n",
       "    <tr>\n",
       "      <th id=\"T_6778e_level0_row35\" class=\"row_heading level0 row35\" >45836</th>\n",
       "      <td id=\"T_6778e_row35_col0\" class=\"data row35 col0\" >early</td>\n",
       "      <td id=\"T_6778e_row35_col1\" class=\"data row35 col1\" >·costs.”↩\n",
       "↩\n",
       "N</td>\n",
       "      <td id=\"T_6778e_row35_col2\" class=\"data row35 col2\" >·60</td>\n",
       "      <td id=\"T_6778e_row35_col3\" class=\"data row35 col3\" >·costs.”↩\n",
       "↩\n",
       "N|early|·60</td>\n",
       "      <td id=\"T_6778e_row35_col4\" class=\"data row35 col4\" >358</td>\n",
       "      <td id=\"T_6778e_row35_col5\" class=\"data row35 col5\" >12</td>\n",
       "      <td id=\"T_6778e_row35_col6\" class=\"data row35 col6\" >12.303265</td>\n",
       "    </tr>\n",
       "    <tr>\n",
       "      <th id=\"T_6778e_level0_row36\" class=\"row_heading level0 row36\" >13440</th>\n",
       "      <td id=\"T_6778e_row36_col0\" class=\"data row36 col0\" >·near</td>\n",
       "      <td id=\"T_6778e_row36_col1\" class=\"data row36 col1\" ></td>\n",
       "      <td id=\"T_6778e_row36_col2\" class=\"data row36 col2\" >·his</td>\n",
       "      <td id=\"T_6778e_row36_col3\" class=\"data row36 col3\" >|·near|·his</td>\n",
       "      <td id=\"T_6778e_row36_col4\" class=\"data row36 col4\" >105</td>\n",
       "      <td id=\"T_6778e_row36_col5\" class=\"data row36 col5\" >0</td>\n",
       "      <td id=\"T_6778e_row36_col6\" class=\"data row36 col6\" >12.052117</td>\n",
       "    </tr>\n",
       "    <tr>\n",
       "      <th id=\"T_6778e_level0_row37\" class=\"row_heading level0 row37\" >13341</th>\n",
       "      <td id=\"T_6778e_row37_col0\" class=\"data row37 col0\" >·near</td>\n",
       "      <td id=\"T_6778e_row37_col1\" class=\"data row37 col1\" >·detain·him·at·various·locations</td>\n",
       "      <td id=\"T_6778e_row37_col2\" class=\"data row37 col2\" >·City</td>\n",
       "      <td id=\"T_6778e_row37_col3\" class=\"data row37 col3\" >·detain·him·at·various·locations|·near|·City</td>\n",
       "      <td id=\"T_6778e_row37_col4\" class=\"data row37 col4\" >104</td>\n",
       "      <td id=\"T_6778e_row37_col5\" class=\"data row37 col5\" >29</td>\n",
       "      <td id=\"T_6778e_row37_col6\" class=\"data row37 col6\" >11.522081</td>\n",
       "    </tr>\n",
       "    <tr>\n",
       "      <th id=\"T_6778e_level0_row38\" class=\"row_heading level0 row38\" >136289</th>\n",
       "      <td id=\"T_6778e_row38_col0\" class=\"data row38 col0\" >·nearly</td>\n",
       "      <td id=\"T_6778e_row38_col1\" class=\"data row38 col1\" >·he·invites·me·for·a</td>\n",
       "      <td id=\"T_6778e_row38_col2\" class=\"data row38 col2\" >·two</td>\n",
       "      <td id=\"T_6778e_row38_col3\" class=\"data row38 col3\" >·he·invites·me·for·a|·nearly|·two</td>\n",
       "      <td id=\"T_6778e_row38_col4\" class=\"data row38 col4\" >1064</td>\n",
       "      <td id=\"T_6778e_row38_col5\" class=\"data row38 col5\" >97</td>\n",
       "      <td id=\"T_6778e_row38_col6\" class=\"data row38 col6\" >10.587633</td>\n",
       "    </tr>\n",
       "    <tr>\n",
       "      <th id=\"T_6778e_level0_row39\" class=\"row_heading level0 row39\" >134487</th>\n",
       "      <td id=\"T_6778e_row39_col0\" class=\"data row39 col0\" >·a</td>\n",
       "      <td id=\"T_6778e_row39_col1\" class=\"data row39 col1\" >·but·was·close·enough·to</td>\n",
       "      <td id=\"T_6778e_row39_col2\" class=\"data row39 col2\" >·co</td>\n",
       "      <td id=\"T_6778e_row39_col3\" class=\"data row39 col3\" >·but·was·close·enough·to|·a|·co</td>\n",
       "      <td id=\"T_6778e_row39_col4\" class=\"data row39 col4\" >1050</td>\n",
       "      <td id=\"T_6778e_row39_col5\" class=\"data row39 col5\" >87</td>\n",
       "      <td id=\"T_6778e_row39_col6\" class=\"data row39 col6\" >10.266058</td>\n",
       "    </tr>\n",
       "    <tr>\n",
       "      <th id=\"T_6778e_level0_row40\" class=\"row_heading level0 row40\" >30426</th>\n",
       "      <td id=\"T_6778e_row40_col0\" class=\"data row40 col0\" >·near</td>\n",
       "      <td id=\"T_6778e_row40_col1\" class=\"data row40 col1\" >·ban·by·digging·cellars</td>\n",
       "      <td id=\"T_6778e_row40_col2\" class=\"data row40 col2\" >·river</td>\n",
       "      <td id=\"T_6778e_row40_col3\" class=\"data row40 col3\" >·ban·by·digging·cellars|·near|·river</td>\n",
       "      <td id=\"T_6778e_row40_col4\" class=\"data row40 col4\" >237</td>\n",
       "      <td id=\"T_6778e_row40_col5\" class=\"data row40 col5\" >90</td>\n",
       "      <td id=\"T_6778e_row40_col6\" class=\"data row40 col6\" >10.083539</td>\n",
       "    </tr>\n",
       "    <tr>\n",
       "      <th id=\"T_6778e_level0_row41\" class=\"row_heading level0 row41\" >123692</th>\n",
       "      <td id=\"T_6778e_row41_col0\" class=\"data row41 col0\" >·to</td>\n",
       "      <td id=\"T_6778e_row41_col1\" class=\"data row41 col1\" >·them·from·getting·too·close</td>\n",
       "      <td id=\"T_6778e_row41_col2\" class=\"data row41 col2\" >·the</td>\n",
       "      <td id=\"T_6778e_row41_col3\" class=\"data row41 col3\" >·them·from·getting·too·close|·to|·the</td>\n",
       "      <td id=\"T_6778e_row41_col4\" class=\"data row41 col4\" >966</td>\n",
       "      <td id=\"T_6778e_row41_col5\" class=\"data row41 col5\" >44</td>\n",
       "      <td id=\"T_6778e_row41_col6\" class=\"data row41 col6\" >10.065400</td>\n",
       "    </tr>\n",
       "    <tr>\n",
       "      <th id=\"T_6778e_level0_row42\" class=\"row_heading level0 row42\" >125348</th>\n",
       "      <td id=\"T_6778e_row42_col0\" class=\"data row42 col0\" >·from</td>\n",
       "      <td id=\"T_6778e_row42_col1\" class=\"data row42 col1\" >SU·up·four·yards·away</td>\n",
       "      <td id=\"T_6778e_row42_col2\" class=\"data row42 col2\" >·pay</td>\n",
       "      <td id=\"T_6778e_row42_col3\" class=\"data row42 col3\" >SU·up·four·yards·away|·from|·pay</td>\n",
       "      <td id=\"T_6778e_row42_col4\" class=\"data row42 col4\" >979</td>\n",
       "      <td id=\"T_6778e_row42_col5\" class=\"data row42 col5\" >36</td>\n",
       "      <td id=\"T_6778e_row42_col6\" class=\"data row42 col6\" >9.988112</td>\n",
       "    </tr>\n",
       "    <tr>\n",
       "      <th id=\"T_6778e_level0_row43\" class=\"row_heading level0 row43\" >141257</th>\n",
       "      <td id=\"T_6778e_row43_col0\" class=\"data row43 col0\" >·from</td>\n",
       "      <td id=\"T_6778e_row43_col1\" class=\"data row43 col1\" >·house·was·just·a·minute</td>\n",
       "      <td id=\"T_6778e_row43_col2\" class=\"data row43 col2\" >·a</td>\n",
       "      <td id=\"T_6778e_row43_col3\" class=\"data row43 col3\" >·house·was·just·a·minute|·from|·a</td>\n",
       "      <td id=\"T_6778e_row43_col4\" class=\"data row43 col4\" >1103</td>\n",
       "      <td id=\"T_6778e_row43_col5\" class=\"data row43 col5\" >73</td>\n",
       "      <td id=\"T_6778e_row43_col6\" class=\"data row43 col6\" >9.724441</td>\n",
       "    </tr>\n",
       "    <tr>\n",
       "      <th id=\"T_6778e_level0_row44\" class=\"row_heading level0 row44\" >145492</th>\n",
       "      <td id=\"T_6778e_row44_col0\" class=\"data row44 col0\" >·to</td>\n",
       "      <td id=\"T_6778e_row44_col1\" class=\"data row44 col1\" >·voice,·it·was·closer</td>\n",
       "      <td id=\"T_6778e_row44_col2\" class=\"data row44 col2\" >·the</td>\n",
       "      <td id=\"T_6778e_row44_col3\" class=\"data row44 col3\" >·voice,·it·was·closer|·to|·the</td>\n",
       "      <td id=\"T_6778e_row44_col4\" class=\"data row44 col4\" >1136</td>\n",
       "      <td id=\"T_6778e_row44_col5\" class=\"data row44 col5\" >84</td>\n",
       "      <td id=\"T_6778e_row44_col6\" class=\"data row44 col6\" >9.685815</td>\n",
       "    </tr>\n",
       "    <tr>\n",
       "      <th id=\"T_6778e_level0_row45\" class=\"row_heading level0 row45\" >139651</th>\n",
       "      <td id=\"T_6778e_row45_col0\" class=\"data row45 col0\" >arest</td>\n",
       "      <td id=\"T_6778e_row45_col1\" class=\"data row45 col1\" >↩\n",
       "↩\n",
       "Ne</td>\n",
       "      <td id=\"T_6778e_row45_col2\" class=\"data row45 col2\" >·neighbour</td>\n",
       "      <td id=\"T_6778e_row45_col3\" class=\"data row45 col3\" >↩\n",
       "↩\n",
       "Ne|arest|·neighbour</td>\n",
       "      <td id=\"T_6778e_row45_col4\" class=\"data row45 col4\" >1091</td>\n",
       "      <td id=\"T_6778e_row45_col5\" class=\"data row45 col5\" >3</td>\n",
       "      <td id=\"T_6778e_row45_col6\" class=\"data row45 col6\" >9.664637</td>\n",
       "    </tr>\n",
       "    <tr>\n",
       "      <th id=\"T_6778e_level0_row46\" class=\"row_heading level0 row46\" >57991</th>\n",
       "      <td id=\"T_6778e_row46_col0\" class=\"data row46 col0\" >·from</td>\n",
       "      <td id=\"T_6778e_row46_col1\" class=\"data row46 col1\" >·caught·less·than·5km</td>\n",
       "      <td id=\"T_6778e_row46_col2\" class=\"data row46 col2\" >·the</td>\n",
       "      <td id=\"T_6778e_row46_col3\" class=\"data row46 col3\" >·caught·less·than·5km|·from|·the</td>\n",
       "      <td id=\"T_6778e_row46_col4\" class=\"data row46 col4\" >453</td>\n",
       "      <td id=\"T_6778e_row46_col5\" class=\"data row46 col5\" >7</td>\n",
       "      <td id=\"T_6778e_row46_col6\" class=\"data row46 col6\" >9.463262</td>\n",
       "    </tr>\n",
       "    <tr>\n",
       "      <th id=\"T_6778e_level0_row47\" class=\"row_heading level0 row47\" >116707</th>\n",
       "      <td id=\"T_6778e_row47_col0\" class=\"data row47 col0\" >·towards</td>\n",
       "      <td id=\"T_6778e_row47_col1\" class=\"data row47 col1\" >·to·have·taken·a·stride</td>\n",
       "      <td id=\"T_6778e_row47_col2\" class=\"data row47 col2\" >·adding</td>\n",
       "      <td id=\"T_6778e_row47_col3\" class=\"data row47 col3\" >·to·have·taken·a·stride|·towards|·adding</td>\n",
       "      <td id=\"T_6778e_row47_col4\" class=\"data row47 col4\" >911</td>\n",
       "      <td id=\"T_6778e_row47_col5\" class=\"data row47 col5\" >99</td>\n",
       "      <td id=\"T_6778e_row47_col6\" class=\"data row47 col6\" >9.429535</td>\n",
       "    </tr>\n",
       "    <tr>\n",
       "      <th id=\"T_6778e_level0_row48\" class=\"row_heading level0 row48\" >6130</th>\n",
       "      <td id=\"T_6778e_row48_col0\" class=\"data row48 col0\" >·toward</td>\n",
       "      <td id=\"T_6778e_row48_col1\" class=\"data row48 col1\" >·United·States·as·Washington·moves</td>\n",
       "      <td id=\"T_6778e_row48_col2\" class=\"data row48 col2\" >·a</td>\n",
       "      <td id=\"T_6778e_row48_col3\" class=\"data row48 col3\" >·United·States·as·Washington·moves|·toward|·a</td>\n",
       "      <td id=\"T_6778e_row48_col4\" class=\"data row48 col4\" >47</td>\n",
       "      <td id=\"T_6778e_row48_col5\" class=\"data row48 col5\" >114</td>\n",
       "      <td id=\"T_6778e_row48_col6\" class=\"data row48 col6\" >8.910716</td>\n",
       "    </tr>\n",
       "    <tr>\n",
       "      <th id=\"T_6778e_level0_row49\" class=\"row_heading level0 row49\" >78173</th>\n",
       "      <td id=\"T_6778e_row49_col0\" class=\"data row49 col0\" >·nearly</td>\n",
       "      <td id=\"T_6778e_row49_col1\" class=\"data row49 col1\" >·in·the·life·support·chamber</td>\n",
       "      <td id=\"T_6778e_row49_col2\" class=\"data row49 col2\" >·knocked</td>\n",
       "      <td id=\"T_6778e_row49_col3\" class=\"data row49 col3\" >·in·the·life·support·chamber|·nearly|·knocked</td>\n",
       "      <td id=\"T_6778e_row49_col4\" class=\"data row49 col4\" >610</td>\n",
       "      <td id=\"T_6778e_row49_col5\" class=\"data row49 col5\" >93</td>\n",
       "      <td id=\"T_6778e_row49_col6\" class=\"data row49 col6\" >8.897058</td>\n",
       "    </tr>\n",
       "    <tr>\n",
       "      <th id=\"T_6778e_level0_row50\" class=\"row_heading level0 row50\" >146906</th>\n",
       "      <td id=\"T_6778e_row50_col0\" class=\"data row50 col0\" >·near</td>\n",
       "      <td id=\"T_6778e_row50_col1\" class=\"data row50 col1\" >·a·12-acre·estate</td>\n",
       "      <td id=\"T_6778e_row50_col2\" class=\"data row50 col2\" >·the</td>\n",
       "      <td id=\"T_6778e_row50_col3\" class=\"data row50 col3\" >·a·12-acre·estate|·near|·the</td>\n",
       "      <td id=\"T_6778e_row50_col4\" class=\"data row50 col4\" >1147</td>\n",
       "      <td id=\"T_6778e_row50_col5\" class=\"data row50 col5\" >90</td>\n",
       "      <td id=\"T_6778e_row50_col6\" class=\"data row50 col6\" >8.859926</td>\n",
       "    </tr>\n",
       "    <tr>\n",
       "      <th id=\"T_6778e_level0_row51\" class=\"row_heading level0 row51\" >23920</th>\n",
       "      <td id=\"T_6778e_row51_col0\" class=\"data row51 col0\" >·on</td>\n",
       "      <td id=\"T_6778e_row51_col1\" class=\"data row51 col1\" >·I'm·teetering</td>\n",
       "      <td id=\"T_6778e_row51_col2\" class=\"data row51 col2\" >·bu</td>\n",
       "      <td id=\"T_6778e_row51_col3\" class=\"data row51 col3\" >·I'm·teetering|·on|·bu</td>\n",
       "      <td id=\"T_6778e_row51_col4\" class=\"data row51 col4\" >186</td>\n",
       "      <td id=\"T_6778e_row51_col5\" class=\"data row51 col5\" >112</td>\n",
       "      <td id=\"T_6778e_row51_col6\" class=\"data row51 col6\" >8.678675</td>\n",
       "    </tr>\n",
       "    <tr>\n",
       "      <th id=\"T_6778e_level0_row52\" class=\"row_heading level0 row52\" >136769</th>\n",
       "      <td id=\"T_6778e_row52_col0\" class=\"data row52 col0\" >·near</td>\n",
       "      <td id=\"T_6778e_row52_col1\" class=\"data row52 col1\" >,·including·in·an·area</td>\n",
       "      <td id=\"T_6778e_row52_col2\" class=\"data row52 col2\" >·a</td>\n",
       "      <td id=\"T_6778e_row52_col3\" class=\"data row52 col3\" >,·including·in·an·area|·near|·a</td>\n",
       "      <td id=\"T_6778e_row52_col4\" class=\"data row52 col4\" >1068</td>\n",
       "      <td id=\"T_6778e_row52_col5\" class=\"data row52 col5\" >65</td>\n",
       "      <td id=\"T_6778e_row52_col6\" class=\"data row52 col6\" >8.663887</td>\n",
       "    </tr>\n",
       "    <tr>\n",
       "      <th id=\"T_6778e_level0_row53\" class=\"row_heading level0 row53\" >42253</th>\n",
       "      <td id=\"T_6778e_row53_col0\" class=\"data row53 col0\" >·nearly</td>\n",
       "      <td id=\"T_6778e_row53_col1\" class=\"data row53 col1\" >·eighty·people·showed·up,</td>\n",
       "      <td id=\"T_6778e_row53_col2\" class=\"data row53 col2\" >·all</td>\n",
       "      <td id=\"T_6778e_row53_col3\" class=\"data row53 col3\" >·eighty·people·showed·up,|·nearly|·all</td>\n",
       "      <td id=\"T_6778e_row53_col4\" class=\"data row53 col4\" >330</td>\n",
       "      <td id=\"T_6778e_row53_col5\" class=\"data row53 col5\" >13</td>\n",
       "      <td id=\"T_6778e_row53_col6\" class=\"data row53 col6\" >8.642396</td>\n",
       "    </tr>\n",
       "    <tr>\n",
       "      <th id=\"T_6778e_level0_row54\" class=\"row_heading level0 row54\" >45067</th>\n",
       "      <td id=\"T_6778e_row54_col0\" class=\"data row54 col0\" >·from</td>\n",
       "      <td id=\"T_6778e_row54_col1\" class=\"data row54 col1\" >·cabinet·papers·show·that·far</td>\n",
       "      <td id=\"T_6778e_row54_col2\" class=\"data row54 col2\" >·being</td>\n",
       "      <td id=\"T_6778e_row54_col3\" class=\"data row54 col3\" >·cabinet·papers·show·that·far|·from|·being</td>\n",
       "      <td id=\"T_6778e_row54_col4\" class=\"data row54 col4\" >352</td>\n",
       "      <td id=\"T_6778e_row54_col5\" class=\"data row54 col5\" >11</td>\n",
       "      <td id=\"T_6778e_row54_col6\" class=\"data row54 col6\" >8.221716</td>\n",
       "    </tr>\n",
       "    <tr>\n",
       "      <th id=\"T_6778e_level0_row55\" class=\"row_heading level0 row55\" >4538</th>\n",
       "      <td id=\"T_6778e_row55_col0\" class=\"data row55 col0\" >·nearly</td>\n",
       "      <td id=\"T_6778e_row55_col1\" class=\"data row55 col1\" >·the·underlying·pages·are·not</td>\n",
       "      <td id=\"T_6778e_row55_col2\" class=\"data row55 col2\" >·as</td>\n",
       "      <td id=\"T_6778e_row55_col3\" class=\"data row55 col3\" >·the·underlying·pages·are·not|·nearly|·as</td>\n",
       "      <td id=\"T_6778e_row55_col4\" class=\"data row55 col4\" >35</td>\n",
       "      <td id=\"T_6778e_row55_col5\" class=\"data row55 col5\" >58</td>\n",
       "      <td id=\"T_6778e_row55_col6\" class=\"data row55 col6\" >8.217828</td>\n",
       "    </tr>\n",
       "    <tr>\n",
       "      <th id=\"T_6778e_level0_row56\" class=\"row_heading level0 row56\" >102323</th>\n",
       "      <td id=\"T_6778e_row56_col0\" class=\"data row56 col0\" >·almost</td>\n",
       "      <td id=\"T_6778e_row56_col1\" class=\"data row56 col1\" >·has·plummeted·to</td>\n",
       "      <td id=\"T_6778e_row56_col2\" class=\"data row56 col2\" >·4</td>\n",
       "      <td id=\"T_6778e_row56_col3\" class=\"data row56 col3\" >·has·plummeted·to|·almost|·4</td>\n",
       "      <td id=\"T_6778e_row56_col4\" class=\"data row56 col4\" >799</td>\n",
       "      <td id=\"T_6778e_row56_col5\" class=\"data row56 col5\" >51</td>\n",
       "      <td id=\"T_6778e_row56_col6\" class=\"data row56 col6\" >7.337019</td>\n",
       "    </tr>\n",
       "    <tr>\n",
       "      <th id=\"T_6778e_level0_row57\" class=\"row_heading level0 row57\" >145447</th>\n",
       "      <td id=\"T_6778e_row57_col0\" class=\"data row57 col0\" >·towards</td>\n",
       "      <td id=\"T_6778e_row57_col1\" class=\"data row57 col1\" >-\"·Weiss·made·her·way</td>\n",
       "      <td id=\"T_6778e_row57_col2\" class=\"data row57 col2\" >·the</td>\n",
       "      <td id=\"T_6778e_row57_col3\" class=\"data row57 col3\" >-\"·Weiss·made·her·way|·towards|·the</td>\n",
       "      <td id=\"T_6778e_row57_col4\" class=\"data row57 col4\" >1136</td>\n",
       "      <td id=\"T_6778e_row57_col5\" class=\"data row57 col5\" >39</td>\n",
       "      <td id=\"T_6778e_row57_col6\" class=\"data row57 col6\" >7.309182</td>\n",
       "    </tr>\n",
       "    <tr>\n",
       "      <th id=\"T_6778e_level0_row58\" class=\"row_heading level0 row58\" >141979</th>\n",
       "      <td id=\"T_6778e_row58_col0\" class=\"data row58 col0\" >·to</td>\n",
       "      <td id=\"T_6778e_row58_col1\" class=\"data row58 col1\" >·caused·\"the·nearest·thing</td>\n",
       "      <td id=\"T_6778e_row58_col2\" class=\"data row58 col2\" >·a</td>\n",
       "      <td id=\"T_6778e_row58_col3\" class=\"data row58 col3\" >·caused·\"the·nearest·thing|·to|·a</td>\n",
       "      <td id=\"T_6778e_row58_col4\" class=\"data row58 col4\" >1109</td>\n",
       "      <td id=\"T_6778e_row58_col5\" class=\"data row58 col5\" >27</td>\n",
       "      <td id=\"T_6778e_row58_col6\" class=\"data row58 col6\" >7.128179</td>\n",
       "    </tr>\n",
       "    <tr>\n",
       "      <th id=\"T_6778e_level0_row59\" class=\"row_heading level0 row59\" >5226</th>\n",
       "      <td id=\"T_6778e_row59_col0\" class=\"data row59 col0\" >·towards</td>\n",
       "      <td id=\"T_6778e_row59_col1\" class=\"data row59 col1\" >·measurements·indicate·it·is·moving</td>\n",
       "      <td id=\"T_6778e_row59_col2\" class=\"data row59 col2\" >·Siber</td>\n",
       "      <td id=\"T_6778e_row59_col3\" class=\"data row59 col3\" >·measurements·indicate·it·is·moving|·towards|·Siber</td>\n",
       "      <td id=\"T_6778e_row59_col4\" class=\"data row59 col4\" >40</td>\n",
       "      <td id=\"T_6778e_row59_col5\" class=\"data row59 col5\" >106</td>\n",
       "      <td id=\"T_6778e_row59_col6\" class=\"data row59 col6\" >6.614983</td>\n",
       "    </tr>\n",
       "    <tr>\n",
       "      <th id=\"T_6778e_level0_row60\" class=\"row_heading level0 row60\" >74964</th>\n",
       "      <td id=\"T_6778e_row60_col0\" class=\"data row60 col0\" >·nearly</td>\n",
       "      <td id=\"T_6778e_row60_col1\" class=\"data row60 col1\" >·does·“Palestine,”</td>\n",
       "      <td id=\"T_6778e_row60_col2\" class=\"data row60 col2\" >·all</td>\n",
       "      <td id=\"T_6778e_row60_col3\" class=\"data row60 col3\" >·does·“Palestine,”|·nearly|·all</td>\n",
       "      <td id=\"T_6778e_row60_col4\" class=\"data row60 col4\" >585</td>\n",
       "      <td id=\"T_6778e_row60_col5\" class=\"data row60 col5\" >84</td>\n",
       "      <td id=\"T_6778e_row60_col6\" class=\"data row60 col6\" >6.381530</td>\n",
       "    </tr>\n",
       "    <tr>\n",
       "      <th id=\"T_6778e_level0_row61\" class=\"row_heading level0 row61\" >157659</th>\n",
       "      <td id=\"T_6778e_row61_col0\" class=\"data row61 col0\" >·the</td>\n",
       "      <td id=\"T_6778e_row61_col1\" class=\"data row61 col1\" >·the·closer·we·get·to</td>\n",
       "      <td id=\"T_6778e_row61_col2\" class=\"data row61 col2\" >·season</td>\n",
       "      <td id=\"T_6778e_row61_col3\" class=\"data row61 col3\" >·the·closer·we·get·to|·the|·season</td>\n",
       "      <td id=\"T_6778e_row61_col4\" class=\"data row61 col4\" >1231</td>\n",
       "      <td id=\"T_6778e_row61_col5\" class=\"data row61 col5\" >91</td>\n",
       "      <td id=\"T_6778e_row61_col6\" class=\"data row61 col6\" >6.241661</td>\n",
       "    </tr>\n",
       "    <tr>\n",
       "      <th id=\"T_6778e_level0_row62\" class=\"row_heading level0 row62\" >91604</th>\n",
       "      <td id=\"T_6778e_row62_col0\" class=\"data row62 col0\" >·nearby</td>\n",
       "      <td id=\"T_6778e_row62_col1\" class=\"data row62 col1\" >,·in·the·abandoned·buildings</td>\n",
       "      <td id=\"T_6778e_row62_col2\" class=\"data row62 col2\" >·where</td>\n",
       "      <td id=\"T_6778e_row62_col3\" class=\"data row62 col3\" >,·in·the·abandoned·buildings|·nearby|·where</td>\n",
       "      <td id=\"T_6778e_row62_col4\" class=\"data row62 col4\" >715</td>\n",
       "      <td id=\"T_6778e_row62_col5\" class=\"data row62 col5\" >84</td>\n",
       "      <td id=\"T_6778e_row62_col6\" class=\"data row62 col6\" >6.114814</td>\n",
       "    </tr>\n",
       "    <tr>\n",
       "      <th id=\"T_6778e_level0_row63\" class=\"row_heading level0 row63\" >40906</th>\n",
       "      <td id=\"T_6778e_row63_col0\" class=\"data row63 col0\" >·the</td>\n",
       "      <td id=\"T_6778e_row63_col1\" class=\"data row63 col1\" >·was·a·boring·division·toward</td>\n",
       "      <td id=\"T_6778e_row63_col2\" class=\"data row63 col2\" >·end</td>\n",
       "      <td id=\"T_6778e_row63_col3\" class=\"data row63 col3\" >·was·a·boring·division·toward|·the|·end</td>\n",
       "      <td id=\"T_6778e_row63_col4\" class=\"data row63 col4\" >319</td>\n",
       "      <td id=\"T_6778e_row63_col5\" class=\"data row63 col5\" >74</td>\n",
       "      <td id=\"T_6778e_row63_col6\" class=\"data row63 col6\" >6.040173</td>\n",
       "    </tr>\n",
       "    <tr>\n",
       "      <th id=\"T_6778e_level0_row64\" class=\"row_heading level0 row64\" >83793</th>\n",
       "      <td id=\"T_6778e_row64_col0\" class=\"data row64 col0\" >-</td>\n",
       "      <td id=\"T_6778e_row64_col1\" class=\"data row64 col1\" >·pet·and·pose·with·soon</td>\n",
       "      <td id=\"T_6778e_row64_col2\" class=\"data row64 col2\" >to</td>\n",
       "      <td id=\"T_6778e_row64_col3\" class=\"data row64 col3\" >·pet·and·pose·with·soon|-|to</td>\n",
       "      <td id=\"T_6778e_row64_col4\" class=\"data row64 col4\" >654</td>\n",
       "      <td id=\"T_6778e_row64_col5\" class=\"data row64 col5\" >81</td>\n",
       "      <td id=\"T_6778e_row64_col6\" class=\"data row64 col6\" >5.876533</td>\n",
       "    </tr>\n",
       "    <tr>\n",
       "      <th id=\"T_6778e_level0_row65\" class=\"row_heading level0 row65\" >108559</th>\n",
       "      <td id=\"T_6778e_row65_col0\" class=\"data row65 col0\" >·nearly</td>\n",
       "      <td id=\"T_6778e_row65_col1\" class=\"data row65 col1\" >↩\n",
       "↩\n",
       "The·identities·of</td>\n",
       "      <td id=\"T_6778e_row65_col2\" class=\"data row65 col2\" >·all</td>\n",
       "      <td id=\"T_6778e_row65_col3\" class=\"data row65 col3\" >↩\n",
       "↩\n",
       "The·identities·of|·nearly|·all</td>\n",
       "      <td id=\"T_6778e_row65_col4\" class=\"data row65 col4\" >848</td>\n",
       "      <td id=\"T_6778e_row65_col5\" class=\"data row65 col5\" >15</td>\n",
       "      <td id=\"T_6778e_row65_col6\" class=\"data row65 col6\" >5.586702</td>\n",
       "    </tr>\n",
       "    <tr>\n",
       "      <th id=\"T_6778e_level0_row66\" class=\"row_heading level0 row66\" >66971</th>\n",
       "      <td id=\"T_6778e_row66_col0\" class=\"data row66 col0\" >·nearly</td>\n",
       "      <td id=\"T_6778e_row66_col1\" class=\"data row66 col1\" >,000·bikes,·with</td>\n",
       "      <td id=\"T_6778e_row66_col2\" class=\"data row66 col2\" >·half</td>\n",
       "      <td id=\"T_6778e_row66_col3\" class=\"data row66 col3\" >,000·bikes,·with|·nearly|·half</td>\n",
       "      <td id=\"T_6778e_row66_col4\" class=\"data row66 col4\" >523</td>\n",
       "      <td id=\"T_6778e_row66_col5\" class=\"data row66 col5\" >27</td>\n",
       "      <td id=\"T_6778e_row66_col6\" class=\"data row66 col6\" >5.298451</td>\n",
       "    </tr>\n",
       "    <tr>\n",
       "      <th id=\"T_6778e_level0_row67\" class=\"row_heading level0 row67\" >4922</th>\n",
       "      <td id=\"T_6778e_row67_col0\" class=\"data row67 col0\" >·near</td>\n",
       "      <td id=\"T_6778e_row67_col1\" class=\"data row67 col1\" >·Fulham·Correctional·Centre</td>\n",
       "      <td id=\"T_6778e_row67_col2\" class=\"data row67 col2\" >·Sale</td>\n",
       "      <td id=\"T_6778e_row67_col3\" class=\"data row67 col3\" >·Fulham·Correctional·Centre|·near|·Sale</td>\n",
       "      <td id=\"T_6778e_row67_col4\" class=\"data row67 col4\" >38</td>\n",
       "      <td id=\"T_6778e_row67_col5\" class=\"data row67 col5\" >58</td>\n",
       "      <td id=\"T_6778e_row67_col6\" class=\"data row67 col6\" >5.077239</td>\n",
       "    </tr>\n",
       "    <tr>\n",
       "      <th id=\"T_6778e_level0_row68\" class=\"row_heading level0 row68\" >82782</th>\n",
       "      <td id=\"T_6778e_row68_col0\" class=\"data row68 col0\" >·outside</td>\n",
       "      <td id=\"T_6778e_row68_col1\" class=\"data row68 col1\" >·at·Harvard·University,·just</td>\n",
       "      <td id=\"T_6778e_row68_col2\" class=\"data row68 col2\" >·Boston</td>\n",
       "      <td id=\"T_6778e_row68_col3\" class=\"data row68 col3\" >·at·Harvard·University,·just|·outside|·Boston</td>\n",
       "      <td id=\"T_6778e_row68_col4\" class=\"data row68 col4\" >646</td>\n",
       "      <td id=\"T_6778e_row68_col5\" class=\"data row68 col5\" >94</td>\n",
       "      <td id=\"T_6778e_row68_col6\" class=\"data row68 col6\" >4.515485</td>\n",
       "    </tr>\n",
       "    <tr>\n",
       "      <th id=\"T_6778e_level0_row69\" class=\"row_heading level0 row69\" >116291</th>\n",
       "      <td id=\"T_6778e_row69_col0\" class=\"data row69 col0\" >·close</td>\n",
       "      <td id=\"T_6778e_row69_col1\" class=\"data row69 col1\" >·kidneys,·and·he·came</td>\n",
       "      <td id=\"T_6778e_row69_col2\" class=\"data row69 col2\" >·to</td>\n",
       "      <td id=\"T_6778e_row69_col3\" class=\"data row69 col3\" >·kidneys,·and·he·came|·close|·to</td>\n",
       "      <td id=\"T_6778e_row69_col4\" class=\"data row69 col4\" >908</td>\n",
       "      <td id=\"T_6778e_row69_col5\" class=\"data row69 col5\" >67</td>\n",
       "      <td id=\"T_6778e_row69_col6\" class=\"data row69 col6\" >4.484770</td>\n",
       "    </tr>\n",
       "    <tr>\n",
       "      <th id=\"T_6778e_level0_row70\" class=\"row_heading level0 row70\" >9149</th>\n",
       "      <td id=\"T_6778e_row70_col0\" class=\"data row70 col0\" >·to</td>\n",
       "      <td id=\"T_6778e_row70_col1\" class=\"data row70 col1\" >·of·the·aircraft·and·next</td>\n",
       "      <td id=\"T_6778e_row70_col2\" class=\"data row70 col2\" >·the</td>\n",
       "      <td id=\"T_6778e_row70_col3\" class=\"data row70 col3\" >·of·the·aircraft·and·next|·to|·the</td>\n",
       "      <td id=\"T_6778e_row70_col4\" class=\"data row70 col4\" >71</td>\n",
       "      <td id=\"T_6778e_row70_col5\" class=\"data row70 col5\" >61</td>\n",
       "      <td id=\"T_6778e_row70_col6\" class=\"data row70 col6\" >4.480072</td>\n",
       "    </tr>\n",
       "    <tr>\n",
       "      <th id=\"T_6778e_level0_row71\" class=\"row_heading level0 row71\" >97865</th>\n",
       "      <td id=\"T_6778e_row71_col0\" class=\"data row71 col0\" >·to</td>\n",
       "      <td id=\"T_6778e_row71_col1\" class=\"data row71 col1\" >'t·want·to·live·next</td>\n",
       "      <td id=\"T_6778e_row71_col2\" class=\"data row71 col2\" >·poor</td>\n",
       "      <td id=\"T_6778e_row71_col3\" class=\"data row71 col3\" >'t·want·to·live·next|·to|·poor</td>\n",
       "      <td id=\"T_6778e_row71_col4\" class=\"data row71 col4\" >764</td>\n",
       "      <td id=\"T_6778e_row71_col5\" class=\"data row71 col5\" >73</td>\n",
       "      <td id=\"T_6778e_row71_col6\" class=\"data row71 col6\" >4.451966</td>\n",
       "    </tr>\n",
       "    <tr>\n",
       "      <th id=\"T_6778e_level0_row72\" class=\"row_heading level0 row72\" >109755</th>\n",
       "      <td id=\"T_6778e_row72_col0\" class=\"data row72 col0\" >·Nearly</td>\n",
       "      <td id=\"T_6778e_row72_col1\" class=\"data row72 col1\" >·taxing·commutes.</td>\n",
       "      <td id=\"T_6778e_row72_col2\" class=\"data row72 col2\" >·every</td>\n",
       "      <td id=\"T_6778e_row72_col3\" class=\"data row72 col3\" >·taxing·commutes.|·Nearly|·every</td>\n",
       "      <td id=\"T_6778e_row72_col4\" class=\"data row72 col4\" >857</td>\n",
       "      <td id=\"T_6778e_row72_col5\" class=\"data row72 col5\" >59</td>\n",
       "      <td id=\"T_6778e_row72_col6\" class=\"data row72 col6\" >4.430804</td>\n",
       "    </tr>\n",
       "    <tr>\n",
       "      <th id=\"T_6778e_level0_row73\" class=\"row_heading level0 row73\" >114608</th>\n",
       "      <td id=\"T_6778e_row73_col0\" class=\"data row73 col0\" >·off</td>\n",
       "      <td id=\"T_6778e_row73_col1\" class=\"data row73 col1\" >·to·build·it.·Right</td>\n",
       "      <td id=\"T_6778e_row73_col2\" class=\"data row73 col2\" >·the</td>\n",
       "      <td id=\"T_6778e_row73_col3\" class=\"data row73 col3\" >·to·build·it.·Right|·off|·the</td>\n",
       "      <td id=\"T_6778e_row73_col4\" class=\"data row73 col4\" >895</td>\n",
       "      <td id=\"T_6778e_row73_col5\" class=\"data row73 col5\" >48</td>\n",
       "      <td id=\"T_6778e_row73_col6\" class=\"data row73 col6\" >4.349617</td>\n",
       "    </tr>\n",
       "    <tr>\n",
       "      <th id=\"T_6778e_level0_row74\" class=\"row_heading level0 row74\" >9085</th>\n",
       "      <td id=\"T_6778e_row74_col0\" class=\"data row74 col0\" >·to</td>\n",
       "      <td id=\"T_6778e_row74_col1\" class=\"data row74 col1\" >·to·not·seating·minors·next</td>\n",
       "      <td id=\"T_6778e_row74_col2\" class=\"data row74 col2\" >·male</td>\n",
       "      <td id=\"T_6778e_row74_col3\" class=\"data row74 col3\" >·to·not·seating·minors·next|·to|·male</td>\n",
       "      <td id=\"T_6778e_row74_col4\" class=\"data row74 col4\" >70</td>\n",
       "      <td id=\"T_6778e_row74_col5\" class=\"data row74 col5\" >125</td>\n",
       "      <td id=\"T_6778e_row74_col6\" class=\"data row74 col6\" >4.314282</td>\n",
       "    </tr>\n",
       "    <tr>\n",
       "      <th id=\"T_6778e_level0_row75\" class=\"row_heading level0 row75\" >49542</th>\n",
       "      <td id=\"T_6778e_row75_col0\" class=\"data row75 col0\" >·almost</td>\n",
       "      <td id=\"T_6778e_row75_col1\" class=\"data row75 col1\" >↩\n",
       "The·New·Year·is</td>\n",
       "      <td id=\"T_6778e_row75_col2\" class=\"data row75 col2\" >·here</td>\n",
       "      <td id=\"T_6778e_row75_col3\" class=\"data row75 col3\" >↩\n",
       "The·New·Year·is|·almost|·here</td>\n",
       "      <td id=\"T_6778e_row75_col4\" class=\"data row75 col4\" >387</td>\n",
       "      <td id=\"T_6778e_row75_col5\" class=\"data row75 col5\" >6</td>\n",
       "      <td id=\"T_6778e_row75_col6\" class=\"data row75 col6\" >4.253842</td>\n",
       "    </tr>\n",
       "    <tr>\n",
       "      <th id=\"T_6778e_level0_row76\" class=\"row_heading level0 row76\" >9167</th>\n",
       "      <td id=\"T_6778e_row76_col0\" class=\"data row76 col0\" >·to</td>\n",
       "      <td id=\"T_6778e_row76_col1\" class=\"data row76 col1\" >·seat·is·kept·empty·next</td>\n",
       "      <td id=\"T_6778e_row76_col2\" class=\"data row76 col2\" >·un</td>\n",
       "      <td id=\"T_6778e_row76_col3\" class=\"data row76 col3\" >·seat·is·kept·empty·next|·to|·un</td>\n",
       "      <td id=\"T_6778e_row76_col4\" class=\"data row76 col4\" >71</td>\n",
       "      <td id=\"T_6778e_row76_col5\" class=\"data row76 col5\" >79</td>\n",
       "      <td id=\"T_6778e_row76_col6\" class=\"data row76 col6\" >4.130598</td>\n",
       "    </tr>\n",
       "    <tr>\n",
       "      <th id=\"T_6778e_level0_row77\" class=\"row_heading level0 row77\" >53880</th>\n",
       "      <td id=\"T_6778e_row77_col0\" class=\"data row77 col0\" >·of</td>\n",
       "      <td id=\"T_6778e_row77_col1\" class=\"data row77 col1\" >·of·frustration·to·the·point</td>\n",
       "      <td id=\"T_6778e_row77_col2\" class=\"data row77 col2\" >·rep</td>\n",
       "      <td id=\"T_6778e_row77_col3\" class=\"data row77 col3\" >·of·frustration·to·the·point|·of|·rep</td>\n",
       "      <td id=\"T_6778e_row77_col4\" class=\"data row77 col4\" >420</td>\n",
       "      <td id=\"T_6778e_row77_col5\" class=\"data row77 col5\" >120</td>\n",
       "      <td id=\"T_6778e_row77_col6\" class=\"data row77 col6\" >3.966164</td>\n",
       "    </tr>\n",
       "    <tr>\n",
       "      <th id=\"T_6778e_level0_row78\" class=\"row_heading level0 row78\" >55188</th>\n",
       "      <td id=\"T_6778e_row78_col0\" class=\"data row78 col0\" >·approach</td>\n",
       "      <td id=\"T_6778e_row78_col1\" class=\"data row78 col1\" >·moon·saw·the·warden</td>\n",
       "      <td id=\"T_6778e_row78_col2\" class=\"data row78 col2\" >.</td>\n",
       "      <td id=\"T_6778e_row78_col3\" class=\"data row78 col3\" >·moon·saw·the·warden|·approach|.</td>\n",
       "      <td id=\"T_6778e_row78_col4\" class=\"data row78 col4\" >431</td>\n",
       "      <td id=\"T_6778e_row78_col5\" class=\"data row78 col5\" >20</td>\n",
       "      <td id=\"T_6778e_row78_col6\" class=\"data row78 col6\" >3.928756</td>\n",
       "    </tr>\n",
       "    <tr>\n",
       "      <th id=\"T_6778e_level0_row79\" class=\"row_heading level0 row79\" >137738</th>\n",
       "      <td id=\"T_6778e_row79_col0\" class=\"data row79 col0\" >·verge</td>\n",
       "      <td id=\"T_6778e_row79_col1\" class=\"data row79 col1\" >·this,·as·professors·frequently</td>\n",
       "      <td id=\"T_6778e_row79_col2\" class=\"data row79 col2\" >·a</td>\n",
       "      <td id=\"T_6778e_row79_col3\" class=\"data row79 col3\" >·this,·as·professors·frequently|·verge|·a</td>\n",
       "      <td id=\"T_6778e_row79_col4\" class=\"data row79 col4\" >1076</td>\n",
       "      <td id=\"T_6778e_row79_col5\" class=\"data row79 col5\" >10</td>\n",
       "      <td id=\"T_6778e_row79_col6\" class=\"data row79 col6\" >3.728050</td>\n",
       "    </tr>\n",
       "    <tr>\n",
       "      <th id=\"T_6778e_level0_row80\" class=\"row_heading level0 row80\" >151613</th>\n",
       "      <td id=\"T_6778e_row80_col0\" class=\"data row80 col0\" >·passed</td>\n",
       "      <td id=\"T_6778e_row80_col1\" class=\"data row80 col1\" >·life.·We·currently·just</td>\n",
       "      <td id=\"T_6778e_row80_col2\" class=\"data row80 col2\" >·the</td>\n",
       "      <td id=\"T_6778e_row80_col3\" class=\"data row80 col3\" >·life.·We·currently·just|·passed|·the</td>\n",
       "      <td id=\"T_6778e_row80_col4\" class=\"data row80 col4\" >1184</td>\n",
       "      <td id=\"T_6778e_row80_col5\" class=\"data row80 col5\" >61</td>\n",
       "      <td id=\"T_6778e_row80_col6\" class=\"data row80 col6\" >3.708641</td>\n",
       "    </tr>\n",
       "    <tr>\n",
       "      <th id=\"T_6778e_level0_row81\" class=\"row_heading level0 row81\" >49563</th>\n",
       "      <td id=\"T_6778e_row81_col0\" class=\"data row81 col0\" >·almost</td>\n",
       "      <td id=\"T_6778e_row81_col1\" class=\"data row81 col1\" >↩\n",
       "The·New·Year·is</td>\n",
       "      <td id=\"T_6778e_row81_col2\" class=\"data row81 col2\" >·here</td>\n",
       "      <td id=\"T_6778e_row81_col3\" class=\"data row81 col3\" >↩\n",
       "The·New·Year·is|·almost|·here</td>\n",
       "      <td id=\"T_6778e_row81_col4\" class=\"data row81 col4\" >387</td>\n",
       "      <td id=\"T_6778e_row81_col5\" class=\"data row81 col5\" >27</td>\n",
       "      <td id=\"T_6778e_row81_col6\" class=\"data row81 col6\" >3.338899</td>\n",
       "    </tr>\n",
       "    <tr>\n",
       "      <th id=\"T_6778e_level0_row82\" class=\"row_heading level0 row82\" >68543</th>\n",
       "      <td id=\"T_6778e_row82_col0\" class=\"data row82 col0\" >·nearby</td>\n",
       "      <td id=\"T_6778e_row82_col1\" class=\"data row82 col1\" >·good·enough·to·be·standing</td>\n",
       "      <td id=\"T_6778e_row82_col2\" class=\"data row82 col2\" >?</td>\n",
       "      <td id=\"T_6778e_row82_col3\" class=\"data row82 col3\" >·good·enough·to·be·standing|·nearby|?</td>\n",
       "      <td id=\"T_6778e_row82_col4\" class=\"data row82 col4\" >535</td>\n",
       "      <td id=\"T_6778e_row82_col5\" class=\"data row82 col5\" >63</td>\n",
       "      <td id=\"T_6778e_row82_col6\" class=\"data row82 col6\" >3.196523</td>\n",
       "    </tr>\n",
       "    <tr>\n",
       "      <th id=\"T_6778e_level0_row83\" class=\"row_heading level0 row83\" >41344</th>\n",
       "      <td id=\"T_6778e_row83_col0\" class=\"data row83 col0\" >·the</td>\n",
       "      <td id=\"T_6778e_row83_col1\" class=\"data row83 col1\" ></td>\n",
       "      <td id=\"T_6778e_row83_col2\" class=\"data row83 col2\" >·end</td>\n",
       "      <td id=\"T_6778e_row83_col3\" class=\"data row83 col3\" >|·the|·end</td>\n",
       "      <td id=\"T_6778e_row83_col4\" class=\"data row83 col4\" >323</td>\n",
       "      <td id=\"T_6778e_row83_col5\" class=\"data row83 col5\" >0</td>\n",
       "      <td id=\"T_6778e_row83_col6\" class=\"data row83 col6\" >3.130998</td>\n",
       "    </tr>\n",
       "    <tr>\n",
       "      <th id=\"T_6778e_level0_row84\" class=\"row_heading level0 row84\" >83795</th>\n",
       "      <td id=\"T_6778e_row84_col0\" class=\"data row84 col0\" >-</td>\n",
       "      <td id=\"T_6778e_row84_col1\" class=\"data row84 col1\" >·pose·with·soon-to</td>\n",
       "      <td id=\"T_6778e_row84_col2\" class=\"data row84 col2\" >be</td>\n",
       "      <td id=\"T_6778e_row84_col3\" class=\"data row84 col3\" >·pose·with·soon-to|-|be</td>\n",
       "      <td id=\"T_6778e_row84_col4\" class=\"data row84 col4\" >654</td>\n",
       "      <td id=\"T_6778e_row84_col5\" class=\"data row84 col5\" >83</td>\n",
       "      <td id=\"T_6778e_row84_col6\" class=\"data row84 col6\" >3.105010</td>\n",
       "    </tr>\n",
       "    <tr>\n",
       "      <th id=\"T_6778e_level0_row85\" class=\"row_heading level0 row85\" >112108</th>\n",
       "      <td id=\"T_6778e_row85_col0\" class=\"data row85 col0\" >·of</td>\n",
       "      <td id=\"T_6778e_row85_col1\" class=\"data row85 col1\" >·to·start·at·the·edge</td>\n",
       "      <td id=\"T_6778e_row85_col2\" class=\"data row85 col2\" >·the</td>\n",
       "      <td id=\"T_6778e_row85_col3\" class=\"data row85 col3\" >·to·start·at·the·edge|·of|·the</td>\n",
       "      <td id=\"T_6778e_row85_col4\" class=\"data row85 col4\" >875</td>\n",
       "      <td id=\"T_6778e_row85_col5\" class=\"data row85 col5\" >108</td>\n",
       "      <td id=\"T_6778e_row85_col6\" class=\"data row85 col6\" >3.094593</td>\n",
       "    </tr>\n",
       "    <tr>\n",
       "      <th id=\"T_6778e_level0_row86\" class=\"row_heading level0 row86\" >72781</th>\n",
       "      <td id=\"T_6778e_row86_col0\" class=\"data row86 col0\" >·on</td>\n",
       "      <td id=\"T_6778e_row86_col1\" class=\"data row86 col1\" >·quite·awhile—coming·up</td>\n",
       "      <td id=\"T_6778e_row86_col2\" class=\"data row86 col2\" >·twenty</td>\n",
       "      <td id=\"T_6778e_row86_col3\" class=\"data row86 col3\" >·quite·awhile—coming·up|·on|·twenty</td>\n",
       "      <td id=\"T_6778e_row86_col4\" class=\"data row86 col4\" >568</td>\n",
       "      <td id=\"T_6778e_row86_col5\" class=\"data row86 col5\" >77</td>\n",
       "      <td id=\"T_6778e_row86_col6\" class=\"data row86 col6\" >3.070376</td>\n",
       "    </tr>\n",
       "    <tr>\n",
       "      <th id=\"T_6778e_level0_row87\" class=\"row_heading level0 row87\" >34289</th>\n",
       "      <td id=\"T_6778e_row87_col0\" class=\"data row87 col0\" >·below</td>\n",
       "      <td id=\"T_6778e_row87_col1\" class=\"data row87 col1\" >↩\n",
       "↩\n",
       "Leicester·were</td>\n",
       "      <td id=\"T_6778e_row87_col2\" class=\"data row87 col2\" >·their</td>\n",
       "      <td id=\"T_6778e_row87_col3\" class=\"data row87 col3\" >↩\n",
       "↩\n",
       "Leicester·were|·below|·their</td>\n",
       "      <td id=\"T_6778e_row87_col4\" class=\"data row87 col4\" >267</td>\n",
       "      <td id=\"T_6778e_row87_col5\" class=\"data row87 col5\" >113</td>\n",
       "      <td id=\"T_6778e_row87_col6\" class=\"data row87 col6\" >2.995241</td>\n",
       "    </tr>\n",
       "    <tr>\n",
       "      <th id=\"T_6778e_level0_row88\" class=\"row_heading level0 row88\" >97406</th>\n",
       "      <td id=\"T_6778e_row88_col0\" class=\"data row88 col0\" >·off</td>\n",
       "      <td id=\"T_6778e_row88_col1\" class=\"data row88 col1\" >·a·corner·and·an·inch</td>\n",
       "      <td id=\"T_6778e_row88_col2\" class=\"data row88 col2\" ></td>\n",
       "      <td id=\"T_6778e_row88_col3\" class=\"data row88 col3\" >·a·corner·and·an·inch|·off|</td>\n",
       "      <td id=\"T_6778e_row88_col4\" class=\"data row88 col4\" >760</td>\n",
       "      <td id=\"T_6778e_row88_col5\" class=\"data row88 col5\" >126</td>\n",
       "      <td id=\"T_6778e_row88_col6\" class=\"data row88 col6\" >2.916482</td>\n",
       "    </tr>\n",
       "    <tr>\n",
       "      <th id=\"T_6778e_level0_row89\" class=\"row_heading level0 row89\" >49584</th>\n",
       "      <td id=\"T_6778e_row89_col0\" class=\"data row89 col0\" >·almost</td>\n",
       "      <td id=\"T_6778e_row89_col1\" class=\"data row89 col1\" >↩\n",
       "The·New·Year·is</td>\n",
       "      <td id=\"T_6778e_row89_col2\" class=\"data row89 col2\" >·here</td>\n",
       "      <td id=\"T_6778e_row89_col3\" class=\"data row89 col3\" >↩\n",
       "The·New·Year·is|·almost|·here</td>\n",
       "      <td id=\"T_6778e_row89_col4\" class=\"data row89 col4\" >387</td>\n",
       "      <td id=\"T_6778e_row89_col5\" class=\"data row89 col5\" >48</td>\n",
       "      <td id=\"T_6778e_row89_col6\" class=\"data row89 col6\" >2.902327</td>\n",
       "    </tr>\n",
       "    <tr>\n",
       "      <th id=\"T_6778e_level0_row90\" class=\"row_heading level0 row90\" >120638</th>\n",
       "      <td id=\"T_6778e_row90_col0\" class=\"data row90 col0\" >·threaten</td>\n",
       "      <td id=\"T_6778e_row90_col1\" class=\"data row90 col1\" >·heavyweights·that·might·all</td>\n",
       "      <td id=\"T_6778e_row90_col2\" class=\"data row90 col2\" >·100</td>\n",
       "      <td id=\"T_6778e_row90_col3\" class=\"data row90 col3\" >·heavyweights·that·might·all|·threaten|·100</td>\n",
       "      <td id=\"T_6778e_row90_col4\" class=\"data row90 col4\" >942</td>\n",
       "      <td id=\"T_6778e_row90_col5\" class=\"data row90 col5\" >62</td>\n",
       "      <td id=\"T_6778e_row90_col6\" class=\"data row90 col6\" >2.855517</td>\n",
       "    </tr>\n",
       "    <tr>\n",
       "      <th id=\"T_6778e_level0_row91\" class=\"row_heading level0 row91\" >13560</th>\n",
       "      <td id=\"T_6778e_row91_col0\" class=\"data row91 col0\" >·towards</td>\n",
       "      <td id=\"T_6778e_row91_col1\" class=\"data row91 col1\" >·a·club,·driving·him</td>\n",
       "      <td id=\"T_6778e_row91_col2\" class=\"data row91 col2\" >·the</td>\n",
       "      <td id=\"T_6778e_row91_col3\" class=\"data row91 col3\" >·a·club,·driving·him|·towards|·the</td>\n",
       "      <td id=\"T_6778e_row91_col4\" class=\"data row91 col4\" >105</td>\n",
       "      <td id=\"T_6778e_row91_col5\" class=\"data row91 col5\" >120</td>\n",
       "      <td id=\"T_6778e_row91_col6\" class=\"data row91 col6\" >2.846917</td>\n",
       "    </tr>\n",
       "    <tr>\n",
       "      <th id=\"T_6778e_level0_row92\" class=\"row_heading level0 row92\" >43734</th>\n",
       "      <td id=\"T_6778e_row92_col0\" class=\"data row92 col0\" >·from</td>\n",
       "      <td id=\"T_6778e_row92_col1\" class=\"data row92 col1\" >·which·is·a·few·feet</td>\n",
       "      <td id=\"T_6778e_row92_col2\" class=\"data row92 col2\" >·the</td>\n",
       "      <td id=\"T_6778e_row92_col3\" class=\"data row92 col3\" >·which·is·a·few·feet|·from|·the</td>\n",
       "      <td id=\"T_6778e_row92_col4\" class=\"data row92 col4\" >341</td>\n",
       "      <td id=\"T_6778e_row92_col5\" class=\"data row92 col5\" >86</td>\n",
       "      <td id=\"T_6778e_row92_col6\" class=\"data row92 col6\" >2.835032</td>\n",
       "    </tr>\n",
       "    <tr>\n",
       "      <th id=\"T_6778e_level0_row93\" class=\"row_heading level0 row93\" >8352</th>\n",
       "      <td id=\"T_6778e_row93_col0\" class=\"data row93 col0\" >·from</td>\n",
       "      <td id=\"T_6778e_row93_col1\" class=\"data row93 col1\" >·regulating·the·immune·responses·away</td>\n",
       "      <td id=\"T_6778e_row93_col2\" class=\"data row93 col2\" >·the</td>\n",
       "      <td id=\"T_6778e_row93_col3\" class=\"data row93 col3\" >·regulating·the·immune·responses·away|·from|·the</td>\n",
       "      <td id=\"T_6778e_row93_col4\" class=\"data row93 col4\" >65</td>\n",
       "      <td id=\"T_6778e_row93_col5\" class=\"data row93 col5\" >32</td>\n",
       "      <td id=\"T_6778e_row93_col6\" class=\"data row93 col6\" >2.802780</td>\n",
       "    </tr>\n",
       "    <tr>\n",
       "      <th id=\"T_6778e_level0_row94\" class=\"row_heading level0 row94\" >137739</th>\n",
       "      <td id=\"T_6778e_row94_col0\" class=\"data row94 col0\" >·a</td>\n",
       "      <td id=\"T_6778e_row94_col1\" class=\"data row94 col1\" >,·as·professors·frequently·verge</td>\n",
       "      <td id=\"T_6778e_row94_col2\" class=\"data row94 col2\" >·bit</td>\n",
       "      <td id=\"T_6778e_row94_col3\" class=\"data row94 col3\" >,·as·professors·frequently·verge|·a|·bit</td>\n",
       "      <td id=\"T_6778e_row94_col4\" class=\"data row94 col4\" >1076</td>\n",
       "      <td id=\"T_6778e_row94_col5\" class=\"data row94 col5\" >11</td>\n",
       "      <td id=\"T_6778e_row94_col6\" class=\"data row94 col6\" >2.736918</td>\n",
       "    </tr>\n",
       "    <tr>\n",
       "      <th id=\"T_6778e_level0_row95\" class=\"row_heading level0 row95\" >28253</th>\n",
       "      <td id=\"T_6778e_row95_col0\" class=\"data row95 col0\" >·towards</td>\n",
       "      <td id=\"T_6778e_row95_col1\" class=\"data row95 col1\" >·said,·if·you·lean</td>\n",
       "      <td id=\"T_6778e_row95_col2\" class=\"data row95 col2\" >·economics</td>\n",
       "      <td id=\"T_6778e_row95_col3\" class=\"data row95 col3\" >·said,·if·you·lean|·towards|·economics</td>\n",
       "      <td id=\"T_6778e_row95_col4\" class=\"data row95 col4\" >220</td>\n",
       "      <td id=\"T_6778e_row95_col5\" class=\"data row95 col5\" >93</td>\n",
       "      <td id=\"T_6778e_row95_col6\" class=\"data row95 col6\" >2.578556</td>\n",
       "    </tr>\n",
       "    <tr>\n",
       "      <th id=\"T_6778e_level0_row96\" class=\"row_heading level0 row96\" >145493</th>\n",
       "      <td id=\"T_6778e_row96_col0\" class=\"data row96 col0\" >·the</td>\n",
       "      <td id=\"T_6778e_row96_col1\" class=\"data row96 col1\" >,·it·was·closer·to</td>\n",
       "      <td id=\"T_6778e_row96_col2\" class=\"data row96 col2\" >·tone</td>\n",
       "      <td id=\"T_6778e_row96_col3\" class=\"data row96 col3\" >,·it·was·closer·to|·the|·tone</td>\n",
       "      <td id=\"T_6778e_row96_col4\" class=\"data row96 col4\" >1136</td>\n",
       "      <td id=\"T_6778e_row96_col5\" class=\"data row96 col5\" >85</td>\n",
       "      <td id=\"T_6778e_row96_col6\" class=\"data row96 col6\" >2.544923</td>\n",
       "    </tr>\n",
       "    <tr>\n",
       "      <th id=\"T_6778e_level0_row97\" class=\"row_heading level0 row97\" >11308</th>\n",
       "      <td id=\"T_6778e_row97_col0\" class=\"data row97 col0\" >·around</td>\n",
       "      <td id=\"T_6778e_row97_col1\" class=\"data row97 col1\" >t·take·any·time·off</td>\n",
       "      <td id=\"T_6778e_row97_col2\" class=\"data row97 col2\" >·the</td>\n",
       "      <td id=\"T_6778e_row97_col3\" class=\"data row97 col3\" >t·take·any·time·off|·around|·the</td>\n",
       "      <td id=\"T_6778e_row97_col4\" class=\"data row97 col4\" >88</td>\n",
       "      <td id=\"T_6778e_row97_col5\" class=\"data row97 col5\" >44</td>\n",
       "      <td id=\"T_6778e_row97_col6\" class=\"data row97 col6\" >2.494437</td>\n",
       "    </tr>\n",
       "    <tr>\n",
       "      <th id=\"T_6778e_level0_row98\" class=\"row_heading level0 row98\" >159104</th>\n",
       "      <td id=\"T_6778e_row98_col0\" class=\"data row98 col0\" >·from</td>\n",
       "      <td id=\"T_6778e_row98_col1\" class=\"data row98 col1\" ></td>\n",
       "      <td id=\"T_6778e_row98_col2\" class=\"data row98 col2\" >·her</td>\n",
       "      <td id=\"T_6778e_row98_col3\" class=\"data row98 col3\" >|·from|·her</td>\n",
       "      <td id=\"T_6778e_row98_col4\" class=\"data row98 col4\" >1243</td>\n",
       "      <td id=\"T_6778e_row98_col5\" class=\"data row98 col5\" >0</td>\n",
       "      <td id=\"T_6778e_row98_col6\" class=\"data row98 col6\" >2.377298</td>\n",
       "    </tr>\n",
       "    <tr>\n",
       "      <th id=\"T_6778e_level0_row99\" class=\"row_heading level0 row99\" >109680</th>\n",
       "      <td id=\"T_6778e_row99_col0\" class=\"data row99 col0\" >·nearly</td>\n",
       "      <td id=\"T_6778e_row99_col1\" class=\"data row99 col1\" >·unique·to·Los·Angeles—</td>\n",
       "      <td id=\"T_6778e_row99_col2\" class=\"data row99 col2\" >·every</td>\n",
       "      <td id=\"T_6778e_row99_col3\" class=\"data row99 col3\" >·unique·to·Los·Angeles—|·nearly|·every</td>\n",
       "      <td id=\"T_6778e_row99_col4\" class=\"data row99 col4\" >856</td>\n",
       "      <td id=\"T_6778e_row99_col5\" class=\"data row99 col5\" >112</td>\n",
       "      <td id=\"T_6778e_row99_col6\" class=\"data row99 col6\" >2.334015</td>\n",
       "    </tr>\n",
       "  </tbody>\n",
       "</table>\n"
      ],
      "text/plain": [
       "<pandas.io.formats.style.Styler at 0x7ff4f6027a90>"
      ]
     },
     "execution_count": 19,
     "metadata": {},
     "output_type": "execute_result"
    }
   ],
   "source": [
    "feature_id = 301\n",
    "\n",
    "metrics_with_text['token_df'][\"feature\"] = utils.to_numpy(metrics_with_text['learned_activations'][:, feature_id])\n",
    "df = metrics_with_text['token_df'][['str_tokens','prefix', 'suffix',  'context', 'batch', 'pos', 'feature']]\n",
    "df.sort_values(\"feature\", ascending=False).head(100).style.background_gradient(\"coolwarm\")"
   ]
  },
  {
   "cell_type": "code",
   "execution_count": null,
   "id": "5dc18abd-cf48-4708-adfc-cdc1fc9ad150",
   "metadata": {},
   "outputs": [],
   "source": []
  },
  {
   "cell_type": "code",
   "execution_count": null,
   "id": "56051f35-88a9-4f30-aeb3-100eca4a3e39",
   "metadata": {},
   "outputs": [],
   "source": []
  },
  {
   "cell_type": "code",
   "execution_count": null,
   "id": "25f7d6d4-e601-43c2-8d0c-d9e252b20c34",
   "metadata": {},
   "outputs": [],
   "source": []
  },
  {
   "cell_type": "code",
   "execution_count": null,
   "id": "49fb63d0-dc95-49e2-91b0-ee276adb3293",
   "metadata": {},
   "outputs": [],
   "source": []
  }
 ],
 "metadata": {
  "kernelspec": {
   "display_name": "Python 3 (ipykernel)",
   "language": "python",
   "name": "python3"
  },
  "language_info": {
   "codemirror_mode": {
    "name": "ipython",
    "version": 3
   },
   "file_extension": ".py",
   "mimetype": "text/x-python",
   "name": "python",
   "nbconvert_exporter": "python",
   "pygments_lexer": "ipython3",
   "version": "3.11.6"
  }
 },
 "nbformat": 4,
 "nbformat_minor": 5
}
